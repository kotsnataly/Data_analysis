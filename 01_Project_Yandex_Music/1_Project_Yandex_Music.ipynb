{
 "cells": [
  {
   "cell_type": "markdown",
   "metadata": {
    "id": "E0vqbgi9ay0H"
   },
   "source": [
    "# Яндекс.Музыка"
   ]
  },
  {
   "cell_type": "markdown",
   "metadata": {
    "id": "VUC88oWjTJw2"
   },
   "source": [
    "Сравнение Москвы и Петербурга окружено мифами. Например:\n",
    " * Москва — мегаполис, подчинённый жёсткому ритму рабочей недели;\n",
    " * Петербург — культурная столица, со своими вкусами.\n",
    "\n",
    "На данных Яндекс.Музыки я буду сравнивать поведение пользователей двух столиц.\n",
    "\n",
    "**Цель исследования** — проверю три гипотезы:\n",
    "1. Активность пользователей зависит от дня недели. Причём в Москве и Петербурге это проявляется по-разному.\n",
    "2. В понедельник утром в Москве преобладают одни жанры, а в Петербурге — другие. Так же и вечером пятницы преобладают разные жанры — в зависимости от города. \n",
    "3. Москва и Петербург предпочитают разные жанры музыки. В Москве чаще слушают поп-музыку, в Петербурге — русский рэп.\n",
    "\n",
    "**Ход исследования**\n",
    "\n",
    "Данные о поведении пользователей я получаю из файла `yandex_music_project.csv`. О качестве данных мне ничего не известно. Поэтому перед проверкой гипотез понадобится обзор данных. \n",
    "\n",
    "Я проверю данные на ошибки и оценю их влияние на исследование. Затем, на этапе предобработки я буду искать возможность исправить самые критичные ошибки данных.\n",
    " \n",
    "Таким образом, мое исследование пройдёт в три этапа:\n",
    " 1. Обзор данных.\n",
    " 2. Предобработка данных.\n",
    " 3. Проверка гипотез.\n",
    "\n"
   ]
  },
  {
   "cell_type": "markdown",
   "metadata": {
    "id": "Ml1hmfXC_Zcs"
   },
   "source": [
    "## Обзор данных\n",
    "\n",
    "Составление первого представления о данных Яндекс.Музыки.\n",
    "\n",
    "\n"
   ]
  },
  {
   "cell_type": "markdown",
   "metadata": {
    "id": "57eAOGIz_Zcs"
   },
   "source": [
    "Мой основной инструмент — `pandas`. Я импортирую эту библиотеку."
   ]
  },
  {
   "cell_type": "code",
   "execution_count": null,
   "metadata": {
    "id": "AXN7PHPN_Zcs"
   },
   "outputs": [],
   "source": [
    "import pandas as pd # импорт библиотеки pandas"
   ]
  },
  {
   "cell_type": "markdown",
   "metadata": {
    "id": "SG23P8tt_Zcs"
   },
   "source": [
    "Осуществляю чтение файла `yandex_music_project.csv` из папки `/datasets` и сохраняю его в переменной `df`:"
   ]
  },
  {
   "cell_type": "code",
   "execution_count": null,
   "metadata": {
    "id": "fFVu7vqh_Zct"
   },
   "outputs": [],
   "source": [
    "df = pd.read_csv('/datasets/yandex_music_project.csv') # чтение файла с данными и сохранение в df"
   ]
  },
  {
   "cell_type": "markdown",
   "metadata": {
    "id": "rDoOMd3uTqnZ"
   },
   "source": [
    "Вывожу на экран первые десять строк таблицы:"
   ]
  },
  {
   "cell_type": "code",
   "execution_count": null,
   "metadata": {
    "id": "oWTVX3gW_Zct"
   },
   "outputs": [],
   "source": [
    "display(df.head(10)) # получение первых 10 строк таблицы df"
   ]
  },
  {
   "cell_type": "markdown",
   "metadata": {
    "id": "EO73Kwic_Zct"
   },
   "source": [
    "Получаю общую информацию о таблице, с которой мне предстоит работать:"
   ]
  },
  {
   "cell_type": "code",
   "execution_count": null,
   "metadata": {
    "id": "DSf2kIb-_Zct"
   },
   "outputs": [],
   "source": [
    "df.info() # получение общей информации о данных в таблице df"
   ]
  },
  {
   "cell_type": "markdown",
   "metadata": {
    "id": "TaQ2Iwbr_Zct"
   },
   "source": [
    "Итак, в таблице семь столбцов. Тип данных во всех столбцах — `object`.\n",
    "\n",
    "Согласно документации к данным:\n",
    "* `userID` — идентификатор пользователя;\n",
    "* `Track` — название трека;  \n",
    "* `artist` — имя исполнителя;\n",
    "* `genre` — название жанра;\n",
    "* `City` — город пользователя;\n",
    "* `time` — время начала прослушивания;\n",
    "* `Day` — день недели.\n",
    "\n",
    "В названиях колонок видны три нарушения стиля:\n",
    "1. Строчные буквы сочетаются с прописными.\n",
    "2. Встречаются пробелы.\n",
    "3. Составное имя переменной написано без знака подчёркивания - слитно.\n",
    "\n",
    "\n",
    "\n",
    "Количество значений в столбцах различается. Значит, в данных есть пропущенные значения.\n"
   ]
  },
  {
   "cell_type": "markdown",
   "metadata": {
    "id": "MCB6-dXG_Zct"
   },
   "source": [
    "**Выводы**\n",
    "\n",
    "В каждой строке таблицы — данные о прослушанном треке. Часть колонок описывает саму композицию: название, исполнителя и жанр. Остальные данные рассказывают о пользователе: из какого он города, когда он слушал музыку. \n",
    "\n",
    "Предварительно можно утверждать, что, данных достаточно для проверки гипотез. Но встречаются пропуски в данных, а в названиях колонок — расхождения с хорошим стилем.\n",
    "\n",
    "Чтобы двигаться дальше, сначала я устраню проблемы в данных."
   ]
  },
  {
   "cell_type": "markdown",
   "metadata": {
    "id": "SjYF6Ub9_Zct"
   },
   "source": [
    "## Предобработка данных\n",
    "Исправление стиля в заголовках столбцов, исключение пропусков. Проверка данных на дубликаты."
   ]
  },
  {
   "cell_type": "markdown",
   "metadata": {
    "id": "dIaKXr29_Zct"
   },
   "source": [
    "### Стиль заголовков\n",
    "Вывожу на экран названия столбцов:"
   ]
  },
  {
   "cell_type": "code",
   "execution_count": null,
   "metadata": {
    "id": "oKOTdF_Q_Zct"
   },
   "outputs": [],
   "source": [
    "#print(df.columns) # перечень названий столбцов таблицы df\n",
    "df.columns"
   ]
  },
  {
   "cell_type": "markdown",
   "metadata": {
    "id": "zj5534cv_Zct"
   },
   "source": [
    "Привожу названия в соответствие с хорошим стилем:\n",
    "* несколько слов в названии записываю в «змеином_регистре»,\n",
    "* все символы делаю строчными,\n",
    "* устраняю пробелы.\n",
    "\n",
    "Для этого переименовываю колонки следующим образом:\n",
    "* `'  userID'` → `'user_id'`;\n",
    "* `'Track'` → `'track'`;\n",
    "* `'  City  '` → `'city'`;\n",
    "* `'Day'` → `'day'`."
   ]
  },
  {
   "cell_type": "code",
   "execution_count": null,
   "metadata": {
    "id": "ISlFqs5y_Zct"
   },
   "outputs": [],
   "source": [
    "df = df.rename(columns={'  userID': 'user_id', 'Track': 'track', '  City  ': 'city', 'Day': 'day'})\n",
    "# переименование столбцов"
   ]
  },
  {
   "cell_type": "markdown",
   "metadata": {
    "id": "1dqbh00J_Zct"
   },
   "source": [
    "Проверяю результат. Для этого ещё раз вывожу на экран названия столбцов:"
   ]
  },
  {
   "cell_type": "code",
   "execution_count": null,
   "metadata": {
    "id": "d4NOAmTW_Zct"
   },
   "outputs": [],
   "source": [
    "print(df.columns) # проверка результатов - перечень названий столбцов"
   ]
  },
  {
   "cell_type": "markdown",
   "metadata": {
    "id": "5ISfbcfY_Zct"
   },
   "source": [
    "### Пропуски значений\n",
    "Для начала считаю, сколько в таблице пропущенных значений. Для этого достаточно использую два метода `pandas` - isna( ) и sum( ):"
   ]
  },
  {
   "cell_type": "code",
   "execution_count": null,
   "metadata": {
    "id": "RskX29qr_Zct"
   },
   "outputs": [],
   "source": [
    "print(df.isna().sum()) # подсчёт пропусков"
   ]
  },
  {
   "cell_type": "markdown",
   "metadata": {
    "id": "qubhgnlO_Zct"
   },
   "source": [
    "Не все пропущенные значения влияют на исследование. Так в `track` и `artist` пропуски не важны для нашего исследования. Достаточно заменить их явными обозначениями.\n",
    "\n",
    "Но пропуски в `genre` могут помешать сравнению музыкальных вкусов в Москве и Санкт-Петербурге. На практике было бы правильно установить причину пропусков и восстановить данные. Но пока такой возможности нет, поэтому будут проведены следующие действия:\n",
    "* заполнены и эти пропуски явными обозначениями,\n",
    "* проведена оценка, насколько эта замена повредит расчётам. "
   ]
  },
  {
   "cell_type": "markdown",
   "metadata": {
    "id": "fSv2laPA_Zct"
   },
   "source": [
    "Заменяю пропущенные значения в столбцах `track`, `artist` и `genre` на строку `'unknown'`. Для этого создаю список `columns_to_replace`, перебираю его элементы циклом `for` и для каждого столбца выполняю замену пропущенных значений:"
   ]
  },
  {
   "cell_type": "code",
   "execution_count": null,
   "metadata": {
    "id": "KplB5qWs_Zct"
   },
   "outputs": [],
   "source": [
    "columns_to_replace = ['track', 'artist', 'genre']\n",
    "\n",
    "for element in columns_to_replace:\n",
    "    df[element] = df[element].fillna('unknown')\n",
    "\n",
    "# перебор названий столбцов в цикле и замена пропущенных значений на 'unknown'"
   ]
  },
  {
   "cell_type": "markdown",
   "metadata": {
    "id": "Ilsm-MZo_Zct"
   },
   "source": [
    "Провожу проверку, что в таблице не осталось пропусков. Для этого ещё раз подсчитываю пропущенные значения."
   ]
  },
  {
   "cell_type": "code",
   "execution_count": null,
   "metadata": {
    "id": "Tq4nYRX4_Zct"
   },
   "outputs": [],
   "source": [
    "print(df.isna().sum())\n",
    "# повторный подсчёт пропусков после выполнения замены значений (вернет нули при успешной замене)"
   ]
  },
  {
   "cell_type": "markdown",
   "metadata": {
    "id": "BWKRtBJ3_Zct"
   },
   "source": [
    "### Дубликаты\n",
    "Подсчет явных дубликатов в таблице:"
   ]
  },
  {
   "cell_type": "code",
   "execution_count": null,
   "metadata": {
    "id": "36eES_S0_Zct"
   },
   "outputs": [],
   "source": [
    "df.duplicated().sum() # подсчёт явных дубликатов\n",
    "df.info()"
   ]
  },
  {
   "cell_type": "markdown",
   "metadata": {
    "id": "Ot25h6XR_Zct"
   },
   "source": [
    "Вызываю специальный метод `pandas` drop_duplicates( ) для удаления явных дубликатов:"
   ]
  },
  {
   "cell_type": "code",
   "execution_count": 16,
   "metadata": {
    "id": "exFHq6tt_Zct"
   },
   "outputs": [],
   "source": [
    "df = df.drop_duplicates().reset_index(drop = True)\n",
    "# удаление явных дубликатов (с удалением старых индексов и формированием новых)"
   ]
  },
  {
   "cell_type": "markdown",
   "metadata": {
    "id": "Im2YwBEG_Zct"
   },
   "source": [
    "Ещё раз рассчитываю явные дубликаты в таблице для подтверждения корректности удаления:"
   ]
  },
  {
   "cell_type": "code",
   "execution_count": 17,
   "metadata": {
    "id": "-8PuNWQ0_Zct"
   },
   "outputs": [
    {
     "data": {
      "text/plain": [
       "0"
      ]
     },
     "execution_count": 17,
     "metadata": {},
     "output_type": "execute_result"
    }
   ],
   "source": [
    "df.duplicated().sum()\n",
    "# проверка на отсутствие дубликатов после удаления (вернет ноль при успешном удалении)"
   ]
  },
  {
   "cell_type": "markdown",
   "metadata": {
    "id": "QlFBsxAr_Zct"
   },
   "source": [
    "Теперь будем избавляться от неявных дубликатов в колонке `genre`. Например, название одного и того же жанра может быть записано немного по-разному. Такие ошибки тоже могут повлиять на результат моего исследования."
   ]
  },
  {
   "cell_type": "markdown",
   "metadata": {
    "id": "eSjWwsOh_Zct"
   },
   "source": [
    "Вывожу на экран список уникальных названий жанров, отсортированный в алфавитном порядке. Для этого:\n",
    "* извлекаю нужный столбец датафрейма, \n",
    "* применяю к нему метод сортировки,\n",
    "* для отсортированного столбца вызываю метод unique( ), который вернёт уникальные значения из столбца."
   ]
  },
  {
   "cell_type": "code",
   "execution_count": 18,
   "metadata": {
    "id": "JIUcqzZN_Zct"
   },
   "outputs": [
    {
     "name": "stdout",
     "output_type": "stream",
     "text": [
      "['acid' 'acoustic' 'action' 'adult' 'africa' 'afrikaans' 'alternative'\n",
      " 'alternativepunk' 'ambient' 'americana' 'animated' 'anime' 'arabesk'\n",
      " 'arabic' 'arena' 'argentinetango' 'art' 'audiobook' 'author' 'avantgarde'\n",
      " 'axé' 'baile' 'balkan' 'beats' 'bigroom' 'black' 'bluegrass' 'blues'\n",
      " 'bollywood' 'bossa' 'brazilian' 'breakbeat' 'breaks' 'broadway'\n",
      " 'cantautori' 'cantopop' 'canzone' 'caribbean' 'caucasian' 'celtic'\n",
      " 'chamber' 'chanson' 'children' 'chill' 'chinese' 'choral' 'christian'\n",
      " 'christmas' 'classical' 'classicmetal' 'club' 'colombian' 'comedy'\n",
      " 'conjazz' 'contemporary' 'country' 'cuban' 'dance' 'dancehall' 'dancepop'\n",
      " 'dark' 'death' 'deep' 'deutschrock' 'deutschspr' 'dirty' 'disco' 'dnb'\n",
      " 'documentary' 'downbeat' 'downtempo' 'drum' 'dub' 'dubstep' 'eastern'\n",
      " 'easy' 'electronic' 'electropop' 'emo' 'entehno' 'epicmetal' 'estrada'\n",
      " 'ethnic' 'eurofolk' 'european' 'experimental' 'extrememetal' 'fado'\n",
      " 'fairytail' 'film' 'fitness' 'flamenco' 'folk' 'folklore' 'folkmetal'\n",
      " 'folkrock' 'folktronica' 'forró' 'frankreich' 'französisch' 'french'\n",
      " 'funk' 'future' 'gangsta' 'garage' 'german' 'ghazal' 'gitarre' 'glitch'\n",
      " 'gospel' 'gothic' 'grime' 'grunge' 'gypsy' 'handsup' \"hard'n'heavy\"\n",
      " 'hardcore' 'hardstyle' 'hardtechno' 'hip' 'hip-hop' 'hiphop' 'historisch'\n",
      " 'holiday' 'hop' 'horror' 'house' 'hymn' 'idm' 'independent' 'indian'\n",
      " 'indie' 'indipop' 'industrial' 'inspirational' 'instrumental'\n",
      " 'international' 'irish' 'jam' 'japanese' 'jazz' 'jewish' 'jpop' 'jungle'\n",
      " 'k-pop' 'karadeniz' 'karaoke' 'kayokyoku' 'korean' 'laiko' 'latin'\n",
      " 'latino' 'leftfield' 'local' 'lounge' 'loungeelectronic' 'lovers'\n",
      " 'malaysian' 'mandopop' 'marschmusik' 'meditative' 'mediterranean'\n",
      " 'melodic' 'metal' 'metalcore' 'mexican' 'middle' 'minimal'\n",
      " 'miscellaneous' 'modern' 'mood' 'mpb' 'muslim' 'native' 'neoklassik'\n",
      " 'neue' 'new' 'newage' 'newwave' 'nu' 'nujazz' 'numetal' 'oceania' 'old'\n",
      " 'opera' 'orchestral' 'other' 'piano' 'podcasts' 'pop' 'popdance'\n",
      " 'popelectronic' 'popeurodance' 'poprussian' 'post' 'posthardcore'\n",
      " 'postrock' 'power' 'progmetal' 'progressive' 'psychedelic' 'punjabi'\n",
      " 'punk' 'quebecois' 'ragga' 'ram' 'rancheras' 'rap' 'rave' 'reggae'\n",
      " 'reggaeton' 'regional' 'relax' 'religious' 'retro' 'rhythm' 'rnb' 'rnr'\n",
      " 'rock' 'rockabilly' 'rockalternative' 'rockindie' 'rockother' 'romance'\n",
      " 'roots' 'ruspop' 'rusrap' 'rusrock' 'russian' 'salsa' 'samba' 'scenic'\n",
      " 'schlager' 'self' 'sertanejo' 'shanson' 'shoegazing' 'showtunes' 'singer'\n",
      " 'ska' 'skarock' 'slow' 'smooth' 'soft' 'soul' 'soulful' 'sound'\n",
      " 'soundtrack' 'southern' 'specialty' 'speech' 'spiritual' 'sport'\n",
      " 'stonerrock' 'surf' 'swing' 'synthpop' 'synthrock' 'sängerportrait'\n",
      " 'tango' 'tanzorchester' 'taraftar' 'tatar' 'tech' 'techno' 'teen'\n",
      " 'thrash' 'top' 'traditional' 'tradjazz' 'trance' 'tribal' 'trip'\n",
      " 'triphop' 'tropical' 'türk' 'türkçe' 'ukrrock' 'unknown' 'urban' 'uzbek'\n",
      " 'variété' 'vi' 'videogame' 'vocal' 'western' 'world' 'worldbeat' 'ïîï'\n",
      " 'электроника']\n",
      "\n",
      "Треки в жанре hip присутствуют\n",
      "Треки в жанре hop присутствуют\n",
      "Треки в жанре hip-hop присутствуют\n"
     ]
    }
   ],
   "source": [
    "genres_list = df['genre'].sort_values().unique()\n",
    "print(genres_list) # Просмотр уникальных названий жанров\n",
    "\n",
    "def find_genre(genre):\n",
    "    count = 0\n",
    "    for i in genres_list:\n",
    "        if i == genre:\n",
    "            count = count + 1\n",
    "    if count == 0:\n",
    "        print('Треки в жанре', genre, 'не обнаружены')\n",
    "    else:\n",
    "        print('Треки в жанре', genre, 'присутствуют')\n",
    "print()\n",
    "find_genre('hip')\n",
    "find_genre('hop')\n",
    "find_genre('hip-hop')\n",
    "# Проверка на неявные дубликаты"
   ]
  },
  {
   "cell_type": "markdown",
   "metadata": {
    "id": "qej-Qmuo_Zct"
   },
   "source": [
    "Просматривая полученный список, нахожу неявные дубликаты названия `hiphop`. В данном случае это альтернативные названия этого жанра - неявные дубликаты:\n",
    "* *hip*,\n",
    "* *hop*,\n",
    "* *hip-hop*.\n",
    "\n",
    "Чтобы очистить от них таблицу, пишу функцию `replace_wrong_genres()` с двумя параметрами: \n",
    "* `wrong_genres` — список дубликатов,\n",
    "* `correct_genre` — строка с правильным значением.\n",
    "\n",
    "Функция будет исправлять колонку `genre` в таблице `df` и заменять каждое значение из списка `wrong_genres` на значение из `correct_genre`."
   ]
  },
  {
   "cell_type": "code",
   "execution_count": 19,
   "metadata": {
    "id": "ErNDkmns_Zct"
   },
   "outputs": [],
   "source": [
    "def replace_wrong_genres(wrong_genres, correct_genre):    \n",
    "    for element in wrong_genres:\n",
    "        df['genre'] = df['genre'].replace(element, correct_genre)\n",
    "# Функция для замены неявных дубликатов"
   ]
  },
  {
   "cell_type": "markdown",
   "metadata": {
    "id": "aDoBJxbA_Zct"
   },
   "source": [
    "Вызываю `replace_wrong_genres()` и передаю ей аргументы, необходимые для устранения неявных дубликатов: вместо `hip`, `hop` и `hip-hop` в таблице должно быть значение `hiphop`:"
   ]
  },
  {
   "cell_type": "code",
   "execution_count": 20,
   "metadata": {
    "id": "YN5i2hpmSo09"
   },
   "outputs": [],
   "source": [
    "replace_wrong_genres(['hip', 'hop', 'hip-hop'], 'hiphop')\n",
    "# Устранение неявных дубликатов"
   ]
  },
  {
   "cell_type": "markdown",
   "metadata": {
    "id": "zQKF16_RG15m"
   },
   "source": [
    "После выполнения функции снова вывожу список уникальных значений столбца `genre` и проверяю, что неправильные названия в исходной таблице более не обнаруживаются:"
   ]
  },
  {
   "cell_type": "code",
   "execution_count": 21,
   "metadata": {
    "id": "wvixALnFG15m"
   },
   "outputs": [
    {
     "name": "stdout",
     "output_type": "stream",
     "text": [
      "['acid' 'acoustic' 'action' 'adult' 'africa' 'afrikaans' 'alternative'\n",
      " 'alternativepunk' 'ambient' 'americana' 'animated' 'anime' 'arabesk'\n",
      " 'arabic' 'arena' 'argentinetango' 'art' 'audiobook' 'author' 'avantgarde'\n",
      " 'axé' 'baile' 'balkan' 'beats' 'bigroom' 'black' 'bluegrass' 'blues'\n",
      " 'bollywood' 'bossa' 'brazilian' 'breakbeat' 'breaks' 'broadway'\n",
      " 'cantautori' 'cantopop' 'canzone' 'caribbean' 'caucasian' 'celtic'\n",
      " 'chamber' 'chanson' 'children' 'chill' 'chinese' 'choral' 'christian'\n",
      " 'christmas' 'classical' 'classicmetal' 'club' 'colombian' 'comedy'\n",
      " 'conjazz' 'contemporary' 'country' 'cuban' 'dance' 'dancehall' 'dancepop'\n",
      " 'dark' 'death' 'deep' 'deutschrock' 'deutschspr' 'dirty' 'disco' 'dnb'\n",
      " 'documentary' 'downbeat' 'downtempo' 'drum' 'dub' 'dubstep' 'eastern'\n",
      " 'easy' 'electronic' 'electropop' 'emo' 'entehno' 'epicmetal' 'estrada'\n",
      " 'ethnic' 'eurofolk' 'european' 'experimental' 'extrememetal' 'fado'\n",
      " 'fairytail' 'film' 'fitness' 'flamenco' 'folk' 'folklore' 'folkmetal'\n",
      " 'folkrock' 'folktronica' 'forró' 'frankreich' 'französisch' 'french'\n",
      " 'funk' 'future' 'gangsta' 'garage' 'german' 'ghazal' 'gitarre' 'glitch'\n",
      " 'gospel' 'gothic' 'grime' 'grunge' 'gypsy' 'handsup' \"hard'n'heavy\"\n",
      " 'hardcore' 'hardstyle' 'hardtechno' 'hiphop' 'historisch' 'holiday'\n",
      " 'horror' 'house' 'hymn' 'idm' 'independent' 'indian' 'indie' 'indipop'\n",
      " 'industrial' 'inspirational' 'instrumental' 'international' 'irish' 'jam'\n",
      " 'japanese' 'jazz' 'jewish' 'jpop' 'jungle' 'k-pop' 'karadeniz' 'karaoke'\n",
      " 'kayokyoku' 'korean' 'laiko' 'latin' 'latino' 'leftfield' 'local'\n",
      " 'lounge' 'loungeelectronic' 'lovers' 'malaysian' 'mandopop' 'marschmusik'\n",
      " 'meditative' 'mediterranean' 'melodic' 'metal' 'metalcore' 'mexican'\n",
      " 'middle' 'minimal' 'miscellaneous' 'modern' 'mood' 'mpb' 'muslim'\n",
      " 'native' 'neoklassik' 'neue' 'new' 'newage' 'newwave' 'nu' 'nujazz'\n",
      " 'numetal' 'oceania' 'old' 'opera' 'orchestral' 'other' 'piano' 'podcasts'\n",
      " 'pop' 'popdance' 'popelectronic' 'popeurodance' 'poprussian' 'post'\n",
      " 'posthardcore' 'postrock' 'power' 'progmetal' 'progressive' 'psychedelic'\n",
      " 'punjabi' 'punk' 'quebecois' 'ragga' 'ram' 'rancheras' 'rap' 'rave'\n",
      " 'reggae' 'reggaeton' 'regional' 'relax' 'religious' 'retro' 'rhythm'\n",
      " 'rnb' 'rnr' 'rock' 'rockabilly' 'rockalternative' 'rockindie' 'rockother'\n",
      " 'romance' 'roots' 'ruspop' 'rusrap' 'rusrock' 'russian' 'salsa' 'samba'\n",
      " 'scenic' 'schlager' 'self' 'sertanejo' 'shanson' 'shoegazing' 'showtunes'\n",
      " 'singer' 'ska' 'skarock' 'slow' 'smooth' 'soft' 'soul' 'soulful' 'sound'\n",
      " 'soundtrack' 'southern' 'specialty' 'speech' 'spiritual' 'sport'\n",
      " 'stonerrock' 'surf' 'swing' 'synthpop' 'synthrock' 'sängerportrait'\n",
      " 'tango' 'tanzorchester' 'taraftar' 'tatar' 'tech' 'techno' 'teen'\n",
      " 'thrash' 'top' 'traditional' 'tradjazz' 'trance' 'tribal' 'trip'\n",
      " 'triphop' 'tropical' 'türk' 'türkçe' 'ukrrock' 'unknown' 'urban' 'uzbek'\n",
      " 'variété' 'vi' 'videogame' 'vocal' 'western' 'world' 'worldbeat' 'ïîï'\n",
      " 'электроника']\n",
      "\n",
      "Треки в жанре hip не обнаружены\n",
      "Треки в жанре hop не обнаружены\n",
      "Треки в жанре hip-hop не обнаружены\n"
     ]
    }
   ],
   "source": [
    "genres_list = df['genre'].sort_values().unique()\n",
    "print(genres_list) # Просмотр уникальных названий жанров\n",
    "print()\n",
    "\n",
    "find_genre('hip')\n",
    "find_genre('hop')\n",
    "find_genre('hip-hop')\n",
    "# Проверка на неявные дубликаты"
   ]
  },
  {
   "cell_type": "markdown",
   "metadata": {
    "id": "jz6a9-7HQUDd"
   },
   "source": [
    "**Выводы**\n",
    "\n",
    "Предобработка обнаружила три проблемы в данных:\n",
    "\n",
    "- нарушения в стиле заголовков,\n",
    "- пропущенные значения,\n",
    "- дубликаты — явные и неявные.\n",
    "\n",
    "Были исправлены заголовки, чтобы упростить работу с таблицей. Без дубликатов исследование станет более точным.\n",
    "\n",
    "Пропущенные значения заменены на `'unknown'`. Ещё предстоит проанализировать, не повредят ли исследованию пропуски в колонке `genre`.\n",
    "\n",
    "Теперь можно перейти к проверке гипотез. "
   ]
  },
  {
   "cell_type": "markdown",
   "metadata": {
    "id": "WttZHXH0SqKk"
   },
   "source": [
    "## Проверка гипотез"
   ]
  },
  {
   "cell_type": "markdown",
   "metadata": {
    "id": "Im936VVi_Zcu"
   },
   "source": [
    "### Сравнение поведения пользователей двух столиц"
   ]
  },
  {
   "cell_type": "markdown",
   "metadata": {
    "id": "nwt_MuaL_Zcu"
   },
   "source": [
    "Первая гипотеза утверждает, что пользователи по-разному слушают музыку в Москве и Санкт-Петербурге. Буду проверять это предположение по данным о трёх днях недели — понедельнике, среде и пятнице. Для этого:\n",
    "\n",
    "* Разделю пользователей Москвы и Санкт-Петербурга\n",
    "* Сравню, сколько треков послушала каждая группа пользователей в понедельник, среду и пятницу.\n"
   ]
  },
  {
   "cell_type": "markdown",
   "metadata": {
    "id": "8Dw_YMmT_Zcu"
   },
   "source": [
    "Сначала выполню каждый из расчётов по-отдельности. \n",
    "\n",
    "Оценю активность пользователей в каждом городе. Сгруппирую данные по городу и посчитаю прослушивания в каждой группе."
   ]
  },
  {
   "cell_type": "code",
   "execution_count": 22,
   "metadata": {
    "id": "0_Qs96oh_Zcu"
   },
   "outputs": [
    {
     "data": {
      "text/plain": [
       "city\n",
       "Moscow              42741\n",
       "Saint-Petersburg    18512\n",
       "Name: user_id, dtype: int64"
      ]
     },
     "execution_count": 22,
     "metadata": {},
     "output_type": "execute_result"
    }
   ],
   "source": [
    "df.groupby('city')['user_id'].count()\n",
    "# Подсчёт прослушиваний в каждом городе"
   ]
  },
  {
   "cell_type": "markdown",
   "metadata": {
    "id": "dzli3w8o_Zcu"
   },
   "source": [
    "В Москве прослушиваний больше, чем в Петербурге. Из этого не следует, что московские пользователи чаще слушают музыку. Просто самих пользователей в Москве больше.\n",
    "\n",
    "Теперь сгруппирую данные по дню недели и подсчитаю прослушивания в понедельник, среду и пятницу.\n"
   ]
  },
  {
   "cell_type": "code",
   "execution_count": 23,
   "metadata": {
    "id": "uZMKjiJz_Zcu"
   },
   "outputs": [
    {
     "data": {
      "text/plain": [
       "day\n",
       "Friday       21840\n",
       "Monday       21354\n",
       "Wednesday    18059\n",
       "Name: user_id, dtype: int64"
      ]
     },
     "execution_count": 23,
     "metadata": {},
     "output_type": "execute_result"
    }
   ],
   "source": [
    "df.groupby('day')['user_id'].count()\n",
    "# Подсчёт прослушиваний в каждый из трёх дней"
   ]
  },
  {
   "cell_type": "markdown",
   "metadata": {
    "id": "cC2tNrlL_Zcu"
   },
   "source": [
    "В среднем пользователи из двух городов менее активны по средам. Но картина может измениться, если рассмотреть каждый город в отдельности."
   ]
  },
  {
   "cell_type": "markdown",
   "metadata": {
    "id": "POzs8bGa_Zcu"
   },
   "source": [
    "Создаю функцию `number_tracks()`, которая посчитает прослушивания для заданного дня и города. Ей понадобятся два параметра:\n",
    "* день недели,\n",
    "* название города.\n",
    "\n",
    "В функции сохраняю в переменную строки исходной таблицы, у которых значение:\n",
    "  * в колонке `day` равно параметру `day`,\n",
    "  * в колонке `city` равно параметру `city`.\n",
    "\n",
    "Для этого применяю последовательную фильтрацию с логической индексацией.\n",
    "\n",
    "Затем рассчитываю значения в столбце `user_id` получившейся таблицы. Результат сохраняю в новую переменную. В качестве результата выполнения функции возвращаю эту переменную."
   ]
  },
  {
   "cell_type": "code",
   "execution_count": 24,
   "metadata": {
    "id": "Nz3GdQB1_Zcu"
   },
   "outputs": [],
   "source": [
    "def number_tracks(day, city):\n",
    "    track_list = df[(df['day'] == day) & (df['city'] == city)]\n",
    "    track_list_count = track_list['user_id'].count()\n",
    "    return track_list_count\n",
    "\n",
    "# Функция для подсчёта прослушиваний для конкретного города и дня"
   ]
  },
  {
   "cell_type": "markdown",
   "metadata": {
    "id": "ytf7xFrFJQ2r"
   },
   "source": [
    "Вызываю `number_tracks()` шесть раз, меняя значение параметров — так, чтобы получить данные для каждого города в каждый из трёх дней."
   ]
  },
  {
   "cell_type": "code",
   "execution_count": 25,
   "metadata": {
    "id": "rJcRATNQ_Zcu"
   },
   "outputs": [
    {
     "name": "stdout",
     "output_type": "stream",
     "text": [
      "Количество прослушиваний в Москве по понедельникам - 15740\n"
     ]
    }
   ],
   "source": [
    "mon_msk = number_tracks('Monday', 'Moscow')\n",
    "print('Количество прослушиваний в Москве по понедельникам -', mon_msk)\n",
    "# количество прослушиваний в Москве по понедельникам"
   ]
  },
  {
   "cell_type": "code",
   "execution_count": 26,
   "metadata": {
    "id": "hq_ncZ5T_Zcu"
   },
   "outputs": [
    {
     "name": "stdout",
     "output_type": "stream",
     "text": [
      "Количество прослушиваний в Санкт-Петербурге по понедельникам - 5614\n"
     ]
    }
   ],
   "source": [
    "mon_spb = number_tracks('Monday', 'Saint-Petersburg')\n",
    "print('Количество прослушиваний в Санкт-Петербурге по понедельникам -', mon_spb)"
   ]
  },
  {
   "cell_type": "code",
   "execution_count": 27,
   "metadata": {
    "id": "_NTy2VPU_Zcu"
   },
   "outputs": [
    {
     "name": "stdout",
     "output_type": "stream",
     "text": [
      "Количество прослушиваний в Москве по средам - 11056\n"
     ]
    }
   ],
   "source": [
    "wed_msk = number_tracks('Wednesday', 'Moscow')\n",
    "print('Количество прослушиваний в Москве по средам -', wed_msk)"
   ]
  },
  {
   "cell_type": "code",
   "execution_count": 28,
   "metadata": {
    "id": "j2y3TAwo_Zcu"
   },
   "outputs": [
    {
     "name": "stdout",
     "output_type": "stream",
     "text": [
      "Количество прослушиваний в Санкт-Петербурге по средам - 7003\n"
     ]
    }
   ],
   "source": [
    "wed_spb = number_tracks('Wednesday', 'Saint-Petersburg')\n",
    "print('Количество прослушиваний в Санкт-Петербурге по средам -', wed_spb)"
   ]
  },
  {
   "cell_type": "code",
   "execution_count": 29,
   "metadata": {
    "id": "vYDw5u_K_Zcu"
   },
   "outputs": [
    {
     "name": "stdout",
     "output_type": "stream",
     "text": [
      "Количество прослушиваний в Москве по пятницам - 15945\n"
     ]
    }
   ],
   "source": [
    "fri_msk = number_tracks('Friday', 'Moscow')\n",
    "print('Количество прослушиваний в Москве по пятницам -', fri_msk)"
   ]
  },
  {
   "cell_type": "code",
   "execution_count": 30,
   "metadata": {
    "id": "8_yzFtW3_Zcu"
   },
   "outputs": [
    {
     "name": "stdout",
     "output_type": "stream",
     "text": [
      "Количество прослушиваний в Санкт-Петербурге по пятницам - 5895\n"
     ]
    }
   ],
   "source": [
    "fri_spb = number_tracks('Friday', 'Saint-Petersburg')\n",
    "print('Количество прослушиваний в Санкт-Петербурге по пятницам -', fri_spb)"
   ]
  },
  {
   "cell_type": "markdown",
   "metadata": {
    "id": "7QXffbO-_Zcu"
   },
   "source": [
    "Создаю c помощью конструктора `pd.DataFrame` таблицу, где\n",
    "* названия колонок — `['city', 'monday', 'wednesday', 'friday']`;\n",
    "* данные — результаты, которые я получила с помощью функции `number_tracks`."
   ]
  },
  {
   "cell_type": "code",
   "execution_count": 31,
   "metadata": {
    "id": "APAcLpOr_Zcu"
   },
   "outputs": [
    {
     "data": {
      "text/html": [
       "<div>\n",
       "<style scoped>\n",
       "    .dataframe tbody tr th:only-of-type {\n",
       "        vertical-align: middle;\n",
       "    }\n",
       "\n",
       "    .dataframe tbody tr th {\n",
       "        vertical-align: top;\n",
       "    }\n",
       "\n",
       "    .dataframe thead th {\n",
       "        text-align: right;\n",
       "    }\n",
       "</style>\n",
       "<table border=\"1\" class=\"dataframe\">\n",
       "  <thead>\n",
       "    <tr style=\"text-align: right;\">\n",
       "      <th></th>\n",
       "      <th>city</th>\n",
       "      <th>monday</th>\n",
       "      <th>wednesday</th>\n",
       "      <th>friday</th>\n",
       "    </tr>\n",
       "  </thead>\n",
       "  <tbody>\n",
       "    <tr>\n",
       "      <td>0</td>\n",
       "      <td>Moscow</td>\n",
       "      <td>15740</td>\n",
       "      <td>11056</td>\n",
       "      <td>15945</td>\n",
       "    </tr>\n",
       "    <tr>\n",
       "      <td>1</td>\n",
       "      <td>Saint-Petersburg</td>\n",
       "      <td>5614</td>\n",
       "      <td>7003</td>\n",
       "      <td>5895</td>\n",
       "    </tr>\n",
       "  </tbody>\n",
       "</table>\n",
       "</div>"
      ],
      "text/plain": [
       "               city  monday  wednesday  friday\n",
       "0            Moscow   15740      11056   15945\n",
       "1  Saint-Petersburg    5614       7003    5895"
      ]
     },
     "metadata": {},
     "output_type": "display_data"
    }
   ],
   "source": [
    "music_column = ['city', 'monday', 'wednesday', 'friday']\n",
    "#music_data = [['Moscow', 15740, 11056, 15945], ['Saint-Petersburg', 5614, 7003, 5895]]\n",
    "\n",
    "music_data = [['Moscow', mon_msk, wed_msk, fri_msk], ['Saint-Petersburg', mon_spb, wed_spb, fri_spb]]\n",
    "\n",
    "table = pd.DataFrame(data = music_data, columns = music_column)\n",
    "display(table)\n",
    "# Таблица с результатами"
   ]
  },
  {
   "cell_type": "markdown",
   "metadata": {
    "id": "-EgPIHYu_Zcu"
   },
   "source": [
    "**Выводы**\n",
    "\n",
    "Данные показывают разницу поведения пользователей:\n",
    "\n",
    "- В Москве пик прослушиваний приходится на понедельник и пятницу, а в среду заметен спад.\n",
    "- В Петербурге, наоборот, больше слушают музыку по средам. Активность в понедельник и пятницу здесь почти в равной мере уступает среде.\n",
    "\n",
    "Значит, данные говорят в пользу первой гипотезы."
   ]
  },
  {
   "cell_type": "markdown",
   "metadata": {
    "id": "atZAxtq4_Zcu"
   },
   "source": [
    "### Музыка в начале и в конце недели"
   ]
  },
  {
   "cell_type": "markdown",
   "metadata": {
    "id": "eXrQqXFH_Zcu"
   },
   "source": [
    "Согласно второй гипотезе, утром в понедельник в Москве преобладают одни жанры, а в Петербурге — другие. Так же и вечером пятницы преобладают разные жанры — в зависимости от города."
   ]
  },
  {
   "cell_type": "markdown",
   "metadata": {
    "id": "S8UcW6Hw_Zcu"
   },
   "source": [
    "Сохраняю таблицы с данными в две переменные:\n",
    "* по Москве — в `moscow_general`;\n",
    "* по Санкт-Петербургу — в `spb_general`."
   ]
  },
  {
   "cell_type": "code",
   "execution_count": 32,
   "metadata": {
    "id": "qeaFfM_P_Zcu"
   },
   "outputs": [],
   "source": [
    "moscow_general = df[df['city'] == 'Moscow']"
   ]
  },
  {
   "cell_type": "code",
   "execution_count": 33,
   "metadata": {
    "id": "ORaVRKto_Zcu"
   },
   "outputs": [],
   "source": [
    "spb_general = df[df['city'] == 'Saint-Petersburg']"
   ]
  },
  {
   "cell_type": "markdown",
   "metadata": {
    "id": "MEJV-CX2_Zcu"
   },
   "source": [
    "Создаю функцию `genre_weekday()` с четырьмя параметрами:\n",
    "* таблица (датафрейм) с данными,\n",
    "* день недели,\n",
    "* начальная временная метка в формате 'hh:mm', \n",
    "* последняя временная метка в формате 'hh:mm'.\n",
    "\n",
    "Функция будет возвращать информацию о топ-10 жанров тех треков, которые прослушивали в указанный день, в промежутке между двумя отметками времени."
   ]
  },
  {
   "cell_type": "code",
   "execution_count": 34,
   "metadata": {
    "id": "laJT9BYl_Zcu"
   },
   "outputs": [],
   "source": [
    "def genre_weekday(table, day, time1, time2):\n",
    "    genre_df = table[(table['day'] == day) & (table['time'] > time1) & (table['time'] < time2)]\n",
    "    genre_df_count = genre_df.groupby('genre')['genre'].count().sort_values(ascending=False).head(10)\n",
    "    return genre_df_count\n",
    "\n",
    "# Объявление функции genre_weekday(), которая возвращает информацию\n",
    "# о 10 самых популярных жанрах за указанный день за заданное время)"
   ]
  },
  {
   "cell_type": "markdown",
   "metadata": {
    "id": "la2s2_PF_Zcu"
   },
   "source": [
    "Cравниваю результаты функции `genre_weekday()` для Москвы и Санкт-Петербурга в понедельник утром (с 7:00 до 11:00) и в пятницу вечером (с 17:00 до 23:00):"
   ]
  },
  {
   "cell_type": "code",
   "execution_count": 35,
   "metadata": {
    "id": "yz7itPUQ_Zcu"
   },
   "outputs": [
    {
     "name": "stdout",
     "output_type": "stream",
     "text": [
      "\n",
      "Данные за утро по Москве\n"
     ]
    },
    {
     "data": {
      "text/plain": [
       "genre\n",
       "pop            781\n",
       "dance          549\n",
       "electronic     480\n",
       "rock           474\n",
       "hiphop         286\n",
       "ruspop         186\n",
       "world          181\n",
       "rusrap         175\n",
       "alternative    164\n",
       "unknown        161\n",
       "Name: genre, dtype: int64"
      ]
     },
     "execution_count": 35,
     "metadata": {},
     "output_type": "execute_result"
    }
   ],
   "source": [
    "print()\n",
    "print('Данные за утро по Москве')\n",
    "genre_weekday(moscow_general, 'Monday', '07:00:00', '11:00:00')"
   ]
  },
  {
   "cell_type": "code",
   "execution_count": 36,
   "metadata": {
    "id": "kwUcHPdy_Zcu"
   },
   "outputs": [
    {
     "name": "stdout",
     "output_type": "stream",
     "text": [
      "\n",
      "Данные за утро по Санкт-Петербургу\n"
     ]
    },
    {
     "data": {
      "text/plain": [
       "genre\n",
       "pop            218\n",
       "dance          182\n",
       "rock           162\n",
       "electronic     147\n",
       "hiphop          80\n",
       "ruspop          64\n",
       "alternative     58\n",
       "rusrap          55\n",
       "jazz            44\n",
       "classical       40\n",
       "Name: genre, dtype: int64"
      ]
     },
     "execution_count": 36,
     "metadata": {},
     "output_type": "execute_result"
    }
   ],
   "source": [
    "print()\n",
    "print('Данные за утро по Санкт-Петербургу')\n",
    "genre_weekday(spb_general, 'Monday', '07:00:00', '11:00:00')\n",
    "# вызов функции для утра понедельника в Петербурге (вместо df — таблица spb_general)"
   ]
  },
  {
   "cell_type": "code",
   "execution_count": 37,
   "metadata": {
    "id": "EzXVRE1o_Zcu"
   },
   "outputs": [
    {
     "name": "stdout",
     "output_type": "stream",
     "text": [
      "\n",
      "Данные за вечер по Москве\n"
     ]
    },
    {
     "data": {
      "text/plain": [
       "genre\n",
       "pop            713\n",
       "rock           517\n",
       "dance          495\n",
       "electronic     482\n",
       "hiphop         273\n",
       "world          208\n",
       "ruspop         170\n",
       "alternative    163\n",
       "classical      163\n",
       "rusrap         142\n",
       "Name: genre, dtype: int64"
      ]
     },
     "execution_count": 37,
     "metadata": {},
     "output_type": "execute_result"
    }
   ],
   "source": [
    "print()\n",
    "print('Данные за вечер по Москве')\n",
    "genre_weekday(moscow_general, 'Friday', '17:00:00', '23:00:00')\n",
    "# вызов функции для вечера пятницы в Москве"
   ]
  },
  {
   "cell_type": "code",
   "execution_count": 38,
   "metadata": {
    "id": "JZaEKu5v_Zcu"
   },
   "outputs": [
    {
     "name": "stdout",
     "output_type": "stream",
     "text": [
      "\n",
      "Данные за утро по Санкт-Петербургу\n"
     ]
    },
    {
     "data": {
      "text/plain": [
       "genre\n",
       "pop            256\n",
       "rock           216\n",
       "electronic     216\n",
       "dance          210\n",
       "hiphop          97\n",
       "alternative     63\n",
       "jazz            61\n",
       "classical       60\n",
       "rusrap          59\n",
       "world           54\n",
       "Name: genre, dtype: int64"
      ]
     },
     "execution_count": 38,
     "metadata": {},
     "output_type": "execute_result"
    }
   ],
   "source": [
    "print()\n",
    "print('Данные за утро по Санкт-Петербургу')\n",
    "genre_weekday(spb_general, 'Friday', '17:00:00', '23:00:00')\n",
    "# вызов функции для вечера пятницы в Петербурге"
   ]
  },
  {
   "cell_type": "markdown",
   "metadata": {
    "id": "wrCe4MNX_Zcu"
   },
   "source": [
    "**Выводы**\n",
    "\n",
    "Если сравнить топ-10 жанров в понедельник утром, можно сделать такие выводы:\n",
    "\n",
    "1. В Москве и Петербурге слушают похожую музыку. Единственное отличие — в московский рейтинг вошёл жанр “world”, а в петербургский — джаз и классика.\n",
    "\n",
    "2. В Москве пропущенных значений оказалось так много, что значение `'unknown'` заняло десятое место среди самых популярных жанров. Значит, пропущенные значения занимают существенную долю в данных и угрожают достоверности исследования.\n",
    "\n",
    "Вечер пятницы не меняет эту картину. Некоторые жанры поднимаются немного выше, другие спускаются, но в целом топ-10 остаётся тем же самым.\n",
    "\n",
    "Таким образом, вторая гипотеза подтвердилась лишь частично:\n",
    "* Пользователи слушают похожую музыку в начале недели и в конце.\n",
    "* Разница между Москвой и Петербургом не слишком выражена. В Москве чаще слушают русскую популярную музыку, в Петербурге — джаз.\n",
    "\n",
    "Однако пропуски в данных ставят под сомнение этот результат. В Москве их так много, что рейтинг топ-10 мог бы выглядеть иначе, если бы не утерянные  данные о жанрах."
   ]
  },
  {
   "cell_type": "markdown",
   "metadata": {
    "id": "JolODAqr_Zcu"
   },
   "source": [
    "### Жанровые предпочтения в Москве и Петербурге\n",
    "\n",
    "Гипотеза: Петербург — столица рэпа, музыку этого жанра там слушают чаще, чем в Москве.  А Москва — город контрастов, в котором, тем не менее, преобладает поп-музыка."
   ]
  },
  {
   "cell_type": "markdown",
   "metadata": {
    "id": "DlegSvaT_Zcu"
   },
   "source": [
    "Сгруппирую таблицу `moscow_general` по жанру и посчитаю прослушивания треков каждого жанра методом `count()`. Затем отсортирую результат в порядке убывания и сохраню его в таблице `moscow_genres`."
   ]
  },
  {
   "cell_type": "code",
   "execution_count": 39,
   "metadata": {
    "id": "r19lIPke_Zcu"
   },
   "outputs": [],
   "source": [
    "moscow_genres = moscow_general.groupby('genre')['genre'].count().sort_values(ascending=False)\n",
    "# подсчёт количества прослушиваний треков каждого жанра в Москве"
   ]
  },
  {
   "cell_type": "markdown",
   "metadata": {
    "id": "6kMuomxTiIr8"
   },
   "source": [
    "Вывожу на экран первые десять строк `moscow_genres`:"
   ]
  },
  {
   "cell_type": "code",
   "execution_count": 40,
   "metadata": {
    "id": "WhCSooF8_Zcv"
   },
   "outputs": [
    {
     "name": "stdout",
     "output_type": "stream",
     "text": [
      "genre\n",
      "pop            5892\n",
      "dance          4435\n",
      "rock           3965\n",
      "electronic     3786\n",
      "hiphop         2096\n",
      "classical      1616\n",
      "world          1432\n",
      "alternative    1379\n",
      "ruspop         1372\n",
      "rusrap         1161\n",
      "Name: genre, dtype: int64\n"
     ]
    }
   ],
   "source": [
    "print(moscow_genres.head(10))\n",
    "# просмотр первых 10 строк moscow_genres"
   ]
  },
  {
   "cell_type": "markdown",
   "metadata": {
    "id": "cnPG2vnN_Zcv"
   },
   "source": [
    "Теперь повторю то же и для Санкт-Петербурга.\n",
    "\n",
    "Сгруппирую таблицу `spb_general` по жанру. Посчитаю прослушивания треков каждого жанра. Результат отсортирую в порядке убывания и сохраню в таблице `spb_genres`:\n"
   ]
  },
  {
   "cell_type": "code",
   "execution_count": 41,
   "metadata": {
    "id": "gluLIpE7_Zcv"
   },
   "outputs": [],
   "source": [
    "spb_genres = spb_general.groupby('genre')['genre'].count().sort_values(ascending=False)\n",
    "# подсчёт количества прослушиваний треков каждого жанра в Санкт-Петербурге"
   ]
  },
  {
   "cell_type": "markdown",
   "metadata": {
    "id": "5Doha_ODgyQ8"
   },
   "source": [
    "Вывожу на экран первые десять строк `spb_genres`:"
   ]
  },
  {
   "cell_type": "code",
   "execution_count": 42,
   "metadata": {
    "id": "uaGJHjVU_Zcv"
   },
   "outputs": [
    {
     "name": "stdout",
     "output_type": "stream",
     "text": [
      "genre\n",
      "pop            2431\n",
      "dance          1932\n",
      "rock           1879\n",
      "electronic     1736\n",
      "hiphop          960\n",
      "alternative     649\n",
      "classical       646\n",
      "rusrap          564\n",
      "ruspop          538\n",
      "world           515\n",
      "Name: genre, dtype: int64\n"
     ]
    }
   ],
   "source": [
    "print(spb_genres.head(10))\n",
    "# просмотр первых 10 строк spb_genres"
   ]
  },
  {
   "cell_type": "markdown",
   "metadata": {
    "id": "RY51YJYu_Zcv"
   },
   "source": [
    "**Выводы**"
   ]
  },
  {
   "cell_type": "markdown",
   "metadata": {
    "id": "nVhnJEm__Zcv"
   },
   "source": [
    "Гипотеза частично подтвердилась:\n",
    "* Поп-музыка — самый популярный жанр в Москве, как и предполагала гипотеза. Более того, в топ-10 жанров встречается близкий жанр — русская популярная музыка.\n",
    "* Вопреки ожиданиям, рэп одинаково популярен в Москве и Петербурге. \n"
   ]
  },
  {
   "cell_type": "markdown",
   "metadata": {
    "id": "ykKQ0N65_Zcv"
   },
   "source": [
    "## Итоги исследования"
   ]
  },
  {
   "cell_type": "markdown",
   "metadata": {
    "id": "tjUwbHb3_Zcv"
   },
   "source": [
    "Я проверила три гипотезы и установила следующее:\n",
    "\n",
    "**Гипотеза №1.** День недели по-разному влияет на активность пользователей в Москве и Петербурге. \n",
    "\n",
    "Первая гипотеза полностью подтвердилась.\n",
    "\n",
    "**Гипотеза №2.** Музыкальные предпочтения не сильно меняются в течение недели — будь то Москва или Петербург. Небольшие различия заметны в начале недели, по понедельникам:\n",
    "* в Москве слушают музыку жанра “world”,\n",
    "* в Петербурге — джаз и классику.\n",
    "\n",
    "Таким образом, вторая гипотеза подтвердилась лишь отчасти. Этот результат мог оказаться иным, если бы не пропуски в данных.\n",
    "\n",
    "**Гипотеза №3.** Во вкусах пользователей Москвы и Петербурга больше общего чем различий. Вопреки ожиданиям, предпочтения жанров в Петербурге напоминают московские.\n",
    "\n",
    "Третья гипотеза не подтвердилась. Если различия в предпочтениях и существуют, на основной массе пользователей они незаметны.\n",
    "\n",
    "**На практике исследования содержат проверки статистических гипотез.**\n",
    "Из данных одного сервиса не всегда можно сделать вывод о всех жителях города.\n",
    "Проверки статистических гипотез покажут, насколько они достоверны, исходя из имеющихся данных."
   ]
  }
 ],
 "metadata": {
  "ExecuteTimeLog": [
   {
    "duration": 792,
    "start_time": "2021-12-03T15:18:34.752Z"
   },
   {
    "duration": 254,
    "start_time": "2021-12-03T15:18:35.982Z"
   },
   {
    "duration": 25,
    "start_time": "2021-12-03T15:19:10.018Z"
   },
   {
    "duration": 36,
    "start_time": "2021-12-03T15:19:28.480Z"
   },
   {
    "duration": 5,
    "start_time": "2021-12-03T15:20:13.763Z"
   },
   {
    "duration": 35,
    "start_time": "2021-12-03T15:34:46.374Z"
   },
   {
    "duration": 6,
    "start_time": "2021-12-03T15:35:11.911Z"
   },
   {
    "duration": 29,
    "start_time": "2021-12-03T15:36:47.298Z"
   },
   {
    "duration": 113,
    "start_time": "2021-12-03T15:43:05.658Z"
   },
   {
    "duration": 28,
    "start_time": "2021-12-03T15:43:21.472Z"
   },
   {
    "duration": 30,
    "start_time": "2021-12-03T15:44:34.120Z"
   },
   {
    "duration": 496,
    "start_time": "2021-12-03T15:46:46.026Z"
   },
   {
    "duration": 362,
    "start_time": "2021-12-03T15:47:24.737Z"
   },
   {
    "duration": 92,
    "start_time": "2021-12-03T15:47:38.923Z"
   },
   {
    "duration": 95,
    "start_time": "2021-12-03T15:47:49.609Z"
   },
   {
    "duration": 85,
    "start_time": "2021-12-03T15:48:03.101Z"
   },
   {
    "duration": 129,
    "start_time": "2021-12-03T15:49:01.212Z"
   },
   {
    "duration": 98,
    "start_time": "2021-12-03T15:49:51.833Z"
   },
   {
    "duration": 82,
    "start_time": "2021-12-03T15:51:20.643Z"
   },
   {
    "duration": 403,
    "start_time": "2021-12-03T15:54:46.170Z"
   },
   {
    "duration": 9468,
    "start_time": "2021-12-03T15:55:10.902Z"
   },
   {
    "duration": 467,
    "start_time": "2021-12-03T15:55:19.906Z"
   },
   {
    "duration": 98,
    "start_time": "2021-12-03T15:55:29.646Z"
   },
   {
    "duration": 95,
    "start_time": "2021-12-03T15:55:36.523Z"
   },
   {
    "duration": 71,
    "start_time": "2021-12-03T15:55:49.138Z"
   },
   {
    "duration": 72,
    "start_time": "2021-12-03T15:56:14.026Z"
   },
   {
    "duration": 62,
    "start_time": "2021-12-03T15:56:26.708Z"
   },
   {
    "duration": 57,
    "start_time": "2021-12-03T15:57:56.063Z"
   },
   {
    "duration": 5,
    "start_time": "2021-12-03T16:32:37.890Z"
   },
   {
    "duration": 10140,
    "start_time": "2021-12-03T16:34:00.297Z"
   },
   {
    "duration": 11789,
    "start_time": "2021-12-03T16:35:23.429Z"
   },
   {
    "duration": 129,
    "start_time": "2021-12-03T16:42:19.733Z"
   },
   {
    "duration": 4,
    "start_time": "2021-12-03T16:42:25.204Z"
   },
   {
    "duration": 743,
    "start_time": "2021-12-03T16:42:35.886Z"
   },
   {
    "duration": 5,
    "start_time": "2021-12-03T16:44:50.577Z"
   },
   {
    "duration": 747,
    "start_time": "2021-12-03T16:44:55.994Z"
   },
   {
    "duration": 737,
    "start_time": "2021-12-04T08:43:23.184Z"
   },
   {
    "duration": 215,
    "start_time": "2021-12-04T08:43:24.097Z"
   },
   {
    "duration": 27,
    "start_time": "2021-12-04T08:43:24.807Z"
   },
   {
    "duration": 32,
    "start_time": "2021-12-04T08:43:25.604Z"
   },
   {
    "duration": 5,
    "start_time": "2021-12-04T08:43:27.787Z"
   },
   {
    "duration": 26,
    "start_time": "2021-12-04T08:43:28.822Z"
   },
   {
    "duration": 5,
    "start_time": "2021-12-04T08:43:29.733Z"
   },
   {
    "duration": 29,
    "start_time": "2021-12-04T08:43:30.548Z"
   },
   {
    "duration": 22,
    "start_time": "2021-12-04T08:43:32.022Z"
   },
   {
    "duration": 27,
    "start_time": "2021-12-04T08:43:33.006Z"
   },
   {
    "duration": 83,
    "start_time": "2021-12-04T08:43:33.953Z"
   },
   {
    "duration": 91,
    "start_time": "2021-12-04T08:43:34.853Z"
   },
   {
    "duration": 76,
    "start_time": "2021-12-04T08:43:35.817Z"
   },
   {
    "duration": 54,
    "start_time": "2021-12-04T08:43:37.597Z"
   },
   {
    "duration": 4,
    "start_time": "2021-12-04T08:43:39.291Z"
   },
   {
    "duration": 942,
    "start_time": "2021-12-04T08:43:45.183Z"
   },
   {
    "duration": 5,
    "start_time": "2021-12-04T08:44:19.642Z"
   },
   {
    "duration": 721,
    "start_time": "2021-12-04T08:44:21.056Z"
   },
   {
    "duration": 10,
    "start_time": "2021-12-04T08:46:01.400Z"
   },
   {
    "duration": 22,
    "start_time": "2021-12-04T08:46:27.034Z"
   },
   {
    "duration": 5,
    "start_time": "2021-12-04T08:47:07.465Z"
   },
   {
    "duration": 788,
    "start_time": "2021-12-04T08:47:10.960Z"
   },
   {
    "duration": 4,
    "start_time": "2021-12-04T08:47:38.288Z"
   },
   {
    "duration": 728,
    "start_time": "2021-12-04T08:47:39.620Z"
   },
   {
    "duration": 4,
    "start_time": "2021-12-04T08:48:51.736Z"
   },
   {
    "duration": 801,
    "start_time": "2021-12-04T08:48:53.188Z"
   },
   {
    "duration": 133,
    "start_time": "2021-12-04T08:54:11.106Z"
   },
   {
    "duration": 5,
    "start_time": "2021-12-04T08:54:19.809Z"
   },
   {
    "duration": 712,
    "start_time": "2021-12-04T08:54:23.352Z"
   },
   {
    "duration": 4,
    "start_time": "2021-12-04T08:56:13.613Z"
   },
   {
    "duration": 791,
    "start_time": "2021-12-04T08:56:15.071Z"
   },
   {
    "duration": 4,
    "start_time": "2021-12-04T09:27:59.151Z"
   },
   {
    "duration": 14,
    "start_time": "2021-12-04T09:28:00.498Z"
   },
   {
    "duration": 114,
    "start_time": "2021-12-04T09:44:58.787Z"
   },
   {
    "duration": 374,
    "start_time": "2021-12-04T09:49:04.987Z"
   },
   {
    "duration": 79,
    "start_time": "2021-12-04T09:50:44.022Z"
   },
   {
    "duration": 7,
    "start_time": "2021-12-04T09:51:37.086Z"
   },
   {
    "duration": 7,
    "start_time": "2021-12-04T09:52:11.966Z"
   },
   {
    "duration": 117,
    "start_time": "2021-12-04T09:52:27.021Z"
   },
   {
    "duration": 6,
    "start_time": "2021-12-04T09:52:42.205Z"
   },
   {
    "duration": 117,
    "start_time": "2021-12-04T09:54:06.478Z"
   },
   {
    "duration": 7,
    "start_time": "2021-12-04T09:54:13.449Z"
   },
   {
    "duration": 134,
    "start_time": "2021-12-04T09:55:45.609Z"
   },
   {
    "duration": 430,
    "start_time": "2021-12-04T09:55:53.081Z"
   },
   {
    "duration": 8,
    "start_time": "2021-12-04T09:56:32.072Z"
   },
   {
    "duration": 7,
    "start_time": "2021-12-04T09:57:05.035Z"
   },
   {
    "duration": 12,
    "start_time": "2021-12-04T09:58:46.758Z"
   },
   {
    "duration": 59,
    "start_time": "2021-12-04T09:59:33.658Z"
   },
   {
    "duration": 61,
    "start_time": "2021-12-04T10:00:52.079Z"
   },
   {
    "duration": 3,
    "start_time": "2021-12-04T10:01:53.831Z"
   },
   {
    "duration": 183,
    "start_time": "2021-12-04T10:01:55.370Z"
   },
   {
    "duration": 16,
    "start_time": "2021-12-04T10:01:56.565Z"
   },
   {
    "duration": 31,
    "start_time": "2021-12-04T10:01:57.891Z"
   },
   {
    "duration": 5,
    "start_time": "2021-12-04T10:02:00.954Z"
   },
   {
    "duration": 25,
    "start_time": "2021-12-04T10:02:04.382Z"
   },
   {
    "duration": 4,
    "start_time": "2021-12-04T10:02:05.754Z"
   },
   {
    "duration": 29,
    "start_time": "2021-12-04T10:02:07.140Z"
   },
   {
    "duration": 24,
    "start_time": "2021-12-04T10:02:08.681Z"
   },
   {
    "duration": 30,
    "start_time": "2021-12-04T10:02:10.178Z"
   },
   {
    "duration": 88,
    "start_time": "2021-12-04T10:02:11.717Z"
   },
   {
    "duration": 97,
    "start_time": "2021-12-04T10:02:13.030Z"
   },
   {
    "duration": 77,
    "start_time": "2021-12-04T10:02:14.176Z"
   },
   {
    "duration": 62,
    "start_time": "2021-12-04T10:02:16.956Z"
   },
   {
    "duration": 7,
    "start_time": "2021-12-04T10:02:21.762Z"
   },
   {
    "duration": 15,
    "start_time": "2021-12-04T10:02:23.774Z"
   },
   {
    "duration": 62,
    "start_time": "2021-12-04T10:02:29.077Z"
   },
   {
    "duration": 4,
    "start_time": "2021-12-04T10:02:44.667Z"
   },
   {
    "duration": 13,
    "start_time": "2021-12-04T10:02:47.468Z"
   },
   {
    "duration": 59,
    "start_time": "2021-12-04T10:02:53.015Z"
   },
   {
    "duration": 57,
    "start_time": "2021-12-04T10:03:04.526Z"
   },
   {
    "duration": 3,
    "start_time": "2021-12-04T10:03:14.345Z"
   },
   {
    "duration": 197,
    "start_time": "2021-12-04T10:03:15.006Z"
   },
   {
    "duration": 16,
    "start_time": "2021-12-04T10:03:15.556Z"
   },
   {
    "duration": 32,
    "start_time": "2021-12-04T10:03:16.115Z"
   },
   {
    "duration": 5,
    "start_time": "2021-12-04T10:03:17.506Z"
   },
   {
    "duration": 22,
    "start_time": "2021-12-04T10:03:18.070Z"
   },
   {
    "duration": 5,
    "start_time": "2021-12-04T10:03:18.630Z"
   },
   {
    "duration": 30,
    "start_time": "2021-12-04T10:03:19.175Z"
   },
   {
    "duration": 22,
    "start_time": "2021-12-04T10:03:19.982Z"
   },
   {
    "duration": 30,
    "start_time": "2021-12-04T10:03:21.843Z"
   },
   {
    "duration": 96,
    "start_time": "2021-12-04T10:03:21.877Z"
   },
   {
    "duration": 89,
    "start_time": "2021-12-04T10:03:23.990Z"
   },
   {
    "duration": 74,
    "start_time": "2021-12-04T10:03:27.594Z"
   },
   {
    "duration": 58,
    "start_time": "2021-12-04T10:03:32.217Z"
   },
   {
    "duration": 56,
    "start_time": "2021-12-04T10:03:53.778Z"
   },
   {
    "duration": 5,
    "start_time": "2021-12-04T10:04:13.119Z"
   },
   {
    "duration": 65,
    "start_time": "2021-12-04T10:04:21.302Z"
   },
   {
    "duration": 4,
    "start_time": "2021-12-04T10:04:27.188Z"
   },
   {
    "duration": 14,
    "start_time": "2021-12-04T10:04:28.414Z"
   },
   {
    "duration": 62,
    "start_time": "2021-12-04T10:04:35.783Z"
   },
   {
    "duration": 59,
    "start_time": "2021-12-04T10:04:43.110Z"
   },
   {
    "duration": 63,
    "start_time": "2021-12-04T10:05:03.825Z"
   },
   {
    "duration": 395,
    "start_time": "2021-12-04T10:05:37.776Z"
   },
   {
    "duration": 15,
    "start_time": "2021-12-04T10:05:44.912Z"
   },
   {
    "duration": 15,
    "start_time": "2021-12-04T10:06:00.244Z"
   },
   {
    "duration": 14,
    "start_time": "2021-12-04T10:06:05.697Z"
   },
   {
    "duration": 365,
    "start_time": "2021-12-04T10:06:44.494Z"
   },
   {
    "duration": 14,
    "start_time": "2021-12-04T10:06:51.223Z"
   },
   {
    "duration": 13,
    "start_time": "2021-12-04T10:07:50.210Z"
   },
   {
    "duration": 5,
    "start_time": "2021-12-04T10:09:48.870Z"
   },
   {
    "duration": -28,
    "start_time": "2021-12-04T10:10:26.177Z"
   },
   {
    "duration": 4,
    "start_time": "2021-12-04T10:10:27.361Z"
   },
   {
    "duration": 17636,
    "start_time": "2021-12-04T10:10:30.567Z"
   },
   {
    "duration": -49,
    "start_time": "2021-12-04T10:10:48.256Z"
   },
   {
    "duration": 5,
    "start_time": "2021-12-04T10:11:03.007Z"
   },
   {
    "duration": 21,
    "start_time": "2021-12-04T10:11:04.682Z"
   },
   {
    "duration": 16,
    "start_time": "2021-12-04T10:13:01.999Z"
   },
   {
    "duration": 15,
    "start_time": "2021-12-04T10:13:22.431Z"
   },
   {
    "duration": 21,
    "start_time": "2021-12-04T10:16:25.639Z"
   },
   {
    "duration": 19,
    "start_time": "2021-12-04T10:16:26.206Z"
   },
   {
    "duration": 21,
    "start_time": "2021-12-04T10:16:26.878Z"
   },
   {
    "duration": 19,
    "start_time": "2021-12-04T10:16:27.465Z"
   },
   {
    "duration": 22,
    "start_time": "2021-12-04T10:16:28.462Z"
   },
   {
    "duration": 28,
    "start_time": "2021-12-04T10:16:28.979Z"
   },
   {
    "duration": 12,
    "start_time": "2021-12-04T10:18:22.717Z"
   },
   {
    "duration": 16,
    "start_time": "2021-12-04T10:22:10.201Z"
   },
   {
    "duration": 13,
    "start_time": "2021-12-04T10:22:10.830Z"
   },
   {
    "duration": 6,
    "start_time": "2021-12-04T12:00:15.757Z"
   },
   {
    "duration": 919,
    "start_time": "2021-12-04T12:00:17.094Z"
   },
   {
    "duration": 4,
    "start_time": "2021-12-04T12:00:50.656Z"
   },
   {
    "duration": 237,
    "start_time": "2021-12-04T12:00:50.916Z"
   },
   {
    "duration": 16,
    "start_time": "2021-12-04T12:00:51.293Z"
   },
   {
    "duration": 36,
    "start_time": "2021-12-04T12:00:51.641Z"
   },
   {
    "duration": 6,
    "start_time": "2021-12-04T12:00:52.583Z"
   },
   {
    "duration": 28,
    "start_time": "2021-12-04T12:00:52.939Z"
   },
   {
    "duration": 5,
    "start_time": "2021-12-04T12:00:53.310Z"
   },
   {
    "duration": 29,
    "start_time": "2021-12-04T12:00:53.674Z"
   },
   {
    "duration": 24,
    "start_time": "2021-12-04T12:00:54.237Z"
   },
   {
    "duration": 30,
    "start_time": "2021-12-04T12:00:54.638Z"
   },
   {
    "duration": 88,
    "start_time": "2021-12-04T12:00:55.116Z"
   },
   {
    "duration": 95,
    "start_time": "2021-12-04T12:00:55.517Z"
   },
   {
    "duration": 108,
    "start_time": "2021-12-04T12:00:55.882Z"
   },
   {
    "duration": 97,
    "start_time": "2021-12-04T12:00:56.462Z"
   },
   {
    "duration": 4,
    "start_time": "2021-12-04T12:00:56.850Z"
   },
   {
    "duration": 15,
    "start_time": "2021-12-04T12:00:57.262Z"
   },
   {
    "duration": 66,
    "start_time": "2021-12-04T12:00:57.681Z"
   },
   {
    "duration": 18,
    "start_time": "2021-12-04T12:01:00.379Z"
   },
   {
    "duration": 18,
    "start_time": "2021-12-04T12:01:01.412Z"
   },
   {
    "duration": 5,
    "start_time": "2021-12-04T12:01:06.308Z"
   },
   {
    "duration": 31,
    "start_time": "2021-12-04T12:01:06.317Z"
   },
   {
    "duration": 21,
    "start_time": "2021-12-04T12:01:09.363Z"
   },
   {
    "duration": 21,
    "start_time": "2021-12-04T12:01:10.064Z"
   },
   {
    "duration": 20,
    "start_time": "2021-12-04T12:01:10.320Z"
   },
   {
    "duration": 29,
    "start_time": "2021-12-04T12:01:10.642Z"
   },
   {
    "duration": 19,
    "start_time": "2021-12-04T12:01:10.979Z"
   },
   {
    "duration": 13,
    "start_time": "2021-12-04T12:01:11.633Z"
   },
   {
    "duration": 16,
    "start_time": "2021-12-04T12:01:14.117Z"
   },
   {
    "duration": 13,
    "start_time": "2021-12-04T12:01:14.846Z"
   },
   {
    "duration": 5,
    "start_time": "2021-12-04T12:01:17.425Z"
   },
   {
    "duration": 829,
    "start_time": "2021-12-04T12:01:19.646Z"
   },
   {
    "duration": 5,
    "start_time": "2021-12-04T12:01:44.154Z"
   },
   {
    "duration": 1027,
    "start_time": "2021-12-04T12:01:45.285Z"
   },
   {
    "duration": 5,
    "start_time": "2021-12-04T12:01:59.305Z"
   },
   {
    "duration": 79,
    "start_time": "2021-12-04T12:02:00.556Z"
   },
   {
    "duration": 94,
    "start_time": "2021-12-04T12:02:43.105Z"
   },
   {
    "duration": 18,
    "start_time": "2021-12-04T12:07:01.588Z"
   },
   {
    "duration": 85,
    "start_time": "2021-12-04T12:07:04.708Z"
   },
   {
    "duration": 5,
    "start_time": "2021-12-04T13:11:55.719Z"
   },
   {
    "duration": 30,
    "start_time": "2021-12-04T13:11:58.129Z"
   },
   {
    "duration": 8,
    "start_time": "2021-12-04T13:13:28.411Z"
   },
   {
    "duration": 4,
    "start_time": "2021-12-04T13:13:29.680Z"
   },
   {
    "duration": 5,
    "start_time": "2021-12-04T13:14:48.712Z"
   },
   {
    "duration": 3,
    "start_time": "2021-12-04T13:14:49.819Z"
   },
   {
    "duration": 19,
    "start_time": "2021-12-04T13:14:50.793Z"
   },
   {
    "duration": 3,
    "start_time": "2021-12-04T13:17:40.542Z"
   },
   {
    "duration": 208,
    "start_time": "2021-12-04T13:17:41.195Z"
   },
   {
    "duration": 15,
    "start_time": "2021-12-04T13:17:41.719Z"
   },
   {
    "duration": 35,
    "start_time": "2021-12-04T13:17:42.045Z"
   },
   {
    "duration": 4,
    "start_time": "2021-12-04T13:17:42.915Z"
   },
   {
    "duration": 21,
    "start_time": "2021-12-04T13:17:43.268Z"
   },
   {
    "duration": 5,
    "start_time": "2021-12-04T13:17:43.803Z"
   },
   {
    "duration": 35,
    "start_time": "2021-12-04T13:17:44.185Z"
   },
   {
    "duration": 24,
    "start_time": "2021-12-04T13:17:44.732Z"
   },
   {
    "duration": 37,
    "start_time": "2021-12-04T13:17:45.101Z"
   },
   {
    "duration": 84,
    "start_time": "2021-12-04T13:17:45.472Z"
   },
   {
    "duration": 101,
    "start_time": "2021-12-04T13:17:45.836Z"
   },
   {
    "duration": 183,
    "start_time": "2021-12-04T13:17:46.208Z"
   },
   {
    "duration": 62,
    "start_time": "2021-12-04T13:17:46.765Z"
   },
   {
    "duration": 4,
    "start_time": "2021-12-04T13:17:47.132Z"
   },
   {
    "duration": 14,
    "start_time": "2021-12-04T13:17:47.502Z"
   },
   {
    "duration": 63,
    "start_time": "2021-12-04T13:17:47.888Z"
   },
   {
    "duration": 17,
    "start_time": "2021-12-04T13:17:49.316Z"
   },
   {
    "duration": 16,
    "start_time": "2021-12-04T13:17:49.902Z"
   },
   {
    "duration": 5,
    "start_time": "2021-12-04T13:17:50.710Z"
   },
   {
    "duration": 22,
    "start_time": "2021-12-04T13:17:51.336Z"
   },
   {
    "duration": 21,
    "start_time": "2021-12-04T13:17:51.507Z"
   },
   {
    "duration": 24,
    "start_time": "2021-12-04T13:17:51.720Z"
   },
   {
    "duration": 19,
    "start_time": "2021-12-04T13:17:52.210Z"
   },
   {
    "duration": 34,
    "start_time": "2021-12-04T13:17:52.416Z"
   },
   {
    "duration": 31,
    "start_time": "2021-12-04T13:17:52.611Z"
   },
   {
    "duration": 20,
    "start_time": "2021-12-04T13:17:53.140Z"
   },
   {
    "duration": 23,
    "start_time": "2021-12-04T13:17:55.190Z"
   },
   {
    "duration": 26,
    "start_time": "2021-12-04T13:17:55.770Z"
   },
   {
    "duration": 7,
    "start_time": "2021-12-04T13:18:00.944Z"
   },
   {
    "duration": 3,
    "start_time": "2021-12-04T13:18:04.501Z"
   },
   {
    "duration": 22,
    "start_time": "2021-12-04T13:18:09.710Z"
   },
   {
    "duration": 26,
    "start_time": "2021-12-04T13:18:13.539Z"
   },
   {
    "duration": 19,
    "start_time": "2021-12-04T13:18:18.083Z"
   },
   {
    "duration": 25,
    "start_time": "2021-12-04T13:19:34.695Z"
   },
   {
    "duration": 19,
    "start_time": "2021-12-04T13:27:11.170Z"
   },
   {
    "duration": 11,
    "start_time": "2021-12-04T13:28:55.411Z"
   },
   {
    "duration": 5,
    "start_time": "2021-12-04T13:29:23.973Z"
   },
   {
    "duration": 390,
    "start_time": "2021-12-04T13:30:51.887Z"
   },
   {
    "duration": 9,
    "start_time": "2021-12-04T13:30:54.147Z"
   },
   {
    "duration": 5,
    "start_time": "2021-12-04T13:30:55.431Z"
   },
   {
    "duration": 66,
    "start_time": "2021-12-04T15:09:15.536Z"
   },
   {
    "duration": 60,
    "start_time": "2021-12-04T15:11:13.486Z"
   },
   {
    "duration": 4,
    "start_time": "2021-12-04T15:11:27.625Z"
   },
   {
    "duration": 188,
    "start_time": "2021-12-04T15:11:28.319Z"
   },
   {
    "duration": 25,
    "start_time": "2021-12-04T15:11:28.974Z"
   },
   {
    "duration": 34,
    "start_time": "2021-12-04T15:11:29.489Z"
   },
   {
    "duration": 5,
    "start_time": "2021-12-04T15:11:30.881Z"
   },
   {
    "duration": 20,
    "start_time": "2021-12-04T15:11:31.532Z"
   },
   {
    "duration": 5,
    "start_time": "2021-12-04T15:11:31.952Z"
   },
   {
    "duration": 31,
    "start_time": "2021-12-04T15:11:32.414Z"
   },
   {
    "duration": 24,
    "start_time": "2021-12-04T15:11:33.106Z"
   },
   {
    "duration": 31,
    "start_time": "2021-12-04T15:11:33.566Z"
   },
   {
    "duration": 82,
    "start_time": "2021-12-04T15:11:34.013Z"
   },
   {
    "duration": 93,
    "start_time": "2021-12-04T15:11:34.495Z"
   },
   {
    "duration": 79,
    "start_time": "2021-12-04T15:11:34.930Z"
   },
   {
    "duration": 57,
    "start_time": "2021-12-04T15:11:38.660Z"
   },
   {
    "duration": 4,
    "start_time": "2021-12-04T15:11:43.036Z"
   },
   {
    "duration": 14,
    "start_time": "2021-12-04T15:11:47.534Z"
   },
   {
    "duration": 64,
    "start_time": "2021-12-04T15:11:54.648Z"
   },
   {
    "duration": 61,
    "start_time": "2021-12-04T15:19:54.602Z"
   },
   {
    "duration": 3,
    "start_time": "2021-12-04T15:20:05.260Z"
   },
   {
    "duration": 196,
    "start_time": "2021-12-04T15:20:05.840Z"
   },
   {
    "duration": 15,
    "start_time": "2021-12-04T15:20:06.358Z"
   },
   {
    "duration": 33,
    "start_time": "2021-12-04T15:20:06.841Z"
   },
   {
    "duration": 4,
    "start_time": "2021-12-04T15:20:08.414Z"
   },
   {
    "duration": 19,
    "start_time": "2021-12-04T15:20:09.236Z"
   },
   {
    "duration": 4,
    "start_time": "2021-12-04T15:20:10.059Z"
   },
   {
    "duration": 30,
    "start_time": "2021-12-04T15:20:10.957Z"
   },
   {
    "duration": 26,
    "start_time": "2021-12-04T15:20:12.431Z"
   },
   {
    "duration": 31,
    "start_time": "2021-12-04T15:20:13.641Z"
   },
   {
    "duration": 82,
    "start_time": "2021-12-04T15:20:15.332Z"
   },
   {
    "duration": 140,
    "start_time": "2021-12-04T15:20:16.160Z"
   },
   {
    "duration": 76,
    "start_time": "2021-12-04T15:20:17.204Z"
   },
   {
    "duration": 60,
    "start_time": "2021-12-04T15:20:19.917Z"
   },
   {
    "duration": 61,
    "start_time": "2021-12-04T15:20:36.689Z"
   },
   {
    "duration": 21,
    "start_time": "2021-12-04T15:40:09.786Z"
   },
   {
    "duration": 24,
    "start_time": "2021-12-04T15:44:09.445Z"
   },
   {
    "duration": 18,
    "start_time": "2021-12-04T15:44:11.548Z"
   },
   {
    "duration": 21,
    "start_time": "2021-12-04T15:44:13.213Z"
   },
   {
    "duration": 18,
    "start_time": "2021-12-04T15:44:15.748Z"
   },
   {
    "duration": 21,
    "start_time": "2021-12-04T15:44:18.894Z"
   },
   {
    "duration": 18,
    "start_time": "2021-12-04T15:44:22.696Z"
   },
   {
    "duration": 31,
    "start_time": "2021-12-04T15:50:16.030Z"
   },
   {
    "duration": 26,
    "start_time": "2021-12-04T15:50:32.829Z"
   },
   {
    "duration": 29,
    "start_time": "2021-12-04T15:50:54.764Z"
   },
   {
    "duration": 19,
    "start_time": "2021-12-04T15:51:29.229Z"
   },
   {
    "duration": 25,
    "start_time": "2021-12-04T15:52:48.189Z"
   },
   {
    "duration": 19,
    "start_time": "2021-12-04T15:53:08.743Z"
   },
   {
    "duration": 205,
    "start_time": "2021-12-05T20:51:08.653Z"
   },
   {
    "duration": 59,
    "start_time": "2021-12-05T20:52:25.371Z"
   },
   {
    "duration": 570,
    "start_time": "2021-12-05T20:53:25.065Z"
   },
   {
    "duration": 153,
    "start_time": "2021-12-05T20:53:25.881Z"
   },
   {
    "duration": 17,
    "start_time": "2021-12-05T20:53:26.733Z"
   },
   {
    "duration": 24,
    "start_time": "2021-12-05T20:53:28.496Z"
   },
   {
    "duration": 3,
    "start_time": "2021-12-05T20:53:31.582Z"
   },
   {
    "duration": 230,
    "start_time": "2021-12-05T20:53:53.972Z"
   },
   {
    "duration": 5,
    "start_time": "2021-12-05T20:54:00.714Z"
   },
   {
    "duration": 22,
    "start_time": "2021-12-05T20:54:11.434Z"
   },
   {
    "duration": 4,
    "start_time": "2021-12-05T20:54:12.147Z"
   },
   {
    "duration": 23,
    "start_time": "2021-12-05T20:54:12.771Z"
   },
   {
    "duration": 17,
    "start_time": "2021-12-05T20:54:13.926Z"
   },
   {
    "duration": 22,
    "start_time": "2021-12-05T20:54:14.807Z"
   },
   {
    "duration": 56,
    "start_time": "2021-12-05T20:54:15.404Z"
   },
   {
    "duration": 67,
    "start_time": "2021-12-05T20:54:16.299Z"
   },
   {
    "duration": 50,
    "start_time": "2021-12-05T20:54:16.849Z"
   },
   {
    "duration": 40,
    "start_time": "2021-12-05T20:54:17.892Z"
   },
   {
    "duration": 3,
    "start_time": "2021-12-05T20:54:19.443Z"
   },
   {
    "duration": 9,
    "start_time": "2021-12-05T20:54:20.847Z"
   },
   {
    "duration": 40,
    "start_time": "2021-12-05T20:54:21.744Z"
   },
   {
    "duration": 11,
    "start_time": "2021-12-05T20:54:25.951Z"
   },
   {
    "duration": 10,
    "start_time": "2021-12-05T20:54:27.103Z"
   },
   {
    "duration": 3,
    "start_time": "2021-12-05T20:54:29.196Z"
   },
   {
    "duration": 15,
    "start_time": "2021-12-05T20:54:30.419Z"
   },
   {
    "duration": 14,
    "start_time": "2021-12-05T20:54:30.891Z"
   },
   {
    "duration": 15,
    "start_time": "2021-12-05T20:54:31.210Z"
   },
   {
    "duration": 13,
    "start_time": "2021-12-05T20:54:31.602Z"
   },
   {
    "duration": 16,
    "start_time": "2021-12-05T20:54:31.983Z"
   },
   {
    "duration": 13,
    "start_time": "2021-12-05T20:54:32.455Z"
   },
   {
    "duration": 8,
    "start_time": "2021-12-05T20:54:33.755Z"
   },
   {
    "duration": 12,
    "start_time": "2021-12-05T20:54:39.049Z"
   },
   {
    "duration": 9,
    "start_time": "2021-12-05T20:54:39.547Z"
   },
   {
    "duration": 4,
    "start_time": "2021-12-05T20:54:41.610Z"
   },
   {
    "duration": 17,
    "start_time": "2021-12-05T20:54:43.477Z"
   },
   {
    "duration": 13,
    "start_time": "2021-12-05T20:54:43.995Z"
   },
   {
    "duration": 17,
    "start_time": "2021-12-05T20:54:44.490Z"
   },
   {
    "duration": 14,
    "start_time": "2021-12-05T20:54:45.462Z"
   },
   {
    "duration": 8,
    "start_time": "2021-12-05T20:54:46.815Z"
   },
   {
    "duration": 4,
    "start_time": "2021-12-05T20:54:47.736Z"
   },
   {
    "duration": 7,
    "start_time": "2021-12-05T20:54:49.118Z"
   },
   {
    "duration": 4,
    "start_time": "2021-12-05T20:54:49.930Z"
   },
   {
    "duration": 697,
    "start_time": "2021-12-18T10:30:25.995Z"
   },
   {
    "duration": 173,
    "start_time": "2021-12-18T10:30:28.530Z"
   },
   {
    "duration": 25,
    "start_time": "2021-12-18T10:30:32.733Z"
   }
  ],
  "colab": {
   "collapsed_sections": [
    "E0vqbgi9ay0H",
    "VUC88oWjTJw2"
   ],
   "name": "yandex_music_project_2021.2.ipynb",
   "provenance": []
  },
  "kernelspec": {
   "display_name": "Python 3 (ipykernel)",
   "language": "python",
   "name": "python3"
  },
  "language_info": {
   "codemirror_mode": {
    "name": "ipython",
    "version": 3
   },
   "file_extension": ".py",
   "mimetype": "text/x-python",
   "name": "python",
   "nbconvert_exporter": "python",
   "pygments_lexer": "ipython3",
   "version": "3.9.7"
  },
  "toc": {
   "base_numbering": 1,
   "nav_menu": {},
   "number_sections": true,
   "sideBar": true,
   "skip_h1_title": true,
   "title_cell": "Table of Contents",
   "title_sidebar": "Contents",
   "toc_cell": false,
   "toc_position": {},
   "toc_section_display": true,
   "toc_window_display": true
  }
 },
 "nbformat": 4,
 "nbformat_minor": 1
}
