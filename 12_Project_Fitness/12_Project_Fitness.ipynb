{
 "cells": [
  {
   "cell_type": "markdown",
   "metadata": {},
   "source": [
    "# Прогнозирование вероятности оттока клиентов сети фитнес-центров «Культурист-датасаентист»"
   ]
  },
  {
   "cell_type": "markdown",
   "metadata": {},
   "source": [
    "Сеть фитнес-центров «Культурист-датасаентист» разрабатывает стратегию взаимодействия с пользователями на основе аналитических данных. Для борьбы с оттоком клиентов, отдел по работе с клиентами «Культуриста-датасаентиста» перевёл в электронный вид множество анкет пользователей. Задача данного исследования заключается в проведении анализа и подготовки плана действий по удержанию клиентов. А именно:\n",
    "   - формирование прогноза вероятности оттока (на уровне следующего месяца) для каждого клиента;\n",
    "   - формирование типичных портретов пользователей;\n",
    "   - выделение нескольких наиболее ярких групп и описание их основных свойств;\n",
    "   - анализ основных признаков, наиболее сильно влияющие на отток;\n",
    "   - формулировка основных выводов;\n",
    "   - пазработка рекомендаций по повышению качества работы с клиентами."
   ]
  },
  {
   "cell_type": "markdown",
   "metadata": {},
   "source": [
    "## Загрузка данных и изучение общей информации"
   ]
  },
  {
   "cell_type": "markdown",
   "metadata": {},
   "source": [
    "### Загрузка библиотек"
   ]
  },
  {
   "cell_type": "markdown",
   "metadata": {},
   "source": [
    "Мой основной инструмент — `pandas`. Я подключаю эту библиотеку. Также подключаю библиотеки, `seaborn`, `re`, `numpy` и `matplotlib` - они понадобятся для моих исследований.\n",
    "\n",
    "Дополнительно отключу предупреждения (библиотека `warnings`)."
   ]
  },
  {
   "cell_type": "code",
   "execution_count": 2,
   "metadata": {},
   "outputs": [],
   "source": [
    "import pandas as pd\n",
    "import seaborn as sns\n",
    "import matplotlib.pyplot as plt\n",
    "from sklearn.preprocessing import StandardScaler\n",
    "from sklearn.model_selection import train_test_split\n",
    "from sklearn.linear_model import LogisticRegression\n",
    "from sklearn.ensemble import RandomForestClassifier\n",
    "from sklearn.metrics import accuracy_score, precision_score, recall_score\n",
    "from scipy.cluster.hierarchy import dendrogram, linkage\n",
    "from sklearn.cluster import KMeans\n",
    "import itertools\n",
    "\n",
    "import warnings as wg              \n",
    "\n",
    "#wg.filterwarnings('ignore')"
   ]
  },
  {
   "cell_type": "markdown",
   "metadata": {},
   "source": [
    "### Загрузка и описание данных"
   ]
  },
  {
   "cell_type": "markdown",
   "metadata": {},
   "source": [
    "Осуществляю чтение файла данных о заведениях общественного питания Москвы `gym_churn.csv` из папки `/datasets` и сохраняю его в переменной `data`. Вывожу на экран первые пять строк таблицы и общую информацию о полученном датафрейме."
   ]
  },
  {
   "cell_type": "code",
   "execution_count": 3,
   "metadata": {},
   "outputs": [
    {
     "data": {
      "text/html": [
       "<div>\n",
       "<style scoped>\n",
       "    .dataframe tbody tr th:only-of-type {\n",
       "        vertical-align: middle;\n",
       "    }\n",
       "\n",
       "    .dataframe tbody tr th {\n",
       "        vertical-align: top;\n",
       "    }\n",
       "\n",
       "    .dataframe thead th {\n",
       "        text-align: right;\n",
       "    }\n",
       "</style>\n",
       "<table border=\"1\" class=\"dataframe\">\n",
       "  <thead>\n",
       "    <tr style=\"text-align: right;\">\n",
       "      <th></th>\n",
       "      <th>gender</th>\n",
       "      <th>Near_Location</th>\n",
       "      <th>Partner</th>\n",
       "      <th>Promo_friends</th>\n",
       "      <th>Phone</th>\n",
       "      <th>Contract_period</th>\n",
       "      <th>Group_visits</th>\n",
       "      <th>Age</th>\n",
       "      <th>Avg_additional_charges_total</th>\n",
       "      <th>Month_to_end_contract</th>\n",
       "      <th>Lifetime</th>\n",
       "      <th>Avg_class_frequency_total</th>\n",
       "      <th>Avg_class_frequency_current_month</th>\n",
       "      <th>Churn</th>\n",
       "    </tr>\n",
       "  </thead>\n",
       "  <tbody>\n",
       "    <tr>\n",
       "      <th>0</th>\n",
       "      <td>1</td>\n",
       "      <td>1</td>\n",
       "      <td>1</td>\n",
       "      <td>1</td>\n",
       "      <td>0</td>\n",
       "      <td>6</td>\n",
       "      <td>1</td>\n",
       "      <td>29</td>\n",
       "      <td>14.227470</td>\n",
       "      <td>5.0</td>\n",
       "      <td>3</td>\n",
       "      <td>0.020398</td>\n",
       "      <td>0.000000</td>\n",
       "      <td>0</td>\n",
       "    </tr>\n",
       "    <tr>\n",
       "      <th>1</th>\n",
       "      <td>0</td>\n",
       "      <td>1</td>\n",
       "      <td>0</td>\n",
       "      <td>0</td>\n",
       "      <td>1</td>\n",
       "      <td>12</td>\n",
       "      <td>1</td>\n",
       "      <td>31</td>\n",
       "      <td>113.202938</td>\n",
       "      <td>12.0</td>\n",
       "      <td>7</td>\n",
       "      <td>1.922936</td>\n",
       "      <td>1.910244</td>\n",
       "      <td>0</td>\n",
       "    </tr>\n",
       "    <tr>\n",
       "      <th>2</th>\n",
       "      <td>0</td>\n",
       "      <td>1</td>\n",
       "      <td>1</td>\n",
       "      <td>0</td>\n",
       "      <td>1</td>\n",
       "      <td>1</td>\n",
       "      <td>0</td>\n",
       "      <td>28</td>\n",
       "      <td>129.448479</td>\n",
       "      <td>1.0</td>\n",
       "      <td>2</td>\n",
       "      <td>1.859098</td>\n",
       "      <td>1.736502</td>\n",
       "      <td>0</td>\n",
       "    </tr>\n",
       "    <tr>\n",
       "      <th>3</th>\n",
       "      <td>0</td>\n",
       "      <td>1</td>\n",
       "      <td>1</td>\n",
       "      <td>1</td>\n",
       "      <td>1</td>\n",
       "      <td>12</td>\n",
       "      <td>1</td>\n",
       "      <td>33</td>\n",
       "      <td>62.669863</td>\n",
       "      <td>12.0</td>\n",
       "      <td>2</td>\n",
       "      <td>3.205633</td>\n",
       "      <td>3.357215</td>\n",
       "      <td>0</td>\n",
       "    </tr>\n",
       "    <tr>\n",
       "      <th>4</th>\n",
       "      <td>1</td>\n",
       "      <td>1</td>\n",
       "      <td>1</td>\n",
       "      <td>1</td>\n",
       "      <td>1</td>\n",
       "      <td>1</td>\n",
       "      <td>0</td>\n",
       "      <td>26</td>\n",
       "      <td>198.362265</td>\n",
       "      <td>1.0</td>\n",
       "      <td>3</td>\n",
       "      <td>1.113884</td>\n",
       "      <td>1.120078</td>\n",
       "      <td>0</td>\n",
       "    </tr>\n",
       "  </tbody>\n",
       "</table>\n",
       "</div>"
      ],
      "text/plain": [
       "   gender  Near_Location  Partner  Promo_friends  Phone  Contract_period  \\\n",
       "0       1              1        1              1      0                6   \n",
       "1       0              1        0              0      1               12   \n",
       "2       0              1        1              0      1                1   \n",
       "3       0              1        1              1      1               12   \n",
       "4       1              1        1              1      1                1   \n",
       "\n",
       "   Group_visits  Age  Avg_additional_charges_total  Month_to_end_contract  \\\n",
       "0             1   29                     14.227470                    5.0   \n",
       "1             1   31                    113.202938                   12.0   \n",
       "2             0   28                    129.448479                    1.0   \n",
       "3             1   33                     62.669863                   12.0   \n",
       "4             0   26                    198.362265                    1.0   \n",
       "\n",
       "   Lifetime  Avg_class_frequency_total  Avg_class_frequency_current_month  \\\n",
       "0         3                   0.020398                           0.000000   \n",
       "1         7                   1.922936                           1.910244   \n",
       "2         2                   1.859098                           1.736502   \n",
       "3         2                   3.205633                           3.357215   \n",
       "4         3                   1.113884                           1.120078   \n",
       "\n",
       "   Churn  \n",
       "0      0  \n",
       "1      0  \n",
       "2      0  \n",
       "3      0  \n",
       "4      0  "
      ]
     },
     "metadata": {},
     "output_type": "display_data"
    },
    {
     "name": "stdout",
     "output_type": "stream",
     "text": [
      "\n",
      "<class 'pandas.core.frame.DataFrame'>\n",
      "RangeIndex: 4000 entries, 0 to 3999\n",
      "Data columns (total 14 columns):\n",
      " #   Column                             Non-Null Count  Dtype  \n",
      "---  ------                             --------------  -----  \n",
      " 0   gender                             4000 non-null   int64  \n",
      " 1   Near_Location                      4000 non-null   int64  \n",
      " 2   Partner                            4000 non-null   int64  \n",
      " 3   Promo_friends                      4000 non-null   int64  \n",
      " 4   Phone                              4000 non-null   int64  \n",
      " 5   Contract_period                    4000 non-null   int64  \n",
      " 6   Group_visits                       4000 non-null   int64  \n",
      " 7   Age                                4000 non-null   int64  \n",
      " 8   Avg_additional_charges_total       4000 non-null   float64\n",
      " 9   Month_to_end_contract              4000 non-null   float64\n",
      " 10  Lifetime                           4000 non-null   int64  \n",
      " 11  Avg_class_frequency_total          4000 non-null   float64\n",
      " 12  Avg_class_frequency_current_month  4000 non-null   float64\n",
      " 13  Churn                              4000 non-null   int64  \n",
      "dtypes: float64(4), int64(10)\n",
      "memory usage: 437.6 KB\n"
     ]
    }
   ],
   "source": [
    "try:\n",
    "    data = pd.read_csv('/Users/a4128/Documents/My_projects/10_fitnes/gym_churn.csv') # локальный путь\n",
    "except:\n",
    "    data = pd.read_csv('/datasets/gym_churn.csv') # серверный путь\n",
    "\n",
    "display(data.head())\n",
    "print()\n",
    "data.info()"
   ]
  },
  {
   "cell_type": "markdown",
   "metadata": {},
   "source": [
    "### Выводы по разделу"
   ]
  },
  {
   "cell_type": "markdown",
   "metadata": {},
   "source": [
    "Итак, полученные данные отображены и предварительно пранализированы. Таблица содержит 13 столбцов и 4000 строк.\n",
    "\n",
    "Согласно документации к данным:\n",
    "- `Churn` — факт оттока в текущем месяце;\n",
    "- `gender` — пол;\n",
    "- `Near_Location` — проживание или работа в районе, где находится фитнес-центр;\n",
    "- `Partner` — сотрудник компании-партнёра клуба (сотрудничество с компаниями, чьи сотрудники могут получать скидки на абонемент — в таком случае фитнес-центр хранит информацию о работодателе клиента)\n",
    "- `Promo_friends` — факт первоначальной записи в рамках акции «приведи друга» (использовал промо-код от знакомого при оплате первого абонемента);\n",
    "- `Phone` — наличие контактного телефона;\n",
    "- `Age` — возраст;\n",
    "- `Lifetime` — время с момента первого обращения в фитнес-центр (в месяцах).\n",
    "\n",
    "Информация на основе журнала посещений, покупок и информация о текущем статусе абонемента клиента:\n",
    "- `Contract_period` — длительность текущего действующего абонемента (месяц, 3 месяца, 6 месяцев, год);\n",
    "- `Month_to_end_contract` — срок до окончания текущего действующего абонемента (в месяцах);\n",
    "- `Group_visits` — факт посещения групповых занятий;\n",
    "- `Avg_class_frequency_total` — средняя частота посещений в неделю за все время с начала действия абонемента;\n",
    "- `Avg_class_frequency_current_month` — средняя частота посещений в неделю за предыдущий месяц;\n",
    "- `Avg_additional_charges_total` — суммарная выручка от других услуг фитнес-центра: кафе, спорт-товары, косметический и массажный салон.\n",
    "\n",
    "На этапе предварительного анализа выявлено:\n",
    "- в названиях колонок присутствует нарушения стиля (`Churn`, `Near_Location`, `Partner`, `Promo_friends`, `Phone`, `Age`, `Lifetime`, `Contract_period`, `Month_to_end_contract`, `Group_visits`, `Avg_class_frequency_total`, `Avg_class_frequency_current_month`, `Avg_additional_charges_total`);\n",
    "- количество значений в столбцах не различается (значит, в данных отсутствуют пропущенные значения);\n",
    "- все типы данных соответствуют логике."
   ]
  },
  {
   "cell_type": "markdown",
   "metadata": {},
   "source": [
    "## Исследовательский анализ данных (EDA)"
   ]
  },
  {
   "cell_type": "markdown",
   "metadata": {},
   "source": [
    "### Восстановление стиля названий столбцов"
   ]
  },
  {
   "cell_type": "markdown",
   "metadata": {},
   "source": [
    "Для начала восстановлю стиль названий для тех колонок, где обнаружены нарушения, а именно составное имя переменной написано с использованием заглавных букв:"
   ]
  },
  {
   "cell_type": "code",
   "execution_count": 4,
   "metadata": {},
   "outputs": [
    {
     "data": {
      "text/plain": [
       "Index(['gender', 'near_location', 'partner', 'promo_friends', 'phone',\n",
       "       'contract_period', 'group_visits', 'age',\n",
       "       'avg_additional_charges_total', 'month_to_end_contract', 'lifetime',\n",
       "       'avg_class_frequency_total', 'avg_class_frequency_current_month',\n",
       "       'churn'],\n",
       "      dtype='object')"
      ]
     },
     "execution_count": 4,
     "metadata": {},
     "output_type": "execute_result"
    }
   ],
   "source": [
    "data.columns = data.columns.str.lower()\n",
    "data.columns #проверка"
   ]
  },
  {
   "cell_type": "markdown",
   "metadata": {},
   "source": [
    "### Проверка данных на дубликаты"
   ]
  },
  {
   "cell_type": "code",
   "execution_count": 5,
   "metadata": {},
   "outputs": [
    {
     "name": "stdout",
     "output_type": "stream",
     "text": [
      "Количество явных дубликатов в датафрейме: 0\n"
     ]
    }
   ],
   "source": [
    "print('Количество явных дубликатов в датафрейме:', data.duplicated().sum())"
   ]
  },
  {
   "cell_type": "markdown",
   "metadata": {},
   "source": [
    "### Предварительная оценка данных"
   ]
  },
  {
   "cell_type": "markdown",
   "metadata": {},
   "source": [
    "Проверю, есть ли в датасете отсутствующие признаки, изучу средние значения и стандартные отклонения."
   ]
  },
  {
   "cell_type": "code",
   "execution_count": 6,
   "metadata": {},
   "outputs": [
    {
     "data": {
      "text/html": [
       "<div>\n",
       "<style scoped>\n",
       "    .dataframe tbody tr th:only-of-type {\n",
       "        vertical-align: middle;\n",
       "    }\n",
       "\n",
       "    .dataframe tbody tr th {\n",
       "        vertical-align: top;\n",
       "    }\n",
       "\n",
       "    .dataframe thead th {\n",
       "        text-align: right;\n",
       "    }\n",
       "</style>\n",
       "<table border=\"1\" class=\"dataframe\">\n",
       "  <thead>\n",
       "    <tr style=\"text-align: right;\">\n",
       "      <th></th>\n",
       "      <th>gender</th>\n",
       "      <th>near_location</th>\n",
       "      <th>partner</th>\n",
       "      <th>promo_friends</th>\n",
       "      <th>phone</th>\n",
       "      <th>contract_period</th>\n",
       "      <th>group_visits</th>\n",
       "      <th>age</th>\n",
       "      <th>avg_additional_charges_total</th>\n",
       "      <th>month_to_end_contract</th>\n",
       "      <th>lifetime</th>\n",
       "      <th>avg_class_frequency_total</th>\n",
       "      <th>avg_class_frequency_current_month</th>\n",
       "      <th>churn</th>\n",
       "    </tr>\n",
       "  </thead>\n",
       "  <tbody>\n",
       "    <tr>\n",
       "      <th>count</th>\n",
       "      <td>4000.00</td>\n",
       "      <td>4000.00</td>\n",
       "      <td>4000.00</td>\n",
       "      <td>4000.00</td>\n",
       "      <td>4000.0</td>\n",
       "      <td>4000.00</td>\n",
       "      <td>4000.00</td>\n",
       "      <td>4000.00</td>\n",
       "      <td>4000.00</td>\n",
       "      <td>4000.00</td>\n",
       "      <td>4000.00</td>\n",
       "      <td>4000.00</td>\n",
       "      <td>4000.00</td>\n",
       "      <td>4000.00</td>\n",
       "    </tr>\n",
       "    <tr>\n",
       "      <th>mean</th>\n",
       "      <td>0.51</td>\n",
       "      <td>0.85</td>\n",
       "      <td>0.49</td>\n",
       "      <td>0.31</td>\n",
       "      <td>0.9</td>\n",
       "      <td>4.68</td>\n",
       "      <td>0.41</td>\n",
       "      <td>29.18</td>\n",
       "      <td>146.94</td>\n",
       "      <td>4.32</td>\n",
       "      <td>3.72</td>\n",
       "      <td>1.88</td>\n",
       "      <td>1.77</td>\n",
       "      <td>0.27</td>\n",
       "    </tr>\n",
       "    <tr>\n",
       "      <th>std</th>\n",
       "      <td>0.50</td>\n",
       "      <td>0.36</td>\n",
       "      <td>0.50</td>\n",
       "      <td>0.46</td>\n",
       "      <td>0.3</td>\n",
       "      <td>4.55</td>\n",
       "      <td>0.49</td>\n",
       "      <td>3.26</td>\n",
       "      <td>96.36</td>\n",
       "      <td>4.19</td>\n",
       "      <td>3.75</td>\n",
       "      <td>0.97</td>\n",
       "      <td>1.05</td>\n",
       "      <td>0.44</td>\n",
       "    </tr>\n",
       "    <tr>\n",
       "      <th>min</th>\n",
       "      <td>0.00</td>\n",
       "      <td>0.00</td>\n",
       "      <td>0.00</td>\n",
       "      <td>0.00</td>\n",
       "      <td>0.0</td>\n",
       "      <td>1.00</td>\n",
       "      <td>0.00</td>\n",
       "      <td>18.00</td>\n",
       "      <td>0.15</td>\n",
       "      <td>1.00</td>\n",
       "      <td>0.00</td>\n",
       "      <td>0.00</td>\n",
       "      <td>0.00</td>\n",
       "      <td>0.00</td>\n",
       "    </tr>\n",
       "    <tr>\n",
       "      <th>50%</th>\n",
       "      <td>1.00</td>\n",
       "      <td>1.00</td>\n",
       "      <td>0.00</td>\n",
       "      <td>0.00</td>\n",
       "      <td>1.0</td>\n",
       "      <td>1.00</td>\n",
       "      <td>0.00</td>\n",
       "      <td>29.00</td>\n",
       "      <td>136.22</td>\n",
       "      <td>1.00</td>\n",
       "      <td>3.00</td>\n",
       "      <td>1.83</td>\n",
       "      <td>1.72</td>\n",
       "      <td>0.00</td>\n",
       "    </tr>\n",
       "    <tr>\n",
       "      <th>max</th>\n",
       "      <td>1.00</td>\n",
       "      <td>1.00</td>\n",
       "      <td>1.00</td>\n",
       "      <td>1.00</td>\n",
       "      <td>1.0</td>\n",
       "      <td>12.00</td>\n",
       "      <td>1.00</td>\n",
       "      <td>41.00</td>\n",
       "      <td>552.59</td>\n",
       "      <td>12.00</td>\n",
       "      <td>31.00</td>\n",
       "      <td>6.02</td>\n",
       "      <td>6.15</td>\n",
       "      <td>1.00</td>\n",
       "    </tr>\n",
       "  </tbody>\n",
       "</table>\n",
       "</div>"
      ],
      "text/plain": [
       "        gender  near_location  partner  promo_friends   phone  \\\n",
       "count  4000.00        4000.00  4000.00        4000.00  4000.0   \n",
       "mean      0.51           0.85     0.49           0.31     0.9   \n",
       "std       0.50           0.36     0.50           0.46     0.3   \n",
       "min       0.00           0.00     0.00           0.00     0.0   \n",
       "50%       1.00           1.00     0.00           0.00     1.0   \n",
       "max       1.00           1.00     1.00           1.00     1.0   \n",
       "\n",
       "       contract_period  group_visits      age  avg_additional_charges_total  \\\n",
       "count          4000.00       4000.00  4000.00                       4000.00   \n",
       "mean              4.68          0.41    29.18                        146.94   \n",
       "std               4.55          0.49     3.26                         96.36   \n",
       "min               1.00          0.00    18.00                          0.15   \n",
       "50%               1.00          0.00    29.00                        136.22   \n",
       "max              12.00          1.00    41.00                        552.59   \n",
       "\n",
       "       month_to_end_contract  lifetime  avg_class_frequency_total  \\\n",
       "count                4000.00   4000.00                    4000.00   \n",
       "mean                    4.32      3.72                       1.88   \n",
       "std                     4.19      3.75                       0.97   \n",
       "min                     1.00      0.00                       0.00   \n",
       "50%                     1.00      3.00                       1.83   \n",
       "max                    12.00     31.00                       6.02   \n",
       "\n",
       "       avg_class_frequency_current_month    churn  \n",
       "count                            4000.00  4000.00  \n",
       "mean                                1.77     0.27  \n",
       "std                                 1.05     0.44  \n",
       "min                                 0.00     0.00  \n",
       "50%                                 1.72     0.00  \n",
       "max                                 6.15     1.00  "
      ]
     },
     "execution_count": 6,
     "metadata": {},
     "output_type": "execute_result"
    }
   ],
   "source": [
    "data.describe(percentiles=[]).round(2)"
   ]
  },
  {
   "cell_type": "markdown",
   "metadata": {},
   "source": [
    "Из полученной таблицы можно сделать следующие выводы:\n",
    "   - мужчин и женщин клиентов фитнес-клуба примерно поровну;\n",
    "   - проживающих в районе фитнес-клуба - 85%;\n",
    "   - сотрудников компаний-партнёров клуба и не сотрудников - примерно поровну;\n",
    "   - использовавших промо-код для покупки певого абонемента - около 30% клентов;\n",
    "   - контактный телефон оставляют около 90%;\n",
    "   - групповые занятия посещает около 40%;\n",
    "   - средний возраст клиентов фитнес-клуба - 29 лет.\n",
    "   \n",
    "Проведу анализ средних значений признаков в двух группах — тех, кто ушел в отток и тех, кто остался. Для начала необходимо определить, что пользователь больше ходить не будет. Можно записать в отток тех, кто попросил закрыть договор или удалил аккаунт. Однако клиенты не всегда уходят демонстративно: чаще перестают пользоваться сервисом тихо. Индикаторы оттока зависят от специфики отрасли. Когда пользователь редко, но стабильно закупается в интернет-магазине — не похоже, что он «отвалился». А вот если две недели не заходит на канал с ежедневно обновляемым контентом, дела плохи: подписчик заскучал и, кажется, оставил вас.\n",
    "\n",
    "Для фитнес-центра будем считать, что клиент попал в отток, если за последний месяц ни разу не посетил спортзал. Конечно, не исключено, что он уехал на Бали и по приезде обязательно продолжит ходить на фитнес. Однако чаще бывает наоборот. Если клиент начал новую жизнь с понедельника, немного походил в спортзал, а потом пропал — скорее всего, он не вернётся."
   ]
  },
  {
   "cell_type": "code",
   "execution_count": 7,
   "metadata": {},
   "outputs": [
    {
     "name": "stdout",
     "output_type": "stream",
     "text": [
      "Количество попавших в отток клиентов: 1061 человек,\n",
      "что составляет 26.5 % всех клиентов фитнес-клуба.\n"
     ]
    }
   ],
   "source": [
    "print('Количество попавших в отток клиентов:', len(data.query('churn == 1')), 'человек,')\n",
    "print('что составляет', round((len(data.query('churn == 1')) / len(data) * 100), 1), '% всех клиентов фитнес-клуба.')"
   ]
  },
  {
   "cell_type": "code",
   "execution_count": 8,
   "metadata": {},
   "outputs": [
    {
     "name": "stdout",
     "output_type": "stream",
     "text": [
      "\n",
      "Сравнение средних значений признаков для оставшихся клиентов (churn = 0) и для оттока (churn = 1)\n"
     ]
    },
    {
     "data": {
      "text/html": [
       "<div>\n",
       "<style scoped>\n",
       "    .dataframe tbody tr th:only-of-type {\n",
       "        vertical-align: middle;\n",
       "    }\n",
       "\n",
       "    .dataframe tbody tr th {\n",
       "        vertical-align: top;\n",
       "    }\n",
       "\n",
       "    .dataframe thead th {\n",
       "        text-align: right;\n",
       "    }\n",
       "</style>\n",
       "<table border=\"1\" class=\"dataframe\">\n",
       "  <thead>\n",
       "    <tr style=\"text-align: right;\">\n",
       "      <th>churn</th>\n",
       "      <th>0</th>\n",
       "      <th>1</th>\n",
       "    </tr>\n",
       "  </thead>\n",
       "  <tbody>\n",
       "    <tr>\n",
       "      <th>age</th>\n",
       "      <td>29.9765</td>\n",
       "      <td>26.9896</td>\n",
       "    </tr>\n",
       "    <tr>\n",
       "      <th>avg_additional_charges_total</th>\n",
       "      <td>158.4457</td>\n",
       "      <td>115.0829</td>\n",
       "    </tr>\n",
       "    <tr>\n",
       "      <th>avg_class_frequency_current_month</th>\n",
       "      <td>2.0279</td>\n",
       "      <td>1.0445</td>\n",
       "    </tr>\n",
       "    <tr>\n",
       "      <th>avg_class_frequency_total</th>\n",
       "      <td>2.0249</td>\n",
       "      <td>1.4750</td>\n",
       "    </tr>\n",
       "    <tr>\n",
       "      <th>contract_period</th>\n",
       "      <td>5.7472</td>\n",
       "      <td>1.7286</td>\n",
       "    </tr>\n",
       "    <tr>\n",
       "      <th>gender</th>\n",
       "      <td>0.5100</td>\n",
       "      <td>0.5108</td>\n",
       "    </tr>\n",
       "    <tr>\n",
       "      <th>group_visits</th>\n",
       "      <td>0.4641</td>\n",
       "      <td>0.2686</td>\n",
       "    </tr>\n",
       "    <tr>\n",
       "      <th>lifetime</th>\n",
       "      <td>4.7118</td>\n",
       "      <td>0.9906</td>\n",
       "    </tr>\n",
       "    <tr>\n",
       "      <th>month_to_end_contract</th>\n",
       "      <td>5.2831</td>\n",
       "      <td>1.6626</td>\n",
       "    </tr>\n",
       "    <tr>\n",
       "      <th>near_location</th>\n",
       "      <td>0.8731</td>\n",
       "      <td>0.7681</td>\n",
       "    </tr>\n",
       "    <tr>\n",
       "      <th>partner</th>\n",
       "      <td>0.5342</td>\n",
       "      <td>0.3553</td>\n",
       "    </tr>\n",
       "    <tr>\n",
       "      <th>phone</th>\n",
       "      <td>0.9037</td>\n",
       "      <td>0.9029</td>\n",
       "    </tr>\n",
       "    <tr>\n",
       "      <th>promo_friends</th>\n",
       "      <td>0.3535</td>\n",
       "      <td>0.1838</td>\n",
       "    </tr>\n",
       "  </tbody>\n",
       "</table>\n",
       "</div>"
      ],
      "text/plain": [
       "churn                                     0         1\n",
       "age                                 29.9765   26.9896\n",
       "avg_additional_charges_total       158.4457  115.0829\n",
       "avg_class_frequency_current_month    2.0279    1.0445\n",
       "avg_class_frequency_total            2.0249    1.4750\n",
       "contract_period                      5.7472    1.7286\n",
       "gender                               0.5100    0.5108\n",
       "group_visits                         0.4641    0.2686\n",
       "lifetime                             4.7118    0.9906\n",
       "month_to_end_contract                5.2831    1.6626\n",
       "near_location                        0.8731    0.7681\n",
       "partner                              0.5342    0.3553\n",
       "phone                                0.9037    0.9029\n",
       "promo_friends                        0.3535    0.1838"
      ]
     },
     "execution_count": 8,
     "metadata": {},
     "output_type": "execute_result"
    }
   ],
   "source": [
    "table = pd.pivot_table(data, columns='churn', aggfunc='mean').round(4)\n",
    "print()\n",
    "print('Сравнение средних значений признаков для оставшихся клиентов (churn = 0) и для оттока (churn = 1)')\n",
    "table"
   ]
  },
  {
   "cell_type": "markdown",
   "metadata": {},
   "source": [
    "Разделю общий датафрейм на 2 группы (оставшиеся клиенты `churn = 0` и отток `churn = 1`, построю графики распределения признаков для полученных групп. Для дискретных переменных буду использовать столбцовые графики с накоплением, а для непрерывных переменных - гистограммы."
   ]
  },
  {
   "cell_type": "code",
   "execution_count": 9,
   "metadata": {
    "scrolled": false
   },
   "outputs": [
    {
     "data": {
      "image/png": "[encoded data removed]",
      "text/plain": [
       "<Figure size 432x288 with 1 Axes>"
      ]
     },
     "metadata": {
      "needs_background": "light"
     },
     "output_type": "display_data"
    },
    {
     "data": {
      "image/png": "[encoded data removed]",
      "text/plain": [
       "<Figure size 432x288 with 1 Axes>"
      ]
     },
     "metadata": {
      "needs_background": "light"
     },
     "output_type": "display_data"
    },
    {
     "data": {
      "image/png": "[encoded data removed]",
      "text/plain": [
       "<Figure size 432x288 with 1 Axes>"
      ]
     },
     "metadata": {
      "needs_background": "light"
     },
     "output_type": "display_data"
    },
    {
     "data": {
      "image/png": "[encoded data removed]",
      "text/plain": [
       "<Figure size 432x288 with 1 Axes>"
      ]
     },
     "metadata": {
      "needs_background": "light"
     },
     "output_type": "display_data"
    },
    {
     "data": {
      "image/png": "[encoded data removed]",
      "text/plain": [
       "<Figure size 432x288 with 1 Axes>"
      ]
     },
     "metadata": {
      "needs_background": "light"
     },
     "output_type": "display_data"
    },
    {
     "data": {
      "image/png": "[encoded data removed]",
      "text/plain": [
       "<Figure size 432x288 with 1 Axes>"
      ]
     },
     "metadata": {
      "needs_background": "light"
     },
     "output_type": "display_data"
    },
    {
     "data": {
      "image/png": "[encoded data removed]",
      "text/plain": [
       "<Figure size 432x288 with 1 Axes>"
      ]
     },
     "metadata": {
      "needs_background": "light"
     },
     "output_type": "display_data"
    },
    {
     "data": {
      "image/png": "[encoded data removed]",
      "text/plain": [
       "<Figure size 432x288 with 1 Axes>"
      ]
     },
     "metadata": {
      "needs_background": "light"
     },
     "output_type": "display_data"
    },
    {
     "data": {
      "image/png": "[encoded data removed]",
      "text/plain": [
       "<Figure size 432x288 with 1 Axes>"
      ]
     },
     "metadata": {
      "needs_background": "light"
     },
     "output_type": "display_data"
    },
    {
     "data": {
      "image/png": "[encoded data removed]",
      "text/plain": [
       "<Figure size 432x288 with 1 Axes>"
      ]
     },
     "metadata": {
      "needs_background": "light"
     },
     "output_type": "display_data"
    },
    {
     "data": {
      "image/png": "[encoded data removed]",
      "text/plain": [
       "<Figure size 432x288 with 1 Axes>"
      ]
     },
     "metadata": {
      "needs_background": "light"
     },
     "output_type": "display_data"
    },
    {
     "data": {
      "image/png": "[encoded data removed]",
      "text/plain": [
       "<Figure size 432x288 with 1 Axes>"
      ]
     },
     "metadata": {
      "needs_background": "light"
     },
     "output_type": "display_data"
    },
    {
     "data": {
      "image/png": "[encoded data removed]",
      "text/plain": [
       "<Figure size 432x288 with 1 Axes>"
      ]
     },
     "metadata": {
      "needs_background": "light"
     },
     "output_type": "display_data"
    }
   ],
   "source": [
    "def graphics(data, group_col, name_col):\n",
    "    data_part = data.copy()[name_col]\n",
    "    for element_1 in name_col:\n",
    "        if element_1 == group_col: continue\n",
    "            \n",
    "        if len(data_part[element_1].unique()) < 10:\n",
    "            report = data_part.reset_index().pivot_table(index = element_1,\n",
    "                                                         columns = group_col,\n",
    "                                                         values = 'index',\n",
    "                                                         aggfunc = 'count')\n",
    "            report.plot(kind='bar',\n",
    "                        stacked=True,\n",
    "                        alpha = 0.5\n",
    "                       )\n",
    "        else:\n",
    "            for element_2 in data[group_col].unique():\n",
    "                sns.distplot(data_part[data_part[group_col] == element_2][element_1],\n",
    "                             bins=10\n",
    "                            )\n",
    "        plt.title(element_1)\n",
    "        plt.show()\n",
    "        \n",
    "graphics(data, 'churn', data.columns);"
   ]
  },
  {
   "cell_type": "markdown",
   "metadata": {},
   "source": [
    "Из полученных графиков можно сделать следующие выводы:\n",
    "   - отток женщин и мужчин примерно одинаков (`gender`);\n",
    "   - отток пользователей живущих поблизости с финтнес-клубом - больше (`near_Location`);\n",
    "   - сотрудники компании-партнёра клуба бросают занятия с меньшей вероятностью, чем обычные клиенты (`partner`);\n",
    "   - те, кто не использовал промо-код от знакомого при оформлении абонемента, намного чаще покидают клуб, чем те, кто использовал (`promo_friends`);\n",
    "   - телефоны указывают практически все клиенты, отток не указавших контактный телефон - минимален (`phone`);\n",
    "   - пользователи, оформляющие месячный абонемент уходят гораздо чаще, чем оформляющие абонементы на 6 и 12 месяцев, отток клиентов с годовым абонементом - минимален (`contract_period`);\n",
    "   - посещающие групповые занятия клинты уходят гораздо реже, чем те, кто их не посещает (`group_visits`);\n",
    "   - средний возраст покидающих клуб меньше, чем тех, кто остается (`age`);\n",
    "   - чаще остальных уходят те пользователи, которые не тратят на другие услуги фитнес-центра: кафе, спорт-товары, массаж и пр. или тратят их в меньшем количестве (`avg_additional_charges_total`); \n",
    "   - очень велика вероятность оттока тех клинтов, у которых остался месяц до истечения срока абонемента (`month_to_end_contract`);\n",
    "   - если клиент ни разу не обратился в фитнес-центр в течение первых месяцев после оформления, то велика вероятность, что он не вернется (`lifetime`);\n",
    "   - средний частота посещений фитнеса в неделю за все время с начала действия абонемента для покидающих клуб меньше, чем тех, кто остается, т.е. чем реже клиент ходил заниматься, тем выше вероятность, что он попал в отток (`avg_class_frequency_total`);\n",
    "   - средняя частота посещений в неделю за предыдущий месяц для покинувших клуб не превышает 4 дней, т.е. те пользователи, которые решили покинуть клуб, скорее всего не приходили ни разу за последний месяц или были 1-2 раза (`avg_class_frequency_total`)."
   ]
  },
  {
   "cell_type": "markdown",
   "metadata": {},
   "source": [
    "Построю матрицу корреляции:"
   ]
  },
  {
   "cell_type": "code",
   "execution_count": 10,
   "metadata": {},
   "outputs": [
    {
     "data": {
      "text/html": [
       "<div>\n",
       "<style scoped>\n",
       "    .dataframe tbody tr th:only-of-type {\n",
       "        vertical-align: middle;\n",
       "    }\n",
       "\n",
       "    .dataframe tbody tr th {\n",
       "        vertical-align: top;\n",
       "    }\n",
       "\n",
       "    .dataframe thead th {\n",
       "        text-align: right;\n",
       "    }\n",
       "</style>\n",
       "<table border=\"1\" class=\"dataframe\">\n",
       "  <thead>\n",
       "    <tr style=\"text-align: right;\">\n",
       "      <th></th>\n",
       "      <th>gender</th>\n",
       "      <th>near_location</th>\n",
       "      <th>partner</th>\n",
       "      <th>promo_friends</th>\n",
       "      <th>phone</th>\n",
       "      <th>contract_period</th>\n",
       "      <th>group_visits</th>\n",
       "      <th>age</th>\n",
       "      <th>avg_additional_charges_total</th>\n",
       "      <th>month_to_end_contract</th>\n",
       "      <th>lifetime</th>\n",
       "      <th>avg_class_frequency_total</th>\n",
       "      <th>avg_class_frequency_current_month</th>\n",
       "      <th>churn</th>\n",
       "    </tr>\n",
       "  </thead>\n",
       "  <tbody>\n",
       "    <tr>\n",
       "      <th>gender</th>\n",
       "      <td>1.000000</td>\n",
       "      <td>0.006699</td>\n",
       "      <td>-0.010463</td>\n",
       "      <td>-0.005033</td>\n",
       "      <td>-0.008542</td>\n",
       "      <td>0.000502</td>\n",
       "      <td>0.017879</td>\n",
       "      <td>0.013807</td>\n",
       "      <td>-0.009334</td>\n",
       "      <td>-0.001281</td>\n",
       "      <td>0.013579</td>\n",
       "      <td>0.014620</td>\n",
       "      <td>0.009156</td>\n",
       "      <td>0.000708</td>\n",
       "    </tr>\n",
       "    <tr>\n",
       "      <th>near_location</th>\n",
       "      <td>0.006699</td>\n",
       "      <td>1.000000</td>\n",
       "      <td>-0.005119</td>\n",
       "      <td>0.210964</td>\n",
       "      <td>-0.015763</td>\n",
       "      <td>0.150233</td>\n",
       "      <td>0.154728</td>\n",
       "      <td>0.058358</td>\n",
       "      <td>0.040761</td>\n",
       "      <td>0.143961</td>\n",
       "      <td>0.070921</td>\n",
       "      <td>0.043127</td>\n",
       "      <td>0.062664</td>\n",
       "      <td>-0.128098</td>\n",
       "    </tr>\n",
       "    <tr>\n",
       "      <th>partner</th>\n",
       "      <td>-0.010463</td>\n",
       "      <td>-0.005119</td>\n",
       "      <td>1.000000</td>\n",
       "      <td>0.451960</td>\n",
       "      <td>0.009970</td>\n",
       "      <td>0.306166</td>\n",
       "      <td>0.022710</td>\n",
       "      <td>0.047480</td>\n",
       "      <td>0.022941</td>\n",
       "      <td>0.294632</td>\n",
       "      <td>0.061229</td>\n",
       "      <td>0.024938</td>\n",
       "      <td>0.045561</td>\n",
       "      <td>-0.157986</td>\n",
       "    </tr>\n",
       "    <tr>\n",
       "      <th>promo_friends</th>\n",
       "      <td>-0.005033</td>\n",
       "      <td>0.210964</td>\n",
       "      <td>0.451960</td>\n",
       "      <td>1.000000</td>\n",
       "      <td>0.001982</td>\n",
       "      <td>0.244552</td>\n",
       "      <td>0.120170</td>\n",
       "      <td>0.050113</td>\n",
       "      <td>0.036898</td>\n",
       "      <td>0.239553</td>\n",
       "      <td>0.072721</td>\n",
       "      <td>0.028063</td>\n",
       "      <td>0.053768</td>\n",
       "      <td>-0.162233</td>\n",
       "    </tr>\n",
       "    <tr>\n",
       "      <th>phone</th>\n",
       "      <td>-0.008542</td>\n",
       "      <td>-0.015763</td>\n",
       "      <td>0.009970</td>\n",
       "      <td>0.001982</td>\n",
       "      <td>1.000000</td>\n",
       "      <td>-0.006893</td>\n",
       "      <td>-0.010099</td>\n",
       "      <td>-0.011403</td>\n",
       "      <td>0.009279</td>\n",
       "      <td>-0.011196</td>\n",
       "      <td>-0.018801</td>\n",
       "      <td>0.008340</td>\n",
       "      <td>0.013375</td>\n",
       "      <td>-0.001177</td>\n",
       "    </tr>\n",
       "    <tr>\n",
       "      <th>contract_period</th>\n",
       "      <td>0.000502</td>\n",
       "      <td>0.150233</td>\n",
       "      <td>0.306166</td>\n",
       "      <td>0.244552</td>\n",
       "      <td>-0.006893</td>\n",
       "      <td>1.000000</td>\n",
       "      <td>0.169991</td>\n",
       "      <td>0.138249</td>\n",
       "      <td>0.111445</td>\n",
       "      <td>0.973064</td>\n",
       "      <td>0.170725</td>\n",
       "      <td>0.096211</td>\n",
       "      <td>0.159407</td>\n",
       "      <td>-0.389984</td>\n",
       "    </tr>\n",
       "    <tr>\n",
       "      <th>group_visits</th>\n",
       "      <td>0.017879</td>\n",
       "      <td>0.154728</td>\n",
       "      <td>0.022710</td>\n",
       "      <td>0.120170</td>\n",
       "      <td>-0.010099</td>\n",
       "      <td>0.169991</td>\n",
       "      <td>1.000000</td>\n",
       "      <td>0.080934</td>\n",
       "      <td>0.032079</td>\n",
       "      <td>0.163703</td>\n",
       "      <td>0.075853</td>\n",
       "      <td>0.056695</td>\n",
       "      <td>0.075923</td>\n",
       "      <td>-0.175325</td>\n",
       "    </tr>\n",
       "    <tr>\n",
       "      <th>age</th>\n",
       "      <td>0.013807</td>\n",
       "      <td>0.058358</td>\n",
       "      <td>0.047480</td>\n",
       "      <td>0.050113</td>\n",
       "      <td>-0.011403</td>\n",
       "      <td>0.138249</td>\n",
       "      <td>0.080934</td>\n",
       "      <td>1.000000</td>\n",
       "      <td>0.080240</td>\n",
       "      <td>0.134511</td>\n",
       "      <td>0.164693</td>\n",
       "      <td>0.119953</td>\n",
       "      <td>0.183095</td>\n",
       "      <td>-0.404735</td>\n",
       "    </tr>\n",
       "    <tr>\n",
       "      <th>avg_additional_charges_total</th>\n",
       "      <td>-0.009334</td>\n",
       "      <td>0.040761</td>\n",
       "      <td>0.022941</td>\n",
       "      <td>0.036898</td>\n",
       "      <td>0.009279</td>\n",
       "      <td>0.111445</td>\n",
       "      <td>0.032079</td>\n",
       "      <td>0.080240</td>\n",
       "      <td>1.000000</td>\n",
       "      <td>0.113958</td>\n",
       "      <td>0.079028</td>\n",
       "      <td>0.044426</td>\n",
       "      <td>0.079570</td>\n",
       "      <td>-0.198697</td>\n",
       "    </tr>\n",
       "    <tr>\n",
       "      <th>month_to_end_contract</th>\n",
       "      <td>-0.001281</td>\n",
       "      <td>0.143961</td>\n",
       "      <td>0.294632</td>\n",
       "      <td>0.239553</td>\n",
       "      <td>-0.011196</td>\n",
       "      <td>0.973064</td>\n",
       "      <td>0.163703</td>\n",
       "      <td>0.134511</td>\n",
       "      <td>0.113958</td>\n",
       "      <td>1.000000</td>\n",
       "      <td>0.161078</td>\n",
       "      <td>0.085387</td>\n",
       "      <td>0.147605</td>\n",
       "      <td>-0.381393</td>\n",
       "    </tr>\n",
       "    <tr>\n",
       "      <th>lifetime</th>\n",
       "      <td>0.013579</td>\n",
       "      <td>0.070921</td>\n",
       "      <td>0.061229</td>\n",
       "      <td>0.072721</td>\n",
       "      <td>-0.018801</td>\n",
       "      <td>0.170725</td>\n",
       "      <td>0.075853</td>\n",
       "      <td>0.164693</td>\n",
       "      <td>0.079028</td>\n",
       "      <td>0.161078</td>\n",
       "      <td>1.000000</td>\n",
       "      <td>0.112338</td>\n",
       "      <td>0.181975</td>\n",
       "      <td>-0.438220</td>\n",
       "    </tr>\n",
       "    <tr>\n",
       "      <th>avg_class_frequency_total</th>\n",
       "      <td>0.014620</td>\n",
       "      <td>0.043127</td>\n",
       "      <td>0.024938</td>\n",
       "      <td>0.028063</td>\n",
       "      <td>0.008340</td>\n",
       "      <td>0.096211</td>\n",
       "      <td>0.056695</td>\n",
       "      <td>0.119953</td>\n",
       "      <td>0.044426</td>\n",
       "      <td>0.085387</td>\n",
       "      <td>0.112338</td>\n",
       "      <td>1.000000</td>\n",
       "      <td>0.952739</td>\n",
       "      <td>-0.249715</td>\n",
       "    </tr>\n",
       "    <tr>\n",
       "      <th>avg_class_frequency_current_month</th>\n",
       "      <td>0.009156</td>\n",
       "      <td>0.062664</td>\n",
       "      <td>0.045561</td>\n",
       "      <td>0.053768</td>\n",
       "      <td>0.013375</td>\n",
       "      <td>0.159407</td>\n",
       "      <td>0.075923</td>\n",
       "      <td>0.183095</td>\n",
       "      <td>0.079570</td>\n",
       "      <td>0.147605</td>\n",
       "      <td>0.181975</td>\n",
       "      <td>0.952739</td>\n",
       "      <td>1.000000</td>\n",
       "      <td>-0.412348</td>\n",
       "    </tr>\n",
       "    <tr>\n",
       "      <th>churn</th>\n",
       "      <td>0.000708</td>\n",
       "      <td>-0.128098</td>\n",
       "      <td>-0.157986</td>\n",
       "      <td>-0.162233</td>\n",
       "      <td>-0.001177</td>\n",
       "      <td>-0.389984</td>\n",
       "      <td>-0.175325</td>\n",
       "      <td>-0.404735</td>\n",
       "      <td>-0.198697</td>\n",
       "      <td>-0.381393</td>\n",
       "      <td>-0.438220</td>\n",
       "      <td>-0.249715</td>\n",
       "      <td>-0.412348</td>\n",
       "      <td>1.000000</td>\n",
       "    </tr>\n",
       "  </tbody>\n",
       "</table>\n",
       "</div>"
      ],
      "text/plain": [
       "                                     gender  near_location   partner  \\\n",
       "gender                             1.000000       0.006699 -0.010463   \n",
       "near_location                      0.006699       1.000000 -0.005119   \n",
       "partner                           -0.010463      -0.005119  1.000000   \n",
       "promo_friends                     -0.005033       0.210964  0.451960   \n",
       "phone                             -0.008542      -0.015763  0.009970   \n",
       "contract_period                    0.000502       0.150233  0.306166   \n",
       "group_visits                       0.017879       0.154728  0.022710   \n",
       "age                                0.013807       0.058358  0.047480   \n",
       "avg_additional_charges_total      -0.009334       0.040761  0.022941   \n",
       "month_to_end_contract             -0.001281       0.143961  0.294632   \n",
       "lifetime                           0.013579       0.070921  0.061229   \n",
       "avg_class_frequency_total          0.014620       0.043127  0.024938   \n",
       "avg_class_frequency_current_month  0.009156       0.062664  0.045561   \n",
       "churn                              0.000708      -0.128098 -0.157986   \n",
       "\n",
       "                                   promo_friends     phone  contract_period  \\\n",
       "gender                                 -0.005033 -0.008542         0.000502   \n",
       "near_location                           0.210964 -0.015763         0.150233   \n",
       "partner                                 0.451960  0.009970         0.306166   \n",
       "promo_friends                           1.000000  0.001982         0.244552   \n",
       "phone                                   0.001982  1.000000        -0.006893   \n",
       "contract_period                         0.244552 -0.006893         1.000000   \n",
       "group_visits                            0.120170 -0.010099         0.169991   \n",
       "age                                     0.050113 -0.011403         0.138249   \n",
       "avg_additional_charges_total            0.036898  0.009279         0.111445   \n",
       "month_to_end_contract                   0.239553 -0.011196         0.973064   \n",
       "lifetime                                0.072721 -0.018801         0.170725   \n",
       "avg_class_frequency_total               0.028063  0.008340         0.096211   \n",
       "avg_class_frequency_current_month       0.053768  0.013375         0.159407   \n",
       "churn                                  -0.162233 -0.001177        -0.389984   \n",
       "\n",
       "                                   group_visits       age  \\\n",
       "gender                                 0.017879  0.013807   \n",
       "near_location                          0.154728  0.058358   \n",
       "partner                                0.022710  0.047480   \n",
       "promo_friends                          0.120170  0.050113   \n",
       "phone                                 -0.010099 -0.011403   \n",
       "contract_period                        0.169991  0.138249   \n",
       "group_visits                           1.000000  0.080934   \n",
       "age                                    0.080934  1.000000   \n",
       "avg_additional_charges_total           0.032079  0.080240   \n",
       "month_to_end_contract                  0.163703  0.134511   \n",
       "lifetime                               0.075853  0.164693   \n",
       "avg_class_frequency_total              0.056695  0.119953   \n",
       "avg_class_frequency_current_month      0.075923  0.183095   \n",
       "churn                                 -0.175325 -0.404735   \n",
       "\n",
       "                                   avg_additional_charges_total  \\\n",
       "gender                                                -0.009334   \n",
       "near_location                                          0.040761   \n",
       "partner                                                0.022941   \n",
       "promo_friends                                          0.036898   \n",
       "phone                                                  0.009279   \n",
       "contract_period                                        0.111445   \n",
       "group_visits                                           0.032079   \n",
       "age                                                    0.080240   \n",
       "avg_additional_charges_total                           1.000000   \n",
       "month_to_end_contract                                  0.113958   \n",
       "lifetime                                               0.079028   \n",
       "avg_class_frequency_total                              0.044426   \n",
       "avg_class_frequency_current_month                      0.079570   \n",
       "churn                                                 -0.198697   \n",
       "\n",
       "                                   month_to_end_contract  lifetime  \\\n",
       "gender                                         -0.001281  0.013579   \n",
       "near_location                                   0.143961  0.070921   \n",
       "partner                                         0.294632  0.061229   \n",
       "promo_friends                                   0.239553  0.072721   \n",
       "phone                                          -0.011196 -0.018801   \n",
       "contract_period                                 0.973064  0.170725   \n",
       "group_visits                                    0.163703  0.075853   \n",
       "age                                             0.134511  0.164693   \n",
       "avg_additional_charges_total                    0.113958  0.079028   \n",
       "month_to_end_contract                           1.000000  0.161078   \n",
       "lifetime                                        0.161078  1.000000   \n",
       "avg_class_frequency_total                       0.085387  0.112338   \n",
       "avg_class_frequency_current_month               0.147605  0.181975   \n",
       "churn                                          -0.381393 -0.438220   \n",
       "\n",
       "                                   avg_class_frequency_total  \\\n",
       "gender                                              0.014620   \n",
       "near_location                                       0.043127   \n",
       "partner                                             0.024938   \n",
       "promo_friends                                       0.028063   \n",
       "phone                                               0.008340   \n",
       "contract_period                                     0.096211   \n",
       "group_visits                                        0.056695   \n",
       "age                                                 0.119953   \n",
       "avg_additional_charges_total                        0.044426   \n",
       "month_to_end_contract                               0.085387   \n",
       "lifetime                                            0.112338   \n",
       "avg_class_frequency_total                           1.000000   \n",
       "avg_class_frequency_current_month                   0.952739   \n",
       "churn                                              -0.249715   \n",
       "\n",
       "                                   avg_class_frequency_current_month     churn  \n",
       "gender                                                      0.009156  0.000708  \n",
       "near_location                                               0.062664 -0.128098  \n",
       "partner                                                     0.045561 -0.157986  \n",
       "promo_friends                                               0.053768 -0.162233  \n",
       "phone                                                       0.013375 -0.001177  \n",
       "contract_period                                             0.159407 -0.389984  \n",
       "group_visits                                                0.075923 -0.175325  \n",
       "age                                                         0.183095 -0.404735  \n",
       "avg_additional_charges_total                                0.079570 -0.198697  \n",
       "month_to_end_contract                                       0.147605 -0.381393  \n",
       "lifetime                                                    0.181975 -0.438220  \n",
       "avg_class_frequency_total                                   0.952739 -0.249715  \n",
       "avg_class_frequency_current_month                           1.000000 -0.412348  \n",
       "churn                                                      -0.412348  1.000000  "
      ]
     },
     "execution_count": 10,
     "metadata": {},
     "output_type": "execute_result"
    }
   ],
   "source": [
    "data.corr()"
   ]
  },
  {
   "cell_type": "markdown",
   "metadata": {},
   "source": [
    "В результате построение матрицы корреляции выявлены следующие закономерности:\n",
    "\n",
    "**ни на что не влияют или влияют незначительно следующие признаки**:\n",
    "\n",
    "    - пол клиента;\n",
    "    - расположение фитнеса в районе дома (кроме покупки абонемента);\n",
    "    - указание контактного мобильного телефона;\n",
    "    - посещение групповых занятий;\n",
    "    - траты на другие услуги фитнес-центра.\n",
    "    \n",
    "**признаки, коррелирующие между собой**:\n",
    "\n",
    "    - сотрудники компании-партнёра клуба и использующие промо-код от знакомого при оформлении абонемента (k=0.45);\n",
    "    - срок до окончания текущего действующего абонемента прямо пропорционален длительности текущего действующего абонемента (k=0.97);\n",
    "    - средняя частота посещений в неделю за предыдущий месяц и за все время с покупки абонемента прямо пропорциональны (k=0.95).\n",
    "\n",
    "**признаки, влияющие на показатель оттока клиентов из фитнес-клуба**:\n",
    "\n",
    "    - длительность текущего действующего абонемента (k=-0.4);\n",
    "    - возраст клиента (k=-0.4);\n",
    "    - время с момента первого обращения в фитнес-центр (k=-0.44);\n",
    "    - средняя частота посещений в неделю за предыдущий месяц (k=-0.41).\n",
    "    "
   ]
  },
  {
   "cell_type": "markdown",
   "metadata": {},
   "source": [
    "### Выводы по разделу"
   ]
  },
  {
   "cell_type": "markdown",
   "metadata": {},
   "source": [
    "В результате исследовательского анализа данныз (EDA) сделаны следующие основные выводы:\n",
    "   \n",
    "   - мужчин и женщин клиентов фитнес-клуба примерно поровну;\n",
    "   - проживающих в районе фитнес-клуба - 85%;\n",
    "   - сотрудников компаний-партнёров клуба и не сотрудников - примерно поровну;\n",
    "   - использовавших промо-код для покупки певого абонемента - около 30% клентов;\n",
    "   - контактный телефон оставляют около 90%;\n",
    "   - групповые занятия посещает около 40%;\n",
    "   - средний возраст клиентов фитнес-клуба - 29 лет.\n",
    "   \n",
    "По параметрам оттока получены следующие результаты:\n",
    "\n",
    "   - отток женщин и мужчин примерно одинаков;\n",
    "   - отток пользователей живущих поблизости с финтнес-клубом - больше;\n",
    "   - сотрудники компании-партнёра клуба бросают занятия с меньшей вероятностью, чем обычные клиенты;\n",
    "   - те, кто не использовал промо-код от знакомого при оформлении абонемента, намного чаще покидают клуб, чем те, кто использовал;\n",
    "   - телефоны указывают практически все клиенты, отток не указавших контактный телефон - минимален;\n",
    "   - пользователи, оформляющие месячный абонемент уходят гораздо чаще, чем оформляющие абонементы на 6 и 12 месяцев, отток клиентов с годовым абонементом - минимален;\n",
    "   - посещающие групповые занятия клинты уходят гораздо реже, чем те, кто их не посещает;\n",
    "   - средний возраст покидающих клуб меньше, чем тех, кто остается;\n",
    "   - чаще остальных уходят те пользователи, которые не тратят на другие услуги фитнес-центра: кафе, спорт-товары, массаж и пр. или тратят их в меньшем количестве; \n",
    "   - очень велика вероятность оттока тех клинтов, у которых остался месяц до истечения срока абонемента;\n",
    "   - если клиент ни разу не обратился в фитнес-центр в течение первых месяцев после оформления, то велика вероятность, что он не вернется;\n",
    "   - средний частота посещений фитнеса в неделю за все время с начала действия абонемента для покидающих клуб меньше, чем тех, кто остается, т.е. чем реже клиент ходил заниматься, тем выше вероятность, что он попал в отток;\n",
    "   - средняя частота посещений в неделю за предыдущий месяц для покинувших клуб не превышает 4 дней, т.е. те пользователи, которые решили покинуть клуб, скорее всего не приходили ни разу за последний месяц или были 1-2 раза.\n",
    "   \n",
    "Признаки, влияющие на показатель оттока клиентов из фитнес-клуба, следующие (в порядке убывания влияения на показатель):\n",
    "\n",
    "   - время с момента первого обращения в фитнес-центр;\n",
    "   - средняя частота посещений в неделю за предыдущий месяц;\n",
    "   - возраст клиента;\n",
    "   - длительность текущего действующего абонемента."
   ]
  },
  {
   "cell_type": "markdown",
   "metadata": {},
   "source": [
    "## Построение модели прогнозирования оттока пользователей"
   ]
  },
  {
   "cell_type": "markdown",
   "metadata": {},
   "source": [
    "В данном разделе я буду строить модель бинарной классификации пользователей, где целевой признак — факт оттока пользователя в следующем месяце. "
   ]
  },
  {
   "cell_type": "markdown",
   "metadata": {},
   "source": [
    "### Подготовка данных"
   ]
  },
  {
   "cell_type": "markdown",
   "metadata": {},
   "source": [
    "Для начала необходимо избавиться от мультиколлинеарности в данных. В исследуемом датасете присутствуют признаки, коэффициент корреляции между которыми очень большой (больше 0.8), с регрессией возникнут проблемы, а именно нерепрезентативные веса и переобученная под эти признаки модель. Для исключения факта мультиколлинеарности для каждой пары сильно скоррелированных признаков необходимо удалить один из них:\n",
    "\n",
    "В исследуемом датасете сильно коррелируют: \n",
    "- срок до окончания текущего действующего абонемента `month_to_end_contract` и длительность текущего действующего абонемента `contract_period` (k=0.97);\n",
    "- средняя частота посещений в неделю за предыдущий месяц `avg_class_frequency_current_month` и за все время с покупки абонемента `avg_class_frequency_total` (k=0.95).\n",
    "\n",
    "Исключу из каждой пары признаков по одному. В паре `avg_class_frequency_current_month`/`avg_class_frequency_total` исключу столбец средняя частота посещений в неделю за все время с покупки абонемента, т.к. выяснено, что признак **средняя частота посещений в неделю за предыдущий месяц** намного сильнее влияет на показатель оттока клиентов из фитнес-клуба."
   ]
  },
  {
   "cell_type": "code",
   "execution_count": 11,
   "metadata": {},
   "outputs": [
    {
     "data": {
      "text/html": [
       "<div>\n",
       "<style scoped>\n",
       "    .dataframe tbody tr th:only-of-type {\n",
       "        vertical-align: middle;\n",
       "    }\n",
       "\n",
       "    .dataframe tbody tr th {\n",
       "        vertical-align: top;\n",
       "    }\n",
       "\n",
       "    .dataframe thead th {\n",
       "        text-align: right;\n",
       "    }\n",
       "</style>\n",
       "<table border=\"1\" class=\"dataframe\">\n",
       "  <thead>\n",
       "    <tr style=\"text-align: right;\">\n",
       "      <th></th>\n",
       "      <th>gender</th>\n",
       "      <th>near_location</th>\n",
       "      <th>partner</th>\n",
       "      <th>promo_friends</th>\n",
       "      <th>phone</th>\n",
       "      <th>contract_period</th>\n",
       "      <th>group_visits</th>\n",
       "      <th>age</th>\n",
       "      <th>avg_additional_charges_total</th>\n",
       "      <th>lifetime</th>\n",
       "      <th>avg_class_frequency_current_month</th>\n",
       "      <th>churn</th>\n",
       "    </tr>\n",
       "  </thead>\n",
       "  <tbody>\n",
       "    <tr>\n",
       "      <th>gender</th>\n",
       "      <td>1.000000</td>\n",
       "      <td>0.006699</td>\n",
       "      <td>-0.010463</td>\n",
       "      <td>-0.005033</td>\n",
       "      <td>-0.008542</td>\n",
       "      <td>0.000502</td>\n",
       "      <td>0.017879</td>\n",
       "      <td>0.013807</td>\n",
       "      <td>-0.009334</td>\n",
       "      <td>0.013579</td>\n",
       "      <td>0.009156</td>\n",
       "      <td>0.000708</td>\n",
       "    </tr>\n",
       "    <tr>\n",
       "      <th>near_location</th>\n",
       "      <td>0.006699</td>\n",
       "      <td>1.000000</td>\n",
       "      <td>-0.005119</td>\n",
       "      <td>0.210964</td>\n",
       "      <td>-0.015763</td>\n",
       "      <td>0.150233</td>\n",
       "      <td>0.154728</td>\n",
       "      <td>0.058358</td>\n",
       "      <td>0.040761</td>\n",
       "      <td>0.070921</td>\n",
       "      <td>0.062664</td>\n",
       "      <td>-0.128098</td>\n",
       "    </tr>\n",
       "    <tr>\n",
       "      <th>partner</th>\n",
       "      <td>-0.010463</td>\n",
       "      <td>-0.005119</td>\n",
       "      <td>1.000000</td>\n",
       "      <td>0.451960</td>\n",
       "      <td>0.009970</td>\n",
       "      <td>0.306166</td>\n",
       "      <td>0.022710</td>\n",
       "      <td>0.047480</td>\n",
       "      <td>0.022941</td>\n",
       "      <td>0.061229</td>\n",
       "      <td>0.045561</td>\n",
       "      <td>-0.157986</td>\n",
       "    </tr>\n",
       "    <tr>\n",
       "      <th>promo_friends</th>\n",
       "      <td>-0.005033</td>\n",
       "      <td>0.210964</td>\n",
       "      <td>0.451960</td>\n",
       "      <td>1.000000</td>\n",
       "      <td>0.001982</td>\n",
       "      <td>0.244552</td>\n",
       "      <td>0.120170</td>\n",
       "      <td>0.050113</td>\n",
       "      <td>0.036898</td>\n",
       "      <td>0.072721</td>\n",
       "      <td>0.053768</td>\n",
       "      <td>-0.162233</td>\n",
       "    </tr>\n",
       "    <tr>\n",
       "      <th>phone</th>\n",
       "      <td>-0.008542</td>\n",
       "      <td>-0.015763</td>\n",
       "      <td>0.009970</td>\n",
       "      <td>0.001982</td>\n",
       "      <td>1.000000</td>\n",
       "      <td>-0.006893</td>\n",
       "      <td>-0.010099</td>\n",
       "      <td>-0.011403</td>\n",
       "      <td>0.009279</td>\n",
       "      <td>-0.018801</td>\n",
       "      <td>0.013375</td>\n",
       "      <td>-0.001177</td>\n",
       "    </tr>\n",
       "    <tr>\n",
       "      <th>contract_period</th>\n",
       "      <td>0.000502</td>\n",
       "      <td>0.150233</td>\n",
       "      <td>0.306166</td>\n",
       "      <td>0.244552</td>\n",
       "      <td>-0.006893</td>\n",
       "      <td>1.000000</td>\n",
       "      <td>0.169991</td>\n",
       "      <td>0.138249</td>\n",
       "      <td>0.111445</td>\n",
       "      <td>0.170725</td>\n",
       "      <td>0.159407</td>\n",
       "      <td>-0.389984</td>\n",
       "    </tr>\n",
       "    <tr>\n",
       "      <th>group_visits</th>\n",
       "      <td>0.017879</td>\n",
       "      <td>0.154728</td>\n",
       "      <td>0.022710</td>\n",
       "      <td>0.120170</td>\n",
       "      <td>-0.010099</td>\n",
       "      <td>0.169991</td>\n",
       "      <td>1.000000</td>\n",
       "      <td>0.080934</td>\n",
       "      <td>0.032079</td>\n",
       "      <td>0.075853</td>\n",
       "      <td>0.075923</td>\n",
       "      <td>-0.175325</td>\n",
       "    </tr>\n",
       "    <tr>\n",
       "      <th>age</th>\n",
       "      <td>0.013807</td>\n",
       "      <td>0.058358</td>\n",
       "      <td>0.047480</td>\n",
       "      <td>0.050113</td>\n",
       "      <td>-0.011403</td>\n",
       "      <td>0.138249</td>\n",
       "      <td>0.080934</td>\n",
       "      <td>1.000000</td>\n",
       "      <td>0.080240</td>\n",
       "      <td>0.164693</td>\n",
       "      <td>0.183095</td>\n",
       "      <td>-0.404735</td>\n",
       "    </tr>\n",
       "    <tr>\n",
       "      <th>avg_additional_charges_total</th>\n",
       "      <td>-0.009334</td>\n",
       "      <td>0.040761</td>\n",
       "      <td>0.022941</td>\n",
       "      <td>0.036898</td>\n",
       "      <td>0.009279</td>\n",
       "      <td>0.111445</td>\n",
       "      <td>0.032079</td>\n",
       "      <td>0.080240</td>\n",
       "      <td>1.000000</td>\n",
       "      <td>0.079028</td>\n",
       "      <td>0.079570</td>\n",
       "      <td>-0.198697</td>\n",
       "    </tr>\n",
       "    <tr>\n",
       "      <th>lifetime</th>\n",
       "      <td>0.013579</td>\n",
       "      <td>0.070921</td>\n",
       "      <td>0.061229</td>\n",
       "      <td>0.072721</td>\n",
       "      <td>-0.018801</td>\n",
       "      <td>0.170725</td>\n",
       "      <td>0.075853</td>\n",
       "      <td>0.164693</td>\n",
       "      <td>0.079028</td>\n",
       "      <td>1.000000</td>\n",
       "      <td>0.181975</td>\n",
       "      <td>-0.438220</td>\n",
       "    </tr>\n",
       "    <tr>\n",
       "      <th>avg_class_frequency_current_month</th>\n",
       "      <td>0.009156</td>\n",
       "      <td>0.062664</td>\n",
       "      <td>0.045561</td>\n",
       "      <td>0.053768</td>\n",
       "      <td>0.013375</td>\n",
       "      <td>0.159407</td>\n",
       "      <td>0.075923</td>\n",
       "      <td>0.183095</td>\n",
       "      <td>0.079570</td>\n",
       "      <td>0.181975</td>\n",
       "      <td>1.000000</td>\n",
       "      <td>-0.412348</td>\n",
       "    </tr>\n",
       "    <tr>\n",
       "      <th>churn</th>\n",
       "      <td>0.000708</td>\n",
       "      <td>-0.128098</td>\n",
       "      <td>-0.157986</td>\n",
       "      <td>-0.162233</td>\n",
       "      <td>-0.001177</td>\n",
       "      <td>-0.389984</td>\n",
       "      <td>-0.175325</td>\n",
       "      <td>-0.404735</td>\n",
       "      <td>-0.198697</td>\n",
       "      <td>-0.438220</td>\n",
       "      <td>-0.412348</td>\n",
       "      <td>1.000000</td>\n",
       "    </tr>\n",
       "  </tbody>\n",
       "</table>\n",
       "</div>"
      ],
      "text/plain": [
       "                                     gender  near_location   partner  \\\n",
       "gender                             1.000000       0.006699 -0.010463   \n",
       "near_location                      0.006699       1.000000 -0.005119   \n",
       "partner                           -0.010463      -0.005119  1.000000   \n",
       "promo_friends                     -0.005033       0.210964  0.451960   \n",
       "phone                             -0.008542      -0.015763  0.009970   \n",
       "contract_period                    0.000502       0.150233  0.306166   \n",
       "group_visits                       0.017879       0.154728  0.022710   \n",
       "age                                0.013807       0.058358  0.047480   \n",
       "avg_additional_charges_total      -0.009334       0.040761  0.022941   \n",
       "lifetime                           0.013579       0.070921  0.061229   \n",
       "avg_class_frequency_current_month  0.009156       0.062664  0.045561   \n",
       "churn                              0.000708      -0.128098 -0.157986   \n",
       "\n",
       "                                   promo_friends     phone  contract_period  \\\n",
       "gender                                 -0.005033 -0.008542         0.000502   \n",
       "near_location                           0.210964 -0.015763         0.150233   \n",
       "partner                                 0.451960  0.009970         0.306166   \n",
       "promo_friends                           1.000000  0.001982         0.244552   \n",
       "phone                                   0.001982  1.000000        -0.006893   \n",
       "contract_period                         0.244552 -0.006893         1.000000   \n",
       "group_visits                            0.120170 -0.010099         0.169991   \n",
       "age                                     0.050113 -0.011403         0.138249   \n",
       "avg_additional_charges_total            0.036898  0.009279         0.111445   \n",
       "lifetime                                0.072721 -0.018801         0.170725   \n",
       "avg_class_frequency_current_month       0.053768  0.013375         0.159407   \n",
       "churn                                  -0.162233 -0.001177        -0.389984   \n",
       "\n",
       "                                   group_visits       age  \\\n",
       "gender                                 0.017879  0.013807   \n",
       "near_location                          0.154728  0.058358   \n",
       "partner                                0.022710  0.047480   \n",
       "promo_friends                          0.120170  0.050113   \n",
       "phone                                 -0.010099 -0.011403   \n",
       "contract_period                        0.169991  0.138249   \n",
       "group_visits                           1.000000  0.080934   \n",
       "age                                    0.080934  1.000000   \n",
       "avg_additional_charges_total           0.032079  0.080240   \n",
       "lifetime                               0.075853  0.164693   \n",
       "avg_class_frequency_current_month      0.075923  0.183095   \n",
       "churn                                 -0.175325 -0.404735   \n",
       "\n",
       "                                   avg_additional_charges_total  lifetime  \\\n",
       "gender                                                -0.009334  0.013579   \n",
       "near_location                                          0.040761  0.070921   \n",
       "partner                                                0.022941  0.061229   \n",
       "promo_friends                                          0.036898  0.072721   \n",
       "phone                                                  0.009279 -0.018801   \n",
       "contract_period                                        0.111445  0.170725   \n",
       "group_visits                                           0.032079  0.075853   \n",
       "age                                                    0.080240  0.164693   \n",
       "avg_additional_charges_total                           1.000000  0.079028   \n",
       "lifetime                                               0.079028  1.000000   \n",
       "avg_class_frequency_current_month                      0.079570  0.181975   \n",
       "churn                                                 -0.198697 -0.438220   \n",
       "\n",
       "                                   avg_class_frequency_current_month     churn  \n",
       "gender                                                      0.009156  0.000708  \n",
       "near_location                                               0.062664 -0.128098  \n",
       "partner                                                     0.045561 -0.157986  \n",
       "promo_friends                                               0.053768 -0.162233  \n",
       "phone                                                       0.013375 -0.001177  \n",
       "contract_period                                             0.159407 -0.389984  \n",
       "group_visits                                                0.075923 -0.175325  \n",
       "age                                                         0.183095 -0.404735  \n",
       "avg_additional_charges_total                                0.079570 -0.198697  \n",
       "lifetime                                                    0.181975 -0.438220  \n",
       "avg_class_frequency_current_month                           1.000000 -0.412348  \n",
       "churn                                                      -0.412348  1.000000  "
      ]
     },
     "execution_count": 11,
     "metadata": {},
     "output_type": "execute_result"
    }
   ],
   "source": [
    "# убираю по одному из каждой пары коррелирующих признаков\n",
    "data.drop(['month_to_end_contract', 'avg_class_frequency_total'], axis=1, inplace=True)\n",
    "data.corr()"
   ]
  },
  {
   "cell_type": "markdown",
   "metadata": {},
   "source": [
    "### Создание и стандартизация выборок"
   ]
  },
  {
   "cell_type": "markdown",
   "metadata": {},
   "source": [
    "Создам датафрейм, соответствующий матрице объект-признак, и вектор (тип Series) целевой переменной `churn`. Разобью данные на обучающую и валидационную выборку функцией train_test_split() в отношении 80% к 20%."
   ]
  },
  {
   "cell_type": "code",
   "execution_count": 14,
   "metadata": {},
   "outputs": [],
   "source": [
    "# разделяю данные на признаки (матрица X) и целевую переменную (y)\n",
    "X = data.drop('churn', axis=1) \n",
    "y = data['churn']\n",
    "\n",
    "# разделяю модель на обучающую и валидационную выборку\n",
    "X_train, X_test, y_train, y_test = train_test_split(\n",
    "    X, y, test_size=0.2, random_state=0, stratify=y)"
   ]
  },
  {
   "cell_type": "markdown",
   "metadata": {},
   "source": [
    "Диапазоны значений признаков различаются. Веса для разных признаков должны учитывать масштаб этих признаков. Так, у признаков с меньшим масштабом веса должны быть больше, а у остальных — меньше. При этом значения коэффициентов следует подобрать такими, чтобы можно было оценить вклад каждого признака в общую взвешенную сумму. Чтобы веса можно было сравнивать, приведу признаки к единому масштабу. Для этого применю стандартизацию данных."
   ]
  },
  {
   "cell_type": "code",
   "execution_count": 15,
   "metadata": {},
   "outputs": [],
   "source": [
    "# создаю объект класса scaler\n",
    "scaler = StandardScaler()\n",
    "\n",
    "# обучаю StandartScaler на обучающей выборке\n",
    "scaler.fit(X_train)\n",
    "\n",
    "# стандартизирую обучающую выборку методом transform scaler \n",
    "X_train_st = scaler.transform(X_train)\n",
    "# стандартизирую тестовую выборку методом transform scaler\n",
    "X_test_st = scaler.transform(X_test)"
   ]
  },
  {
   "cell_type": "markdown",
   "metadata": {},
   "source": [
    "### Обучение моделей и подготовка прогнозов"
   ]
  },
  {
   "cell_type": "markdown",
   "metadata": {},
   "source": [
    "Обучать модель на train-выборке буду двумя способами:\n",
    "   - логистической регрессией;\n",
    "   - случайным лесом."
   ]
  },
  {
   "cell_type": "code",
   "execution_count": 16,
   "metadata": {},
   "outputs": [],
   "source": [
    "# задаю алгоритм для модели логистической регрессии\n",
    "lr_model = LogisticRegression(random_state=0)\n",
    "\n",
    "# обучаю модель логистической регрессии\n",
    "lr_model.fit(X_train_st, y_train)\n",
    "\n",
    "# воспользуюсь обученной моделью, чтобы сделать прогнозы\n",
    "lr_predictions = lr_model.predict(X_test_st)\n",
    "lr_probabilities = lr_model.predict_proba(X_test_st)[:, 1]\n",
    "\n",
    "# задаю алгоритм для модели на основе алгоритма случайного леса\n",
    "rf_model = RandomForestClassifier(random_state=0)\n",
    "\n",
    "# обучаю модель случайного леса\n",
    "rf_model.fit(X_train_st, y_train)\n",
    "\n",
    "# воспользуюсь обученной моделью, чтобы сделать прогнозы\n",
    "rf_predictions = rf_model.predict(X_test_st)\n",
    "rf_probabilities = rf_model.predict_proba(X_test_st)[:, 1]"
   ]
  },
  {
   "cell_type": "markdown",
   "metadata": {},
   "source": [
    "Опишу функцию вывода метрик `accuracy`, `precision` и `recall` и оценю модели на валидационной выборке. Проведу сравнительный анализ моделей на основе полученных результатов."
   ]
  },
  {
   "cell_type": "code",
   "execution_count": 23,
   "metadata": {},
   "outputs": [
    {
     "name": "stdout",
     "output_type": "stream",
     "text": [
      "Метрики для модели логистической регрессии:\n",
      "\tAccuracy: 0.92\n",
      "\tPrecision: 0.85\n",
      "\tRecall: 0.84\n",
      "\n",
      "Метрики для модели случайного леса:\n",
      "\tAccuracy: 0.91\n",
      "\tPrecision: 0.85\n",
      "\tRecall: 0.77\n"
     ]
    }
   ],
   "source": [
    "# определяю функцию, которая будет выводить необходимые метрики\n",
    "def print_metrics(y_true, y_pred, y_proba, title):\n",
    "    print(title)\n",
    "    print('\\tAccuracy: {:.2f}'.format(accuracy_score(y_true, y_pred)))\n",
    "    print('\\tPrecision: {:.2f}'.format(precision_score(y_true, y_pred)))\n",
    "    print('\\tRecall: {:.2f}'.format(recall_score(y_true, y_pred)))\n",
    "    \n",
    "print_metrics(\n",
    "    y_test,\n",
    "    lr_predictions,\n",
    "    lr_probabilities,\n",
    "    title='Метрики для модели логистической регрессии:'\n",
    ")\n",
    "print()\n",
    "\n",
    "print_metrics(\n",
    "    y_test,\n",
    "    rf_predictions,\n",
    "    rf_probabilities,\n",
    "    title='Метрики для модели случайного леса:'\n",
    ")"
   ]
  },
  {
   "cell_type": "markdown",
   "metadata": {},
   "source": [
    "Проверю соотношение классов:"
   ]
  },
  {
   "cell_type": "code",
   "execution_count": 21,
   "metadata": {},
   "outputs": [
    {
     "name": "stdout",
     "output_type": "stream",
     "text": [
      "Соотношение классов:\n",
      "0    2939\n",
      "1    1061\n",
      "Name: churn, dtype: int64\n",
      "\n"
     ]
    }
   ],
   "source": [
    "# соотносятся классов набора данных\n",
    "print('Соотношение классов:')\n",
    "print( data['churn'].value_counts())\n",
    "print()"
   ]
  },
  {
   "cell_type": "markdown",
   "metadata": {},
   "source": [
    "Метрики работают только при условии баланса классов — когда объектов каждого класса примерно поровну, 50%/50%, а в настоящем исследовании отток и оставшиеся клиенты распределены примерно 25%/75%. Классы несбалансированы, т.к. основаны на бинарных ответах, а результат `predict_proba()` уже нельзя интерпретировать как вероятность класса.\n",
    "\n",
    "Для получения более приемлемых результатов необходимо проверить значения метрик (баланс) при различных значениях порога:"
   ]
  },
  {
   "cell_type": "code",
   "execution_count": 22,
   "metadata": {
    "scrolled": false
   },
   "outputs": [
    {
     "name": "stdout",
     "output_type": "stream",
     "text": [
      "\u001b[1mЗначение метрик при пороговом значении 0 \u001b[0m\n",
      "Метрики для модели логистической регрессии\n",
      "\tAccuracy: 0.27\n",
      "\tPrecision: 0.27\n",
      "\tRecall: 1.00\n",
      "\n",
      "Метрики для модели случайного леса\n",
      "\tAccuracy: 0.27\n",
      "\tPrecision: 0.27\n",
      "\tRecall: 1.00\n",
      "\n",
      "\u001b[1mЗначение метрик при пороговом значении 0.1 \u001b[0m\n",
      "Метрики для модели логистической регрессии\n",
      "\tAccuracy: 0.85\n",
      "\tPrecision: 0.65\n",
      "\tRecall: 0.97\n",
      "\n",
      "Метрики для модели случайного леса\n",
      "\tAccuracy: 0.78\n",
      "\tPrecision: 0.55\n",
      "\tRecall: 0.97\n",
      "\n",
      "\u001b[1mЗначение метрик при пороговом значении 0.2 \u001b[0m\n",
      "Метрики для модели логистической регрессии\n",
      "\tAccuracy: 0.89\n",
      "\tPrecision: 0.72\n",
      "\tRecall: 0.97\n",
      "\n",
      "Метрики для модели случайного леса\n",
      "\tAccuracy: 0.85\n",
      "\tPrecision: 0.66\n",
      "\tRecall: 0.94\n",
      "\n",
      "\u001b[1mЗначение метрик при пороговом значении 0.3 \u001b[0m\n",
      "Метрики для модели логистической регрессии\n",
      "\tAccuracy: 0.90\n",
      "\tPrecision: 0.76\n",
      "\tRecall: 0.93\n",
      "\n",
      "Метрики для модели случайного леса\n",
      "\tAccuracy: 0.89\n",
      "\tPrecision: 0.74\n",
      "\tRecall: 0.91\n",
      "\n",
      "\u001b[1mЗначение метрик при пороговом значении 0.4 \u001b[0m\n",
      "Метрики для модели логистической регрессии\n",
      "\tAccuracy: 0.92\n",
      "\tPrecision: 0.81\n",
      "\tRecall: 0.89\n",
      "\n",
      "Метрики для модели случайного леса\n",
      "\tAccuracy: 0.91\n",
      "\tPrecision: 0.80\n",
      "\tRecall: 0.88\n",
      "\n",
      "\u001b[1mЗначение метрик при пороговом значении 0.5 \u001b[0m\n",
      "Метрики для модели логистической регрессии\n",
      "\tAccuracy: 0.92\n",
      "\tPrecision: 0.85\n",
      "\tRecall: 0.84\n",
      "\n",
      "Метрики для модели случайного леса\n",
      "\tAccuracy: 0.91\n",
      "\tPrecision: 0.85\n",
      "\tRecall: 0.78\n",
      "\n",
      "\u001b[1mЗначение метрик при пороговом значении 0.6 \u001b[0m\n",
      "Метрики для модели логистической регрессии\n",
      "\tAccuracy: 0.91\n",
      "\tPrecision: 0.87\n",
      "\tRecall: 0.77\n",
      "\n",
      "Метрики для модели случайного леса\n",
      "\tAccuracy: 0.90\n",
      "\tPrecision: 0.88\n",
      "\tRecall: 0.72\n",
      "\n",
      "\u001b[1mЗначение метрик при пороговом значении 0.7 \u001b[0m\n",
      "Метрики для модели логистической регрессии\n",
      "\tAccuracy: 0.90\n",
      "\tPrecision: 0.91\n",
      "\tRecall: 0.68\n",
      "\n",
      "Метрики для модели случайного леса\n",
      "\tAccuracy: 0.88\n",
      "\tPrecision: 0.91\n",
      "\tRecall: 0.62\n",
      "\n",
      "\u001b[1mЗначение метрик при пороговом значении 0.8 \u001b[0m\n",
      "Метрики для модели логистической регрессии\n",
      "\tAccuracy: 0.89\n",
      "\tPrecision: 0.93\n",
      "\tRecall: 0.61\n",
      "\n",
      "Метрики для модели случайного леса\n",
      "\tAccuracy: 0.87\n",
      "\tPrecision: 0.94\n",
      "\tRecall: 0.55\n",
      "\n",
      "\u001b[1mЗначение метрик при пороговом значении 0.9 \u001b[0m\n",
      "Метрики для модели логистической регрессии\n",
      "\tAccuracy: 0.84\n",
      "\tPrecision: 0.95\n",
      "\tRecall: 0.44\n",
      "\n",
      "Метрики для модели случайного леса\n",
      "\tAccuracy: 0.83\n",
      "\tPrecision: 0.95\n",
      "\tRecall: 0.37\n",
      "\n",
      "\u001b[1mЗначение метрик при пороговом значении 1 \u001b[0m\n",
      "Метрики для модели логистической регрессии\n",
      "\tAccuracy: 0.73\n",
      "\tPrecision: 0.00\n",
      "\tRecall: 0.00\n",
      "\n",
      "Метрики для модели случайного леса\n",
      "\tAccuracy: 0.75\n",
      "\tPrecision: 1.00\n",
      "\tRecall: 0.05\n",
      "\n"
     ]
    }
   ],
   "source": [
    "# устанавливаю порог\n",
    "threshold = [0, 0.1, 0.2, 0.3, 0.4, 0.5, 0.6, 0.7, 0.8, 0.9, 1]\n",
    "\n",
    "# на основании вероятностей и соотношения классов рассчитаю predict\n",
    "for element in threshold:\n",
    "    lr_custom_predictions = [0 if i < element else 1 for i in lr_probabilities]\n",
    "    rf_custom_predictions = [0 if i < element else 1 for i in rf_probabilities]\n",
    "\n",
    "    print('\\033[1m' + 'Значение метрик при пороговом значении', element, '\\033[0m')\n",
    "    print_metrics(\n",
    "        y_test,\n",
    "        lr_custom_predictions,\n",
    "        lr_probabilities,\n",
    "        title='Метрики для модели логистической регрессии'\n",
    "    )\n",
    "    print()\n",
    "\n",
    "    print_metrics(\n",
    "        y_test,\n",
    "        rf_custom_predictions,\n",
    "        rf_probabilities,\n",
    "        title='Метрики для модели случайного леса'\n",
    "    )\n",
    "    print()"
   ]
  },
  {
   "cell_type": "markdown",
   "metadata": {},
   "source": [
    "Наиболее оптимальное соотношение метрик достигается при пороге в 0.5 (как и было рассчитано ранее):\n",
    "\n",
    "Метрики для модели логистической регрессии:\n",
    "\n",
    "- Доля правильных ответов: 92%\n",
    "- Точность: 85%\n",
    "- Полнота: 84%\n",
    "\n",
    "Метрики для модели случайного леса:\n",
    "\n",
    "- Доля правильных ответов: 91%\n",
    "- Точность: 85%\n",
    "- Полнота: 77%\n",
    "\n",
    "Сложно однозначно сказать, какая из моделей показала себя лучше на основании полученных метрик, т.к. все значения примерно соизмеримы друг с другом, однако т.к. параметр полноты выше в модели `случайный лес` при равных значениям доли правильных ответов и точности, поэтому буду считать, что модель `случайный лес` показала себя лучше, чем логистическая рагрессия."
   ]
  },
  {
   "cell_type": "markdown",
   "metadata": {},
   "source": [
    "### Выводы по разделу"
   ]
  },
  {
   "cell_type": "markdown",
   "metadata": {},
   "source": [
    "В результате проведенного исследования в данных исключена мультиколлинеарность. Построены модели бинарной классификации клиентов, где целевым признаком является факт оттока клиента в следующем месяце. Данные разбиты на обучающую и валидационную выборки, стандартизованы.\n",
    "\n",
    "Выбраны 2 модели машинного обучения для построения прогрноза оттка пользователей:\n",
    "\n",
    "- логистическая регрессия;\n",
    "- случайный лес.\n",
    "\n",
    "Модель `случайные лес` показала себя лучше на основании полученных значений исследуемых метрик."
   ]
  },
  {
   "cell_type": "markdown",
   "metadata": {},
   "source": [
    "## Кластеризация пользователей"
   ]
  },
  {
   "cell_type": "markdown",
   "metadata": {},
   "source": [
    "В данном разделе буду проводить кластеризацию пользователей с учётом имеющихся в датафреме признаков, а именно, выделять несколько наиболее ярких групп и характеризовать их основные свойства для анализа основных признаков, наиболее сильно влияющих на отток в данных группах. "
   ]
  },
  {
   "cell_type": "markdown",
   "metadata": {},
   "source": [
    "### Стандартизация и построение дендрограммы"
   ]
  },
  {
   "cell_type": "markdown",
   "metadata": {},
   "source": [
    "Для начала проведу обязательную стандартизацию данных перед работой с алгоритмами. Построю матрицу расстояний функцией `linkage()` на стандартизованной матрице признаков и нарисую дендрограмму. "
   ]
  },
  {
   "cell_type": "code",
   "execution_count": 17,
   "metadata": {},
   "outputs": [
    {
     "data": {
      "image/png": "[encoded data removed]",
      "text/plain": [
       "<Figure size 1080x720 with 1 Axes>"
      ]
     },
     "metadata": {
      "needs_background": "light"
     },
     "output_type": "display_data"
    }
   ],
   "source": [
    "# обязательная стандартизация данных перед работой с алгоритмами\n",
    "sc = StandardScaler()\n",
    "X_sc = sc.fit_transform(X)\n",
    "\n",
    "linked = linkage(X_sc, method = 'ward') \n",
    "\n",
    "# визуализмрую\n",
    "plt.figure(figsize=(15, 10))  \n",
    "dendrogram(linked, orientation='top')\n",
    "plt.title('Кластеризация пользователей фитнес-клуба')\n",
    "plt.xticks([])\n",
    "plt.show() "
   ]
  },
  {
   "cell_type": "markdown",
   "metadata": {},
   "source": [
    "Предложенное оптимальное число кластеров 4 — четыре разных цвета на дендрограмме, однако визуально пятый кластер по-крупному бьётся еще на 2, поэтому для увеличения точности будущих прогнозов приму **K=5**."
   ]
  },
  {
   "cell_type": "markdown",
   "metadata": {},
   "source": [
    "### Обучение модели кластеризации"
   ]
  },
  {
   "cell_type": "code",
   "execution_count": 18,
   "metadata": {},
   "outputs": [
    {
     "data": {
      "text/plain": [
       "labels\n",
       "2    1064\n",
       "3    1007\n",
       "0     985\n",
       "1     558\n",
       "4     386\n",
       "dtype: int64"
      ]
     },
     "execution_count": 18,
     "metadata": {},
     "output_type": "execute_result"
    }
   ],
   "source": [
    "# задаю число кластеров, равное 5, и фиксирую значение random_state для воспроизводимости результата\n",
    "km = KMeans(n_clusters=5, random_state=0)\n",
    "\n",
    "# применяю алгоритм к данным и формирую вектор кластеров \n",
    "labels = km.fit_predict(X_sc) \n",
    "data['labels'] = labels\n",
    "data.value_counts('labels').sort_values(ascending=False)"
   ]
  },
  {
   "cell_type": "markdown",
   "metadata": {},
   "source": [
    "### Расчеты в кластерах"
   ]
  },
  {
   "cell_type": "markdown",
   "metadata": {},
   "source": [
    "Рассчитаю средние значения признаков для каждого из кластеров:"
   ]
  },
  {
   "cell_type": "code",
   "execution_count": 19,
   "metadata": {},
   "outputs": [
    {
     "data": {
      "text/html": [
       "<div>\n",
       "<style scoped>\n",
       "    .dataframe tbody tr th:only-of-type {\n",
       "        vertical-align: middle;\n",
       "    }\n",
       "\n",
       "    .dataframe tbody tr th {\n",
       "        vertical-align: top;\n",
       "    }\n",
       "\n",
       "    .dataframe thead th {\n",
       "        text-align: right;\n",
       "    }\n",
       "</style>\n",
       "<table border=\"1\" class=\"dataframe\">\n",
       "  <thead>\n",
       "    <tr style=\"text-align: right;\">\n",
       "      <th></th>\n",
       "      <th>gender</th>\n",
       "      <th>near_location</th>\n",
       "      <th>partner</th>\n",
       "      <th>promo_friends</th>\n",
       "      <th>phone</th>\n",
       "      <th>contract_period</th>\n",
       "      <th>group_visits</th>\n",
       "      <th>age</th>\n",
       "      <th>avg_additional_charges_total</th>\n",
       "      <th>lifetime</th>\n",
       "      <th>avg_class_frequency_current_month</th>\n",
       "      <th>churn</th>\n",
       "    </tr>\n",
       "    <tr>\n",
       "      <th>labels</th>\n",
       "      <th></th>\n",
       "      <th></th>\n",
       "      <th></th>\n",
       "      <th></th>\n",
       "      <th></th>\n",
       "      <th></th>\n",
       "      <th></th>\n",
       "      <th></th>\n",
       "      <th></th>\n",
       "      <th></th>\n",
       "      <th></th>\n",
       "      <th></th>\n",
       "    </tr>\n",
       "  </thead>\n",
       "  <tbody>\n",
       "    <tr>\n",
       "      <th>0</th>\n",
       "      <td>0.496447</td>\n",
       "      <td>0.995939</td>\n",
       "      <td>0.892386</td>\n",
       "      <td>1.000000</td>\n",
       "      <td>1.0</td>\n",
       "      <td>6.922843</td>\n",
       "      <td>0.524873</td>\n",
       "      <td>29.606091</td>\n",
       "      <td>153.424651</td>\n",
       "      <td>4.283249</td>\n",
       "      <td>1.919520</td>\n",
       "      <td>0.119797</td>\n",
       "    </tr>\n",
       "    <tr>\n",
       "      <th>1</th>\n",
       "      <td>0.500000</td>\n",
       "      <td>0.000000</td>\n",
       "      <td>0.489247</td>\n",
       "      <td>0.078853</td>\n",
       "      <td>1.0</td>\n",
       "      <td>2.994624</td>\n",
       "      <td>0.232975</td>\n",
       "      <td>28.679211</td>\n",
       "      <td>137.125763</td>\n",
       "      <td>2.974910</td>\n",
       "      <td>1.597146</td>\n",
       "      <td>0.403226</td>\n",
       "    </tr>\n",
       "    <tr>\n",
       "      <th>2</th>\n",
       "      <td>0.500940</td>\n",
       "      <td>1.000000</td>\n",
       "      <td>0.217105</td>\n",
       "      <td>0.072368</td>\n",
       "      <td>1.0</td>\n",
       "      <td>2.010338</td>\n",
       "      <td>0.277256</td>\n",
       "      <td>27.583647</td>\n",
       "      <td>119.339956</td>\n",
       "      <td>1.922932</td>\n",
       "      <td>1.203319</td>\n",
       "      <td>0.563910</td>\n",
       "    </tr>\n",
       "    <tr>\n",
       "      <th>3</th>\n",
       "      <td>0.534260</td>\n",
       "      <td>0.996028</td>\n",
       "      <td>0.379345</td>\n",
       "      <td>0.009930</td>\n",
       "      <td>1.0</td>\n",
       "      <td>6.208540</td>\n",
       "      <td>0.538232</td>\n",
       "      <td>30.699106</td>\n",
       "      <td>176.259567</td>\n",
       "      <td>5.415094</td>\n",
       "      <td>2.324220</td>\n",
       "      <td>0.014896</td>\n",
       "    </tr>\n",
       "    <tr>\n",
       "      <th>4</th>\n",
       "      <td>0.523316</td>\n",
       "      <td>0.862694</td>\n",
       "      <td>0.471503</td>\n",
       "      <td>0.305699</td>\n",
       "      <td>0.0</td>\n",
       "      <td>4.777202</td>\n",
       "      <td>0.427461</td>\n",
       "      <td>29.297927</td>\n",
       "      <td>144.208179</td>\n",
       "      <td>3.940415</td>\n",
       "      <td>1.723967</td>\n",
       "      <td>0.266839</td>\n",
       "    </tr>\n",
       "  </tbody>\n",
       "</table>\n",
       "</div>"
      ],
      "text/plain": [
       "          gender  near_location   partner  promo_friends  phone  \\\n",
       "labels                                                            \n",
       "0       0.496447       0.995939  0.892386       1.000000    1.0   \n",
       "1       0.500000       0.000000  0.489247       0.078853    1.0   \n",
       "2       0.500940       1.000000  0.217105       0.072368    1.0   \n",
       "3       0.534260       0.996028  0.379345       0.009930    1.0   \n",
       "4       0.523316       0.862694  0.471503       0.305699    0.0   \n",
       "\n",
       "        contract_period  group_visits        age  \\\n",
       "labels                                             \n",
       "0              6.922843      0.524873  29.606091   \n",
       "1              2.994624      0.232975  28.679211   \n",
       "2              2.010338      0.277256  27.583647   \n",
       "3              6.208540      0.538232  30.699106   \n",
       "4              4.777202      0.427461  29.297927   \n",
       "\n",
       "        avg_additional_charges_total  lifetime  \\\n",
       "labels                                           \n",
       "0                         153.424651  4.283249   \n",
       "1                         137.125763  2.974910   \n",
       "2                         119.339956  1.922932   \n",
       "3                         176.259567  5.415094   \n",
       "4                         144.208179  3.940415   \n",
       "\n",
       "        avg_class_frequency_current_month     churn  \n",
       "labels                                               \n",
       "0                                1.919520  0.119797  \n",
       "1                                1.597146  0.403226  \n",
       "2                                1.203319  0.563910  \n",
       "3                                2.324220  0.014896  \n",
       "4                                1.723967  0.266839  "
      ]
     },
     "execution_count": 19,
     "metadata": {},
     "output_type": "execute_result"
    }
   ],
   "source": [
    "# вывожу статистику по средним значениям признаков по кластеру\n",
    "data.groupby('labels').agg('mean')"
   ]
  },
  {
   "cell_type": "markdown",
   "metadata": {},
   "source": [
    "По полученным значениям можно заметить следующее:\n",
    "\n",
    "- группа пользователей, не проживающих в районе фитнес-клуба,\n",
    "- группа пользователей с преобладанием в ней сотрудников компаний-партнёров клуба,\n",
    "- группа пользователей, в которой использован промо-код от знакомого при оплате первого абонемента\n",
    "\n",
    "имеют характерные особенности, отличные от других пользователей.\n",
    "\n",
    "Также можно увидеть, что в двух группах, в которых происходит больше всего оттока пользователей (среднее значения `churn` равно 0.4 и 0,56):\n",
    "- самое маленькое значение среднего возраста;\n",
    "- самое короткое среднее время с момента первого обращения в фитнес-центр;\n",
    "- самое маленькое значение средней частоты посещений в неделю за предыдущий месяц; \n",
    "- самый маленький показатель средней суммарной выручки от других услуг фитнес-центра;\n",
    "- минимальное посещение групповых занятый;\n",
    "- самое маленькое значение средней длительности абонемента.\n",
    "\n",
    "Построю графики распределения признаков для полученных кластеров. Для дискретных переменных буду использовать столбцовые графики с накоплением, а для непрерывных переменных - гистограммы с применением ранее написанной функции `graphics`."
   ]
  },
  {
   "cell_type": "code",
   "execution_count": 20,
   "metadata": {
    "scrolled": false
   },
   "outputs": [
    {
     "data": {
      "image/png": "[encoded data removed]",
      "text/plain": [
       "<Figure size 432x288 with 1 Axes>"
      ]
     },
     "metadata": {
      "needs_background": "light"
     },
     "output_type": "display_data"
    },
    {
     "data": {
      "image/png": "[encoded data removed]",
      "text/plain": [
       "<Figure size 432x288 with 1 Axes>"
      ]
     },
     "metadata": {
      "needs_background": "light"
     },
     "output_type": "display_data"
    },
    {
     "data": {
      "image/png": "[encoded data removed]",
      "text/plain": [
       "<Figure size 432x288 with 1 Axes>"
      ]
     },
     "metadata": {
      "needs_background": "light"
     },
     "output_type": "display_data"
    },
    {
     "data": {
      "image/png": "[encoded data removed]",
      "text/plain": [
       "<Figure size 432x288 with 1 Axes>"
      ]
     },
     "metadata": {
      "needs_background": "light"
     },
     "output_type": "display_data"
    },
    {
     "data": {
      "image/png": "[encoded data removed]",
      "text/plain": [
       "<Figure size 432x288 with 1 Axes>"
      ]
     },
     "metadata": {
      "needs_background": "light"
     },
     "output_type": "display_data"
    },
    {
     "data": {
      "image/png": "[encoded data removed]",
      "text/plain": [
       "<Figure size 432x288 with 1 Axes>"
      ]
     },
     "metadata": {
      "needs_background": "light"
     },
     "output_type": "display_data"
    },
    {
     "data": {
      "image/png": "[encoded data removed]",
      "text/plain": [
       "<Figure size 432x288 with 1 Axes>"
      ]
     },
     "metadata": {
      "needs_background": "light"
     },
     "output_type": "display_data"
    },
    {
     "data": {
      "image/png": "[encoded data removed]",
      "text/plain": [
       "<Figure size 432x288 with 1 Axes>"
      ]
     },
     "metadata": {
      "needs_background": "light"
     },
     "output_type": "display_data"
    },
    {
     "data": {
      "image/png": "[encoded data removed]",
      "text/plain": [
       "<Figure size 432x288 with 1 Axes>"
      ]
     },
     "metadata": {
      "needs_background": "light"
     },
     "output_type": "display_data"
    },
    {
     "data": {
      "image/png": "[encoded data removed]",
      "text/plain": [
       "<Figure size 432x288 with 1 Axes>"
      ]
     },
     "metadata": {
      "needs_background": "light"
     },
     "output_type": "display_data"
    },
    {
     "data": {
      "image/png": "[encoded data removed]",
      "text/plain": [
       "<Figure size 432x288 with 1 Axes>"
      ]
     },
     "metadata": {
      "needs_background": "light"
     },
     "output_type": "display_data"
    },
    {
     "data": {
      "image/png": "[encoded data removed]",
      "text/plain": [
       "<Figure size 432x288 with 1 Axes>"
      ]
     },
     "metadata": {
      "needs_background": "light"
     },
     "output_type": "display_data"
    }
   ],
   "source": [
    "graphics(data, 'labels', data.columns)"
   ]
  },
  {
   "cell_type": "markdown",
   "metadata": {},
   "source": [
    "По полученным графикам распределений можно заметить:\n",
    "- абсолютно отсутствует отток тех клиентов, которые часто посещают клуб (более 2 раз в неделю), у которых фитнес находится рядом с домом;\n",
    "- высокий отток характерен для клиентов помладше;\n",
    "- высокий отток также характерен для пользователей кто мало тратит или не тратит вовсе деньги на другие услиги фитнес-клуба: кафе, спорт-товары, косметический и массажный салон.\n",
    "\n",
    "Для каждого полученного кластера посчитаю долю оттока:"
   ]
  },
  {
   "cell_type": "code",
   "execution_count": 21,
   "metadata": {},
   "outputs": [
    {
     "name": "stdout",
     "output_type": "stream",
     "text": [
      "labels\n",
      "0    0.119797\n",
      "1    0.403226\n",
      "2    0.563910\n",
      "3    0.014896\n",
      "4    0.266839\n",
      "Name: churn, dtype: float64\n"
     ]
    }
   ],
   "source": [
    "#data.query('churn == 1').groupby('labels')['churn'].count() / data.groupby('labels')['churn'].count()\n",
    "print(data.groupby('labels')['churn'].mean())"
   ]
  },
  {
   "cell_type": "markdown",
   "metadata": {},
   "source": [
    "Проанализировав получившиеся значения, можно сказать о том, что **группа 3 наиболее надёжна**. Процент оттока клиентов в данной группе менее 1,5%, тогда как **группы 2 и 1 склонны к оттоку** клиентов, в них процент отказа от услуг фитнес-центра равен 56,4% и 40,3% соответственно. Также можно сказать, что **из группы 0 также уходит небольшое количество клиентов**, всего 12%, а **группу 4 покидает меньше трети клиентов**.\n",
    "\n",
    "Для определения основных признаков, наиболее сильно влияющие на отток пользователей, необходимо обратиться к таблице средних значений признаков для каждого из кластеров. Проанализировать необходимо те кластеры, в которых наблюдается минимальный и максимальный отток пользователей, а именно кластеры №3, 2 и 1."
   ]
  },
  {
   "cell_type": "markdown",
   "metadata": {},
   "source": [
    "### Выводы по разделу"
   ]
  },
  {
   "cell_type": "markdown",
   "metadata": {},
   "source": [
    "Данные разбиты на 5 кластеров. \n",
    "\n",
    "По полученным средним значениям признаков для каждого из кластеров можно заметить, что в группах, где происходит больше всего оттока пользователей:\n",
    "- самое маленькое значение среднего возраста;\n",
    "- самое короткое среднее время с момента первого обращения в фитнес-центр;\n",
    "- самое маленькое значение средней частоты посещений в неделю за предыдущий месяц;\n",
    "- самый маленький показатель средней суммарной выручки от других услуг фитнес-центра;\n",
    "- минимальное посещение групповых занятый;\n",
    "- самое маленькое значение средней длительности абонемента."
   ]
  },
  {
   "cell_type": "markdown",
   "metadata": {},
   "source": [
    "## Выводы и рекомендации"
   ]
  },
  {
   "cell_type": "markdown",
   "metadata": {},
   "source": [
    "### Выводы"
   ]
  },
  {
   "cell_type": "markdown",
   "metadata": {},
   "source": [
    "Проведенное исследование показало:\n",
    "\n",
    "- отток женщин и мужчин примерно одинаков;\n",
    "- сотрудники компании-партнёра клуба бросают занятия с меньшей вероятностью, чем обычные клиенты;\n",
    "- те, кто не использовал промо-код от знакомого при оформлении абонемента, намного чаще покидают клуб, чем те, кто использовал;\n",
    "- телефоны указывают практически все клиенты, отток не указавших контактный телефон - минимален;\n",
    "- пользователи, оформляющие месячный абонемент уходят гораздо чаще, чем оформляющие абонементы на 6 и 12 месяцев, отток клиентов с годовым абонементом - минимален;\n",
    "- посещающие групповые занятия клинты уходят гораздо реже, чем те, кто их не посещает;\n",
    "- средний возраст покидающих клуб меньше, чем тех, кто остается;\n",
    "- чаще остальных уходят те пользователи, которые не тратят на другие услуги фитнес-центра: кафе, спорт-товары, массаж и пр. или тратят их в меньшем количестве;\n",
    "- очень велика вероятность оттока тех клинтов, у которых остался месяц и меньше до истечения срока абонемента;\n",
    "- если клиент ни разу не обратился в фитнес-центр в течение первых месяцев после оформления, то велика вероятность, что он не вернется;\n",
    "- средняя частота посещений фитнеса в неделю за все время с начала действия абонемента для покидающих клуб меньше, чем тех, кто остается, т.е. чем реже клиент ходил заниматься, тем выше вероятность, что он попал в отток;\n",
    "- средняя частота посещений в неделю за предыдущий месяц для покинувших клуб не превышает 4 дней, т.е. те пользователи, которые решили покинуть клуб, скорее всего не приходили ни разу за последний месяц или были 1-2 раза.\n",
    "\n",
    "Признаки, влияющие на показатель оттока клиентов из фитнес-клуба, следующие (в порядке убывания влияения на показатель):\n",
    "\n",
    "- время с момента первого обращения в фитнес-центр;\n",
    "- средняя частота посещений в неделю за предыдущий месяц;\n",
    "- возраст клиента;\n",
    "- длительность текущего действующего абонемента.\n",
    "\n",
    "Определено:    \n",
    "\n",
    "- абсолютно отсутствует отток тех клиентов, которые часто посещают клуб (более 2 раз в неделю), у которых фитнес находится рядом с домом;\n",
    "- высокий отток характерен для клиентов помладше;\n",
    "- высокий отток также характерен для пользователей кто мало тратит или не тратит вовсе деньги на другие услиги фитнес-клуба: кафе, спорт-товары, косметический и массажный салон.\n",
    "\n",
    "Для группы с минимальным оттоком клентов характерны слудующие признаки:\n",
    "\n",
    "- НЕ использован промо-код от знакомого при оплате первого абонемента;\n",
    "- покупка 6-месячного абонемента;\n",
    "- частое посещение групповых занятий;\n",
    "- посещение фитнеса в среднем 2-3 раза в неделю;\n",
    "- среднее время с момента первого обращения в фитнес-центр - около 5 месяцев;\n",
    "- высокий уровень трат на другие услуги фитнес-центра.\n",
    "\n",
    "Для групп с максимальным оттоком характерно:\n",
    "\n",
    "- низкий уровень трат на другие услуги фитнес-центра;\n",
    "- среднее время с момента первого обращения в фитнес-центр - около 2-3 месяцев;\n",
    "- редкое посещение групповых занятий;\n",
    "- покупка абонемента на 1 месяц."
   ]
  },
  {
   "cell_type": "markdown",
   "metadata": {},
   "source": [
    "### Рекомендации"
   ]
  },
  {
   "cell_type": "markdown",
   "metadata": {},
   "source": [
    "Исходя из проделанной работы, можно сформулировать основные базовые рекомендации для стратегии взаимодействия с клиентами для уменьшения их оттока из фитнес-центра:\n",
    "- вести активные кампании по привлечению пользователей на групповые занятия клуба;\n",
    "- делать хорошие скидки на полугодовые абонементы;\n",
    "- осуществлять поощрения тех пользователей (скидки, подарки), которые посещвют фитнес клуб 2 и более раз в месяц\n",
    "- делать масштабные рекламные кампании в районе нахождения фитнес-центра."
   ]
  }
 ],
 "metadata": {
  "ExecuteTimeLog": [
   {
    "duration": 1322,
    "start_time": "2022-05-18T05:41:37.561Z"
   },
   {
    "duration": 147,
    "start_time": "2022-05-18T05:41:38.885Z"
   },
   {
    "duration": 4,
    "start_time": "2022-05-18T05:41:39.033Z"
   },
   {
    "duration": 9,
    "start_time": "2022-05-18T05:41:39.039Z"
   },
   {
    "duration": 48,
    "start_time": "2022-05-18T05:41:39.049Z"
   },
   {
    "duration": 9,
    "start_time": "2022-05-18T05:41:39.098Z"
   },
   {
    "duration": 27,
    "start_time": "2022-05-18T05:41:39.108Z"
   },
   {
    "duration": 10,
    "start_time": "2022-05-18T05:41:39.136Z"
   },
   {
    "duration": 125,
    "start_time": "2022-05-18T05:41:39.147Z"
   },
   {
    "duration": 0,
    "start_time": "2022-05-18T05:41:39.273Z"
   },
   {
    "duration": 385,
    "start_time": "2022-05-18T05:54:22.853Z"
   },
   {
    "duration": 215,
    "start_time": "2022-05-18T08:07:29.704Z"
   },
   {
    "duration": 50,
    "start_time": "2022-05-18T08:07:42.150Z"
   },
   {
    "duration": 32,
    "start_time": "2022-05-18T08:08:19.107Z"
   },
   {
    "duration": 402,
    "start_time": "2022-05-18T08:08:35.426Z"
   },
   {
    "duration": 31,
    "start_time": "2022-05-18T08:08:50.370Z"
   },
   {
    "duration": 482,
    "start_time": "2022-05-18T08:09:03.714Z"
   },
   {
    "duration": 480,
    "start_time": "2022-05-18T08:09:14.390Z"
   },
   {
    "duration": 311,
    "start_time": "2022-05-18T08:11:14.258Z"
   },
   {
    "duration": 1977,
    "start_time": "2022-05-18T08:13:40.043Z"
   },
   {
    "duration": 58,
    "start_time": "2022-05-18T08:17:37.404Z"
   },
   {
    "duration": 29,
    "start_time": "2022-05-18T08:17:59.075Z"
   },
   {
    "duration": 19,
    "start_time": "2022-05-18T08:18:30.459Z"
   },
   {
    "duration": 26,
    "start_time": "2022-05-18T08:18:49.267Z"
   },
   {
    "duration": 18,
    "start_time": "2022-05-18T08:18:59.763Z"
   },
   {
    "duration": 29,
    "start_time": "2022-05-18T08:19:08.589Z"
   },
   {
    "duration": 1199,
    "start_time": "2022-05-18T08:19:20.717Z"
   },
   {
    "duration": 207,
    "start_time": "2022-05-18T08:20:35.948Z"
   },
   {
    "duration": 381,
    "start_time": "2022-05-18T08:20:58.547Z"
   },
   {
    "duration": 280,
    "start_time": "2022-05-18T08:21:50.409Z"
   },
   {
    "duration": 525,
    "start_time": "2022-05-18T08:21:59.165Z"
   },
   {
    "duration": 371,
    "start_time": "2022-05-18T08:22:08.181Z"
   },
   {
    "duration": 298,
    "start_time": "2022-05-18T08:22:26.045Z"
   },
   {
    "duration": 296,
    "start_time": "2022-05-18T08:22:33.445Z"
   },
   {
    "duration": 510,
    "start_time": "2022-05-18T08:22:38.660Z"
   },
   {
    "duration": 327,
    "start_time": "2022-05-18T08:22:43.549Z"
   },
   {
    "duration": 309,
    "start_time": "2022-05-18T08:22:49.573Z"
   },
   {
    "duration": 284,
    "start_time": "2022-05-18T08:22:53.565Z"
   },
   {
    "duration": 244,
    "start_time": "2022-05-18T08:22:58.334Z"
   },
   {
    "duration": 257,
    "start_time": "2022-05-18T08:23:05.517Z"
   },
   {
    "duration": 340,
    "start_time": "2022-05-18T08:23:20.607Z"
   },
   {
    "duration": 1220,
    "start_time": "2022-05-18T08:43:07.709Z"
   },
   {
    "duration": 959,
    "start_time": "2022-05-18T08:43:43.857Z"
   },
   {
    "duration": 1111,
    "start_time": "2022-05-18T08:44:11.805Z"
   },
   {
    "duration": 949,
    "start_time": "2022-05-18T08:44:25.824Z"
   },
   {
    "duration": 1112,
    "start_time": "2022-05-18T08:45:04.273Z"
   },
   {
    "duration": 963,
    "start_time": "2022-05-18T08:45:09.065Z"
   },
   {
    "duration": 219,
    "start_time": "2022-05-18T08:45:30.905Z"
   },
   {
    "duration": 224,
    "start_time": "2022-05-18T08:46:09.528Z"
   },
   {
    "duration": 250,
    "start_time": "2022-05-18T08:46:39.025Z"
   },
   {
    "duration": 216,
    "start_time": "2022-05-18T08:46:44.378Z"
   },
   {
    "duration": 580,
    "start_time": "2022-05-18T08:47:22.426Z"
   },
   {
    "duration": 411,
    "start_time": "2022-05-18T08:47:47.833Z"
   },
   {
    "duration": 334,
    "start_time": "2022-05-18T08:47:54.169Z"
   },
   {
    "duration": 215,
    "start_time": "2022-05-18T08:48:35.274Z"
   },
   {
    "duration": 314,
    "start_time": "2022-05-18T08:48:53.106Z"
   },
   {
    "duration": 1041,
    "start_time": "2022-05-18T08:49:12.577Z"
   },
   {
    "duration": 755,
    "start_time": "2022-05-18T08:49:36.752Z"
   },
   {
    "duration": 390,
    "start_time": "2022-05-18T08:50:04.227Z"
   },
   {
    "duration": 346,
    "start_time": "2022-05-18T08:50:11.850Z"
   },
   {
    "duration": 331,
    "start_time": "2022-05-18T08:52:00.594Z"
   },
   {
    "duration": 203,
    "start_time": "2022-05-18T08:52:11.562Z"
   },
   {
    "duration": 316,
    "start_time": "2022-05-18T08:52:22.058Z"
   },
   {
    "duration": 346,
    "start_time": "2022-05-18T08:52:40.251Z"
   },
   {
    "duration": 380,
    "start_time": "2022-05-18T08:52:48.055Z"
   },
   {
    "duration": 354,
    "start_time": "2022-05-18T08:54:08.323Z"
   },
   {
    "duration": 15,
    "start_time": "2022-05-18T08:57:07.762Z"
   },
   {
    "duration": 16,
    "start_time": "2022-05-18T08:57:24.532Z"
   },
   {
    "duration": 11,
    "start_time": "2022-05-18T08:59:59.989Z"
   },
   {
    "duration": 15,
    "start_time": "2022-05-18T09:00:47.267Z"
   },
   {
    "duration": 9,
    "start_time": "2022-05-18T09:00:55.449Z"
   },
   {
    "duration": 5,
    "start_time": "2022-05-18T09:02:17.590Z"
   },
   {
    "duration": 12,
    "start_time": "2022-05-18T09:02:23.484Z"
   },
   {
    "duration": 82,
    "start_time": "2022-05-18T09:02:34.791Z"
   },
   {
    "duration": 19,
    "start_time": "2022-05-18T09:04:15.136Z"
   },
   {
    "duration": 60,
    "start_time": "2022-05-18T09:05:07.414Z"
   },
   {
    "duration": 46,
    "start_time": "2022-05-18T09:05:51.770Z"
   },
   {
    "duration": 23,
    "start_time": "2022-05-18T09:06:08.613Z"
   },
   {
    "duration": 64,
    "start_time": "2022-05-18T09:10:10.145Z"
   },
   {
    "duration": 300,
    "start_time": "2022-05-18T09:10:16.591Z"
   },
   {
    "duration": 222,
    "start_time": "2022-05-18T09:11:43.897Z"
   },
   {
    "duration": 25,
    "start_time": "2022-05-18T09:11:54.200Z"
   },
   {
    "duration": 0,
    "start_time": "2022-05-18T09:13:19.304Z"
   },
   {
    "duration": 73938,
    "start_time": "2022-05-18T09:14:48.588Z"
   },
   {
    "duration": 16,
    "start_time": "2022-05-18T09:16:43.375Z"
   },
   {
    "duration": 8,
    "start_time": "2022-05-18T09:18:30.591Z"
   },
   {
    "duration": 7,
    "start_time": "2022-05-18T09:18:59.158Z"
   },
   {
    "duration": 73,
    "start_time": "2022-05-18T09:20:21.553Z"
   },
   {
    "duration": 20,
    "start_time": "2022-05-18T09:20:45.872Z"
   },
   {
    "duration": 14,
    "start_time": "2022-05-18T09:20:59.401Z"
   },
   {
    "duration": 9,
    "start_time": "2022-05-18T09:22:40.845Z"
   },
   {
    "duration": 27,
    "start_time": "2022-05-18T09:22:53.481Z"
   },
   {
    "duration": 44,
    "start_time": "2022-05-18T09:23:08.289Z"
   },
   {
    "duration": 22,
    "start_time": "2022-05-18T09:23:12.986Z"
   },
   {
    "duration": 66,
    "start_time": "2022-05-18T09:23:17.742Z"
   },
   {
    "duration": 69,
    "start_time": "2022-05-18T09:23:30.041Z"
   },
   {
    "duration": 18,
    "start_time": "2022-05-18T09:24:20.954Z"
   },
   {
    "duration": 45,
    "start_time": "2022-05-18T09:24:39.266Z"
   },
   {
    "duration": 22,
    "start_time": "2022-05-18T09:24:57.429Z"
   },
   {
    "duration": 1197,
    "start_time": "2022-05-18T09:32:57.119Z"
   },
   {
    "duration": 138,
    "start_time": "2022-05-18T09:32:58.318Z"
   },
   {
    "duration": 16,
    "start_time": "2022-05-18T09:32:58.458Z"
   },
   {
    "duration": 10,
    "start_time": "2022-05-18T09:32:58.476Z"
   },
   {
    "duration": 57,
    "start_time": "2022-05-18T09:32:58.490Z"
   },
   {
    "duration": 10,
    "start_time": "2022-05-18T09:32:58.549Z"
   },
   {
    "duration": 54,
    "start_time": "2022-05-18T09:32:58.560Z"
   },
   {
    "duration": 172,
    "start_time": "2022-05-18T09:32:58.616Z"
   },
   {
    "duration": 0,
    "start_time": "2022-05-18T09:32:58.790Z"
   },
   {
    "duration": 0,
    "start_time": "2022-05-18T09:32:58.791Z"
   },
   {
    "duration": 0,
    "start_time": "2022-05-18T09:32:58.792Z"
   },
   {
    "duration": 0,
    "start_time": "2022-05-18T09:32:58.792Z"
   },
   {
    "duration": 0,
    "start_time": "2022-05-18T09:32:58.794Z"
   },
   {
    "duration": 26,
    "start_time": "2022-05-18T09:33:10.861Z"
   },
   {
    "duration": 44,
    "start_time": "2022-05-18T09:33:20.773Z"
   },
   {
    "duration": 17,
    "start_time": "2022-05-18T09:34:16.901Z"
   },
   {
    "duration": 49,
    "start_time": "2022-05-18T09:34:24.373Z"
   },
   {
    "duration": 45,
    "start_time": "2022-05-18T09:34:46.301Z"
   },
   {
    "duration": 1450,
    "start_time": "2022-05-18T10:34:33.094Z"
   },
   {
    "duration": 63,
    "start_time": "2022-05-18T10:34:34.547Z"
   },
   {
    "duration": 12,
    "start_time": "2022-05-18T10:34:34.618Z"
   },
   {
    "duration": 13,
    "start_time": "2022-05-18T10:34:34.633Z"
   },
   {
    "duration": 80,
    "start_time": "2022-05-18T10:34:34.648Z"
   },
   {
    "duration": 12,
    "start_time": "2022-05-18T10:34:34.730Z"
   },
   {
    "duration": 39,
    "start_time": "2022-05-18T10:34:34.744Z"
   },
   {
    "duration": 2,
    "start_time": "2022-05-18T10:34:34.787Z"
   },
   {
    "duration": 4,
    "start_time": "2022-05-18T10:34:34.795Z"
   },
   {
    "duration": 9,
    "start_time": "2022-05-18T10:34:34.802Z"
   },
   {
    "duration": 11,
    "start_time": "2022-05-18T10:34:34.817Z"
   },
   {
    "duration": 0,
    "start_time": "2022-05-18T10:34:34.830Z"
   },
   {
    "duration": 0,
    "start_time": "2022-05-18T10:34:34.834Z"
   },
   {
    "duration": 47,
    "start_time": "2022-05-18T10:34:41.332Z"
   },
   {
    "duration": 627,
    "start_time": "2022-05-18T10:49:15.594Z"
   },
   {
    "duration": 569,
    "start_time": "2022-05-18T10:50:10.798Z"
   },
   {
    "duration": 6,
    "start_time": "2022-05-18T10:50:16.679Z"
   },
   {
    "duration": 48,
    "start_time": "2022-05-18T10:50:17.293Z"
   },
   {
    "duration": 6,
    "start_time": "2022-05-18T10:50:19.949Z"
   },
   {
    "duration": 10,
    "start_time": "2022-05-18T10:50:20.918Z"
   },
   {
    "duration": 60,
    "start_time": "2022-05-18T10:50:21.909Z"
   },
   {
    "duration": 9,
    "start_time": "2022-05-18T10:50:23.267Z"
   },
   {
    "duration": 38,
    "start_time": "2022-05-18T10:50:23.765Z"
   },
   {
    "duration": 25,
    "start_time": "2022-05-18T10:50:26.581Z"
   },
   {
    "duration": 700,
    "start_time": "2022-05-18T10:50:32.942Z"
   },
   {
    "duration": 21,
    "start_time": "2022-05-18T10:52:07.373Z"
   },
   {
    "duration": 608,
    "start_time": "2022-05-18T10:52:20.758Z"
   },
   {
    "duration": 3194,
    "start_time": "2022-05-18T10:52:30.991Z"
   },
   {
    "duration": 25,
    "start_time": "2022-05-18T10:56:27.687Z"
   },
   {
    "duration": 23,
    "start_time": "2022-05-18T10:56:38.335Z"
   },
   {
    "duration": 21,
    "start_time": "2022-05-18T10:57:17.024Z"
   },
   {
    "duration": 18,
    "start_time": "2022-05-18T10:57:26.329Z"
   },
   {
    "duration": 21,
    "start_time": "2022-05-18T11:00:10.816Z"
   },
   {
    "duration": 27,
    "start_time": "2022-05-18T11:13:15.970Z"
   },
   {
    "duration": 2967,
    "start_time": "2022-05-18T11:14:35.865Z"
   },
   {
    "duration": 16,
    "start_time": "2022-05-18T11:16:12.922Z"
   },
   {
    "duration": 3146,
    "start_time": "2022-05-18T11:16:25.162Z"
   },
   {
    "duration": 3627,
    "start_time": "2022-05-18T11:16:55.944Z"
   },
   {
    "duration": 3181,
    "start_time": "2022-05-18T11:17:08.245Z"
   },
   {
    "duration": 3190,
    "start_time": "2022-05-18T11:17:31.587Z"
   },
   {
    "duration": 4661,
    "start_time": "2022-05-18T11:17:55.114Z"
   },
   {
    "duration": 4840,
    "start_time": "2022-05-18T11:19:21.762Z"
   },
   {
    "duration": 4931,
    "start_time": "2022-05-18T11:20:25.794Z"
   },
   {
    "duration": 4495,
    "start_time": "2022-05-18T11:20:50.521Z"
   },
   {
    "duration": 4714,
    "start_time": "2022-05-18T11:20:58.715Z"
   },
   {
    "duration": 4701,
    "start_time": "2022-05-18T11:21:14.491Z"
   },
   {
    "duration": 4290,
    "start_time": "2022-05-18T11:21:39.666Z"
   },
   {
    "duration": 4712,
    "start_time": "2022-05-18T11:22:56.199Z"
   },
   {
    "duration": 4645,
    "start_time": "2022-05-18T11:23:10.092Z"
   },
   {
    "duration": 1432,
    "start_time": "2022-05-18T11:54:36.946Z"
   },
   {
    "duration": 1598,
    "start_time": "2022-05-18T11:54:49.145Z"
   },
   {
    "duration": 1211,
    "start_time": "2022-05-18T11:55:01.937Z"
   },
   {
    "duration": 1437,
    "start_time": "2022-05-18T11:55:11.375Z"
   },
   {
    "duration": 1406,
    "start_time": "2022-05-18T11:56:24.227Z"
   },
   {
    "duration": 1248,
    "start_time": "2022-05-18T11:57:02.005Z"
   },
   {
    "duration": 1442,
    "start_time": "2022-05-18T11:57:13.256Z"
   },
   {
    "duration": 316,
    "start_time": "2022-05-18T12:00:03.123Z"
   },
   {
    "duration": 1638,
    "start_time": "2022-05-18T12:00:17.203Z"
   },
   {
    "duration": 1292,
    "start_time": "2022-05-18T12:00:24.073Z"
   },
   {
    "duration": 1584,
    "start_time": "2022-05-18T12:00:48.331Z"
   },
   {
    "duration": 1875,
    "start_time": "2022-05-18T12:01:51.091Z"
   },
   {
    "duration": 1493,
    "start_time": "2022-05-18T12:02:45.173Z"
   },
   {
    "duration": 18,
    "start_time": "2022-05-18T12:03:45.956Z"
   },
   {
    "duration": 1436,
    "start_time": "2022-05-18T12:04:40.752Z"
   },
   {
    "duration": 17,
    "start_time": "2022-05-18T12:08:05.328Z"
   },
   {
    "duration": 48,
    "start_time": "2022-05-18T12:08:35.478Z"
   },
   {
    "duration": 5,
    "start_time": "2022-05-18T12:08:40.045Z"
   },
   {
    "duration": 10,
    "start_time": "2022-05-18T12:08:40.397Z"
   },
   {
    "duration": 57,
    "start_time": "2022-05-18T12:08:41.038Z"
   },
   {
    "duration": 10,
    "start_time": "2022-05-18T12:08:42.003Z"
   },
   {
    "duration": 31,
    "start_time": "2022-05-18T12:08:42.693Z"
   },
   {
    "duration": 1745,
    "start_time": "2022-05-18T12:08:45.373Z"
   },
   {
    "duration": 1404,
    "start_time": "2022-05-18T12:17:16.109Z"
   },
   {
    "duration": 1332,
    "start_time": "2022-05-19T05:46:57.715Z"
   },
   {
    "duration": 89,
    "start_time": "2022-05-19T05:46:59.050Z"
   },
   {
    "duration": 7,
    "start_time": "2022-05-19T05:46:59.141Z"
   },
   {
    "duration": 16,
    "start_time": "2022-05-19T05:46:59.151Z"
   },
   {
    "duration": 77,
    "start_time": "2022-05-19T05:46:59.170Z"
   },
   {
    "duration": 19,
    "start_time": "2022-05-19T05:46:59.249Z"
   },
   {
    "duration": 25,
    "start_time": "2022-05-19T05:46:59.270Z"
   },
   {
    "duration": 1135,
    "start_time": "2022-05-19T05:46:59.297Z"
   },
   {
    "duration": 31,
    "start_time": "2022-05-19T05:47:00.435Z"
   },
   {
    "duration": 3,
    "start_time": "2022-05-19T05:47:00.470Z"
   },
   {
    "duration": 18,
    "start_time": "2022-05-19T05:47:00.475Z"
   },
   {
    "duration": 411,
    "start_time": "2022-05-19T05:47:00.495Z"
   },
   {
    "duration": 1533,
    "start_time": "2022-05-19T05:47:50.966Z"
   },
   {
    "duration": 2047,
    "start_time": "2022-05-19T05:48:58.442Z"
   },
   {
    "duration": 1664,
    "start_time": "2022-05-19T05:59:18.059Z"
   },
   {
    "duration": 37,
    "start_time": "2022-05-19T06:23:14.486Z"
   },
   {
    "duration": 20,
    "start_time": "2022-05-19T06:34:59.073Z"
   },
   {
    "duration": 20,
    "start_time": "2022-05-19T06:35:38.185Z"
   },
   {
    "duration": 2411,
    "start_time": "2022-05-19T06:35:54.481Z"
   },
   {
    "duration": 2477,
    "start_time": "2022-05-19T06:40:42.575Z"
   },
   {
    "duration": 2469,
    "start_time": "2022-05-19T06:41:10.842Z"
   },
   {
    "duration": 138,
    "start_time": "2022-05-19T06:41:42.029Z"
   },
   {
    "duration": 134,
    "start_time": "2022-05-19T06:41:51.916Z"
   },
   {
    "duration": 2416,
    "start_time": "2022-05-19T06:41:57.470Z"
   },
   {
    "duration": 16,
    "start_time": "2022-05-19T06:43:35.624Z"
   },
   {
    "duration": 165,
    "start_time": "2022-05-19T06:43:43.049Z"
   },
   {
    "duration": 2366,
    "start_time": "2022-05-19T06:43:55.014Z"
   },
   {
    "duration": 19,
    "start_time": "2022-05-19T08:48:26.584Z"
   },
   {
    "duration": 3019,
    "start_time": "2022-05-19T08:48:36.585Z"
   },
   {
    "duration": 2167,
    "start_time": "2022-05-19T08:52:35.822Z"
   },
   {
    "duration": 1979,
    "start_time": "2022-05-19T08:53:10.446Z"
   },
   {
    "duration": 39,
    "start_time": "2022-05-19T08:53:29.688Z"
   },
   {
    "duration": 2251,
    "start_time": "2022-05-19T08:53:38.299Z"
   },
   {
    "duration": 25,
    "start_time": "2022-05-19T08:53:42.277Z"
   },
   {
    "duration": 2430,
    "start_time": "2022-05-19T08:53:50.568Z"
   },
   {
    "duration": 2916,
    "start_time": "2022-05-19T08:54:06.856Z"
   },
   {
    "duration": 18,
    "start_time": "2022-05-19T08:58:08.191Z"
   },
   {
    "duration": 3506,
    "start_time": "2022-05-19T08:58:15.632Z"
   },
   {
    "duration": 2637,
    "start_time": "2022-05-19T08:58:39.437Z"
   },
   {
    "duration": 2564,
    "start_time": "2022-05-19T08:58:57.273Z"
   },
   {
    "duration": 2634,
    "start_time": "2022-05-19T09:00:05.579Z"
   },
   {
    "duration": 2629,
    "start_time": "2022-05-19T09:00:17.841Z"
   },
   {
    "duration": 2491,
    "start_time": "2022-05-19T09:01:07.792Z"
   },
   {
    "duration": 112,
    "start_time": "2022-05-19T09:03:14.962Z"
   },
   {
    "duration": 27,
    "start_time": "2022-05-19T09:03:19.578Z"
   },
   {
    "duration": 2490,
    "start_time": "2022-05-19T09:03:30.311Z"
   },
   {
    "duration": 2461,
    "start_time": "2022-05-19T09:03:49.249Z"
   },
   {
    "duration": 2331,
    "start_time": "2022-05-19T09:07:13.327Z"
   },
   {
    "duration": 2421,
    "start_time": "2022-05-19T09:07:27.693Z"
   },
   {
    "duration": 2483,
    "start_time": "2022-05-19T09:07:47.651Z"
   },
   {
    "duration": 20,
    "start_time": "2022-05-19T09:44:32.962Z"
   },
   {
    "duration": 35,
    "start_time": "2022-05-19T09:44:42.251Z"
   },
   {
    "duration": 15,
    "start_time": "2022-05-19T10:30:25.970Z"
   },
   {
    "duration": 444,
    "start_time": "2022-05-19T10:30:48.426Z"
   },
   {
    "duration": 7,
    "start_time": "2022-05-19T10:30:53.889Z"
   },
   {
    "duration": 37,
    "start_time": "2022-05-19T10:33:44.630Z"
   },
   {
    "duration": 39,
    "start_time": "2022-05-19T10:33:52.931Z"
   },
   {
    "duration": 102,
    "start_time": "2022-05-19T10:34:14.566Z"
   },
   {
    "duration": 1077,
    "start_time": "2022-05-19T10:39:16.289Z"
   },
   {
    "duration": 559,
    "start_time": "2022-05-19T10:39:55.107Z"
   },
   {
    "duration": 38,
    "start_time": "2022-05-19T10:46:56.488Z"
   },
   {
    "duration": 2015,
    "start_time": "2022-05-19T10:47:22.862Z"
   },
   {
    "duration": 0,
    "start_time": "2022-05-19T10:47:24.879Z"
   },
   {
    "duration": 10,
    "start_time": "2022-05-19T10:47:29.637Z"
   },
   {
    "duration": 7,
    "start_time": "2022-05-19T10:47:48.261Z"
   },
   {
    "duration": 10,
    "start_time": "2022-05-19T10:47:49.573Z"
   },
   {
    "duration": 5,
    "start_time": "2022-05-19T10:48:00.628Z"
   },
   {
    "duration": 10,
    "start_time": "2022-05-19T10:48:08.734Z"
   },
   {
    "duration": 13,
    "start_time": "2022-05-19T10:48:11.356Z"
   },
   {
    "duration": 802,
    "start_time": "2022-05-19T10:48:14.773Z"
   },
   {
    "duration": 387,
    "start_time": "2022-05-19T10:48:16.494Z"
   },
   {
    "duration": 4,
    "start_time": "2022-05-19T10:53:11.589Z"
   },
   {
    "duration": 20,
    "start_time": "2022-05-19T10:54:28.616Z"
   },
   {
    "duration": 5,
    "start_time": "2022-05-19T10:54:55.071Z"
   },
   {
    "duration": 13,
    "start_time": "2022-05-19T10:54:59.862Z"
   },
   {
    "duration": 33,
    "start_time": "2022-05-19T10:57:00.718Z"
   },
   {
    "duration": 15,
    "start_time": "2022-05-19T10:57:01.575Z"
   },
   {
    "duration": 398,
    "start_time": "2022-05-19T10:57:09.783Z"
   },
   {
    "duration": 12,
    "start_time": "2022-05-19T10:57:12.898Z"
   },
   {
    "duration": 17,
    "start_time": "2022-05-19T11:48:38.903Z"
   },
   {
    "duration": 15,
    "start_time": "2022-05-19T11:49:18.232Z"
   },
   {
    "duration": 16,
    "start_time": "2022-05-19T11:50:22.391Z"
   },
   {
    "duration": 4,
    "start_time": "2022-05-19T11:50:50.676Z"
   },
   {
    "duration": 4,
    "start_time": "2022-05-19T11:51:09.312Z"
   },
   {
    "duration": 20,
    "start_time": "2022-05-19T11:51:39.264Z"
   },
   {
    "duration": 10,
    "start_time": "2022-05-19T11:51:50.191Z"
   },
   {
    "duration": 3,
    "start_time": "2022-05-19T11:52:00.231Z"
   },
   {
    "duration": 12,
    "start_time": "2022-05-19T11:52:45.063Z"
   },
   {
    "duration": 38,
    "start_time": "2022-05-19T11:52:45.609Z"
   },
   {
    "duration": 5,
    "start_time": "2022-05-19T11:52:46.704Z"
   },
   {
    "duration": 17,
    "start_time": "2022-05-19T11:52:47.065Z"
   },
   {
    "duration": 59,
    "start_time": "2022-05-19T11:52:48.224Z"
   },
   {
    "duration": 12,
    "start_time": "2022-05-19T11:52:48.586Z"
   },
   {
    "duration": 33,
    "start_time": "2022-05-19T11:52:48.785Z"
   },
   {
    "duration": 2431,
    "start_time": "2022-05-19T11:52:49.833Z"
   },
   {
    "duration": 25,
    "start_time": "2022-05-19T11:52:52.273Z"
   },
   {
    "duration": 11,
    "start_time": "2022-05-19T11:53:06.128Z"
   },
   {
    "duration": 2,
    "start_time": "2022-05-19T11:53:34.488Z"
   },
   {
    "duration": 14,
    "start_time": "2022-05-19T11:54:07.984Z"
   },
   {
    "duration": 17,
    "start_time": "2022-05-19T11:54:22.512Z"
   },
   {
    "duration": 4,
    "start_time": "2022-05-19T11:54:47.207Z"
   },
   {
    "duration": 38,
    "start_time": "2022-05-19T11:54:47.713Z"
   },
   {
    "duration": 6,
    "start_time": "2022-05-19T11:54:48.800Z"
   },
   {
    "duration": 20,
    "start_time": "2022-05-19T11:54:49.160Z"
   },
   {
    "duration": 56,
    "start_time": "2022-05-19T11:54:49.704Z"
   },
   {
    "duration": 17,
    "start_time": "2022-05-19T11:54:50.064Z"
   },
   {
    "duration": 30,
    "start_time": "2022-05-19T11:54:50.257Z"
   },
   {
    "duration": 2549,
    "start_time": "2022-05-19T11:54:50.888Z"
   },
   {
    "duration": 37,
    "start_time": "2022-05-19T11:54:53.439Z"
   },
   {
    "duration": 4,
    "start_time": "2022-05-19T11:55:04.792Z"
   },
   {
    "duration": 17,
    "start_time": "2022-05-19T11:55:08.208Z"
   },
   {
    "duration": 30,
    "start_time": "2022-05-19T11:55:18.850Z"
   },
   {
    "duration": 1364,
    "start_time": "2022-05-19T11:57:04.585Z"
   },
   {
    "duration": 49,
    "start_time": "2022-05-19T11:57:05.951Z"
   },
   {
    "duration": 5,
    "start_time": "2022-05-19T11:57:06.002Z"
   },
   {
    "duration": 10,
    "start_time": "2022-05-19T11:57:06.009Z"
   },
   {
    "duration": 71,
    "start_time": "2022-05-19T11:57:06.020Z"
   },
   {
    "duration": 9,
    "start_time": "2022-05-19T11:57:06.093Z"
   },
   {
    "duration": 23,
    "start_time": "2022-05-19T11:57:06.104Z"
   },
   {
    "duration": 2467,
    "start_time": "2022-05-19T11:57:06.129Z"
   },
   {
    "duration": 27,
    "start_time": "2022-05-19T11:57:08.598Z"
   },
   {
    "duration": 21,
    "start_time": "2022-05-19T11:57:08.628Z"
   },
   {
    "duration": 9,
    "start_time": "2022-05-19T11:57:08.676Z"
   },
   {
    "duration": 25,
    "start_time": "2022-05-19T11:57:08.688Z"
   },
   {
    "duration": 475,
    "start_time": "2022-05-19T11:57:08.715Z"
   },
   {
    "duration": 15,
    "start_time": "2022-05-19T11:57:09.192Z"
   },
   {
    "duration": 64,
    "start_time": "2022-05-20T05:58:30.756Z"
   },
   {
    "duration": 1512,
    "start_time": "2022-05-20T05:58:36.477Z"
   },
   {
    "duration": 99,
    "start_time": "2022-05-20T05:58:37.991Z"
   },
   {
    "duration": 9,
    "start_time": "2022-05-20T05:58:38.092Z"
   },
   {
    "duration": 28,
    "start_time": "2022-05-20T05:58:38.105Z"
   },
   {
    "duration": 59,
    "start_time": "2022-05-20T05:58:38.134Z"
   },
   {
    "duration": 15,
    "start_time": "2022-05-20T05:58:38.196Z"
   },
   {
    "duration": 34,
    "start_time": "2022-05-20T05:58:38.213Z"
   },
   {
    "duration": 1178,
    "start_time": "2022-05-20T05:58:38.248Z"
   },
   {
    "duration": 0,
    "start_time": "2022-05-20T05:58:39.428Z"
   },
   {
    "duration": 0,
    "start_time": "2022-05-20T05:58:39.430Z"
   },
   {
    "duration": 0,
    "start_time": "2022-05-20T05:58:39.431Z"
   },
   {
    "duration": 0,
    "start_time": "2022-05-20T05:58:39.433Z"
   },
   {
    "duration": 0,
    "start_time": "2022-05-20T05:58:39.434Z"
   },
   {
    "duration": 0,
    "start_time": "2022-05-20T05:58:39.436Z"
   },
   {
    "duration": 1998,
    "start_time": "2022-05-20T05:58:55.112Z"
   },
   {
    "duration": 30,
    "start_time": "2022-05-20T06:00:22.882Z"
   },
   {
    "duration": 23,
    "start_time": "2022-05-20T06:01:20.387Z"
   },
   {
    "duration": 7,
    "start_time": "2022-05-20T06:02:26.130Z"
   },
   {
    "duration": 10,
    "start_time": "2022-05-20T06:02:27.073Z"
   },
   {
    "duration": 488,
    "start_time": "2022-05-20T06:02:29.702Z"
   },
   {
    "duration": 14,
    "start_time": "2022-05-20T06:02:37.829Z"
   },
   {
    "duration": 425,
    "start_time": "2022-05-20T06:05:10.426Z"
   },
   {
    "duration": 13,
    "start_time": "2022-05-20T06:05:12.579Z"
   },
   {
    "duration": 395,
    "start_time": "2022-05-20T06:09:00.788Z"
   },
   {
    "duration": 16,
    "start_time": "2022-05-20T06:09:01.772Z"
   },
   {
    "duration": 404,
    "start_time": "2022-05-20T06:09:49.304Z"
   },
   {
    "duration": 16,
    "start_time": "2022-05-20T06:09:50.068Z"
   },
   {
    "duration": 2425,
    "start_time": "2022-05-20T06:11:19.514Z"
   },
   {
    "duration": 12,
    "start_time": "2022-05-20T06:11:21.941Z"
   },
   {
    "duration": 2489,
    "start_time": "2022-05-20T06:14:30.287Z"
   },
   {
    "duration": 30,
    "start_time": "2022-05-20T06:14:32.778Z"
   },
   {
    "duration": 419,
    "start_time": "2022-05-20T06:16:05.462Z"
   },
   {
    "duration": 13,
    "start_time": "2022-05-20T06:16:07.740Z"
   },
   {
    "duration": 3318,
    "start_time": "2022-05-20T06:31:45.661Z"
   },
   {
    "duration": 13,
    "start_time": "2022-05-20T06:31:52.400Z"
   },
   {
    "duration": 975,
    "start_time": "2022-05-20T06:32:31.977Z"
   },
   {
    "duration": 13,
    "start_time": "2022-05-20T06:32:34.009Z"
   },
   {
    "duration": 1592,
    "start_time": "2022-05-20T06:33:43.207Z"
   },
   {
    "duration": 13,
    "start_time": "2022-05-20T06:33:44.801Z"
   },
   {
    "duration": 1857,
    "start_time": "2022-05-20T06:33:53.829Z"
   },
   {
    "duration": 15,
    "start_time": "2022-05-20T06:33:55.688Z"
   },
   {
    "duration": 671,
    "start_time": "2022-05-20T06:36:26.926Z"
   },
   {
    "duration": 4,
    "start_time": "2022-05-20T06:36:34.271Z"
   },
   {
    "duration": 1389,
    "start_time": "2022-05-20T06:36:42.728Z"
   },
   {
    "duration": 4,
    "start_time": "2022-05-20T06:37:48.597Z"
   },
   {
    "duration": 24,
    "start_time": "2022-05-20T06:37:53.879Z"
   },
   {
    "duration": 1294,
    "start_time": "2022-05-20T06:38:03.941Z"
   },
   {
    "duration": 12,
    "start_time": "2022-05-20T06:38:05.860Z"
   },
   {
    "duration": 4,
    "start_time": "2022-05-20T06:39:52.679Z"
   },
   {
    "duration": 40,
    "start_time": "2022-05-20T06:39:53.247Z"
   },
   {
    "duration": 6,
    "start_time": "2022-05-20T06:39:54.414Z"
   },
   {
    "duration": 9,
    "start_time": "2022-05-20T06:39:54.903Z"
   },
   {
    "duration": 56,
    "start_time": "2022-05-20T06:39:55.511Z"
   },
   {
    "duration": 11,
    "start_time": "2022-05-20T06:39:55.911Z"
   },
   {
    "duration": 28,
    "start_time": "2022-05-20T06:39:56.111Z"
   },
   {
    "duration": 2403,
    "start_time": "2022-05-20T06:39:56.712Z"
   },
   {
    "duration": 31,
    "start_time": "2022-05-20T06:39:59.118Z"
   },
   {
    "duration": 23,
    "start_time": "2022-05-20T06:40:11.256Z"
   },
   {
    "duration": 7,
    "start_time": "2022-05-20T06:41:37.383Z"
   },
   {
    "duration": 7,
    "start_time": "2022-05-20T06:43:43.856Z"
   },
   {
    "duration": 11,
    "start_time": "2022-05-20T06:44:48.110Z"
   },
   {
    "duration": 1002,
    "start_time": "2022-05-20T06:45:10.645Z"
   },
   {
    "duration": 14,
    "start_time": "2022-05-20T06:45:13.849Z"
   },
   {
    "duration": 1458,
    "start_time": "2022-05-20T06:46:31.714Z"
   },
   {
    "duration": 13,
    "start_time": "2022-05-20T06:46:34.974Z"
   },
   {
    "duration": 7,
    "start_time": "2022-05-20T06:46:55.704Z"
   },
   {
    "duration": 11,
    "start_time": "2022-05-20T06:46:56.128Z"
   },
   {
    "duration": 1417,
    "start_time": "2022-05-20T06:46:56.924Z"
   },
   {
    "duration": 13,
    "start_time": "2022-05-20T06:46:58.343Z"
   },
   {
    "duration": 8,
    "start_time": "2022-05-20T06:47:22.142Z"
   },
   {
    "duration": 10,
    "start_time": "2022-05-20T06:47:24.847Z"
   },
   {
    "duration": 1308,
    "start_time": "2022-05-20T06:47:27.686Z"
   },
   {
    "duration": 16,
    "start_time": "2022-05-20T06:47:30.755Z"
   },
   {
    "duration": 12,
    "start_time": "2022-05-20T06:47:37.155Z"
   },
   {
    "duration": 1534,
    "start_time": "2022-05-20T06:47:40.103Z"
   },
   {
    "duration": 14,
    "start_time": "2022-05-20T06:47:41.656Z"
   },
   {
    "duration": 1155,
    "start_time": "2022-05-20T06:47:44.878Z"
   },
   {
    "duration": 15,
    "start_time": "2022-05-20T06:47:46.055Z"
   },
   {
    "duration": 1181,
    "start_time": "2022-05-20T06:47:57.170Z"
   },
   {
    "duration": 12,
    "start_time": "2022-05-20T06:47:59.775Z"
   },
   {
    "duration": 1465,
    "start_time": "2022-05-20T06:48:16.903Z"
   },
   {
    "duration": 13,
    "start_time": "2022-05-20T06:48:18.370Z"
   },
   {
    "duration": 15,
    "start_time": "2022-05-20T06:54:47.761Z"
   },
   {
    "duration": 22,
    "start_time": "2022-05-20T06:55:19.980Z"
   },
   {
    "duration": 7,
    "start_time": "2022-05-20T06:55:38.394Z"
   },
   {
    "duration": 6,
    "start_time": "2022-05-20T06:56:01.906Z"
   },
   {
    "duration": 5,
    "start_time": "2022-05-20T06:56:32.346Z"
   },
   {
    "duration": 4,
    "start_time": "2022-05-20T06:56:55.506Z"
   },
   {
    "duration": 16,
    "start_time": "2022-05-20T06:57:48.473Z"
   },
   {
    "duration": 1348,
    "start_time": "2022-05-20T06:58:16.934Z"
   },
   {
    "duration": 17,
    "start_time": "2022-05-20T06:58:19.088Z"
   },
   {
    "duration": 1318,
    "start_time": "2022-05-20T06:58:30.225Z"
   },
   {
    "duration": 12,
    "start_time": "2022-05-20T06:58:35.482Z"
   },
   {
    "duration": 11,
    "start_time": "2022-05-20T07:01:19.795Z"
   },
   {
    "duration": 12,
    "start_time": "2022-05-20T07:01:34.786Z"
   },
   {
    "duration": 12,
    "start_time": "2022-05-20T07:01:56.564Z"
   },
   {
    "duration": 13,
    "start_time": "2022-05-20T07:02:08.684Z"
   },
   {
    "duration": 20,
    "start_time": "2022-05-20T07:26:56.531Z"
   },
   {
    "duration": 21,
    "start_time": "2022-05-20T07:27:37.407Z"
   },
   {
    "duration": 23,
    "start_time": "2022-05-20T07:27:44.454Z"
   },
   {
    "duration": 5,
    "start_time": "2022-05-20T07:34:21.739Z"
   },
   {
    "duration": 12,
    "start_time": "2022-05-20T07:45:33.164Z"
   },
   {
    "duration": 16,
    "start_time": "2022-05-20T07:46:02.601Z"
   },
   {
    "duration": 17,
    "start_time": "2022-05-20T07:47:36.154Z"
   },
   {
    "duration": 16,
    "start_time": "2022-05-20T07:47:44.467Z"
   },
   {
    "duration": 22,
    "start_time": "2022-05-20T07:47:49.429Z"
   },
   {
    "duration": 14,
    "start_time": "2022-05-20T07:47:56.464Z"
   },
   {
    "duration": 2440,
    "start_time": "2022-05-20T07:51:00.463Z"
   },
   {
    "duration": 13,
    "start_time": "2022-05-20T07:51:02.905Z"
   },
   {
    "duration": 13,
    "start_time": "2022-05-20T07:53:01.736Z"
   },
   {
    "duration": 6,
    "start_time": "2022-05-20T07:53:03.479Z"
   },
   {
    "duration": 17,
    "start_time": "2022-05-20T07:53:13.311Z"
   },
   {
    "duration": 16,
    "start_time": "2022-05-20T07:53:21.766Z"
   },
   {
    "duration": 15,
    "start_time": "2022-05-20T07:53:34.729Z"
   },
   {
    "duration": 39,
    "start_time": "2022-05-20T07:57:54.294Z"
   },
   {
    "duration": 95,
    "start_time": "2022-05-20T07:59:27.378Z"
   },
   {
    "duration": 94,
    "start_time": "2022-05-20T08:00:55.409Z"
   },
   {
    "duration": 97,
    "start_time": "2022-05-20T08:01:23.753Z"
   },
   {
    "duration": 98,
    "start_time": "2022-05-20T08:01:32.011Z"
   },
   {
    "duration": 12,
    "start_time": "2022-05-20T08:01:54.846Z"
   },
   {
    "duration": 100,
    "start_time": "2022-05-20T08:02:07.042Z"
   },
   {
    "duration": 106,
    "start_time": "2022-05-20T08:04:09.768Z"
   },
   {
    "duration": 87,
    "start_time": "2022-05-20T08:06:37.668Z"
   },
   {
    "duration": 109,
    "start_time": "2022-05-20T08:06:49.336Z"
   },
   {
    "duration": 16,
    "start_time": "2022-05-20T09:11:10.670Z"
   },
   {
    "duration": 5,
    "start_time": "2022-05-20T09:11:28.336Z"
   },
   {
    "duration": 123027,
    "start_time": "2022-05-20T09:11:33.038Z"
   },
   {
    "duration": 6081,
    "start_time": "2022-05-20T09:17:22.318Z"
   },
   {
    "duration": 3,
    "start_time": "2022-05-20T09:19:50.152Z"
   },
   {
    "duration": 260,
    "start_time": "2022-05-20T09:23:39.456Z"
   },
   {
    "duration": 1511,
    "start_time": "2022-05-20T09:25:37.385Z"
   },
   {
    "duration": 1642,
    "start_time": "2022-05-20T09:26:20.876Z"
   },
   {
    "duration": 1156,
    "start_time": "2022-05-20T09:27:06.339Z"
   },
   {
    "duration": 1152,
    "start_time": "2022-05-20T09:28:06.547Z"
   },
   {
    "duration": 1509,
    "start_time": "2022-05-20T09:29:58.987Z"
   },
   {
    "duration": 1133,
    "start_time": "2022-05-20T09:30:22.971Z"
   },
   {
    "duration": 19,
    "start_time": "2022-05-20T09:34:14.756Z"
   },
   {
    "duration": 5,
    "start_time": "2022-05-20T09:57:53.893Z"
   },
   {
    "duration": 19,
    "start_time": "2022-05-20T09:58:32.781Z"
   },
   {
    "duration": 17,
    "start_time": "2022-05-20T09:58:46.094Z"
   },
   {
    "duration": 16,
    "start_time": "2022-05-20T09:58:54.254Z"
   },
   {
    "duration": 16,
    "start_time": "2022-05-20T10:00:13.350Z"
   },
   {
    "duration": 1483,
    "start_time": "2022-05-20T10:00:19.906Z"
   },
   {
    "duration": 50,
    "start_time": "2022-05-20T10:00:21.391Z"
   },
   {
    "duration": 6,
    "start_time": "2022-05-20T10:00:21.443Z"
   },
   {
    "duration": 30,
    "start_time": "2022-05-20T10:00:21.451Z"
   },
   {
    "duration": 82,
    "start_time": "2022-05-20T10:00:21.482Z"
   },
   {
    "duration": 11,
    "start_time": "2022-05-20T10:00:21.566Z"
   },
   {
    "duration": 50,
    "start_time": "2022-05-20T10:00:21.579Z"
   },
   {
    "duration": 2592,
    "start_time": "2022-05-20T10:00:21.631Z"
   },
   {
    "duration": 25,
    "start_time": "2022-05-20T10:00:24.226Z"
   },
   {
    "duration": 41,
    "start_time": "2022-05-20T10:00:24.254Z"
   },
   {
    "duration": 32,
    "start_time": "2022-05-20T10:00:24.297Z"
   },
   {
    "duration": 37,
    "start_time": "2022-05-20T10:00:24.331Z"
   },
   {
    "duration": 4753,
    "start_time": "2022-05-20T10:00:24.370Z"
   },
   {
    "duration": 20,
    "start_time": "2022-05-20T10:00:29.126Z"
   },
   {
    "duration": 26,
    "start_time": "2022-05-20T10:00:29.149Z"
   },
   {
    "duration": 146,
    "start_time": "2022-05-20T10:00:29.177Z"
   },
   {
    "duration": 6018,
    "start_time": "2022-05-20T10:00:29.325Z"
   },
   {
    "duration": 1156,
    "start_time": "2022-05-20T10:00:35.345Z"
   },
   {
    "duration": 107,
    "start_time": "2022-05-20T10:00:36.503Z"
   },
   {
    "duration": 152,
    "start_time": "2022-05-20T10:00:36.612Z"
   },
   {
    "duration": 12,
    "start_time": "2022-05-20T10:02:17.041Z"
   },
   {
    "duration": 12,
    "start_time": "2022-05-20T10:02:46.285Z"
   },
   {
    "duration": 30629,
    "start_time": "2022-05-20T10:04:22.908Z"
   },
   {
    "duration": 28257,
    "start_time": "2022-05-20T10:06:16.380Z"
   },
   {
    "duration": 27227,
    "start_time": "2022-05-20T10:07:27.126Z"
   },
   {
    "duration": 14,
    "start_time": "2022-05-20T10:14:25.266Z"
   },
   {
    "duration": 2177,
    "start_time": "2022-05-20T10:14:40.570Z"
   },
   {
    "duration": 3116,
    "start_time": "2022-05-20T10:15:13.968Z"
   },
   {
    "duration": 6,
    "start_time": "2022-05-20T10:51:05.926Z"
   },
   {
    "duration": 17,
    "start_time": "2022-05-20T10:52:29.023Z"
   },
   {
    "duration": 7,
    "start_time": "2022-05-20T10:52:46.959Z"
   },
   {
    "duration": 12,
    "start_time": "2022-05-20T10:53:44.447Z"
   },
   {
    "duration": 13,
    "start_time": "2022-05-20T10:53:59.087Z"
   },
   {
    "duration": 7,
    "start_time": "2022-05-20T10:56:00.317Z"
   },
   {
    "duration": 10,
    "start_time": "2022-05-20T10:56:41.940Z"
   },
   {
    "duration": 11,
    "start_time": "2022-05-20T10:58:41.932Z"
   },
   {
    "duration": 7,
    "start_time": "2022-05-20T11:25:24.845Z"
   },
   {
    "duration": 7,
    "start_time": "2022-05-20T11:25:41.949Z"
   },
   {
    "duration": 9,
    "start_time": "2022-05-20T11:27:44.221Z"
   },
   {
    "duration": 3,
    "start_time": "2022-05-20T11:27:52.821Z"
   },
   {
    "duration": 15,
    "start_time": "2022-05-20T11:28:17.108Z"
   },
   {
    "duration": 6,
    "start_time": "2022-05-20T11:29:13.389Z"
   },
   {
    "duration": 1325,
    "start_time": "2022-05-20T11:57:20.717Z"
   },
   {
    "duration": 48,
    "start_time": "2022-05-20T11:57:22.044Z"
   },
   {
    "duration": 5,
    "start_time": "2022-05-20T11:57:22.094Z"
   },
   {
    "duration": 10,
    "start_time": "2022-05-20T11:57:22.101Z"
   },
   {
    "duration": 54,
    "start_time": "2022-05-20T11:57:22.113Z"
   },
   {
    "duration": 28,
    "start_time": "2022-05-20T11:57:22.169Z"
   },
   {
    "duration": 26,
    "start_time": "2022-05-20T11:57:22.198Z"
   },
   {
    "duration": 2297,
    "start_time": "2022-05-20T11:57:22.225Z"
   },
   {
    "duration": 21,
    "start_time": "2022-05-20T11:57:24.524Z"
   },
   {
    "duration": 29,
    "start_time": "2022-05-20T11:57:24.547Z"
   },
   {
    "duration": 18,
    "start_time": "2022-05-20T11:57:24.577Z"
   },
   {
    "duration": 17,
    "start_time": "2022-05-20T11:57:24.597Z"
   },
   {
    "duration": 1352,
    "start_time": "2022-05-20T11:57:24.615Z"
   },
   {
    "duration": 11,
    "start_time": "2022-05-20T11:57:25.968Z"
   },
   {
    "duration": 13,
    "start_time": "2022-05-20T11:57:25.981Z"
   },
   {
    "duration": 124,
    "start_time": "2022-05-20T11:57:25.995Z"
   },
   {
    "duration": 5660,
    "start_time": "2022-05-20T11:57:26.121Z"
   },
   {
    "duration": 1322,
    "start_time": "2022-05-20T11:57:31.782Z"
   },
   {
    "duration": 105,
    "start_time": "2022-05-20T11:57:33.109Z"
   },
   {
    "duration": 2620,
    "start_time": "2022-05-20T11:57:33.216Z"
   },
   {
    "duration": 6,
    "start_time": "2022-05-20T11:57:35.838Z"
   },
   {
    "duration": 1535,
    "start_time": "2022-05-22T04:48:28.368Z"
   },
   {
    "duration": 68,
    "start_time": "2022-05-22T04:48:29.905Z"
   },
   {
    "duration": 4,
    "start_time": "2022-05-22T04:48:29.975Z"
   },
   {
    "duration": 8,
    "start_time": "2022-05-22T04:48:29.981Z"
   },
   {
    "duration": 75,
    "start_time": "2022-05-22T04:48:29.991Z"
   },
   {
    "duration": 10,
    "start_time": "2022-05-22T04:48:30.068Z"
   },
   {
    "duration": 26,
    "start_time": "2022-05-22T04:48:30.080Z"
   },
   {
    "duration": 2333,
    "start_time": "2022-05-22T04:48:30.108Z"
   },
   {
    "duration": 29,
    "start_time": "2022-05-22T04:48:32.443Z"
   },
   {
    "duration": 22,
    "start_time": "2022-05-22T04:48:32.475Z"
   },
   {
    "duration": 6,
    "start_time": "2022-05-22T04:48:32.499Z"
   },
   {
    "duration": 27,
    "start_time": "2022-05-22T04:48:32.506Z"
   },
   {
    "duration": 1571,
    "start_time": "2022-05-22T04:48:32.534Z"
   },
   {
    "duration": 12,
    "start_time": "2022-05-22T04:48:34.107Z"
   },
   {
    "duration": 5,
    "start_time": "2022-05-22T04:48:34.120Z"
   },
   {
    "duration": 119,
    "start_time": "2022-05-22T04:48:34.127Z"
   },
   {
    "duration": 5497,
    "start_time": "2022-05-22T04:48:34.248Z"
   },
   {
    "duration": 1526,
    "start_time": "2022-05-22T04:48:39.746Z"
   },
   {
    "duration": 105,
    "start_time": "2022-05-22T04:48:41.274Z"
   },
   {
    "duration": 2724,
    "start_time": "2022-05-22T04:48:41.381Z"
   },
   {
    "duration": 6,
    "start_time": "2022-05-22T04:48:44.106Z"
   },
   {
    "duration": 1398,
    "start_time": "2022-05-22T05:41:50.702Z"
   },
   {
    "duration": 45,
    "start_time": "2022-05-22T05:41:52.102Z"
   },
   {
    "duration": 5,
    "start_time": "2022-05-22T05:41:52.149Z"
   },
   {
    "duration": 9,
    "start_time": "2022-05-22T05:41:52.164Z"
   },
   {
    "duration": 57,
    "start_time": "2022-05-22T05:41:52.175Z"
   },
   {
    "duration": 33,
    "start_time": "2022-05-22T05:41:52.234Z"
   },
   {
    "duration": 27,
    "start_time": "2022-05-22T05:41:52.269Z"
   },
   {
    "duration": 2398,
    "start_time": "2022-05-22T05:41:52.298Z"
   },
   {
    "duration": 23,
    "start_time": "2022-05-22T05:41:54.697Z"
   },
   {
    "duration": 19,
    "start_time": "2022-05-22T05:41:54.723Z"
   },
   {
    "duration": 25,
    "start_time": "2022-05-22T05:41:54.744Z"
   },
   {
    "duration": 10,
    "start_time": "2022-05-22T05:41:54.771Z"
   },
   {
    "duration": 1234,
    "start_time": "2022-05-22T05:41:54.783Z"
   },
   {
    "duration": 12,
    "start_time": "2022-05-22T05:41:56.019Z"
   },
   {
    "duration": 5,
    "start_time": "2022-05-22T05:41:56.033Z"
   },
   {
    "duration": 125,
    "start_time": "2022-05-22T05:41:56.040Z"
   },
   {
    "duration": 5917,
    "start_time": "2022-05-22T05:41:56.167Z"
   },
   {
    "duration": 1380,
    "start_time": "2022-05-22T05:42:02.086Z"
   },
   {
    "duration": 18,
    "start_time": "2022-05-22T05:42:03.468Z"
   },
   {
    "duration": 2801,
    "start_time": "2022-05-22T05:42:03.488Z"
   },
   {
    "duration": 7,
    "start_time": "2022-05-22T05:42:06.291Z"
   },
   {
    "duration": 1487,
    "start_time": "2022-05-23T09:23:45.170Z"
   },
   {
    "duration": 6,
    "start_time": "2022-05-23T09:29:52.760Z"
   },
   {
    "duration": 157,
    "start_time": "2022-05-23T09:29:53.688Z"
   },
   {
    "duration": 5,
    "start_time": "2022-05-23T09:29:55.239Z"
   },
   {
    "duration": 10,
    "start_time": "2022-05-23T09:29:55.631Z"
   },
   {
    "duration": 52,
    "start_time": "2022-05-23T09:29:56.472Z"
   },
   {
    "duration": 220,
    "start_time": "2022-05-23T09:29:57.624Z"
   },
   {
    "duration": 23,
    "start_time": "2022-05-23T09:29:57.846Z"
   },
   {
    "duration": 2294,
    "start_time": "2022-05-23T09:29:58.533Z"
   },
   {
    "duration": 39,
    "start_time": "2022-05-23T09:30:00.829Z"
   },
   {
    "duration": 21,
    "start_time": "2022-05-23T09:30:06.441Z"
   },
   {
    "duration": 8,
    "start_time": "2022-05-23T09:30:11.944Z"
   },
   {
    "duration": 8,
    "start_time": "2022-05-23T09:30:46.017Z"
   },
   {
    "duration": 9,
    "start_time": "2022-05-23T09:31:05.968Z"
   },
   {
    "duration": 11,
    "start_time": "2022-05-23T09:31:11.376Z"
   },
   {
    "duration": 706,
    "start_time": "2022-05-23T09:31:24.737Z"
   },
   {
    "duration": 13,
    "start_time": "2022-05-23T09:31:28.949Z"
   },
   {
    "duration": 7,
    "start_time": "2022-05-23T09:32:15.057Z"
   },
   {
    "duration": 6,
    "start_time": "2022-05-23T09:32:23.064Z"
   },
   {
    "duration": 108,
    "start_time": "2022-05-23T09:32:25.280Z"
   },
   {
    "duration": 5,
    "start_time": "2022-05-23T09:33:33.913Z"
   },
   {
    "duration": 105,
    "start_time": "2022-05-23T09:33:46.477Z"
   },
   {
    "duration": 11,
    "start_time": "2022-05-23T09:38:58.863Z"
   },
   {
    "duration": 27,
    "start_time": "2022-05-23T11:47:27.685Z"
   }
  ],
  "kernelspec": {
   "display_name": "Python 3 (ipykernel)",
   "language": "python",
   "name": "python3"
  },
  "language_info": {
   "codemirror_mode": {
    "name": "ipython",
    "version": 3
   },
   "file_extension": ".py",
   "mimetype": "text/x-python",
   "name": "python",
   "nbconvert_exporter": "python",
   "pygments_lexer": "ipython3",
   "version": "3.9.7"
  },
  "toc": {
   "base_numbering": 1,
   "nav_menu": {},
   "number_sections": true,
   "sideBar": true,
   "skip_h1_title": true,
   "title_cell": "Table of Contents",
   "title_sidebar": "Contents",
   "toc_cell": false,
   "toc_position": {},
   "toc_section_display": true,
   "toc_window_display": true
  }
 },
 "nbformat": 4,
 "nbformat_minor": 2
}
