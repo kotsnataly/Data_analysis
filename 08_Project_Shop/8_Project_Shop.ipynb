{
 "cells": [
  {
   "cell_type": "markdown",
   "metadata": {},
   "source": [
    "# Приоретизация гипотез и анализ результатов А/В теста"
   ]
  },
  {
   "cell_type": "markdown",
   "metadata": {},
   "source": [
    "Я — аналитик крупного интернет-магазина. Вместе с отделом маркетинга мною подготовлен список гипотез для увеличения выручки.\n",
    "\n",
    "В данном исследовании я буду приоритизировать данные гипотезы, запускать A/B-тест и анализировать полученные результаты."
   ]
  },
  {
   "cell_type": "markdown",
   "metadata": {},
   "source": [
    "## Загрузка данных и подготовка их к анализу"
   ]
  },
  {
   "cell_type": "markdown",
   "metadata": {},
   "source": [
    "Мой основной инструмент — `pandas`. Я подключаю эту библиотеку. Также подключаю библиотеки `datetime`, `numpy`, `matplotlib`, `scipy`. Они потребуются для проведения моего исследования.\n",
    "\n",
    "Дополнительно отключу предупреждения (библиотека `warnings`)."
   ]
  },
  {
   "cell_type": "code",
   "execution_count": 1,
   "metadata": {},
   "outputs": [],
   "source": [
    "import pandas as pd             # импорт библиотеки pandas\n",
    "import datetime as dt           # импорт библиотеки datetime\n",
    "import numpy as np              # импорт библиотеки numpy\n",
    "import matplotlib.pyplot as plt # импорт библиотеки matplotlib\n",
    "import scipy.stats as stats     # импорт библиотеки scipy\n",
    "\n",
    "# конвертеры, которые позволяют использовать типы pandas в matplotlib\n",
    "from pandas.plotting import register_matplotlib_converters \n",
    "import warnings as wg           # импорт библиотеки warnings\n",
    "\n",
    "wg.filterwarnings('ignore')\n",
    "register_matplotlib_converters()"
   ]
  },
  {
   "cell_type": "markdown",
   "metadata": {},
   "source": [
    "Далее осуществляю чтение файла гипотез по увеличению выручки интернет-магазина с указанными параметрами Reach, Impact, Confidence, Effort и файлов с результатами А/В теста:\n",
    "- гипотезы - `hypothesis.csv`\n",
    "- заказы - `orders.csv`\n",
    "- посетители - `visitors.csv` \n",
    "\n",
    "из папки `/datasets` и сохраняю их. Вывожу на экран первые пять строк полученных таблиц, файл с гипотезами выведу полностью."
   ]
  },
  {
   "cell_type": "code",
   "execution_count": 2,
   "metadata": {},
   "outputs": [
    {
     "data": {
      "text/html": [
       "<div>\n",
       "<style scoped>\n",
       "    .dataframe tbody tr th:only-of-type {\n",
       "        vertical-align: middle;\n",
       "    }\n",
       "\n",
       "    .dataframe tbody tr th {\n",
       "        vertical-align: top;\n",
       "    }\n",
       "\n",
       "    .dataframe thead th {\n",
       "        text-align: right;\n",
       "    }\n",
       "</style>\n",
       "<table border=\"1\" class=\"dataframe\">\n",
       "  <thead>\n",
       "    <tr style=\"text-align: right;\">\n",
       "      <th></th>\n",
       "      <th>Hypothesis</th>\n",
       "      <th>Reach</th>\n",
       "      <th>Impact</th>\n",
       "      <th>Confidence</th>\n",
       "      <th>Efforts</th>\n",
       "    </tr>\n",
       "  </thead>\n",
       "  <tbody>\n",
       "    <tr>\n",
       "      <th>0</th>\n",
       "      <td>Добавить два новых канала привлечения трафика,...</td>\n",
       "      <td>3</td>\n",
       "      <td>10</td>\n",
       "      <td>8</td>\n",
       "      <td>6</td>\n",
       "    </tr>\n",
       "    <tr>\n",
       "      <th>1</th>\n",
       "      <td>Запустить собственную службу доставки, что сок...</td>\n",
       "      <td>2</td>\n",
       "      <td>5</td>\n",
       "      <td>4</td>\n",
       "      <td>10</td>\n",
       "    </tr>\n",
       "    <tr>\n",
       "      <th>2</th>\n",
       "      <td>Добавить блоки рекомендаций товаров на сайт ин...</td>\n",
       "      <td>8</td>\n",
       "      <td>3</td>\n",
       "      <td>7</td>\n",
       "      <td>3</td>\n",
       "    </tr>\n",
       "    <tr>\n",
       "      <th>3</th>\n",
       "      <td>Изменить структура категорий, что увеличит кон...</td>\n",
       "      <td>8</td>\n",
       "      <td>3</td>\n",
       "      <td>3</td>\n",
       "      <td>8</td>\n",
       "    </tr>\n",
       "    <tr>\n",
       "      <th>4</th>\n",
       "      <td>Изменить цвет фона главной страницы, чтобы уве...</td>\n",
       "      <td>3</td>\n",
       "      <td>1</td>\n",
       "      <td>1</td>\n",
       "      <td>1</td>\n",
       "    </tr>\n",
       "    <tr>\n",
       "      <th>5</th>\n",
       "      <td>Добавить страницу отзывов клиентов о магазине,...</td>\n",
       "      <td>3</td>\n",
       "      <td>2</td>\n",
       "      <td>2</td>\n",
       "      <td>3</td>\n",
       "    </tr>\n",
       "    <tr>\n",
       "      <th>6</th>\n",
       "      <td>Показать на главной странице баннеры с актуаль...</td>\n",
       "      <td>5</td>\n",
       "      <td>3</td>\n",
       "      <td>8</td>\n",
       "      <td>3</td>\n",
       "    </tr>\n",
       "    <tr>\n",
       "      <th>7</th>\n",
       "      <td>Добавить форму подписки на все основные страни...</td>\n",
       "      <td>10</td>\n",
       "      <td>7</td>\n",
       "      <td>8</td>\n",
       "      <td>5</td>\n",
       "    </tr>\n",
       "    <tr>\n",
       "      <th>8</th>\n",
       "      <td>Запустить акцию, дающую скидку на товар в день...</td>\n",
       "      <td>1</td>\n",
       "      <td>9</td>\n",
       "      <td>9</td>\n",
       "      <td>5</td>\n",
       "    </tr>\n",
       "  </tbody>\n",
       "</table>\n",
       "</div>"
      ],
      "text/plain": [
       "                                          Hypothesis  Reach  Impact  \\\n",
       "0  Добавить два новых канала привлечения трафика,...      3      10   \n",
       "1  Запустить собственную службу доставки, что сок...      2       5   \n",
       "2  Добавить блоки рекомендаций товаров на сайт ин...      8       3   \n",
       "3  Изменить структура категорий, что увеличит кон...      8       3   \n",
       "4  Изменить цвет фона главной страницы, чтобы уве...      3       1   \n",
       "5  Добавить страницу отзывов клиентов о магазине,...      3       2   \n",
       "6  Показать на главной странице баннеры с актуаль...      5       3   \n",
       "7  Добавить форму подписки на все основные страни...     10       7   \n",
       "8  Запустить акцию, дающую скидку на товар в день...      1       9   \n",
       "\n",
       "   Confidence  Efforts  \n",
       "0           8        6  \n",
       "1           4       10  \n",
       "2           7        3  \n",
       "3           3        8  \n",
       "4           1        1  \n",
       "5           2        3  \n",
       "6           8        3  \n",
       "7           8        5  \n",
       "8           9        5  "
      ]
     },
     "metadata": {},
     "output_type": "display_data"
    },
    {
     "name": "stdout",
     "output_type": "stream",
     "text": [
      "<class 'pandas.core.frame.DataFrame'>\n",
      "RangeIndex: 9 entries, 0 to 8\n",
      "Data columns (total 5 columns):\n",
      " #   Column      Non-Null Count  Dtype \n",
      "---  ------      --------------  ----- \n",
      " 0   Hypothesis  9 non-null      object\n",
      " 1   Reach       9 non-null      int64 \n",
      " 2   Impact      9 non-null      int64 \n",
      " 3   Confidence  9 non-null      int64 \n",
      " 4   Efforts     9 non-null      int64 \n",
      "dtypes: int64(4), object(1)\n",
      "memory usage: 488.0+ bytes\n"
     ]
    },
    {
     "data": {
      "text/html": [
       "<div>\n",
       "<style scoped>\n",
       "    .dataframe tbody tr th:only-of-type {\n",
       "        vertical-align: middle;\n",
       "    }\n",
       "\n",
       "    .dataframe tbody tr th {\n",
       "        vertical-align: top;\n",
       "    }\n",
       "\n",
       "    .dataframe thead th {\n",
       "        text-align: right;\n",
       "    }\n",
       "</style>\n",
       "<table border=\"1\" class=\"dataframe\">\n",
       "  <thead>\n",
       "    <tr style=\"text-align: right;\">\n",
       "      <th></th>\n",
       "      <th>transactionId</th>\n",
       "      <th>visitorId</th>\n",
       "      <th>date</th>\n",
       "      <th>revenue</th>\n",
       "      <th>group</th>\n",
       "    </tr>\n",
       "  </thead>\n",
       "  <tbody>\n",
       "    <tr>\n",
       "      <th>0</th>\n",
       "      <td>3667963787</td>\n",
       "      <td>3312258926</td>\n",
       "      <td>2019-08-15</td>\n",
       "      <td>1650</td>\n",
       "      <td>B</td>\n",
       "    </tr>\n",
       "    <tr>\n",
       "      <th>1</th>\n",
       "      <td>2804400009</td>\n",
       "      <td>3642806036</td>\n",
       "      <td>2019-08-15</td>\n",
       "      <td>730</td>\n",
       "      <td>B</td>\n",
       "    </tr>\n",
       "    <tr>\n",
       "      <th>2</th>\n",
       "      <td>2961555356</td>\n",
       "      <td>4069496402</td>\n",
       "      <td>2019-08-15</td>\n",
       "      <td>400</td>\n",
       "      <td>A</td>\n",
       "    </tr>\n",
       "  </tbody>\n",
       "</table>\n",
       "</div>"
      ],
      "text/plain": [
       "   transactionId   visitorId        date  revenue group\n",
       "0     3667963787  3312258926  2019-08-15     1650     B\n",
       "1     2804400009  3642806036  2019-08-15      730     B\n",
       "2     2961555356  4069496402  2019-08-15      400     A"
      ]
     },
     "metadata": {},
     "output_type": "display_data"
    },
    {
     "name": "stdout",
     "output_type": "stream",
     "text": [
      "<class 'pandas.core.frame.DataFrame'>\n",
      "RangeIndex: 1197 entries, 0 to 1196\n",
      "Data columns (total 5 columns):\n",
      " #   Column         Non-Null Count  Dtype \n",
      "---  ------         --------------  ----- \n",
      " 0   transactionId  1197 non-null   int64 \n",
      " 1   visitorId      1197 non-null   int64 \n",
      " 2   date           1197 non-null   object\n",
      " 3   revenue        1197 non-null   int64 \n",
      " 4   group          1197 non-null   object\n",
      "dtypes: int64(3), object(2)\n",
      "memory usage: 46.9+ KB\n"
     ]
    },
    {
     "data": {
      "text/html": [
       "<div>\n",
       "<style scoped>\n",
       "    .dataframe tbody tr th:only-of-type {\n",
       "        vertical-align: middle;\n",
       "    }\n",
       "\n",
       "    .dataframe tbody tr th {\n",
       "        vertical-align: top;\n",
       "    }\n",
       "\n",
       "    .dataframe thead th {\n",
       "        text-align: right;\n",
       "    }\n",
       "</style>\n",
       "<table border=\"1\" class=\"dataframe\">\n",
       "  <thead>\n",
       "    <tr style=\"text-align: right;\">\n",
       "      <th></th>\n",
       "      <th>date</th>\n",
       "      <th>group</th>\n",
       "      <th>visitors</th>\n",
       "    </tr>\n",
       "  </thead>\n",
       "  <tbody>\n",
       "    <tr>\n",
       "      <th>0</th>\n",
       "      <td>2019-08-01</td>\n",
       "      <td>A</td>\n",
       "      <td>719</td>\n",
       "    </tr>\n",
       "    <tr>\n",
       "      <th>1</th>\n",
       "      <td>2019-08-02</td>\n",
       "      <td>A</td>\n",
       "      <td>619</td>\n",
       "    </tr>\n",
       "    <tr>\n",
       "      <th>2</th>\n",
       "      <td>2019-08-03</td>\n",
       "      <td>A</td>\n",
       "      <td>507</td>\n",
       "    </tr>\n",
       "  </tbody>\n",
       "</table>\n",
       "</div>"
      ],
      "text/plain": [
       "         date group  visitors\n",
       "0  2019-08-01     A       719\n",
       "1  2019-08-02     A       619\n",
       "2  2019-08-03     A       507"
      ]
     },
     "metadata": {},
     "output_type": "display_data"
    },
    {
     "name": "stdout",
     "output_type": "stream",
     "text": [
      "<class 'pandas.core.frame.DataFrame'>\n",
      "RangeIndex: 62 entries, 0 to 61\n",
      "Data columns (total 3 columns):\n",
      " #   Column    Non-Null Count  Dtype \n",
      "---  ------    --------------  ----- \n",
      " 0   date      62 non-null     object\n",
      " 1   group     62 non-null     object\n",
      " 2   visitors  62 non-null     int64 \n",
      "dtypes: int64(1), object(2)\n",
      "memory usage: 1.6+ KB\n"
     ]
    }
   ],
   "source": [
    "# чтение файлов с данными и сохранение в переменные в зависимости от расположения\n",
    "try:\n",
    "    hypothesis = pd.read_csv('/Users/a4128/Documents/My_projects/06_App/hypothesis.csv') # локальный путь\n",
    "    orders = pd.read_csv('/Users/a4128/Documents/My_projects/06_App/orders.csv')\n",
    "    visitors = pd.read_csv('/Users/a4128/Documents/My_projects/06_App/visitors.csv')\n",
    "except:\n",
    "    hypothesis = pd.read_csv('/datasets/hypothesis.csv') # серверный путь\n",
    "    orders = pd.read_csv('/datasets/orders.csv')\n",
    "    visitors = pd.read_csv('/datasets/visitors.csv')  \n",
    "display(hypothesis)\n",
    "hypothesis.info()\n",
    "display(orders.head(3))\n",
    "orders.info()\n",
    "display(visitors.head(3))\n",
    "visitors.info()\n",
    "# получение первых строк таблиц и общая нформация об исходных данных"
   ]
  },
  {
   "cell_type": "markdown",
   "metadata": {},
   "source": [
    "### Восстановление стиля названий столбцов"
   ]
  },
  {
   "cell_type": "markdown",
   "metadata": {},
   "source": [
    "Для начала восстановлю стиль названий для тех колонок, где я обнаружила нарушения:"
   ]
  },
  {
   "cell_type": "code",
   "execution_count": 3,
   "metadata": {},
   "outputs": [
    {
     "name": "stdout",
     "output_type": "stream",
     "text": [
      "Index(['hypothesis', 'reach', 'impact', 'confidence', 'efforts'], dtype='object')\n",
      "Index(['transaction_id', 'visitor_id', 'date', 'revenue', 'group'], dtype='object')\n",
      "Index(['date', 'group', 'visitors'], dtype='object')\n"
     ]
    }
   ],
   "source": [
    "hypothesis.columns = [x.lower() for x in hypothesis.columns.values]\n",
    "orders = orders.rename(columns={'transactionId': 'transaction_id',\n",
    "                                'visitorId': 'visitor_id'})\n",
    "#проверка\n",
    "print(hypothesis.columns)\n",
    "print(orders.columns)\n",
    "print(visitors.columns)"
   ]
  },
  {
   "cell_type": "markdown",
   "metadata": {},
   "source": [
    "Теперь названия всех столбцов во всех таблицах соответствуют стилистическим нормам."
   ]
  },
  {
   "cell_type": "markdown",
   "metadata": {},
   "source": [
    "### Приведение типов данных"
   ]
  },
  {
   "cell_type": "code",
   "execution_count": 4,
   "metadata": {},
   "outputs": [
    {
     "name": "stdout",
     "output_type": "stream",
     "text": [
      "Исходный тип данных в столбцах date:\n",
      "в таблице orders - object\n",
      "в таблице visitors - object\n",
      "\n",
      "Измененный тип данных в столбцах date:\n",
      "в таблице orders - datetime64[ns]\n",
      "в таблице visitors - datetime64[ns]\n"
     ]
    }
   ],
   "source": [
    "print('Исходный тип данных в столбцах date:')\n",
    "print('в таблице orders -', orders['date'].dtypes)\n",
    "print('в таблице visitors -', visitors['date'].dtypes)\n",
    "orders['date'] = orders['date'].map(\n",
    "    lambda x: dt.datetime.strptime(x, '%Y-%m-%d')\n",
    ")\n",
    "visitors['date'] = visitors['date'].map(\n",
    "    lambda x: dt.datetime.strptime(x, '%Y-%m-%d')\n",
    ")\n",
    "\n",
    "print()\n",
    "print('Измененный тип данных в столбцах date:')\n",
    "print('в таблице orders -', orders['date'].dtypes)\n",
    "print('в таблице visitors -', visitors['date'].dtypes)"
   ]
  },
  {
   "cell_type": "markdown",
   "metadata": {},
   "source": [
    "### Проверка на дубликаты"
   ]
  },
  {
   "cell_type": "code",
   "execution_count": 5,
   "metadata": {},
   "outputs": [
    {
     "name": "stdout",
     "output_type": "stream",
     "text": [
      "Количнство явных дубликатов в датафреймах:\n",
      "hypothesis - 0\n",
      "orders - 0\n",
      "visitors - 0\n"
     ]
    }
   ],
   "source": [
    "print('Количнство явных дубликатов в датафреймах:')\n",
    "print('hypothesis -', hypothesis.duplicated().sum())\n",
    "print('orders -', orders.duplicated().sum())\n",
    "print('visitors -', visitors.duplicated().sum())"
   ]
  },
  {
   "cell_type": "markdown",
   "metadata": {},
   "source": [
    "### Проверка на пропущенные значения"
   ]
  },
  {
   "cell_type": "code",
   "execution_count": 6,
   "metadata": {},
   "outputs": [
    {
     "name": "stdout",
     "output_type": "stream",
     "text": [
      "Количнство пропущенных значений в датафреймах:\n",
      "hypothesis - hypothesis    0\n",
      "reach         0\n",
      "impact        0\n",
      "confidence    0\n",
      "efforts       0\n",
      "dtype: int64\n",
      "\n",
      "orders - transaction_id    0\n",
      "visitor_id        0\n",
      "date              0\n",
      "revenue           0\n",
      "group             0\n",
      "dtype: int64\n",
      "\n",
      "visitors - date        0\n",
      "group       0\n",
      "visitors    0\n",
      "dtype: int64\n"
     ]
    }
   ],
   "source": [
    "print('Количнство пропущенных значений в датафреймах:')\n",
    "print('hypothesis -', hypothesis.isna().sum().sort_values(ascending=False))\n",
    "print()\n",
    "print('orders -', orders.isna().sum().sort_values(ascending=False))\n",
    "print()\n",
    "print('visitors -', visitors.isna().sum().sort_values(ascending=False))"
   ]
  },
  {
   "cell_type": "markdown",
   "metadata": {},
   "source": [
    "### Проверка корректности данных"
   ]
  },
  {
   "cell_type": "markdown",
   "metadata": {},
   "source": [
    "Необходимо проверить правильность разделения на группы. Равны ли сформированные группы и не попали ли одни и те же пользователи в обе группы."
   ]
  },
  {
   "cell_type": "code",
   "execution_count": 7,
   "metadata": {},
   "outputs": [
    {
     "name": "stdout",
     "output_type": "stream",
     "text": [
      "Кол-во пользователей в группе А - 557\n",
      "Кол-во пользователей в группе B - 640\n",
      "Кол-во пользователей, попавших в обе группы - 58\n"
     ]
    }
   ],
   "source": [
    "print('Кол-во пользователей в группе А -', len(orders[orders['group'] == 'A']))\n",
    "print('Кол-во пользователей в группе B -', len(orders[orders['group'] == 'B']))\n",
    "\n",
    "users_double = orders.groupby('visitor_id').agg({'group': ['nunique', 'unique']})\n",
    "users_double.columns = ['groups', 'group_names']\n",
    "users_double = users_double.query('groups > 1')\n",
    "print('Кол-во пользователей, попавших в обе группы -', len(users_double))"
   ]
  },
  {
   "cell_type": "markdown",
   "metadata": {},
   "source": [
    "### Выводы по разделу"
   ]
  },
  {
   "cell_type": "markdown",
   "metadata": {},
   "source": [
    "Данные получены, отображены и предварительно пранализированы.\n",
    "\n",
    "Согласно документации к данным, таблицы содержат следующую информацию:\n",
    "\n",
    "Таблица `hypothesis` (файл гипотез):\n",
    "\n",
    "- `Hypothesis` — краткое описание гипотезы\n",
    "- `Reach` — охват пользователей по 10-балльной шкале\n",
    "- `Impact` — влияние на пользователей по 10-балльной шкале\n",
    "- `Confidence` — уверенность в гипотезе по 10-балльной шкале\n",
    "- `Efforts` — затраты ресурсов на проверку гипотезы по 10-балльной шкале (чем больше значение Efforts, тем дороже проверка гипотезы)\n",
    "\n",
    "Таблица `orders` (файл результата теста):\n",
    "\n",
    "- `transactionId` — идентификатор заказа\n",
    "- `visitorId` — идентификатор пользователя, совершившего заказ\n",
    "- `date` — дата, когда был совершён заказ\n",
    "- `revenue` — выручка заказа\n",
    "- `group` — группа A/B-теста, в которую попал заказ\n",
    "\n",
    "Таблица `visitors` (файл результата теста):\n",
    "\n",
    "- `date` — дата\n",
    "- `group` — группа A/B-теста\n",
    "- `visitors` — количество пользователей в указанную дату в указанной группе A/B-теста\n",
    "\n",
    "В результате предварительного анализа выявлено:\n",
    "\n",
    "- в таблицах `hypothesis` и `orders` присутствует нарушение стиля названий (заглавные буквы, слитное написание);\n",
    "- некоторые типы данных не соответствуют логике (поля, содержащие даты, имеют тип `object`);\n",
    "- в таблицах отсутствуют дубликаты;\n",
    "- в таблицах отсутствуют пропуски в данных.\n",
    "\n",
    "На этапе предобработки данных:\n",
    "\n",
    "- исправлены нарушения в названиях столбцов,\n",
    "- приведены типы данных в столбцах дат.\n",
    "\n",
    "Количество пользователей в группах различается, также найдено 58 пользователей, присутствующие в обеих группах. По-хорошему, тест с таким пересечением может быть неинформативен, т.к. это довольно сильное пересечение (около 10%), но т.к. это учебный проект, то продолжу исследование."
   ]
  },
  {
   "cell_type": "markdown",
   "metadata": {},
   "source": [
    "## Приоритизация гипотез"
   ]
  },
  {
   "cell_type": "code",
   "execution_count": 8,
   "metadata": {},
   "outputs": [
    {
     "data": {
      "text/html": [
       "<div>\n",
       "<style scoped>\n",
       "    .dataframe tbody tr th:only-of-type {\n",
       "        vertical-align: middle;\n",
       "    }\n",
       "\n",
       "    .dataframe tbody tr th {\n",
       "        vertical-align: top;\n",
       "    }\n",
       "\n",
       "    .dataframe thead th {\n",
       "        text-align: right;\n",
       "    }\n",
       "</style>\n",
       "<table border=\"1\" class=\"dataframe\">\n",
       "  <thead>\n",
       "    <tr style=\"text-align: right;\">\n",
       "      <th></th>\n",
       "      <th>hypothesis</th>\n",
       "      <th>reach</th>\n",
       "      <th>impact</th>\n",
       "      <th>confidence</th>\n",
       "      <th>efforts</th>\n",
       "    </tr>\n",
       "  </thead>\n",
       "  <tbody>\n",
       "    <tr>\n",
       "      <th>0</th>\n",
       "      <td>Добавить два новых канала привлечения трафика, что позволит привлекать на 30% больше пользователей</td>\n",
       "      <td>3</td>\n",
       "      <td>10</td>\n",
       "      <td>8</td>\n",
       "      <td>6</td>\n",
       "    </tr>\n",
       "    <tr>\n",
       "      <th>1</th>\n",
       "      <td>Запустить собственную службу доставки, что сократит срок доставки заказов</td>\n",
       "      <td>2</td>\n",
       "      <td>5</td>\n",
       "      <td>4</td>\n",
       "      <td>10</td>\n",
       "    </tr>\n",
       "    <tr>\n",
       "      <th>2</th>\n",
       "      <td>Добавить блоки рекомендаций товаров на сайт интернет магазина, чтобы повысить конверсию и средний чек заказа</td>\n",
       "      <td>8</td>\n",
       "      <td>3</td>\n",
       "      <td>7</td>\n",
       "      <td>3</td>\n",
       "    </tr>\n",
       "    <tr>\n",
       "      <th>3</th>\n",
       "      <td>Изменить структура категорий, что увеличит конверсию, т.к. пользователи быстрее найдут нужный товар</td>\n",
       "      <td>8</td>\n",
       "      <td>3</td>\n",
       "      <td>3</td>\n",
       "      <td>8</td>\n",
       "    </tr>\n",
       "    <tr>\n",
       "      <th>4</th>\n",
       "      <td>Изменить цвет фона главной страницы, чтобы увеличить вовлеченность пользователей</td>\n",
       "      <td>3</td>\n",
       "      <td>1</td>\n",
       "      <td>1</td>\n",
       "      <td>1</td>\n",
       "    </tr>\n",
       "    <tr>\n",
       "      <th>5</th>\n",
       "      <td>Добавить страницу отзывов клиентов о магазине, что позволит увеличить количество заказов</td>\n",
       "      <td>3</td>\n",
       "      <td>2</td>\n",
       "      <td>2</td>\n",
       "      <td>3</td>\n",
       "    </tr>\n",
       "    <tr>\n",
       "      <th>6</th>\n",
       "      <td>Показать на главной странице баннеры с актуальными акциями и распродажами, чтобы увеличить конверсию</td>\n",
       "      <td>5</td>\n",
       "      <td>3</td>\n",
       "      <td>8</td>\n",
       "      <td>3</td>\n",
       "    </tr>\n",
       "    <tr>\n",
       "      <th>7</th>\n",
       "      <td>Добавить форму подписки на все основные страницы, чтобы собрать базу клиентов для email-рассылок</td>\n",
       "      <td>10</td>\n",
       "      <td>7</td>\n",
       "      <td>8</td>\n",
       "      <td>5</td>\n",
       "    </tr>\n",
       "    <tr>\n",
       "      <th>8</th>\n",
       "      <td>Запустить акцию, дающую скидку на товар в день рождения</td>\n",
       "      <td>1</td>\n",
       "      <td>9</td>\n",
       "      <td>9</td>\n",
       "      <td>5</td>\n",
       "    </tr>\n",
       "  </tbody>\n",
       "</table>\n",
       "</div>"
      ],
      "text/plain": [
       "                                                                                                     hypothesis  \\\n",
       "0            Добавить два новых канала привлечения трафика, что позволит привлекать на 30% больше пользователей   \n",
       "1                                     Запустить собственную службу доставки, что сократит срок доставки заказов   \n",
       "2  Добавить блоки рекомендаций товаров на сайт интернет магазина, чтобы повысить конверсию и средний чек заказа   \n",
       "3           Изменить структура категорий, что увеличит конверсию, т.к. пользователи быстрее найдут нужный товар   \n",
       "4                              Изменить цвет фона главной страницы, чтобы увеличить вовлеченность пользователей   \n",
       "5                      Добавить страницу отзывов клиентов о магазине, что позволит увеличить количество заказов   \n",
       "6          Показать на главной странице баннеры с актуальными акциями и распродажами, чтобы увеличить конверсию   \n",
       "7              Добавить форму подписки на все основные страницы, чтобы собрать базу клиентов для email-рассылок   \n",
       "8                                                       Запустить акцию, дающую скидку на товар в день рождения   \n",
       "\n",
       "   reach  impact  confidence  efforts  \n",
       "0      3      10           8        6  \n",
       "1      2       5           4       10  \n",
       "2      8       3           7        3  \n",
       "3      8       3           3        8  \n",
       "4      3       1           1        1  \n",
       "5      3       2           2        3  \n",
       "6      5       3           8        3  \n",
       "7     10       7           8        5  \n",
       "8      1       9           9        5  "
      ]
     },
     "metadata": {},
     "output_type": "display_data"
    }
   ],
   "source": [
    "pd.set_option('display.max_columns', None)\n",
    "pd.options.display.max_colwidth = 150\n",
    "display(hypothesis)"
   ]
  },
  {
   "cell_type": "markdown",
   "metadata": {},
   "source": [
    "Посчитаю фреймворк ICE для приоритизации гипотез. Добавлю полученные значения ICE к существующей таблице и отсортирую их по убыванию приоритета."
   ]
  },
  {
   "cell_type": "code",
   "execution_count": 9,
   "metadata": {},
   "outputs": [
    {
     "data": {
      "text/html": [
       "<div>\n",
       "<style scoped>\n",
       "    .dataframe tbody tr th:only-of-type {\n",
       "        vertical-align: middle;\n",
       "    }\n",
       "\n",
       "    .dataframe tbody tr th {\n",
       "        vertical-align: top;\n",
       "    }\n",
       "\n",
       "    .dataframe thead th {\n",
       "        text-align: right;\n",
       "    }\n",
       "</style>\n",
       "<table border=\"1\" class=\"dataframe\">\n",
       "  <thead>\n",
       "    <tr style=\"text-align: right;\">\n",
       "      <th></th>\n",
       "      <th>hypothesis</th>\n",
       "      <th>ICE</th>\n",
       "    </tr>\n",
       "  </thead>\n",
       "  <tbody>\n",
       "    <tr>\n",
       "      <th>8</th>\n",
       "      <td>Запустить акцию, дающую скидку на товар в день рождения</td>\n",
       "      <td>16.20</td>\n",
       "    </tr>\n",
       "    <tr>\n",
       "      <th>0</th>\n",
       "      <td>Добавить два новых канала привлечения трафика, что позволит привлекать на 30% больше пользователей</td>\n",
       "      <td>13.33</td>\n",
       "    </tr>\n",
       "    <tr>\n",
       "      <th>7</th>\n",
       "      <td>Добавить форму подписки на все основные страницы, чтобы собрать базу клиентов для email-рассылок</td>\n",
       "      <td>11.20</td>\n",
       "    </tr>\n",
       "    <tr>\n",
       "      <th>6</th>\n",
       "      <td>Показать на главной странице баннеры с актуальными акциями и распродажами, чтобы увеличить конверсию</td>\n",
       "      <td>8.00</td>\n",
       "    </tr>\n",
       "    <tr>\n",
       "      <th>2</th>\n",
       "      <td>Добавить блоки рекомендаций товаров на сайт интернет магазина, чтобы повысить конверсию и средний чек заказа</td>\n",
       "      <td>7.00</td>\n",
       "    </tr>\n",
       "    <tr>\n",
       "      <th>1</th>\n",
       "      <td>Запустить собственную службу доставки, что сократит срок доставки заказов</td>\n",
       "      <td>2.00</td>\n",
       "    </tr>\n",
       "    <tr>\n",
       "      <th>5</th>\n",
       "      <td>Добавить страницу отзывов клиентов о магазине, что позволит увеличить количество заказов</td>\n",
       "      <td>1.33</td>\n",
       "    </tr>\n",
       "    <tr>\n",
       "      <th>3</th>\n",
       "      <td>Изменить структура категорий, что увеличит конверсию, т.к. пользователи быстрее найдут нужный товар</td>\n",
       "      <td>1.12</td>\n",
       "    </tr>\n",
       "    <tr>\n",
       "      <th>4</th>\n",
       "      <td>Изменить цвет фона главной страницы, чтобы увеличить вовлеченность пользователей</td>\n",
       "      <td>1.00</td>\n",
       "    </tr>\n",
       "  </tbody>\n",
       "</table>\n",
       "</div>"
      ],
      "text/plain": [
       "                                                                                                     hypothesis  \\\n",
       "8                                                       Запустить акцию, дающую скидку на товар в день рождения   \n",
       "0            Добавить два новых канала привлечения трафика, что позволит привлекать на 30% больше пользователей   \n",
       "7              Добавить форму подписки на все основные страницы, чтобы собрать базу клиентов для email-рассылок   \n",
       "6          Показать на главной странице баннеры с актуальными акциями и распродажами, чтобы увеличить конверсию   \n",
       "2  Добавить блоки рекомендаций товаров на сайт интернет магазина, чтобы повысить конверсию и средний чек заказа   \n",
       "1                                     Запустить собственную службу доставки, что сократит срок доставки заказов   \n",
       "5                      Добавить страницу отзывов клиентов о магазине, что позволит увеличить количество заказов   \n",
       "3           Изменить структура категорий, что увеличит конверсию, т.к. пользователи быстрее найдут нужный товар   \n",
       "4                              Изменить цвет фона главной страницы, чтобы увеличить вовлеченность пользователей   \n",
       "\n",
       "     ICE  \n",
       "8  16.20  \n",
       "0  13.33  \n",
       "7  11.20  \n",
       "6   8.00  \n",
       "2   7.00  \n",
       "1   2.00  \n",
       "5   1.33  \n",
       "3   1.12  \n",
       "4   1.00  "
      ]
     },
     "execution_count": 9,
     "metadata": {},
     "output_type": "execute_result"
    }
   ],
   "source": [
    "hypothesis['ICE'] = round(hypothesis['impact'] * hypothesis['confidence'] / hypothesis['efforts'], 2)\n",
    "hypothesis[['hypothesis', 'ICE']].sort_values(by='ICE', ascending=False)"
   ]
  },
  {
   "cell_type": "markdown",
   "metadata": {},
   "source": [
    "Наиболее перспективными гипотезами при применении ICE являются гипотезы (по убыванию приоритета):\n",
    "\n",
    "- №1 - запуск акции на скидку в день рождения;\n",
    "- №2 - добавление 2-ух новых каналов привелечения;\n",
    "- №3 - добавление формы подписки на основные страницы;\n",
    "- №4 - показ баннеров на главной странице с актуальными акциями;\n",
    "- №5 - добавление блоков рекомендаций товаров.\n",
    "\n",
    "Далее рассчитаю фреймворк RICE. Также добавлю полученные значения к существующей таблице и отсортирую их по убыванию приоритета."
   ]
  },
  {
   "cell_type": "code",
   "execution_count": 10,
   "metadata": {},
   "outputs": [
    {
     "data": {
      "text/html": [
       "<div>\n",
       "<style scoped>\n",
       "    .dataframe tbody tr th:only-of-type {\n",
       "        vertical-align: middle;\n",
       "    }\n",
       "\n",
       "    .dataframe tbody tr th {\n",
       "        vertical-align: top;\n",
       "    }\n",
       "\n",
       "    .dataframe thead th {\n",
       "        text-align: right;\n",
       "    }\n",
       "</style>\n",
       "<table border=\"1\" class=\"dataframe\">\n",
       "  <thead>\n",
       "    <tr style=\"text-align: right;\">\n",
       "      <th></th>\n",
       "      <th>hypothesis</th>\n",
       "      <th>RICE</th>\n",
       "      <th>ICE</th>\n",
       "    </tr>\n",
       "  </thead>\n",
       "  <tbody>\n",
       "    <tr>\n",
       "      <th>7</th>\n",
       "      <td>Добавить форму подписки на все основные страницы, чтобы собрать базу клиентов для email-рассылок</td>\n",
       "      <td>112.0</td>\n",
       "      <td>11.20</td>\n",
       "    </tr>\n",
       "    <tr>\n",
       "      <th>2</th>\n",
       "      <td>Добавить блоки рекомендаций товаров на сайт интернет магазина, чтобы повысить конверсию и средний чек заказа</td>\n",
       "      <td>56.0</td>\n",
       "      <td>7.00</td>\n",
       "    </tr>\n",
       "    <tr>\n",
       "      <th>0</th>\n",
       "      <td>Добавить два новых канала привлечения трафика, что позволит привлекать на 30% больше пользователей</td>\n",
       "      <td>40.0</td>\n",
       "      <td>13.33</td>\n",
       "    </tr>\n",
       "    <tr>\n",
       "      <th>6</th>\n",
       "      <td>Показать на главной странице баннеры с актуальными акциями и распродажами, чтобы увеличить конверсию</td>\n",
       "      <td>40.0</td>\n",
       "      <td>8.00</td>\n",
       "    </tr>\n",
       "    <tr>\n",
       "      <th>8</th>\n",
       "      <td>Запустить акцию, дающую скидку на товар в день рождения</td>\n",
       "      <td>16.2</td>\n",
       "      <td>16.20</td>\n",
       "    </tr>\n",
       "    <tr>\n",
       "      <th>3</th>\n",
       "      <td>Изменить структура категорий, что увеличит конверсию, т.к. пользователи быстрее найдут нужный товар</td>\n",
       "      <td>9.0</td>\n",
       "      <td>1.12</td>\n",
       "    </tr>\n",
       "    <tr>\n",
       "      <th>1</th>\n",
       "      <td>Запустить собственную службу доставки, что сократит срок доставки заказов</td>\n",
       "      <td>4.0</td>\n",
       "      <td>2.00</td>\n",
       "    </tr>\n",
       "    <tr>\n",
       "      <th>5</th>\n",
       "      <td>Добавить страницу отзывов клиентов о магазине, что позволит увеличить количество заказов</td>\n",
       "      <td>4.0</td>\n",
       "      <td>1.33</td>\n",
       "    </tr>\n",
       "    <tr>\n",
       "      <th>4</th>\n",
       "      <td>Изменить цвет фона главной страницы, чтобы увеличить вовлеченность пользователей</td>\n",
       "      <td>3.0</td>\n",
       "      <td>1.00</td>\n",
       "    </tr>\n",
       "  </tbody>\n",
       "</table>\n",
       "</div>"
      ],
      "text/plain": [
       "                                                                                                     hypothesis  \\\n",
       "7              Добавить форму подписки на все основные страницы, чтобы собрать базу клиентов для email-рассылок   \n",
       "2  Добавить блоки рекомендаций товаров на сайт интернет магазина, чтобы повысить конверсию и средний чек заказа   \n",
       "0            Добавить два новых канала привлечения трафика, что позволит привлекать на 30% больше пользователей   \n",
       "6          Показать на главной странице баннеры с актуальными акциями и распродажами, чтобы увеличить конверсию   \n",
       "8                                                       Запустить акцию, дающую скидку на товар в день рождения   \n",
       "3           Изменить структура категорий, что увеличит конверсию, т.к. пользователи быстрее найдут нужный товар   \n",
       "1                                     Запустить собственную службу доставки, что сократит срок доставки заказов   \n",
       "5                      Добавить страницу отзывов клиентов о магазине, что позволит увеличить количество заказов   \n",
       "4                              Изменить цвет фона главной страницы, чтобы увеличить вовлеченность пользователей   \n",
       "\n",
       "    RICE    ICE  \n",
       "7  112.0  11.20  \n",
       "2   56.0   7.00  \n",
       "0   40.0  13.33  \n",
       "6   40.0   8.00  \n",
       "8   16.2  16.20  \n",
       "3    9.0   1.12  \n",
       "1    4.0   2.00  \n",
       "5    4.0   1.33  \n",
       "4    3.0   1.00  "
      ]
     },
     "execution_count": 10,
     "metadata": {},
     "output_type": "execute_result"
    }
   ],
   "source": [
    "hypothesis['RICE'] = hypothesis['reach'] * hypothesis['impact'] * hypothesis['confidence'] / hypothesis['efforts']\n",
    "hypothesis[['hypothesis', 'RICE', 'ICE']].sort_values(by='RICE', ascending=False)"
   ]
  },
  {
   "cell_type": "markdown",
   "metadata": {},
   "source": [
    "При применении фреймворка RICE 5-ю наиболее перспективными гипотезами являются те же гипотезы, что и при расчете ICE, описанные выше, но у них поменялся приоритет, теперь конечный порядок проверки гипотез выглядит следующим образом:\n",
    "- №1 (вместо №3) - добавление формы подписки на основные страницы;\n",
    "- №2 (вместо №5) - добавление блоков рекомендаций товаров;\n",
    "- №3 (вместо №2) - добавление 2-ух новых каналов привелечения;\n",
    "- №4 (так же №4) - показ баннеров на главной странице с актуальными акциями;\n",
    "- №5 (вместо №1) - запуск акции на скидку в день рождения.\n",
    "\n",
    "Это произошло потому, что в расчете RICE используется параметр `Reach` (охват пользователей), а для гипотез про добавление формы подписки на основные страницы и добавление блоков рекомендаций товаров он очень велик (10 и 8 баллов соответственно). Кроме силы гипотез необходимо учитывать и то, как много пользователей она затронет."
   ]
  },
  {
   "cell_type": "markdown",
   "metadata": {},
   "source": [
    "## Анализ A/B-теста"
   ]
  },
  {
   "cell_type": "markdown",
   "metadata": {},
   "source": [
    "Проведен A/B-тест и получены результаты. Проведу анализ результатов."
   ]
  },
  {
   "cell_type": "markdown",
   "metadata": {},
   "source": [
    "Чтобы исключить проблему подсматривания, буду анализировать графики метрик. Буду изучать графики кумулятивных, или накапливаемых данных, т.е. отслеживать изменения результатов эксперимента на каждый день тестирования. По центральной предельной теореме значение кумулятивных метрик часто сходится и устанавливается около некоторого среднего. Тогда по графику кумулятивных метрик можно будет определить, стоит останавливать тест или нет.\n",
    "\n",
    "Чтобы построить необходимые для анализа графики, нужно собрать кумулятивные данные. Объявлю датафрейм cumulative_data со столбцами:\n",
    "\n",
    "- date — дата;\n",
    "- group — группа A/B-теста (A или B);\n",
    "- orders — кумулятивное количество заказов на указанную дату в указанной группе;\n",
    "- buyers — кумулятивное количество пользователей, совершивших хотя бы один заказ, на указанную дату в указанной группе;\n",
    "- revenue — кумулятивная выручка на указанную дату в указанной группе (средний чек);\n",
    "- visitors — кумулятивное количество посетителей интернет-магазина на указанную дату в определённой группе.\n",
    "\n",
    "Создам массив уникальных пар значений дат и групп теста методом drop_duplicates():"
   ]
  },
  {
   "cell_type": "code",
   "execution_count": 11,
   "metadata": {},
   "outputs": [],
   "source": [
    "# создаю массив уникальных пар значений дат и групп теста\n",
    "dates_groups = orders[['date','group']].drop_duplicates()"
   ]
  },
  {
   "cell_type": "markdown",
   "metadata": {},
   "source": [
    "Получу строки таблицы `orders`, дата которых меньше или равна дате элемента из `dates_groups`, а группа теста равна группе из `dates_groups`. Агрегирую значения. Вычислю максимальную дату. Для группы тоже рассчитаю максимум, и хотя она будет определённой, сделаю это, чтобы столбец `group` не пропал из итогового вывода. Найду число уникальных `ID` заказов и пользователей. Подсчитаю сумму средних чеков. Применю методы к каждой строке датафрейма: `apply(axis=1)` и отсортирую результаты по столбцам `date` и `group`:"
   ]
  },
  {
   "cell_type": "code",
   "execution_count": 12,
   "metadata": {},
   "outputs": [],
   "source": [
    "orders_aggregated = dates_groups.apply(\n",
    "    lambda x: orders[np.logical_and(orders['date'] <= x['date'], orders['group'] == x['group'])].agg({\n",
    "'date' : 'max',\n",
    "'group' : 'max',\n",
    "'transaction_id' : 'nunique',\n",
    "'visitor_id' : 'nunique',\n",
    "'revenue' : 'sum'}), axis=1).sort_values(by=['date','group'])\n",
    "#print(orders_aggregated)"
   ]
  },
  {
   "cell_type": "markdown",
   "metadata": {},
   "source": [
    "Аналогично получу агрегированные кумулятивные по дням данные о посетителях интернет-магазина:"
   ]
  },
  {
   "cell_type": "code",
   "execution_count": 13,
   "metadata": {},
   "outputs": [],
   "source": [
    "visitors_aggregated = dates_groups.apply(\n",
    "    lambda x: visitors[np.logical_and(visitors['date'] <= x['date'], visitors['group'] == x['group'])].agg({\n",
    "'date' : 'max',\n",
    "'group' : 'max',\n",
    "'visitors' : 'sum'}), axis=1).sort_values(by=['date','group'])\n",
    "#print(visitors_aggregated)"
   ]
  },
  {
   "cell_type": "markdown",
   "metadata": {},
   "source": [
    "Объединю полученные таблицы в одну:"
   ]
  },
  {
   "cell_type": "code",
   "execution_count": 14,
   "metadata": {},
   "outputs": [
    {
     "name": "stdout",
     "output_type": "stream",
     "text": [
      "        date group  orders  buyers  revenue  visitors\n",
      "0 2019-08-01     A      24      20   148579       719\n",
      "1 2019-08-01     B      21      20   101217       713\n",
      "2 2019-08-02     A      44      38   242401      1338\n",
      "3 2019-08-02     B      45      43   266748      1294\n",
      "4 2019-08-03     A      68      62   354874      1845\n"
     ]
    }
   ],
   "source": [
    "cumulative_data = orders_aggregated.merge(visitors_aggregated, left_on=['date', 'group'], right_on=['date', 'group'])\n",
    "\n",
    "cumulative_data.columns= ['date', 'group', 'orders', 'buyers', 'revenue', 'visitors']\n",
    "print(cumulative_data.head())"
   ]
  },
  {
   "cell_type": "markdown",
   "metadata": {},
   "source": [
    "### Графики кумулятивной выручки "
   ]
  },
  {
   "cell_type": "markdown",
   "metadata": {},
   "source": [
    "Объявлю датафрейм с кумулятивным количеством заказов и кумулятивной выручкой по дням в группе А и в группе В: "
   ]
  },
  {
   "cell_type": "code",
   "execution_count": 15,
   "metadata": {},
   "outputs": [],
   "source": [
    "# датафрейм с кумулятивным количеством заказов и кумулятивной выручкой по дням в группе А\n",
    "cumulative_revenue_A = cumulative_data[cumulative_data['group'] == 'A'][['date','revenue', 'orders']]\n",
    "\n",
    "# датафрейм с кумулятивным количеством заказов и кумулятивной выручкой по дням в группе B\n",
    "cumulative_revenue_B = cumulative_data[cumulative_data['group'] == 'B'][['date','revenue', 'orders']]"
   ]
  },
  {
   "cell_type": "markdown",
   "metadata": {},
   "source": [
    "Построю графики кумулятивной выручки по дням и группам A/B-тестирования с использованием полученных датафреймов:"
   ]
  },
  {
   "cell_type": "code",
   "execution_count": 16,
   "metadata": {},
   "outputs": [
    {
     "data": {
      "image/png": "[encoded data removed]",
      "text/plain": [
       "<Figure size 432x288 with 1 Axes>"
      ]
     },
     "metadata": {
      "needs_background": "light"
     },
     "output_type": "display_data"
    }
   ],
   "source": [
    "# Строю график выручки группы А\n",
    "plt.plot(cumulative_revenue_A['date'], cumulative_revenue_A['revenue'], label='группа A')\n",
    "\n",
    "# Строю график выручки группы B\n",
    "plt.plot(cumulative_revenue_B['date'], cumulative_revenue_B['revenue'], label='группа B')\n",
    "\n",
    "plt.xticks(rotation = 45) # поворот меток оси Х на 45\n",
    "plt.title('Кумулятивная выручка по дням', fontsize=12) # вывод названия\n",
    "plt.legend()\n",
    "plt.xlabel(\"Дата\")\n",
    "plt.ylabel(\"Выручка (в млн у.е.)\")\n",
    "plt.annotate('скачок', xy=('2019-08-17', 2800000), xytext=('2019-08-10', 3500000),\n",
    "            arrowprops=dict(facecolor='g'))\n",
    "plt.annotate('отрыв', xy=('2019-08-05', 800000), xytext=('2019-08-05', 2000000),\n",
    "            arrowprops=dict(facecolor='g')); # вывод легенды"
   ]
  },
  {
   "cell_type": "markdown",
   "metadata": {},
   "source": [
    "Выручка почти равномерно увеличивается в течение всего теста. Это хороший знак. Однако график выручки в группе В в моменте резко вырос. Это может сигнализировать о всплеске числа заказов, либо о появлении очень дорогих заказов в выборке. Такие выбросы необходимо проанализировать."
   ]
  },
  {
   "cell_type": "markdown",
   "metadata": {},
   "source": [
    "### Графики среднего чека "
   ]
  },
  {
   "cell_type": "markdown",
   "metadata": {},
   "source": [
    "Построю графики среднего чека по группам — разделю кумулятивную выручку на кумулятивное число заказов:"
   ]
  },
  {
   "cell_type": "code",
   "execution_count": 17,
   "metadata": {},
   "outputs": [
    {
     "data": {
      "image/png": "[encoded data removed]",
      "text/plain": [
       "<Figure size 432x288 with 1 Axes>"
      ]
     },
     "metadata": {
      "needs_background": "light"
     },
     "output_type": "display_data"
    }
   ],
   "source": [
    "plt.plot(cumulative_revenue_A['date'], cumulative_revenue_A['revenue'] / cumulative_revenue_A['orders'], label='группа A')\n",
    "plt.plot(cumulative_revenue_B['date'], cumulative_revenue_B['revenue'] / cumulative_revenue_B['orders'], label='группа B')\n",
    "plt.xticks(rotation = 45)\n",
    "plt.title('Средний чек по дням', fontsize=12)\n",
    "plt.legend()\n",
    "plt.xlabel(\"Дата\")\n",
    "plt.ylabel(\"Средний чек за дату (в у.е.)\");"
   ]
  },
  {
   "cell_type": "markdown",
   "metadata": {},
   "source": [
    "Кумулятивное значение среднего чека сильно колеблется. Скорее всего принимать решение по этой метрике рано. Требуется дополнительный анализ выбросов, которые искажают рзультаты. Средний чек пока для обеих групп становится равномерным ближе к концу теста: установился для группы A и падает для группы B. Возможно, в группу B в первой половине теста попали крупные заказы (резкий всплеск на графике). Нужно больше данных, чтобы прийти к реальному среднему чеку и установиться на его уровне."
   ]
  },
  {
   "cell_type": "markdown",
   "metadata": {},
   "source": [
    "### График относительного различия для среднего чека "
   ]
  },
  {
   "cell_type": "markdown",
   "metadata": {},
   "source": [
    "Построю график относительного различия для среднего чека. Для этого объединю таблицы cumulative_revenue_A и cumulative_revenue_B методом merge() так, чтобы она содержала столбцы: `date`, `revenue_A`, `revenue_B`, `orders_A`, `orders_B`]. Сохраню в переменной `merged_сumulative_revenue`. Добавлю горизонтальную ось методом `axhline()`:"
   ]
  },
  {
   "cell_type": "code",
   "execution_count": 18,
   "metadata": {},
   "outputs": [
    {
     "data": {
      "image/png": "[encoded data removed]",
      "text/plain": [
       "<Figure size 432x288 with 1 Axes>"
      ]
     },
     "metadata": {
      "needs_background": "light"
     },
     "output_type": "display_data"
    }
   ],
   "source": [
    "# собираю данные в одном датафрейме\n",
    "merged_cumulative_revenue = cumulative_revenue_A.merge(cumulative_revenue_B, left_on='date', right_on='date', how='left', suffixes=['_A', '_B'])\n",
    "\n",
    "# cтроим отношение средних чеков\n",
    "plt.plot(merged_cumulative_revenue['date'], (merged_cumulative_revenue['revenue_B'] / merged_cumulative_revenue['orders_B']) / (merged_cumulative_revenue['revenue_A'] / merged_cumulative_revenue['orders_A']) -1)\n",
    "\n",
    "# добавляем ось X\n",
    "plt.axhline(y=0, color='black', linestyle='--')\n",
    "plt.xticks(rotation = 45)\n",
    "plt.title('Относительное различие для среднего чека', fontsize=12)\n",
    "plt.xlabel(\"Дата\")\n",
    "plt.ylabel(\"Доля\");"
   ]
  },
  {
   "cell_type": "markdown",
   "metadata": {},
   "source": [
    "Из построенного графика относительного изменения кумулятивного среднего чека группы B к группе A видно, что результаты теста значительно и резко менялись в несколько дат. Видимо, именно тогда были совершены аномальные заказы, которые искажают реузльтаты тестов."
   ]
  },
  {
   "cell_type": "markdown",
   "metadata": {},
   "source": [
    "### График кумулятивной конверсии"
   ]
  },
  {
   "cell_type": "markdown",
   "metadata": {},
   "source": [
    "Аналогично проанализирую график кумулятивной конверсии."
   ]
  },
  {
   "cell_type": "code",
   "execution_count": 19,
   "metadata": {},
   "outputs": [
    {
     "name": "stdout",
     "output_type": "stream",
     "text": [
      "Минимальное значение даты - 2019-08-01 00:00:00\n",
      "Максимальное значение даты - 2019-08-31 00:00:00\n"
     ]
    }
   ],
   "source": [
    "print('Минимальное значение даты -', orders['date'].min())\n",
    "print('Максимальное значение даты -',orders['date'].max())"
   ]
  },
  {
   "cell_type": "markdown",
   "metadata": {},
   "source": [
    "Задам масштаб осей методом plt.axis(). Передам ему минимальное и максимальное значения оси x; минимальное и максимальное значения оси y — [\"2019-08-01\", '2019-08-31', 0, 0.07]:"
   ]
  },
  {
   "cell_type": "code",
   "execution_count": 20,
   "metadata": {},
   "outputs": [
    {
     "data": {
      "image/png": "[encoded data removed]",
      "text/plain": [
       "<Figure size 432x288 with 1 Axes>"
      ]
     },
     "metadata": {
      "needs_background": "light"
     },
     "output_type": "display_data"
    }
   ],
   "source": [
    "# считаю кумулятивную конверсию\n",
    "cumulative_data['conversion'] = cumulative_data['orders']/cumulative_data['visitors']\n",
    "\n",
    "# отделяю данные по группе A\n",
    "cumulative_data_A = cumulative_data[cumulative_data['group'] == 'A']\n",
    "\n",
    "# отделяю данные по группе B\n",
    "cumulative_data_B = cumulative_data[cumulative_data['group'] == 'B']\n",
    "\n",
    "# строю графики\n",
    "plt.plot(cumulative_data_A['date'], cumulative_data_A['conversion'], label='A')\n",
    "plt.plot(cumulative_data_B['date'], cumulative_data_B['conversion'], label='B')\n",
    "plt.xticks(rotation = 45)\n",
    "plt.legend()\n",
    "\n",
    "# задаю масштаб осей\n",
    "plt.axis([\"2019-08-01\", '2019-08-31', 0, 0.05])\n",
    "plt.title('Кумулятивная конверсия', fontsize=12)\n",
    "plt.xlabel(\"Дата\")\n",
    "plt.ylabel(\"Доля\");"
   ]
  },
  {
   "cell_type": "markdown",
   "metadata": {},
   "source": [
    "Практически в самом начале исследования конверсия сегментов А и В выровнялись и зафиксировались примерно около одного значения. Конверсия сегмента В выше сегмента А."
   ]
  },
  {
   "cell_type": "markdown",
   "metadata": {},
   "source": [
    "### График относительного изменения кумулятивной конверсии"
   ]
  },
  {
   "cell_type": "code",
   "execution_count": 21,
   "metadata": {},
   "outputs": [
    {
     "data": {
      "image/png": "[encoded data removed]",
      "text/plain": [
       "<Figure size 432x288 with 1 Axes>"
      ]
     },
     "metadata": {
      "needs_background": "light"
     },
     "output_type": "display_data"
    }
   ],
   "source": [
    "merged_cumulative_conversions = cumulative_data_A[['date','conversion']].merge(cumulative_data_B[['date','conversion']], left_on='date', right_on='date', how='left', suffixes=['_A', '_B'])\n",
    "\n",
    "plt.plot(merged_cumulative_conversions['date'], merged_cumulative_conversions['conversion_B']/merged_cumulative_conversions['conversion_A'] -1)\n",
    "\n",
    "plt.axhline(y=0, color='black', linestyle='--')\n",
    "plt.axhline(y=-0.1, color='grey', linestyle='--')\n",
    "plt.axis([\"2019-08-01\", '2019-08-31', -0.3, 0.3])\n",
    "plt.xticks(rotation = 45)\n",
    "plt.title('Относительный прирост конверсии группы B относительно группы A')\n",
    "plt.xlabel(\"Дата\")\n",
    "plt.ylabel(\"Доля\");"
   ]
  },
  {
   "cell_type": "markdown",
   "metadata": {},
   "source": [
    "Практически с самого начала теста группа В начала лидировать по конверсии, становилась все лучше и лучше, возможно, даже зафиксировалась около прироста примерно в 10% относительно группы А. В целом отношение конверсии точно ещё не установилось и сейчас делать какие-либо выводы по тесту нельзя. Впрочем, сперва стоит проанализировать аномалии, возможно, они изменят картину."
   ]
  },
  {
   "cell_type": "markdown",
   "metadata": {},
   "source": [
    "### График количества заказов по пользователям"
   ]
  },
  {
   "cell_type": "code",
   "execution_count": 22,
   "metadata": {},
   "outputs": [
    {
     "name": "stdout",
     "output_type": "stream",
     "text": [
      "      visitor_id  orders\n",
      "1023  4256040402      11\n",
      "591   2458001652      11\n",
      "569   2378935119       9\n",
      "487   2038680547       8\n",
      "44     199603092       5\n"
     ]
    },
    {
     "data": {
      "image/png": "[encoded data removed]",
      "text/plain": [
       "<Figure size 432x288 with 1 Axes>"
      ]
     },
     "metadata": {
      "needs_background": "light"
     },
     "output_type": "display_data"
    }
   ],
   "source": [
    "orders_by_users = (\n",
    "    orders.groupby('visitor_id', as_index=False)\n",
    "    .agg({'transaction_id': pd.Series.nunique})\n",
    ")\n",
    "orders_by_users.columns = ['visitor_id', 'orders']\n",
    "\n",
    "print(orders_by_users.sort_values(by='orders', ascending=False).head())\n",
    "\n",
    "x_values = pd.Series(range(0, len(orders_by_users)))\n",
    "plt.scatter(x_values, orders_by_users['orders'])\n",
    "plt.title('Распределение количества заказов по пользователям');"
   ]
  },
  {
   "cell_type": "markdown",
   "metadata": {},
   "source": [
    "Пользователей, заказавших более двух раз - совсем немного. Их вполне можно считать аномальными. Необходимо выяснить, в данной выборке 2 - это нормально или много. \n",
    "\n",
    "Посчитаю 95-й и 99-й перцентили количества заказов на пользователя. Выберите границу для определения аномальных пользователей."
   ]
  },
  {
   "cell_type": "code",
   "execution_count": 23,
   "metadata": {},
   "outputs": [
    {
     "name": "stdout",
     "output_type": "stream",
     "text": [
      "[2. 4.]\n"
     ]
    }
   ],
   "source": [
    "print(np.percentile(orders_by_users['orders'], [95, 99])) "
   ]
  },
  {
   "cell_type": "markdown",
   "metadata": {},
   "source": [
    "Не более 5% пользователей сделали больше 2 заказов и не более 1% из всей выборки - больше 4 заказов.  Обычно принято отсеивать от 1% до 5% наблюдений с крайними значениями, поэтому будет разумным выбрать 2 заказа на одного пользователя за нижнюю границу числа заказов, и отсеять аномальных пользователей по ней, т.е. исключить пользователей, совершивших 3 и более заказов."
   ]
  },
  {
   "cell_type": "markdown",
   "metadata": {},
   "source": [
    "### График стоимостей заказов"
   ]
  },
  {
   "cell_type": "code",
   "execution_count": 24,
   "metadata": {},
   "outputs": [
    {
     "data": {
      "image/png": "[encoded data removed]",
      "text/plain": [
       "<Figure size 432x288 with 1 Axes>"
      ]
     },
     "metadata": {
      "needs_background": "light"
     },
     "output_type": "display_data"
    }
   ],
   "source": [
    "x_values = pd.Series(range(0, len(orders['revenue'])))\n",
    "plt.scatter(x=x_values, y=orders['revenue'])\n",
    "plt.title('Распределение стоимости заказов');"
   ]
  },
  {
   "cell_type": "markdown",
   "metadata": {},
   "source": [
    "Присутствует немного дорогих заказов. По графику невозможно выбрать границу аномальных заказов. Выбросы слишком значительны, необходимо ограничить ось Y и посмотреть, как распределены значения:"
   ]
  },
  {
   "cell_type": "code",
   "execution_count": 25,
   "metadata": {},
   "outputs": [
    {
     "data": {
      "image/png": "[encoded data removed]",
      "text/plain": [
       "<Figure size 432x288 with 1 Axes>"
      ]
     },
     "metadata": {
      "needs_background": "light"
     },
     "output_type": "display_data"
    }
   ],
   "source": [
    "x_values = pd.Series(range(0, len(orders['revenue'])))\n",
    "plt.scatter(x=x_values, y=orders['revenue'])\n",
    "plt.ylim(0, 150000)\n",
    "plt.title('Распределение стоимости заказов');"
   ]
  },
  {
   "cell_type": "markdown",
   "metadata": {},
   "source": [
    "Теперь по графику можно выбрать примерную границу аномальных заказов - это около 50000 рублей. Проверю это значение, рассчитав 95-й и 99-й перцентили стоимости заказов. На основании полученных результатов выберу границу для определения аномальных заказов."
   ]
  },
  {
   "cell_type": "code",
   "execution_count": 26,
   "metadata": {},
   "outputs": [
    {
     "name": "stdout",
     "output_type": "stream",
     "text": [
      "[28000.  58233.2]\n"
     ]
    }
   ],
   "source": [
    "print(np.percentile(orders['revenue'], [95, 99])) "
   ]
  },
  {
   "cell_type": "markdown",
   "metadata": {},
   "source": [
    "Не более 5% заказов произведено на сумму от 28000 рублей и не более 1% - от 58000 рублей. Разумнее всего выбрать границу аномальных заказов в 30000 рублей."
   ]
  },
  {
   "cell_type": "markdown",
   "metadata": {},
   "source": [
    "### Расчет статистической значимости различий по «сырым» данным"
   ]
  },
  {
   "cell_type": "markdown",
   "metadata": {},
   "source": [
    "На предыдущем шаге оценены результаты A/B-теста визуально и выявлено, что в данных, скорее всего, есть выбросы. Для выбросов найдены границы для их определения. Необходимо теперь посчитать статистическую значимость различий между группами по «сырым» данным (до удаления аномальных значений).\n",
    "\n",
    "Для дальнейших исследований мне понадобится свобная таблица со следующими столбцами:\n",
    "\n",
    "- date — дата;\n",
    "- orders_per_date_A — количество заказов в выбранную дату в группе A;\n",
    "- revenue_per_date_A — суммарная выручка в выбранную дату в группе A;\n",
    "- orders_per_date_B — количество заказов в выбранную дату в группе B;\n",
    "- revenue_per_date_B — суммарная выручка в выбранную дату в группе B;\n",
    "- orders_cummulative_A — суммарное число заказов до выбранной даты включительно в группе A;\n",
    "- revenue_cummulative_A — суммарная выручка до выбранной даты включительно в группе A;\n",
    "- orders_cummulative_B — суммарное количество заказов до выбранной даты включительно в группе B;\n",
    "- revenue_cummulative_B — суммарная выручка до выбранной даты включительно в группе B;\n",
    "- visitors_per_date_A — количество пользователей в выбранную дату в группе A;\n",
    "- visitors_per_date_B — количество пользователей в выбранную дату в группе B;\n",
    "- visitors_cummulative_A — количество пользователей до выбранной даты включительно в группе A;\n",
    "- visitors_cummulative_B — количество пользователей до выбранной даты включительно в группе B."
   ]
  },
  {
   "cell_type": "code",
   "execution_count": 27,
   "metadata": {},
   "outputs": [
    {
     "data": {
      "text/html": [
       "<div>\n",
       "<style scoped>\n",
       "    .dataframe tbody tr th:only-of-type {\n",
       "        vertical-align: middle;\n",
       "    }\n",
       "\n",
       "    .dataframe tbody tr th {\n",
       "        vertical-align: top;\n",
       "    }\n",
       "\n",
       "    .dataframe thead th {\n",
       "        text-align: right;\n",
       "    }\n",
       "</style>\n",
       "<table border=\"1\" class=\"dataframe\">\n",
       "  <thead>\n",
       "    <tr style=\"text-align: right;\">\n",
       "      <th></th>\n",
       "      <th>date</th>\n",
       "      <th>orders_per_date_A</th>\n",
       "      <th>revenue_per_date_A</th>\n",
       "      <th>orders_per_date_B</th>\n",
       "      <th>revenue_per_date_B</th>\n",
       "      <th>orders_cummulative_A</th>\n",
       "      <th>revenue_cummulative_A</th>\n",
       "      <th>orders_cummulative_B</th>\n",
       "      <th>revenue_cummulative_B</th>\n",
       "      <th>visitors_per_date_A</th>\n",
       "      <th>visitors_per_date_B</th>\n",
       "      <th>visitors_cummulative_A</th>\n",
       "      <th>visitors_cummulative_B</th>\n",
       "    </tr>\n",
       "  </thead>\n",
       "  <tbody>\n",
       "    <tr>\n",
       "      <th>0</th>\n",
       "      <td>2019-08-01</td>\n",
       "      <td>24</td>\n",
       "      <td>148579</td>\n",
       "      <td>21</td>\n",
       "      <td>101217</td>\n",
       "      <td>24</td>\n",
       "      <td>148579</td>\n",
       "      <td>21</td>\n",
       "      <td>101217</td>\n",
       "      <td>719</td>\n",
       "      <td>713</td>\n",
       "      <td>719</td>\n",
       "      <td>713</td>\n",
       "    </tr>\n",
       "    <tr>\n",
       "      <th>1</th>\n",
       "      <td>2019-08-02</td>\n",
       "      <td>20</td>\n",
       "      <td>93822</td>\n",
       "      <td>24</td>\n",
       "      <td>165531</td>\n",
       "      <td>44</td>\n",
       "      <td>242401</td>\n",
       "      <td>45</td>\n",
       "      <td>266748</td>\n",
       "      <td>619</td>\n",
       "      <td>581</td>\n",
       "      <td>1338</td>\n",
       "      <td>1294</td>\n",
       "    </tr>\n",
       "    <tr>\n",
       "      <th>2</th>\n",
       "      <td>2019-08-03</td>\n",
       "      <td>24</td>\n",
       "      <td>112473</td>\n",
       "      <td>16</td>\n",
       "      <td>114248</td>\n",
       "      <td>68</td>\n",
       "      <td>354874</td>\n",
       "      <td>61</td>\n",
       "      <td>380996</td>\n",
       "      <td>507</td>\n",
       "      <td>509</td>\n",
       "      <td>1845</td>\n",
       "      <td>1803</td>\n",
       "    </tr>\n",
       "    <tr>\n",
       "      <th>3</th>\n",
       "      <td>2019-08-04</td>\n",
       "      <td>16</td>\n",
       "      <td>70825</td>\n",
       "      <td>17</td>\n",
       "      <td>108571</td>\n",
       "      <td>84</td>\n",
       "      <td>425699</td>\n",
       "      <td>78</td>\n",
       "      <td>489567</td>\n",
       "      <td>717</td>\n",
       "      <td>770</td>\n",
       "      <td>2562</td>\n",
       "      <td>2573</td>\n",
       "    </tr>\n",
       "    <tr>\n",
       "      <th>4</th>\n",
       "      <td>2019-08-05</td>\n",
       "      <td>25</td>\n",
       "      <td>124218</td>\n",
       "      <td>23</td>\n",
       "      <td>92428</td>\n",
       "      <td>109</td>\n",
       "      <td>549917</td>\n",
       "      <td>101</td>\n",
       "      <td>581995</td>\n",
       "      <td>756</td>\n",
       "      <td>707</td>\n",
       "      <td>3318</td>\n",
       "      <td>3280</td>\n",
       "    </tr>\n",
       "  </tbody>\n",
       "</table>\n",
       "</div>"
      ],
      "text/plain": [
       "        date  orders_per_date_A  revenue_per_date_A  orders_per_date_B  \\\n",
       "0 2019-08-01                 24              148579                 21   \n",
       "1 2019-08-02                 20               93822                 24   \n",
       "2 2019-08-03                 24              112473                 16   \n",
       "3 2019-08-04                 16               70825                 17   \n",
       "4 2019-08-05                 25              124218                 23   \n",
       "\n",
       "   revenue_per_date_B  orders_cummulative_A  revenue_cummulative_A  \\\n",
       "0              101217                    24                 148579   \n",
       "1              165531                    44                 242401   \n",
       "2              114248                    68                 354874   \n",
       "3              108571                    84                 425699   \n",
       "4               92428                   109                 549917   \n",
       "\n",
       "   orders_cummulative_B  revenue_cummulative_B  visitors_per_date_A  \\\n",
       "0                    21                 101217                  719   \n",
       "1                    45                 266748                  619   \n",
       "2                    61                 380996                  507   \n",
       "3                    78                 489567                  717   \n",
       "4                   101                 581995                  756   \n",
       "\n",
       "   visitors_per_date_B  visitors_cummulative_A  visitors_cummulative_B  \n",
       "0                  713                     719                     713  \n",
       "1                  581                    1338                    1294  \n",
       "2                  509                    1845                    1803  \n",
       "3                  770                    2562                    2573  \n",
       "4                  707                    3318                    3280  "
      ]
     },
     "execution_count": 27,
     "metadata": {},
     "output_type": "execute_result"
    }
   ],
   "source": [
    "visitors_A_daily = visitors[visitors['group'] == 'A'][['date', 'visitors']]\n",
    "visitors_A_daily.columns = ['date', 'visitors_per_date_A']\n",
    "\n",
    "visitors_A_cummulative = visitors_A_daily.apply(\n",
    "    lambda x: visitors_A_daily[visitors_A_daily['date'] <= x['date']].agg(\n",
    "        {'date': 'max', 'visitors_per_date_A': 'sum'}\n",
    "    ),\n",
    "    axis=1,\n",
    ")\n",
    "visitors_A_cummulative.columns = ['date', 'visitors_cummulative_A']\n",
    "\n",
    "visitors_B_daily = visitors[visitors['group'] == 'B'][['date', 'visitors']]\n",
    "visitors_B_daily.columns = ['date', 'visitors_per_date_B']\n",
    "\n",
    "visitors_B_cummulative = visitors_B_daily.apply(\n",
    "    lambda x: visitors_B_daily[visitors_B_daily['date'] <= x['date']].agg(\n",
    "        {'date': 'max', 'visitors_per_date_B': 'sum'}\n",
    "    ),\n",
    "    axis=1,\n",
    ")\n",
    "visitors_B_cummulative.columns = ['date', 'visitors_cummulative_B']\n",
    "\n",
    "orders_A_daily = (\n",
    "    orders[orders['group'] == 'A'][['date', 'transaction_id', 'visitor_id', 'revenue']]\n",
    "    .groupby('date', as_index=False)\n",
    "    .agg({'transaction_id': pd.Series.nunique, 'revenue': 'sum'})\n",
    ")\n",
    "orders_A_daily.columns = ['date', 'orders_per_date_A', 'revenue_per_date_A']\n",
    "\n",
    "orders_A_cummulative = orders_A_daily.apply(\n",
    "    lambda x: orders_A_daily[orders_A_daily['date'] <= x['date']].agg(\n",
    "        {'date': 'max', 'orders_per_date_A': 'sum', 'revenue_per_date_A': 'sum'}\n",
    "    ),\n",
    "    axis=1,\n",
    ").sort_values(by=['date'])\n",
    "orders_A_cummulative.columns = [\n",
    "    'date',\n",
    "    'orders_cummulative_A',\n",
    "    'revenue_cummulative_A',\n",
    "]\n",
    "\n",
    "orders_B_daily = (\n",
    "    orders[orders['group'] == 'B'][['date', 'transaction_id', 'visitor_id', 'revenue']]\n",
    "    .groupby('date', as_index=False)\n",
    "    .agg({'transaction_id': pd.Series.nunique, 'revenue': 'sum'})\n",
    ")\n",
    "orders_B_daily.columns = ['date', 'orders_per_date_B', 'revenue_per_date_B']\n",
    "\n",
    "orders_B_cummulative = orders_B_daily.apply(\n",
    "    lambda x: orders_B_daily[orders_B_daily['date'] <= x['date']].agg(\n",
    "        {'date': 'max', 'orders_per_date_B': 'sum', 'revenue_per_date_B': 'sum'}\n",
    "    ),\n",
    "    axis=1,\n",
    ").sort_values(by=['date'])\n",
    "orders_B_cummulative.columns = [\n",
    "    'date',\n",
    "    'orders_cummulative_B',\n",
    "    'revenue_cummulative_B',\n",
    "]\n",
    "\n",
    "data = (\n",
    "    orders_A_daily.merge(\n",
    "        orders_B_daily, left_on='date', right_on='date', how='left'\n",
    "    )\n",
    "    .merge(orders_A_cummulative, left_on='date', right_on='date', how='left')\n",
    "    .merge(orders_B_cummulative, left_on='date', right_on='date', how='left')\n",
    "    .merge(visitors_A_daily, left_on='date', right_on='date', how='left')\n",
    "    .merge(visitors_B_daily, left_on='date', right_on='date', how='left')\n",
    "    .merge(visitors_A_cummulative, left_on='date', right_on='date', how='left')\n",
    "    .merge(visitors_B_cummulative, left_on='date', right_on='date', how='left')\n",
    ")\n",
    "\n",
    "data.head(5)"
   ]
  },
  {
   "cell_type": "markdown",
   "metadata": {},
   "source": [
    "#### Конверсия"
   ]
  },
  {
   "cell_type": "markdown",
   "metadata": {},
   "source": [
    "Сформулирую гипотезы:\n",
    "\n",
    "- **Нулевая**: различий в конверсии между группами нет.\n",
    "- **Альтернативная**: различия в конверсии между группами есть."
   ]
  },
  {
   "cell_type": "markdown",
   "metadata": {},
   "source": [
    "Посчитаю статистическую значимость различия в конверсии между группами. Создам переменные `orders_by_users_A` и `orders_by_users_B` со столбцами [`visitor_id`, `orders`]. В них для пользователей, которые заказывали хотя бы 1 раз, укажу число совершённых заказов."
   ]
  },
  {
   "cell_type": "code",
   "execution_count": 28,
   "metadata": {},
   "outputs": [],
   "source": [
    "orders_by_users_A = (\n",
    "    orders[orders['group'] == 'A']\n",
    "    .groupby('visitor_id', as_index=False)\n",
    "    .agg({'transaction_id': pd.Series.nunique})\n",
    ")\n",
    "orders_by_users_A.columns = ['visitor_id', 'orders']\n",
    "\n",
    "orders_by_users_B = (\n",
    "    orders[orders['group'] == 'B']\n",
    "    .groupby('visitor_id', as_index=False)\n",
    "    .agg({'transaction_id': pd.Series.nunique})\n",
    ")\n",
    "orders_by_users_B.columns = ['visitor_id', 'orders']"
   ]
  },
  {
   "cell_type": "markdown",
   "metadata": {},
   "source": [
    "Объявлю переменные `sample_A` и `sample_B`, в которых пользователям из разных групп будет соответствовать количество заказов. Тем, кто ничего не заказал, будут соответствовать нули. Это нужно, чтобы подготовить выборки к проверке критерием Манна-Уитни.\n",
    "\n",
    "Переменная `sample_A` должна состоять из двух частей:\n",
    "- Список с количеством заказов для каждого из пользователей: `orders_by_users_A['orders']`.\n",
    "- Нули для пользователей, которые ничего не заказывали. Их количество равно разнице между суммой посетителей и количеством записей о заказах: `data['visitors_per_date_A'].sum() - len(orders_by_users_A['orders'])`.\n",
    "\n",
    "Создам объект `pd.Series` нужной длины:"
   ]
  },
  {
   "cell_type": "code",
   "execution_count": 29,
   "metadata": {},
   "outputs": [],
   "source": [
    "pd.Series(0, index=np.arange(data['visitors_per_date_A'].sum() - len(orders_by_users_A['orders'])), name='orders')\n",
    "[orders_by_users_A['orders'],pd.Series(0, index=np.arange(data['visitors_per_date_A'].sum() - len(orders_by_users_A['orders'])), name='orders')]\n",
    "\n",
    "sample_A = pd.concat(\n",
    "    [\n",
    "        orders_by_users_A['orders'],\n",
    "        pd.Series(\n",
    "            0,\n",
    "            index=np.arange(\n",
    "                data['visitors_per_date_A'].sum() - len(orders_by_users_A['orders'])\n",
    "            ),\n",
    "            name='orders',\n",
    "        ),\n",
    "    ],\n",
    "    axis=0,\n",
    ")\n",
    "\n",
    "sample_B = pd.concat(\n",
    "    [\n",
    "        orders_by_users_B['orders'],\n",
    "        pd.Series(\n",
    "            0,\n",
    "            index=np.arange(\n",
    "                data['visitors_per_date_B'].sum() - len(orders_by_users_B['orders'])\n",
    "            ),\n",
    "            name='orders',\n",
    "        ),\n",
    "    ],\n",
    "    axis=0,\n",
    ")"
   ]
  },
  {
   "cell_type": "markdown",
   "metadata": {},
   "source": [
    "Чтобы получить конверсию в группе, поделю сумму заказов на число пользователей — найду среднее в выборке `sample_A` методом `mean()`. Аналогично найдём конверсию группы B: `Sample_B.mean()`.\n",
    "Выведу относительный прирост конверсии группы B: конверсия группы B / конверсия группы A - 1. Округлю до трёх знаков после запятой."
   ]
  },
  {
   "cell_type": "code",
   "execution_count": 30,
   "metadata": {},
   "outputs": [
    {
     "name": "stdout",
     "output_type": "stream",
     "text": [
      "0.017\n",
      "0.138\n"
     ]
    }
   ],
   "source": [
    "print(\"{0:.3f}\".format(stats.mannwhitneyu(sample_A, sample_B)[1]))\n",
    "\n",
    "print(\"{0:.3f}\".format(sample_B.mean() / sample_A.mean() - 1))"
   ]
  },
  {
   "cell_type": "markdown",
   "metadata": {},
   "source": [
    "Первое число — p-value = 0.017 меньше 0.05. Значит, нулевую гипотезу о том, что статистически значимых различий в конверсии между группами нет, можно отвергнуть в пользу альтернативной, т.е. различия в конверсии между группами есть и относительный выигрыш группы B равен 13.8%. Существует статистическая значимость различия конверсий между группами."
   ]
  },
  {
   "cell_type": "markdown",
   "metadata": {},
   "source": [
    "#### Средний чек"
   ]
  },
  {
   "cell_type": "markdown",
   "metadata": {},
   "source": [
    "Теперь проверю статистическую значимость различий в среднем чеке между сегментами.\n",
    "\n",
    "Сформулирую гипотезы:\n",
    "\n",
    "- **Нулевая гипотеза**: различий в среднем чеке между группами нет.\n",
    "- **Альтернативная гипотеза**: различия в среднем чеке между группами есть.\n",
    "\n",
    "Чтобы рассчитать статистическую значимость различий в среднем чеке, передам критерию mannwhitneyu() данные о выручке с заказов. А также найду относительные различия в среднем чеке между группами:"
   ]
  },
  {
   "cell_type": "code",
   "execution_count": 31,
   "metadata": {},
   "outputs": [
    {
     "name": "stdout",
     "output_type": "stream",
     "text": [
      "0.729\n",
      "0.259\n"
     ]
    }
   ],
   "source": [
    "print('{0:.3f}'.format(stats.mannwhitneyu(orders[orders['group']=='A']['revenue'], orders[orders['group']=='B']['revenue'])[1]))\n",
    "print('{0:.3f}'.format(orders[orders['group']=='B']['revenue'].mean()/orders[orders['group']=='A']['revenue'].mean()-1))"
   ]
  },
  {
   "cell_type": "markdown",
   "metadata": {},
   "source": [
    "P-value значительно больше 0.05 (равен 0.729). Значит, причин отвергать нулевую гипотезу в пользу альтернативной и считать, что в среднем чеке есть различия, нет. Однако, это странно, т.к. средний чек группы B значительно выше среднего чека группы A (примерно на 26%)."
   ]
  },
  {
   "cell_type": "markdown",
   "metadata": {},
   "source": [
    "### Очистка данных"
   ]
  },
  {
   "cell_type": "markdown",
   "metadata": {},
   "source": [
    "Найденные на предыдущих шагах 95-й и 99-й перцентили средних чеков равны 28000 и 58233.2 рублям. А 95-й и 99-й перцентили количества заказов на одного пользователя равны 2 и 4 заказа на пользователя.\n",
    "\n",
    "Приму за аномальных пользователей тех, кто совершил от 2 заказов или совершил заказ дороже 30000 рублей. Так я уберу 5% пользователей с наибольшим числом заказов и от 1% до 5% пользователей с дорогими заказами. Сделаю срезы пользователей с числом заказов больше 2 — `users_with_many_orders` и пользователей, совершивших заказы дороже 30000 — `users_with_expensive_orders`. Объединю их в таблице `abnormal_users`.\n",
    "Узнаю, сколько всего аномальных пользователей методом `shape()`:"
   ]
  },
  {
   "cell_type": "code",
   "execution_count": 32,
   "metadata": {},
   "outputs": [
    {
     "name": "stdout",
     "output_type": "stream",
     "text": [
      "1099    148427295\n",
      "18      199603092\n",
      "928     204675465\n",
      "23      237748145\n",
      "37      249864742\n",
      "Name: visitor_id, dtype: int64\n",
      "(68,)\n"
     ]
    }
   ],
   "source": [
    "users_with_many_orders = pd.concat(\n",
    "    [\n",
    "        orders_by_users_A[orders_by_users_A['orders'] > 2]['visitor_id'],\n",
    "        orders_by_users_B[orders_by_users_B['orders'] > 2]['visitor_id'],\n",
    "    ],\n",
    "    axis=0,\n",
    ")\n",
    "users_with_expensive_orders = orders[orders['revenue'] > 30000]['visitor_id']\n",
    "abnormal_users = (\n",
    "    pd.concat([users_with_many_orders, users_with_expensive_orders], axis=0)\n",
    "    .drop_duplicates()\n",
    "    .sort_values()\n",
    ")\n",
    "print(abnormal_users.head(5))\n",
    "print(abnormal_users.shape)"
   ]
  },
  {
   "cell_type": "markdown",
   "metadata": {},
   "source": [
    "Всего выявлено 68 аномальных пользователей. Необходимо подготовить выборки количества заказов по пользователям по группам теста:"
   ]
  },
  {
   "cell_type": "code",
   "execution_count": 33,
   "metadata": {},
   "outputs": [],
   "source": [
    "sample_A_filtered = pd.concat(\n",
    "    [\n",
    "        orders_by_users_A[\n",
    "            np.logical_not(orders_by_users_A['visitor_id'].isin(abnormal_users))\n",
    "        ]['orders'],\n",
    "        pd.Series(\n",
    "            0,\n",
    "            index=np.arange(\n",
    "                data['visitors_per_date_A'].sum() - len(orders_by_users_A['orders'])\n",
    "            ),\n",
    "            name='orders',\n",
    "        ),\n",
    "    ],\n",
    "    axis=0,\n",
    ")\n",
    "\n",
    "sample_B_filtered = pd.concat(\n",
    "    [\n",
    "        orders_by_users_B[\n",
    "            np.logical_not(orders_by_users_B['visitor_id'].isin(abnormal_users))\n",
    "        ]['orders'],\n",
    "        pd.Series(\n",
    "            0,\n",
    "            index=np.arange(\n",
    "                data['visitors_per_date_B'].sum() - len(orders_by_users_B['orders'])\n",
    "            ),\n",
    "            name='orders',\n",
    "        ),\n",
    "    ],\n",
    "    axis=0,\n",
    ")"
   ]
  },
  {
   "cell_type": "markdown",
   "metadata": {},
   "source": [
    "### Расчет статистической значимости различий по очищенным данным"
   ]
  },
  {
   "cell_type": "markdown",
   "metadata": {},
   "source": [
    "#### Конверсия"
   ]
  },
  {
   "cell_type": "markdown",
   "metadata": {},
   "source": [
    "Узнаю, как действия аномальных пользователей повлияли на результаты теста. Посчитаю статистическую значимость различий в конверсии между группами теста по очищенным данным. Применю статистический критерий Манна-Уитни к полученным выборкам:"
   ]
  },
  {
   "cell_type": "code",
   "execution_count": 34,
   "metadata": {},
   "outputs": [
    {
     "name": "stdout",
     "output_type": "stream",
     "text": [
      "0.013\n",
      "0.172\n"
     ]
    }
   ],
   "source": [
    "print('{0:.3f}'.format(stats.mannwhitneyu(sample_A_filtered, sample_B_filtered)[1]))\n",
    "print('{0:.3f}'.format(sample_B_filtered.mean()/sample_A_filtered.mean()-1))"
   ]
  },
  {
   "cell_type": "markdown",
   "metadata": {},
   "source": [
    "Конверсия по очищенным данным - 0.013, по \"сырым\" данным составляла 0.017 - практически не изменилась. Это значит, что нулевую гипотезу о том, что статистически значимых различий в конверсии между группами нет, однозначно можно отвергнуть в пользу альтернативной, т.е. различия в конверсии между группами есть и относительный выигрыш группы B еще более увеличился и равен 17.2%. "
   ]
  },
  {
   "cell_type": "markdown",
   "metadata": {},
   "source": [
    "#### Средний чек"
   ]
  },
  {
   "cell_type": "code",
   "execution_count": 35,
   "metadata": {},
   "outputs": [
    {
     "name": "stdout",
     "output_type": "stream",
     "text": [
      "0.720\n",
      "-0.023\n"
     ]
    }
   ],
   "source": [
    "print(\n",
    "    '{0:.3f}'.format(\n",
    "        stats.mannwhitneyu(\n",
    "            orders[\n",
    "                np.logical_and(\n",
    "                    orders['group'] == 'A',\n",
    "                    np.logical_not(orders['visitor_id'].isin(abnormal_users)),\n",
    "                )\n",
    "            ]['revenue'],\n",
    "            orders[\n",
    "                np.logical_and(\n",
    "                    orders['group'] == 'B',\n",
    "                    np.logical_not(orders['visitor_id'].isin(abnormal_users)),\n",
    "                )\n",
    "            ]['revenue'],\n",
    "        )[1]\n",
    "    )\n",
    ")\n",
    "\n",
    "print(\n",
    "    \"{0:.3f}\".format(\n",
    "        orders[\n",
    "            np.logical_and(\n",
    "                orders['group'] == 'B',\n",
    "                np.logical_not(orders['visitor_id'].isin(abnormal_users)),\n",
    "            )\n",
    "        ]['revenue'].mean()\n",
    "        / orders[\n",
    "            np.logical_and(\n",
    "                orders['group'] == 'A',\n",
    "                np.logical_not(orders['visitor_id'].isin(abnormal_users)),\n",
    "            )\n",
    "        ]['revenue'].mean()\n",
    "        - 1\n",
    "    )\n",
    ")"
   ]
  },
  {
   "cell_type": "markdown",
   "metadata": {},
   "source": [
    "Теперь все встало на свои места! P-value не изменился (был 0.729, а с вычищенными данными составил 0.72), что означает, что причин отвергать нулевую гипотезу в пользу альтернативной и считать, что в среднем чеке есть различия, нет. \"Сырые\" данные показали, что средний чек группы B на 25.9% **выше** среднего чека группы A, однако после удаления аномальных пользователей оказалось, что наоборот, чек группы B **ниже** среднего чека группы А на 2.3%, что является незначительным различием в пределах погрешности."
   ]
  },
  {
   "cell_type": "markdown",
   "metadata": {},
   "source": [
    "### Выводы по тесту"
   ]
  },
  {
   "cell_type": "markdown",
   "metadata": {},
   "source": [
    "- Существует статистически значимое различие по конверсии между группами как по «сырым», так и по данным после фильтрации аномалий;\n",
    "- Нет статистически значимого различия по среднему чеку между группами ни по «сырым», ни по данным после фильтрации аномалий;\n",
    "- График различия конверсии между группами сообщает, что результаты группы B лучше группы A и существует тенденция к улучшению.\n",
    "- Продолжать тест смысла нет: группа B статистически значимо лучше группы A, а график конверсии говорит о фиксации результата.\n",
    "- Можно тест остановить, зафиксировать победу группы В с перевесом по конверсии в 17%."
   ]
  },
  {
   "cell_type": "markdown",
   "metadata": {},
   "source": [
    "## Заключение"
   ]
  },
  {
   "cell_type": "markdown",
   "metadata": {},
   "source": [
    "Вместе с отделом маркетинга подготовлен список гипотез для увеличения выручки интернет-магазина.\n",
    "\n",
    "Целью данного исследования является приоритизация сформулированных гипотез, запуск A/B-теста и анализ полученных результатов.\n",
    "\n",
    "Мною получены файл гипотез, а также 2 файла с результатами проведенного А/В теста в формате `.csv`. Файлы загружены, отображены, предварительно проанализированы с использованием встроенных библиотек `pandas`.\n",
    "\n",
    "В результате предварительного анализа выявлено:\n",
    "\n",
    "- в таблицах присутствует нарушение стиля названий столбцов таблиц;\n",
    "- некоторые типы данных не соответствуют логике;\n",
    "- в таблицах отсутствуют дубликаты и пропущенные значения.\n",
    "\n",
    "На этапе предобработки данных:\n",
    "\n",
    "- исправлены нарушения стиля в названиях столбцов,\n",
    "- приведены типы данных в столбцах дат.\n",
    "- обнаружено, что количество пользователей в исследуемых группах различается, также найдено 58 пользователей, присутствующие в обеих группах. По-хорошему, результаты теста с таким пересечением могут быть некорректными, т.к. это довольно сильное пересечение (около 10%), однако исследование было проведено.\n",
    "\n",
    "Осуществлена приоретизация гипотез, в результате которой обозначены 5 гипотез, которые следует проверять первыми (в порядке приоритета):\n",
    "- №1 - Добавление формы подписки на все основные страницы, чтобы собрать базу клиентов для email-рассылок;\n",
    "- №2 - Добавление блоков рекомендаций товаров на сайт интернет магазина, чтобы повысить конверсию и средний чек заказа;\n",
    "- №3 - Добавление двух новых каналов привлечения трафика, что позволит привлекать на 30% больше пользователей;\n",
    "- №4 - Показ на главной странице баннеры с актуальными акциями и распродажами, чтобы увеличить конверсию;\n",
    "- №5 - Запуск акции, дающую скидку на товар в день рождения.\n",
    "\n",
    "Полученные данные А/В теста проанализированы, построены следющие графики:\n",
    "- кумулятивной выручки по группам;\n",
    "- кумулятивного среднего чека по группам;\n",
    "- относительного изменения кумулятивного среднего чека группы B к группе A;\n",
    "- кумулятивной конверсии по группам;\n",
    "- относительного изменения кумулятивной конверсии группы B к группе A;\n",
    "- количества заказов по пользователям. \n",
    "\n",
    "На основании построенных графиков сделаны следующие выводы:\n",
    "\n",
    "- выручка почти равномерно увеличивается в течение всего теста\n",
    "- выборка содержит выбросы (в группе В был резкий всплеск числа заказов или совершены аномально дорогостоящие заказы), искажающие результат;\n",
    "- по предварительным данным конверсия в группе В выше, чем в группе А;\n",
    "\n",
    "Рассчитаны и визуализированы на точечных графиках:\n",
    "- 95-й и 99-й перцентили количества заказов на пользователя;\n",
    "- 95-й и 99-й перцентили стоимости заказов;\n",
    "\n",
    "На основании полученных данных за аномальных пользователей приняты те, кто совершил от 2 заказов или совершил заказ дороже 30000 рублей. Таким образом были исключены 5% пользователей с наибольшим числом заказов и от 1% до 5% пользователей с очень дорогими заказами. \n",
    "\n",
    "Посчитана статистическую значимость различий между группами по «сырым» и очищенным от аномалий данным. Сделаны следующие выводы:\n",
    "- результаты группы B лучше группы A и существует тенденция к улучшению;\n",
    "- продолжать тест смысла нет: группа B статистически значимо лучше группы A;\n",
    "- тест целесообразно остановить, зафиксировать победу группы В с перевесом по конверсии в 17%."
   ]
  }
 ],
 "metadata": {
  "ExecuteTimeLog": [
   {
    "duration": 1643,
    "start_time": "2022-03-27T03:19:08.585Z"
   },
   {
    "duration": 216,
    "start_time": "2022-03-27T03:28:04.804Z"
   },
   {
    "duration": 104,
    "start_time": "2022-03-27T03:28:15.096Z"
   },
   {
    "duration": 98,
    "start_time": "2022-03-27T03:41:46.705Z"
   },
   {
    "duration": 120,
    "start_time": "2022-03-27T03:42:45.303Z"
   },
   {
    "duration": 8,
    "start_time": "2022-03-27T03:47:03.620Z"
   },
   {
    "duration": 105,
    "start_time": "2022-03-27T03:50:28.539Z"
   },
   {
    "duration": 20,
    "start_time": "2022-03-27T03:51:27.559Z"
   },
   {
    "duration": 12,
    "start_time": "2022-03-27T03:51:39.273Z"
   },
   {
    "duration": 12,
    "start_time": "2022-03-27T03:51:48.582Z"
   },
   {
    "duration": 16,
    "start_time": "2022-03-27T03:53:39.490Z"
   },
   {
    "duration": 13,
    "start_time": "2022-03-27T04:04:25.967Z"
   },
   {
    "duration": 17,
    "start_time": "2022-03-27T04:10:23.125Z"
   },
   {
    "duration": 14,
    "start_time": "2022-03-27T04:10:29.180Z"
   },
   {
    "duration": 13,
    "start_time": "2022-03-27T04:14:42.981Z"
   },
   {
    "duration": 14,
    "start_time": "2022-03-27T04:15:43.661Z"
   },
   {
    "duration": 13,
    "start_time": "2022-03-27T04:21:09.386Z"
   },
   {
    "duration": 4,
    "start_time": "2022-03-27T07:49:00.775Z"
   },
   {
    "duration": 640,
    "start_time": "2022-03-27T07:49:11.192Z"
   },
   {
    "duration": 134,
    "start_time": "2022-03-27T07:49:11.836Z"
   },
   {
    "duration": 8,
    "start_time": "2022-03-27T07:49:11.972Z"
   },
   {
    "duration": 19,
    "start_time": "2022-03-27T07:49:11.984Z"
   },
   {
    "duration": 13,
    "start_time": "2022-03-27T07:49:12.005Z"
   },
   {
    "duration": 64,
    "start_time": "2022-03-27T07:49:12.020Z"
   },
   {
    "duration": 13,
    "start_time": "2022-03-27T07:49:12.087Z"
   },
   {
    "duration": 16,
    "start_time": "2022-03-27T07:49:12.102Z"
   },
   {
    "duration": 51,
    "start_time": "2022-03-27T07:49:12.120Z"
   },
   {
    "duration": 541,
    "start_time": "2022-03-27T08:04:08.538Z"
   },
   {
    "duration": 544,
    "start_time": "2022-03-27T08:04:24.422Z"
   },
   {
    "duration": 140,
    "start_time": "2022-03-27T08:04:24.969Z"
   },
   {
    "duration": 9,
    "start_time": "2022-03-27T08:04:25.112Z"
   },
   {
    "duration": 673,
    "start_time": "2022-03-27T08:04:25.126Z"
   },
   {
    "duration": 0,
    "start_time": "2022-03-27T08:04:25.802Z"
   },
   {
    "duration": 0,
    "start_time": "2022-03-27T08:04:25.805Z"
   },
   {
    "duration": 1,
    "start_time": "2022-03-27T08:04:25.806Z"
   },
   {
    "duration": 0,
    "start_time": "2022-03-27T08:04:25.809Z"
   },
   {
    "duration": 0,
    "start_time": "2022-03-27T08:04:25.811Z"
   },
   {
    "duration": 485,
    "start_time": "2022-03-27T08:09:05.166Z"
   },
   {
    "duration": 6,
    "start_time": "2022-03-27T08:11:32.872Z"
   },
   {
    "duration": 458,
    "start_time": "2022-03-27T08:13:21.385Z"
   },
   {
    "duration": 447,
    "start_time": "2022-03-27T08:13:43.606Z"
   },
   {
    "duration": 121,
    "start_time": "2022-03-27T08:13:44.055Z"
   },
   {
    "duration": 8,
    "start_time": "2022-03-27T08:13:44.179Z"
   },
   {
    "duration": 7,
    "start_time": "2022-03-27T08:13:44.190Z"
   },
   {
    "duration": 14,
    "start_time": "2022-03-27T08:13:44.199Z"
   },
   {
    "duration": 64,
    "start_time": "2022-03-27T08:13:44.216Z"
   },
   {
    "duration": 16,
    "start_time": "2022-03-27T08:13:44.282Z"
   },
   {
    "duration": 19,
    "start_time": "2022-03-27T08:13:44.300Z"
   },
   {
    "duration": 49,
    "start_time": "2022-03-27T08:13:44.321Z"
   },
   {
    "duration": 18,
    "start_time": "2022-03-27T08:14:04.183Z"
   },
   {
    "duration": 459,
    "start_time": "2022-03-27T08:14:22.307Z"
   },
   {
    "duration": 772,
    "start_time": "2022-03-27T08:14:22.769Z"
   },
   {
    "duration": 8,
    "start_time": "2022-03-27T08:14:23.543Z"
   },
   {
    "duration": 25,
    "start_time": "2022-03-27T08:14:23.555Z"
   },
   {
    "duration": 15,
    "start_time": "2022-03-27T08:14:23.582Z"
   },
   {
    "duration": 16,
    "start_time": "2022-03-27T08:14:23.599Z"
   },
   {
    "duration": 12,
    "start_time": "2022-03-27T08:14:23.617Z"
   },
   {
    "duration": 22,
    "start_time": "2022-03-27T08:14:23.631Z"
   },
   {
    "duration": 25,
    "start_time": "2022-03-27T08:14:23.655Z"
   },
   {
    "duration": 504,
    "start_time": "2022-03-27T08:16:37.855Z"
   },
   {
    "duration": 116,
    "start_time": "2022-03-27T08:16:38.362Z"
   },
   {
    "duration": 10,
    "start_time": "2022-03-27T08:16:38.481Z"
   },
   {
    "duration": 45,
    "start_time": "2022-03-27T08:16:38.495Z"
   },
   {
    "duration": 33,
    "start_time": "2022-03-27T08:16:38.542Z"
   },
   {
    "duration": 20,
    "start_time": "2022-03-27T08:16:38.578Z"
   },
   {
    "duration": 11,
    "start_time": "2022-03-27T08:16:38.600Z"
   },
   {
    "duration": 17,
    "start_time": "2022-03-27T08:16:38.613Z"
   },
   {
    "duration": 15,
    "start_time": "2022-03-27T08:16:38.669Z"
   },
   {
    "duration": 14,
    "start_time": "2022-03-27T08:46:20.646Z"
   },
   {
    "duration": 104,
    "start_time": "2022-03-27T08:46:47.313Z"
   },
   {
    "duration": 15,
    "start_time": "2022-03-27T08:52:34.079Z"
   },
   {
    "duration": 8,
    "start_time": "2022-03-27T08:52:43.871Z"
   },
   {
    "duration": 34,
    "start_time": "2022-03-27T08:52:49.801Z"
   },
   {
    "duration": 308,
    "start_time": "2022-03-27T08:53:45.433Z"
   },
   {
    "duration": 342,
    "start_time": "2022-03-27T08:53:58.990Z"
   },
   {
    "duration": 300,
    "start_time": "2022-03-27T08:54:20.598Z"
   },
   {
    "duration": 217,
    "start_time": "2022-03-27T08:55:28.465Z"
   },
   {
    "duration": 223,
    "start_time": "2022-03-27T08:55:37.559Z"
   },
   {
    "duration": 200,
    "start_time": "2022-03-27T08:55:42.797Z"
   },
   {
    "duration": 15,
    "start_time": "2022-03-27T08:58:19.609Z"
   },
   {
    "duration": 2374,
    "start_time": "2022-03-27T09:01:20.052Z"
   },
   {
    "duration": 25,
    "start_time": "2022-03-27T09:04:14.234Z"
   },
   {
    "duration": 9,
    "start_time": "2022-03-27T09:04:24.157Z"
   },
   {
    "duration": 402,
    "start_time": "2022-03-27T09:05:37.153Z"
   },
   {
    "duration": 274,
    "start_time": "2022-03-27T09:06:48.434Z"
   },
   {
    "duration": 270,
    "start_time": "2022-03-27T09:10:26.111Z"
   },
   {
    "duration": 349,
    "start_time": "2022-03-27T09:10:39.640Z"
   },
   {
    "duration": 421,
    "start_time": "2022-03-27T09:10:45.100Z"
   },
   {
    "duration": 418,
    "start_time": "2022-03-27T09:17:22.124Z"
   },
   {
    "duration": 369,
    "start_time": "2022-03-27T09:17:45.130Z"
   },
   {
    "duration": 2244,
    "start_time": "2022-03-27T09:52:01.475Z"
   },
   {
    "duration": 17,
    "start_time": "2022-03-27T09:55:20.379Z"
   },
   {
    "duration": 1812,
    "start_time": "2022-03-27T09:55:28.324Z"
   },
   {
    "duration": 1982,
    "start_time": "2022-03-27T09:57:49.673Z"
   },
   {
    "duration": 491,
    "start_time": "2022-03-27T09:58:02.609Z"
   },
   {
    "duration": 481,
    "start_time": "2022-03-27T09:59:12.452Z"
   },
   {
    "duration": 405,
    "start_time": "2022-03-27T09:59:22.288Z"
   },
   {
    "duration": 367,
    "start_time": "2022-03-27T10:07:56.500Z"
   },
   {
    "duration": 97,
    "start_time": "2022-03-27T10:43:41.213Z"
   },
   {
    "duration": 879,
    "start_time": "2022-03-27T10:43:48.555Z"
   },
   {
    "duration": 179,
    "start_time": "2022-03-27T10:43:49.436Z"
   },
   {
    "duration": 5,
    "start_time": "2022-03-27T10:43:49.617Z"
   },
   {
    "duration": 28,
    "start_time": "2022-03-27T10:43:49.624Z"
   },
   {
    "duration": 14,
    "start_time": "2022-03-27T10:43:49.654Z"
   },
   {
    "duration": 9,
    "start_time": "2022-03-27T10:43:49.670Z"
   },
   {
    "duration": 81,
    "start_time": "2022-03-27T10:43:49.681Z"
   },
   {
    "duration": 0,
    "start_time": "2022-03-27T10:43:49.763Z"
   },
   {
    "duration": 0,
    "start_time": "2022-03-27T10:43:49.764Z"
   },
   {
    "duration": 0,
    "start_time": "2022-03-27T10:43:49.765Z"
   },
   {
    "duration": 0,
    "start_time": "2022-03-27T10:43:49.766Z"
   },
   {
    "duration": 0,
    "start_time": "2022-03-27T10:43:49.768Z"
   },
   {
    "duration": 0,
    "start_time": "2022-03-27T10:43:49.769Z"
   },
   {
    "duration": 0,
    "start_time": "2022-03-27T10:43:49.769Z"
   },
   {
    "duration": 0,
    "start_time": "2022-03-27T10:43:49.770Z"
   },
   {
    "duration": 0,
    "start_time": "2022-03-27T10:43:49.771Z"
   },
   {
    "duration": 0,
    "start_time": "2022-03-27T10:43:49.772Z"
   },
   {
    "duration": 0,
    "start_time": "2022-03-27T10:43:49.774Z"
   },
   {
    "duration": 77,
    "start_time": "2022-03-27T10:44:24.221Z"
   },
   {
    "duration": 84,
    "start_time": "2022-03-27T10:44:52.206Z"
   },
   {
    "duration": 111,
    "start_time": "2022-03-27T11:08:48.134Z"
   },
   {
    "duration": 62,
    "start_time": "2022-03-27T11:10:06.173Z"
   },
   {
    "duration": 70,
    "start_time": "2022-03-27T11:14:08.685Z"
   },
   {
    "duration": 25,
    "start_time": "2022-03-27T11:18:55.225Z"
   },
   {
    "duration": 7,
    "start_time": "2022-03-27T11:19:12.591Z"
   },
   {
    "duration": 9,
    "start_time": "2022-03-27T11:19:28.493Z"
   },
   {
    "duration": 663,
    "start_time": "2022-03-27T11:48:52.036Z"
   },
   {
    "duration": 88,
    "start_time": "2022-03-27T11:48:52.701Z"
   },
   {
    "duration": 5,
    "start_time": "2022-03-27T11:48:52.791Z"
   },
   {
    "duration": 17,
    "start_time": "2022-03-27T11:48:52.798Z"
   },
   {
    "duration": 14,
    "start_time": "2022-03-27T11:48:52.817Z"
   },
   {
    "duration": 15,
    "start_time": "2022-03-27T11:48:52.842Z"
   },
   {
    "duration": 83,
    "start_time": "2022-03-27T11:48:52.859Z"
   },
   {
    "duration": 13,
    "start_time": "2022-03-27T11:48:52.945Z"
   },
   {
    "duration": 14,
    "start_time": "2022-03-27T11:48:52.960Z"
   },
   {
    "duration": 11,
    "start_time": "2022-03-27T11:48:52.976Z"
   },
   {
    "duration": 18,
    "start_time": "2022-03-27T11:48:52.988Z"
   },
   {
    "duration": 192,
    "start_time": "2022-03-27T11:48:53.007Z"
   },
   {
    "duration": 121,
    "start_time": "2022-03-27T11:48:53.200Z"
   },
   {
    "duration": 18,
    "start_time": "2022-03-27T11:48:53.323Z"
   },
   {
    "duration": 18,
    "start_time": "2022-03-27T11:48:53.343Z"
   },
   {
    "duration": 265,
    "start_time": "2022-03-27T11:48:53.363Z"
   },
   {
    "duration": 191,
    "start_time": "2022-03-27T11:48:53.629Z"
   },
   {
    "duration": 312,
    "start_time": "2022-03-27T11:48:53.822Z"
   },
   {
    "duration": 1614,
    "start_time": "2022-03-27T12:00:21.168Z"
   },
   {
    "duration": 5,
    "start_time": "2022-03-27T12:00:34.097Z"
   },
   {
    "duration": 7,
    "start_time": "2022-03-27T12:01:01.935Z"
   },
   {
    "duration": 6,
    "start_time": "2022-03-27T12:02:00.746Z"
   },
   {
    "duration": 245,
    "start_time": "2022-03-27T12:04:08.179Z"
   },
   {
    "duration": 172,
    "start_time": "2022-03-27T12:04:37.116Z"
   },
   {
    "duration": 180,
    "start_time": "2022-03-27T12:04:42.369Z"
   },
   {
    "duration": 181,
    "start_time": "2022-03-27T12:05:00.427Z"
   },
   {
    "duration": 185,
    "start_time": "2022-03-27T12:06:18.475Z"
   },
   {
    "duration": 170,
    "start_time": "2022-03-27T12:23:19.082Z"
   },
   {
    "duration": 67,
    "start_time": "2022-03-27T12:28:36.541Z"
   },
   {
    "duration": 1093,
    "start_time": "2022-03-27T12:28:41.543Z"
   },
   {
    "duration": 107,
    "start_time": "2022-03-27T12:28:42.640Z"
   },
   {
    "duration": 8,
    "start_time": "2022-03-27T12:28:42.749Z"
   },
   {
    "duration": 44,
    "start_time": "2022-03-27T12:28:42.759Z"
   },
   {
    "duration": 13,
    "start_time": "2022-03-27T12:28:42.806Z"
   },
   {
    "duration": 14,
    "start_time": "2022-03-27T12:28:42.821Z"
   },
   {
    "duration": 166,
    "start_time": "2022-03-27T12:28:42.837Z"
   },
   {
    "duration": 11,
    "start_time": "2022-03-27T12:28:43.005Z"
   },
   {
    "duration": 14,
    "start_time": "2022-03-27T12:28:43.019Z"
   },
   {
    "duration": 16,
    "start_time": "2022-03-27T12:28:43.035Z"
   },
   {
    "duration": 36,
    "start_time": "2022-03-27T12:28:43.053Z"
   },
   {
    "duration": 272,
    "start_time": "2022-03-27T12:28:43.091Z"
   },
   {
    "duration": 222,
    "start_time": "2022-03-27T12:28:43.366Z"
   },
   {
    "duration": 18,
    "start_time": "2022-03-27T12:28:43.591Z"
   },
   {
    "duration": 17,
    "start_time": "2022-03-27T12:28:43.611Z"
   },
   {
    "duration": 414,
    "start_time": "2022-03-27T12:28:43.630Z"
   },
   {
    "duration": 276,
    "start_time": "2022-03-27T12:28:44.046Z"
   },
   {
    "duration": 496,
    "start_time": "2022-03-27T12:28:44.324Z"
   },
   {
    "duration": 8,
    "start_time": "2022-03-27T12:28:44.822Z"
   },
   {
    "duration": 332,
    "start_time": "2022-03-27T12:28:44.832Z"
   },
   {
    "duration": 347,
    "start_time": "2022-03-27T12:43:12.616Z"
   },
   {
    "duration": 328,
    "start_time": "2022-03-27T12:43:57.968Z"
   },
   {
    "duration": 363,
    "start_time": "2022-03-27T12:44:50.001Z"
   },
   {
    "duration": 335,
    "start_time": "2022-03-27T12:45:03.105Z"
   },
   {
    "duration": 364,
    "start_time": "2022-03-27T12:46:04.260Z"
   },
   {
    "duration": 388,
    "start_time": "2022-03-27T12:46:14.878Z"
   },
   {
    "duration": 351,
    "start_time": "2022-03-27T12:46:26.270Z"
   },
   {
    "duration": 335,
    "start_time": "2022-03-27T13:12:49.015Z"
   },
   {
    "duration": 352,
    "start_time": "2022-03-27T13:13:10.885Z"
   },
   {
    "duration": 186,
    "start_time": "2022-03-27T13:16:18.910Z"
   },
   {
    "duration": 255,
    "start_time": "2022-03-27T13:16:26.912Z"
   },
   {
    "duration": 11,
    "start_time": "2022-03-27T13:21:42.836Z"
   },
   {
    "duration": 462,
    "start_time": "2022-03-27T13:21:51.699Z"
   },
   {
    "duration": 416,
    "start_time": "2022-03-27T13:22:05.147Z"
   },
   {
    "duration": 436,
    "start_time": "2022-03-27T13:45:54.184Z"
   },
   {
    "duration": 448,
    "start_time": "2022-03-27T13:46:59.958Z"
   },
   {
    "duration": 468,
    "start_time": "2022-03-27T13:47:14.852Z"
   },
   {
    "duration": 453,
    "start_time": "2022-03-27T13:48:39.519Z"
   },
   {
    "duration": 7,
    "start_time": "2022-03-27T13:53:36.335Z"
   },
   {
    "duration": 203,
    "start_time": "2022-03-27T14:02:44.101Z"
   },
   {
    "duration": 192,
    "start_time": "2022-03-27T14:03:47.313Z"
   },
   {
    "duration": 12,
    "start_time": "2022-03-27T14:06:52.244Z"
   },
   {
    "duration": 843,
    "start_time": "2022-03-27T14:09:57.930Z"
   },
   {
    "duration": 104,
    "start_time": "2022-03-27T14:09:58.775Z"
   },
   {
    "duration": 9,
    "start_time": "2022-03-27T14:09:58.881Z"
   },
   {
    "duration": 29,
    "start_time": "2022-03-27T14:09:58.893Z"
   },
   {
    "duration": 15,
    "start_time": "2022-03-27T14:09:58.924Z"
   },
   {
    "duration": 51,
    "start_time": "2022-03-27T14:09:58.941Z"
   },
   {
    "duration": 158,
    "start_time": "2022-03-27T14:09:58.994Z"
   },
   {
    "duration": 12,
    "start_time": "2022-03-27T14:09:59.154Z"
   },
   {
    "duration": 17,
    "start_time": "2022-03-27T14:09:59.183Z"
   },
   {
    "duration": 27,
    "start_time": "2022-03-27T14:09:59.204Z"
   },
   {
    "duration": 14,
    "start_time": "2022-03-27T14:09:59.233Z"
   },
   {
    "duration": 285,
    "start_time": "2022-03-27T14:09:59.249Z"
   },
   {
    "duration": 261,
    "start_time": "2022-03-27T14:09:59.537Z"
   },
   {
    "duration": 15,
    "start_time": "2022-03-27T14:09:59.800Z"
   },
   {
    "duration": 19,
    "start_time": "2022-03-27T14:09:59.818Z"
   },
   {
    "duration": 776,
    "start_time": "2022-03-27T14:09:59.840Z"
   },
   {
    "duration": 568,
    "start_time": "2022-03-27T14:10:00.618Z"
   },
   {
    "duration": 535,
    "start_time": "2022-03-27T14:10:01.188Z"
   },
   {
    "duration": 61,
    "start_time": "2022-03-27T14:10:01.725Z"
   },
   {
    "duration": 629,
    "start_time": "2022-03-27T14:10:01.788Z"
   },
   {
    "duration": 786,
    "start_time": "2022-03-27T14:10:02.419Z"
   },
   {
    "duration": 407,
    "start_time": "2022-03-27T14:10:03.208Z"
   },
   {
    "duration": 6,
    "start_time": "2022-03-27T14:10:03.617Z"
   },
   {
    "duration": 14,
    "start_time": "2022-03-27T14:10:03.625Z"
   },
   {
    "duration": 230,
    "start_time": "2022-03-27T14:10:03.642Z"
   },
   {
    "duration": 127,
    "start_time": "2022-03-27T14:11:09.399Z"
   },
   {
    "duration": 8,
    "start_time": "2022-03-27T14:11:25.052Z"
   },
   {
    "duration": 268,
    "start_time": "2022-03-27T14:15:13.609Z"
   },
   {
    "duration": 895,
    "start_time": "2022-03-27T14:40:15.198Z"
   },
   {
    "duration": 94,
    "start_time": "2022-03-27T14:40:16.096Z"
   },
   {
    "duration": 6,
    "start_time": "2022-03-27T14:40:16.193Z"
   },
   {
    "duration": 20,
    "start_time": "2022-03-27T14:40:16.203Z"
   },
   {
    "duration": 16,
    "start_time": "2022-03-27T14:40:16.225Z"
   },
   {
    "duration": 12,
    "start_time": "2022-03-27T14:40:16.243Z"
   },
   {
    "duration": 105,
    "start_time": "2022-03-27T14:40:16.257Z"
   },
   {
    "duration": 9,
    "start_time": "2022-03-27T14:40:16.365Z"
   },
   {
    "duration": 31,
    "start_time": "2022-03-27T14:40:16.376Z"
   },
   {
    "duration": 12,
    "start_time": "2022-03-27T14:40:16.410Z"
   },
   {
    "duration": 6,
    "start_time": "2022-03-27T14:40:16.424Z"
   },
   {
    "duration": 189,
    "start_time": "2022-03-27T14:40:16.432Z"
   },
   {
    "duration": 133,
    "start_time": "2022-03-27T14:40:16.622Z"
   },
   {
    "duration": 11,
    "start_time": "2022-03-27T14:40:16.757Z"
   },
   {
    "duration": 7,
    "start_time": "2022-03-27T14:40:16.770Z"
   },
   {
    "duration": 279,
    "start_time": "2022-03-27T14:40:16.779Z"
   },
   {
    "duration": 187,
    "start_time": "2022-03-27T14:40:17.060Z"
   },
   {
    "duration": 384,
    "start_time": "2022-03-27T14:40:17.249Z"
   },
   {
    "duration": 5,
    "start_time": "2022-03-27T14:40:17.635Z"
   },
   {
    "duration": 253,
    "start_time": "2022-03-27T14:40:17.641Z"
   },
   {
    "duration": 313,
    "start_time": "2022-03-27T14:40:17.897Z"
   },
   {
    "duration": 274,
    "start_time": "2022-03-27T14:40:18.212Z"
   },
   {
    "duration": 13,
    "start_time": "2022-03-27T14:40:18.488Z"
   },
   {
    "duration": 145,
    "start_time": "2022-03-27T14:40:18.504Z"
   },
   {
    "duration": 137,
    "start_time": "2022-03-27T14:40:55.064Z"
   },
   {
    "duration": 134,
    "start_time": "2022-03-27T14:41:15.619Z"
   },
   {
    "duration": 145,
    "start_time": "2022-03-27T14:45:45.400Z"
   },
   {
    "duration": 4,
    "start_time": "2022-03-27T14:49:07.454Z"
   },
   {
    "duration": 635,
    "start_time": "2022-03-27T15:15:57.317Z"
   },
   {
    "duration": 225,
    "start_time": "2022-03-27T15:26:45.837Z"
   },
   {
    "duration": 252,
    "start_time": "2022-03-27T15:42:43.293Z"
   },
   {
    "duration": 270,
    "start_time": "2022-03-27T15:50:53.855Z"
   },
   {
    "duration": 8,
    "start_time": "2022-03-27T15:54:34.274Z"
   },
   {
    "duration": 10,
    "start_time": "2022-03-27T15:55:24.092Z"
   },
   {
    "duration": 9,
    "start_time": "2022-03-27T15:56:50.875Z"
   },
   {
    "duration": 104,
    "start_time": "2022-03-27T16:03:29.582Z"
   },
   {
    "duration": 14,
    "start_time": "2022-03-27T16:03:35.422Z"
   },
   {
    "duration": 11,
    "start_time": "2022-03-27T16:04:31.032Z"
   },
   {
    "duration": 13,
    "start_time": "2022-03-27T16:04:33.885Z"
   },
   {
    "duration": 9,
    "start_time": "2022-03-27T16:04:49.252Z"
   },
   {
    "duration": 34,
    "start_time": "2022-03-27T16:04:51.746Z"
   },
   {
    "duration": 71,
    "start_time": "2022-03-27T16:31:57.166Z"
   },
   {
    "duration": 1767,
    "start_time": "2022-03-27T16:32:13.452Z"
   },
   {
    "duration": 138,
    "start_time": "2022-03-27T16:32:15.222Z"
   },
   {
    "duration": 10,
    "start_time": "2022-03-27T16:32:15.363Z"
   },
   {
    "duration": 38,
    "start_time": "2022-03-27T16:32:15.376Z"
   },
   {
    "duration": 29,
    "start_time": "2022-03-27T16:32:15.417Z"
   },
   {
    "duration": 29,
    "start_time": "2022-03-27T16:32:15.448Z"
   },
   {
    "duration": 148,
    "start_time": "2022-03-27T16:32:15.480Z"
   },
   {
    "duration": 12,
    "start_time": "2022-03-27T16:32:15.630Z"
   },
   {
    "duration": 33,
    "start_time": "2022-03-27T16:32:15.645Z"
   },
   {
    "duration": 16,
    "start_time": "2022-03-27T16:32:15.682Z"
   },
   {
    "duration": 8,
    "start_time": "2022-03-27T16:32:15.700Z"
   },
   {
    "duration": 288,
    "start_time": "2022-03-27T16:32:15.710Z"
   },
   {
    "duration": 218,
    "start_time": "2022-03-27T16:32:16.000Z"
   },
   {
    "duration": 18,
    "start_time": "2022-03-27T16:32:16.221Z"
   },
   {
    "duration": 34,
    "start_time": "2022-03-27T16:32:16.241Z"
   },
   {
    "duration": 622,
    "start_time": "2022-03-27T16:32:16.278Z"
   },
   {
    "duration": 417,
    "start_time": "2022-03-27T16:32:16.902Z"
   },
   {
    "duration": 549,
    "start_time": "2022-03-27T16:32:17.322Z"
   },
   {
    "duration": 8,
    "start_time": "2022-03-27T16:32:17.874Z"
   },
   {
    "duration": 404,
    "start_time": "2022-03-27T16:32:17.884Z"
   },
   {
    "duration": 519,
    "start_time": "2022-03-27T16:32:18.291Z"
   },
   {
    "duration": 616,
    "start_time": "2022-03-27T16:32:18.813Z"
   },
   {
    "duration": 7,
    "start_time": "2022-03-27T16:32:19.432Z"
   },
   {
    "duration": 235,
    "start_time": "2022-03-27T16:32:19.441Z"
   },
   {
    "duration": 227,
    "start_time": "2022-03-27T16:32:19.679Z"
   },
   {
    "duration": 5,
    "start_time": "2022-03-27T16:32:19.909Z"
   },
   {
    "duration": 469,
    "start_time": "2022-03-27T16:32:19.916Z"
   },
   {
    "duration": 265,
    "start_time": "2022-03-27T16:32:20.391Z"
   },
   {
    "duration": 13,
    "start_time": "2022-03-27T16:32:20.667Z"
   },
   {
    "duration": 29,
    "start_time": "2022-03-27T16:32:20.682Z"
   },
   {
    "duration": 13,
    "start_time": "2022-03-27T16:32:20.713Z"
   },
   {
    "duration": 14,
    "start_time": "2022-03-27T16:43:42.660Z"
   },
   {
    "duration": 2045,
    "start_time": "2022-03-27T16:49:46.101Z"
   },
   {
    "duration": 13,
    "start_time": "2022-03-27T16:50:16.713Z"
   },
   {
    "duration": 31,
    "start_time": "2022-03-27T16:52:46.864Z"
   },
   {
    "duration": 24,
    "start_time": "2022-03-27T16:59:00.285Z"
   },
   {
    "duration": 1382,
    "start_time": "2022-03-27T17:50:27.916Z"
   },
   {
    "duration": 107,
    "start_time": "2022-03-27T17:50:29.301Z"
   },
   {
    "duration": 8,
    "start_time": "2022-03-27T17:50:29.411Z"
   },
   {
    "duration": 60,
    "start_time": "2022-03-27T17:50:29.423Z"
   },
   {
    "duration": 15,
    "start_time": "2022-03-27T17:50:29.486Z"
   },
   {
    "duration": 16,
    "start_time": "2022-03-27T17:50:29.503Z"
   },
   {
    "duration": 168,
    "start_time": "2022-03-27T17:50:29.521Z"
   },
   {
    "duration": 11,
    "start_time": "2022-03-27T17:50:29.691Z"
   },
   {
    "duration": 16,
    "start_time": "2022-03-27T17:50:29.704Z"
   },
   {
    "duration": 45,
    "start_time": "2022-03-27T17:50:29.724Z"
   },
   {
    "duration": 8,
    "start_time": "2022-03-27T17:50:29.771Z"
   },
   {
    "duration": 274,
    "start_time": "2022-03-27T17:50:29.781Z"
   },
   {
    "duration": 229,
    "start_time": "2022-03-27T17:50:30.057Z"
   },
   {
    "duration": 13,
    "start_time": "2022-03-27T17:50:30.288Z"
   },
   {
    "duration": 28,
    "start_time": "2022-03-27T17:50:30.303Z"
   },
   {
    "duration": 418,
    "start_time": "2022-03-27T17:50:30.334Z"
   },
   {
    "duration": 279,
    "start_time": "2022-03-27T17:50:30.754Z"
   },
   {
    "duration": 393,
    "start_time": "2022-03-27T17:50:31.035Z"
   },
   {
    "duration": 7,
    "start_time": "2022-03-27T17:50:31.430Z"
   },
   {
    "duration": 268,
    "start_time": "2022-03-27T17:50:31.439Z"
   },
   {
    "duration": 407,
    "start_time": "2022-03-27T17:50:31.709Z"
   },
   {
    "duration": 506,
    "start_time": "2022-03-27T17:50:32.118Z"
   },
   {
    "duration": 5,
    "start_time": "2022-03-27T17:50:32.626Z"
   },
   {
    "duration": 214,
    "start_time": "2022-03-27T17:50:32.633Z"
   },
   {
    "duration": 220,
    "start_time": "2022-03-27T17:50:32.850Z"
   },
   {
    "duration": 6,
    "start_time": "2022-03-27T17:50:33.072Z"
   },
   {
    "duration": 465,
    "start_time": "2022-03-27T17:50:33.080Z"
   },
   {
    "duration": 255,
    "start_time": "2022-03-27T17:50:33.549Z"
   },
   {
    "duration": 11,
    "start_time": "2022-03-27T17:50:33.806Z"
   },
   {
    "duration": 51,
    "start_time": "2022-03-27T17:50:33.819Z"
   },
   {
    "duration": 15,
    "start_time": "2022-03-27T17:50:33.872Z"
   },
   {
    "duration": 13,
    "start_time": "2022-03-27T17:50:33.889Z"
   },
   {
    "duration": 11,
    "start_time": "2022-03-27T17:50:33.905Z"
   },
   {
    "duration": 68,
    "start_time": "2022-03-27T17:50:33.918Z"
   },
   {
    "duration": 20,
    "start_time": "2022-03-27T17:50:33.988Z"
   },
   {
    "duration": 1008,
    "start_time": "2022-03-28T17:48:49.238Z"
   },
   {
    "duration": 92,
    "start_time": "2022-03-28T17:48:50.248Z"
   },
   {
    "duration": 5,
    "start_time": "2022-03-28T17:48:50.341Z"
   },
   {
    "duration": 21,
    "start_time": "2022-03-28T17:48:50.348Z"
   },
   {
    "duration": 8,
    "start_time": "2022-03-28T17:48:50.370Z"
   },
   {
    "duration": 30,
    "start_time": "2022-03-28T17:48:50.379Z"
   },
   {
    "duration": 59,
    "start_time": "2022-03-28T17:48:50.410Z"
   },
   {
    "duration": 7,
    "start_time": "2022-03-28T17:48:50.470Z"
   },
   {
    "duration": 30,
    "start_time": "2022-03-28T17:48:50.479Z"
   },
   {
    "duration": 14,
    "start_time": "2022-03-28T17:48:50.513Z"
   },
   {
    "duration": 7,
    "start_time": "2022-03-28T17:48:50.529Z"
   },
   {
    "duration": 192,
    "start_time": "2022-03-28T17:48:50.538Z"
   },
   {
    "duration": 129,
    "start_time": "2022-03-28T17:48:50.731Z"
   },
   {
    "duration": 9,
    "start_time": "2022-03-28T17:48:50.862Z"
   },
   {
    "duration": 9,
    "start_time": "2022-03-28T17:48:50.873Z"
   },
   {
    "duration": 261,
    "start_time": "2022-03-28T17:48:50.884Z"
   },
   {
    "duration": 238,
    "start_time": "2022-03-28T17:48:51.146Z"
   },
   {
    "duration": 302,
    "start_time": "2022-03-28T17:48:51.386Z"
   },
   {
    "duration": 5,
    "start_time": "2022-03-28T17:48:51.689Z"
   },
   {
    "duration": 190,
    "start_time": "2022-03-28T17:48:51.695Z"
   },
   {
    "duration": 309,
    "start_time": "2022-03-28T17:48:51.886Z"
   },
   {
    "duration": 269,
    "start_time": "2022-03-28T17:48:52.196Z"
   },
   {
    "duration": 4,
    "start_time": "2022-03-28T17:48:52.466Z"
   },
   {
    "duration": 144,
    "start_time": "2022-03-28T17:48:52.471Z"
   },
   {
    "duration": 136,
    "start_time": "2022-03-28T17:48:52.617Z"
   },
   {
    "duration": 4,
    "start_time": "2022-03-28T17:48:52.754Z"
   },
   {
    "duration": 297,
    "start_time": "2022-03-28T17:48:52.760Z"
   },
   {
    "duration": 133,
    "start_time": "2022-03-28T17:48:53.060Z"
   },
   {
    "duration": 14,
    "start_time": "2022-03-28T17:48:53.194Z"
   },
   {
    "duration": 25,
    "start_time": "2022-03-28T17:48:53.210Z"
   },
   {
    "duration": 8,
    "start_time": "2022-03-28T17:48:53.237Z"
   },
   {
    "duration": 8,
    "start_time": "2022-03-28T17:48:53.247Z"
   },
   {
    "duration": 12,
    "start_time": "2022-03-28T17:48:53.256Z"
   },
   {
    "duration": 47,
    "start_time": "2022-03-28T17:48:53.270Z"
   },
   {
    "duration": 15,
    "start_time": "2022-03-28T17:48:53.319Z"
   },
   {
    "duration": 74,
    "start_time": "2022-03-28T19:15:51.718Z"
   },
   {
    "duration": 9,
    "start_time": "2022-03-28T19:16:16.647Z"
   },
   {
    "duration": 8,
    "start_time": "2022-03-28T19:16:34.320Z"
   },
   {
    "duration": 2343,
    "start_time": "2022-03-28T19:16:42.179Z"
   },
   {
    "duration": 148,
    "start_time": "2022-03-28T19:16:44.526Z"
   },
   {
    "duration": 8,
    "start_time": "2022-03-28T19:16:44.676Z"
   },
   {
    "duration": 28,
    "start_time": "2022-03-28T19:16:44.688Z"
   },
   {
    "duration": 14,
    "start_time": "2022-03-28T19:16:44.719Z"
   },
   {
    "duration": 17,
    "start_time": "2022-03-28T19:16:44.774Z"
   },
   {
    "duration": 170,
    "start_time": "2022-03-28T19:16:44.794Z"
   },
   {
    "duration": 17,
    "start_time": "2022-03-28T19:16:44.968Z"
   },
   {
    "duration": 26,
    "start_time": "2022-03-28T19:16:44.988Z"
   },
   {
    "duration": 55,
    "start_time": "2022-03-28T19:16:45.021Z"
   },
   {
    "duration": 13,
    "start_time": "2022-03-28T19:16:45.079Z"
   },
   {
    "duration": 302,
    "start_time": "2022-03-28T19:16:45.094Z"
   },
   {
    "duration": 222,
    "start_time": "2022-03-28T19:16:45.398Z"
   },
   {
    "duration": 20,
    "start_time": "2022-03-28T19:16:45.623Z"
   },
   {
    "duration": 35,
    "start_time": "2022-03-28T19:16:45.646Z"
   },
   {
    "duration": 737,
    "start_time": "2022-03-28T19:16:45.684Z"
   },
   {
    "duration": 465,
    "start_time": "2022-03-28T19:16:46.424Z"
   },
   {
    "duration": 631,
    "start_time": "2022-03-28T19:16:46.892Z"
   },
   {
    "duration": 6,
    "start_time": "2022-03-28T19:16:47.527Z"
   },
   {
    "duration": 295,
    "start_time": "2022-03-28T19:16:47.536Z"
   },
   {
    "duration": 408,
    "start_time": "2022-03-28T19:16:47.834Z"
   },
   {
    "duration": 1062,
    "start_time": "2022-03-28T19:16:48.246Z"
   },
   {
    "duration": 7,
    "start_time": "2022-03-28T19:16:49.311Z"
   },
   {
    "duration": 540,
    "start_time": "2022-03-28T19:16:49.374Z"
   },
   {
    "duration": 760,
    "start_time": "2022-03-28T19:16:49.917Z"
   },
   {
    "duration": 5,
    "start_time": "2022-03-28T19:16:50.680Z"
   },
   {
    "duration": 1295,
    "start_time": "2022-03-28T19:16:50.688Z"
   },
   {
    "duration": 531,
    "start_time": "2022-03-28T19:16:51.991Z"
   },
   {
    "duration": 14,
    "start_time": "2022-03-28T19:16:52.526Z"
   },
   {
    "duration": 56,
    "start_time": "2022-03-28T19:16:52.542Z"
   },
   {
    "duration": 14,
    "start_time": "2022-03-28T19:16:52.601Z"
   },
   {
    "duration": 14,
    "start_time": "2022-03-28T19:16:52.617Z"
   },
   {
    "duration": 43,
    "start_time": "2022-03-28T19:16:52.634Z"
   },
   {
    "duration": 31,
    "start_time": "2022-03-28T19:16:52.680Z"
   },
   {
    "duration": 26,
    "start_time": "2022-03-28T19:16:52.713Z"
   },
   {
    "duration": 21,
    "start_time": "2022-03-28T19:17:58.509Z"
   },
   {
    "duration": 17,
    "start_time": "2022-03-28T19:26:13.296Z"
   },
   {
    "duration": 296,
    "start_time": "2022-03-28T19:58:10.753Z"
   },
   {
    "duration": 301,
    "start_time": "2022-03-28T19:58:47.073Z"
   },
   {
    "duration": 497,
    "start_time": "2022-03-28T20:04:18.429Z"
   },
   {
    "duration": 382,
    "start_time": "2022-03-28T20:10:38.514Z"
   },
   {
    "duration": 243,
    "start_time": "2022-03-28T20:10:50.376Z"
   },
   {
    "duration": 122,
    "start_time": "2022-03-28T20:11:26.830Z"
   },
   {
    "duration": 294,
    "start_time": "2022-03-28T20:11:31.495Z"
   },
   {
    "duration": 220,
    "start_time": "2022-03-28T20:12:56.780Z"
   },
   {
    "duration": 286,
    "start_time": "2022-03-28T20:15:15.584Z"
   },
   {
    "duration": 296,
    "start_time": "2022-03-28T20:15:36.496Z"
   },
   {
    "duration": 438,
    "start_time": "2022-03-28T20:20:03.232Z"
   },
   {
    "duration": 355,
    "start_time": "2022-03-28T20:20:41.169Z"
   },
   {
    "duration": 381,
    "start_time": "2022-03-28T20:24:26.982Z"
   },
   {
    "duration": 374,
    "start_time": "2022-03-28T20:24:58.130Z"
   },
   {
    "duration": 1451,
    "start_time": "2022-03-28T20:35:05.485Z"
   },
   {
    "duration": 102,
    "start_time": "2022-03-28T20:35:06.938Z"
   },
   {
    "duration": 8,
    "start_time": "2022-03-28T20:35:07.042Z"
   },
   {
    "duration": 24,
    "start_time": "2022-03-28T20:35:07.074Z"
   },
   {
    "duration": 15,
    "start_time": "2022-03-28T20:35:07.100Z"
   },
   {
    "duration": 57,
    "start_time": "2022-03-28T20:35:07.118Z"
   },
   {
    "duration": 154,
    "start_time": "2022-03-28T20:35:07.177Z"
   },
   {
    "duration": 14,
    "start_time": "2022-03-28T20:35:07.333Z"
   },
   {
    "duration": 37,
    "start_time": "2022-03-28T20:35:07.350Z"
   },
   {
    "duration": 17,
    "start_time": "2022-03-28T20:35:07.392Z"
   },
   {
    "duration": 13,
    "start_time": "2022-03-28T20:35:07.411Z"
   },
   {
    "duration": 298,
    "start_time": "2022-03-28T20:35:07.426Z"
   },
   {
    "duration": 223,
    "start_time": "2022-03-28T20:35:07.727Z"
   },
   {
    "duration": 22,
    "start_time": "2022-03-28T20:35:07.952Z"
   },
   {
    "duration": 9,
    "start_time": "2022-03-28T20:35:07.977Z"
   },
   {
    "duration": 558,
    "start_time": "2022-03-28T20:35:07.988Z"
   },
   {
    "duration": 314,
    "start_time": "2022-03-28T20:35:08.549Z"
   },
   {
    "duration": 423,
    "start_time": "2022-03-28T20:35:08.866Z"
   },
   {
    "duration": 6,
    "start_time": "2022-03-28T20:35:09.292Z"
   },
   {
    "duration": 299,
    "start_time": "2022-03-28T20:35:09.300Z"
   },
   {
    "duration": 386,
    "start_time": "2022-03-28T20:35:09.602Z"
   },
   {
    "duration": 490,
    "start_time": "2022-03-28T20:35:09.991Z"
   },
   {
    "duration": 6,
    "start_time": "2022-03-28T20:35:10.484Z"
   },
   {
    "duration": 242,
    "start_time": "2022-03-28T20:35:10.492Z"
   },
   {
    "duration": 238,
    "start_time": "2022-03-28T20:35:10.736Z"
   },
   {
    "duration": 6,
    "start_time": "2022-03-28T20:35:10.976Z"
   },
   {
    "duration": 490,
    "start_time": "2022-03-28T20:35:10.985Z"
   },
   {
    "duration": 542,
    "start_time": "2022-03-28T20:35:11.483Z"
   },
   {
    "duration": 17,
    "start_time": "2022-03-28T20:35:12.028Z"
   },
   {
    "duration": 55,
    "start_time": "2022-03-28T20:35:12.048Z"
   },
   {
    "duration": 19,
    "start_time": "2022-03-28T20:35:12.106Z"
   },
   {
    "duration": 14,
    "start_time": "2022-03-28T20:35:12.127Z"
   },
   {
    "duration": 43,
    "start_time": "2022-03-28T20:35:12.143Z"
   },
   {
    "duration": 53,
    "start_time": "2022-03-28T20:35:12.189Z"
   },
   {
    "duration": 20,
    "start_time": "2022-03-28T20:35:12.273Z"
   }
  ],
  "kernelspec": {
   "display_name": "Python 3 (ipykernel)",
   "language": "python",
   "name": "python3"
  },
  "language_info": {
   "codemirror_mode": {
    "name": "ipython",
    "version": 3
   },
   "file_extension": ".py",
   "mimetype": "text/x-python",
   "name": "python",
   "nbconvert_exporter": "python",
   "pygments_lexer": "ipython3",
   "version": "3.9.7"
  },
  "toc": {
   "base_numbering": 1,
   "nav_menu": {},
   "number_sections": true,
   "sideBar": true,
   "skip_h1_title": true,
   "title_cell": "Table of Contents",
   "title_sidebar": "Contents",
   "toc_cell": false,
   "toc_position": {
    "height": "calc(100% - 180px)",
    "left": "10px",
    "top": "150px",
    "width": "238.391px"
   },
   "toc_section_display": true,
   "toc_window_display": false
  }
 },
 "nbformat": 4,
 "nbformat_minor": 2
}
