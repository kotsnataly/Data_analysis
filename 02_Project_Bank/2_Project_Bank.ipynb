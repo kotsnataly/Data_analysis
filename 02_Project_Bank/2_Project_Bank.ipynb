{
 "cells": [
  {
   "cell_type": "markdown",
   "metadata": {},
   "source": [
    "# Исследование надёжности заёмщиков\n",
    "\n",
    "Заказчик — кредитный отдел банка. Буду разобраться, влияет ли семейное положение и количество детей клиента на факт погашения кредита в срок. Входные данные от банка — статистика о платёжеспособности клиентов.\n",
    "\n",
    "Результаты исследования будут учтены при построении модели **кредитного скоринга** — специальной системы, которая оценивает способность потенциального заёмщика вернуть кредит банку."
   ]
  },
  {
   "cell_type": "markdown",
   "metadata": {},
   "source": [
    "## Шаг 1. Открытие файла с данными и изучение общей информации"
   ]
  },
  {
   "cell_type": "markdown",
   "metadata": {},
   "source": [
    "Мой основной инструмент — `pandas`. Я подключаю эту библиотеку. Также подключаю библиотеки `re`, `numpy`, `pymystem3` и `collections` - они понадобятся для моих исследований."
   ]
  },
  {
   "cell_type": "code",
   "execution_count": 1,
   "metadata": {},
   "outputs": [],
   "source": [
    "import pandas as pd                # импорт библиотеки pandas\n",
    "import re                          # импорт библиотеки регулярных выражений re\n",
    "import numpy as np                 # импорт библиотеки numpy\n",
    "from pymystem3 import Mystem       # импорт модуля pymystem3\n",
    "from collections import Counter    # импорт модуля collections"
   ]
  },
  {
   "cell_type": "markdown",
   "metadata": {},
   "source": [
    "Далее осуществляю чтение файла `data.csv` из папки `/datasets` и сохраняю его в переменной `data`. Вывожу на экран первые десять строк таблицы и получаю общую информацию о таблице, с которой мне предстоит работать."
   ]
  },
  {
   "cell_type": "code",
   "execution_count": 2,
   "metadata": {
    "scrolled": false
   },
   "outputs": [
    {
     "data": {
      "text/html": [
       "<div>\n",
       "<style scoped>\n",
       "    .dataframe tbody tr th:only-of-type {\n",
       "        vertical-align: middle;\n",
       "    }\n",
       "\n",
       "    .dataframe tbody tr th {\n",
       "        vertical-align: top;\n",
       "    }\n",
       "\n",
       "    .dataframe thead th {\n",
       "        text-align: right;\n",
       "    }\n",
       "</style>\n",
       "<table border=\"1\" class=\"dataframe\">\n",
       "  <thead>\n",
       "    <tr style=\"text-align: right;\">\n",
       "      <th></th>\n",
       "      <th>children</th>\n",
       "      <th>days_employed</th>\n",
       "      <th>dob_years</th>\n",
       "      <th>education</th>\n",
       "      <th>education_id</th>\n",
       "      <th>family_status</th>\n",
       "      <th>family_status_id</th>\n",
       "      <th>gender</th>\n",
       "      <th>income_type</th>\n",
       "      <th>debt</th>\n",
       "      <th>total_income</th>\n",
       "      <th>purpose</th>\n",
       "    </tr>\n",
       "  </thead>\n",
       "  <tbody>\n",
       "    <tr>\n",
       "      <td>0</td>\n",
       "      <td>1</td>\n",
       "      <td>-8437.673028</td>\n",
       "      <td>42</td>\n",
       "      <td>высшее</td>\n",
       "      <td>0</td>\n",
       "      <td>женат / замужем</td>\n",
       "      <td>0</td>\n",
       "      <td>F</td>\n",
       "      <td>сотрудник</td>\n",
       "      <td>0</td>\n",
       "      <td>253875.639453</td>\n",
       "      <td>покупка жилья</td>\n",
       "    </tr>\n",
       "    <tr>\n",
       "      <td>1</td>\n",
       "      <td>1</td>\n",
       "      <td>-4024.803754</td>\n",
       "      <td>36</td>\n",
       "      <td>среднее</td>\n",
       "      <td>1</td>\n",
       "      <td>женат / замужем</td>\n",
       "      <td>0</td>\n",
       "      <td>F</td>\n",
       "      <td>сотрудник</td>\n",
       "      <td>0</td>\n",
       "      <td>112080.014102</td>\n",
       "      <td>приобретение автомобиля</td>\n",
       "    </tr>\n",
       "    <tr>\n",
       "      <td>2</td>\n",
       "      <td>0</td>\n",
       "      <td>-5623.422610</td>\n",
       "      <td>33</td>\n",
       "      <td>Среднее</td>\n",
       "      <td>1</td>\n",
       "      <td>женат / замужем</td>\n",
       "      <td>0</td>\n",
       "      <td>M</td>\n",
       "      <td>сотрудник</td>\n",
       "      <td>0</td>\n",
       "      <td>145885.952297</td>\n",
       "      <td>покупка жилья</td>\n",
       "    </tr>\n",
       "    <tr>\n",
       "      <td>3</td>\n",
       "      <td>3</td>\n",
       "      <td>-4124.747207</td>\n",
       "      <td>32</td>\n",
       "      <td>среднее</td>\n",
       "      <td>1</td>\n",
       "      <td>женат / замужем</td>\n",
       "      <td>0</td>\n",
       "      <td>M</td>\n",
       "      <td>сотрудник</td>\n",
       "      <td>0</td>\n",
       "      <td>267628.550329</td>\n",
       "      <td>дополнительное образование</td>\n",
       "    </tr>\n",
       "    <tr>\n",
       "      <td>4</td>\n",
       "      <td>0</td>\n",
       "      <td>340266.072047</td>\n",
       "      <td>53</td>\n",
       "      <td>среднее</td>\n",
       "      <td>1</td>\n",
       "      <td>гражданский брак</td>\n",
       "      <td>1</td>\n",
       "      <td>F</td>\n",
       "      <td>пенсионер</td>\n",
       "      <td>0</td>\n",
       "      <td>158616.077870</td>\n",
       "      <td>сыграть свадьбу</td>\n",
       "    </tr>\n",
       "    <tr>\n",
       "      <td>5</td>\n",
       "      <td>0</td>\n",
       "      <td>-926.185831</td>\n",
       "      <td>27</td>\n",
       "      <td>высшее</td>\n",
       "      <td>0</td>\n",
       "      <td>гражданский брак</td>\n",
       "      <td>1</td>\n",
       "      <td>M</td>\n",
       "      <td>компаньон</td>\n",
       "      <td>0</td>\n",
       "      <td>255763.565419</td>\n",
       "      <td>покупка жилья</td>\n",
       "    </tr>\n",
       "    <tr>\n",
       "      <td>6</td>\n",
       "      <td>0</td>\n",
       "      <td>-2879.202052</td>\n",
       "      <td>43</td>\n",
       "      <td>высшее</td>\n",
       "      <td>0</td>\n",
       "      <td>женат / замужем</td>\n",
       "      <td>0</td>\n",
       "      <td>F</td>\n",
       "      <td>компаньон</td>\n",
       "      <td>0</td>\n",
       "      <td>240525.971920</td>\n",
       "      <td>операции с жильем</td>\n",
       "    </tr>\n",
       "    <tr>\n",
       "      <td>7</td>\n",
       "      <td>0</td>\n",
       "      <td>-152.779569</td>\n",
       "      <td>50</td>\n",
       "      <td>СРЕДНЕЕ</td>\n",
       "      <td>1</td>\n",
       "      <td>женат / замужем</td>\n",
       "      <td>0</td>\n",
       "      <td>M</td>\n",
       "      <td>сотрудник</td>\n",
       "      <td>0</td>\n",
       "      <td>135823.934197</td>\n",
       "      <td>образование</td>\n",
       "    </tr>\n",
       "    <tr>\n",
       "      <td>8</td>\n",
       "      <td>2</td>\n",
       "      <td>-6929.865299</td>\n",
       "      <td>35</td>\n",
       "      <td>ВЫСШЕЕ</td>\n",
       "      <td>0</td>\n",
       "      <td>гражданский брак</td>\n",
       "      <td>1</td>\n",
       "      <td>F</td>\n",
       "      <td>сотрудник</td>\n",
       "      <td>0</td>\n",
       "      <td>95856.832424</td>\n",
       "      <td>на проведение свадьбы</td>\n",
       "    </tr>\n",
       "    <tr>\n",
       "      <td>9</td>\n",
       "      <td>0</td>\n",
       "      <td>-2188.756445</td>\n",
       "      <td>41</td>\n",
       "      <td>среднее</td>\n",
       "      <td>1</td>\n",
       "      <td>женат / замужем</td>\n",
       "      <td>0</td>\n",
       "      <td>M</td>\n",
       "      <td>сотрудник</td>\n",
       "      <td>0</td>\n",
       "      <td>144425.938277</td>\n",
       "      <td>покупка жилья для семьи</td>\n",
       "    </tr>\n",
       "  </tbody>\n",
       "</table>\n",
       "</div>"
      ],
      "text/plain": [
       "   children  days_employed  dob_years education  education_id  \\\n",
       "0         1   -8437.673028         42    высшее             0   \n",
       "1         1   -4024.803754         36   среднее             1   \n",
       "2         0   -5623.422610         33   Среднее             1   \n",
       "3         3   -4124.747207         32   среднее             1   \n",
       "4         0  340266.072047         53   среднее             1   \n",
       "5         0    -926.185831         27    высшее             0   \n",
       "6         0   -2879.202052         43    высшее             0   \n",
       "7         0    -152.779569         50   СРЕДНЕЕ             1   \n",
       "8         2   -6929.865299         35    ВЫСШЕЕ             0   \n",
       "9         0   -2188.756445         41   среднее             1   \n",
       "\n",
       "      family_status  family_status_id gender income_type  debt   total_income  \\\n",
       "0   женат / замужем                 0      F   сотрудник     0  253875.639453   \n",
       "1   женат / замужем                 0      F   сотрудник     0  112080.014102   \n",
       "2   женат / замужем                 0      M   сотрудник     0  145885.952297   \n",
       "3   женат / замужем                 0      M   сотрудник     0  267628.550329   \n",
       "4  гражданский брак                 1      F   пенсионер     0  158616.077870   \n",
       "5  гражданский брак                 1      M   компаньон     0  255763.565419   \n",
       "6   женат / замужем                 0      F   компаньон     0  240525.971920   \n",
       "7   женат / замужем                 0      M   сотрудник     0  135823.934197   \n",
       "8  гражданский брак                 1      F   сотрудник     0   95856.832424   \n",
       "9   женат / замужем                 0      M   сотрудник     0  144425.938277   \n",
       "\n",
       "                      purpose  \n",
       "0               покупка жилья  \n",
       "1     приобретение автомобиля  \n",
       "2               покупка жилья  \n",
       "3  дополнительное образование  \n",
       "4             сыграть свадьбу  \n",
       "5               покупка жилья  \n",
       "6           операции с жильем  \n",
       "7                 образование  \n",
       "8       на проведение свадьбы  \n",
       "9     покупка жилья для семьи  "
      ]
     },
     "metadata": {},
     "output_type": "display_data"
    },
    {
     "name": "stdout",
     "output_type": "stream",
     "text": [
      "\n",
      "Общая нформация об исходной таблице данных:\n",
      "\n",
      "<class 'pandas.core.frame.DataFrame'>\n",
      "RangeIndex: 21525 entries, 0 to 21524\n",
      "Data columns (total 12 columns):\n",
      "children            21525 non-null int64\n",
      "days_employed       19351 non-null float64\n",
      "dob_years           21525 non-null int64\n",
      "education           21525 non-null object\n",
      "education_id        21525 non-null int64\n",
      "family_status       21525 non-null object\n",
      "family_status_id    21525 non-null int64\n",
      "gender              21525 non-null object\n",
      "income_type         21525 non-null object\n",
      "debt                21525 non-null int64\n",
      "total_income        19351 non-null float64\n",
      "purpose             21525 non-null object\n",
      "dtypes: float64(2), int64(5), object(5)\n",
      "memory usage: 2.0+ MB\n"
     ]
    }
   ],
   "source": [
    "# чтение файла с данными и сохранение в data в зависимости от его расположения\n",
    "try:\n",
    "    data = pd.read_csv('C:/Users/datasets/data.csv') # локальный путь\n",
    "except:\n",
    "    data = pd.read_csv('/datasets/data.csv')         # серверный путь\n",
    "\n",
    "display(data.head(10)) # получение первых 10 строк таблицы data\n",
    "print()\n",
    "print('Общая нформация об исходной таблице данных:')\n",
    "print()\n",
    "data.info() # получение общей информации о данных в таблице data"
   ]
  },
  {
   "cell_type": "markdown",
   "metadata": {},
   "source": [
    "**Вывод**\n",
    "\n",
    "Итак, в таблице 12 столбцов. Тип данных в столбцах — `object`, `float`, `int`.\n",
    "\n",
    "Согласно документации к данным:\n",
    "* `children` — количество детей в семье;\n",
    "* `days_employed` — общий трудовой стаж в днях;  \n",
    "* `dob_years` — возраст клиента в годах;\n",
    "* `education` — уровень образования клиента;\n",
    "* `education_id` — идентификатор уровня образования;\n",
    "* `family_status` — семейное положение;\n",
    "* `family_status_id` — идентификатор семейного положения;\n",
    "* `gender` — пол клиента;\n",
    "* `income_type` — тип занятости;\n",
    "* `debt` — имел ли задолженность по возврату кредитов;\n",
    "* `total_income` — ежемесячный доход;\n",
    "* `purpose` — цель получения кредита.\n",
    "\n",
    "В названиях колонок не обнаружены нарушения стиля, однако количество значений в столбцах различается. Значит, в данных есть пропущенные значения, требующие дополнительной предобработки.\n",
    "Также бросаются в глаза отрицательные значения в столбцах, где отрицательных значений быть не должно, а еще нет единообразия регистра и огромное число знаков после запятой. На этапе предобработки данных все эти проблемы будут решены!"
   ]
  },
  {
   "cell_type": "markdown",
   "metadata": {},
   "source": [
    "## Шаг 2. Предобработка данных"
   ]
  },
  {
   "cell_type": "markdown",
   "metadata": {},
   "source": [
    "### Обработка пропусков"
   ]
  },
  {
   "cell_type": "markdown",
   "metadata": {},
   "source": [
    "Определяю, в каких колонках исследуемой таблицы обнаружены пропуски:"
   ]
  },
  {
   "cell_type": "code",
   "execution_count": 3,
   "metadata": {},
   "outputs": [
    {
     "name": "stdout",
     "output_type": "stream",
     "text": [
      "children               0\n",
      "days_employed       2174\n",
      "dob_years              0\n",
      "education              0\n",
      "education_id           0\n",
      "family_status          0\n",
      "family_status_id       0\n",
      "gender                 0\n",
      "income_type            0\n",
      "debt                   0\n",
      "total_income        2174\n",
      "purpose                0\n",
      "dtype: int64\n"
     ]
    }
   ],
   "source": [
    "print(data.isna().sum()) # выявление колонок, содержащих пропуски"
   ]
  },
  {
   "cell_type": "markdown",
   "metadata": {},
   "source": [
    "Проверю гипотезу о том, что пропуски в трудовом стаже и типе занятости соответствуют друг другу. Напишу проверку, которая состоит в следующем: создаются дополнительные столбцы, содержащие булевы значения True, если ячейка заполнена и False - если пуста для столбцов `days_employed` и `total_income`. Далее создаю столбец `compare` с булевыми значениями True в случае, если в обоих столбцах пусто (или оба заполнены) и False, если в одном пусто, а в другом есть значение. Считаю количество строк, в которых не совпадает пусто/не пусто. "
   ]
  },
  {
   "cell_type": "code",
   "execution_count": 4,
   "metadata": {},
   "outputs": [
    {
     "name": "stdout",
     "output_type": "stream",
     "text": [
      "Полное соответствие\n"
     ]
    }
   ],
   "source": [
    "# создание столбца с булевыми значениями есть пропуск или его нет в столбце\n",
    "data['days_employed_mis'] = data['days_employed'].isna()\n",
    "data['total_income_mis'] = data['total_income'].isna()\n",
    "data['compare'] = data['days_employed_mis'] == data['total_income_mis']\n",
    "# сравнение значений е двух столбцах\n",
    "#if len(data[data['compare'] == False]) == 0:\n",
    "#    print('Полное соответствие')\n",
    "#else:\n",
    "#    print('Не соответствуют')\n",
    "\n",
    "# новая проверка! получение строк, в которых есть пропуски в столбце days_employed и их подсчет\n",
    "# подсчет в этой выборке пропусков в столбце total_income\n",
    "# если значения равны, то полное соответствие\n",
    "\n",
    "days_employed_nan = len(data[data['days_employed'].isna()])\n",
    "total_income_nan = data[data['days_employed'].isna()]['total_income'].isna().count()\n",
    "if days_employed_nan == total_income_nan:\n",
    "    print('Полное соответствие')\n",
    "else:\n",
    "    print('Не соответствуют')"
   ]
  },
  {
   "cell_type": "markdown",
   "metadata": {},
   "source": [
    "Проверка показала, что пропуски в трудовом стаже и типе занятости полностью соответствуют друг другу."
   ]
  },
  {
   "cell_type": "markdown",
   "metadata": {},
   "source": [
    "Т.к. обе колонки имеют тип `float`, то значение NaN, принадлежащее к данному типу, замещает отсутствующее в ячейке число и с ним можно проводить математические операции. Посчитаю долю пропущенных значений."
   ]
  },
  {
   "cell_type": "code",
   "execution_count": 5,
   "metadata": {},
   "outputs": [
    {
     "name": "stdout",
     "output_type": "stream",
     "text": [
      "Доля пропущенных значений составила 10.1%\n"
     ]
    }
   ],
   "source": [
    "days_employed_nan = len(data[data['days_employed'].isna()]) # подсчет пропущенных значений\n",
    "print('Доля пропущенных значений составила {:.1%}'.format(days_employed_nan / len(data)))\n",
    "#  подсчет доли пропущенных значений"
   ]
  },
  {
   "cell_type": "markdown",
   "metadata": {},
   "source": [
    "В 2174 строках из 21525 (около 10% от всего объема информации) значения общего трудового стажа и ежемесячного дохода пропущены. Серьезное значение, при чем пропуски в доходах и трудовом стаже соответствуют друг другу, поэтому можно предположить, что здесь есть определенная закономерность. Попробую определить закономерность появления пропусков. Зависит ли их появление от семейного положения или от типа занятости. Чтобы понимать, какими значениями заполнять эти пропуски.\n",
    "\n",
    "Для этого выделю `Series` с отсутствующими значениями и применю группировку сначала по семейному положению, а потом по типу занятости для подсчета доли пропущенных значений в получившихся группах."
   ]
  },
  {
   "cell_type": "code",
   "execution_count": 6,
   "metadata": {},
   "outputs": [
    {
     "name": "stdout",
     "output_type": "stream",
     "text": [
      "Проверка гипотезы о зависимости появления пропусков от семейного положения:\n",
      "family_status\n",
      "гражданский брак         0.11\n",
      "женат / замужем          0.10\n",
      "вдовец / вдова           0.10\n",
      "Не женат / не замужем    0.10\n",
      "в разводе                0.09\n",
      "Name: days_employed_mis, dtype: float64\n",
      "\n",
      "Проверка гипотезы о зависимости появления пропусков от типа занятости:\n",
      "income_type\n",
      "предприниматель    0.50\n",
      "пенсионер          0.11\n",
      "сотрудник          0.10\n",
      "компаньон          0.10\n",
      "госслужащий        0.10\n",
      "студент            0.00\n",
      "в декрете          0.00\n",
      "безработный        0.00\n",
      "Name: days_employed_mis, dtype: float64\n"
     ]
    }
   ],
   "source": [
    "print('Проверка гипотезы о зависимости появления пропусков от семейного положения:')\n",
    "# группировка по столбцу и подсчет доли пропусков в этой группе\n",
    "print(round(data.groupby('family_status')['days_employed_mis'].mean(), 2).sort_values(ascending=False))\n",
    "print()\n",
    "print('Проверка гипотезы о зависимости появления пропусков от типа занятости:')\n",
    "print(round(data.groupby('income_type')['days_employed_mis'].mean(), 2).sort_values(ascending=False))"
   ]
  },
  {
   "cell_type": "markdown",
   "metadata": {},
   "source": [
    "Из полученных таблиц видно, что распределение долей пропущенных значений в группах по семейному положению более или менее равномерно. Однако в таблице, где показана зависимость количества пропусков от типа занятости, можно заметить следующее: для половины предпринимателей не указаны значения стажа и ежемесячного дохода.\n",
    "\n",
    "Пропуски нельзя оставлять без внимания: группировка данных со значением NaN может привести к некорректным результатам анализа. \n",
    "На практике было бы правильно установить причину пропусков и восстановить данные. Но пока такой возможности нет, поэтому в целях сохранения параметров распределения заполняемых переменных, я буду заполнять пропуски медианным значением `median()` с группировкой по одной переменной, а именно по типу занятости (`income_type`), т.к. не была установлена зависимость от семейного положения."
   ]
  },
  {
   "cell_type": "code",
   "execution_count": 7,
   "metadata": {},
   "outputs": [
    {
     "name": "stdout",
     "output_type": "stream",
     "text": [
      "Трудовой стаж (в зависимости от типа занятости) заполняется следующими значениями:\n",
      "сотрудник -1574.2028211070851\n",
      "пенсионер 365213.30626573117\n",
      "компаньон -1547.3822226779334\n",
      "госслужащий -2689.3683533043886\n",
      "безработный 366413.65274420456\n",
      "предприниматель -520.8480834953765\n",
      "студент -578.7515535382181\n",
      "в декрете -3296.7599620220594\n",
      "\n",
      "Ежемесячный доход (в зависимости от типа занятости) заполняется следующими значениями:\n",
      "сотрудник 142594.39684740017\n",
      "пенсионер 118514.48641164352\n",
      "компаньон 172357.95096577113\n",
      "госслужащий 150447.9352830068\n",
      "безработный 131339.7516762103\n",
      "предприниматель 499163.1449470857\n",
      "студент 98201.62531401133\n",
      "в декрете 53829.13072905995\n",
      "\n",
      "После выполнения замены значений:\n",
      "Значение трудового стажа пропущено 0 раз\n",
      "Значение ежемесячного дохода пропущено 0 раз\n"
     ]
    }
   ],
   "source": [
    "print('Трудовой стаж (в зависимости от типа занятости) заполняется следующими значениями:')\n",
    "for income_type in data['income_type'].unique():\n",
    "    median_days = data.loc[data['income_type'] == income_type, 'days_employed'].median()\n",
    "    print(income_type, median_days)\n",
    "    data.loc[(data['days_employed'].isna()) & (data['income_type'] == income_type), 'days_employed'] = median_days\n",
    "print()  \n",
    "print('Ежемесячный доход (в зависимости от типа занятости) заполняется следующими значениями:')\n",
    "# перебор значений в колонке 'children' в цикле и замена пропущенных значений медианными значениями\n",
    "# в зависимости от количества детей в семье\n",
    "for income_type in data['income_type'].unique():    \n",
    "    median_income = data.loc[data['income_type'] == income_type, 'total_income'].median()\n",
    "    print(income_type, median_income)\n",
    "    data.loc[(data['total_income'].isna()) & (data['income_type'] == income_type), 'total_income'] = median_income\n",
    "\n",
    "# повторный подсчет пропущенных значений\n",
    "days_employed_nan = len(data[data['days_employed'].isna()])\n",
    "total_income_nan = len(data[data['total_income'].isna()])\n",
    "\n",
    "print()\n",
    "print('После выполнения замены значений:')\n",
    "print('Значение трудового стажа пропущено', len(data[data['days_employed'].isna()]), 'раз')\n",
    "print('Значение ежемесячного дохода пропущено', len(data[data['total_income'].isna()]), 'раз')  "
   ]
  },
  {
   "cell_type": "markdown",
   "metadata": {},
   "source": [
    "Удаляю вспомогательные столбцы из датафрейма и провожу дополнительную проверку, что в таблице не осталось пропусков. Для этого ещё раз подсчитываю пропущенные значения по колонкам."
   ]
  },
  {
   "cell_type": "code",
   "execution_count": 8,
   "metadata": {},
   "outputs": [
    {
     "name": "stdout",
     "output_type": "stream",
     "text": [
      "children            0\n",
      "days_employed       0\n",
      "dob_years           0\n",
      "education           0\n",
      "education_id        0\n",
      "family_status       0\n",
      "family_status_id    0\n",
      "gender              0\n",
      "income_type         0\n",
      "debt                0\n",
      "total_income        0\n",
      "purpose             0\n",
      "dtype: int64\n"
     ]
    }
   ],
   "source": [
    "# удаление вспомогательных столбцов\n",
    "data = data.drop(['days_employed_mis', 'total_income_mis', 'compare'], axis = 1)\n",
    "# повторный подсчёт пропусков после выполнения замены значений (вернет нули при успешной замене)\n",
    "print(data.isna().sum())"
   ]
  },
  {
   "cell_type": "markdown",
   "metadata": {},
   "source": [
    "**Вывод**\n",
    "\n",
    "Итак, в 2174 строках из 21525 (около 10% от всего объема исследуемых данных) обнаружены пропуски в количественных переменных значений общего трудового стажа и ежемесячного дохода. В связи с отсутствием возможности восстановления этих данных, пропуски заполнены медианным значением с группировкой в зависимости от типа занятости клиента.\n",
    "Пропуски в категориальных переменных не обнаружены."
   ]
  },
  {
   "cell_type": "markdown",
   "metadata": {},
   "source": [
    "### Обработка некорректных значений"
   ]
  },
  {
   "cell_type": "markdown",
   "metadata": {},
   "source": [
    "Для числовых переменных я оценю среднее, минимальное и максимальное значения, чтобы установить, в каком диапазоне лежат данные. Для этого воспользуюсь методом `describe()` из библиотеки регулярных выражений `re`. Процентиль в данном случае не оценивается, поэтому список `percentiles` оставлю пустым. В список `include` я не буду включать категориальные переменные, а оставлю только `float` и `int`. Для наглядности округлю значения в таблице методом `round`."
   ]
  },
  {
   "cell_type": "code",
   "execution_count": 9,
   "metadata": {},
   "outputs": [
    {
     "data": {
      "text/html": [
       "<div>\n",
       "<style scoped>\n",
       "    .dataframe tbody tr th:only-of-type {\n",
       "        vertical-align: middle;\n",
       "    }\n",
       "\n",
       "    .dataframe tbody tr th {\n",
       "        vertical-align: top;\n",
       "    }\n",
       "\n",
       "    .dataframe thead th {\n",
       "        text-align: right;\n",
       "    }\n",
       "</style>\n",
       "<table border=\"1\" class=\"dataframe\">\n",
       "  <thead>\n",
       "    <tr style=\"text-align: right;\">\n",
       "      <th></th>\n",
       "      <th>children</th>\n",
       "      <th>days_employed</th>\n",
       "      <th>dob_years</th>\n",
       "      <th>education_id</th>\n",
       "      <th>family_status_id</th>\n",
       "      <th>debt</th>\n",
       "      <th>total_income</th>\n",
       "    </tr>\n",
       "  </thead>\n",
       "  <tbody>\n",
       "    <tr>\n",
       "      <td>count</td>\n",
       "      <td>21525.0</td>\n",
       "      <td>21525.0</td>\n",
       "      <td>21525.0</td>\n",
       "      <td>21525.0</td>\n",
       "      <td>21525.0</td>\n",
       "      <td>21525.0</td>\n",
       "      <td>21525.0</td>\n",
       "    </tr>\n",
       "    <tr>\n",
       "      <td>mean</td>\n",
       "      <td>1.0</td>\n",
       "      <td>63550.0</td>\n",
       "      <td>43.0</td>\n",
       "      <td>1.0</td>\n",
       "      <td>1.0</td>\n",
       "      <td>0.0</td>\n",
       "      <td>165225.0</td>\n",
       "    </tr>\n",
       "    <tr>\n",
       "      <td>std</td>\n",
       "      <td>1.0</td>\n",
       "      <td>141150.0</td>\n",
       "      <td>13.0</td>\n",
       "      <td>1.0</td>\n",
       "      <td>1.0</td>\n",
       "      <td>0.0</td>\n",
       "      <td>98044.0</td>\n",
       "    </tr>\n",
       "    <tr>\n",
       "      <td>min</td>\n",
       "      <td>-1.0</td>\n",
       "      <td>-18389.0</td>\n",
       "      <td>0.0</td>\n",
       "      <td>0.0</td>\n",
       "      <td>0.0</td>\n",
       "      <td>0.0</td>\n",
       "      <td>20667.0</td>\n",
       "    </tr>\n",
       "    <tr>\n",
       "      <td>50%</td>\n",
       "      <td>0.0</td>\n",
       "      <td>-1356.0</td>\n",
       "      <td>42.0</td>\n",
       "      <td>1.0</td>\n",
       "      <td>0.0</td>\n",
       "      <td>0.0</td>\n",
       "      <td>142594.0</td>\n",
       "    </tr>\n",
       "    <tr>\n",
       "      <td>max</td>\n",
       "      <td>20.0</td>\n",
       "      <td>401755.0</td>\n",
       "      <td>75.0</td>\n",
       "      <td>4.0</td>\n",
       "      <td>4.0</td>\n",
       "      <td>1.0</td>\n",
       "      <td>2265604.0</td>\n",
       "    </tr>\n",
       "  </tbody>\n",
       "</table>\n",
       "</div>"
      ],
      "text/plain": [
       "       children  days_employed  dob_years  education_id  family_status_id  \\\n",
       "count   21525.0        21525.0    21525.0       21525.0           21525.0   \n",
       "mean        1.0        63550.0       43.0           1.0               1.0   \n",
       "std         1.0       141150.0       13.0           1.0               1.0   \n",
       "min        -1.0       -18389.0        0.0           0.0               0.0   \n",
       "50%         0.0        -1356.0       42.0           1.0               0.0   \n",
       "max        20.0       401755.0       75.0           4.0               4.0   \n",
       "\n",
       "          debt  total_income  \n",
       "count  21525.0       21525.0  \n",
       "mean       0.0      165225.0  \n",
       "std        0.0       98044.0  \n",
       "min        0.0       20667.0  \n",
       "50%        0.0      142594.0  \n",
       "max        1.0     2265604.0  "
      ]
     },
     "metadata": {},
     "output_type": "display_data"
    }
   ],
   "source": [
    "include = ['float', 'int'] # какие типы включить\n",
    "perc = [] # какие процентили включить\n",
    "\n",
    "# сведения о значениях в столбце\n",
    "display(round(data.describe(percentiles = perc, include = include))) "
   ]
  },
  {
   "cell_type": "markdown",
   "metadata": {},
   "source": [
    "Вызывают вопросы следующие столбцы:\n",
    "* children:\n",
    "    * наличие отрицательных значений количества детей;\n",
    "    * максимальное количество детей равно 20;\n",
    "* days_employed:\n",
    "    * наличие отрицательных значений трудового стажа;\n",
    "    * максимальное значение трудового стажа составляет около 1100 лет;\n",
    "* dob_years:\n",
    "    * минимальный возраст клиента равен нулю."
   ]
  },
  {
   "cell_type": "markdown",
   "metadata": {},
   "source": [
    "#### Обработка столбца 'children'"
   ]
  },
  {
   "cell_type": "markdown",
   "metadata": {},
   "source": [
    "Вывожу на экран список уникальных значений столбца `children`. Для этого:\n",
    "* извлекаю нужный столбец датафрейма, \n",
    "* вызываю метод `value_counts( )`, который посчитает количество уникальных значений."
   ]
  },
  {
   "cell_type": "code",
   "execution_count": 10,
   "metadata": {},
   "outputs": [
    {
     "name": "stdout",
     "output_type": "stream",
     "text": [
      " 0     14149\n",
      " 1      4818\n",
      " 2      2055\n",
      " 3       330\n",
      " 20       76\n",
      "-1        47\n",
      " 4        41\n",
      " 5         9\n",
      "Name: children, dtype: int64\n"
     ]
    }
   ],
   "source": [
    "print(data['children'].value_counts())"
   ]
  },
  {
   "cell_type": "markdown",
   "metadata": {},
   "source": [
    "Теперь посчитаю долю некорректных значений (20 и -1) в столбце и попытаюсь оценить, повлияет ли это количество на результаты исследования."
   ]
  },
  {
   "cell_type": "code",
   "execution_count": 11,
   "metadata": {},
   "outputs": [
    {
     "name": "stdout",
     "output_type": "stream",
     "text": [
      "Процент некорректных значений в столбце \"children\" составляет 0.6%\n"
     ]
    }
   ],
   "source": [
    "error_1 = data[data['children'] == 20]['children'].count() # Подсчет некорректных значений\n",
    "error_2 = data[data['children'] == -1]['children'].count()\n",
    "\n",
    "print('Процент некорректных значений в столбце \"children\" составляет {:.1%}'.format((error_1 + error_2) / len(data)))"
   ]
  },
  {
   "cell_type": "markdown",
   "metadata": {},
   "source": [
    "Можно сделать предположение, что -1 - это нет детей (0), а цифры 2 и 0 находятся на клавиатуре рядом и поэтому в столбце с завидным постоянством появляется число 20. Доля этих значений составляет чуть более полпроцента (незначительное количество).\n",
    "Проведу дополнительное исследование, в каких случаях встречаются такие значения, и на основании этого буду решать, чем заполнять. "
   ]
  },
  {
   "cell_type": "code",
   "execution_count": 12,
   "metadata": {},
   "outputs": [
    {
     "name": "stdout",
     "output_type": "stream",
     "text": [
      "Распределение значений 20 детей:\n"
     ]
    },
    {
     "data": {
      "text/plain": [
       "женат / замужем          49\n",
       "гражданский брак         12\n",
       "Не женат / не замужем     9\n",
       "вдовец / вдова            4\n",
       "в разводе                 2\n",
       "Name: family_status, dtype: int64"
      ]
     },
     "metadata": {},
     "output_type": "display_data"
    },
    {
     "name": "stdout",
     "output_type": "stream",
     "text": [
      "Распределение значений -1 детей:\n"
     ]
    },
    {
     "data": {
      "text/plain": [
       "женат / замужем          29\n",
       "Не женат / не замужем     5\n",
       "гражданский брак          5\n",
       "в разводе                 4\n",
       "вдовец / вдова            4\n",
       "Name: family_status, dtype: int64"
      ]
     },
     "metadata": {},
     "output_type": "display_data"
    }
   ],
   "source": [
    "print('Распределение значений 20 детей:')\n",
    "display(data.loc[data['children'] == 20]['family_status'].value_counts())\n",
    "print('Распределение значений -1 детей:')\n",
    "display(data.loc[data['children'] == -1]['family_status'].value_counts())"
   ]
  },
  {
   "cell_type": "markdown",
   "metadata": {},
   "source": [
    "Все строки будут сохранены и некорректные значения будут заменены следующим образом: -1 будут заменено но 1, а для значения -20 - на 2, т.к. некорректные значения встречаются чаще у клиентов, состоящих в браке, поэтому делаею предположение, что и -1 и 20 - это опечатки и по логике заменяю все некорректные значения на 1 и 2 соответственно. Проверяю, не встречается ли некорректные значения и пишу дополнительную проверку, не потерялись ли строки."
   ]
  },
  {
   "cell_type": "code",
   "execution_count": 13,
   "metadata": {},
   "outputs": [
    {
     "name": "stdout",
     "output_type": "stream",
     "text": [
      "0    14149\n",
      "1     4865\n",
      "2     2131\n",
      "3      330\n",
      "4       41\n",
      "5        9\n",
      "Name: children, dtype: int64\n",
      "\n",
      "Ничего не потерялось, строк в таблице - 21525\n"
     ]
    }
   ],
   "source": [
    "data['children'] = data['children'].replace(-1, 1) # замена в столбце значения -1 на 1\n",
    "data['children'] = data['children'].replace(20, 2) # замена в столбце значения 20 на 2\n",
    "\n",
    "print(data['children'].value_counts()) # вывод количества уникальных значений в столбце\n",
    "print()\n",
    "if len(data['children']) == len(data):\n",
    "    print('Ничего не потерялось, строк в таблице -', len(data))\n",
    "else:\n",
    "    print('Внимание, потеряно', len(data) - len(data['children']), 'строк!')"
   ]
  },
  {
   "cell_type": "markdown",
   "metadata": {},
   "source": [
    "Теперь значения количества детей в таблице вопросов не вызывает."
   ]
  },
  {
   "cell_type": "markdown",
   "metadata": {},
   "source": [
    "#### Обработка столбца 'days_employed'"
   ]
  },
  {
   "cell_type": "markdown",
   "metadata": {},
   "source": [
    "Т.к. в столбце обнаружены отрицательные значения, посчитаю долю этих значений, чтобы принять решение, как с ними поступить. Исключить ли строки с некорректными значениями из фрейма или обработать."
   ]
  },
  {
   "cell_type": "code",
   "execution_count": 14,
   "metadata": {},
   "outputs": [
    {
     "name": "stdout",
     "output_type": "stream",
     "text": [
      "Отрицательный стаж составляет 82.1%\n"
     ]
    }
   ],
   "source": [
    "# подсчет значений меньше 0\n",
    "negative_days = data.loc[data['days_employed'] < 0]['days_employed'].count()\n",
    "print('Отрицательный стаж составляет {:.1%}'.format(negative_days / len(data)))"
   ]
  },
  {
   "cell_type": "markdown",
   "metadata": {},
   "source": [
    "Т.к. процент отрицательных значений критически высок, а данные выгружались из нескольких систем, делаю предположение, что формат выгрузки одного из источника был такой, что автоматически сформировались отрицательные значения. Принимаю решение заменить отрицательные значения положительными функцией `abs()` и провожу проверку."
   ]
  },
  {
   "cell_type": "code",
   "execution_count": 15,
   "metadata": {},
   "outputs": [
    {
     "name": "stdout",
     "output_type": "stream",
     "text": [
      "Итого отрицательных значений стажа после замены - 0\n"
     ]
    }
   ],
   "source": [
    "data['days_employed'] = data['days_employed'].apply(abs) # все значения в столбце по модулю\n",
    "# повторный подсчет значений меньше 0\n",
    "print('Итого отрицательных значений стажа после замены -', data.loc[data['days_employed'] < 0]['days_employed'].count())"
   ]
  },
  {
   "cell_type": "markdown",
   "metadata": {},
   "source": [
    "Далее проверю распределение значений по оси, чтобы понять, каким образом сформированы аномально высокие значения, а именно 1100 лет. Чтобы построить график, использую метод `hist()` из библиотеки numpy."
   ]
  },
  {
   "cell_type": "code",
   "execution_count": 16,
   "metadata": {},
   "outputs": [
    {
     "data": {
      "text/plain": [
       "<matplotlib.axes._subplots.AxesSubplot at 0x7f95b1587e90>"
      ]
     },
     "execution_count": 16,
     "metadata": {},
     "output_type": "execute_result"
    },
    {
     "data": {
      "image/png": "[encoded data removed]",
      "text/plain": [
       "<Figure size 432x288 with 1 Axes>"
      ]
     },
     "metadata": {
      "needs_background": "light"
     },
     "output_type": "display_data"
    }
   ],
   "source": [
    "data['days_employed'].hist() # построение гистограммы"
   ]
  },
  {
   "cell_type": "code",
   "execution_count": 17,
   "metadata": {},
   "outputs": [
    {
     "name": "stdout",
     "output_type": "stream",
     "text": [
      "\n",
      "Аномально большое количество дней стажа составляет 17.9%\n"
     ]
    }
   ],
   "source": [
    "# подсчет количества строк со значениями более 300000\n",
    "error_days = data.loc[data['days_employed'] > 300000]['days_employed'].count()\n",
    "print()\n",
    "print('Аномально большое количество дней стажа составляет {:.1%}'.format(error_days / len(data)))"
   ]
  },
  {
   "cell_type": "markdown",
   "metadata": {},
   "source": [
    "Из гистограммы распределения величины видно, что почти 18% значений находятся в диапазоне от 350000 до 400000. Делаю предположение, что эти данные указаны не в днях, а в часах. Проверю правильность своей гипотезы, заменив значения на дни и снова выведу гистограмму."
   ]
  },
  {
   "cell_type": "code",
   "execution_count": 18,
   "metadata": {},
   "outputs": [
    {
     "data": {
      "text/plain": [
       "<matplotlib.axes._subplots.AxesSubplot at 0x7f95a8b1a050>"
      ]
     },
     "execution_count": 18,
     "metadata": {},
     "output_type": "execute_result"
    },
    {
     "data": {
      "image/png": "[encoded data removed]",
      "text/plain": [
       "<Figure size 432x288 with 1 Axes>"
      ]
     },
     "metadata": {
      "needs_background": "light"
     },
     "output_type": "display_data"
    }
   ],
   "source": [
    "# проверка по условию - все значения больше 300000 перевести из часов в дни (разделить на 24)\n",
    "data.loc[data['days_employed'] > 300000, 'days_employed'] = data.loc[data['days_employed'] > 300000, 'days_employed'] / 24\n",
    "data['days_employed'].hist() # построение гистограммы"
   ]
  },
  {
   "cell_type": "code",
   "execution_count": 19,
   "metadata": {},
   "outputs": [
    {
     "data": {
      "text/plain": [
       "count    21525.0\n",
       "mean      4601.0\n",
       "std       5354.0\n",
       "min         24.0\n",
       "50%       1994.0\n",
       "max      18389.0\n",
       "Name: days_employed, dtype: float64"
      ]
     },
     "metadata": {},
     "output_type": "display_data"
    }
   ],
   "source": [
    "# сведения по значениям в столбцу\n",
    "display(round(data['days_employed'].describe(percentiles = perc, include = include))) "
   ]
  },
  {
   "cell_type": "markdown",
   "metadata": {},
   "source": [
    "После корректировки значения трудового стажа колеблются от 0 до 49 лет и вопросов более не вызывают."
   ]
  },
  {
   "cell_type": "markdown",
   "metadata": {},
   "source": [
    "#### Обработка столбца 'dob_years'"
   ]
  },
  {
   "cell_type": "markdown",
   "metadata": {},
   "source": [
    "Проверю количество уникальных значений в столбце, чтобы попробовать определить долю некорректных значений."
   ]
  },
  {
   "cell_type": "code",
   "execution_count": 20,
   "metadata": {},
   "outputs": [
    {
     "name": "stdout",
     "output_type": "stream",
     "text": [
      "[42 36 33 32 53 27 43 50 35 41 40 65 54 56 26 48 24 21 57 67 28 63 62 47\n",
      " 34 68 25 31 30 20 49 37 45 61 64 44 52 46 23 38 39 51  0 59 29 60 55 58\n",
      " 71 22 73 66 69 19 72 70 74 75]\n",
      "Не указан возраст в 0.5% случаев\n"
     ]
    }
   ],
   "source": [
    "print(data['dob_years'].unique()) # вывод уникальных значений в столбце\n",
    "# подсчет количества строк, где возраст равен 0\n",
    "age_error = data.loc[data['dob_years'] == 0]['dob_years'].count()\n",
    "print('Не указан возраст в {:.1%} случаев'.format(age_error / len(data)))"
   ]
  },
  {
   "cell_type": "markdown",
   "metadata": {},
   "source": [
    "Т.к. процент пропуска значений возраста невелик (всего полпроцента) и теоретически на результат решения задачи не повлияет, заменю нулевые значения медианным `median()` с группировкой по одной переменной, а именно по типу занятости `(income_type)`. Провожу проверку совершенной замены."
   ]
  },
  {
   "cell_type": "code",
   "execution_count": 21,
   "metadata": {},
   "outputs": [
    {
     "name": "stdout",
     "output_type": "stream",
     "text": [
      "Возраст клиента (в зависимости от типа занятости) заполняется следующими значениями:\n",
      "сотрудник 39\n",
      "пенсионер 60\n",
      "компаньон 39\n",
      "госслужащий 40\n",
      "безработный 38\n",
      "предприниматель 42\n",
      "студент 22\n",
      "в декрете 39\n",
      "\n",
      "Итого нулевых значений возраста после замены - 0\n"
     ]
    }
   ],
   "source": [
    "print('Возраст клиента (в зависимости от типа занятости) заполняется следующими значениями:')\n",
    "for income_type in data['income_type'].unique():\n",
    "    median_age = data.loc[data['income_type'] == income_type, 'dob_years'].median()\n",
    "    print(income_type, round(median_age))\n",
    "    data.loc[(data['dob_years'] == 0) & (data['income_type'] == income_type), 'dob_years'] = median_age\n",
    "print()\n",
    "print('Итого нулевых значений возраста после замены -', data.loc[data['dob_years'] == 0]['dob_years'].count())"
   ]
  },
  {
   "cell_type": "markdown",
   "metadata": {},
   "source": [
    "Повторно выведу информацию о колонке со значениями возрастов клиентов:"
   ]
  },
  {
   "cell_type": "code",
   "execution_count": 22,
   "metadata": {},
   "outputs": [
    {
     "name": "stdout",
     "output_type": "stream",
     "text": [
      "count    21525.0\n",
      "mean        43.0\n",
      "std         12.0\n",
      "min         19.0\n",
      "50%         43.0\n",
      "max         75.0\n",
      "Name: dob_years, dtype: float64\n"
     ]
    }
   ],
   "source": [
    "# сведения по значениям в столбце\n",
    "print(round(data['dob_years'].describe(percentiles = perc, include = include)))"
   ]
  },
  {
   "cell_type": "markdown",
   "metadata": {},
   "source": [
    "Проведу дополнительную проверку, есть ли в исследуемом датафрейме строки, в которых значение трудового стажа превышает возраст клиента. Т.к. трудовой стаж указан в днях, а возраст в годах - приведу сравниваемые величины к единой метрике, умножив возраст на 365. Выведу на экран эти величины:"
   ]
  },
  {
   "cell_type": "code",
   "execution_count": 23,
   "metadata": {},
   "outputs": [
    {
     "name": "stdout",
     "output_type": "stream",
     "text": [
      "Количество несоответствий возраста трудовому стажу - 62\n",
      "0.29% от общего числа записей\n"
     ]
    }
   ],
   "source": [
    "error_dob_years = data[data['dob_years'] * 365 <= data['days_employed']]\n",
    "print('Количество несоответствий возраста трудовому стажу -', len(error_dob_years))\n",
    "print('{:.2%} от общего числа записей'.format((len(error_dob_years)) / len(data)))"
   ]
  },
  {
   "cell_type": "markdown",
   "metadata": {},
   "source": [
    "Чуть больше четверти процента приходится на некорректные строки, в которых трудовой стаж превышает возраст. На мой взгляд целесообразно исключить эти строки из датафрейма, т.к. это определенно ошибки ввода данных и однозначно нельзя сказать, какое из значений было внесено некорректно."
   ]
  },
  {
   "cell_type": "code",
   "execution_count": 24,
   "metadata": {},
   "outputs": [],
   "source": [
    "data = data.loc[data['dob_years'] * 365 > data['days_employed']]"
   ]
  },
  {
   "cell_type": "markdown",
   "metadata": {},
   "source": [
    "Провожу дополнительную проверку, не осталось ли в данных некорректных строк по указанному параметру:"
   ]
  },
  {
   "cell_type": "code",
   "execution_count": 25,
   "metadata": {},
   "outputs": [
    {
     "name": "stdout",
     "output_type": "stream",
     "text": [
      "Количество несоответствий возраста трудовому стажу - 0\n"
     ]
    }
   ],
   "source": [
    "error_dob_years = data[data['dob_years'] * 365 <= data['days_employed']]\n",
    "print('Количество несоответствий возраста трудовому стажу -', len(error_dob_years))"
   ]
  },
  {
   "cell_type": "markdown",
   "metadata": {},
   "source": [
    "### Замена типа данных"
   ]
  },
  {
   "cell_type": "markdown",
   "metadata": {},
   "source": [
    "В исследуемой таблице общий трудовой стаж (столбец `days_employed`) и ежемесячный доход (столбец `total_income`) представлены вещественными значениями. Для удобства выполнения операций со столбцами сразу переведу значения в этих столбцах в целочиленные методом `astype()` и проверю полученный результат методом `dtypes`."
   ]
  },
  {
   "cell_type": "code",
   "execution_count": 26,
   "metadata": {
    "scrolled": false
   },
   "outputs": [
    {
     "name": "stdout",
     "output_type": "stream",
     "text": [
      "Исходный тип данных в столбце days_employed - float64\n",
      "Исходный тип данных в столбце total_income - float64\n",
      "\n",
      "Тип данных в столбце days_employed - int64\n",
      "Тип данных в столбце total_income - int64\n"
     ]
    }
   ],
   "source": [
    "print('Исходный тип данных в столбце days_employed -', data['days_employed'].dtypes)\n",
    "print('Исходный тип данных в столбце total_income -', data['total_income'].dtypes)\n",
    "data['days_employed'] = data['days_employed'].astype('int') # изменение типа данных\n",
    "data['total_income'] = data['total_income'].astype('int')\n",
    "print()\n",
    "print('Тип данных в столбце days_employed -', data['days_employed'].dtypes) # вывод типа данных\n",
    "print('Тип данных в столбце total_income -', data['total_income'].dtypes)"
   ]
  },
  {
   "cell_type": "markdown",
   "metadata": {},
   "source": [
    "**Вывод**\n",
    "\n",
    "Целочисленные значения в колонках *общий трудовой стаж* и *ежемесячный доход* - это удобно, т.к. копейки в ежемесячном доходе и неполный день в трудовом стаже - незначительные доли, которые не повлияют на реультаты исследования, поэтому вещественные значения были переведены в целочисленные."
   ]
  },
  {
   "cell_type": "markdown",
   "metadata": {},
   "source": [
    "**Вывод**\n",
    "\n",
    "В результате анализа выявлены некорректные значения в столбцах:\n",
    "* количество детей (`children`):\n",
    "    * наличие отрицательных значений количества детей;\n",
    "    * максимальное количество детей равно 20;\n",
    "* трудовой стаж (`days_employed`):\n",
    "    * наличие отрицательных значений трудового стажа;\n",
    "    * максимальное значение трудового стажа составляет около 1100 лет;\n",
    "* возраст клиента (`dob_years`):\n",
    "    * минимальный возраст клиента равен нулю.\n",
    "    \n",
    "Проведена обработка всех некорректных значений со следующими результатами:\n",
    "* отрицательных значений количества детей не встречается;\n",
    "* более 5 детей в таблице не встречается;\n",
    "* отрицательные значения трудового стажа не встречаются;\n",
    "* максимальное значение трудового стажа составляет 49 лет;\n",
    "* минимальный возраст клиента равен 19."
   ]
  },
  {
   "cell_type": "markdown",
   "metadata": {},
   "source": [
    "### Обработка дубликатов"
   ]
  },
  {
   "cell_type": "markdown",
   "metadata": {},
   "source": [
    "Применю метод `value_counts` к столбцу `education` для выявления неявных дубликатов."
   ]
  },
  {
   "cell_type": "code",
   "execution_count": 27,
   "metadata": {
    "scrolled": true
   },
   "outputs": [
    {
     "name": "stdout",
     "output_type": "stream",
     "text": [
      "среднее                13706\n",
      "высшее                  4709\n",
      "СРЕДНЕЕ                  771\n",
      "Среднее                  707\n",
      "неоконченное высшее      668\n",
      "ВЫСШЕЕ                   273\n",
      "Высшее                   267\n",
      "начальное                248\n",
      "Неоконченное высшее       47\n",
      "НЕОКОНЧЕННОЕ ВЫСШЕЕ       29\n",
      "НАЧАЛЬНОЕ                 17\n",
      "Начальное                 15\n",
      "ученая степень             4\n",
      "УЧЕНАЯ СТЕПЕНЬ             1\n",
      "Ученая степень             1\n",
      "Name: education, dtype: int64\n"
     ]
    }
   ],
   "source": [
    "print(data['education'].value_counts()) # подчсет количества уникальных значений в столбце "
   ]
  },
  {
   "cell_type": "markdown",
   "metadata": {},
   "source": [
    "Бросаются в глаза одинаковые названия, но написанные в разных регистрах. Это может затруднить категоризацию, поэтому необходимо привести все значения к одному регистру (нижнему) методом `str.lower()`. Cнова проверить содрежимое столбца `education`."
   ]
  },
  {
   "cell_type": "code",
   "execution_count": 28,
   "metadata": {},
   "outputs": [
    {
     "name": "stdout",
     "output_type": "stream",
     "text": [
      "среднее                15184\n",
      "высшее                  5249\n",
      "неоконченное высшее      744\n",
      "начальное                280\n",
      "ученая степень             6\n",
      "Name: education, dtype: int64\n"
     ]
    }
   ],
   "source": [
    "data['education'] = data['education'].str.lower() # применение нижнего регистра в столбце\n",
    "print(data['education'].value_counts()) # подчсет количества уникальных значений в столбце"
   ]
  },
  {
   "cell_type": "markdown",
   "metadata": {},
   "source": [
    "Теперь другое дело, вопросов к содержанию колонки `education` нет! Проделаю то же самое со столбцами, содержащими категориальные переменные `family_status` и `income_type`, после чего можно приступать к удалению явных дубликатов."
   ]
  },
  {
   "cell_type": "code",
   "execution_count": 29,
   "metadata": {},
   "outputs": [],
   "source": [
    "data['family_status'] = data['family_status'].str.lower()\n",
    "data['income_type'] = data['income_type'].str.lower()"
   ]
  },
  {
   "cell_type": "markdown",
   "metadata": {},
   "source": [
    "Осуществляю подсчет явных дубликатов в таблице методом `duplicated()`. Если дупликаты выявлены, то удалю явные дубликаты методом `drop_duplicates` с удалением старых индексов и формированием новых. Далее проверю таблицу на отсутствие дубликатов после удаления."
   ]
  },
  {
   "cell_type": "code",
   "execution_count": 30,
   "metadata": {},
   "outputs": [
    {
     "name": "stdout",
     "output_type": "stream",
     "text": [
      "В данных обнаружено 71 явных дубликатов\n",
      "Производится удаление дубликатов...\n",
      "\n",
      "После удаления количество явных дубликатов составляет - 0\n",
      "Количество строк в таблице - 21392\n"
     ]
    }
   ],
   "source": [
    "dupls = data.duplicated().sum() # подсчет дубликатов в датафрейме\n",
    "if dupls > 0:\n",
    "    print('В данных обнаружено', dupls, 'явных дубликатов')\n",
    "    print('Производится удаление дубликатов...')\n",
    "    data = data.drop_duplicates().reset_index(drop = True) # удаление дубликатов с обновлением индексов\n",
    "    print()\n",
    "    print('После удаления количество явных дубликатов составляет -', data.duplicated().sum())\n",
    "else:\n",
    "    print('Дубликатов не найдено')\n",
    "\n",
    "print('Количество строк в таблице -', len(data))\n",
    "#data.info()"
   ]
  },
  {
   "cell_type": "markdown",
   "metadata": {},
   "source": [
    "Основные причины возникновения дубликатов — повторные представления, неправильное соединение данных из разных источников, ошибки пользователя при занесении информации. В нашем случае точно известно, что данные в таблицу собирались из нескольких систем, поэтому скорее всего - это и послужило причиной появления дубликатов."
   ]
  },
  {
   "cell_type": "markdown",
   "metadata": {},
   "source": [
    "**Вывод**"
   ]
  },
  {
   "cell_type": "markdown",
   "metadata": {},
   "source": [
    "В результате проведенного анализа проведена проверка категориальных переменных на неявные дубликаты (данные приведены к единому регистру) и просле проверки выявлены явные дубликаты (полное соответствие строк), которые в количестве 71 штуки исключены из датафрейма."
   ]
  },
  {
   "cell_type": "markdown",
   "metadata": {},
   "source": [
    "### Лемматизация"
   ]
  },
  {
   "cell_type": "markdown",
   "metadata": {},
   "source": [
    "Лемматизацию (приведение слова к его словарной форме - лемме) буду проводить с использованием библиотек с функцией лемматизации на русском языке, а именно — pymystem3. Выделю уникальные значения в столбце цели получения кредита - `purpose`, также для подсчета числа их упоминаний в таблице использую специальный контейнер `Counter` из модуля `collections`, отсортирую по убыванию методом `most_common`."
   ]
  },
  {
   "cell_type": "code",
   "execution_count": 31,
   "metadata": {},
   "outputs": [
    {
     "name": "stdout",
     "output_type": "stream",
     "text": [
      "['покупка жилья' 'приобретение автомобиля' 'дополнительное образование'\n",
      " 'сыграть свадьбу' 'операции с жильем' 'образование'\n",
      " 'на проведение свадьбы' 'покупка жилья для семьи' 'покупка недвижимости'\n",
      " 'покупка коммерческой недвижимости' 'покупка жилой недвижимости'\n",
      " 'строительство собственной недвижимости' 'недвижимость'\n",
      " 'строительство недвижимости' 'на покупку подержанного автомобиля'\n",
      " 'на покупку своего автомобиля' 'операции с коммерческой недвижимостью'\n",
      " 'строительство жилой недвижимости' 'жилье'\n",
      " 'операции со своей недвижимостью' 'автомобили' 'заняться образованием'\n",
      " 'сделка с подержанным автомобилем' 'получение образования' 'автомобиль'\n",
      " 'свадьба' 'получение дополнительного образования' 'покупка своего жилья'\n",
      " 'операции с недвижимостью' 'получение высшего образования'\n",
      " 'свой автомобиль' 'сделка с автомобилем' 'профильное образование'\n",
      " 'высшее образование' 'покупка жилья для сдачи' 'на покупку автомобиля'\n",
      " 'ремонт жилью' 'заняться высшим образованием']\n"
     ]
    }
   ],
   "source": [
    "print(data['purpose'].unique()) # для дополнительной информации"
   ]
  },
  {
   "cell_type": "code",
   "execution_count": 32,
   "metadata": {},
   "outputs": [
    {
     "data": {
      "text/plain": [
       "[(' ', 54882),\n",
       " ('недвижимость', 6338),\n",
       " ('покупка', 5887),\n",
       " ('жилье', 4449),\n",
       " ('автомобиль', 4297),\n",
       " ('образование', 3999),\n",
       " ('с', 2910),\n",
       " ('операция', 2597),\n",
       " ('свадьба', 2309),\n",
       " ('свой', 2226),\n",
       " ('на', 2218),\n",
       " ('строительство', 1876),\n",
       " ('высокий', 1368),\n",
       " ('коммерческий', 1307),\n",
       " ('получение', 1307),\n",
       " ('для', 1286),\n",
       " ('жилой', 1229),\n",
       " ('сделка', 939),\n",
       " ('дополнительный', 904),\n",
       " ('заниматься', 900),\n",
       " ('подержать', 854),\n",
       " ('проведение', 765),\n",
       " ('сыграть', 761),\n",
       " ('сдача', 648),\n",
       " ('семья', 638),\n",
       " ('собственный', 635),\n",
       " ('со', 626),\n",
       " ('ремонт', 605),\n",
       " ('приобретение', 460),\n",
       " ('профильный', 435),\n",
       " ('подержанный', 110),\n",
       " ('\\n', 1)]"
      ]
     },
     "metadata": {},
     "output_type": "display_data"
    }
   ],
   "source": [
    "m = Mystem()\n",
    "data_lemmas = m.lemmatize(' '.join(data['purpose']))\n",
    "display(Counter(data_lemmas).most_common()) # подсчет упоминаний в датафрейме и сортировка"
   ]
  },
  {
   "cell_type": "markdown",
   "metadata": {},
   "source": [
    "Выделю из получившегося списка наиболее часто встречающиеся существительные для образования категорий и напишу функцию, которая будет лемматизировать последовательно каждую ячейку столбца `purpose` и проверять, какая из категорий обнаруживается в лемматизированном варианте и записывать в столбец `purpose_category`."
   ]
  },
  {
   "cell_type": "code",
   "execution_count": 33,
   "metadata": {},
   "outputs": [
    {
     "name": "stdout",
     "output_type": "stream",
     "text": [
      "Количество записей в категориях:\n",
      "недвижимость    10787\n",
      "автомобиль       4297\n",
      "образование      3999\n",
      "свадьба          2309\n",
      "Name: purpose_category, dtype: int64\n",
      "\n",
      "Доля в % от всех записей:\n",
      "недвижимость    50.0\n",
      "автомобиль      20.0\n",
      "образование     19.0\n",
      "свадьба         11.0\n",
      "Name: purpose_category, dtype: float64\n"
     ]
    }
   ],
   "source": [
    "# определение категории в соответствии с полученной леммой\n",
    "def categorize(purpose):\n",
    "    purpose_lemmas = m.lemmatize(purpose)\n",
    "    if 'недвижимость' in purpose_lemmas or 'жилье' in purpose_lemmas:\n",
    "        return 'недвижимость'\n",
    "    if 'автомобиль' in purpose_lemmas:\n",
    "        return 'автомобиль'\n",
    "    if 'образование' in purpose_lemmas:\n",
    "        return 'образование'\n",
    "    if 'свадьба' in purpose_lemmas:\n",
    "        return 'свадьба'\n",
    "    return 'другое' \n",
    "\n",
    "data['purpose_category'] = data['purpose'].apply(categorize) # запись категории в столбец\n",
    "\n",
    "print('Количество записей в категориях:')\n",
    "print(data['purpose_category'].value_counts())\n",
    "print()\n",
    "print('Доля в % от всех записей:')\n",
    "print(round(data['purpose_category'].value_counts() / len(data) * 100))"
   ]
  },
  {
   "cell_type": "markdown",
   "metadata": {},
   "source": [
    "**Вывод**"
   ]
  },
  {
   "cell_type": "markdown",
   "metadata": {},
   "source": [
    "Проведена лемматизация столбца `цель получения кредита` таким образом, что обнаружены 4 основные категории, в которые было распределено 100% данных, что подтверждено отсутствием записей в категории 'другое'.\n",
    "Также установлено, что половина всех кредитов берется на покупку/ремонт/строительство жилья, примерно одинаково по 20% от общего числа тратится на все, что связано с автомобилями и образованием, а остальные 10% берут кредиты на организацию свадебного торжества."
   ]
  },
  {
   "cell_type": "markdown",
   "metadata": {},
   "source": [
    "### Категоризация данных"
   ]
  },
  {
   "cell_type": "markdown",
   "metadata": {},
   "source": [
    "Задача стоит выяснить влияет ли\n",
    "- семейное положение\n",
    "- количество детей клиента\n",
    "- уровень дохода\n",
    "- цели кредита\n",
    "на факт погашения кредита в срок.\n",
    "\n",
    "Цели кредита у меня уже выделены в категории на предыдущем этапе, категорий в значениях семейное положение и количества детей и так немного - все достаточно конкретно, теперь необходимо выделить категории по уровню дохода. Прибегну к категоризации — объединению избранных данных в произвольные группы по заданному критерию. Для этого выделю 3 категории уровня дохода: низкий, средний и высокий. Проверю значения медианы и выделю пороги для категорий:"
   ]
  },
  {
   "cell_type": "code",
   "execution_count": 34,
   "metadata": {},
   "outputs": [
    {
     "name": "stdout",
     "output_type": "stream",
     "text": [
      "142594.0\n"
     ]
    }
   ],
   "source": [
    "income_median = (data['total_income'].median())\n",
    "print(income_median)"
   ]
  },
  {
   "cell_type": "markdown",
   "metadata": {},
   "source": [
    "В моем исследовании ранее пропущенные значения в столбце `уровень дохода` были заполнены медианными значениями, поэтому некорректно было бы выбирать такой порог. Исходя из здравого смысла буду считать за высокий уровень дохода доход выше медианного значение по столбцу, а низкий уровень - ниже половины этого значения. Все остальное отнесу к среднему уровню дохода. Помещу полученные категории в дополнительный столбец `income_category`."
   ]
  },
  {
   "cell_type": "code",
   "execution_count": 35,
   "metadata": {},
   "outputs": [
    {
     "name": "stdout",
     "output_type": "stream",
     "text": [
      "Количество записей в категориях:\n",
      "высокий доход    10589\n",
      "средний доход     9232\n",
      "низкий доход      1571\n",
      "Name: income_category, dtype: int64\n",
      "\n",
      "Доля в % от всех записей:\n",
      "высокий доход    49.0\n",
      "средний доход    43.0\n",
      "низкий доход      7.0\n",
      "Name: income_category, dtype: float64\n"
     ]
    }
   ],
   "source": [
    "# определение категории в соответствии с уровнем дохода\n",
    "def categorize(total_income):\n",
    "    if total_income > income_median:\n",
    "        return 'высокий доход'\n",
    "    if total_income < income_median / 2:\n",
    "        return 'низкий доход'\n",
    "    return 'средний доход' \n",
    "\n",
    "data['income_category'] = data['total_income'].apply(categorize) # запись категории дохода в столбец\n",
    "\n",
    "print('Количество записей в категориях:')\n",
    "print(data['income_category'].value_counts())\n",
    "print()\n",
    "print('Доля в % от всех записей:')\n",
    "print(round(data['income_category'].value_counts() / len(data) * 100))"
   ]
  },
  {
   "cell_type": "code",
   "execution_count": 36,
   "metadata": {},
   "outputs": [
    {
     "data": {
      "text/html": [
       "<div>\n",
       "<style scoped>\n",
       "    .dataframe tbody tr th:only-of-type {\n",
       "        vertical-align: middle;\n",
       "    }\n",
       "\n",
       "    .dataframe tbody tr th {\n",
       "        vertical-align: top;\n",
       "    }\n",
       "\n",
       "    .dataframe thead th {\n",
       "        text-align: right;\n",
       "    }\n",
       "</style>\n",
       "<table border=\"1\" class=\"dataframe\">\n",
       "  <thead>\n",
       "    <tr style=\"text-align: right;\">\n",
       "      <th></th>\n",
       "      <th>total_income</th>\n",
       "      <th>income_category</th>\n",
       "    </tr>\n",
       "  </thead>\n",
       "  <tbody>\n",
       "    <tr>\n",
       "      <td>0</td>\n",
       "      <td>253875</td>\n",
       "      <td>высокий доход</td>\n",
       "    </tr>\n",
       "    <tr>\n",
       "      <td>1</td>\n",
       "      <td>112080</td>\n",
       "      <td>средний доход</td>\n",
       "    </tr>\n",
       "    <tr>\n",
       "      <td>2</td>\n",
       "      <td>145885</td>\n",
       "      <td>высокий доход</td>\n",
       "    </tr>\n",
       "    <tr>\n",
       "      <td>3</td>\n",
       "      <td>267628</td>\n",
       "      <td>высокий доход</td>\n",
       "    </tr>\n",
       "    <tr>\n",
       "      <td>4</td>\n",
       "      <td>158616</td>\n",
       "      <td>высокий доход</td>\n",
       "    </tr>\n",
       "  </tbody>\n",
       "</table>\n",
       "</div>"
      ],
      "text/plain": [
       "   total_income income_category\n",
       "0        253875   высокий доход\n",
       "1        112080   средний доход\n",
       "2        145885   высокий доход\n",
       "3        267628   высокий доход\n",
       "4        158616   высокий доход"
      ]
     },
     "metadata": {},
     "output_type": "display_data"
    }
   ],
   "source": [
    "display(data[['total_income', 'income_category']].head(5)) # проверка заполнения столбца категорий\n",
    "#data.info()"
   ]
  },
  {
   "cell_type": "markdown",
   "metadata": {},
   "source": [
    "Также на всякий случай я проведу категоризацию по количству детей. Разобью данные на 2 группы - клиент имеет детей и не имеет, запишу данные в отдельный столбец `children_category`:"
   ]
  },
  {
   "cell_type": "code",
   "execution_count": 37,
   "metadata": {},
   "outputs": [
    {
     "name": "stdout",
     "output_type": "stream",
     "text": [
      "Количество записей в категориях:\n",
      "нет детей    14047\n",
      "есть дети     7345\n",
      "Name: children_category, dtype: int64\n",
      "\n",
      "Доля в % от всех записей:\n",
      "нет детей    66.0\n",
      "есть дети    34.0\n",
      "Name: children_category, dtype: float64\n"
     ]
    }
   ],
   "source": [
    "# определение категории в соответствии с наличием детей\n",
    "def categorize(children):\n",
    "    if children == 0:\n",
    "        return 'нет детей'\n",
    "    return 'есть дети' \n",
    "\n",
    "data['children_category'] = data['children'].apply(categorize) # запись категории в столбец\n",
    "\n",
    "print('Количество записей в категориях:')\n",
    "print(data['children_category'].value_counts())\n",
    "print()\n",
    "print('Доля в % от всех записей:')\n",
    "print(round(data['children_category'].value_counts() / len(data) * 100))"
   ]
  },
  {
   "cell_type": "markdown",
   "metadata": {},
   "source": [
    "**Вывод**"
   ]
  },
  {
   "cell_type": "markdown",
   "metadata": {},
   "source": [
    "В результате проведенной категоризации по уровню дохода выделены 3 категории: высокий доход, средний и низкий. Можно увидеть, что половина клентов банка, берущих кредит, имеют высокий уровень дохода, тогда как клиенты с низким уровнем дохода, составляют всего 7% от всех оформляющих кредит. Также проведена категоризация по наличию детей у клиента. Можно заметить, что тех, кто берет кредит, имея детей, в 2 раза меньше, чем тех, у кого детей нет. Теперь можно пробовать анализировать данные по поставленным вопросам."
   ]
  },
  {
   "cell_type": "markdown",
   "metadata": {},
   "source": [
    "## Шаг 3. Ответьте на вопросы"
   ]
  },
  {
   "cell_type": "markdown",
   "metadata": {},
   "source": [
    "- Есть ли зависимость между наличием детей и возвратом кредита в срок?"
   ]
  },
  {
   "cell_type": "markdown",
   "metadata": {},
   "source": [
    "Для определения зависимости между наличием детей и возвратом кредита в срок, необходимо сгруппировать данные по выделенным категориям есть/нет детей и обратиться к столбцу `debt` — имел ли клиент задолженность по возврату кредитов, где 0 - не имел задолженностей, а 1 - была задолженность. Рассчитать общее количество клиентов в этой группе (`count()`), количество должников в этой категории (сумму единиц в этой группе - `sum()`) и долю должников в этой группе (сумма единиц на общее число в группе `mean()`) "
   ]
  },
  {
   "cell_type": "code",
   "execution_count": 38,
   "metadata": {},
   "outputs": [
    {
     "name": "stdout",
     "output_type": "stream",
     "text": [
      "\n",
      "Определение зависимости между наличием детей и возвратом кредита в срок\n"
     ]
    },
    {
     "data": {
      "text/html": [
       "<style  type=\"text/css\" >\n",
       "</style><table id=\"T_645a758c_673a_11ec_942f_02420a394a24\" ><thead>    <tr>        <th class=\"blank level0\" ></th>        <th class=\"col_heading level0 col0\" >Кол-во клиентов</th>        <th class=\"col_heading level0 col1\" >Кол-во должников</th>        <th class=\"col_heading level0 col2\" >Доля должников</th>    </tr>    <tr>        <th class=\"index_name level0\" >children_category</th>        <th class=\"blank\" ></th>        <th class=\"blank\" ></th>        <th class=\"blank\" ></th>    </tr></thead><tbody>\n",
       "                <tr>\n",
       "                        <th id=\"T_645a758c_673a_11ec_942f_02420a394a24level0_row0\" class=\"row_heading level0 row0\" >есть дети</th>\n",
       "                        <td id=\"T_645a758c_673a_11ec_942f_02420a394a24row0_col0\" class=\"data row0 col0\" >7345</td>\n",
       "                        <td id=\"T_645a758c_673a_11ec_942f_02420a394a24row0_col1\" class=\"data row0 col1\" >673</td>\n",
       "                        <td id=\"T_645a758c_673a_11ec_942f_02420a394a24row0_col2\" class=\"data row0 col2\" >9.16%</td>\n",
       "            </tr>\n",
       "            <tr>\n",
       "                        <th id=\"T_645a758c_673a_11ec_942f_02420a394a24level0_row1\" class=\"row_heading level0 row1\" >нет детей</th>\n",
       "                        <td id=\"T_645a758c_673a_11ec_942f_02420a394a24row1_col0\" class=\"data row1 col0\" >14047</td>\n",
       "                        <td id=\"T_645a758c_673a_11ec_942f_02420a394a24row1_col1\" class=\"data row1 col1\" >1059</td>\n",
       "                        <td id=\"T_645a758c_673a_11ec_942f_02420a394a24row1_col2\" class=\"data row1 col2\" >7.54%</td>\n",
       "            </tr>\n",
       "    </tbody></table>"
      ],
      "text/plain": [
       "<pandas.io.formats.style.Styler at 0x7f95a8aa2790>"
      ]
     },
     "metadata": {},
     "output_type": "display_data"
    }
   ],
   "source": [
    "print()\n",
    "print('Определение зависимости между наличием детей и возвратом кредита в срок')\n",
    "report_children = data.groupby('children_category').agg({'debt': ['count', 'sum', 'mean']})\n",
    "report_children.columns = ['Кол-во клиентов', 'Кол-во должников', 'Доля должников']\n",
    "display(report_children.sort_values(by='Доля должников', ascending=False).style.format({'Доля должников':'{:.2%}'}))"
   ]
  },
  {
   "cell_type": "markdown",
   "metadata": {},
   "source": [
    "Для дополнительной информации сгруппирую данные по количеству детей и рассчитаю те же самые величины, построив для проверки дополнительную сводную таблицу:"
   ]
  },
  {
   "cell_type": "code",
   "execution_count": 39,
   "metadata": {},
   "outputs": [
    {
     "name": "stdout",
     "output_type": "stream",
     "text": [
      "\n",
      "Определение зависимости между количеством детей и возвратом кредита в срок\n"
     ]
    },
    {
     "data": {
      "text/html": [
       "<style  type=\"text/css\" >\n",
       "</style><table id=\"T_6462f81a_673a_11ec_942f_02420a394a24\" ><thead>    <tr>        <th class=\"blank level0\" ></th>        <th class=\"col_heading level0 col0\" >Нет должников</th>        <th class=\"col_heading level0 col1\" >Есть должники</th>        <th class=\"col_heading level0 col2\" >Доля должников</th>    </tr>    <tr>        <th class=\"index_name level0\" >children</th>        <th class=\"blank\" ></th>        <th class=\"blank\" ></th>        <th class=\"blank\" ></th>    </tr></thead><tbody>\n",
       "                <tr>\n",
       "                        <th id=\"T_6462f81a_673a_11ec_942f_02420a394a24level0_row0\" class=\"row_heading level0 row0\" >4</th>\n",
       "                        <td id=\"T_6462f81a_673a_11ec_942f_02420a394a24row0_col0\" class=\"data row0 col0\" >37</td>\n",
       "                        <td id=\"T_6462f81a_673a_11ec_942f_02420a394a24row0_col1\" class=\"data row0 col1\" >4</td>\n",
       "                        <td id=\"T_6462f81a_673a_11ec_942f_02420a394a24row0_col2\" class=\"data row0 col2\" >9.76%</td>\n",
       "            </tr>\n",
       "            <tr>\n",
       "                        <th id=\"T_6462f81a_673a_11ec_942f_02420a394a24level0_row1\" class=\"row_heading level0 row1\" >2</th>\n",
       "                        <td id=\"T_6462f81a_673a_11ec_942f_02420a394a24row1_col0\" class=\"data row1 col0\" >1922</td>\n",
       "                        <td id=\"T_6462f81a_673a_11ec_942f_02420a394a24row1_col1\" class=\"data row1 col1\" >200</td>\n",
       "                        <td id=\"T_6462f81a_673a_11ec_942f_02420a394a24row1_col2\" class=\"data row1 col2\" >9.43%</td>\n",
       "            </tr>\n",
       "            <tr>\n",
       "                        <th id=\"T_6462f81a_673a_11ec_942f_02420a394a24level0_row2\" class=\"row_heading level0 row2\" >1</th>\n",
       "                        <td id=\"T_6462f81a_673a_11ec_942f_02420a394a24row2_col0\" class=\"data row2 col0\" >4402</td>\n",
       "                        <td id=\"T_6462f81a_673a_11ec_942f_02420a394a24row2_col1\" class=\"data row2 col1\" >442</td>\n",
       "                        <td id=\"T_6462f81a_673a_11ec_942f_02420a394a24row2_col2\" class=\"data row2 col2\" >9.12%</td>\n",
       "            </tr>\n",
       "            <tr>\n",
       "                        <th id=\"T_6462f81a_673a_11ec_942f_02420a394a24level0_row3\" class=\"row_heading level0 row3\" >3</th>\n",
       "                        <td id=\"T_6462f81a_673a_11ec_942f_02420a394a24row3_col0\" class=\"data row3 col0\" >302</td>\n",
       "                        <td id=\"T_6462f81a_673a_11ec_942f_02420a394a24row3_col1\" class=\"data row3 col1\" >27</td>\n",
       "                        <td id=\"T_6462f81a_673a_11ec_942f_02420a394a24row3_col2\" class=\"data row3 col2\" >8.21%</td>\n",
       "            </tr>\n",
       "            <tr>\n",
       "                        <th id=\"T_6462f81a_673a_11ec_942f_02420a394a24level0_row4\" class=\"row_heading level0 row4\" >0</th>\n",
       "                        <td id=\"T_6462f81a_673a_11ec_942f_02420a394a24row4_col0\" class=\"data row4 col0\" >12988</td>\n",
       "                        <td id=\"T_6462f81a_673a_11ec_942f_02420a394a24row4_col1\" class=\"data row4 col1\" >1059</td>\n",
       "                        <td id=\"T_6462f81a_673a_11ec_942f_02420a394a24row4_col2\" class=\"data row4 col2\" >7.54%</td>\n",
       "            </tr>\n",
       "            <tr>\n",
       "                        <th id=\"T_6462f81a_673a_11ec_942f_02420a394a24level0_row5\" class=\"row_heading level0 row5\" >5</th>\n",
       "                        <td id=\"T_6462f81a_673a_11ec_942f_02420a394a24row5_col0\" class=\"data row5 col0\" >9</td>\n",
       "                        <td id=\"T_6462f81a_673a_11ec_942f_02420a394a24row5_col1\" class=\"data row5 col1\" >0</td>\n",
       "                        <td id=\"T_6462f81a_673a_11ec_942f_02420a394a24row5_col2\" class=\"data row5 col2\" >0.00%</td>\n",
       "            </tr>\n",
       "    </tbody></table>"
      ],
      "text/plain": [
       "<pandas.io.formats.style.Styler at 0x7f95b15123d0>"
      ]
     },
     "metadata": {},
     "output_type": "display_data"
    }
   ],
   "source": [
    "print()\n",
    "print('Определение зависимости между количеством детей и возвратом кредита в срок')\n",
    "#report_children_count = data.groupby('children').agg({'debt': ['count', 'sum', 'mean']})\n",
    "#report_children_count.columns = ['Кол-во клиентов', 'Кол-во должников', 'Доля должников']\n",
    "#display(report_children_count.sort_values(by='Доля должников', ascending=False))\n",
    "#display(report_children_count.sort_values(by='Доля должников', ascending=False).style.format({'Доля должников':'{:.2%}'}))\n",
    "#print()\n",
    "\n",
    "report_children_pivot = data.pivot_table(index='children', columns='debt', values='income_type', aggfunc='count')\n",
    "report_children_pivot.columns = ['Нет должников', 'Есть должники']\n",
    "report_children_pivot['Доля должников'] = report_children_pivot['Есть должники'] / (report_children_pivot['Нет должников'] + report_children_pivot['Есть должники'])\n",
    "report_children_pivot = report_children_pivot.fillna(0)\n",
    "display(report_children_pivot.sort_values(by='Доля должников', ascending=False).style.format({'Доля должников':'{:.2%}'}))"
   ]
  },
  {
   "cell_type": "markdown",
   "metadata": {},
   "source": [
    "**Вывод**"
   ]
  },
  {
   "cell_type": "markdown",
   "metadata": {},
   "source": [
    "Из полученных таблиц можно сделать следующий вывод: должников среди тех клиентов, у которых детей нет - меньше, чем у клиентов с детьми (только что те клиенты, у которых пятеро детей, вообще ни разу не задолжали банку, но выборка слишком мала для обоснования вывода о том, что клиенты с 5 детьми никогда не имеют задолженностей, их в представленных данных - всего 9 человек и не является показательным случаем) и действительно - разница в результирующих долях по возврату кредитов не велика и не превышает 3%, явных перекосов не наблюдается, однако в любом случае процент клиентов, которые имели просрочку по кредиту, без детей меньше, чем \"должников\" с детьми."
   ]
  },
  {
   "cell_type": "markdown",
   "metadata": {},
   "source": [
    "- Есть ли зависимость между семейным положением и возвратом кредита в срок?"
   ]
  },
  {
   "cell_type": "markdown",
   "metadata": {},
   "source": [
    "Для определения зависимости между семейным положением и возвратом кредита в срок, необходимо сгруппировать данные по столбцу `семейное положение`:"
   ]
  },
  {
   "cell_type": "code",
   "execution_count": 40,
   "metadata": {},
   "outputs": [
    {
     "name": "stdout",
     "output_type": "stream",
     "text": [
      "\n",
      "Определение зависимости между семейным положением и возвратом кредита в срок\n"
     ]
    },
    {
     "data": {
      "text/html": [
       "<style  type=\"text/css\" >\n",
       "</style><table id=\"T_646d353c_673a_11ec_942f_02420a394a24\" ><thead>    <tr>        <th class=\"blank level0\" ></th>        <th class=\"col_heading level0 col0\" >Нет должников</th>        <th class=\"col_heading level0 col1\" >Есть должники</th>        <th class=\"col_heading level0 col2\" >Доля должников</th>    </tr>    <tr>        <th class=\"index_name level0\" >family_status</th>        <th class=\"blank\" ></th>        <th class=\"blank\" ></th>        <th class=\"blank\" ></th>    </tr></thead><tbody>\n",
       "                <tr>\n",
       "                        <th id=\"T_646d353c_673a_11ec_942f_02420a394a24level0_row0\" class=\"row_heading level0 row0\" >не женат / не замужем</th>\n",
       "                        <td id=\"T_646d353c_673a_11ec_942f_02420a394a24row0_col0\" class=\"data row0 col0\" >2529</td>\n",
       "                        <td id=\"T_646d353c_673a_11ec_942f_02420a394a24row0_col1\" class=\"data row0 col1\" >273</td>\n",
       "                        <td id=\"T_646d353c_673a_11ec_942f_02420a394a24row0_col2\" class=\"data row0 col2\" >9.74%</td>\n",
       "            </tr>\n",
       "            <tr>\n",
       "                        <th id=\"T_646d353c_673a_11ec_942f_02420a394a24level0_row1\" class=\"row_heading level0 row1\" >гражданский брак</th>\n",
       "                        <td id=\"T_646d353c_673a_11ec_942f_02420a394a24row1_col0\" class=\"data row1 col0\" >3743</td>\n",
       "                        <td id=\"T_646d353c_673a_11ec_942f_02420a394a24row1_col1\" class=\"data row1 col1\" >385</td>\n",
       "                        <td id=\"T_646d353c_673a_11ec_942f_02420a394a24row1_col2\" class=\"data row1 col2\" >9.33%</td>\n",
       "            </tr>\n",
       "            <tr>\n",
       "                        <th id=\"T_646d353c_673a_11ec_942f_02420a394a24level0_row2\" class=\"row_heading level0 row2\" >женат / замужем</th>\n",
       "                        <td id=\"T_646d353c_673a_11ec_942f_02420a394a24row2_col0\" class=\"data row2 col0\" >11389</td>\n",
       "                        <td id=\"T_646d353c_673a_11ec_942f_02420a394a24row2_col1\" class=\"data row2 col1\" >927</td>\n",
       "                        <td id=\"T_646d353c_673a_11ec_942f_02420a394a24row2_col2\" class=\"data row2 col2\" >7.53%</td>\n",
       "            </tr>\n",
       "            <tr>\n",
       "                        <th id=\"T_646d353c_673a_11ec_942f_02420a394a24level0_row3\" class=\"row_heading level0 row3\" >в разводе</th>\n",
       "                        <td id=\"T_646d353c_673a_11ec_942f_02420a394a24row3_col0\" class=\"data row3 col0\" >1104</td>\n",
       "                        <td id=\"T_646d353c_673a_11ec_942f_02420a394a24row3_col1\" class=\"data row3 col1\" >85</td>\n",
       "                        <td id=\"T_646d353c_673a_11ec_942f_02420a394a24row3_col2\" class=\"data row3 col2\" >7.15%</td>\n",
       "            </tr>\n",
       "            <tr>\n",
       "                        <th id=\"T_646d353c_673a_11ec_942f_02420a394a24level0_row4\" class=\"row_heading level0 row4\" >вдовец / вдова</th>\n",
       "                        <td id=\"T_646d353c_673a_11ec_942f_02420a394a24row4_col0\" class=\"data row4 col0\" >895</td>\n",
       "                        <td id=\"T_646d353c_673a_11ec_942f_02420a394a24row4_col1\" class=\"data row4 col1\" >62</td>\n",
       "                        <td id=\"T_646d353c_673a_11ec_942f_02420a394a24row4_col2\" class=\"data row4 col2\" >6.48%</td>\n",
       "            </tr>\n",
       "    </tbody></table>"
      ],
      "text/plain": [
       "<pandas.io.formats.style.Styler at 0x7f95a46077d0>"
      ]
     },
     "metadata": {},
     "output_type": "display_data"
    }
   ],
   "source": [
    "print()\n",
    "print('Определение зависимости между семейным положением и возвратом кредита в срок')\n",
    "#report_family = data.groupby('family_status').agg({'debt': ['count', 'sum', 'mean']})\n",
    "#report_family.columns = ['Кол-во клиентов', 'Кол-во должников', 'Доля должников']\n",
    "#display(report_family.sort_values(by='Доля должников', ascending=False).style.format({'Доля должников':'{:.2%}'}))\n",
    "\n",
    "report_family_pivot = data.pivot_table(index='family_status', columns='debt', values='income_type', aggfunc='count')\n",
    "report_family_pivot.columns = ['Нет должников', 'Есть должники']\n",
    "report_family_pivot['Доля должников'] = report_family_pivot['Есть должники'] / (report_family_pivot['Нет должников'] + report_family_pivot['Есть должники'])\n",
    "display(report_family_pivot.sort_values(by='Доля должников', ascending=False).style.format({'Доля должников':'{:.2%}'}))"
   ]
  },
  {
   "cell_type": "markdown",
   "metadata": {},
   "source": [
    "**Вывод**"
   ]
  },
  {
   "cell_type": "markdown",
   "metadata": {},
   "source": [
    "Не наблюдается зависимости между этими величинами. Распределение величин долей должников в зависимости от семейного положения более или менее равномерно, разброс колеблется в пределах 2-4%."
   ]
  },
  {
   "cell_type": "markdown",
   "metadata": {},
   "source": [
    "- Есть ли зависимость между уровнем дохода и возвратом кредита в срок?"
   ]
  },
  {
   "cell_type": "markdown",
   "metadata": {},
   "source": [
    "Для определения зависимости между уровнем дохода и возвратом кредита в срок, необходимо сгруппировать данные по столбцу `категория дохода`:"
   ]
  },
  {
   "cell_type": "code",
   "execution_count": 41,
   "metadata": {},
   "outputs": [
    {
     "name": "stdout",
     "output_type": "stream",
     "text": [
      "\n",
      "Определение зависимости между уровнем дохода и возвратом кредита в срок\n"
     ]
    },
    {
     "data": {
      "text/html": [
       "<style  type=\"text/css\" >\n",
       "</style><table id=\"T_64728bb8_673a_11ec_942f_02420a394a24\" ><thead>    <tr>        <th class=\"blank level0\" ></th>        <th class=\"col_heading level0 col0\" >Нет должников</th>        <th class=\"col_heading level0 col1\" >Есть должники</th>        <th class=\"col_heading level0 col2\" >Доля должников</th>    </tr>    <tr>        <th class=\"index_name level0\" >income_category</th>        <th class=\"blank\" ></th>        <th class=\"blank\" ></th>        <th class=\"blank\" ></th>    </tr></thead><tbody>\n",
       "                <tr>\n",
       "                        <th id=\"T_64728bb8_673a_11ec_942f_02420a394a24level0_row0\" class=\"row_heading level0 row0\" >средний доход</th>\n",
       "                        <td id=\"T_64728bb8_673a_11ec_942f_02420a394a24row0_col0\" class=\"data row0 col0\" >8438</td>\n",
       "                        <td id=\"T_64728bb8_673a_11ec_942f_02420a394a24row0_col1\" class=\"data row0 col1\" >794</td>\n",
       "                        <td id=\"T_64728bb8_673a_11ec_942f_02420a394a24row0_col2\" class=\"data row0 col2\" >8.60%</td>\n",
       "            </tr>\n",
       "            <tr>\n",
       "                        <th id=\"T_64728bb8_673a_11ec_942f_02420a394a24level0_row1\" class=\"row_heading level0 row1\" >высокий доход</th>\n",
       "                        <td id=\"T_64728bb8_673a_11ec_942f_02420a394a24row1_col0\" class=\"data row1 col0\" >9759</td>\n",
       "                        <td id=\"T_64728bb8_673a_11ec_942f_02420a394a24row1_col1\" class=\"data row1 col1\" >830</td>\n",
       "                        <td id=\"T_64728bb8_673a_11ec_942f_02420a394a24row1_col2\" class=\"data row1 col2\" >7.84%</td>\n",
       "            </tr>\n",
       "            <tr>\n",
       "                        <th id=\"T_64728bb8_673a_11ec_942f_02420a394a24level0_row2\" class=\"row_heading level0 row2\" >низкий доход</th>\n",
       "                        <td id=\"T_64728bb8_673a_11ec_942f_02420a394a24row2_col0\" class=\"data row2 col0\" >1463</td>\n",
       "                        <td id=\"T_64728bb8_673a_11ec_942f_02420a394a24row2_col1\" class=\"data row2 col1\" >108</td>\n",
       "                        <td id=\"T_64728bb8_673a_11ec_942f_02420a394a24row2_col2\" class=\"data row2 col2\" >6.87%</td>\n",
       "            </tr>\n",
       "    </tbody></table>"
      ],
      "text/plain": [
       "<pandas.io.formats.style.Styler at 0x7f95a463a090>"
      ]
     },
     "metadata": {},
     "output_type": "display_data"
    }
   ],
   "source": [
    "print()\n",
    "print('Определение зависимости между уровнем дохода и возвратом кредита в срок')\n",
    "#report_income = data.groupby('income_category').agg({'debt': ['count', 'sum', 'mean']})\n",
    "#report_income.columns = ['Кол-во клиентов', 'Кол-во должников', 'Доля должников']\n",
    "#display(report_income.sort_values(by='Доля должников', ascending=False).style.format({'Доля должников':'{:.2%}'}))\n",
    "\n",
    "report_income_pivot = data.pivot_table(index='income_category', columns='debt', values='income_type', aggfunc='count')\n",
    "report_income_pivot.columns = ['Нет должников', 'Есть должники']\n",
    "report_income_pivot['Доля должников'] = report_income_pivot['Есть должники'] / (report_income_pivot['Нет должников'] + report_income_pivot['Есть должники'])\n",
    "display(report_income_pivot.sort_values(by='Доля должников', ascending=False).style.format({'Доля должников':'{:.2%}'}))"
   ]
  },
  {
   "cell_type": "markdown",
   "metadata": {},
   "source": [
    "**Вывод**"
   ]
  },
  {
   "cell_type": "markdown",
   "metadata": {},
   "source": [
    "Из полученной таблицы можно сделать следующий вывод: клиенты с низким уровнем дохода меньше всего берут кредиты, тогда как клиенты с высоким и средним доходом берут кредиты примерно одинаково, однако на возврат кредита в срок данный уровень никак не влияет. Распределение величин долей должников по-прежнему равномерно распределено."
   ]
  },
  {
   "cell_type": "markdown",
   "metadata": {},
   "source": [
    "- Как разные цели кредита влияют на его возврат в срок?"
   ]
  },
  {
   "cell_type": "markdown",
   "metadata": {},
   "source": [
    "Для ответа на данный вопрос построим распределение доли должников в группах по цели получения кредита. Для этого необходимо сгруппировать данные по столбцу `категория цели`:"
   ]
  },
  {
   "cell_type": "code",
   "execution_count": 42,
   "metadata": {},
   "outputs": [
    {
     "name": "stdout",
     "output_type": "stream",
     "text": [
      "\n",
      "Как разные цели кредита влияют на его возврат в срок\n"
     ]
    },
    {
     "data": {
      "text/html": [
       "<style  type=\"text/css\" >\n",
       "</style><table id=\"T_647c55c6_673a_11ec_942f_02420a394a24\" ><thead>    <tr>        <th class=\"blank level0\" ></th>        <th class=\"col_heading level0 col0\" >Нет должников</th>        <th class=\"col_heading level0 col1\" >Есть должники</th>        <th class=\"col_heading level0 col2\" >Доля должников</th>    </tr>    <tr>        <th class=\"index_name level0\" >purpose_category</th>        <th class=\"blank\" ></th>        <th class=\"blank\" ></th>        <th class=\"blank\" ></th>    </tr></thead><tbody>\n",
       "                <tr>\n",
       "                        <th id=\"T_647c55c6_673a_11ec_942f_02420a394a24level0_row0\" class=\"row_heading level0 row0\" >автомобиль</th>\n",
       "                        <td id=\"T_647c55c6_673a_11ec_942f_02420a394a24row0_col0\" class=\"data row0 col0\" >3897</td>\n",
       "                        <td id=\"T_647c55c6_673a_11ec_942f_02420a394a24row0_col1\" class=\"data row0 col1\" >400</td>\n",
       "                        <td id=\"T_647c55c6_673a_11ec_942f_02420a394a24row0_col2\" class=\"data row0 col2\" >9.31%</td>\n",
       "            </tr>\n",
       "            <tr>\n",
       "                        <th id=\"T_647c55c6_673a_11ec_942f_02420a394a24level0_row1\" class=\"row_heading level0 row1\" >образование</th>\n",
       "                        <td id=\"T_647c55c6_673a_11ec_942f_02420a394a24row1_col0\" class=\"data row1 col0\" >3632</td>\n",
       "                        <td id=\"T_647c55c6_673a_11ec_942f_02420a394a24row1_col1\" class=\"data row1 col1\" >367</td>\n",
       "                        <td id=\"T_647c55c6_673a_11ec_942f_02420a394a24row1_col2\" class=\"data row1 col2\" >9.18%</td>\n",
       "            </tr>\n",
       "            <tr>\n",
       "                        <th id=\"T_647c55c6_673a_11ec_942f_02420a394a24level0_row2\" class=\"row_heading level0 row2\" >свадьба</th>\n",
       "                        <td id=\"T_647c55c6_673a_11ec_942f_02420a394a24row2_col0\" class=\"data row2 col0\" >2125</td>\n",
       "                        <td id=\"T_647c55c6_673a_11ec_942f_02420a394a24row2_col1\" class=\"data row2 col1\" >184</td>\n",
       "                        <td id=\"T_647c55c6_673a_11ec_942f_02420a394a24row2_col2\" class=\"data row2 col2\" >7.97%</td>\n",
       "            </tr>\n",
       "            <tr>\n",
       "                        <th id=\"T_647c55c6_673a_11ec_942f_02420a394a24level0_row3\" class=\"row_heading level0 row3\" >недвижимость</th>\n",
       "                        <td id=\"T_647c55c6_673a_11ec_942f_02420a394a24row3_col0\" class=\"data row3 col0\" >10006</td>\n",
       "                        <td id=\"T_647c55c6_673a_11ec_942f_02420a394a24row3_col1\" class=\"data row3 col1\" >781</td>\n",
       "                        <td id=\"T_647c55c6_673a_11ec_942f_02420a394a24row3_col2\" class=\"data row3 col2\" >7.24%</td>\n",
       "            </tr>\n",
       "    </tbody></table>"
      ],
      "text/plain": [
       "<pandas.io.formats.style.Styler at 0x7f95a8aa8990>"
      ]
     },
     "metadata": {},
     "output_type": "display_data"
    }
   ],
   "source": [
    "print()\n",
    "print('Как разные цели кредита влияют на его возврат в срок')\n",
    "#report_purpose = data.groupby('purpose_category').agg({'debt': ['count', 'sum', 'mean']})\n",
    "#report_purpose.columns = ['Кол-во клиентов', 'Кол-во должников', 'Доля должников']\n",
    "#display(report_purpose.sort_values(by='Доля должников', ascending=False).style.format({'Доля должников':'{:.2%}'}))\n",
    "\n",
    "report_purpose_pivot = data.pivot_table(index='purpose_category', columns='debt', values='income_type', aggfunc='count')\n",
    "report_purpose_pivot.columns = ['Нет должников', 'Есть должники']\n",
    "report_purpose_pivot['Доля должников'] = report_purpose_pivot['Есть должники'] / (report_purpose_pivot['Нет должников'] + report_purpose_pivot['Есть должники'])\n",
    "display(report_purpose_pivot.sort_values(by='Доля должников', ascending=False).style.format({'Доля должников':'{:.2%}'}))"
   ]
  },
  {
   "cell_type": "markdown",
   "metadata": {},
   "source": [
    "**Вывод**"
   ]
  },
  {
   "cell_type": "markdown",
   "metadata": {},
   "source": [
    "Из полученной таблицы можно сделать следующий вывод, что у клиентов, берущих кредит на образование и на все, что связано с автомобилями, дела с возвратом кредита в срок обстоят хуже, чем у тех клиентов, кто берет заемные средства на организацию свадебного торжества. А из всех клиентов с больше процентной вероятностью отдадут кредит в срок те, кто берет его на все, что связано с недвижимостью (покупка, ремонт, строительство и пр.)."
   ]
  },
  {
   "cell_type": "markdown",
   "metadata": {},
   "source": [
    "## Шаг 4. Общий вывод"
   ]
  },
  {
   "cell_type": "markdown",
   "metadata": {},
   "source": [
    "Получен файл, собранный из нескольких источников, с информацией о платежеспособности клиентов банков.\n",
    "\n",
    "Данные из таблицы прошли полную предобработку, включающую в себя:\n",
    "   * определение и заполнение пропущенных значений, появившихся скорее всего в связи с объединением данных из нескольких БД;\n",
    "   * удаление дубликатов;\n",
    "   * приведение данных к единообразному виду в соответствии со здравым смыслом (изменение регистра, удаление ряда знаков после запятой в колонках, где такая точность нецелесообразна);\n",
    "   * исправление некорректных данных;\n",
    "   * категоризацию данных в целях получения решения поставленных конкретных задач;\n",
    "\n",
    "Что касается технической части вопроса, то тут нужно обязательно обратить внимание на качество исходных данных. Огромное количество данных прошло корректировку в процессе предварительной предобработки. Скорее всего появление ошибок, пропусков и дубликатов связано со слиянием данных в общую таблицу из нескольких источников, тогда как эти данные в различных источниках представлены в разных форматах! В одном источнике это дни, в другом - часы, формат представления трудового стажа в некоторых источниках - это отрицательные значения и пр. Перед слиянием таблиц необходима дополнительная проверка.\n",
    "\n",
    "В результате проведенных исследований по скорректированным данным сделаны следующие выводы:\n",
    "   * существует зависимость между наличием детей и возвратом кредита в срок. Вероятнее кредит без задолженностей отдаст клиент, не имеющий детей.\n",
    "   * нет зависимости между семейным положением и возвратом кредита в срок.\n",
    "   * также нет зависимости между уровнем дохода и возвратом кредита в срок. Однако точно выяснено, что клиенты с низким уровнем дохода берут кредиты на порядки реже, чем клиенты со средним и выскоим уровнями доходов.\n",
    "   * определено, что у клиентов, берущих кредит на образование и на все, что связано с автомобилями, дела с возвратом кредита в срок обстоят хуже, чем у тех клиентов, кто берет заемные средства на организацию свадебного торжества. А из всех клиентов с больше процентной вероятностью отдадут кредит в срок те, кто берет его на все, что связано с недвижимостью (покупка, ремонт, строительство и пр.).\n",
    "\n",
    "Из вышесказанного можно сделать общий вывод о том, что потенциальный клиент без детей с большей вероятностью будет без задолженностей платить по кредиту, особенно, если этот кредит берется на любые операции с недвижимостью. Также, если у клиента есть дети и кредит берется на образование или автомобиль, то вероятность пройти кредит без долгов не на много, но все-таки снижается. Семейное положение и уровень дохода в данном случае никак не повлияет на возврат кредита в срок."
   ]
  }
 ],
 "metadata": {
  "ExecuteTimeLog": [
   {
    "duration": 805,
    "start_time": "2021-12-17T21:24:58.184Z"
   },
   {
    "duration": 82,
    "start_time": "2021-12-17T21:26:31.380Z"
   },
   {
    "duration": 94,
    "start_time": "2021-12-17T21:30:45.419Z"
   },
   {
    "duration": 842,
    "start_time": "2021-12-18T10:32:38.765Z"
   },
   {
    "duration": 89,
    "start_time": "2021-12-18T10:32:52.403Z"
   },
   {
    "duration": 90,
    "start_time": "2021-12-18T10:33:13.440Z"
   },
   {
    "duration": 87,
    "start_time": "2021-12-18T10:33:46.512Z"
   },
   {
    "duration": 88,
    "start_time": "2021-12-18T10:34:08.356Z"
   },
   {
    "duration": 89,
    "start_time": "2021-12-18T10:34:15.559Z"
   },
   {
    "duration": 96,
    "start_time": "2021-12-18T10:34:40.702Z"
   },
   {
    "duration": 95,
    "start_time": "2021-12-18T10:34:56.707Z"
   },
   {
    "duration": 100,
    "start_time": "2021-12-18T10:49:30.074Z"
   },
   {
    "duration": 5,
    "start_time": "2021-12-18T10:50:39.618Z"
   },
   {
    "duration": 27,
    "start_time": "2021-12-18T10:53:12.536Z"
   },
   {
    "duration": 830,
    "start_time": "2021-12-18T10:55:21.536Z"
   },
   {
    "duration": 287,
    "start_time": "2021-12-18T10:55:30.226Z"
   },
   {
    "duration": 27,
    "start_time": "2021-12-18T10:55:59.260Z"
   },
   {
    "duration": 8,
    "start_time": "2021-12-18T11:00:27.859Z"
   },
   {
    "duration": 337,
    "start_time": "2021-12-18T11:01:33.511Z"
   },
   {
    "duration": 8,
    "start_time": "2021-12-18T11:03:02.818Z"
   },
   {
    "duration": 12,
    "start_time": "2021-12-18T11:03:51.695Z"
   },
   {
    "duration": 18,
    "start_time": "2021-12-18T11:04:09.750Z"
   },
   {
    "duration": 14,
    "start_time": "2021-12-18T11:04:44.682Z"
   },
   {
    "duration": 15,
    "start_time": "2021-12-18T11:09:41.901Z"
   },
   {
    "duration": 6281,
    "start_time": "2021-12-18T11:10:13.314Z"
   },
   {
    "duration": 14,
    "start_time": "2021-12-18T11:11:01.903Z"
   },
   {
    "duration": 14,
    "start_time": "2021-12-18T11:11:13.377Z"
   },
   {
    "duration": 13,
    "start_time": "2021-12-18T11:11:24.988Z"
   },
   {
    "duration": 13,
    "start_time": "2021-12-18T11:31:59.533Z"
   },
   {
    "duration": 10,
    "start_time": "2021-12-18T11:34:13.425Z"
   },
   {
    "duration": 78,
    "start_time": "2021-12-18T11:40:19.821Z"
   },
   {
    "duration": 10,
    "start_time": "2021-12-18T11:40:35.815Z"
   },
   {
    "duration": 10,
    "start_time": "2021-12-18T11:40:42.901Z"
   },
   {
    "duration": 12,
    "start_time": "2021-12-18T11:40:48.507Z"
   },
   {
    "duration": 11,
    "start_time": "2021-12-18T11:41:56.381Z"
   },
   {
    "duration": 11,
    "start_time": "2021-12-18T11:43:13.321Z"
   },
   {
    "duration": 12,
    "start_time": "2021-12-18T11:43:28.426Z"
   },
   {
    "duration": 774,
    "start_time": "2021-12-18T14:36:10.153Z"
   },
   {
    "duration": 14,
    "start_time": "2021-12-18T14:36:12.810Z"
   },
   {
    "duration": 13,
    "start_time": "2021-12-18T14:36:16.910Z"
   },
   {
    "duration": 25,
    "start_time": "2021-12-18T14:36:19.938Z"
   },
   {
    "duration": 31,
    "start_time": "2021-12-18T14:36:42.837Z"
   },
   {
    "duration": 33,
    "start_time": "2021-12-18T14:39:58.144Z"
   },
   {
    "duration": 47,
    "start_time": "2021-12-18T14:41:04.743Z"
   },
   {
    "duration": 77,
    "start_time": "2021-12-18T14:45:04.838Z"
   },
   {
    "duration": 77,
    "start_time": "2021-12-18T14:45:19.639Z"
   },
   {
    "duration": 80,
    "start_time": "2021-12-18T14:50:08.677Z"
   },
   {
    "duration": 87,
    "start_time": "2021-12-18T14:52:25.852Z"
   },
   {
    "duration": 88,
    "start_time": "2021-12-18T14:52:44.602Z"
   },
   {
    "duration": 91,
    "start_time": "2021-12-18T14:54:04.277Z"
   },
   {
    "duration": 87,
    "start_time": "2021-12-18T14:54:44.342Z"
   },
   {
    "duration": 86,
    "start_time": "2021-12-18T14:54:52.804Z"
   },
   {
    "duration": 14,
    "start_time": "2021-12-18T14:54:57.688Z"
   },
   {
    "duration": 10,
    "start_time": "2021-12-18T14:55:01.828Z"
   },
   {
    "duration": 89,
    "start_time": "2021-12-18T14:55:07.478Z"
   },
   {
    "duration": 15,
    "start_time": "2021-12-18T14:57:14.502Z"
   },
   {
    "duration": 423,
    "start_time": "2021-12-18T15:04:46.094Z"
   },
   {
    "duration": 332,
    "start_time": "2021-12-18T15:04:59.369Z"
   },
   {
    "duration": 315,
    "start_time": "2021-12-18T15:05:17.070Z"
   },
   {
    "duration": 21,
    "start_time": "2021-12-18T15:05:33.834Z"
   },
   {
    "duration": 12,
    "start_time": "2021-12-18T15:05:44.141Z"
   },
   {
    "duration": 12,
    "start_time": "2021-12-18T15:07:12.983Z"
   },
   {
    "duration": 92,
    "start_time": "2021-12-18T15:07:18.113Z"
   },
   {
    "duration": 12,
    "start_time": "2021-12-18T15:07:23.554Z"
   },
   {
    "duration": 14,
    "start_time": "2021-12-18T15:08:23.307Z"
   },
   {
    "duration": 86,
    "start_time": "2021-12-18T15:11:56.543Z"
   },
   {
    "duration": 16,
    "start_time": "2021-12-18T15:13:43.264Z"
   },
   {
    "duration": 11,
    "start_time": "2021-12-18T15:19:15.498Z"
   },
   {
    "duration": 88,
    "start_time": "2021-12-18T15:30:33.953Z"
   },
   {
    "duration": 14,
    "start_time": "2021-12-18T15:46:54.959Z"
   },
   {
    "duration": 85,
    "start_time": "2021-12-18T15:52:53.190Z"
   },
   {
    "duration": 12,
    "start_time": "2021-12-18T15:52:56.317Z"
   },
   {
    "duration": 15,
    "start_time": "2021-12-18T15:52:59.573Z"
   },
   {
    "duration": 90,
    "start_time": "2021-12-18T15:55:06.939Z"
   },
   {
    "duration": 619,
    "start_time": "2021-12-19T18:13:37.581Z"
   },
   {
    "duration": 8,
    "start_time": "2021-12-19T18:13:42.441Z"
   },
   {
    "duration": 10,
    "start_time": "2021-12-19T18:13:44.125Z"
   },
   {
    "duration": 8,
    "start_time": "2021-12-19T18:13:46.304Z"
   },
   {
    "duration": 57,
    "start_time": "2021-12-19T18:13:48.296Z"
   },
   {
    "duration": 9,
    "start_time": "2021-12-19T18:13:53.995Z"
   },
   {
    "duration": 79,
    "start_time": "2021-12-19T18:13:57.416Z"
   },
   {
    "duration": 8,
    "start_time": "2021-12-19T18:14:07.524Z"
   },
   {
    "duration": 15,
    "start_time": "2021-12-19T18:20:59.230Z"
   },
   {
    "duration": 8,
    "start_time": "2021-12-19T18:56:20.276Z"
   },
   {
    "duration": 13,
    "start_time": "2021-12-19T19:05:09.994Z"
   },
   {
    "duration": 12,
    "start_time": "2021-12-19T19:05:37.994Z"
   },
   {
    "duration": 4,
    "start_time": "2021-12-19T19:06:47.865Z"
   },
   {
    "duration": 11,
    "start_time": "2021-12-19T19:07:28.647Z"
   },
   {
    "duration": 2,
    "start_time": "2021-12-19T19:22:25.830Z"
   },
   {
    "duration": 2,
    "start_time": "2021-12-19T19:22:28.909Z"
   },
   {
    "duration": 2,
    "start_time": "2021-12-19T19:22:33.843Z"
   },
   {
    "duration": 7,
    "start_time": "2021-12-19T19:23:26.413Z"
   },
   {
    "duration": 253,
    "start_time": "2021-12-19T19:23:44.115Z"
   },
   {
    "duration": 68,
    "start_time": "2021-12-19T19:24:10.498Z"
   },
   {
    "duration": 5,
    "start_time": "2021-12-19T19:24:16.994Z"
   },
   {
    "duration": 5,
    "start_time": "2021-12-19T19:25:47.712Z"
   },
   {
    "duration": 5,
    "start_time": "2021-12-19T19:26:09.167Z"
   },
   {
    "duration": 5,
    "start_time": "2021-12-19T19:27:11.774Z"
   },
   {
    "duration": 6,
    "start_time": "2021-12-19T19:28:47.037Z"
   },
   {
    "duration": 61,
    "start_time": "2021-12-19T19:28:53.606Z"
   },
   {
    "duration": 9,
    "start_time": "2021-12-19T19:28:55.806Z"
   },
   {
    "duration": 10,
    "start_time": "2021-12-19T19:28:56.877Z"
   },
   {
    "duration": 8,
    "start_time": "2021-12-19T19:29:06.004Z"
   },
   {
    "duration": 58,
    "start_time": "2021-12-19T19:29:08.133Z"
   },
   {
    "duration": 9,
    "start_time": "2021-12-19T19:29:09.711Z"
   },
   {
    "duration": 7,
    "start_time": "2021-12-19T19:29:14.248Z"
   },
   {
    "duration": 10,
    "start_time": "2021-12-19T19:30:20.962Z"
   },
   {
    "duration": 11,
    "start_time": "2021-12-19T19:31:46.514Z"
   },
   {
    "duration": 60,
    "start_time": "2021-12-19T19:39:10.707Z"
   },
   {
    "duration": 11,
    "start_time": "2021-12-19T19:39:24.759Z"
   },
   {
    "duration": 12,
    "start_time": "2021-12-19T19:39:29.524Z"
   },
   {
    "duration": 66,
    "start_time": "2021-12-19T19:41:08.129Z"
   },
   {
    "duration": 87,
    "start_time": "2021-12-19T19:41:23.506Z"
   },
   {
    "duration": 58,
    "start_time": "2021-12-19T19:42:38.416Z"
   },
   {
    "duration": 66,
    "start_time": "2021-12-19T19:43:15.699Z"
   },
   {
    "duration": 65,
    "start_time": "2021-12-19T19:43:26.331Z"
   },
   {
    "duration": 8,
    "start_time": "2021-12-19T19:44:22.396Z"
   },
   {
    "duration": 25,
    "start_time": "2021-12-19T19:51:29.120Z"
   },
   {
    "duration": 26,
    "start_time": "2021-12-19T19:51:54.004Z"
   },
   {
    "duration": 38,
    "start_time": "2021-12-19T19:53:18.830Z"
   },
   {
    "duration": 36,
    "start_time": "2021-12-19T19:55:33.497Z"
   },
   {
    "duration": 41,
    "start_time": "2021-12-19T19:56:04.466Z"
   },
   {
    "duration": 35,
    "start_time": "2021-12-19T19:56:33.170Z"
   },
   {
    "duration": 221,
    "start_time": "2021-12-19T19:58:17.121Z"
   },
   {
    "duration": 192,
    "start_time": "2021-12-19T20:03:12.237Z"
   },
   {
    "duration": 194,
    "start_time": "2021-12-19T20:04:13.464Z"
   },
   {
    "duration": 262,
    "start_time": "2021-12-19T20:05:49.985Z"
   },
   {
    "duration": 198,
    "start_time": "2021-12-19T20:06:23.346Z"
   },
   {
    "duration": 191,
    "start_time": "2021-12-19T20:07:27.065Z"
   },
   {
    "duration": 192,
    "start_time": "2021-12-19T20:42:22.568Z"
   },
   {
    "duration": 10,
    "start_time": "2021-12-19T20:42:32.118Z"
   },
   {
    "duration": 5,
    "start_time": "2021-12-19T20:44:12.638Z"
   },
   {
    "duration": 63,
    "start_time": "2021-12-19T20:45:05.395Z"
   },
   {
    "duration": 4,
    "start_time": "2021-12-19T20:45:24.769Z"
   },
   {
    "duration": 187,
    "start_time": "2021-12-19T20:46:34.180Z"
   },
   {
    "duration": 259,
    "start_time": "2021-12-19T20:46:49.599Z"
   },
   {
    "duration": 8,
    "start_time": "2021-12-19T20:48:47.912Z"
   },
   {
    "duration": 8,
    "start_time": "2021-12-19T20:49:06.561Z"
   },
   {
    "duration": 27,
    "start_time": "2021-12-19T20:49:54.249Z"
   },
   {
    "duration": 54,
    "start_time": "2021-12-19T20:56:09.984Z"
   },
   {
    "duration": 27,
    "start_time": "2021-12-19T20:56:34.047Z"
   },
   {
    "duration": 38,
    "start_time": "2021-12-19T20:57:17.402Z"
   },
   {
    "duration": 196,
    "start_time": "2021-12-19T21:16:11.721Z"
   },
   {
    "duration": 213,
    "start_time": "2021-12-19T21:19:48.813Z"
   },
   {
    "duration": 66,
    "start_time": "2021-12-19T21:22:02.508Z"
   },
   {
    "duration": 9,
    "start_time": "2021-12-19T21:22:06.083Z"
   },
   {
    "duration": 13,
    "start_time": "2021-12-19T21:22:07.084Z"
   },
   {
    "duration": 8,
    "start_time": "2021-12-19T21:22:07.926Z"
   },
   {
    "duration": 65,
    "start_time": "2021-12-19T21:22:08.952Z"
   },
   {
    "duration": 9,
    "start_time": "2021-12-19T21:22:10.127Z"
   },
   {
    "duration": 8,
    "start_time": "2021-12-19T21:22:49.321Z"
   },
   {
    "duration": 64,
    "start_time": "2021-12-19T21:22:54.992Z"
   },
   {
    "duration": 9,
    "start_time": "2021-12-19T21:22:56.769Z"
   },
   {
    "duration": 10,
    "start_time": "2021-12-19T21:22:57.581Z"
   },
   {
    "duration": 9,
    "start_time": "2021-12-19T21:22:58.339Z"
   },
   {
    "duration": 64,
    "start_time": "2021-12-19T21:22:59.262Z"
   },
   {
    "duration": 16,
    "start_time": "2021-12-19T21:23:00.295Z"
   },
   {
    "duration": 7,
    "start_time": "2021-12-19T21:23:03.725Z"
   },
   {
    "duration": 11,
    "start_time": "2021-12-19T21:23:10.244Z"
   },
   {
    "duration": 32,
    "start_time": "2021-12-19T21:23:47.161Z"
   },
   {
    "duration": 6,
    "start_time": "2021-12-19T21:29:48.676Z"
   },
   {
    "duration": 27,
    "start_time": "2021-12-19T21:29:53.349Z"
   },
   {
    "duration": 29,
    "start_time": "2021-12-19T21:32:15.632Z"
   },
   {
    "duration": 31,
    "start_time": "2021-12-19T21:33:52.953Z"
   },
   {
    "duration": 30,
    "start_time": "2021-12-19T21:33:57.054Z"
   },
   {
    "duration": 29,
    "start_time": "2021-12-19T21:34:01.640Z"
   },
   {
    "duration": 8,
    "start_time": "2021-12-19T21:43:31.587Z"
   },
   {
    "duration": 6,
    "start_time": "2021-12-19T21:43:35.718Z"
   },
   {
    "duration": 6,
    "start_time": "2021-12-19T21:51:25.673Z"
   },
   {
    "duration": 5,
    "start_time": "2021-12-19T21:52:41.076Z"
   },
   {
    "duration": 61,
    "start_time": "2021-12-19T22:02:49.531Z"
   },
   {
    "duration": 64,
    "start_time": "2021-12-19T22:03:35.692Z"
   },
   {
    "duration": 61,
    "start_time": "2021-12-19T22:03:49.456Z"
   },
   {
    "duration": 63,
    "start_time": "2021-12-19T22:05:41.108Z"
   },
   {
    "duration": 8,
    "start_time": "2021-12-19T22:05:43.300Z"
   },
   {
    "duration": 10,
    "start_time": "2021-12-19T22:05:44.447Z"
   },
   {
    "duration": 7,
    "start_time": "2021-12-19T22:05:46.002Z"
   },
   {
    "duration": 614,
    "start_time": "2021-12-19T22:05:49.119Z"
   },
   {
    "duration": 8,
    "start_time": "2021-12-19T22:06:20.945Z"
   },
   {
    "duration": 88,
    "start_time": "2021-12-19T22:06:34.602Z"
   },
   {
    "duration": 9,
    "start_time": "2021-12-19T22:06:39.949Z"
   },
   {
    "duration": 8,
    "start_time": "2021-12-19T22:07:38.369Z"
   },
   {
    "duration": 30,
    "start_time": "2021-12-19T22:08:11.370Z"
   },
   {
    "duration": 81,
    "start_time": "2021-12-19T22:14:46.829Z"
   },
   {
    "duration": 204,
    "start_time": "2021-12-19T22:14:54.181Z"
   },
   {
    "duration": 201,
    "start_time": "2021-12-19T22:16:01.518Z"
   },
   {
    "duration": 3,
    "start_time": "2021-12-19T22:16:55.928Z"
   },
   {
    "duration": 6,
    "start_time": "2021-12-19T22:17:36.558Z"
   },
   {
    "duration": 6,
    "start_time": "2021-12-19T22:17:45.956Z"
   },
   {
    "duration": 3293,
    "start_time": "2021-12-19T22:20:03.103Z"
   },
   {
    "duration": 5,
    "start_time": "2021-12-19T22:20:28.882Z"
   },
   {
    "duration": 9,
    "start_time": "2021-12-19T22:21:21.096Z"
   },
   {
    "duration": 7,
    "start_time": "2021-12-19T22:21:37.647Z"
   },
   {
    "duration": 81,
    "start_time": "2021-12-19T22:22:31.924Z"
   },
   {
    "duration": 7,
    "start_time": "2021-12-19T22:22:57.447Z"
   },
   {
    "duration": 14,
    "start_time": "2021-12-19T22:46:30.184Z"
   },
   {
    "duration": 13,
    "start_time": "2021-12-19T22:46:34.625Z"
   },
   {
    "duration": 10,
    "start_time": "2021-12-19T22:47:30.817Z"
   },
   {
    "duration": 3,
    "start_time": "2021-12-19T22:48:17.943Z"
   },
   {
    "duration": 18,
    "start_time": "2021-12-19T22:50:55.707Z"
   },
   {
    "duration": 18,
    "start_time": "2021-12-19T22:51:05.462Z"
   },
   {
    "duration": 5,
    "start_time": "2021-12-19T22:51:48.949Z"
   },
   {
    "duration": 6,
    "start_time": "2021-12-19T22:52:07.402Z"
   },
   {
    "duration": 65,
    "start_time": "2021-12-19T22:52:57.292Z"
   },
   {
    "duration": 21,
    "start_time": "2021-12-19T22:53:08.643Z"
   },
   {
    "duration": 6,
    "start_time": "2021-12-19T22:55:21.090Z"
   },
   {
    "duration": 5,
    "start_time": "2021-12-19T23:06:00.326Z"
   },
   {
    "duration": 5,
    "start_time": "2021-12-19T23:06:22.330Z"
   },
   {
    "duration": 6,
    "start_time": "2021-12-19T23:07:13.508Z"
   },
   {
    "duration": 5,
    "start_time": "2021-12-19T23:07:41.947Z"
   },
   {
    "duration": 2418,
    "start_time": "2021-12-19T23:07:55.911Z"
   },
   {
    "duration": 2439,
    "start_time": "2021-12-19T23:08:24.004Z"
   },
   {
    "duration": 91,
    "start_time": "2021-12-19T23:08:50.409Z"
   },
   {
    "duration": 9,
    "start_time": "2021-12-19T23:08:51.990Z"
   },
   {
    "duration": 9,
    "start_time": "2021-12-19T23:08:52.453Z"
   },
   {
    "duration": 8,
    "start_time": "2021-12-19T23:08:52.920Z"
   },
   {
    "duration": 81,
    "start_time": "2021-12-19T23:08:53.507Z"
   },
   {
    "duration": 8,
    "start_time": "2021-12-19T23:08:54.872Z"
   },
   {
    "duration": 7,
    "start_time": "2021-12-19T23:08:57.480Z"
   },
   {
    "duration": 30,
    "start_time": "2021-12-19T23:09:00.033Z"
   },
   {
    "duration": 5,
    "start_time": "2021-12-19T23:09:05.528Z"
   },
   {
    "duration": 7,
    "start_time": "2021-12-19T23:09:08.974Z"
   },
   {
    "duration": 7,
    "start_time": "2021-12-19T23:09:16.339Z"
   },
   {
    "duration": 11,
    "start_time": "2021-12-19T23:09:28.518Z"
   },
   {
    "duration": 8,
    "start_time": "2021-12-19T23:10:06.166Z"
   },
   {
    "duration": 6,
    "start_time": "2021-12-19T23:10:55.512Z"
   },
   {
    "duration": 13,
    "start_time": "2021-12-19T23:11:15.895Z"
   },
   {
    "duration": 61,
    "start_time": "2021-12-19T23:14:22.158Z"
   },
   {
    "duration": 8,
    "start_time": "2021-12-19T23:14:23.286Z"
   },
   {
    "duration": 10,
    "start_time": "2021-12-19T23:14:23.892Z"
   },
   {
    "duration": 7,
    "start_time": "2021-12-19T23:14:24.215Z"
   },
   {
    "duration": 81,
    "start_time": "2021-12-19T23:14:24.664Z"
   },
   {
    "duration": 8,
    "start_time": "2021-12-19T23:14:25.115Z"
   },
   {
    "duration": 8,
    "start_time": "2021-12-19T23:14:26.299Z"
   },
   {
    "duration": 29,
    "start_time": "2021-12-19T23:14:27.696Z"
   },
   {
    "duration": 5,
    "start_time": "2021-12-19T23:14:30.488Z"
   },
   {
    "duration": 6,
    "start_time": "2021-12-19T23:14:32.004Z"
   },
   {
    "duration": 7,
    "start_time": "2021-12-19T23:14:41.722Z"
   },
   {
    "duration": 12,
    "start_time": "2021-12-19T23:14:47.406Z"
   },
   {
    "duration": 6,
    "start_time": "2021-12-19T23:15:03.179Z"
   },
   {
    "duration": 5,
    "start_time": "2021-12-19T23:15:33.281Z"
   },
   {
    "duration": 5,
    "start_time": "2021-12-19T23:17:17.605Z"
   },
   {
    "duration": 61,
    "start_time": "2021-12-19T23:17:50.868Z"
   },
   {
    "duration": 9,
    "start_time": "2021-12-19T23:17:51.789Z"
   },
   {
    "duration": 10,
    "start_time": "2021-12-19T23:17:53.354Z"
   },
   {
    "duration": 7,
    "start_time": "2021-12-19T23:17:53.365Z"
   },
   {
    "duration": 83,
    "start_time": "2021-12-19T23:17:53.374Z"
   },
   {
    "duration": 7,
    "start_time": "2021-12-19T23:17:53.459Z"
   },
   {
    "duration": 7,
    "start_time": "2021-12-19T23:17:54.514Z"
   },
   {
    "duration": 27,
    "start_time": "2021-12-19T23:17:55.044Z"
   },
   {
    "duration": 5,
    "start_time": "2021-12-19T23:17:57.001Z"
   },
   {
    "duration": 7,
    "start_time": "2021-12-19T23:17:57.889Z"
   },
   {
    "duration": 7,
    "start_time": "2021-12-19T23:17:59.143Z"
   },
   {
    "duration": 6,
    "start_time": "2021-12-19T23:18:01.649Z"
   },
   {
    "duration": 7,
    "start_time": "2021-12-19T23:22:33.935Z"
   },
   {
    "duration": 6,
    "start_time": "2021-12-19T23:22:52.714Z"
   },
   {
    "duration": 7,
    "start_time": "2021-12-19T23:23:55.169Z"
   },
   {
    "duration": 6,
    "start_time": "2021-12-19T23:27:24.502Z"
   },
   {
    "duration": 61,
    "start_time": "2021-12-19T23:28:28.943Z"
   },
   {
    "duration": 9,
    "start_time": "2021-12-19T23:28:30.014Z"
   },
   {
    "duration": 9,
    "start_time": "2021-12-19T23:28:30.406Z"
   },
   {
    "duration": 8,
    "start_time": "2021-12-19T23:28:30.816Z"
   },
   {
    "duration": 81,
    "start_time": "2021-12-19T23:28:31.229Z"
   },
   {
    "duration": 8,
    "start_time": "2021-12-19T23:28:31.628Z"
   },
   {
    "duration": 7,
    "start_time": "2021-12-19T23:28:33.576Z"
   },
   {
    "duration": 27,
    "start_time": "2021-12-19T23:28:35.881Z"
   },
   {
    "duration": 5,
    "start_time": "2021-12-19T23:28:39.590Z"
   },
   {
    "duration": 7,
    "start_time": "2021-12-19T23:28:42.128Z"
   },
   {
    "duration": 7,
    "start_time": "2021-12-19T23:28:46.616Z"
   },
   {
    "duration": 6,
    "start_time": "2021-12-19T23:28:52.833Z"
   },
   {
    "duration": 239,
    "start_time": "2021-12-19T23:34:27.372Z"
   },
   {
    "duration": 6,
    "start_time": "2021-12-19T23:45:01.680Z"
   },
   {
    "duration": 7,
    "start_time": "2021-12-19T23:45:09.117Z"
   },
   {
    "duration": 73,
    "start_time": "2021-12-19T23:46:42.174Z"
   },
   {
    "duration": 6,
    "start_time": "2021-12-19T23:46:49.199Z"
   },
   {
    "duration": 6,
    "start_time": "2021-12-19T23:47:17.798Z"
   },
   {
    "duration": 11,
    "start_time": "2021-12-19T23:55:26.930Z"
   },
   {
    "duration": 169,
    "start_time": "2021-12-19T23:56:14.520Z"
   },
   {
    "duration": 202,
    "start_time": "2021-12-19T23:58:22.049Z"
   },
   {
    "duration": 169,
    "start_time": "2021-12-19T23:58:48.317Z"
   },
   {
    "duration": 165,
    "start_time": "2021-12-19T23:59:08.442Z"
   },
   {
    "duration": 5,
    "start_time": "2021-12-19T23:59:21.972Z"
   },
   {
    "duration": 169,
    "start_time": "2021-12-20T00:06:15.035Z"
   },
   {
    "duration": 163,
    "start_time": "2021-12-20T00:07:33.065Z"
   },
   {
    "duration": 8,
    "start_time": "2021-12-20T00:10:00.404Z"
   },
   {
    "duration": 8,
    "start_time": "2021-12-20T00:10:17.161Z"
   },
   {
    "duration": 2,
    "start_time": "2021-12-20T00:18:15.181Z"
   },
   {
    "duration": 259,
    "start_time": "2021-12-20T00:20:47.081Z"
   },
   {
    "duration": 193,
    "start_time": "2021-12-20T00:20:57.703Z"
   },
   {
    "duration": 5,
    "start_time": "2021-12-20T00:22:01.269Z"
   },
   {
    "duration": 6,
    "start_time": "2021-12-20T00:23:24.392Z"
   },
   {
    "duration": 6,
    "start_time": "2021-12-20T00:23:43.619Z"
   },
   {
    "duration": 6,
    "start_time": "2021-12-20T00:24:15.404Z"
   },
   {
    "duration": 199,
    "start_time": "2021-12-20T00:24:43.061Z"
   },
   {
    "duration": 4,
    "start_time": "2021-12-20T00:24:53.488Z"
   },
   {
    "duration": 7,
    "start_time": "2021-12-20T00:26:29.329Z"
   },
   {
    "duration": 5,
    "start_time": "2021-12-20T00:26:50.781Z"
   },
   {
    "duration": 6,
    "start_time": "2021-12-20T00:27:00.360Z"
   },
   {
    "duration": 6,
    "start_time": "2021-12-20T00:28:52.702Z"
   },
   {
    "duration": 6,
    "start_time": "2021-12-20T00:28:59.456Z"
   },
   {
    "duration": 60,
    "start_time": "2021-12-20T00:38:46.759Z"
   },
   {
    "duration": 43,
    "start_time": "2021-12-20T00:45:08.381Z"
   },
   {
    "duration": 41,
    "start_time": "2021-12-20T00:45:34.351Z"
   },
   {
    "duration": 43,
    "start_time": "2021-12-20T00:49:00.285Z"
   },
   {
    "duration": 42,
    "start_time": "2021-12-20T00:49:08.070Z"
   },
   {
    "duration": 9,
    "start_time": "2021-12-20T00:50:07.733Z"
   },
   {
    "duration": 43,
    "start_time": "2021-12-20T00:50:26.208Z"
   },
   {
    "duration": 76,
    "start_time": "2021-12-20T00:50:51.525Z"
   },
   {
    "duration": 7,
    "start_time": "2021-12-20T00:59:02.970Z"
   },
   {
    "duration": 7,
    "start_time": "2021-12-20T00:59:12.782Z"
   },
   {
    "duration": 752,
    "start_time": "2021-12-20T15:12:01.185Z"
   },
   {
    "duration": 875,
    "start_time": "2021-12-20T15:12:11.391Z"
   },
   {
    "duration": 13,
    "start_time": "2021-12-20T15:12:15.266Z"
   },
   {
    "duration": 15,
    "start_time": "2021-12-20T15:12:16.298Z"
   },
   {
    "duration": 12,
    "start_time": "2021-12-20T15:12:17.459Z"
   },
   {
    "duration": 188,
    "start_time": "2021-12-20T15:12:19.956Z"
   },
   {
    "duration": 16,
    "start_time": "2021-12-20T15:12:21.642Z"
   },
   {
    "duration": 11,
    "start_time": "2021-12-20T15:12:24.681Z"
   },
   {
    "duration": 50,
    "start_time": "2021-12-20T15:12:28.327Z"
   },
   {
    "duration": 7,
    "start_time": "2021-12-20T15:12:32.077Z"
   },
   {
    "duration": 10,
    "start_time": "2021-12-20T15:12:34.688Z"
   },
   {
    "duration": 12,
    "start_time": "2021-12-20T15:12:36.196Z"
   },
   {
    "duration": 11,
    "start_time": "2021-12-20T15:12:38.970Z"
   },
   {
    "duration": 9,
    "start_time": "2021-12-20T15:12:42.555Z"
   },
   {
    "duration": 19,
    "start_time": "2021-12-20T15:12:43.749Z"
   },
   {
    "duration": 408,
    "start_time": "2021-12-20T15:12:45.333Z"
   },
   {
    "duration": 8,
    "start_time": "2021-12-20T15:12:47.798Z"
   },
   {
    "duration": 305,
    "start_time": "2021-12-20T15:12:49.399Z"
   },
   {
    "duration": 14,
    "start_time": "2021-12-20T15:12:49.925Z"
   },
   {
    "duration": 9,
    "start_time": "2021-12-20T15:12:53.166Z"
   },
   {
    "duration": 99,
    "start_time": "2021-12-20T15:12:56.052Z"
   },
   {
    "duration": 11,
    "start_time": "2021-12-20T15:12:58.144Z"
   },
   {
    "duration": 24,
    "start_time": "2021-12-20T15:13:04.388Z"
   },
   {
    "duration": 1803,
    "start_time": "2021-12-20T15:21:50.724Z"
   },
   {
    "duration": 63,
    "start_time": "2021-12-20T15:22:48.708Z"
   },
   {
    "duration": 3,
    "start_time": "2021-12-20T15:24:15.971Z"
   },
   {
    "duration": 9,
    "start_time": "2021-12-20T15:27:59.309Z"
   },
   {
    "duration": 354,
    "start_time": "2021-12-21T10:56:20.969Z"
   },
   {
    "duration": 934,
    "start_time": "2021-12-21T10:56:29.966Z"
   },
   {
    "duration": 11,
    "start_time": "2021-12-21T10:56:34.686Z"
   },
   {
    "duration": 14,
    "start_time": "2021-12-21T10:56:37.672Z"
   },
   {
    "duration": 10,
    "start_time": "2021-12-21T10:56:40.087Z"
   },
   {
    "duration": 138,
    "start_time": "2021-12-21T10:56:44.164Z"
   },
   {
    "duration": 12,
    "start_time": "2021-12-21T10:56:47.998Z"
   },
   {
    "duration": 11,
    "start_time": "2021-12-21T10:56:53.759Z"
   },
   {
    "duration": 49,
    "start_time": "2021-12-21T10:56:58.947Z"
   },
   {
    "duration": 7,
    "start_time": "2021-12-21T10:57:03.234Z"
   },
   {
    "duration": 13,
    "start_time": "2021-12-21T10:57:04.957Z"
   },
   {
    "duration": 12,
    "start_time": "2021-12-21T10:57:06.512Z"
   },
   {
    "duration": 10,
    "start_time": "2021-12-21T10:57:09.301Z"
   },
   {
    "duration": 9,
    "start_time": "2021-12-21T10:57:11.950Z"
   },
   {
    "duration": 16,
    "start_time": "2021-12-21T10:57:15.659Z"
   },
   {
    "duration": 535,
    "start_time": "2021-12-21T10:57:19.510Z"
   },
   {
    "duration": 9,
    "start_time": "2021-12-21T10:57:22.350Z"
   },
   {
    "duration": 306,
    "start_time": "2021-12-21T10:57:24.319Z"
   },
   {
    "duration": 12,
    "start_time": "2021-12-21T10:57:25.694Z"
   },
   {
    "duration": 10,
    "start_time": "2021-12-21T10:57:28.428Z"
   },
   {
    "duration": 68,
    "start_time": "2021-12-21T10:57:29.633Z"
   },
   {
    "duration": 10,
    "start_time": "2021-12-21T10:57:30.863Z"
   },
   {
    "duration": 94,
    "start_time": "2021-12-21T10:57:35.250Z"
   },
   {
    "duration": 95,
    "start_time": "2021-12-21T10:57:44.763Z"
   },
   {
    "duration": 7,
    "start_time": "2021-12-21T10:58:28.894Z"
   },
   {
    "duration": 63,
    "start_time": "2021-12-21T10:58:54.060Z"
   },
   {
    "duration": 9,
    "start_time": "2021-12-21T10:59:01.103Z"
   },
   {
    "duration": 75,
    "start_time": "2021-12-21T10:59:20.187Z"
   },
   {
    "duration": 10,
    "start_time": "2021-12-21T11:12:55.593Z"
   },
   {
    "duration": 121,
    "start_time": "2021-12-21T11:14:59.037Z"
   },
   {
    "duration": 99,
    "start_time": "2021-12-21T11:17:04.389Z"
   },
   {
    "duration": 8,
    "start_time": "2021-12-21T11:17:30.254Z"
   },
   {
    "duration": 81,
    "start_time": "2021-12-21T11:18:25.950Z"
   },
   {
    "duration": 84,
    "start_time": "2021-12-21T11:19:53.180Z"
   },
   {
    "duration": 130,
    "start_time": "2021-12-21T11:45:16.958Z"
   },
   {
    "duration": 12,
    "start_time": "2021-12-21T11:45:17.728Z"
   },
   {
    "duration": 18,
    "start_time": "2021-12-21T11:45:18.031Z"
   },
   {
    "duration": 12,
    "start_time": "2021-12-21T11:45:18.384Z"
   },
   {
    "duration": 224,
    "start_time": "2021-12-21T11:45:18.818Z"
   },
   {
    "duration": 17,
    "start_time": "2021-12-21T11:45:19.316Z"
   },
   {
    "duration": 13,
    "start_time": "2021-12-21T11:45:20.389Z"
   },
   {
    "duration": 67,
    "start_time": "2021-12-21T11:45:21.710Z"
   },
   {
    "duration": 10,
    "start_time": "2021-12-21T11:45:23.001Z"
   },
   {
    "duration": 13,
    "start_time": "2021-12-21T11:45:23.560Z"
   },
   {
    "duration": 11,
    "start_time": "2021-12-21T11:45:24.506Z"
   },
   {
    "duration": 9,
    "start_time": "2021-12-21T11:45:31.376Z"
   },
   {
    "duration": 9,
    "start_time": "2021-12-21T11:45:33.883Z"
   },
   {
    "duration": 16,
    "start_time": "2021-12-21T11:45:34.854Z"
   },
   {
    "duration": 319,
    "start_time": "2021-12-21T11:45:39.470Z"
   },
   {
    "duration": 8,
    "start_time": "2021-12-21T11:45:40.082Z"
   },
   {
    "duration": 333,
    "start_time": "2021-12-21T11:45:41.269Z"
   },
   {
    "duration": 11,
    "start_time": "2021-12-21T11:45:41.977Z"
   },
   {
    "duration": 9,
    "start_time": "2021-12-21T11:45:44.645Z"
   },
   {
    "duration": 68,
    "start_time": "2021-12-21T11:45:45.942Z"
   },
   {
    "duration": 11,
    "start_time": "2021-12-21T11:45:47.825Z"
   },
   {
    "duration": 70,
    "start_time": "2021-12-21T11:46:03.917Z"
   },
   {
    "duration": 76,
    "start_time": "2021-12-21T11:46:33.687Z"
   },
   {
    "duration": 82,
    "start_time": "2021-12-21T11:47:06.511Z"
   },
   {
    "duration": 101,
    "start_time": "2021-12-21T11:49:18.136Z"
   },
   {
    "duration": 388,
    "start_time": "2021-12-21T11:49:24.441Z"
   },
   {
    "duration": 25,
    "start_time": "2021-12-21T11:49:33.182Z"
   },
   {
    "duration": 22,
    "start_time": "2021-12-21T11:50:00.383Z"
   },
   {
    "duration": 315,
    "start_time": "2021-12-21T11:50:11.221Z"
   },
   {
    "duration": 25,
    "start_time": "2021-12-21T11:50:40.759Z"
   },
   {
    "duration": 88,
    "start_time": "2021-12-21T11:51:25.609Z"
   },
   {
    "duration": 12,
    "start_time": "2021-12-21T11:51:26.445Z"
   },
   {
    "duration": 13,
    "start_time": "2021-12-21T11:51:26.818Z"
   },
   {
    "duration": 11,
    "start_time": "2021-12-21T11:51:27.200Z"
   },
   {
    "duration": 131,
    "start_time": "2021-12-21T11:51:27.550Z"
   },
   {
    "duration": 12,
    "start_time": "2021-12-21T11:51:28.144Z"
   },
   {
    "duration": 11,
    "start_time": "2021-12-21T11:51:35.051Z"
   },
   {
    "duration": 46,
    "start_time": "2021-12-21T11:51:40.203Z"
   },
   {
    "duration": 8,
    "start_time": "2021-12-21T11:51:46.558Z"
   },
   {
    "duration": 10,
    "start_time": "2021-12-21T11:51:48.402Z"
   },
   {
    "duration": 13,
    "start_time": "2021-12-21T11:51:50.081Z"
   },
   {
    "duration": 9,
    "start_time": "2021-12-21T11:51:51.405Z"
   },
   {
    "duration": 10,
    "start_time": "2021-12-21T11:51:56.684Z"
   },
   {
    "duration": 15,
    "start_time": "2021-12-21T11:51:56.696Z"
   },
   {
    "duration": 353,
    "start_time": "2021-12-21T11:51:56.714Z"
   },
   {
    "duration": 9,
    "start_time": "2021-12-21T11:51:57.070Z"
   },
   {
    "duration": 331,
    "start_time": "2021-12-21T11:51:57.242Z"
   },
   {
    "duration": 14,
    "start_time": "2021-12-21T11:51:57.576Z"
   },
   {
    "duration": 11,
    "start_time": "2021-12-21T11:51:58.448Z"
   },
   {
    "duration": 77,
    "start_time": "2021-12-21T11:51:59.426Z"
   },
   {
    "duration": 11,
    "start_time": "2021-12-21T11:52:00.349Z"
   },
   {
    "duration": 71,
    "start_time": "2021-12-21T11:53:41.796Z"
   },
   {
    "duration": 72,
    "start_time": "2021-12-21T12:12:19.446Z"
   },
   {
    "duration": 23,
    "start_time": "2021-12-21T12:12:59.169Z"
   },
   {
    "duration": 23,
    "start_time": "2021-12-21T12:15:01.213Z"
   },
   {
    "duration": 13,
    "start_time": "2021-12-21T13:23:03.271Z"
   },
   {
    "duration": 8,
    "start_time": "2021-12-21T13:24:41.237Z"
   },
   {
    "duration": 38,
    "start_time": "2021-12-21T13:25:35.410Z"
   },
   {
    "duration": 21,
    "start_time": "2021-12-21T13:25:53.770Z"
   },
   {
    "duration": 23,
    "start_time": "2021-12-21T13:26:03.397Z"
   },
   {
    "duration": 10,
    "start_time": "2021-12-21T13:26:05.279Z"
   },
   {
    "duration": 87,
    "start_time": "2021-12-21T13:26:11.908Z"
   },
   {
    "duration": 11,
    "start_time": "2021-12-21T13:26:12.809Z"
   },
   {
    "duration": 14,
    "start_time": "2021-12-21T13:26:13.210Z"
   },
   {
    "duration": 12,
    "start_time": "2021-12-21T13:26:13.608Z"
   },
   {
    "duration": 139,
    "start_time": "2021-12-21T13:26:14.010Z"
   },
   {
    "duration": 11,
    "start_time": "2021-12-21T13:26:14.552Z"
   },
   {
    "duration": 11,
    "start_time": "2021-12-21T13:26:15.824Z"
   },
   {
    "duration": 49,
    "start_time": "2021-12-21T13:26:17.081Z"
   },
   {
    "duration": 7,
    "start_time": "2021-12-21T13:26:18.244Z"
   },
   {
    "duration": 8,
    "start_time": "2021-12-21T13:26:20.408Z"
   },
   {
    "duration": 12,
    "start_time": "2021-12-21T13:26:20.521Z"
   },
   {
    "duration": 12,
    "start_time": "2021-12-21T13:26:23.914Z"
   },
   {
    "duration": 9,
    "start_time": "2021-12-21T13:26:30.578Z"
   },
   {
    "duration": 27,
    "start_time": "2021-12-21T13:26:31.072Z"
   },
   {
    "duration": 330,
    "start_time": "2021-12-21T13:26:31.819Z"
   },
   {
    "duration": 8,
    "start_time": "2021-12-21T13:26:32.152Z"
   },
   {
    "duration": 307,
    "start_time": "2021-12-21T13:26:32.715Z"
   },
   {
    "duration": 13,
    "start_time": "2021-12-21T13:26:33.025Z"
   },
   {
    "duration": 8,
    "start_time": "2021-12-21T13:26:34.278Z"
   },
   {
    "duration": 69,
    "start_time": "2021-12-21T13:26:35.297Z"
   },
   {
    "duration": 12,
    "start_time": "2021-12-21T13:26:36.346Z"
   },
   {
    "duration": 77,
    "start_time": "2021-12-21T13:26:51.673Z"
   },
   {
    "duration": 9,
    "start_time": "2021-12-21T13:27:16.615Z"
   },
   {
    "duration": 20,
    "start_time": "2021-12-21T13:27:47.438Z"
   },
   {
    "duration": 50,
    "start_time": "2021-12-21T13:29:21.712Z"
   },
   {
    "duration": 43,
    "start_time": "2021-12-21T13:29:29.168Z"
   },
   {
    "duration": 93,
    "start_time": "2021-12-21T13:34:04.148Z"
   },
   {
    "duration": 91,
    "start_time": "2021-12-21T13:34:13.689Z"
   },
   {
    "duration": 12,
    "start_time": "2021-12-21T13:34:23.679Z"
   },
   {
    "duration": 14,
    "start_time": "2021-12-21T13:34:25.694Z"
   },
   {
    "duration": 10,
    "start_time": "2021-12-21T13:34:27.896Z"
   },
   {
    "duration": 130,
    "start_time": "2021-12-21T13:34:29.248Z"
   },
   {
    "duration": 12,
    "start_time": "2021-12-21T13:34:30.660Z"
   },
   {
    "duration": 10,
    "start_time": "2021-12-21T13:34:46.659Z"
   },
   {
    "duration": 53,
    "start_time": "2021-12-21T13:34:50.978Z"
   },
   {
    "duration": 6,
    "start_time": "2021-12-21T13:34:54.434Z"
   },
   {
    "duration": 9,
    "start_time": "2021-12-21T13:35:08.047Z"
   },
   {
    "duration": 10,
    "start_time": "2021-12-21T13:35:51.113Z"
   },
   {
    "duration": 9,
    "start_time": "2021-12-21T13:36:00.461Z"
   },
   {
    "duration": 10,
    "start_time": "2021-12-21T13:36:10.208Z"
   },
   {
    "duration": 16,
    "start_time": "2021-12-21T13:36:13.302Z"
   },
   {
    "duration": 445,
    "start_time": "2021-12-21T13:36:14.730Z"
   },
   {
    "duration": 9,
    "start_time": "2021-12-21T13:36:15.429Z"
   },
   {
    "duration": 314,
    "start_time": "2021-12-21T13:36:16.623Z"
   },
   {
    "duration": 12,
    "start_time": "2021-12-21T13:36:17.885Z"
   },
   {
    "duration": 9,
    "start_time": "2021-12-21T13:36:22.668Z"
   },
   {
    "duration": 72,
    "start_time": "2021-12-21T13:36:38.134Z"
   },
   {
    "duration": 12,
    "start_time": "2021-12-21T13:36:45.644Z"
   },
   {
    "duration": 69,
    "start_time": "2021-12-21T13:37:47.661Z"
   },
   {
    "duration": 89,
    "start_time": "2021-12-21T13:38:39.249Z"
   },
   {
    "duration": 50,
    "start_time": "2021-12-21T13:39:01.895Z"
   },
   {
    "duration": 58,
    "start_time": "2021-12-21T13:42:30.488Z"
   },
   {
    "duration": 59,
    "start_time": "2021-12-21T13:49:27.525Z"
   },
   {
    "duration": 286,
    "start_time": "2021-12-21T14:14:27.607Z"
   },
   {
    "duration": 331,
    "start_time": "2021-12-21T14:14:50.521Z"
   },
   {
    "duration": 13,
    "start_time": "2021-12-21T14:15:01.937Z"
   },
   {
    "duration": 115,
    "start_time": "2021-12-21T14:18:23.442Z"
   },
   {
    "duration": 290,
    "start_time": "2021-12-21T14:18:37.337Z"
   },
   {
    "duration": 34,
    "start_time": "2021-12-21T14:19:13.505Z"
   },
   {
    "duration": 312,
    "start_time": "2021-12-21T14:25:58.832Z"
   },
   {
    "duration": 151,
    "start_time": "2021-12-21T14:26:28.993Z"
   },
   {
    "duration": 10,
    "start_time": "2021-12-21T14:26:35.597Z"
   },
   {
    "duration": 22,
    "start_time": "2021-12-21T14:36:30.655Z"
   },
   {
    "duration": 296,
    "start_time": "2021-12-21T14:37:12.700Z"
   },
   {
    "duration": 18,
    "start_time": "2021-12-21T14:37:18.473Z"
   },
   {
    "duration": 336,
    "start_time": "2021-12-21T14:37:56.114Z"
   },
   {
    "duration": 17,
    "start_time": "2021-12-21T14:38:31.447Z"
   },
   {
    "duration": 140,
    "start_time": "2021-12-21T14:39:56.098Z"
   },
   {
    "duration": 14,
    "start_time": "2021-12-21T14:39:57.406Z"
   },
   {
    "duration": 15,
    "start_time": "2021-12-21T14:39:58.749Z"
   },
   {
    "duration": 15,
    "start_time": "2021-12-21T14:39:59.679Z"
   },
   {
    "duration": 22,
    "start_time": "2021-12-21T14:40:07.396Z"
   },
   {
    "duration": 370,
    "start_time": "2021-12-21T14:40:40.338Z"
   },
   {
    "duration": 17,
    "start_time": "2021-12-21T14:41:01.052Z"
   },
   {
    "duration": 111,
    "start_time": "2021-12-21T14:41:55.877Z"
   },
   {
    "duration": 400,
    "start_time": "2021-12-21T14:42:04.477Z"
   },
   {
    "duration": 16,
    "start_time": "2021-12-21T14:42:47.355Z"
   },
   {
    "duration": 31,
    "start_time": "2021-12-21T14:47:27.753Z"
   },
   {
    "duration": 28,
    "start_time": "2021-12-21T14:47:41.567Z"
   },
   {
    "duration": 297,
    "start_time": "2021-12-21T14:51:41.732Z"
   },
   {
    "duration": 312,
    "start_time": "2021-12-21T14:52:18.428Z"
   },
   {
    "duration": 296,
    "start_time": "2021-12-21T14:52:30.247Z"
   },
   {
    "duration": 321,
    "start_time": "2021-12-21T14:54:03.851Z"
   },
   {
    "duration": 305,
    "start_time": "2021-12-21T14:54:27.866Z"
   },
   {
    "duration": 294,
    "start_time": "2021-12-21T14:54:57.460Z"
   },
   {
    "duration": 428,
    "start_time": "2021-12-21T14:55:10.767Z"
   },
   {
    "duration": 297,
    "start_time": "2021-12-21T14:56:45.010Z"
   },
   {
    "duration": 293,
    "start_time": "2021-12-21T14:57:32.856Z"
   },
   {
    "duration": 290,
    "start_time": "2021-12-21T14:58:32.396Z"
   },
   {
    "duration": 314,
    "start_time": "2021-12-21T14:58:51.630Z"
   },
   {
    "duration": 316,
    "start_time": "2021-12-21T14:59:08.204Z"
   },
   {
    "duration": 291,
    "start_time": "2021-12-21T14:59:48.760Z"
   },
   {
    "duration": 90,
    "start_time": "2021-12-21T15:01:27.191Z"
   },
   {
    "duration": 301,
    "start_time": "2021-12-21T15:01:34.854Z"
   },
   {
    "duration": 46,
    "start_time": "2021-12-21T16:50:36.093Z"
   },
   {
    "duration": 47,
    "start_time": "2021-12-21T16:50:48.642Z"
   },
   {
    "duration": 208,
    "start_time": "2021-12-21T16:51:20.066Z"
   },
   {
    "duration": 636,
    "start_time": "2021-12-21T16:52:21.160Z"
   },
   {
    "duration": 12,
    "start_time": "2021-12-21T16:52:24.298Z"
   },
   {
    "duration": 163,
    "start_time": "2021-12-21T16:52:27.924Z"
   },
   {
    "duration": 53,
    "start_time": "2021-12-21T16:58:57.113Z"
   },
   {
    "duration": 168,
    "start_time": "2021-12-21T16:59:17.409Z"
   },
   {
    "duration": 134,
    "start_time": "2021-12-21T16:59:39.274Z"
   },
   {
    "duration": 180,
    "start_time": "2021-12-21T17:00:12.477Z"
   },
   {
    "duration": 136,
    "start_time": "2021-12-21T17:00:49.396Z"
   },
   {
    "duration": 6,
    "start_time": "2021-12-21T17:58:15.637Z"
   },
   {
    "duration": 139,
    "start_time": "2021-12-21T18:00:05.269Z"
   },
   {
    "duration": 129,
    "start_time": "2021-12-21T18:01:14.179Z"
   },
   {
    "duration": 258,
    "start_time": "2021-12-21T18:02:38.011Z"
   },
   {
    "duration": 60,
    "start_time": "2021-12-21T18:06:41.374Z"
   },
   {
    "duration": 11,
    "start_time": "2021-12-21T18:06:48.437Z"
   },
   {
    "duration": 2002,
    "start_time": "2021-12-21T18:08:29.773Z"
   },
   {
    "duration": 46,
    "start_time": "2021-12-21T18:08:33.761Z"
   },
   {
    "duration": 8,
    "start_time": "2021-12-21T18:08:54.180Z"
   },
   {
    "duration": 7,
    "start_time": "2021-12-21T18:18:40.195Z"
   },
   {
    "duration": 22,
    "start_time": "2021-12-21T18:19:10.861Z"
   },
   {
    "duration": 26,
    "start_time": "2021-12-21T18:19:46.418Z"
   },
   {
    "duration": 23,
    "start_time": "2021-12-21T18:33:40.769Z"
   },
   {
    "duration": 32,
    "start_time": "2021-12-21T18:33:52.939Z"
   },
   {
    "duration": 28,
    "start_time": "2021-12-21T18:34:48.678Z"
   },
   {
    "duration": 184,
    "start_time": "2021-12-21T18:47:48.088Z"
   },
   {
    "duration": 27,
    "start_time": "2021-12-21T18:48:37.842Z"
   },
   {
    "duration": 43,
    "start_time": "2021-12-21T18:49:33.024Z"
   },
   {
    "duration": 26,
    "start_time": "2021-12-21T18:49:44.827Z"
   },
   {
    "duration": 46,
    "start_time": "2021-12-21T18:50:16.938Z"
   },
   {
    "duration": 43,
    "start_time": "2021-12-21T18:51:10.319Z"
   },
   {
    "duration": 31,
    "start_time": "2021-12-21T18:51:22.968Z"
   },
   {
    "duration": 155,
    "start_time": "2021-12-21T20:01:35.719Z"
   },
   {
    "duration": 26,
    "start_time": "2021-12-21T20:01:56.114Z"
   },
   {
    "duration": 14,
    "start_time": "2021-12-21T20:02:35.411Z"
   },
   {
    "duration": 13,
    "start_time": "2021-12-21T20:03:03.341Z"
   },
   {
    "duration": 14,
    "start_time": "2021-12-21T20:03:32.256Z"
   },
   {
    "duration": 14,
    "start_time": "2021-12-21T20:04:43.838Z"
   },
   {
    "duration": 14,
    "start_time": "2021-12-21T20:04:57.826Z"
   },
   {
    "duration": 13,
    "start_time": "2021-12-21T20:05:05.527Z"
   },
   {
    "duration": 232,
    "start_time": "2021-12-21T20:07:03.934Z"
   },
   {
    "duration": 157,
    "start_time": "2021-12-21T20:07:19.538Z"
   },
   {
    "duration": 51,
    "start_time": "2021-12-21T20:07:49.731Z"
   },
   {
    "duration": 15,
    "start_time": "2021-12-21T20:08:10.982Z"
   },
   {
    "duration": 46,
    "start_time": "2021-12-21T20:09:25.257Z"
   },
   {
    "duration": 15,
    "start_time": "2021-12-21T20:10:06.049Z"
   },
   {
    "duration": 58,
    "start_time": "2021-12-21T20:10:32.469Z"
   },
   {
    "duration": 17,
    "start_time": "2021-12-21T20:10:47.614Z"
   },
   {
    "duration": 44,
    "start_time": "2021-12-21T20:12:27.132Z"
   },
   {
    "duration": 19,
    "start_time": "2021-12-21T20:12:34.900Z"
   },
   {
    "duration": 145,
    "start_time": "2021-12-21T20:13:12.890Z"
   },
   {
    "duration": 7,
    "start_time": "2021-12-21T20:28:58.082Z"
   },
   {
    "duration": 141,
    "start_time": "2021-12-21T20:29:00.185Z"
   },
   {
    "duration": 13,
    "start_time": "2021-12-21T20:29:59.790Z"
   },
   {
    "duration": 47,
    "start_time": "2021-12-21T20:31:32.363Z"
   },
   {
    "duration": 158,
    "start_time": "2021-12-21T20:31:47.687Z"
   },
   {
    "duration": 47,
    "start_time": "2021-12-21T20:33:40.146Z"
   },
   {
    "duration": 13,
    "start_time": "2021-12-21T20:33:59.793Z"
   },
   {
    "duration": 93,
    "start_time": "2021-12-21T20:35:48.383Z"
   },
   {
    "duration": 11,
    "start_time": "2021-12-21T20:36:07.869Z"
   },
   {
    "duration": 12,
    "start_time": "2021-12-21T20:37:19.586Z"
   },
   {
    "duration": 126,
    "start_time": "2021-12-21T20:39:49.478Z"
   },
   {
    "duration": 68,
    "start_time": "2021-12-21T20:40:32.079Z"
   },
   {
    "duration": 10,
    "start_time": "2021-12-21T20:40:34.906Z"
   },
   {
    "duration": 9,
    "start_time": "2021-12-21T20:40:37.825Z"
   },
   {
    "duration": 5,
    "start_time": "2021-12-21T20:40:44.290Z"
   },
   {
    "duration": 12,
    "start_time": "2021-12-21T20:41:03.934Z"
   },
   {
    "duration": 14,
    "start_time": "2021-12-21T20:45:01.614Z"
   },
   {
    "duration": 12,
    "start_time": "2021-12-21T20:48:49.716Z"
   },
   {
    "duration": 12,
    "start_time": "2021-12-21T21:13:18.851Z"
   },
   {
    "duration": 13,
    "start_time": "2021-12-21T21:13:51.572Z"
   },
   {
    "duration": -83,
    "start_time": "2021-12-21T21:24:27.621Z"
   },
   {
    "duration": -95,
    "start_time": "2021-12-21T21:24:27.635Z"
   },
   {
    "duration": -108,
    "start_time": "2021-12-21T21:24:27.649Z"
   },
   {
    "duration": 141,
    "start_time": "2021-12-21T21:25:04.820Z"
   },
   {
    "duration": 13,
    "start_time": "2021-12-21T21:26:55.240Z"
   },
   {
    "duration": 15,
    "start_time": "2021-12-21T21:27:50.097Z"
   },
   {
    "duration": 14,
    "start_time": "2021-12-21T21:27:56.580Z"
   },
   {
    "duration": 88,
    "start_time": "2021-12-21T21:33:57.416Z"
   },
   {
    "duration": 68,
    "start_time": "2021-12-21T21:36:16.269Z"
   },
   {
    "duration": 9,
    "start_time": "2021-12-21T21:36:17.279Z"
   },
   {
    "duration": 9,
    "start_time": "2021-12-21T21:36:17.663Z"
   },
   {
    "duration": 5,
    "start_time": "2021-12-21T21:36:18.269Z"
   },
   {
    "duration": 13,
    "start_time": "2021-12-21T21:36:18.703Z"
   },
   {
    "duration": 91,
    "start_time": "2021-12-21T21:36:19.078Z"
   },
   {
    "duration": 9,
    "start_time": "2021-12-21T21:36:19.496Z"
   },
   {
    "duration": 8,
    "start_time": "2021-12-21T21:36:20.639Z"
   },
   {
    "duration": 33,
    "start_time": "2021-12-21T21:36:21.938Z"
   },
   {
    "duration": 5,
    "start_time": "2021-12-21T21:36:23.679Z"
   },
   {
    "duration": 7,
    "start_time": "2021-12-21T21:36:24.624Z"
   },
   {
    "duration": 8,
    "start_time": "2021-12-21T21:36:25.779Z"
   },
   {
    "duration": 8,
    "start_time": "2021-12-21T21:36:26.738Z"
   },
   {
    "duration": 8,
    "start_time": "2021-12-21T21:36:28.864Z"
   },
   {
    "duration": 13,
    "start_time": "2021-12-21T21:36:35.310Z"
   },
   {
    "duration": 276,
    "start_time": "2021-12-21T21:36:38.668Z"
   },
   {
    "duration": 7,
    "start_time": "2021-12-21T21:36:39.919Z"
   },
   {
    "duration": 195,
    "start_time": "2021-12-21T21:36:52.670Z"
   },
   {
    "duration": 8,
    "start_time": "2021-12-21T21:36:53.496Z"
   },
   {
    "duration": 6,
    "start_time": "2021-12-21T21:36:56.169Z"
   },
   {
    "duration": 48,
    "start_time": "2021-12-21T21:36:57.664Z"
   },
   {
    "duration": 8,
    "start_time": "2021-12-21T21:38:11.959Z"
   },
   {
    "duration": 47,
    "start_time": "2021-12-21T21:38:48.169Z"
   },
   {
    "duration": 7,
    "start_time": "2021-12-21T21:38:57.858Z"
   },
   {
    "duration": 62,
    "start_time": "2021-12-21T21:39:00.649Z"
   },
   {
    "duration": 39,
    "start_time": "2021-12-21T21:39:05.655Z"
   },
   {
    "duration": 8,
    "start_time": "2021-12-21T21:46:10.304Z"
   },
   {
    "duration": 43,
    "start_time": "2021-12-21T21:49:40.143Z"
   },
   {
    "duration": 6,
    "start_time": "2021-12-21T21:51:04.077Z"
   },
   {
    "duration": 206,
    "start_time": "2021-12-21T21:52:03.428Z"
   },
   {
    "duration": 142,
    "start_time": "2021-12-21T21:56:10.634Z"
   },
   {
    "duration": 2603,
    "start_time": "2021-12-21T22:10:46.540Z"
   },
   {
    "duration": 2572,
    "start_time": "2021-12-21T22:12:32.748Z"
   },
   {
    "duration": 2639,
    "start_time": "2021-12-21T22:13:08.068Z"
   },
   {
    "duration": 2841,
    "start_time": "2021-12-21T22:31:55.762Z"
   },
   {
    "duration": 2674,
    "start_time": "2021-12-21T22:33:32.381Z"
   },
   {
    "duration": 18,
    "start_time": "2021-12-21T22:36:39.123Z"
   },
   {
    "duration": 33,
    "start_time": "2021-12-21T22:37:31.750Z"
   },
   {
    "duration": 15,
    "start_time": "2021-12-21T22:42:01.441Z"
   },
   {
    "duration": 14,
    "start_time": "2021-12-21T22:42:13.341Z"
   },
   {
    "duration": 14,
    "start_time": "2021-12-21T22:43:57.431Z"
   },
   {
    "duration": 137,
    "start_time": "2021-12-21T22:44:11.516Z"
   },
   {
    "duration": 147,
    "start_time": "2021-12-21T22:44:22.484Z"
   },
   {
    "duration": 66,
    "start_time": "2021-12-21T22:44:45.946Z"
   },
   {
    "duration": 9,
    "start_time": "2021-12-21T22:44:48.771Z"
   },
   {
    "duration": 9,
    "start_time": "2021-12-21T22:44:50.266Z"
   },
   {
    "duration": 6,
    "start_time": "2021-12-21T22:44:55.286Z"
   },
   {
    "duration": 13,
    "start_time": "2021-12-21T22:44:57.676Z"
   },
   {
    "duration": 92,
    "start_time": "2021-12-21T22:45:07.937Z"
   },
   {
    "duration": 14,
    "start_time": "2021-12-21T22:45:10.699Z"
   },
   {
    "duration": 8,
    "start_time": "2021-12-21T22:45:24.425Z"
   },
   {
    "duration": 32,
    "start_time": "2021-12-21T22:45:28.566Z"
   },
   {
    "duration": 6,
    "start_time": "2021-12-21T22:45:31.422Z"
   },
   {
    "duration": 7,
    "start_time": "2021-12-21T22:45:32.586Z"
   },
   {
    "duration": 8,
    "start_time": "2021-12-21T22:45:48.438Z"
   },
   {
    "duration": 8,
    "start_time": "2021-12-21T22:45:49.923Z"
   },
   {
    "duration": 9,
    "start_time": "2021-12-21T22:45:52.259Z"
   },
   {
    "duration": 10,
    "start_time": "2021-12-21T22:45:53.233Z"
   },
   {
    "duration": 195,
    "start_time": "2021-12-21T22:45:54.113Z"
   },
   {
    "duration": 6,
    "start_time": "2021-12-21T22:45:54.540Z"
   },
   {
    "duration": 184,
    "start_time": "2021-12-21T22:45:55.542Z"
   },
   {
    "duration": 8,
    "start_time": "2021-12-21T22:45:56.063Z"
   },
   {
    "duration": 8,
    "start_time": "2021-12-21T22:45:58.093Z"
   },
   {
    "duration": 48,
    "start_time": "2021-12-21T22:45:59.821Z"
   },
   {
    "duration": 8,
    "start_time": "2021-12-21T22:46:01.092Z"
   },
   {
    "duration": 43,
    "start_time": "2021-12-21T22:46:03.828Z"
   },
   {
    "duration": 6,
    "start_time": "2021-12-21T22:46:04.743Z"
   },
   {
    "duration": 112,
    "start_time": "2021-12-21T22:46:05.614Z"
   },
   {
    "duration": 40,
    "start_time": "2021-12-21T22:46:06.463Z"
   },
   {
    "duration": 2591,
    "start_time": "2021-12-21T22:46:18.452Z"
   },
   {
    "duration": 6,
    "start_time": "2021-12-21T22:49:05.811Z"
   },
   {
    "duration": 3898,
    "start_time": "2021-12-21T22:51:01.548Z"
   },
   {
    "duration": 5703,
    "start_time": "2021-12-21T22:51:48.759Z"
   },
   {
    "duration": 4455,
    "start_time": "2021-12-21T22:52:13.412Z"
   },
   {
    "duration": 3440,
    "start_time": "2021-12-21T22:53:01.623Z"
   },
   {
    "duration": 7,
    "start_time": "2021-12-21T22:53:38.243Z"
   },
   {
    "duration": 37,
    "start_time": "2021-12-21T22:53:39.523Z"
   },
   {
    "duration": 6,
    "start_time": "2021-12-21T22:53:40.300Z"
   },
   {
    "duration": 6,
    "start_time": "2021-12-21T22:53:40.663Z"
   },
   {
    "duration": 7,
    "start_time": "2021-12-21T22:53:41.033Z"
   },
   {
    "duration": 7,
    "start_time": "2021-12-21T22:53:41.420Z"
   },
   {
    "duration": 5,
    "start_time": "2021-12-21T22:53:42.193Z"
   },
   {
    "duration": 11,
    "start_time": "2021-12-21T22:53:42.574Z"
   },
   {
    "duration": 196,
    "start_time": "2021-12-21T22:53:42.973Z"
   },
   {
    "duration": 5,
    "start_time": "2021-12-21T22:53:43.171Z"
   },
   {
    "duration": 185,
    "start_time": "2021-12-21T22:53:43.580Z"
   },
   {
    "duration": 8,
    "start_time": "2021-12-21T22:53:43.767Z"
   },
   {
    "duration": 7,
    "start_time": "2021-12-21T22:53:44.483Z"
   },
   {
    "duration": 49,
    "start_time": "2021-12-21T22:53:44.873Z"
   },
   {
    "duration": 8,
    "start_time": "2021-12-21T22:53:45.273Z"
   },
   {
    "duration": 21,
    "start_time": "2021-12-21T22:53:46.313Z"
   },
   {
    "duration": 8,
    "start_time": "2021-12-21T22:53:46.940Z"
   },
   {
    "duration": 40,
    "start_time": "2021-12-21T22:53:47.382Z"
   },
   {
    "duration": 44,
    "start_time": "2021-12-21T22:53:47.952Z"
   },
   {
    "duration": 5,
    "start_time": "2021-12-21T22:53:50.437Z"
   },
   {
    "duration": 2668,
    "start_time": "2021-12-21T22:53:52.100Z"
   },
   {
    "duration": 3801,
    "start_time": "2021-12-21T22:54:31.633Z"
   },
   {
    "duration": 2917,
    "start_time": "2021-12-21T22:56:14.233Z"
   },
   {
    "duration": 2838,
    "start_time": "2021-12-21T22:58:47.209Z"
   },
   {
    "duration": 2771,
    "start_time": "2021-12-21T22:59:27.580Z"
   },
   {
    "duration": 2794,
    "start_time": "2021-12-21T23:00:26.642Z"
   },
   {
    "duration": 2724,
    "start_time": "2021-12-21T23:06:06.898Z"
   },
   {
    "duration": 2691,
    "start_time": "2021-12-21T23:06:29.612Z"
   },
   {
    "duration": 2625,
    "start_time": "2021-12-21T23:09:13.513Z"
   },
   {
    "duration": 3017,
    "start_time": "2021-12-21T23:09:31.415Z"
   },
   {
    "duration": 2753,
    "start_time": "2021-12-21T23:09:44.103Z"
   },
   {
    "duration": 2934,
    "start_time": "2021-12-21T23:13:07.587Z"
   },
   {
    "duration": 141,
    "start_time": "2021-12-21T23:13:54.938Z"
   },
   {
    "duration": 133,
    "start_time": "2021-12-21T23:14:09.957Z"
   },
   {
    "duration": 73,
    "start_time": "2021-12-21T23:14:17.258Z"
   },
   {
    "duration": 9,
    "start_time": "2021-12-21T23:14:19.190Z"
   },
   {
    "duration": 9,
    "start_time": "2021-12-21T23:14:20.139Z"
   },
   {
    "duration": 6,
    "start_time": "2021-12-21T23:14:21.491Z"
   },
   {
    "duration": 12,
    "start_time": "2021-12-21T23:14:23.258Z"
   },
   {
    "duration": 63,
    "start_time": "2021-12-21T23:14:41.134Z"
   },
   {
    "duration": 10,
    "start_time": "2021-12-21T23:14:43.871Z"
   },
   {
    "duration": 8,
    "start_time": "2021-12-21T23:14:46.084Z"
   },
   {
    "duration": 6,
    "start_time": "2021-12-21T23:14:47.872Z"
   },
   {
    "duration": 12,
    "start_time": "2021-12-21T23:14:52.750Z"
   },
   {
    "duration": 90,
    "start_time": "2021-12-21T23:15:41.421Z"
   },
   {
    "duration": 6,
    "start_time": "2021-12-21T23:16:02.192Z"
   },
   {
    "duration": 151,
    "start_time": "2021-12-21T23:16:15.852Z"
   },
   {
    "duration": 127,
    "start_time": "2021-12-21T23:17:09.042Z"
   },
   {
    "duration": 62,
    "start_time": "2021-12-21T23:17:18.591Z"
   },
   {
    "duration": 9,
    "start_time": "2021-12-21T23:17:24.622Z"
   },
   {
    "duration": 9,
    "start_time": "2021-12-21T23:17:32.382Z"
   },
   {
    "duration": 143,
    "start_time": "2021-12-21T23:17:39.760Z"
   },
   {
    "duration": 6,
    "start_time": "2021-12-21T23:18:40.218Z"
   },
   {
    "duration": 13,
    "start_time": "2021-12-21T23:19:01.671Z"
   },
   {
    "duration": 13,
    "start_time": "2021-12-21T23:19:54.260Z"
   },
   {
    "duration": 13,
    "start_time": "2021-12-21T23:20:44.537Z"
   },
   {
    "duration": 12,
    "start_time": "2021-12-21T23:21:17.139Z"
   },
   {
    "duration": 13,
    "start_time": "2021-12-21T23:21:41.338Z"
   },
   {
    "duration": 43,
    "start_time": "2021-12-21T23:21:50.605Z"
   },
   {
    "duration": 11,
    "start_time": "2021-12-21T23:22:43.939Z"
   },
   {
    "duration": 13,
    "start_time": "2021-12-21T23:23:05.956Z"
   },
   {
    "duration": 12,
    "start_time": "2021-12-21T23:23:16.959Z"
   },
   {
    "duration": 12,
    "start_time": "2021-12-21T23:23:27.259Z"
   },
   {
    "duration": 93,
    "start_time": "2021-12-21T23:23:38.301Z"
   },
   {
    "duration": 9,
    "start_time": "2021-12-21T23:23:40.750Z"
   },
   {
    "duration": 7,
    "start_time": "2021-12-21T23:23:47.948Z"
   },
   {
    "duration": 34,
    "start_time": "2021-12-21T23:23:52.598Z"
   },
   {
    "duration": 5,
    "start_time": "2021-12-21T23:23:59.010Z"
   },
   {
    "duration": 6,
    "start_time": "2021-12-21T23:24:06.100Z"
   },
   {
    "duration": 8,
    "start_time": "2021-12-21T23:24:09.580Z"
   },
   {
    "duration": 7,
    "start_time": "2021-12-21T23:24:12.925Z"
   },
   {
    "duration": 7,
    "start_time": "2021-12-21T23:24:20.935Z"
   },
   {
    "duration": 11,
    "start_time": "2021-12-21T23:24:25.540Z"
   },
   {
    "duration": 194,
    "start_time": "2021-12-21T23:24:29.707Z"
   },
   {
    "duration": 6,
    "start_time": "2021-12-21T23:24:31.310Z"
   },
   {
    "duration": 187,
    "start_time": "2021-12-21T23:24:33.069Z"
   },
   {
    "duration": 8,
    "start_time": "2021-12-21T23:24:34.720Z"
   },
   {
    "duration": 65,
    "start_time": "2021-12-21T23:25:15.871Z"
   },
   {
    "duration": 9,
    "start_time": "2021-12-21T23:25:18.340Z"
   },
   {
    "duration": 8,
    "start_time": "2021-12-21T23:25:19.600Z"
   },
   {
    "duration": 6,
    "start_time": "2021-12-21T23:25:21.146Z"
   },
   {
    "duration": 12,
    "start_time": "2021-12-21T23:25:22.841Z"
   },
   {
    "duration": 88,
    "start_time": "2021-12-21T23:25:25.992Z"
   },
   {
    "duration": 12,
    "start_time": "2021-12-21T23:25:27.659Z"
   },
   {
    "duration": 8,
    "start_time": "2021-12-21T23:25:30.599Z"
   },
   {
    "duration": 31,
    "start_time": "2021-12-21T23:25:32.938Z"
   },
   {
    "duration": 6,
    "start_time": "2021-12-21T23:25:35.557Z"
   },
   {
    "duration": 6,
    "start_time": "2021-12-21T23:25:36.531Z"
   },
   {
    "duration": 8,
    "start_time": "2021-12-21T23:25:38.860Z"
   },
   {
    "duration": 9,
    "start_time": "2021-12-21T23:25:43.149Z"
   },
   {
    "duration": 7,
    "start_time": "2021-12-21T23:25:46.357Z"
   },
   {
    "duration": 11,
    "start_time": "2021-12-21T23:25:47.990Z"
   },
   {
    "duration": 190,
    "start_time": "2021-12-21T23:25:53.150Z"
   },
   {
    "duration": 6,
    "start_time": "2021-12-21T23:25:53.660Z"
   },
   {
    "duration": 183,
    "start_time": "2021-12-21T23:25:54.680Z"
   },
   {
    "duration": 9,
    "start_time": "2021-12-21T23:25:55.230Z"
   },
   {
    "duration": 7,
    "start_time": "2021-12-21T23:25:58.080Z"
   },
   {
    "duration": 49,
    "start_time": "2021-12-21T23:26:10.949Z"
   },
   {
    "duration": 7,
    "start_time": "2021-12-21T23:26:12.900Z"
   },
   {
    "duration": 45,
    "start_time": "2021-12-21T23:26:19.311Z"
   },
   {
    "duration": 6,
    "start_time": "2021-12-21T23:26:21.920Z"
   },
   {
    "duration": 59,
    "start_time": "2021-12-21T23:26:26.201Z"
   },
   {
    "duration": 38,
    "start_time": "2021-12-21T23:26:29.960Z"
   },
   {
    "duration": 5,
    "start_time": "2021-12-21T23:26:43.270Z"
   },
   {
    "duration": 2654,
    "start_time": "2021-12-21T23:26:44.430Z"
   },
   {
    "duration": 2848,
    "start_time": "2021-12-21T23:26:53.143Z"
   },
   {
    "duration": 72,
    "start_time": "2021-12-21T23:43:12.806Z"
   },
   {
    "duration": 10,
    "start_time": "2021-12-21T23:43:13.771Z"
   },
   {
    "duration": 9,
    "start_time": "2021-12-21T23:43:14.165Z"
   },
   {
    "duration": 6,
    "start_time": "2021-12-21T23:43:14.778Z"
   },
   {
    "duration": 13,
    "start_time": "2021-12-21T23:43:15.205Z"
   },
   {
    "duration": 90,
    "start_time": "2021-12-21T23:43:16.065Z"
   },
   {
    "duration": 12,
    "start_time": "2021-12-21T23:43:17.018Z"
   },
   {
    "duration": 8,
    "start_time": "2021-12-21T23:43:19.010Z"
   },
   {
    "duration": 33,
    "start_time": "2021-12-21T23:43:21.275Z"
   },
   {
    "duration": 5,
    "start_time": "2021-12-21T23:43:25.712Z"
   },
   {
    "duration": 9,
    "start_time": "2021-12-21T23:43:33.541Z"
   },
   {
    "duration": 13,
    "start_time": "2021-12-21T23:45:28.002Z"
   },
   {
    "duration": 9,
    "start_time": "2021-12-21T23:50:49.156Z"
   },
   {
    "duration": 860,
    "start_time": "2021-12-22T14:05:31.356Z"
   },
   {
    "duration": 12,
    "start_time": "2021-12-22T14:05:38.085Z"
   },
   {
    "duration": 16,
    "start_time": "2021-12-22T14:05:40.144Z"
   },
   {
    "duration": 8,
    "start_time": "2021-12-22T14:05:42.911Z"
   },
   {
    "duration": 10,
    "start_time": "2021-12-22T14:06:07.845Z"
   },
   {
    "duration": 8,
    "start_time": "2021-12-22T14:06:11.794Z"
   },
   {
    "duration": 18,
    "start_time": "2021-12-22T14:06:14.094Z"
   },
   {
    "duration": 143,
    "start_time": "2021-12-22T14:06:16.245Z"
   },
   {
    "duration": 16,
    "start_time": "2021-12-22T14:06:18.152Z"
   },
   {
    "duration": 12,
    "start_time": "2021-12-22T14:06:21.925Z"
   },
   {
    "duration": 49,
    "start_time": "2021-12-22T14:06:32.886Z"
   },
   {
    "duration": 8,
    "start_time": "2021-12-22T14:06:35.889Z"
   },
   {
    "duration": 10,
    "start_time": "2021-12-22T14:06:37.525Z"
   },
   {
    "duration": 18,
    "start_time": "2021-12-22T14:06:41.328Z"
   },
   {
    "duration": 12,
    "start_time": "2021-12-22T14:06:52.467Z"
   },
   {
    "duration": 12,
    "start_time": "2021-12-22T14:08:05.014Z"
   },
   {
    "duration": 12,
    "start_time": "2021-12-22T14:10:16.375Z"
   },
   {
    "duration": 11,
    "start_time": "2021-12-22T14:10:26.009Z"
   },
   {
    "duration": 16,
    "start_time": "2021-12-22T14:10:29.518Z"
   },
   {
    "duration": 489,
    "start_time": "2021-12-22T14:10:31.751Z"
   },
   {
    "duration": 8,
    "start_time": "2021-12-22T14:10:34.607Z"
   },
   {
    "duration": 317,
    "start_time": "2021-12-22T14:10:41.172Z"
   },
   {
    "duration": 13,
    "start_time": "2021-12-22T14:10:42.757Z"
   },
   {
    "duration": 8,
    "start_time": "2021-12-22T14:10:52.802Z"
   },
   {
    "duration": 69,
    "start_time": "2021-12-22T14:10:54.361Z"
   },
   {
    "duration": 13,
    "start_time": "2021-12-22T14:11:00.891Z"
   },
   {
    "duration": 73,
    "start_time": "2021-12-22T14:11:07.033Z"
   },
   {
    "duration": 24,
    "start_time": "2021-12-22T14:11:14.174Z"
   },
   {
    "duration": 10,
    "start_time": "2021-12-22T14:11:19.042Z"
   },
   {
    "duration": 10,
    "start_time": "2021-12-22T14:11:26.801Z"
   },
   {
    "duration": 9,
    "start_time": "2021-12-22T14:11:31.397Z"
   },
   {
    "duration": 83,
    "start_time": "2021-12-22T14:11:35.811Z"
   },
   {
    "duration": 67,
    "start_time": "2021-12-22T14:11:51.123Z"
   },
   {
    "duration": 10,
    "start_time": "2021-12-22T14:12:14.051Z"
   },
   {
    "duration": 3844,
    "start_time": "2021-12-22T14:12:20.292Z"
   },
   {
    "duration": 4335,
    "start_time": "2021-12-22T14:12:24.139Z"
   },
   {
    "duration": 1596,
    "start_time": "2021-12-22T14:42:39.803Z"
   },
   {
    "duration": 25684,
    "start_time": "2021-12-22T14:43:38.926Z"
   },
   {
    "duration": 24276,
    "start_time": "2021-12-22T14:45:08.193Z"
   },
   {
    "duration": 24526,
    "start_time": "2021-12-22T14:46:08.889Z"
   },
   {
    "duration": 21,
    "start_time": "2021-12-22T14:46:33.417Z"
   },
   {
    "duration": 47,
    "start_time": "2021-12-22T14:47:50.711Z"
   },
   {
    "duration": 8,
    "start_time": "2021-12-22T14:50:57.243Z"
   },
   {
    "duration": 7,
    "start_time": "2021-12-22T14:51:17.044Z"
   },
   {
    "duration": 99,
    "start_time": "2021-12-22T14:51:27.688Z"
   },
   {
    "duration": 12,
    "start_time": "2021-12-22T14:51:29.968Z"
   },
   {
    "duration": 13,
    "start_time": "2021-12-22T14:51:31.686Z"
   },
   {
    "duration": 8,
    "start_time": "2021-12-22T14:51:33.729Z"
   },
   {
    "duration": 17,
    "start_time": "2021-12-22T14:51:35.401Z"
   },
   {
    "duration": 128,
    "start_time": "2021-12-22T14:51:37.478Z"
   },
   {
    "duration": 16,
    "start_time": "2021-12-22T14:51:38.613Z"
   },
   {
    "duration": 13,
    "start_time": "2021-12-22T14:51:41.004Z"
   },
   {
    "duration": 53,
    "start_time": "2021-12-22T14:51:44.404Z"
   },
   {
    "duration": 6,
    "start_time": "2021-12-22T14:51:47.728Z"
   },
   {
    "duration": 9,
    "start_time": "2021-12-22T14:51:49.076Z"
   },
   {
    "duration": 17,
    "start_time": "2021-12-22T14:51:50.198Z"
   },
   {
    "duration": 15,
    "start_time": "2021-12-22T14:51:51.434Z"
   },
   {
    "duration": 9,
    "start_time": "2021-12-22T14:51:54.960Z"
   },
   {
    "duration": 15,
    "start_time": "2021-12-22T14:51:56.512Z"
   },
   {
    "duration": 308,
    "start_time": "2021-12-22T14:51:59.216Z"
   },
   {
    "duration": 8,
    "start_time": "2021-12-22T14:52:00.535Z"
   },
   {
    "duration": 304,
    "start_time": "2021-12-22T14:52:01.807Z"
   },
   {
    "duration": 12,
    "start_time": "2021-12-22T14:52:04.723Z"
   },
   {
    "duration": 8,
    "start_time": "2021-12-22T14:52:07.931Z"
   },
   {
    "duration": 10,
    "start_time": "2021-12-22T14:52:13.748Z"
   },
   {
    "duration": 72,
    "start_time": "2021-12-22T14:52:15.292Z"
   },
   {
    "duration": 12,
    "start_time": "2021-12-22T14:52:17.725Z"
   },
   {
    "duration": 93,
    "start_time": "2021-12-22T14:52:23.648Z"
   },
   {
    "duration": 14,
    "start_time": "2021-12-22T14:52:25.474Z"
   },
   {
    "duration": 140,
    "start_time": "2021-12-22T14:52:30.074Z"
   },
   {
    "duration": 73,
    "start_time": "2021-12-22T14:52:34.299Z"
   },
   {
    "duration": 8,
    "start_time": "2021-12-22T14:52:57.374Z"
   },
   {
    "duration": 3459,
    "start_time": "2021-12-22T14:52:58.554Z"
   },
   {
    "duration": 4155,
    "start_time": "2021-12-22T14:53:02.352Z"
   },
   {
    "duration": 24356,
    "start_time": "2021-12-22T14:55:55.363Z"
   },
   {
    "duration": 42,
    "start_time": "2021-12-22T14:56:48.042Z"
   },
   {
    "duration": 8,
    "start_time": "2021-12-22T14:59:47.813Z"
   },
   {
    "duration": 38,
    "start_time": "2021-12-22T15:00:33.710Z"
   },
   {
    "duration": 3,
    "start_time": "2021-12-22T15:04:22.898Z"
   },
   {
    "duration": 8769,
    "start_time": "2021-12-22T15:06:40.407Z"
   },
   {
    "duration": 16,
    "start_time": "2021-12-22T15:08:24.814Z"
   },
   {
    "duration": 17287,
    "start_time": "2021-12-22T15:16:44.684Z"
   },
   {
    "duration": 17153,
    "start_time": "2021-12-22T15:18:08.576Z"
   },
   {
    "duration": 30943,
    "start_time": "2021-12-22T15:19:02.761Z"
   },
   {
    "duration": 816,
    "start_time": "2021-12-22T15:20:10.653Z"
   },
   {
    "duration": 6,
    "start_time": "2021-12-22T15:20:28.706Z"
   },
   {
    "duration": 6,
    "start_time": "2021-12-22T15:21:18.408Z"
   },
   {
    "duration": 362,
    "start_time": "2021-12-22T15:22:52.405Z"
   },
   {
    "duration": 7,
    "start_time": "2021-12-22T15:23:01.210Z"
   },
   {
    "duration": 62,
    "start_time": "2021-12-22T15:27:06.435Z"
   },
   {
    "duration": 13,
    "start_time": "2021-12-22T15:28:47.223Z"
   },
   {
    "duration": 12,
    "start_time": "2021-12-22T15:29:07.605Z"
   },
   {
    "duration": 1473,
    "start_time": "2021-12-22T15:52:23.811Z"
   },
   {
    "duration": 9612,
    "start_time": "2021-12-22T15:53:02.324Z"
   },
   {
    "duration": 118,
    "start_time": "2021-12-22T15:53:32.771Z"
   },
   {
    "duration": 24,
    "start_time": "2021-12-22T15:54:47.387Z"
   },
   {
    "duration": 794,
    "start_time": "2021-12-22T20:42:07.661Z"
   },
   {
    "duration": 10,
    "start_time": "2021-12-22T20:42:09.062Z"
   },
   {
    "duration": 10,
    "start_time": "2021-12-22T20:42:09.075Z"
   },
   {
    "duration": 6,
    "start_time": "2021-12-22T20:42:09.724Z"
   },
   {
    "duration": 14,
    "start_time": "2021-12-22T20:42:10.173Z"
   },
   {
    "duration": 103,
    "start_time": "2021-12-22T20:42:10.591Z"
   },
   {
    "duration": 13,
    "start_time": "2021-12-22T20:42:11.009Z"
   },
   {
    "duration": 8,
    "start_time": "2021-12-22T20:42:11.820Z"
   },
   {
    "duration": 35,
    "start_time": "2021-12-22T20:42:12.672Z"
   },
   {
    "duration": 6,
    "start_time": "2021-12-22T20:42:13.569Z"
   },
   {
    "duration": 7,
    "start_time": "2021-12-22T20:42:14.001Z"
   },
   {
    "duration": 14,
    "start_time": "2021-12-22T20:42:14.434Z"
   },
   {
    "duration": 10,
    "start_time": "2021-12-22T20:42:14.870Z"
   },
   {
    "duration": 7,
    "start_time": "2021-12-22T20:42:15.746Z"
   },
   {
    "duration": 18,
    "start_time": "2021-12-22T20:42:16.179Z"
   },
   {
    "duration": 415,
    "start_time": "2021-12-22T20:42:16.676Z"
   },
   {
    "duration": 14,
    "start_time": "2021-12-22T20:42:17.094Z"
   },
   {
    "duration": 194,
    "start_time": "2021-12-22T20:42:17.516Z"
   },
   {
    "duration": 9,
    "start_time": "2021-12-22T20:42:17.797Z"
   },
   {
    "duration": 6,
    "start_time": "2021-12-22T20:42:18.409Z"
   },
   {
    "duration": 9,
    "start_time": "2021-12-22T20:42:19.660Z"
   },
   {
    "duration": 50,
    "start_time": "2021-12-22T20:42:20.283Z"
   },
   {
    "duration": 8,
    "start_time": "2021-12-22T20:42:20.971Z"
   },
   {
    "duration": 6,
    "start_time": "2021-12-22T20:42:21.713Z"
   },
   {
    "duration": 43,
    "start_time": "2021-12-22T20:42:23.785Z"
   },
   {
    "duration": 7,
    "start_time": "2021-12-22T20:42:24.698Z"
   },
   {
    "duration": 64,
    "start_time": "2021-12-22T20:42:25.297Z"
   },
   {
    "duration": 43,
    "start_time": "2021-12-22T20:42:26.035Z"
   },
   {
    "duration": 5,
    "start_time": "2021-12-22T20:42:28.512Z"
   },
   {
    "duration": 2669,
    "start_time": "2021-12-22T20:42:28.519Z"
   },
   {
    "duration": 3223,
    "start_time": "2021-12-22T20:42:31.190Z"
   },
   {
    "duration": 4,
    "start_time": "2021-12-22T20:42:34.416Z"
   },
   {
    "duration": 27,
    "start_time": "2021-12-22T20:42:34.760Z"
   },
   {
    "duration": 14,
    "start_time": "2021-12-22T20:42:37.797Z"
   },
   {
    "duration": 3735,
    "start_time": "2021-12-22T20:43:46.481Z"
   },
   {
    "duration": 5,
    "start_time": "2021-12-22T20:43:50.219Z"
   },
   {
    "duration": 46,
    "start_time": "2021-12-22T20:43:50.813Z"
   },
   {
    "duration": 12,
    "start_time": "2021-12-22T20:43:51.970Z"
   },
   {
    "duration": 19,
    "start_time": "2021-12-22T20:43:53.808Z"
   },
   {
    "duration": 24,
    "start_time": "2021-12-22T20:44:03.822Z"
   },
   {
    "duration": 17,
    "start_time": "2021-12-22T20:46:35.920Z"
   },
   {
    "duration": 14,
    "start_time": "2021-12-22T20:47:38.974Z"
   },
   {
    "duration": 18,
    "start_time": "2021-12-22T20:47:51.486Z"
   },
   {
    "duration": 14,
    "start_time": "2021-12-22T20:48:37.598Z"
   },
   {
    "duration": 15,
    "start_time": "2021-12-22T21:31:02.749Z"
   },
   {
    "duration": 22,
    "start_time": "2021-12-22T21:42:14.085Z"
   },
   {
    "duration": 427,
    "start_time": "2021-12-22T22:06:48.279Z"
   },
   {
    "duration": 23,
    "start_time": "2021-12-22T22:07:04.721Z"
   },
   {
    "duration": 35,
    "start_time": "2021-12-22T22:08:31.526Z"
   },
   {
    "duration": 14,
    "start_time": "2021-12-22T22:09:28.562Z"
   },
   {
    "duration": 408,
    "start_time": "2021-12-22T22:12:46.530Z"
   },
   {
    "duration": 7191,
    "start_time": "2021-12-22T22:16:01.355Z"
   },
   {
    "duration": 15,
    "start_time": "2021-12-22T22:16:46.957Z"
   },
   {
    "duration": 14,
    "start_time": "2021-12-22T22:20:25.208Z"
   },
   {
    "duration": 872,
    "start_time": "2021-12-23T15:17:22.327Z"
   },
   {
    "duration": 12,
    "start_time": "2021-12-23T15:17:28.260Z"
   },
   {
    "duration": 13,
    "start_time": "2021-12-23T15:17:29.465Z"
   },
   {
    "duration": 8,
    "start_time": "2021-12-23T15:17:30.775Z"
   },
   {
    "duration": 18,
    "start_time": "2021-12-23T15:17:31.896Z"
   },
   {
    "duration": 141,
    "start_time": "2021-12-23T15:17:33.357Z"
   },
   {
    "duration": 16,
    "start_time": "2021-12-23T15:17:34.812Z"
   },
   {
    "duration": 11,
    "start_time": "2021-12-23T15:17:37.205Z"
   },
   {
    "duration": 52,
    "start_time": "2021-12-23T15:17:47.290Z"
   },
   {
    "duration": 7,
    "start_time": "2021-12-23T15:17:50.420Z"
   },
   {
    "duration": 9,
    "start_time": "2021-12-23T15:17:52.826Z"
   },
   {
    "duration": 19,
    "start_time": "2021-12-23T15:17:52.838Z"
   },
   {
    "duration": 11,
    "start_time": "2021-12-23T15:17:54.700Z"
   },
   {
    "duration": 11,
    "start_time": "2021-12-23T15:17:58.534Z"
   },
   {
    "duration": 18,
    "start_time": "2021-12-23T15:17:59.554Z"
   },
   {
    "duration": 448,
    "start_time": "2021-12-23T15:18:00.835Z"
   },
   {
    "duration": 10,
    "start_time": "2021-12-23T15:18:01.806Z"
   },
   {
    "duration": 306,
    "start_time": "2021-12-23T15:18:02.920Z"
   },
   {
    "duration": 14,
    "start_time": "2021-12-23T15:18:03.558Z"
   },
   {
    "duration": 9,
    "start_time": "2021-12-23T15:18:04.496Z"
   },
   {
    "duration": 10,
    "start_time": "2021-12-23T15:18:05.957Z"
   },
   {
    "duration": 71,
    "start_time": "2021-12-23T15:18:06.836Z"
   },
   {
    "duration": 14,
    "start_time": "2021-12-23T15:18:07.788Z"
   },
   {
    "duration": 9,
    "start_time": "2021-12-23T15:18:09.043Z"
   },
   {
    "duration": 63,
    "start_time": "2021-12-23T15:18:13.679Z"
   },
   {
    "duration": 9,
    "start_time": "2021-12-23T15:18:15.563Z"
   },
   {
    "duration": 85,
    "start_time": "2021-12-23T15:18:16.303Z"
   },
   {
    "duration": 54,
    "start_time": "2021-12-23T15:18:17.974Z"
   },
   {
    "duration": 92,
    "start_time": "2021-12-23T15:18:52.971Z"
   },
   {
    "duration": 12,
    "start_time": "2021-12-23T15:18:54.095Z"
   },
   {
    "duration": 12,
    "start_time": "2021-12-23T15:18:54.635Z"
   },
   {
    "duration": 7,
    "start_time": "2021-12-23T15:18:55.611Z"
   },
   {
    "duration": 18,
    "start_time": "2021-12-23T15:18:56.296Z"
   },
   {
    "duration": 137,
    "start_time": "2021-12-23T15:18:57.078Z"
   },
   {
    "duration": 15,
    "start_time": "2021-12-23T15:18:58.205Z"
   },
   {
    "duration": 11,
    "start_time": "2021-12-23T15:19:10.948Z"
   },
   {
    "duration": 48,
    "start_time": "2021-12-23T15:22:18.102Z"
   },
   {
    "duration": 8,
    "start_time": "2021-12-23T15:22:19.767Z"
   },
   {
    "duration": 10,
    "start_time": "2021-12-23T15:22:20.372Z"
   },
   {
    "duration": 18,
    "start_time": "2021-12-23T15:22:21.161Z"
   },
   {
    "duration": 11,
    "start_time": "2021-12-23T15:22:22.216Z"
   },
   {
    "duration": 11,
    "start_time": "2021-12-23T15:22:24.581Z"
   },
   {
    "duration": 16,
    "start_time": "2021-12-23T15:22:25.804Z"
   },
   {
    "duration": 320,
    "start_time": "2021-12-23T15:22:26.650Z"
   },
   {
    "duration": 95,
    "start_time": "2021-12-23T15:22:32.164Z"
   },
   {
    "duration": 12,
    "start_time": "2021-12-23T15:22:36.897Z"
   },
   {
    "duration": 14,
    "start_time": "2021-12-23T15:22:39.272Z"
   },
   {
    "duration": 8,
    "start_time": "2021-12-23T15:22:41.487Z"
   },
   {
    "duration": 18,
    "start_time": "2021-12-23T15:22:43.176Z"
   },
   {
    "duration": 182,
    "start_time": "2021-12-23T15:22:44.801Z"
   },
   {
    "duration": 16,
    "start_time": "2021-12-23T15:22:46.310Z"
   },
   {
    "duration": 11,
    "start_time": "2021-12-23T15:22:48.218Z"
   },
   {
    "duration": 49,
    "start_time": "2021-12-23T15:22:49.878Z"
   },
   {
    "duration": 8,
    "start_time": "2021-12-23T15:22:53.016Z"
   },
   {
    "duration": 12,
    "start_time": "2021-12-23T15:22:54.308Z"
   },
   {
    "duration": 22,
    "start_time": "2021-12-23T15:22:54.324Z"
   },
   {
    "duration": 14,
    "start_time": "2021-12-23T15:22:54.361Z"
   },
   {
    "duration": 10,
    "start_time": "2021-12-23T15:22:55.361Z"
   },
   {
    "duration": 16,
    "start_time": "2021-12-23T15:22:55.742Z"
   },
   {
    "duration": 324,
    "start_time": "2021-12-23T15:22:56.331Z"
   },
   {
    "duration": 9,
    "start_time": "2021-12-23T15:22:56.781Z"
   },
   {
    "duration": 316,
    "start_time": "2021-12-23T15:22:57.203Z"
   },
   {
    "duration": 14,
    "start_time": "2021-12-23T15:22:57.610Z"
   },
   {
    "duration": 9,
    "start_time": "2021-12-23T15:22:58.555Z"
   },
   {
    "duration": 10,
    "start_time": "2021-12-23T15:22:59.756Z"
   },
   {
    "duration": 74,
    "start_time": "2021-12-23T15:23:00.349Z"
   },
   {
    "duration": 11,
    "start_time": "2021-12-23T15:23:01.352Z"
   },
   {
    "duration": 8,
    "start_time": "2021-12-23T15:23:02.009Z"
   },
   {
    "duration": 495,
    "start_time": "2021-12-23T15:50:36.714Z"
   },
   {
    "duration": 9,
    "start_time": "2021-12-23T15:50:51.988Z"
   },
   {
    "duration": 90,
    "start_time": "2021-12-23T15:50:52.347Z"
   },
   {
    "duration": 55,
    "start_time": "2021-12-23T15:50:52.701Z"
   },
   {
    "duration": 6,
    "start_time": "2021-12-23T15:50:53.606Z"
   },
   {
    "duration": 3830,
    "start_time": "2021-12-23T15:50:53.773Z"
   },
   {
    "duration": 4180,
    "start_time": "2021-12-23T15:50:57.606Z"
   },
   {
    "duration": 5,
    "start_time": "2021-12-23T15:51:01.789Z"
   },
   {
    "duration": 46,
    "start_time": "2021-12-23T15:51:01.797Z"
   },
   {
    "duration": 32,
    "start_time": "2021-12-23T15:51:01.845Z"
   },
   {
    "duration": 24,
    "start_time": "2021-12-23T15:51:01.880Z"
   },
   {
    "duration": 61,
    "start_time": "2021-12-23T15:51:01.906Z"
   },
   {
    "duration": 19,
    "start_time": "2021-12-23T15:51:01.970Z"
   },
   {
    "duration": 21,
    "start_time": "2021-12-23T15:51:39.870Z"
   },
   {
    "duration": 79,
    "start_time": "2021-12-23T15:52:07.923Z"
   },
   {
    "duration": 20,
    "start_time": "2021-12-23T15:54:03.547Z"
   },
   {
    "duration": 20,
    "start_time": "2021-12-23T15:54:48.128Z"
   },
   {
    "duration": 20,
    "start_time": "2021-12-23T15:54:55.826Z"
   },
   {
    "duration": 22,
    "start_time": "2021-12-23T15:55:08.739Z"
   },
   {
    "duration": 21,
    "start_time": "2021-12-23T15:55:18.136Z"
   },
   {
    "duration": 22,
    "start_time": "2021-12-23T15:55:24.825Z"
   },
   {
    "duration": 618,
    "start_time": "2021-12-24T20:11:59.407Z"
   },
   {
    "duration": 10,
    "start_time": "2021-12-24T20:12:01.635Z"
   },
   {
    "duration": 9,
    "start_time": "2021-12-24T20:12:02.555Z"
   },
   {
    "duration": 6,
    "start_time": "2021-12-24T20:12:03.950Z"
   },
   {
    "duration": 13,
    "start_time": "2021-12-24T20:12:05.130Z"
   },
   {
    "duration": 87,
    "start_time": "2021-12-24T20:12:06.356Z"
   },
   {
    "duration": 12,
    "start_time": "2021-12-24T20:12:07.584Z"
   },
   {
    "duration": 7,
    "start_time": "2021-12-24T20:12:09.748Z"
   },
   {
    "duration": 31,
    "start_time": "2021-12-24T20:12:11.526Z"
   },
   {
    "duration": 6,
    "start_time": "2021-12-24T20:12:13.040Z"
   },
   {
    "duration": 6,
    "start_time": "2021-12-24T20:12:14.115Z"
   },
   {
    "duration": 16,
    "start_time": "2021-12-24T20:12:15.085Z"
   },
   {
    "duration": 9,
    "start_time": "2021-12-24T20:12:16.069Z"
   },
   {
    "duration": 9,
    "start_time": "2021-12-24T20:12:17.797Z"
   },
   {
    "duration": 28,
    "start_time": "2021-12-24T20:12:18.755Z"
   },
   {
    "duration": 255,
    "start_time": "2021-12-24T20:12:19.935Z"
   },
   {
    "duration": 7,
    "start_time": "2021-12-24T20:12:20.332Z"
   },
   {
    "duration": 195,
    "start_time": "2021-12-24T20:12:21.006Z"
   },
   {
    "duration": 8,
    "start_time": "2021-12-24T20:12:21.379Z"
   },
   {
    "duration": 6,
    "start_time": "2021-12-24T20:12:22.344Z"
   },
   {
    "duration": 10,
    "start_time": "2021-12-24T20:12:23.668Z"
   },
   {
    "duration": 50,
    "start_time": "2021-12-24T20:12:24.614Z"
   },
   {
    "duration": 8,
    "start_time": "2021-12-24T20:12:25.610Z"
   },
   {
    "duration": 6,
    "start_time": "2021-12-24T20:12:26.461Z"
   },
   {
    "duration": 45,
    "start_time": "2021-12-24T20:16:07.677Z"
   },
   {
    "duration": 7,
    "start_time": "2021-12-24T20:16:09.421Z"
   },
   {
    "duration": 55,
    "start_time": "2021-12-24T20:16:10.666Z"
   },
   {
    "duration": 36,
    "start_time": "2021-12-24T20:16:12.221Z"
   },
   {
    "duration": 5,
    "start_time": "2021-12-24T20:16:18.233Z"
   },
   {
    "duration": 2858,
    "start_time": "2021-12-24T20:16:18.853Z"
   },
   {
    "duration": 3045,
    "start_time": "2021-12-24T20:16:22.984Z"
   },
   {
    "duration": 5,
    "start_time": "2021-12-24T20:16:28.024Z"
   },
   {
    "duration": 27,
    "start_time": "2021-12-24T20:16:30.176Z"
   },
   {
    "duration": 15,
    "start_time": "2021-12-24T20:16:30.735Z"
   },
   {
    "duration": 15,
    "start_time": "2021-12-24T20:16:33.333Z"
   },
   {
    "duration": 77,
    "start_time": "2021-12-24T20:16:42.929Z"
   },
   {
    "duration": 11,
    "start_time": "2021-12-24T20:16:43.838Z"
   },
   {
    "duration": 9,
    "start_time": "2021-12-24T20:16:44.207Z"
   },
   {
    "duration": 7,
    "start_time": "2021-12-24T20:16:44.780Z"
   },
   {
    "duration": 14,
    "start_time": "2021-12-24T20:16:45.257Z"
   },
   {
    "duration": 98,
    "start_time": "2021-12-24T20:16:45.531Z"
   },
   {
    "duration": 14,
    "start_time": "2021-12-24T20:16:45.909Z"
   },
   {
    "duration": 9,
    "start_time": "2021-12-24T20:16:46.708Z"
   },
   {
    "duration": 48,
    "start_time": "2021-12-24T20:16:47.524Z"
   },
   {
    "duration": 5,
    "start_time": "2021-12-24T20:16:48.311Z"
   },
   {
    "duration": 6,
    "start_time": "2021-12-24T20:16:48.707Z"
   },
   {
    "duration": 13,
    "start_time": "2021-12-24T20:16:49.135Z"
   },
   {
    "duration": 8,
    "start_time": "2021-12-24T20:16:49.541Z"
   },
   {
    "duration": 6,
    "start_time": "2021-12-24T20:16:50.388Z"
   },
   {
    "duration": 12,
    "start_time": "2021-12-24T20:16:50.870Z"
   },
   {
    "duration": 188,
    "start_time": "2021-12-24T20:16:51.325Z"
   },
   {
    "duration": 7,
    "start_time": "2021-12-24T20:16:51.579Z"
   },
   {
    "duration": 177,
    "start_time": "2021-12-24T20:16:51.984Z"
   },
   {
    "duration": 8,
    "start_time": "2021-12-24T20:16:52.178Z"
   },
   {
    "duration": 6,
    "start_time": "2021-12-24T20:16:52.588Z"
   },
   {
    "duration": 8,
    "start_time": "2021-12-24T20:16:53.223Z"
   },
   {
    "duration": 53,
    "start_time": "2021-12-24T20:16:53.628Z"
   },
   {
    "duration": 7,
    "start_time": "2021-12-24T20:16:54.047Z"
   },
   {
    "duration": 6,
    "start_time": "2021-12-24T20:16:54.448Z"
   },
   {
    "duration": 47,
    "start_time": "2021-12-24T20:16:55.910Z"
   },
   {
    "duration": 7,
    "start_time": "2021-12-24T20:16:56.637Z"
   },
   {
    "duration": 58,
    "start_time": "2021-12-24T20:16:57.114Z"
   },
   {
    "duration": 40,
    "start_time": "2021-12-24T20:16:58.564Z"
   },
   {
    "duration": 5,
    "start_time": "2021-12-24T20:16:59.118Z"
   },
   {
    "duration": 2696,
    "start_time": "2021-12-24T20:16:59.375Z"
   },
   {
    "duration": 3022,
    "start_time": "2021-12-24T20:17:02.073Z"
   },
   {
    "duration": 4,
    "start_time": "2021-12-24T20:17:05.097Z"
   },
   {
    "duration": 26,
    "start_time": "2021-12-24T20:17:05.103Z"
   },
   {
    "duration": 33,
    "start_time": "2021-12-24T20:17:05.131Z"
   },
   {
    "duration": 15,
    "start_time": "2021-12-24T20:17:05.166Z"
   },
   {
    "duration": 21,
    "start_time": "2021-12-24T20:17:10.501Z"
   },
   {
    "duration": 14,
    "start_time": "2021-12-24T20:17:12.263Z"
   },
   {
    "duration": 21,
    "start_time": "2021-12-24T20:17:16.971Z"
   },
   {
    "duration": 14,
    "start_time": "2021-12-24T20:17:28.138Z"
   },
   {
    "duration": 14,
    "start_time": "2021-12-24T20:17:33.788Z"
   },
   {
    "duration": 844,
    "start_time": "2021-12-25T16:20:45.460Z"
   },
   {
    "duration": 12,
    "start_time": "2021-12-25T16:20:46.307Z"
   },
   {
    "duration": 37,
    "start_time": "2021-12-25T16:20:46.322Z"
   },
   {
    "duration": 7,
    "start_time": "2021-12-25T16:20:46.363Z"
   },
   {
    "duration": 18,
    "start_time": "2021-12-25T16:20:46.373Z"
   },
   {
    "duration": 193,
    "start_time": "2021-12-25T16:20:46.394Z"
   },
   {
    "duration": 15,
    "start_time": "2021-12-25T16:20:46.590Z"
   },
   {
    "duration": 10,
    "start_time": "2021-12-25T16:20:46.609Z"
   },
   {
    "duration": 90,
    "start_time": "2021-12-25T16:20:46.621Z"
   },
   {
    "duration": 6,
    "start_time": "2021-12-25T16:20:46.713Z"
   },
   {
    "duration": 37,
    "start_time": "2021-12-25T16:20:46.722Z"
   },
   {
    "duration": 17,
    "start_time": "2021-12-25T16:20:46.762Z"
   },
   {
    "duration": 10,
    "start_time": "2021-12-25T16:20:46.781Z"
   },
   {
    "duration": 8,
    "start_time": "2021-12-25T16:20:46.794Z"
   },
   {
    "duration": 56,
    "start_time": "2021-12-25T16:20:46.804Z"
   },
   {
    "duration": 432,
    "start_time": "2021-12-25T16:20:46.862Z"
   },
   {
    "duration": 8,
    "start_time": "2021-12-25T16:20:47.297Z"
   },
   {
    "duration": 436,
    "start_time": "2021-12-25T16:20:47.308Z"
   },
   {
    "duration": 16,
    "start_time": "2021-12-25T16:20:47.747Z"
   },
   {
    "duration": 8,
    "start_time": "2021-12-25T16:20:47.765Z"
   },
   {
    "duration": 12,
    "start_time": "2021-12-25T16:20:47.775Z"
   },
   {
    "duration": 117,
    "start_time": "2021-12-25T16:20:47.790Z"
   },
   {
    "duration": 10,
    "start_time": "2021-12-25T16:20:47.912Z"
   },
   {
    "duration": 8,
    "start_time": "2021-12-25T16:20:47.925Z"
   },
   {
    "duration": 61,
    "start_time": "2021-12-25T16:20:47.960Z"
   },
   {
    "duration": 8,
    "start_time": "2021-12-25T16:20:48.024Z"
   },
   {
    "duration": 98,
    "start_time": "2021-12-25T16:20:48.034Z"
   },
   {
    "duration": 69,
    "start_time": "2021-12-25T16:20:48.134Z"
   },
   {
    "duration": 7,
    "start_time": "2021-12-25T16:20:48.205Z"
   },
   {
    "duration": 3452,
    "start_time": "2021-12-25T16:20:48.215Z"
   },
   {
    "duration": 4244,
    "start_time": "2021-12-25T16:20:51.670Z"
   },
   {
    "duration": 5,
    "start_time": "2021-12-25T16:20:55.917Z"
   },
   {
    "duration": 62,
    "start_time": "2021-12-25T16:20:55.925Z"
   },
   {
    "duration": 19,
    "start_time": "2021-12-25T16:20:55.989Z"
   },
   {
    "duration": 23,
    "start_time": "2021-12-25T16:20:56.011Z"
   },
   {
    "duration": 33,
    "start_time": "2021-12-25T16:20:56.060Z"
   },
   {
    "duration": 22,
    "start_time": "2021-12-25T16:20:56.096Z"
   },
   {
    "duration": 56,
    "start_time": "2021-12-25T16:20:56.121Z"
   },
   {
    "duration": 22,
    "start_time": "2021-12-25T16:20:56.179Z"
   },
   {
    "duration": 67,
    "start_time": "2021-12-25T16:20:56.203Z"
   },
   {
    "duration": 824,
    "start_time": "2021-12-25T17:04:02.806Z"
   },
   {
    "duration": 11,
    "start_time": "2021-12-25T17:04:03.633Z"
   },
   {
    "duration": 21,
    "start_time": "2021-12-25T17:04:03.647Z"
   },
   {
    "duration": 6,
    "start_time": "2021-12-25T17:04:03.671Z"
   },
   {
    "duration": 20,
    "start_time": "2021-12-25T17:04:09.112Z"
   },
   {
    "duration": 143,
    "start_time": "2021-12-25T17:05:04.153Z"
   },
   {
    "duration": 15,
    "start_time": "2021-12-25T17:14:44.631Z"
   },
   {
    "duration": 12,
    "start_time": "2021-12-25T17:19:19.128Z"
   },
   {
    "duration": 48,
    "start_time": "2021-12-25T17:24:11.937Z"
   },
   {
    "duration": 7,
    "start_time": "2021-12-25T17:28:23.642Z"
   },
   {
    "duration": 9,
    "start_time": "2021-12-25T17:28:39.259Z"
   },
   {
    "duration": 17,
    "start_time": "2021-12-25T17:29:25.812Z"
   },
   {
    "duration": 11,
    "start_time": "2021-12-25T17:31:50.746Z"
   },
   {
    "duration": 9,
    "start_time": "2021-12-25T17:34:03.535Z"
   },
   {
    "duration": 16,
    "start_time": "2021-12-25T17:34:22.345Z"
   },
   {
    "duration": 418,
    "start_time": "2021-12-25T17:34:33.642Z"
   },
   {
    "duration": 10,
    "start_time": "2021-12-25T17:34:58.674Z"
   },
   {
    "duration": 296,
    "start_time": "2021-12-25T17:37:03.244Z"
   },
   {
    "duration": 11,
    "start_time": "2021-12-25T17:37:08.934Z"
   },
   {
    "duration": 10,
    "start_time": "2021-12-25T17:37:28.686Z"
   },
   {
    "duration": 31,
    "start_time": "2021-12-25T17:37:44.112Z"
   },
   {
    "duration": 35,
    "start_time": "2021-12-25T17:38:22.112Z"
   },
   {
    "duration": 9,
    "start_time": "2021-12-25T17:41:18.767Z"
   },
   {
    "duration": 66,
    "start_time": "2021-12-25T17:41:43.787Z"
   },
   {
    "duration": 11,
    "start_time": "2021-12-25T17:41:58.732Z"
   },
   {
    "duration": 8,
    "start_time": "2021-12-25T17:42:08.450Z"
   },
   {
    "duration": 61,
    "start_time": "2021-12-25T17:51:09.970Z"
   },
   {
    "duration": 10,
    "start_time": "2021-12-25T17:56:16.249Z"
   },
   {
    "duration": 82,
    "start_time": "2021-12-25T17:57:10.776Z"
   },
   {
    "duration": 54,
    "start_time": "2021-12-25T17:57:59.353Z"
   },
   {
    "duration": 6,
    "start_time": "2021-12-25T17:59:27.561Z"
   },
   {
    "duration": 3269,
    "start_time": "2021-12-25T17:59:39.090Z"
   },
   {
    "duration": 4095,
    "start_time": "2021-12-25T18:01:00.350Z"
   },
   {
    "duration": 6,
    "start_time": "2021-12-25T18:04:56.500Z"
   },
   {
    "duration": 39,
    "start_time": "2021-12-25T18:05:10.376Z"
   },
   {
    "duration": 18,
    "start_time": "2021-12-25T18:05:24.541Z"
   },
   {
    "duration": 23,
    "start_time": "2021-12-25T18:05:32.274Z"
   },
   {
    "duration": 27,
    "start_time": "2021-12-25T18:07:16.142Z"
   },
   {
    "duration": 19,
    "start_time": "2021-12-25T18:07:32.524Z"
   },
   {
    "duration": 696,
    "start_time": "2021-12-25T18:09:47.843Z"
   },
   {
    "duration": 26,
    "start_time": "2021-12-25T18:10:48.559Z"
   },
   {
    "duration": 21,
    "start_time": "2021-12-25T18:12:45.039Z"
   },
   {
    "duration": 21,
    "start_time": "2021-12-25T18:14:18.767Z"
   },
   {
    "duration": 913,
    "start_time": "2021-12-25T18:15:08.345Z"
   },
   {
    "duration": 11,
    "start_time": "2021-12-25T18:15:09.261Z"
   },
   {
    "duration": 12,
    "start_time": "2021-12-25T18:15:09.275Z"
   },
   {
    "duration": 7,
    "start_time": "2021-12-25T18:15:09.289Z"
   },
   {
    "duration": 23,
    "start_time": "2021-12-25T18:15:09.299Z"
   },
   {
    "duration": 154,
    "start_time": "2021-12-25T18:15:09.361Z"
   },
   {
    "duration": 14,
    "start_time": "2021-12-25T18:15:09.518Z"
   },
   {
    "duration": 12,
    "start_time": "2021-12-25T18:15:09.563Z"
   },
   {
    "duration": 49,
    "start_time": "2021-12-25T18:15:09.579Z"
   },
   {
    "duration": 33,
    "start_time": "2021-12-25T18:15:09.630Z"
   },
   {
    "duration": 9,
    "start_time": "2021-12-25T18:15:09.665Z"
   },
   {
    "duration": 17,
    "start_time": "2021-12-25T18:15:09.676Z"
   },
   {
    "duration": 10,
    "start_time": "2021-12-25T18:15:09.695Z"
   },
   {
    "duration": 54,
    "start_time": "2021-12-25T18:15:09.707Z"
   },
   {
    "duration": 18,
    "start_time": "2021-12-25T18:15:09.763Z"
   },
   {
    "duration": 436,
    "start_time": "2021-12-25T18:15:09.784Z"
   },
   {
    "duration": 9,
    "start_time": "2021-12-25T18:15:10.223Z"
   },
   {
    "duration": 315,
    "start_time": "2021-12-25T18:15:10.235Z"
   },
   {
    "duration": 15,
    "start_time": "2021-12-25T18:15:10.552Z"
   },
   {
    "duration": 7,
    "start_time": "2021-12-25T18:15:10.570Z"
   },
   {
    "duration": 11,
    "start_time": "2021-12-25T18:15:10.579Z"
   },
   {
    "duration": 105,
    "start_time": "2021-12-25T18:15:10.593Z"
   },
   {
    "duration": 9,
    "start_time": "2021-12-25T18:15:10.703Z"
   },
   {
    "duration": 7,
    "start_time": "2021-12-25T18:15:10.714Z"
   },
   {
    "duration": 92,
    "start_time": "2021-12-25T18:15:10.723Z"
   },
   {
    "duration": 9,
    "start_time": "2021-12-25T18:15:10.817Z"
   },
   {
    "duration": 109,
    "start_time": "2021-12-25T18:15:10.828Z"
   },
   {
    "duration": 72,
    "start_time": "2021-12-25T18:15:10.939Z"
   },
   {
    "duration": 7,
    "start_time": "2021-12-25T18:15:11.014Z"
   },
   {
    "duration": 3370,
    "start_time": "2021-12-25T18:15:11.023Z"
   },
   {
    "duration": 4034,
    "start_time": "2021-12-25T18:15:14.395Z"
   },
   {
    "duration": 5,
    "start_time": "2021-12-25T18:15:18.432Z"
   },
   {
    "duration": 37,
    "start_time": "2021-12-25T18:15:18.459Z"
   },
   {
    "duration": 21,
    "start_time": "2021-12-25T18:15:18.498Z"
   },
   {
    "duration": 52,
    "start_time": "2021-12-25T18:15:18.522Z"
   },
   {
    "duration": 31,
    "start_time": "2021-12-25T18:15:18.577Z"
   },
   {
    "duration": 20,
    "start_time": "2021-12-25T18:15:18.610Z"
   },
   {
    "duration": 23,
    "start_time": "2021-12-25T18:15:18.660Z"
   },
   {
    "duration": 23,
    "start_time": "2021-12-25T18:15:18.687Z"
   },
   {
    "duration": 63,
    "start_time": "2021-12-25T18:15:18.713Z"
   },
   {
    "duration": 114,
    "start_time": "2021-12-26T07:41:44.906Z"
   },
   {
    "duration": 854,
    "start_time": "2021-12-26T07:48:05.802Z"
   },
   {
    "duration": 4,
    "start_time": "2021-12-26T07:48:53.383Z"
   },
   {
    "duration": 89,
    "start_time": "2021-12-26T07:49:14.240Z"
   },
   {
    "duration": 12,
    "start_time": "2021-12-26T07:58:46.049Z"
   },
   {
    "duration": 301,
    "start_time": "2021-12-26T08:04:16.556Z"
   },
   {
    "duration": 110,
    "start_time": "2021-12-26T08:15:18.556Z"
   },
   {
    "duration": -3430,
    "start_time": "2021-12-26T08:15:22.101Z"
   },
   {
    "duration": -3444,
    "start_time": "2021-12-26T08:15:22.117Z"
   },
   {
    "duration": 279,
    "start_time": "2021-12-26T08:15:22.017Z"
   },
   {
    "duration": 4,
    "start_time": "2021-12-26T08:15:24.821Z"
   },
   {
    "duration": 297,
    "start_time": "2021-12-26T08:15:25.832Z"
   },
   {
    "duration": 102,
    "start_time": "2021-12-26T08:17:41.130Z"
   },
   {
    "duration": 12,
    "start_time": "2021-12-26T08:18:19.811Z"
   },
   {
    "duration": 924,
    "start_time": "2021-12-26T08:26:00.468Z"
   },
   {
    "duration": 11,
    "start_time": "2021-12-26T08:27:23.297Z"
   },
   {
    "duration": 109,
    "start_time": "2021-12-26T08:38:41.256Z"
   },
   {
    "duration": 99,
    "start_time": "2021-12-26T08:43:09.729Z"
   },
   {
    "duration": 120,
    "start_time": "2021-12-26T08:48:00.128Z"
   },
   {
    "duration": 4,
    "start_time": "2021-12-26T08:55:50.827Z"
   },
   {
    "duration": 292,
    "start_time": "2021-12-26T08:55:51.715Z"
   },
   {
    "duration": 12,
    "start_time": "2021-12-26T08:55:57.217Z"
   },
   {
    "duration": 13,
    "start_time": "2021-12-26T08:55:58.676Z"
   },
   {
    "duration": 8,
    "start_time": "2021-12-26T08:56:02.159Z"
   },
   {
    "duration": 17,
    "start_time": "2021-12-26T08:56:03.719Z"
   },
   {
    "duration": 140,
    "start_time": "2021-12-26T08:56:05.708Z"
   },
   {
    "duration": 17,
    "start_time": "2021-12-26T08:56:11.030Z"
   },
   {
    "duration": 51,
    "start_time": "2021-12-26T08:56:16.753Z"
   },
   {
    "duration": 8,
    "start_time": "2021-12-26T08:56:23.493Z"
   },
   {
    "duration": 11,
    "start_time": "2021-12-26T08:56:24.891Z"
   },
   {
    "duration": 4,
    "start_time": "2021-12-26T09:06:21.458Z"
   },
   {
    "duration": 293,
    "start_time": "2021-12-26T09:06:21.836Z"
   },
   {
    "duration": 17,
    "start_time": "2021-12-26T09:06:23.620Z"
   },
   {
    "duration": 12,
    "start_time": "2021-12-26T09:06:23.994Z"
   },
   {
    "duration": 8,
    "start_time": "2021-12-26T09:06:24.909Z"
   },
   {
    "duration": 17,
    "start_time": "2021-12-26T09:06:25.303Z"
   },
   {
    "duration": 142,
    "start_time": "2021-12-26T09:06:25.856Z"
   },
   {
    "duration": 16,
    "start_time": "2021-12-26T09:06:27.034Z"
   },
   {
    "duration": 50,
    "start_time": "2021-12-26T09:06:28.916Z"
   },
   {
    "duration": 7,
    "start_time": "2021-12-26T09:06:30.530Z"
   },
   {
    "duration": 9,
    "start_time": "2021-12-26T09:06:30.989Z"
   },
   {
    "duration": 19,
    "start_time": "2021-12-26T09:06:31.975Z"
   },
   {
    "duration": 11,
    "start_time": "2021-12-26T09:06:32.813Z"
   },
   {
    "duration": 10,
    "start_time": "2021-12-26T09:06:35.406Z"
   },
   {
    "duration": 13,
    "start_time": "2021-12-26T09:06:36.443Z"
   },
   {
    "duration": 428,
    "start_time": "2021-12-26T09:06:37.139Z"
   },
   {
    "duration": 8,
    "start_time": "2021-12-26T09:06:37.654Z"
   },
   {
    "duration": 379,
    "start_time": "2021-12-26T09:06:38.084Z"
   },
   {
    "duration": 17,
    "start_time": "2021-12-26T09:06:38.468Z"
   },
   {
    "duration": 8,
    "start_time": "2021-12-26T09:06:39.655Z"
   },
   {
    "duration": 74,
    "start_time": "2021-12-26T09:06:40.432Z"
   },
   {
    "duration": 13,
    "start_time": "2021-12-26T09:06:40.973Z"
   },
   {
    "duration": 10,
    "start_time": "2021-12-26T09:06:42.020Z"
   },
   {
    "duration": 9,
    "start_time": "2021-12-26T09:06:56.719Z"
   },
   {
    "duration": 93,
    "start_time": "2021-12-26T09:07:05.147Z"
   },
   {
    "duration": 59,
    "start_time": "2021-12-26T09:07:30.797Z"
   },
   {
    "duration": 24,
    "start_time": "2021-12-26T09:08:45.863Z"
   },
   {
    "duration": 36,
    "start_time": "2021-12-26T09:13:27.704Z"
   },
   {
    "duration": 32,
    "start_time": "2021-12-26T09:13:40.832Z"
   },
   {
    "duration": 4,
    "start_time": "2021-12-26T09:26:47.437Z"
   },
   {
    "duration": 296,
    "start_time": "2021-12-26T09:26:48.184Z"
   },
   {
    "duration": 15,
    "start_time": "2021-12-26T09:26:50.863Z"
   },
   {
    "duration": 13,
    "start_time": "2021-12-26T09:26:51.806Z"
   },
   {
    "duration": 7,
    "start_time": "2021-12-26T09:26:54.941Z"
   },
   {
    "duration": 19,
    "start_time": "2021-12-26T09:26:57.818Z"
   },
   {
    "duration": 145,
    "start_time": "2021-12-26T09:26:58.758Z"
   },
   {
    "duration": 17,
    "start_time": "2021-12-26T09:27:01.270Z"
   },
   {
    "duration": 51,
    "start_time": "2021-12-26T09:27:03.170Z"
   },
   {
    "duration": 8,
    "start_time": "2021-12-26T09:27:06.366Z"
   },
   {
    "duration": 11,
    "start_time": "2021-12-26T09:27:07.139Z"
   },
   {
    "duration": 19,
    "start_time": "2021-12-26T09:27:12.708Z"
   },
   {
    "duration": 11,
    "start_time": "2021-12-26T09:27:22.063Z"
   },
   {
    "duration": 10,
    "start_time": "2021-12-26T09:27:25.909Z"
   },
   {
    "duration": 13,
    "start_time": "2021-12-26T09:27:28.491Z"
   },
   {
    "duration": 340,
    "start_time": "2021-12-26T09:27:29.368Z"
   },
   {
    "duration": 10,
    "start_time": "2021-12-26T09:27:29.711Z"
   },
   {
    "duration": 331,
    "start_time": "2021-12-26T09:27:30.158Z"
   },
   {
    "duration": 12,
    "start_time": "2021-12-26T09:27:30.497Z"
   },
   {
    "duration": 9,
    "start_time": "2021-12-26T09:27:33.186Z"
   },
   {
    "duration": 72,
    "start_time": "2021-12-26T09:27:34.179Z"
   },
   {
    "duration": 13,
    "start_time": "2021-12-26T09:27:34.828Z"
   },
   {
    "duration": 11,
    "start_time": "2021-12-26T09:27:37.165Z"
   },
   {
    "duration": 10,
    "start_time": "2021-12-26T09:27:55.138Z"
   },
   {
    "duration": 27,
    "start_time": "2021-12-26T09:27:56.335Z"
   },
   {
    "duration": 32,
    "start_time": "2021-12-26T09:27:57.809Z"
   },
   {
    "duration": 78,
    "start_time": "2021-12-26T09:28:00.818Z"
   },
   {
    "duration": 7,
    "start_time": "2021-12-26T09:28:12.724Z"
   },
   {
    "duration": 3319,
    "start_time": "2021-12-26T09:28:13.172Z"
   },
   {
    "duration": 3787,
    "start_time": "2021-12-26T09:28:16.494Z"
   },
   {
    "duration": 7,
    "start_time": "2021-12-26T09:28:26.957Z"
   },
   {
    "duration": 40,
    "start_time": "2021-12-26T09:28:27.447Z"
   },
   {
    "duration": 19,
    "start_time": "2021-12-26T09:28:27.944Z"
   },
   {
    "duration": 23,
    "start_time": "2021-12-26T09:28:29.331Z"
   },
   {
    "duration": 29,
    "start_time": "2021-12-26T09:33:49.163Z"
   },
   {
    "duration": 25,
    "start_time": "2021-12-26T09:34:49.598Z"
   },
   {
    "duration": 22,
    "start_time": "2021-12-26T09:34:58.228Z"
   },
   {
    "duration": 23,
    "start_time": "2021-12-26T09:35:13.824Z"
   },
   {
    "duration": 23,
    "start_time": "2021-12-26T09:35:25.290Z"
   },
   {
    "duration": 7,
    "start_time": "2021-12-26T09:36:50.409Z"
   },
   {
    "duration": 43,
    "start_time": "2021-12-26T09:36:50.909Z"
   },
   {
    "duration": 13,
    "start_time": "2021-12-26T09:36:51.162Z"
   },
   {
    "duration": 24,
    "start_time": "2021-12-26T09:36:51.693Z"
   },
   {
    "duration": 902,
    "start_time": "2021-12-26T10:04:36.470Z"
   },
   {
    "duration": 21,
    "start_time": "2021-12-26T10:05:06.269Z"
   },
   {
    "duration": 21,
    "start_time": "2021-12-26T10:05:10.073Z"
   },
   {
    "duration": 364,
    "start_time": "2021-12-26T10:07:26.823Z"
   },
   {
    "duration": 41,
    "start_time": "2021-12-26T10:07:45.573Z"
   },
   {
    "duration": 23,
    "start_time": "2021-12-26T10:11:53.013Z"
   },
   {
    "duration": 22,
    "start_time": "2021-12-26T10:12:09.902Z"
   },
   {
    "duration": 19,
    "start_time": "2021-12-26T10:12:32.908Z"
   },
   {
    "duration": 21,
    "start_time": "2021-12-26T10:13:07.415Z"
   },
   {
    "duration": 106,
    "start_time": "2021-12-26T10:14:20.819Z"
   },
   {
    "duration": 20,
    "start_time": "2021-12-26T10:14:41.084Z"
   },
   {
    "duration": 20,
    "start_time": "2021-12-26T10:14:59.495Z"
   },
   {
    "duration": 21,
    "start_time": "2021-12-26T10:15:16.296Z"
   },
   {
    "duration": 20,
    "start_time": "2021-12-26T10:15:29.145Z"
   },
   {
    "duration": 19,
    "start_time": "2021-12-26T10:15:38.919Z"
   },
   {
    "duration": 21,
    "start_time": "2021-12-26T10:15:47.814Z"
   },
   {
    "duration": 5,
    "start_time": "2021-12-26T11:24:30.674Z"
   },
   {
    "duration": 362,
    "start_time": "2021-12-26T11:24:31.794Z"
   },
   {
    "duration": 13,
    "start_time": "2021-12-26T11:24:38.255Z"
   },
   {
    "duration": 12,
    "start_time": "2021-12-26T11:24:39.261Z"
   },
   {
    "duration": 9,
    "start_time": "2021-12-26T11:24:48.169Z"
   },
   {
    "duration": 19,
    "start_time": "2021-12-26T11:24:49.768Z"
   },
   {
    "duration": 168,
    "start_time": "2021-12-26T11:25:00.407Z"
   },
   {
    "duration": 143,
    "start_time": "2021-12-26T11:26:04.699Z"
   },
   {
    "duration": 18,
    "start_time": "2021-12-26T11:27:13.101Z"
   },
   {
    "duration": 53,
    "start_time": "2021-12-26T11:27:25.731Z"
   },
   {
    "duration": 7,
    "start_time": "2021-12-26T11:27:34.802Z"
   },
   {
    "duration": 10,
    "start_time": "2021-12-26T11:27:35.743Z"
   },
   {
    "duration": 20,
    "start_time": "2021-12-26T11:27:45.998Z"
   },
   {
    "duration": 14,
    "start_time": "2021-12-26T11:27:47.278Z"
   },
   {
    "duration": 10,
    "start_time": "2021-12-26T11:27:51.759Z"
   },
   {
    "duration": 15,
    "start_time": "2021-12-26T11:27:52.692Z"
   },
   {
    "duration": 349,
    "start_time": "2021-12-26T11:27:54.475Z"
   },
   {
    "duration": 9,
    "start_time": "2021-12-26T11:27:54.827Z"
   },
   {
    "duration": 312,
    "start_time": "2021-12-26T11:27:55.778Z"
   },
   {
    "duration": 14,
    "start_time": "2021-12-26T11:27:56.320Z"
   },
   {
    "duration": 9,
    "start_time": "2021-12-26T11:28:03.997Z"
   },
   {
    "duration": 76,
    "start_time": "2021-12-26T11:28:05.087Z"
   },
   {
    "duration": 11,
    "start_time": "2021-12-26T11:28:06.165Z"
   },
   {
    "duration": 11,
    "start_time": "2021-12-26T11:28:09.380Z"
   },
   {
    "duration": 308,
    "start_time": "2021-12-26T11:29:54.535Z"
   },
   {
    "duration": 22,
    "start_time": "2021-12-26T11:29:54.845Z"
   },
   {
    "duration": 331,
    "start_time": "2021-12-26T11:29:54.870Z"
   },
   {
    "duration": 12,
    "start_time": "2021-12-26T11:29:55.248Z"
   },
   {
    "duration": 10,
    "start_time": "2021-12-26T11:29:57.536Z"
   },
   {
    "duration": 9,
    "start_time": "2021-12-26T11:30:12.546Z"
   },
   {
    "duration": 72,
    "start_time": "2021-12-26T11:30:17.731Z"
   },
   {
    "duration": 4,
    "start_time": "2021-12-26T11:30:24.838Z"
   },
   {
    "duration": 297,
    "start_time": "2021-12-26T11:30:25.168Z"
   },
   {
    "duration": 14,
    "start_time": "2021-12-26T11:30:26.968Z"
   },
   {
    "duration": 12,
    "start_time": "2021-12-26T11:30:27.381Z"
   },
   {
    "duration": 7,
    "start_time": "2021-12-26T11:30:28.381Z"
   },
   {
    "duration": 18,
    "start_time": "2021-12-26T11:30:28.772Z"
   },
   {
    "duration": 226,
    "start_time": "2021-12-26T11:30:29.111Z"
   },
   {
    "duration": 17,
    "start_time": "2021-12-26T11:30:29.884Z"
   },
   {
    "duration": 51,
    "start_time": "2021-12-26T11:30:31.100Z"
   },
   {
    "duration": 8,
    "start_time": "2021-12-26T11:30:36.442Z"
   },
   {
    "duration": 12,
    "start_time": "2021-12-26T11:30:37.511Z"
   },
   {
    "duration": 21,
    "start_time": "2021-12-26T11:30:40.197Z"
   },
   {
    "duration": 14,
    "start_time": "2021-12-26T11:30:41.593Z"
   },
   {
    "duration": 12,
    "start_time": "2021-12-26T11:30:45.253Z"
   },
   {
    "duration": 14,
    "start_time": "2021-12-26T11:30:47.096Z"
   },
   {
    "duration": 341,
    "start_time": "2021-12-26T11:30:50.056Z"
   },
   {
    "duration": 9,
    "start_time": "2021-12-26T11:30:50.433Z"
   },
   {
    "duration": 315,
    "start_time": "2021-12-26T11:30:50.928Z"
   },
   {
    "duration": 12,
    "start_time": "2021-12-26T11:30:52.544Z"
   },
   {
    "duration": 8,
    "start_time": "2021-12-26T11:30:56.933Z"
   },
   {
    "duration": 76,
    "start_time": "2021-12-26T11:31:01.715Z"
   },
   {
    "duration": 10,
    "start_time": "2021-12-26T11:31:04.790Z"
   },
   {
    "duration": 5,
    "start_time": "2021-12-26T11:33:01.791Z"
   },
   {
    "duration": 299,
    "start_time": "2021-12-26T11:33:02.501Z"
   },
   {
    "duration": 14,
    "start_time": "2021-12-26T11:33:06.251Z"
   },
   {
    "duration": 15,
    "start_time": "2021-12-26T11:33:07.308Z"
   },
   {
    "duration": 9,
    "start_time": "2021-12-26T11:33:13.243Z"
   },
   {
    "duration": 19,
    "start_time": "2021-12-26T11:33:14.540Z"
   },
   {
    "duration": 141,
    "start_time": "2021-12-26T11:33:15.730Z"
   },
   {
    "duration": 17,
    "start_time": "2021-12-26T11:33:19.268Z"
   },
   {
    "duration": 53,
    "start_time": "2021-12-26T11:33:22.108Z"
   },
   {
    "duration": 9,
    "start_time": "2021-12-26T11:33:26.061Z"
   },
   {
    "duration": 9,
    "start_time": "2021-12-26T11:33:27.156Z"
   },
   {
    "duration": 21,
    "start_time": "2021-12-26T11:33:29.599Z"
   },
   {
    "duration": 11,
    "start_time": "2021-12-26T11:33:30.961Z"
   },
   {
    "duration": 10,
    "start_time": "2021-12-26T11:33:34.614Z"
   },
   {
    "duration": 15,
    "start_time": "2021-12-26T11:33:35.963Z"
   },
   {
    "duration": 319,
    "start_time": "2021-12-26T11:33:36.709Z"
   },
   {
    "duration": 9,
    "start_time": "2021-12-26T11:33:37.169Z"
   },
   {
    "duration": 320,
    "start_time": "2021-12-26T11:33:38.217Z"
   },
   {
    "duration": 13,
    "start_time": "2021-12-26T11:33:38.679Z"
   },
   {
    "duration": 9,
    "start_time": "2021-12-26T11:33:42.484Z"
   },
   {
    "duration": 73,
    "start_time": "2021-12-26T11:33:43.732Z"
   },
   {
    "duration": 12,
    "start_time": "2021-12-26T11:33:44.833Z"
   },
   {
    "duration": 10,
    "start_time": "2021-12-26T11:34:02.772Z"
   },
   {
    "duration": 9,
    "start_time": "2021-12-26T11:34:25.755Z"
   },
   {
    "duration": 26,
    "start_time": "2021-12-26T11:34:27.383Z"
   },
   {
    "duration": 33,
    "start_time": "2021-12-26T11:34:28.887Z"
   },
   {
    "duration": 90,
    "start_time": "2021-12-26T11:34:30.238Z"
   },
   {
    "duration": 6,
    "start_time": "2021-12-26T11:34:34.847Z"
   },
   {
    "duration": 3597,
    "start_time": "2021-12-26T11:34:35.510Z"
   },
   {
    "duration": 3868,
    "start_time": "2021-12-26T11:34:39.110Z"
   },
   {
    "duration": 7,
    "start_time": "2021-12-26T11:34:57.264Z"
   },
   {
    "duration": 42,
    "start_time": "2021-12-26T11:34:57.274Z"
   },
   {
    "duration": 21,
    "start_time": "2021-12-26T11:34:57.374Z"
   },
   {
    "duration": 25,
    "start_time": "2021-12-26T11:34:58.577Z"
   },
   {
    "duration": 32,
    "start_time": "2021-12-26T11:35:21.943Z"
   },
   {
    "duration": 46,
    "start_time": "2021-12-26T11:48:40.768Z"
   },
   {
    "duration": 49,
    "start_time": "2021-12-26T11:48:54.607Z"
   },
   {
    "duration": 115,
    "start_time": "2021-12-26T11:50:03.339Z"
   },
   {
    "duration": 23,
    "start_time": "2021-12-26T11:50:31.705Z"
   },
   {
    "duration": 48,
    "start_time": "2021-12-26T11:50:54.592Z"
   },
   {
    "duration": 397,
    "start_time": "2021-12-26T11:53:16.040Z"
   },
   {
    "duration": 353,
    "start_time": "2021-12-26T11:53:38.158Z"
   },
   {
    "duration": 339,
    "start_time": "2021-12-26T11:53:46.319Z"
   },
   {
    "duration": 47,
    "start_time": "2021-12-26T11:54:00.868Z"
   },
   {
    "duration": 587,
    "start_time": "2021-12-26T15:33:56.864Z"
   },
   {
    "duration": 201,
    "start_time": "2021-12-26T15:33:58.152Z"
   },
   {
    "duration": 9,
    "start_time": "2021-12-26T15:34:08.591Z"
   },
   {
    "duration": 8,
    "start_time": "2021-12-26T15:34:10.658Z"
   },
   {
    "duration": 5,
    "start_time": "2021-12-26T15:34:19.093Z"
   },
   {
    "duration": 12,
    "start_time": "2021-12-26T15:34:21.508Z"
   },
   {
    "duration": 94,
    "start_time": "2021-12-26T15:34:25.409Z"
   },
   {
    "duration": 11,
    "start_time": "2021-12-26T15:34:39.839Z"
   },
   {
    "duration": 30,
    "start_time": "2021-12-26T15:34:43.416Z"
   },
   {
    "duration": 4,
    "start_time": "2021-12-26T15:34:49.598Z"
   },
   {
    "duration": 7,
    "start_time": "2021-12-26T15:34:51.270Z"
   },
   {
    "duration": 12,
    "start_time": "2021-12-26T15:34:53.802Z"
   },
   {
    "duration": 9,
    "start_time": "2021-12-26T15:34:55.183Z"
   },
   {
    "duration": 6,
    "start_time": "2021-12-26T15:34:58.819Z"
   },
   {
    "duration": 9,
    "start_time": "2021-12-26T15:35:00.070Z"
   },
   {
    "duration": 256,
    "start_time": "2021-12-26T15:35:00.957Z"
   },
   {
    "duration": 6,
    "start_time": "2021-12-26T15:35:01.452Z"
   },
   {
    "duration": 173,
    "start_time": "2021-12-26T15:35:02.484Z"
   },
   {
    "duration": 9,
    "start_time": "2021-12-26T15:35:03.025Z"
   },
   {
    "duration": 6,
    "start_time": "2021-12-26T15:35:05.811Z"
   },
   {
    "duration": 46,
    "start_time": "2021-12-26T15:35:07.045Z"
   },
   {
    "duration": 8,
    "start_time": "2021-12-26T15:35:08.275Z"
   },
   {
    "duration": 7,
    "start_time": "2021-12-26T15:35:20.432Z"
   },
   {
    "duration": 7,
    "start_time": "2021-12-26T15:37:15.686Z"
   },
   {
    "duration": 16,
    "start_time": "2021-12-26T15:37:17.603Z"
   },
   {
    "duration": 21,
    "start_time": "2021-12-26T15:37:19.288Z"
   },
   {
    "duration": 53,
    "start_time": "2021-12-26T15:37:20.905Z"
   },
   {
    "duration": 6,
    "start_time": "2021-12-26T15:37:44.818Z"
   },
   {
    "duration": 2466,
    "start_time": "2021-12-26T15:37:45.300Z"
   },
   {
    "duration": 3025,
    "start_time": "2021-12-26T15:37:47.767Z"
   },
   {
    "duration": 5,
    "start_time": "2021-12-26T15:38:25.817Z"
   },
   {
    "duration": 25,
    "start_time": "2021-12-26T15:38:29.714Z"
   },
   {
    "duration": 15,
    "start_time": "2021-12-26T15:38:30.360Z"
   },
   {
    "duration": 14,
    "start_time": "2021-12-26T15:38:32.021Z"
   },
   {
    "duration": 411,
    "start_time": "2021-12-26T15:44:24.490Z"
   },
   {
    "duration": 29,
    "start_time": "2021-12-26T15:44:57.502Z"
   },
   {
    "duration": 986,
    "start_time": "2021-12-26T15:49:06.509Z"
   },
   {
    "duration": 28,
    "start_time": "2021-12-26T15:50:16.034Z"
   },
   {
    "duration": 33,
    "start_time": "2021-12-26T15:51:03.421Z"
   },
   {
    "duration": 21,
    "start_time": "2021-12-26T15:51:53.427Z"
   },
   {
    "duration": 32,
    "start_time": "2021-12-26T15:54:36.374Z"
   },
   {
    "duration": 23,
    "start_time": "2021-12-26T15:54:59.371Z"
   },
   {
    "duration": 28,
    "start_time": "2021-12-26T16:05:06.890Z"
   },
   {
    "duration": 21,
    "start_time": "2021-12-26T16:05:43.316Z"
   },
   {
    "duration": 25,
    "start_time": "2021-12-26T16:06:09.250Z"
   },
   {
    "duration": 22,
    "start_time": "2021-12-26T16:06:25.039Z"
   },
   {
    "duration": 28,
    "start_time": "2021-12-26T16:07:54.354Z"
   },
   {
    "duration": 23,
    "start_time": "2021-12-26T16:08:36.207Z"
   },
   {
    "duration": 20,
    "start_time": "2021-12-26T16:38:08.160Z"
   },
   {
    "duration": 541,
    "start_time": "2021-12-26T18:14:29.045Z"
   },
   {
    "duration": 303,
    "start_time": "2021-12-26T18:14:29.588Z"
   },
   {
    "duration": 9,
    "start_time": "2021-12-26T18:14:29.894Z"
   },
   {
    "duration": 14,
    "start_time": "2021-12-26T18:14:29.905Z"
   },
   {
    "duration": 17,
    "start_time": "2021-12-26T18:14:29.921Z"
   },
   {
    "duration": 38,
    "start_time": "2021-12-26T18:14:29.940Z"
   },
   {
    "duration": 114,
    "start_time": "2021-12-26T18:14:29.980Z"
   },
   {
    "duration": 13,
    "start_time": "2021-12-26T18:14:30.096Z"
   },
   {
    "duration": 42,
    "start_time": "2021-12-26T18:14:30.112Z"
   },
   {
    "duration": 6,
    "start_time": "2021-12-26T18:14:30.158Z"
   },
   {
    "duration": 27,
    "start_time": "2021-12-26T18:14:30.166Z"
   },
   {
    "duration": 16,
    "start_time": "2021-12-26T18:14:30.195Z"
   },
   {
    "duration": 9,
    "start_time": "2021-12-26T18:14:30.213Z"
   },
   {
    "duration": 6,
    "start_time": "2021-12-26T18:14:30.224Z"
   },
   {
    "duration": 14,
    "start_time": "2021-12-26T18:14:30.232Z"
   },
   {
    "duration": 301,
    "start_time": "2021-12-26T18:14:30.292Z"
   },
   {
    "duration": 6,
    "start_time": "2021-12-26T18:14:30.595Z"
   },
   {
    "duration": 214,
    "start_time": "2021-12-26T18:14:30.602Z"
   },
   {
    "duration": 9,
    "start_time": "2021-12-26T18:14:30.818Z"
   },
   {
    "duration": 33,
    "start_time": "2021-12-26T18:14:30.828Z"
   },
   {
    "duration": 64,
    "start_time": "2021-12-26T18:14:30.863Z"
   },
   {
    "duration": 6,
    "start_time": "2021-12-26T18:14:30.929Z"
   },
   {
    "duration": 12,
    "start_time": "2021-12-26T18:14:30.937Z"
   },
   {
    "duration": 23,
    "start_time": "2021-12-26T18:14:30.950Z"
   },
   {
    "duration": 29,
    "start_time": "2021-12-26T18:14:30.974Z"
   },
   {
    "duration": 40,
    "start_time": "2021-12-26T18:14:31.005Z"
   },
   {
    "duration": 62,
    "start_time": "2021-12-26T18:14:31.048Z"
   },
   {
    "duration": 5,
    "start_time": "2021-12-26T18:14:31.112Z"
   },
   {
    "duration": 2475,
    "start_time": "2021-12-26T18:14:31.119Z"
   },
   {
    "duration": 2757,
    "start_time": "2021-12-26T18:14:33.596Z"
   },
   {
    "duration": 5,
    "start_time": "2021-12-26T18:14:36.355Z"
   },
   {
    "duration": 47,
    "start_time": "2021-12-26T18:14:36.361Z"
   },
   {
    "duration": 11,
    "start_time": "2021-12-26T18:14:36.410Z"
   },
   {
    "duration": 13,
    "start_time": "2021-12-26T18:14:36.423Z"
   },
   {
    "duration": 363,
    "start_time": "2021-12-26T18:14:36.438Z"
   },
   {
    "duration": 26,
    "start_time": "2021-12-26T18:14:36.804Z"
   },
   {
    "duration": 21,
    "start_time": "2021-12-26T18:14:36.832Z"
   },
   {
    "duration": 49,
    "start_time": "2021-12-26T18:14:36.855Z"
   },
   {
    "duration": 21,
    "start_time": "2021-12-26T18:14:36.906Z"
   },
   {
    "duration": 608,
    "start_time": "2021-12-26T20:52:55.490Z"
   },
   {
    "duration": 231,
    "start_time": "2021-12-26T20:52:56.100Z"
   },
   {
    "duration": 10,
    "start_time": "2021-12-26T20:52:58.405Z"
   },
   {
    "duration": 11,
    "start_time": "2021-12-26T20:53:01.952Z"
   },
   {
    "duration": 299,
    "start_time": "2021-12-26T20:53:16.081Z"
   },
   {
    "duration": 11,
    "start_time": "2021-12-26T20:54:30.013Z"
   },
   {
    "duration": 7,
    "start_time": "2021-12-26T21:00:21.246Z"
   },
   {
    "duration": 78,
    "start_time": "2021-12-26T21:01:38.466Z"
   },
   {
    "duration": 7,
    "start_time": "2021-12-26T21:02:39.179Z"
   },
   {
    "duration": 14,
    "start_time": "2021-12-26T21:02:41.386Z"
   },
   {
    "duration": 103,
    "start_time": "2021-12-26T21:02:43.350Z"
   },
   {
    "duration": 9,
    "start_time": "2021-12-26T21:07:21.177Z"
   },
   {
    "duration": 650,
    "start_time": "2021-12-26T21:27:45.271Z"
   },
   {
    "duration": 243,
    "start_time": "2021-12-26T21:28:10.798Z"
   },
   {
    "duration": 239,
    "start_time": "2021-12-26T21:29:13.069Z"
   },
   {
    "duration": 254,
    "start_time": "2021-12-26T21:29:31.078Z"
   },
   {
    "duration": 242,
    "start_time": "2021-12-26T21:29:59.027Z"
   },
   {
    "duration": 28,
    "start_time": "2021-12-26T21:30:06.060Z"
   },
   {
    "duration": 27,
    "start_time": "2021-12-26T21:32:20.368Z"
   },
   {
    "duration": 24,
    "start_time": "2021-12-26T21:32:32.418Z"
   },
   {
    "duration": 225,
    "start_time": "2021-12-26T21:33:14.772Z"
   },
   {
    "duration": 22,
    "start_time": "2021-12-26T21:33:33.625Z"
   },
   {
    "duration": 229,
    "start_time": "2021-12-26T21:34:08.505Z"
   },
   {
    "duration": 24,
    "start_time": "2021-12-26T21:34:15.546Z"
   },
   {
    "duration": 637,
    "start_time": "2021-12-26T21:35:02.593Z"
   },
   {
    "duration": 22,
    "start_time": "2021-12-26T21:35:07.207Z"
   },
   {
    "duration": 3,
    "start_time": "2021-12-26T21:42:47.905Z"
   },
   {
    "duration": 215,
    "start_time": "2021-12-26T21:42:48.934Z"
   },
   {
    "duration": 10,
    "start_time": "2021-12-26T21:42:54.383Z"
   },
   {
    "duration": 8,
    "start_time": "2021-12-26T21:42:55.634Z"
   },
   {
    "duration": 6,
    "start_time": "2021-12-26T21:43:13.490Z"
   },
   {
    "duration": 220,
    "start_time": "2021-12-26T21:43:15.474Z"
   },
   {
    "duration": 11,
    "start_time": "2021-12-26T21:43:53.536Z"
   },
   {
    "duration": 6,
    "start_time": "2021-12-26T21:43:58.011Z"
   },
   {
    "duration": 12,
    "start_time": "2021-12-26T21:43:59.726Z"
   },
   {
    "duration": 97,
    "start_time": "2021-12-26T21:44:06.155Z"
   },
   {
    "duration": 12,
    "start_time": "2021-12-26T21:44:57.018Z"
   },
   {
    "duration": 41,
    "start_time": "2021-12-26T21:45:02.712Z"
   },
   {
    "duration": 5,
    "start_time": "2021-12-26T21:45:09.682Z"
   },
   {
    "duration": 7,
    "start_time": "2021-12-26T21:45:11.541Z"
   },
   {
    "duration": 26,
    "start_time": "2021-12-26T21:45:20.054Z"
   },
   {
    "duration": 8,
    "start_time": "2021-12-26T21:45:22.626Z"
   },
   {
    "duration": 8,
    "start_time": "2021-12-26T21:45:31.843Z"
   },
   {
    "duration": 10,
    "start_time": "2021-12-26T21:45:33.277Z"
   },
   {
    "duration": 215,
    "start_time": "2021-12-26T21:45:34.298Z"
   },
   {
    "duration": 8,
    "start_time": "2021-12-26T21:45:35.058Z"
   },
   {
    "duration": 353,
    "start_time": "2021-12-26T21:45:36.127Z"
   },
   {
    "duration": 12,
    "start_time": "2021-12-26T21:45:36.711Z"
   },
   {
    "duration": 7,
    "start_time": "2021-12-26T21:46:07.177Z"
   },
   {
    "duration": 57,
    "start_time": "2021-12-26T21:46:09.425Z"
   },
   {
    "duration": 9,
    "start_time": "2021-12-26T21:46:12.377Z"
   },
   {
    "duration": 9,
    "start_time": "2021-12-26T21:46:15.885Z"
   },
   {
    "duration": 15,
    "start_time": "2021-12-26T21:52:12.533Z"
   },
   {
    "duration": 7,
    "start_time": "2021-12-26T21:52:28.143Z"
   },
   {
    "duration": 5,
    "start_time": "2021-12-26T21:53:36.054Z"
   },
   {
    "duration": 9,
    "start_time": "2021-12-26T21:54:24.644Z"
   },
   {
    "duration": 14,
    "start_time": "2021-12-26T21:56:12.077Z"
   },
   {
    "duration": 7,
    "start_time": "2021-12-26T21:56:25.776Z"
   },
   {
    "duration": 6,
    "start_time": "2021-12-26T22:00:57.976Z"
   },
   {
    "duration": 69,
    "start_time": "2021-12-26T22:02:57.667Z"
   },
   {
    "duration": 10,
    "start_time": "2021-12-26T22:03:15.136Z"
   },
   {
    "duration": 259,
    "start_time": "2021-12-26T22:04:27.449Z"
   },
   {
    "duration": 245,
    "start_time": "2021-12-26T22:06:01.222Z"
   },
   {
    "duration": 10,
    "start_time": "2021-12-26T22:06:35.053Z"
   },
   {
    "duration": 6,
    "start_time": "2021-12-26T22:07:23.796Z"
   },
   {
    "duration": 6,
    "start_time": "2021-12-26T22:09:53.346Z"
   },
   {
    "duration": 5,
    "start_time": "2021-12-26T22:16:47.990Z"
   },
   {
    "duration": 7,
    "start_time": "2021-12-26T22:16:53.708Z"
   },
   {
    "duration": 7,
    "start_time": "2021-12-26T22:17:23.545Z"
   },
   {
    "duration": 165,
    "start_time": "2021-12-26T22:18:18.364Z"
   },
   {
    "duration": 6,
    "start_time": "2021-12-26T22:18:41.514Z"
   },
   {
    "duration": 2,
    "start_time": "2021-12-26T22:19:04.550Z"
   },
   {
    "duration": 199,
    "start_time": "2021-12-26T22:19:06.170Z"
   },
   {
    "duration": 10,
    "start_time": "2021-12-26T22:19:14.081Z"
   },
   {
    "duration": 11,
    "start_time": "2021-12-26T22:19:15.557Z"
   },
   {
    "duration": 7,
    "start_time": "2021-12-26T22:19:24.915Z"
   },
   {
    "duration": 12,
    "start_time": "2021-12-26T22:19:28.711Z"
   },
   {
    "duration": 97,
    "start_time": "2021-12-26T22:19:30.772Z"
   },
   {
    "duration": 12,
    "start_time": "2021-12-26T22:19:38.160Z"
   },
   {
    "duration": 34,
    "start_time": "2021-12-26T22:19:41.371Z"
   },
   {
    "duration": 6,
    "start_time": "2021-12-26T22:19:46.784Z"
   },
   {
    "duration": 7,
    "start_time": "2021-12-26T22:19:48.340Z"
   },
   {
    "duration": 13,
    "start_time": "2021-12-26T22:19:51.889Z"
   },
   {
    "duration": 8,
    "start_time": "2021-12-26T22:19:54.357Z"
   },
   {
    "duration": 7,
    "start_time": "2021-12-26T22:20:10.706Z"
   },
   {
    "duration": 9,
    "start_time": "2021-12-26T22:20:19.224Z"
   },
   {
    "duration": 189,
    "start_time": "2021-12-26T22:20:22.349Z"
   },
   {
    "duration": 7,
    "start_time": "2021-12-26T22:20:23.453Z"
   },
   {
    "duration": 179,
    "start_time": "2021-12-26T22:20:25.170Z"
   },
   {
    "duration": 9,
    "start_time": "2021-12-26T22:20:25.910Z"
   },
   {
    "duration": 7,
    "start_time": "2021-12-26T22:20:34.093Z"
   },
   {
    "duration": 50,
    "start_time": "2021-12-26T22:20:35.698Z"
   },
   {
    "duration": 7,
    "start_time": "2021-12-26T22:20:38.473Z"
   },
   {
    "duration": 7,
    "start_time": "2021-12-26T22:20:49.797Z"
   },
   {
    "duration": 8,
    "start_time": "2021-12-26T22:20:53.207Z"
   },
   {
    "duration": 6,
    "start_time": "2021-12-26T22:20:57.061Z"
   },
   {
    "duration": 83,
    "start_time": "2021-12-26T22:22:33.598Z"
   },
   {
    "duration": 6,
    "start_time": "2021-12-26T22:23:23.972Z"
   },
   {
    "duration": 6,
    "start_time": "2021-12-26T22:23:25.579Z"
   },
   {
    "duration": 6,
    "start_time": "2021-12-26T22:23:26.132Z"
   },
   {
    "duration": 8,
    "start_time": "2021-12-26T22:23:27.996Z"
   },
   {
    "duration": 7,
    "start_time": "2021-12-26T22:23:35.992Z"
   },
   {
    "duration": 18,
    "start_time": "2021-12-26T22:23:37.552Z"
   },
   {
    "duration": 22,
    "start_time": "2021-12-26T22:23:39.204Z"
   },
   {
    "duration": 54,
    "start_time": "2021-12-26T22:23:40.635Z"
   },
   {
    "duration": 7,
    "start_time": "2021-12-26T22:24:59.126Z"
   },
   {
    "duration": 18,
    "start_time": "2021-12-26T22:25:01.260Z"
   },
   {
    "duration": 23,
    "start_time": "2021-12-26T22:25:03.428Z"
   },
   {
    "duration": 24,
    "start_time": "2021-12-26T22:25:05.033Z"
   },
   {
    "duration": 5,
    "start_time": "2021-12-26T22:25:32.401Z"
   },
   {
    "duration": 2734,
    "start_time": "2021-12-26T22:25:33.777Z"
   },
   {
    "duration": 3362,
    "start_time": "2021-12-26T22:25:36.513Z"
   },
   {
    "duration": 5,
    "start_time": "2021-12-26T22:25:40.653Z"
   },
   {
    "duration": 33,
    "start_time": "2021-12-26T22:25:55.344Z"
   },
   {
    "duration": 14,
    "start_time": "2021-12-26T22:25:56.502Z"
   },
   {
    "duration": 24,
    "start_time": "2021-12-26T22:25:58.756Z"
   },
   {
    "duration": 19,
    "start_time": "2021-12-26T22:26:25.781Z"
   },
   {
    "duration": 36,
    "start_time": "2021-12-26T22:26:28.144Z"
   },
   {
    "duration": 31,
    "start_time": "2021-12-26T22:26:41.043Z"
   },
   {
    "duration": 25,
    "start_time": "2021-12-26T22:26:50.546Z"
   },
   {
    "duration": 23,
    "start_time": "2021-12-26T22:26:55.918Z"
   },
   {
    "duration": 767,
    "start_time": "2021-12-27T17:16:32.807Z"
   },
   {
    "duration": 359,
    "start_time": "2021-12-27T17:16:33.577Z"
   },
   {
    "duration": 11,
    "start_time": "2021-12-27T17:16:33.942Z"
   },
   {
    "duration": 25,
    "start_time": "2021-12-27T17:16:33.956Z"
   },
   {
    "duration": 7,
    "start_time": "2021-12-27T17:16:33.984Z"
   },
   {
    "duration": 45,
    "start_time": "2021-12-27T17:16:33.993Z"
   },
   {
    "duration": 156,
    "start_time": "2021-12-27T17:16:34.041Z"
   },
   {
    "duration": 33,
    "start_time": "2021-12-27T17:16:34.200Z"
   },
   {
    "duration": 56,
    "start_time": "2021-12-27T17:16:34.235Z"
   },
   {
    "duration": 30,
    "start_time": "2021-12-27T17:16:34.294Z"
   },
   {
    "duration": 18,
    "start_time": "2021-12-27T17:16:34.327Z"
   },
   {
    "duration": 23,
    "start_time": "2021-12-27T17:16:34.348Z"
   },
   {
    "duration": 14,
    "start_time": "2021-12-27T17:16:34.374Z"
   },
   {
    "duration": 11,
    "start_time": "2021-12-27T17:16:34.423Z"
   },
   {
    "duration": 14,
    "start_time": "2021-12-27T17:16:34.436Z"
   },
   {
    "duration": 437,
    "start_time": "2021-12-27T17:16:34.452Z"
   },
   {
    "duration": 8,
    "start_time": "2021-12-27T17:16:34.891Z"
   },
   {
    "duration": 322,
    "start_time": "2021-12-27T17:16:34.901Z"
   },
   {
    "duration": 11,
    "start_time": "2021-12-27T17:16:35.225Z"
   },
   {
    "duration": 8,
    "start_time": "2021-12-27T17:16:35.239Z"
   },
   {
    "duration": 100,
    "start_time": "2021-12-27T17:16:35.249Z"
   },
   {
    "duration": 10,
    "start_time": "2021-12-27T17:16:35.353Z"
   },
   {
    "duration": 8,
    "start_time": "2021-12-27T17:16:35.365Z"
   },
   {
    "duration": 12,
    "start_time": "2021-12-27T17:16:35.375Z"
   },
   {
    "duration": 35,
    "start_time": "2021-12-27T17:16:35.389Z"
   },
   {
    "duration": 38,
    "start_time": "2021-12-27T17:16:35.427Z"
   },
   {
    "duration": 21,
    "start_time": "2021-12-27T17:16:35.468Z"
   },
   {
    "duration": 60,
    "start_time": "2021-12-27T17:16:35.491Z"
   },
   {
    "duration": 56,
    "start_time": "2021-12-27T17:16:35.554Z"
   },
   {
    "duration": 110,
    "start_time": "2021-12-27T17:16:35.613Z"
   },
   {
    "duration": 7,
    "start_time": "2021-12-27T17:16:35.726Z"
   },
   {
    "duration": 3212,
    "start_time": "2021-12-27T17:16:35.735Z"
   },
   {
    "duration": 4637,
    "start_time": "2021-12-27T17:16:38.950Z"
   },
   {
    "duration": 6,
    "start_time": "2021-12-27T17:16:43.589Z"
   },
   {
    "duration": 59,
    "start_time": "2021-12-27T17:16:43.598Z"
   },
   {
    "duration": 20,
    "start_time": "2021-12-27T17:16:43.660Z"
   },
   {
    "duration": 46,
    "start_time": "2021-12-27T17:16:43.683Z"
   },
   {
    "duration": 1047,
    "start_time": "2021-12-27T17:16:43.731Z"
   },
   {
    "duration": 49,
    "start_time": "2021-12-27T17:16:44.780Z"
   },
   {
    "duration": 34,
    "start_time": "2021-12-27T17:16:44.832Z"
   },
   {
    "duration": 57,
    "start_time": "2021-12-27T17:16:44.868Z"
   },
   {
    "duration": 37,
    "start_time": "2021-12-27T17:16:44.927Z"
   },
   {
    "duration": 9,
    "start_time": "2021-12-27T17:17:19.579Z"
   },
   {
    "duration": 12831,
    "start_time": "2021-12-27T17:20:07.899Z"
   },
   {
    "duration": 8,
    "start_time": "2021-12-27T17:20:22.732Z"
   },
   {
    "duration": 7,
    "start_time": "2021-12-27T17:20:28.443Z"
   },
   {
    "duration": 773,
    "start_time": "2021-12-27T17:28:09.411Z"
   },
   {
    "duration": 325,
    "start_time": "2021-12-27T17:28:10.187Z"
   },
   {
    "duration": 17,
    "start_time": "2021-12-27T17:28:10.516Z"
   },
   {
    "duration": 17,
    "start_time": "2021-12-27T17:28:10.536Z"
   },
   {
    "duration": 9,
    "start_time": "2021-12-27T17:28:10.556Z"
   },
   {
    "duration": 65,
    "start_time": "2021-12-27T17:28:10.568Z"
   },
   {
    "duration": 202,
    "start_time": "2021-12-27T17:28:10.636Z"
   },
   {
    "duration": 14,
    "start_time": "2021-12-27T17:28:10.841Z"
   },
   {
    "duration": 74,
    "start_time": "2021-12-27T17:28:10.858Z"
   },
   {
    "duration": 7,
    "start_time": "2021-12-27T17:28:10.935Z"
   },
   {
    "duration": 11,
    "start_time": "2021-12-27T17:28:10.944Z"
   },
   {
    "duration": 64,
    "start_time": "2021-12-27T17:28:10.958Z"
   },
   {
    "duration": 12,
    "start_time": "2021-12-27T17:28:11.024Z"
   },
   {
    "duration": 8,
    "start_time": "2021-12-27T17:28:11.039Z"
   },
   {
    "duration": 12,
    "start_time": "2021-12-27T17:28:11.049Z"
   },
   {
    "duration": 480,
    "start_time": "2021-12-27T17:28:11.063Z"
   },
   {
    "duration": 9,
    "start_time": "2021-12-27T17:28:11.546Z"
   },
   {
    "duration": 317,
    "start_time": "2021-12-27T17:28:11.558Z"
   },
   {
    "duration": 14,
    "start_time": "2021-12-27T17:28:11.878Z"
   },
   {
    "duration": 32,
    "start_time": "2021-12-27T17:28:11.895Z"
   },
   {
    "duration": 94,
    "start_time": "2021-12-27T17:28:11.930Z"
   },
   {
    "duration": 10,
    "start_time": "2021-12-27T17:28:12.027Z"
   },
   {
    "duration": 26,
    "start_time": "2021-12-27T17:28:12.042Z"
   },
   {
    "duration": 37,
    "start_time": "2021-12-27T17:28:12.071Z"
   },
   {
    "duration": 7,
    "start_time": "2021-12-27T17:28:12.111Z"
   },
   {
    "duration": 20,
    "start_time": "2021-12-27T17:28:12.121Z"
   },
   {
    "duration": 11,
    "start_time": "2021-12-27T17:28:12.144Z"
   },
   {
    "duration": 34,
    "start_time": "2021-12-27T17:28:12.158Z"
   },
   {
    "duration": 64,
    "start_time": "2021-12-27T17:28:12.195Z"
   },
   {
    "duration": 124,
    "start_time": "2021-12-27T17:28:12.262Z"
   },
   {
    "duration": 7,
    "start_time": "2021-12-27T17:28:12.388Z"
   },
   {
    "duration": 4839,
    "start_time": "2021-12-27T17:28:12.404Z"
   },
   {
    "duration": 4864,
    "start_time": "2021-12-27T17:28:17.246Z"
   },
   {
    "duration": 14,
    "start_time": "2021-12-27T17:28:22.113Z"
   },
   {
    "duration": 40,
    "start_time": "2021-12-27T17:28:22.130Z"
   },
   {
    "duration": 54,
    "start_time": "2021-12-27T17:28:22.172Z"
   },
   {
    "duration": 23,
    "start_time": "2021-12-27T17:28:22.230Z"
   },
   {
    "duration": 860,
    "start_time": "2021-12-27T17:28:22.255Z"
   },
   {
    "duration": 50,
    "start_time": "2021-12-27T17:28:23.119Z"
   },
   {
    "duration": 62,
    "start_time": "2021-12-27T17:28:23.172Z"
   },
   {
    "duration": 30,
    "start_time": "2021-12-27T17:28:23.238Z"
   },
   {
    "duration": 61,
    "start_time": "2021-12-27T17:28:23.271Z"
   },
   {
    "duration": 8,
    "start_time": "2021-12-27T17:28:23.335Z"
   }
  ],
  "kernelspec": {
   "display_name": "Python 3 (ipykernel)",
   "language": "python",
   "name": "python3"
  },
  "language_info": {
   "codemirror_mode": {
    "name": "ipython",
    "version": 3
   },
   "file_extension": ".py",
   "mimetype": "text/x-python",
   "name": "python",
   "nbconvert_exporter": "python",
   "pygments_lexer": "ipython3",
   "version": "3.9.7"
  },
  "toc": {
   "base_numbering": 1,
   "nav_menu": {},
   "number_sections": true,
   "sideBar": true,
   "skip_h1_title": true,
   "title_cell": "Table of Contents",
   "title_sidebar": "Contents",
   "toc_cell": false,
   "toc_position": {},
   "toc_section_display": true,
   "toc_window_display": true
  }
 },
 "nbformat": 4,
 "nbformat_minor": 2
}
