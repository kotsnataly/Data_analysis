{
 "cells": [
  {
   "cell_type": "markdown",
   "id": "87793767",
   "metadata": {},
   "source": [
    "# Выявление закономерностей, определяющих успешность игр "
   ]
  },
  {
   "cell_type": "markdown",
   "id": "9b9deea4",
   "metadata": {},
   "source": [
    "В моем распоряжении исторические данные о продажах компьютерных игр, оценки пользователей и экспертов, жанры и платформы. Моя задача - выявить определяющие успешность игры закономерности. Это позволит сделать ставку на потенциально популярный продукт и спланировать рекламные кампании для интернет-магазина «Стримчик», который продаёт по всему миру компьютерные игры."
   ]
  },
  {
   "cell_type": "markdown",
   "id": "9391bd82",
   "metadata": {},
   "source": [
    "## Изучение данных из файла"
   ]
  },
  {
   "cell_type": "markdown",
   "id": "8832ce7f",
   "metadata": {},
   "source": [
    "Мой основной инструмент — `pandas`. Я подключаю эту библиотеку. Также подключаю библиотеки `re`, `numpy`, `matplotlib` и `warnings` - они понадобятся для моих исследований.\n",
    "\n",
    "Дополнительно отключу предупреждения."
   ]
  },
  {
   "cell_type": "code",
   "execution_count": 61,
   "id": "27c621de",
   "metadata": {},
   "outputs": [],
   "source": [
    "import pandas as pd                # импорт библиотеки pandas\n",
    "import re                          # импорт библиотеки регулярных выражений re\n",
    "import numpy as np                 # импорт библиотеки numpy\n",
    "import matplotlib.pyplot as plt    # импорт библиотеки matplotlib\n",
    "import warnings as wg              # импорт библиотеки warnings\n",
    "from scipy import stats as st\n",
    "\n",
    "wg.filterwarnings('ignore')"
   ]
  },
  {
   "cell_type": "markdown",
   "id": "a24fa777",
   "metadata": {},
   "source": [
    "Далее осуществляю чтение файла games.csv из папки /datasets и сохраняю его в переменной data. Вывожу на экран первые пять строк таблицы."
   ]
  },
  {
   "cell_type": "code",
   "execution_count": 2,
   "id": "c280411f",
   "metadata": {},
   "outputs": [
    {
     "data": {
      "text/html": [
       "<div>\n",
       "<style scoped>\n",
       "    .dataframe tbody tr th:only-of-type {\n",
       "        vertical-align: middle;\n",
       "    }\n",
       "\n",
       "    .dataframe tbody tr th {\n",
       "        vertical-align: top;\n",
       "    }\n",
       "\n",
       "    .dataframe thead th {\n",
       "        text-align: right;\n",
       "    }\n",
       "</style>\n",
       "<table border=\"1\" class=\"dataframe\">\n",
       "  <thead>\n",
       "    <tr style=\"text-align: right;\">\n",
       "      <th></th>\n",
       "      <th>Name</th>\n",
       "      <th>Platform</th>\n",
       "      <th>Year_of_Release</th>\n",
       "      <th>Genre</th>\n",
       "      <th>NA_sales</th>\n",
       "      <th>EU_sales</th>\n",
       "      <th>JP_sales</th>\n",
       "      <th>Other_sales</th>\n",
       "      <th>Critic_Score</th>\n",
       "      <th>User_Score</th>\n",
       "      <th>Rating</th>\n",
       "    </tr>\n",
       "  </thead>\n",
       "  <tbody>\n",
       "    <tr>\n",
       "      <th>0</th>\n",
       "      <td>Wii Sports</td>\n",
       "      <td>Wii</td>\n",
       "      <td>2006.0</td>\n",
       "      <td>Sports</td>\n",
       "      <td>41.36</td>\n",
       "      <td>28.96</td>\n",
       "      <td>3.77</td>\n",
       "      <td>8.45</td>\n",
       "      <td>76.0</td>\n",
       "      <td>8</td>\n",
       "      <td>E</td>\n",
       "    </tr>\n",
       "    <tr>\n",
       "      <th>1</th>\n",
       "      <td>Super Mario Bros.</td>\n",
       "      <td>NES</td>\n",
       "      <td>1985.0</td>\n",
       "      <td>Platform</td>\n",
       "      <td>29.08</td>\n",
       "      <td>3.58</td>\n",
       "      <td>6.81</td>\n",
       "      <td>0.77</td>\n",
       "      <td>NaN</td>\n",
       "      <td>NaN</td>\n",
       "      <td>NaN</td>\n",
       "    </tr>\n",
       "    <tr>\n",
       "      <th>2</th>\n",
       "      <td>Mario Kart Wii</td>\n",
       "      <td>Wii</td>\n",
       "      <td>2008.0</td>\n",
       "      <td>Racing</td>\n",
       "      <td>15.68</td>\n",
       "      <td>12.76</td>\n",
       "      <td>3.79</td>\n",
       "      <td>3.29</td>\n",
       "      <td>82.0</td>\n",
       "      <td>8.3</td>\n",
       "      <td>E</td>\n",
       "    </tr>\n",
       "    <tr>\n",
       "      <th>3</th>\n",
       "      <td>Wii Sports Resort</td>\n",
       "      <td>Wii</td>\n",
       "      <td>2009.0</td>\n",
       "      <td>Sports</td>\n",
       "      <td>15.61</td>\n",
       "      <td>10.93</td>\n",
       "      <td>3.28</td>\n",
       "      <td>2.95</td>\n",
       "      <td>80.0</td>\n",
       "      <td>8</td>\n",
       "      <td>E</td>\n",
       "    </tr>\n",
       "    <tr>\n",
       "      <th>4</th>\n",
       "      <td>Pokemon Red/Pokemon Blue</td>\n",
       "      <td>GB</td>\n",
       "      <td>1996.0</td>\n",
       "      <td>Role-Playing</td>\n",
       "      <td>11.27</td>\n",
       "      <td>8.89</td>\n",
       "      <td>10.22</td>\n",
       "      <td>1.00</td>\n",
       "      <td>NaN</td>\n",
       "      <td>NaN</td>\n",
       "      <td>NaN</td>\n",
       "    </tr>\n",
       "  </tbody>\n",
       "</table>\n",
       "</div>"
      ],
      "text/plain": [
       "                       Name Platform  Year_of_Release         Genre  NA_sales  \\\n",
       "0                Wii Sports      Wii           2006.0        Sports     41.36   \n",
       "1         Super Mario Bros.      NES           1985.0      Platform     29.08   \n",
       "2            Mario Kart Wii      Wii           2008.0        Racing     15.68   \n",
       "3         Wii Sports Resort      Wii           2009.0        Sports     15.61   \n",
       "4  Pokemon Red/Pokemon Blue       GB           1996.0  Role-Playing     11.27   \n",
       "\n",
       "   EU_sales  JP_sales  Other_sales  Critic_Score User_Score Rating  \n",
       "0     28.96      3.77         8.45          76.0          8      E  \n",
       "1      3.58      6.81         0.77           NaN        NaN    NaN  \n",
       "2     12.76      3.79         3.29          82.0        8.3      E  \n",
       "3     10.93      3.28         2.95          80.0          8      E  \n",
       "4      8.89     10.22         1.00           NaN        NaN    NaN  "
      ]
     },
     "metadata": {},
     "output_type": "display_data"
    }
   ],
   "source": [
    "# чтение файла с данными и сохранение в data в зависимости от его расположения\n",
    "try:\n",
    "    data = pd.read_csv('/Users/a4128/Documents/My_projects/04_Games/games.csv') # локальный путь\n",
    "except:\n",
    "    data = pd.read_csv('/datasets/games.csv') # серверный путь\n",
    "\n",
    "display(data.head()) # получение первых 5 строк таблицы data"
   ]
  },
  {
   "cell_type": "code",
   "execution_count": 3,
   "id": "bfa8cf94",
   "metadata": {},
   "outputs": [
    {
     "name": "stdout",
     "output_type": "stream",
     "text": [
      "Общая нформация об исходной таблице данных:\n",
      "\n",
      "<class 'pandas.core.frame.DataFrame'>\n",
      "RangeIndex: 16715 entries, 0 to 16714\n",
      "Data columns (total 11 columns):\n",
      " #   Column           Non-Null Count  Dtype  \n",
      "---  ------           --------------  -----  \n",
      " 0   Name             16713 non-null  object \n",
      " 1   Platform         16715 non-null  object \n",
      " 2   Year_of_Release  16446 non-null  float64\n",
      " 3   Genre            16713 non-null  object \n",
      " 4   NA_sales         16715 non-null  float64\n",
      " 5   EU_sales         16715 non-null  float64\n",
      " 6   JP_sales         16715 non-null  float64\n",
      " 7   Other_sales      16715 non-null  float64\n",
      " 8   Critic_Score     8137 non-null   float64\n",
      " 9   User_Score       10014 non-null  object \n",
      " 10  Rating           9949 non-null   object \n",
      "dtypes: float64(6), object(5)\n",
      "memory usage: 1.4+ MB\n"
     ]
    }
   ],
   "source": [
    "print('Общая нформация об исходной таблице данных:')\n",
    "print()\n",
    "data.info() # получение общей информации о данных в таблице data"
   ]
  },
  {
   "cell_type": "markdown",
   "id": "fc5c72e7",
   "metadata": {},
   "source": [
    "Для получения статистической информации о количественных данных использую метод `describe()` из библиотеки регулярных выражений `re`. Он поможет сразу увидеть некоторые проблемы в данных.\n",
    "Для числовых переменных я оценю среднее, минимальное и максимальное значения, чтобы установить, в каком диапазоне лежат данные. Процентиль в данном случае не буду оценивать, поэтому список `percentiles` оставлю пустым. В список `include` я не буду включать категориальные переменные, а оставлю только `float` (`int` в таблице не обнаружено). Для наглядности округлю значения в таблице методом `round`."
   ]
  },
  {
   "cell_type": "code",
   "execution_count": 4,
   "id": "c8fac6e1",
   "metadata": {},
   "outputs": [
    {
     "data": {
      "text/html": [
       "<div>\n",
       "<style scoped>\n",
       "    .dataframe tbody tr th:only-of-type {\n",
       "        vertical-align: middle;\n",
       "    }\n",
       "\n",
       "    .dataframe tbody tr th {\n",
       "        vertical-align: top;\n",
       "    }\n",
       "\n",
       "    .dataframe thead th {\n",
       "        text-align: right;\n",
       "    }\n",
       "</style>\n",
       "<table border=\"1\" class=\"dataframe\">\n",
       "  <thead>\n",
       "    <tr style=\"text-align: right;\">\n",
       "      <th></th>\n",
       "      <th>Year_of_Release</th>\n",
       "      <th>NA_sales</th>\n",
       "      <th>EU_sales</th>\n",
       "      <th>JP_sales</th>\n",
       "      <th>Other_sales</th>\n",
       "      <th>Critic_Score</th>\n",
       "    </tr>\n",
       "  </thead>\n",
       "  <tbody>\n",
       "    <tr>\n",
       "      <th>count</th>\n",
       "      <td>16446.0</td>\n",
       "      <td>16715.0</td>\n",
       "      <td>16715.0</td>\n",
       "      <td>16715.0</td>\n",
       "      <td>16715.0</td>\n",
       "      <td>8137.0</td>\n",
       "    </tr>\n",
       "    <tr>\n",
       "      <th>mean</th>\n",
       "      <td>2006.0</td>\n",
       "      <td>0.0</td>\n",
       "      <td>0.0</td>\n",
       "      <td>0.0</td>\n",
       "      <td>0.0</td>\n",
       "      <td>69.0</td>\n",
       "    </tr>\n",
       "    <tr>\n",
       "      <th>std</th>\n",
       "      <td>6.0</td>\n",
       "      <td>1.0</td>\n",
       "      <td>1.0</td>\n",
       "      <td>0.0</td>\n",
       "      <td>0.0</td>\n",
       "      <td>14.0</td>\n",
       "    </tr>\n",
       "    <tr>\n",
       "      <th>min</th>\n",
       "      <td>1980.0</td>\n",
       "      <td>0.0</td>\n",
       "      <td>0.0</td>\n",
       "      <td>0.0</td>\n",
       "      <td>0.0</td>\n",
       "      <td>13.0</td>\n",
       "    </tr>\n",
       "    <tr>\n",
       "      <th>50%</th>\n",
       "      <td>2007.0</td>\n",
       "      <td>0.0</td>\n",
       "      <td>0.0</td>\n",
       "      <td>0.0</td>\n",
       "      <td>0.0</td>\n",
       "      <td>71.0</td>\n",
       "    </tr>\n",
       "    <tr>\n",
       "      <th>max</th>\n",
       "      <td>2016.0</td>\n",
       "      <td>41.0</td>\n",
       "      <td>29.0</td>\n",
       "      <td>10.0</td>\n",
       "      <td>11.0</td>\n",
       "      <td>98.0</td>\n",
       "    </tr>\n",
       "  </tbody>\n",
       "</table>\n",
       "</div>"
      ],
      "text/plain": [
       "       Year_of_Release  NA_sales  EU_sales  JP_sales  Other_sales  \\\n",
       "count          16446.0   16715.0   16715.0   16715.0      16715.0   \n",
       "mean            2006.0       0.0       0.0       0.0          0.0   \n",
       "std                6.0       1.0       1.0       0.0          0.0   \n",
       "min             1980.0       0.0       0.0       0.0          0.0   \n",
       "50%             2007.0       0.0       0.0       0.0          0.0   \n",
       "max             2016.0      41.0      29.0      10.0         11.0   \n",
       "\n",
       "       Critic_Score  \n",
       "count        8137.0  \n",
       "mean           69.0  \n",
       "std            14.0  \n",
       "min            13.0  \n",
       "50%            71.0  \n",
       "max            98.0  "
      ]
     },
     "metadata": {},
     "output_type": "display_data"
    }
   ],
   "source": [
    "# сведения о значениях в столбцах с количественными значениями\n",
    "display(round(data.describe(percentiles = [], include = ['float']))) "
   ]
  },
  {
   "cell_type": "code",
   "execution_count": 5,
   "id": "ba9a162c",
   "metadata": {},
   "outputs": [
    {
     "data": {
      "text/html": [
       "<div>\n",
       "<style scoped>\n",
       "    .dataframe tbody tr th:only-of-type {\n",
       "        vertical-align: middle;\n",
       "    }\n",
       "\n",
       "    .dataframe tbody tr th {\n",
       "        vertical-align: top;\n",
       "    }\n",
       "\n",
       "    .dataframe thead th {\n",
       "        text-align: right;\n",
       "    }\n",
       "</style>\n",
       "<table border=\"1\" class=\"dataframe\">\n",
       "  <thead>\n",
       "    <tr style=\"text-align: right;\">\n",
       "      <th></th>\n",
       "      <th>Name</th>\n",
       "      <th>Platform</th>\n",
       "      <th>Genre</th>\n",
       "      <th>User_Score</th>\n",
       "      <th>Rating</th>\n",
       "    </tr>\n",
       "  </thead>\n",
       "  <tbody>\n",
       "    <tr>\n",
       "      <th>count</th>\n",
       "      <td>16713</td>\n",
       "      <td>16715</td>\n",
       "      <td>16713</td>\n",
       "      <td>10014</td>\n",
       "      <td>9949</td>\n",
       "    </tr>\n",
       "    <tr>\n",
       "      <th>unique</th>\n",
       "      <td>11559</td>\n",
       "      <td>31</td>\n",
       "      <td>12</td>\n",
       "      <td>96</td>\n",
       "      <td>8</td>\n",
       "    </tr>\n",
       "    <tr>\n",
       "      <th>top</th>\n",
       "      <td>Need for Speed: Most Wanted</td>\n",
       "      <td>PS2</td>\n",
       "      <td>Action</td>\n",
       "      <td>tbd</td>\n",
       "      <td>E</td>\n",
       "    </tr>\n",
       "    <tr>\n",
       "      <th>freq</th>\n",
       "      <td>12</td>\n",
       "      <td>2161</td>\n",
       "      <td>3369</td>\n",
       "      <td>2424</td>\n",
       "      <td>3990</td>\n",
       "    </tr>\n",
       "  </tbody>\n",
       "</table>\n",
       "</div>"
      ],
      "text/plain": [
       "                               Name Platform   Genre User_Score Rating\n",
       "count                         16713    16715   16713      10014   9949\n",
       "unique                        11559       31      12         96      8\n",
       "top     Need for Speed: Most Wanted      PS2  Action        tbd      E\n",
       "freq                             12     2161    3369       2424   3990"
      ]
     },
     "metadata": {},
     "output_type": "display_data"
    }
   ],
   "source": [
    "# сведения о значениях в столбцах с категориальными значениями\n",
    "display(data.describe(percentiles = [], include = ['object']))"
   ]
  },
  {
   "cell_type": "markdown",
   "id": "89dad158",
   "metadata": {},
   "source": [
    "### Вывод по разделу"
   ]
  },
  {
   "cell_type": "markdown",
   "id": "2074d740",
   "metadata": {},
   "source": [
    "Итак, данные получены, отображены и предварительно пранализированы.\n",
    "\n",
    "Исходный датафрейм содержит 16715 записей (строк), 11 столбцов, занимает более 1.4 Мб памяти.\n",
    "\n",
    "Тип данных в столбцах — `object` и `float`.\n",
    "\n",
    "Согласно документации к данным:\n",
    "    \n",
    "* `Name` — название игры;\n",
    "* `Platform` — платформа;\n",
    "* `Year_of_Release` — год выпуска;\n",
    "* `Genre` — жанр игры;\n",
    "* `NA_sales` — продажи в Северной Америке (миллионы проданных копий);\n",
    "* `EU_sales` — продажи в Европе (миллионы проданных копий);\n",
    "* `JP_sales` — продажи в Японии (миллионы проданных копий);\n",
    "* `Other_sales` — продажи в других странах (миллионы проданных копий);\n",
    "* `Critic_Score` — оценка критиков (максимум 100);\n",
    "* `User_Score` — оценка пользователей (максимум 10);\n",
    "* `Rating` — рейтинг от организации ESRB.\n"
   ]
  },
  {
   "cell_type": "markdown",
   "id": "2eb5a83d",
   "metadata": {},
   "source": [
    "В результате предварительного анализа обнаружены следующие ошибки и недочеты в данных:\n",
    "* во всех столбцах присутствует нарушение стиля названий (заглавные буквы);\n",
    "* количество значений в столбцах различается (значит, в данных есть пропущенные значения, требующие дополнительной предобработки)\n",
    "* некоторые типы данных не соответствуют логике, а именно, в колонках `Year_of_Release`, `User_Score`. \n",
    "\n",
    "На этапе предобработки будет проведена оценка корректности данных по каждому столбцу, при необходимости, их исправление, замена типов данных и обработка дубликатов при их наличии."
   ]
  },
  {
   "cell_type": "markdown",
   "id": "6827de6d",
   "metadata": {},
   "source": [
    "*Примечания:*\n",
    "\n",
    "* В наборе данных попадается аббревиатура ESRB (Entertainment Software Rating Board) — это ассоциация, определяющая возрастной рейтинг компьютерных игр. ESRB оценивает игровой контент и присваивает ему подходящую возрастную категорию, например, «Для взрослых», «Для детей младшего возраста» или «Для подростков».\n",
    "* Данные за год могут быть неполными."
   ]
  },
  {
   "cell_type": "markdown",
   "id": "18d28ba4",
   "metadata": {},
   "source": [
    "## Предобработка данных"
   ]
  },
  {
   "cell_type": "markdown",
   "id": "93420c5d",
   "metadata": {},
   "source": [
    "### Восстановление стиля названий столбцов"
   ]
  },
  {
   "cell_type": "markdown",
   "id": "a523a7d3",
   "metadata": {},
   "source": [
    "Для начала восстановлю стиль названий для тех колонок, где я обнаружила нарушения:"
   ]
  },
  {
   "cell_type": "code",
   "execution_count": 6,
   "id": "af996707",
   "metadata": {},
   "outputs": [
    {
     "data": {
      "text/plain": [
       "Index(['name', 'platform', 'year_of_release', 'genre', 'na_sales', 'eu_sales',\n",
       "       'jp_sales', 'other_sales', 'critic_score', 'user_score', 'rating'],\n",
       "      dtype='object')"
      ]
     },
     "execution_count": 6,
     "metadata": {},
     "output_type": "execute_result"
    }
   ],
   "source": [
    "# переименование столбцов\n",
    "data = data.rename(columns={'Name': 'name',\n",
    "                            'Platform': 'platform',\n",
    "                            'Year_of_Release': 'year_of_release',\n",
    "                            'Genre': 'genre',\n",
    "                            'NA_sales': 'na_sales',\n",
    "                            'EU_sales': 'eu_sales',\n",
    "                            'JP_sales': 'jp_sales',\n",
    "                            'Other_sales': 'other_sales',\n",
    "                            'Critic_Score': 'critic_score',\n",
    "                            'User_Score': 'user_score',\n",
    "                            'Rating': 'rating'})\n",
    "data.columns # проверка"
   ]
  },
  {
   "cell_type": "markdown",
   "id": "f6a37fcf",
   "metadata": {},
   "source": [
    "### Обработка дубликатов"
   ]
  },
  {
   "cell_type": "code",
   "execution_count": 7,
   "id": "7cc85184",
   "metadata": {},
   "outputs": [
    {
     "name": "stdout",
     "output_type": "stream",
     "text": [
      "['Wii' 'NES' 'GB' 'DS' 'X360' 'PS3' 'PS2' 'SNES' 'GBA' 'PS4' '3DS' 'N64'\n",
      " 'PS' 'XB' 'PC' '2600' 'PSP' 'XOne' 'WiiU' 'GC' 'GEN' 'DC' 'PSV' 'SAT'\n",
      " 'SCD' 'WS' 'NG' 'TG16' '3DO' 'GG' 'PCFX']\n",
      "\n",
      "['Sports' 'Platform' 'Racing' 'Role-Playing' 'Puzzle' 'Misc' 'Shooter'\n",
      " 'Simulation' 'Action' 'Fighting' 'Adventure' 'Strategy' nan]\n",
      "\n",
      "Кол-во уникальных значений в столбце name - 11560\n",
      "\n",
      "Количнство явных дубликатов в датафрейме - 0\n"
     ]
    }
   ],
   "source": [
    "text_columns = ['platform', 'genre']\n",
    "for element in text_columns:\n",
    "    print(data[element].unique())\n",
    "    print()\n",
    "    \n",
    "print('Кол-во уникальных значений в столбце name -', len(data['name'].unique()))\n",
    "print()\n",
    "print('Количнство явных дубликатов в датафрейме -', data.duplicated().sum())"
   ]
  },
  {
   "cell_type": "markdown",
   "id": "9c944ed2",
   "metadata": {},
   "source": [
    "Категориальные переменные не нуждаются в дополнительной обработке, кроме заполнения пропусков в столбце `genre`."
   ]
  },
  {
   "cell_type": "markdown",
   "id": "9ef09368",
   "metadata": {},
   "source": [
    "### Обработка пропущенных значений"
   ]
  },
  {
   "cell_type": "code",
   "execution_count": 8,
   "id": "360e30de",
   "metadata": {},
   "outputs": [
    {
     "name": "stdout",
     "output_type": "stream",
     "text": [
      "critic_score       8578\n",
      "rating             6766\n",
      "user_score         6701\n",
      "year_of_release     269\n",
      "name                  2\n",
      "genre                 2\n",
      "platform              0\n",
      "na_sales              0\n",
      "eu_sales              0\n",
      "jp_sales              0\n",
      "other_sales           0\n",
      "dtype: int64\n"
     ]
    }
   ],
   "source": [
    "# выявление колонок, содержащих пропуски; сортировка по убыванию количества пропусков\n",
    "print(data.isna().sum().sort_values(ascending=False))"
   ]
  },
  {
   "cell_type": "markdown",
   "id": "ed4e7b37",
   "metadata": {},
   "source": [
    "#### В столбцах \"название\" и \"жанр\" (name и genre)"
   ]
  },
  {
   "cell_type": "markdown",
   "id": "9e40e684",
   "metadata": {},
   "source": [
    "Предположу, что 2 записи, в которых содержатся пропуски в столбцах `name` и `genre`, соответствуют друг другу и проверю свое предположение:"
   ]
  },
  {
   "cell_type": "code",
   "execution_count": 9,
   "id": "28982f62",
   "metadata": {},
   "outputs": [
    {
     "data": {
      "text/html": [
       "<div>\n",
       "<style scoped>\n",
       "    .dataframe tbody tr th:only-of-type {\n",
       "        vertical-align: middle;\n",
       "    }\n",
       "\n",
       "    .dataframe tbody tr th {\n",
       "        vertical-align: top;\n",
       "    }\n",
       "\n",
       "    .dataframe thead th {\n",
       "        text-align: right;\n",
       "    }\n",
       "</style>\n",
       "<table border=\"1\" class=\"dataframe\">\n",
       "  <thead>\n",
       "    <tr style=\"text-align: right;\">\n",
       "      <th></th>\n",
       "      <th>name</th>\n",
       "      <th>platform</th>\n",
       "      <th>year_of_release</th>\n",
       "      <th>genre</th>\n",
       "      <th>na_sales</th>\n",
       "      <th>eu_sales</th>\n",
       "      <th>jp_sales</th>\n",
       "      <th>other_sales</th>\n",
       "      <th>critic_score</th>\n",
       "      <th>user_score</th>\n",
       "      <th>rating</th>\n",
       "    </tr>\n",
       "  </thead>\n",
       "  <tbody>\n",
       "    <tr>\n",
       "      <th>659</th>\n",
       "      <td>NaN</td>\n",
       "      <td>GEN</td>\n",
       "      <td>1993.0</td>\n",
       "      <td>NaN</td>\n",
       "      <td>1.78</td>\n",
       "      <td>0.53</td>\n",
       "      <td>0.00</td>\n",
       "      <td>0.08</td>\n",
       "      <td>NaN</td>\n",
       "      <td>NaN</td>\n",
       "      <td>NaN</td>\n",
       "    </tr>\n",
       "    <tr>\n",
       "      <th>14244</th>\n",
       "      <td>NaN</td>\n",
       "      <td>GEN</td>\n",
       "      <td>1993.0</td>\n",
       "      <td>NaN</td>\n",
       "      <td>0.00</td>\n",
       "      <td>0.00</td>\n",
       "      <td>0.03</td>\n",
       "      <td>0.00</td>\n",
       "      <td>NaN</td>\n",
       "      <td>NaN</td>\n",
       "      <td>NaN</td>\n",
       "    </tr>\n",
       "  </tbody>\n",
       "</table>\n",
       "</div>"
      ],
      "text/plain": [
       "      name platform  year_of_release genre  na_sales  eu_sales  jp_sales  \\\n",
       "659    NaN      GEN           1993.0   NaN      1.78      0.53      0.00   \n",
       "14244  NaN      GEN           1993.0   NaN      0.00      0.00      0.03   \n",
       "\n",
       "       other_sales  critic_score user_score rating  \n",
       "659           0.08           NaN        NaN    NaN  \n",
       "14244         0.00           NaN        NaN    NaN  "
      ]
     },
     "metadata": {},
     "output_type": "display_data"
    }
   ],
   "source": [
    "display(data.query('name.isna()'))"
   ]
  },
  {
   "cell_type": "markdown",
   "id": "73040879",
   "metadata": {},
   "source": [
    "Видно, что это 2 очень неинформативные строки, в них пропущены практически все нужные для исследования значения, поэтому я исключу их из датафрейма."
   ]
  },
  {
   "cell_type": "code",
   "execution_count": 10,
   "id": "9d118100",
   "metadata": {},
   "outputs": [
    {
     "name": "stdout",
     "output_type": "stream",
     "text": [
      "Кол-во пропусков в столбце:\n",
      "name - 0\n",
      "genre - 0\n"
     ]
    }
   ],
   "source": [
    "data = data[~(data['name'].isna())]\n",
    "# Проверка\n",
    "print('Кол-во пропусков в столбце:')\n",
    "print('name -', data['name'].isna().sum())\n",
    "print('genre -', data['genre'].isna().sum())"
   ]
  },
  {
   "cell_type": "markdown",
   "id": "069d7e7c",
   "metadata": {},
   "source": [
    "#### В столбце \"год выпуска\" (year_of_release)"
   ]
  },
  {
   "cell_type": "code",
   "execution_count": 11,
   "id": "d9bd4ac2",
   "metadata": {},
   "outputs": [
    {
     "name": "stdout",
     "output_type": "stream",
     "text": [
      "Всего пропусков в столбце year_of_release - 269\n",
      "Доля пропущенных значений составляет 1.6%\n"
     ]
    }
   ],
   "source": [
    "print('Всего пропусков в столбце year_of_release -', data['year_of_release'].isna().sum())\n",
    "print('Доля пропущенных значений составляет {:.1%}'.format(len(data.query('year_of_release.isna()')) / len(data)))"
   ]
  },
  {
   "cell_type": "code",
   "execution_count": 12,
   "id": "21cdc6e6",
   "metadata": {},
   "outputs": [
    {
     "data": {
      "text/html": [
       "<div>\n",
       "<style scoped>\n",
       "    .dataframe tbody tr th:only-of-type {\n",
       "        vertical-align: middle;\n",
       "    }\n",
       "\n",
       "    .dataframe tbody tr th {\n",
       "        vertical-align: top;\n",
       "    }\n",
       "\n",
       "    .dataframe thead th {\n",
       "        text-align: right;\n",
       "    }\n",
       "</style>\n",
       "<table border=\"1\" class=\"dataframe\">\n",
       "  <thead>\n",
       "    <tr style=\"text-align: right;\">\n",
       "      <th></th>\n",
       "      <th>name</th>\n",
       "      <th>platform</th>\n",
       "      <th>year_of_release</th>\n",
       "      <th>genre</th>\n",
       "      <th>na_sales</th>\n",
       "      <th>eu_sales</th>\n",
       "      <th>jp_sales</th>\n",
       "      <th>other_sales</th>\n",
       "      <th>critic_score</th>\n",
       "      <th>user_score</th>\n",
       "      <th>rating</th>\n",
       "    </tr>\n",
       "  </thead>\n",
       "  <tbody>\n",
       "    <tr>\n",
       "      <th>183</th>\n",
       "      <td>Madden NFL 2004</td>\n",
       "      <td>PS2</td>\n",
       "      <td>NaN</td>\n",
       "      <td>Sports</td>\n",
       "      <td>4.26</td>\n",
       "      <td>0.26</td>\n",
       "      <td>0.01</td>\n",
       "      <td>0.71</td>\n",
       "      <td>94.0</td>\n",
       "      <td>8.5</td>\n",
       "      <td>E</td>\n",
       "    </tr>\n",
       "    <tr>\n",
       "      <th>377</th>\n",
       "      <td>FIFA Soccer 2004</td>\n",
       "      <td>PS2</td>\n",
       "      <td>NaN</td>\n",
       "      <td>Sports</td>\n",
       "      <td>0.59</td>\n",
       "      <td>2.36</td>\n",
       "      <td>0.04</td>\n",
       "      <td>0.51</td>\n",
       "      <td>84.0</td>\n",
       "      <td>6.4</td>\n",
       "      <td>E</td>\n",
       "    </tr>\n",
       "    <tr>\n",
       "      <th>456</th>\n",
       "      <td>LEGO Batman: The Videogame</td>\n",
       "      <td>Wii</td>\n",
       "      <td>NaN</td>\n",
       "      <td>Action</td>\n",
       "      <td>1.80</td>\n",
       "      <td>0.97</td>\n",
       "      <td>0.00</td>\n",
       "      <td>0.29</td>\n",
       "      <td>74.0</td>\n",
       "      <td>7.9</td>\n",
       "      <td>E10+</td>\n",
       "    </tr>\n",
       "    <tr>\n",
       "      <th>475</th>\n",
       "      <td>wwe Smackdown vs. Raw 2006</td>\n",
       "      <td>PS2</td>\n",
       "      <td>NaN</td>\n",
       "      <td>Fighting</td>\n",
       "      <td>1.57</td>\n",
       "      <td>1.02</td>\n",
       "      <td>0.00</td>\n",
       "      <td>0.41</td>\n",
       "      <td>NaN</td>\n",
       "      <td>NaN</td>\n",
       "      <td>NaN</td>\n",
       "    </tr>\n",
       "    <tr>\n",
       "      <th>609</th>\n",
       "      <td>Space Invaders</td>\n",
       "      <td>2600</td>\n",
       "      <td>NaN</td>\n",
       "      <td>Shooter</td>\n",
       "      <td>2.36</td>\n",
       "      <td>0.14</td>\n",
       "      <td>0.00</td>\n",
       "      <td>0.03</td>\n",
       "      <td>NaN</td>\n",
       "      <td>NaN</td>\n",
       "      <td>NaN</td>\n",
       "    </tr>\n",
       "    <tr>\n",
       "      <th>...</th>\n",
       "      <td>...</td>\n",
       "      <td>...</td>\n",
       "      <td>...</td>\n",
       "      <td>...</td>\n",
       "      <td>...</td>\n",
       "      <td>...</td>\n",
       "      <td>...</td>\n",
       "      <td>...</td>\n",
       "      <td>...</td>\n",
       "      <td>...</td>\n",
       "      <td>...</td>\n",
       "    </tr>\n",
       "    <tr>\n",
       "      <th>16373</th>\n",
       "      <td>PDC World Championship Darts 2008</td>\n",
       "      <td>PSP</td>\n",
       "      <td>NaN</td>\n",
       "      <td>Sports</td>\n",
       "      <td>0.01</td>\n",
       "      <td>0.00</td>\n",
       "      <td>0.00</td>\n",
       "      <td>0.00</td>\n",
       "      <td>43.0</td>\n",
       "      <td>tbd</td>\n",
       "      <td>E10+</td>\n",
       "    </tr>\n",
       "    <tr>\n",
       "      <th>16405</th>\n",
       "      <td>Freaky Flyers</td>\n",
       "      <td>GC</td>\n",
       "      <td>NaN</td>\n",
       "      <td>Racing</td>\n",
       "      <td>0.01</td>\n",
       "      <td>0.00</td>\n",
       "      <td>0.00</td>\n",
       "      <td>0.00</td>\n",
       "      <td>69.0</td>\n",
       "      <td>6.5</td>\n",
       "      <td>T</td>\n",
       "    </tr>\n",
       "    <tr>\n",
       "      <th>16448</th>\n",
       "      <td>Inversion</td>\n",
       "      <td>PC</td>\n",
       "      <td>NaN</td>\n",
       "      <td>Shooter</td>\n",
       "      <td>0.01</td>\n",
       "      <td>0.00</td>\n",
       "      <td>0.00</td>\n",
       "      <td>0.00</td>\n",
       "      <td>59.0</td>\n",
       "      <td>6.7</td>\n",
       "      <td>M</td>\n",
       "    </tr>\n",
       "    <tr>\n",
       "      <th>16458</th>\n",
       "      <td>Hakuouki: Shinsengumi Kitan</td>\n",
       "      <td>PS3</td>\n",
       "      <td>NaN</td>\n",
       "      <td>Adventure</td>\n",
       "      <td>0.01</td>\n",
       "      <td>0.00</td>\n",
       "      <td>0.00</td>\n",
       "      <td>0.00</td>\n",
       "      <td>NaN</td>\n",
       "      <td>NaN</td>\n",
       "      <td>NaN</td>\n",
       "    </tr>\n",
       "    <tr>\n",
       "      <th>16522</th>\n",
       "      <td>Virtua Quest</td>\n",
       "      <td>GC</td>\n",
       "      <td>NaN</td>\n",
       "      <td>Role-Playing</td>\n",
       "      <td>0.01</td>\n",
       "      <td>0.00</td>\n",
       "      <td>0.00</td>\n",
       "      <td>0.00</td>\n",
       "      <td>55.0</td>\n",
       "      <td>5.5</td>\n",
       "      <td>T</td>\n",
       "    </tr>\n",
       "  </tbody>\n",
       "</table>\n",
       "<p>269 rows × 11 columns</p>\n",
       "</div>"
      ],
      "text/plain": [
       "                                    name platform  year_of_release  \\\n",
       "183                      Madden NFL 2004      PS2              NaN   \n",
       "377                     FIFA Soccer 2004      PS2              NaN   \n",
       "456           LEGO Batman: The Videogame      Wii              NaN   \n",
       "475           wwe Smackdown vs. Raw 2006      PS2              NaN   \n",
       "609                       Space Invaders     2600              NaN   \n",
       "...                                  ...      ...              ...   \n",
       "16373  PDC World Championship Darts 2008      PSP              NaN   \n",
       "16405                      Freaky Flyers       GC              NaN   \n",
       "16448                          Inversion       PC              NaN   \n",
       "16458        Hakuouki: Shinsengumi Kitan      PS3              NaN   \n",
       "16522                       Virtua Quest       GC              NaN   \n",
       "\n",
       "              genre  na_sales  eu_sales  jp_sales  other_sales  critic_score  \\\n",
       "183          Sports      4.26      0.26      0.01         0.71          94.0   \n",
       "377          Sports      0.59      2.36      0.04         0.51          84.0   \n",
       "456          Action      1.80      0.97      0.00         0.29          74.0   \n",
       "475        Fighting      1.57      1.02      0.00         0.41           NaN   \n",
       "609         Shooter      2.36      0.14      0.00         0.03           NaN   \n",
       "...             ...       ...       ...       ...          ...           ...   \n",
       "16373        Sports      0.01      0.00      0.00         0.00          43.0   \n",
       "16405        Racing      0.01      0.00      0.00         0.00          69.0   \n",
       "16448       Shooter      0.01      0.00      0.00         0.00          59.0   \n",
       "16458     Adventure      0.01      0.00      0.00         0.00           NaN   \n",
       "16522  Role-Playing      0.01      0.00      0.00         0.00          55.0   \n",
       "\n",
       "      user_score rating  \n",
       "183          8.5      E  \n",
       "377          6.4      E  \n",
       "456          7.9   E10+  \n",
       "475          NaN    NaN  \n",
       "609          NaN    NaN  \n",
       "...          ...    ...  \n",
       "16373        tbd   E10+  \n",
       "16405        6.5      T  \n",
       "16448        6.7      M  \n",
       "16458        NaN    NaN  \n",
       "16522        5.5      T  \n",
       "\n",
       "[269 rows x 11 columns]"
      ]
     },
     "metadata": {},
     "output_type": "display_data"
    }
   ],
   "source": [
    "display(data.query('year_of_release.isna()'))"
   ]
  },
  {
   "cell_type": "markdown",
   "id": "413941b0",
   "metadata": {},
   "source": [
    "Визуально не удается определить закономерность появления пропусков в столбце `год выпуска`, к тому же их процент не превышает 2%, поэтому для получения возможности преобразовать тип данных в тип `int` я заполню пропущенные значения нулями и при обработке датафрейма буду просто их отфильтровывать."
   ]
  },
  {
   "cell_type": "code",
   "execution_count": 13,
   "id": "60f07ce6",
   "metadata": {},
   "outputs": [
    {
     "name": "stdout",
     "output_type": "stream",
     "text": [
      "Всего пропусков в столбце year_of_release - 0\n"
     ]
    }
   ],
   "source": [
    "data.loc[data['year_of_release'].isna(), 'year_of_release'] = 0\n",
    "# Проверка\n",
    "print('Всего пропусков в столбце year_of_release -', data['year_of_release'].isna().sum())"
   ]
  },
  {
   "cell_type": "markdown",
   "id": "dc935b73",
   "metadata": {},
   "source": [
    "#### В столбце \"рейтинг\" (rating)"
   ]
  },
  {
   "cell_type": "code",
   "execution_count": 14,
   "id": "f0790b5b",
   "metadata": {},
   "outputs": [
    {
     "name": "stdout",
     "output_type": "stream",
     "text": [
      "Всего пропусков в столбце rating - 6764\n",
      "Доля пропущенных значений составляет 40.5%\n"
     ]
    }
   ],
   "source": [
    "print('Всего пропусков в столбце rating -', data['rating'].isna().sum())\n",
    "print('Доля пропущенных значений составляет {:.1%}'.format(len(data.query('rating.isna()')) / len(data)))"
   ]
  },
  {
   "cell_type": "markdown",
   "id": "e61d32d7",
   "metadata": {},
   "source": [
    "Огрмное количество пропусков - больше 40%. Исключать данные с пропусками повлияет на качество выборки, поэтому это смысла не имеет, однако от пропусков избавиться необходимо, чтобы появилась возможность беспрепятственно обрабатывать весь датафрейм. Т.к. столбец содержит категориальные переменные, а не количественные, то логичнее всего заполнить пропуски некоторым установленным значением, например, 'rating_nan'. Проверю на всякий случай, не содержится ли такое значение в столбце, хотя очень вряд ли:"
   ]
  },
  {
   "cell_type": "code",
   "execution_count": 15,
   "id": "2b0637fa",
   "metadata": {},
   "outputs": [
    {
     "name": "stdout",
     "output_type": "stream",
     "text": [
      "0\n"
     ]
    }
   ],
   "source": [
    "print(len(data.query('rating == \"rating_nan\"')))"
   ]
  },
  {
   "cell_type": "markdown",
   "id": "02b11423",
   "metadata": {},
   "source": [
    "Отлично, тогда смело заменю все пропущенные значение на `rating_nan`."
   ]
  },
  {
   "cell_type": "code",
   "execution_count": 16,
   "id": "049c2d35",
   "metadata": {},
   "outputs": [
    {
     "name": "stdout",
     "output_type": "stream",
     "text": [
      "Всего пропусков в столбце rating - 0\n"
     ]
    }
   ],
   "source": [
    "data.loc[data['rating'].isna(), 'rating'] = 'rating_nan'\n",
    "# Проверка\n",
    "print('Всего пропусков в столбце rating -', data['rating'].isna().sum())"
   ]
  },
  {
   "cell_type": "markdown",
   "id": "51d778c9",
   "metadata": {},
   "source": [
    "#### В столбце \"оценка критиков\" (critic_score)"
   ]
  },
  {
   "cell_type": "code",
   "execution_count": 17,
   "id": "5041200d",
   "metadata": {},
   "outputs": [
    {
     "name": "stdout",
     "output_type": "stream",
     "text": [
      "Всего пропусков в столбце critic_score - 8576\n",
      "Доля пропущенных значений составляет 51.3%\n",
      "Тип данных в столбце - float64\n"
     ]
    }
   ],
   "source": [
    "print('Всего пропусков в столбце critic_score -', data['critic_score'].isna().sum())\n",
    "print('Доля пропущенных значений составляет {:.1%}'.format(len(data.query('critic_score.isna()')) / len(data)))\n",
    "print('Тип данных в столбце -', data['critic_score'].dtypes)\n",
    "#print(data['critic_score'].describe())"
   ]
  },
  {
   "cell_type": "markdown",
   "id": "083ebbd9",
   "metadata": {},
   "source": [
    "Больше половины значений в таблице не определено. На практике было бы правильно установить причину пропусков и восстановить данные. Но пока такой возможности нет, заполнение этого столбца по любому принципу приведет к искажению корреляционного анализа и результатов корреляционных тестов, поэтому пропуски заполнять не буду."
   ]
  },
  {
   "cell_type": "markdown",
   "id": "924b0409",
   "metadata": {},
   "source": [
    "#### В столбце \"оценка пользователей\" (user_score)"
   ]
  },
  {
   "cell_type": "code",
   "execution_count": 18,
   "id": "2e2cbb08",
   "metadata": {},
   "outputs": [
    {
     "name": "stdout",
     "output_type": "stream",
     "text": [
      "Всего пропусков в столбце user_score - 6699\n",
      "Доля пропущенных значений составляет 40.1%\n",
      "Тип данных в столбце - object\n"
     ]
    }
   ],
   "source": [
    "print('Всего пропусков в столбце user_score -', data['user_score'].isna().sum())\n",
    "print('Доля пропущенных значений составляет {:.1%}'.format(len(data.query('user_score.isna()')) / len(data)))\n",
    "print('Тип данных в столбце -', data['user_score'].dtypes)"
   ]
  },
  {
   "cell_type": "markdown",
   "id": "d8d9702d",
   "metadata": {},
   "source": [
    "Колонка `user_score` имеет тип строковый, пропусков большое количество - больше 40%. Проверю, какие значения содержатся в столбце:"
   ]
  },
  {
   "cell_type": "code",
   "execution_count": 19,
   "id": "744d67b2",
   "metadata": {},
   "outputs": [
    {
     "name": "stdout",
     "output_type": "stream",
     "text": [
      "tbd    2424\n",
      "7.8     324\n",
      "8       290\n",
      "8.2     282\n",
      "8.3     254\n",
      "Name: user_score, dtype: int64\n"
     ]
    }
   ],
   "source": [
    "print(data['user_score'].value_counts().head())"
   ]
  },
  {
   "cell_type": "markdown",
   "id": "fbfb2d3c",
   "metadata": {},
   "source": [
    "Столбец содержит как целочисленные значения, так и дробные, вдобавок в столбце содержится и строковое значение `tbd`, с которым отдельно нужно разобраться. \n",
    "TBD — это сокращение произошло от выражения «to be determined”, что можно перевести на русский, как `подлежит определению`. Т.к. мне предстоит работать с данными этого столбца, как с количественными значениями, необходимо перевести столбец к типу `float`, поэтому нужно заменить `tbd` на `nan`."
   ]
  },
  {
   "cell_type": "code",
   "execution_count": 20,
   "id": "4faf1743",
   "metadata": {},
   "outputs": [],
   "source": [
    "data.loc[data['user_score'] == 'tbd', 'user_score'] = float('nan')"
   ]
  },
  {
   "cell_type": "code",
   "execution_count": 21,
   "id": "8f3d44c8",
   "metadata": {},
   "outputs": [
    {
     "name": "stdout",
     "output_type": "stream",
     "text": [
      "Всего пропусков в столбце user_score - 9123\n",
      "Доля пропущенных значений составляет 54.6%\n"
     ]
    }
   ],
   "source": [
    "print('Всего пропусков в столбце user_score -', data['user_score'].isna().sum())\n",
    "print('Доля пропущенных значений составляет {:.1%}'.format(len(data.query('user_score.isna()')) / len(data)))"
   ]
  },
  {
   "cell_type": "markdown",
   "id": "bf499816",
   "metadata": {},
   "source": [
    "Количество пропусков увеличилось, однако, появилась возможность изменить тип столбца на вещественный и продолжать с ним работать. Заполнение этого столбца по любому принципу приведет к искажению корреляционного анализа и результатов корреляционных тестов, так же, как и в ситуации с `critic_score`, поэтому пропуски заполнять я не буду."
   ]
  },
  {
   "cell_type": "markdown",
   "id": "ce4e4f47",
   "metadata": {},
   "source": [
    "Итоговая таблица пропущенных значений выглядит следующим образом:"
   ]
  },
  {
   "cell_type": "code",
   "execution_count": 22,
   "id": "185748fe",
   "metadata": {},
   "outputs": [
    {
     "name": "stdout",
     "output_type": "stream",
     "text": [
      "user_score         9123\n",
      "critic_score       8576\n",
      "name                  0\n",
      "platform              0\n",
      "year_of_release       0\n",
      "genre                 0\n",
      "na_sales              0\n",
      "eu_sales              0\n",
      "jp_sales              0\n",
      "other_sales           0\n",
      "rating                0\n",
      "dtype: int64\n"
     ]
    }
   ],
   "source": [
    "print(data.isna().sum().sort_values(ascending=False))"
   ]
  },
  {
   "cell_type": "markdown",
   "id": "8a122e2b",
   "metadata": {},
   "source": [
    "### Приведение типов данных"
   ]
  },
  {
   "cell_type": "markdown",
   "id": "c6c77f26",
   "metadata": {},
   "source": [
    "Изменю типы данных в столбцах `year_of_release`, `user_score`, "
   ]
  },
  {
   "cell_type": "code",
   "execution_count": 23,
   "id": "af7b10ce",
   "metadata": {},
   "outputs": [
    {
     "name": "stdout",
     "output_type": "stream",
     "text": [
      "Исходный тип данных в столбце year_of_release - float64\n",
      "После замены тип данных в столбце year_of_release - int64\n",
      "\n",
      "Исходный тип данных в столбце user_score - object\n",
      "После замены тип данных в столбце user_score - float64\n"
     ]
    }
   ],
   "source": [
    "print('Исходный тип данных в столбце year_of_release -', data['year_of_release'].dtypes)\n",
    "data['year_of_release'] = data['year_of_release'].astype('int')\n",
    "print('После замены тип данных в столбце year_of_release -', data['year_of_release'].dtypes)\n",
    "print()\n",
    "print('Исходный тип данных в столбце user_score -', data['user_score'].dtypes)\n",
    "data['user_score'] = data['user_score'].astype('float')\n",
    "print('После замены тип данных в столбце user_score -', data['user_score'].dtypes)"
   ]
  },
  {
   "cell_type": "markdown",
   "id": "cb6acff7",
   "metadata": {},
   "source": [
    "### Расчет суммарных продаж"
   ]
  },
  {
   "cell_type": "markdown",
   "id": "c1d2c598",
   "metadata": {},
   "source": [
    "Рассчитаю суммарные продажи во всех регионах и запишу их в отдельный столбец:"
   ]
  },
  {
   "cell_type": "code",
   "execution_count": 24,
   "id": "df4b14b5",
   "metadata": {},
   "outputs": [
    {
     "name": "stdout",
     "output_type": "stream",
     "text": [
      "   na_sales  eu_sales  jp_sales  other_sales  sum_sales\n",
      "0     41.36     28.96      3.77         8.45      82.54\n",
      "1     29.08      3.58      6.81         0.77      40.24\n",
      "2     15.68     12.76      3.79         3.29      35.52\n",
      "3     15.61     10.93      3.28         2.95      32.77\n",
      "4     11.27      8.89     10.22         1.00      31.38\n"
     ]
    }
   ],
   "source": [
    "data['sum_sales'] = data['na_sales'] + data['eu_sales'] + data['jp_sales'] + data['other_sales']\n",
    "print(data[['na_sales', 'eu_sales', 'jp_sales', 'other_sales', 'sum_sales']].head())"
   ]
  },
  {
   "cell_type": "markdown",
   "id": "41f8116e",
   "metadata": {},
   "source": [
    "### Вывод по разделу"
   ]
  },
  {
   "cell_type": "markdown",
   "id": "55f2bfb2",
   "metadata": {},
   "source": [
    "В результате проведенной предобработки данных:\n",
    "\n",
    "* восстановлен стиль заголовков для тех колонок, где обнаружены нарушения;\n",
    "* проведена обработка пропусков:\n",
    "    * исключены неинформативные строки;\n",
    "    * пропуски в столбце с категориальными переменными заменены \"заглушками\";\n",
    "    * пропуски в столбцах оценки (их более половины от всех данных) заменены не были, т.к. их замена может привести к искажению результатов статистических тестов и корреляционного анализа.\n",
    "* типы данных приведены к типам, с которыми можно проводить последующий анализ данных object -> float, float -> int.\n",
    "* в датафрейм добавлен дополнительный столбец `sum_sales`, содержащий суммарные продажи по всем регионам."
   ]
  },
  {
   "cell_type": "markdown",
   "id": "c5cf3005",
   "metadata": {},
   "source": [
    "## Исследовательский анализ данных"
   ]
  },
  {
   "cell_type": "markdown",
   "id": "48346b6b",
   "metadata": {},
   "source": [
    "Заранее напишу функцию для вывода гистограмм и диаграмм размаха на одном графике, т.к. они будут неоднократно использоваться в моем исследовании:"
   ]
  },
  {
   "cell_type": "code",
   "execution_count": 25,
   "id": "2272418b",
   "metadata": {},
   "outputs": [],
   "source": [
    "def grafics(df, column, bins, title):\n",
    "    fig, axes = plt.subplots(1,2,figsize=(15,6))\n",
    "    df[column].plot(kind='hist', bins=bins, grid=True, title=title, ax=axes[0])\n",
    "    df.boxplot((column), ax=axes[1]);"
   ]
  },
  {
   "cell_type": "markdown",
   "id": "2530e5a9",
   "metadata": {},
   "source": [
    "### Анализ дат релиза"
   ]
  },
  {
   "cell_type": "markdown",
   "id": "c719b868",
   "metadata": {},
   "source": [
    "Посмотрю, сколько игр выпускалось в разные годы:"
   ]
  },
  {
   "cell_type": "code",
   "execution_count": 26,
   "id": "96e504e9",
   "metadata": {},
   "outputs": [
    {
     "name": "stdout",
     "output_type": "stream",
     "text": [
      "2008    1427\n",
      "2009    1426\n",
      "2010    1255\n",
      "2007    1197\n",
      "2011    1136\n",
      "Name: year_of_release, dtype: int64\n",
      "\n",
      "count    16444.0\n",
      "mean      2006.0\n",
      "std          6.0\n",
      "min       1980.0\n",
      "25%       2003.0\n",
      "50%       2007.0\n",
      "75%       2010.0\n",
      "max       2016.0\n",
      "Name: year_of_release, dtype: float64\n"
     ]
    },
    {
     "data": {
      "image/png": "[encoded data removed]",
      "text/plain": [
       "<Figure size 1080x432 with 2 Axes>"
      ]
     },
     "metadata": {
      "needs_background": "light"
     },
     "output_type": "display_data"
    }
   ],
   "source": [
    "data_year = data.query('year_of_release != 0')\n",
    "\n",
    "print(data_year['year_of_release'].value_counts(ascending=False).head(5))\n",
    "print()\n",
    "\n",
    "print(round(data_year['year_of_release'].describe()))\n",
    "grafics(data_year, 'year_of_release', 30, 'Распределение кол-ва игр по году релиза')"
   ]
  },
  {
   "cell_type": "markdown",
   "id": "0abebf44",
   "metadata": {},
   "source": [
    "Исходя из данных гистограммы и диаграммы размаха, можно сделать следующие выводы:\n",
    "* в выборке присутствуют данные с датой релиза с 1980 по 2016 года,\n",
    "* с 1990 по 2010 года наблюдалась тенденция к росту выпускаемых игр, однако после 2010 кол-во релизов пошло на спад,\n",
    "* большинство компьютерных игр выпущено в период с 2003 по 2010 год,\n",
    "* пик приходится на 2008 и 2009 года, в которые было выпущено 1427 и 1426 игр соответственно,\n",
    "* ориентировочная нижняя граница нормального размаха - 1993 год, все данные, что раньше 1993 рисуются отдельными точками, их можно считать выбросами - их немного и они не важны для исследований."
   ]
  },
  {
   "cell_type": "code",
   "execution_count": 27,
   "id": "58bcd5a0",
   "metadata": {},
   "outputs": [
    {
     "data": {
      "image/png": "[encoded data removed]",
      "text/plain": [
       "<Figure size 1080x432 with 2 Axes>"
      ]
     },
     "metadata": {
      "needs_background": "light"
     },
     "output_type": "display_data"
    }
   ],
   "source": [
    "grafics(data_year.query('year_of_release > 1993'), 'year_of_release', 30, 'Распределение кол-ва игр по году релиза')"
   ]
  },
  {
   "cell_type": "markdown",
   "id": "f59a7040",
   "metadata": {},
   "source": [
    "### Анализ платформ"
   ]
  },
  {
   "cell_type": "markdown",
   "id": "2913c7da",
   "metadata": {},
   "source": [
    "Попробую проанализировать, как менялись продажи по платформам. Для этого я выберу платформы с наибольшими суммарными продажами и построю распределение по годам.  "
   ]
  },
  {
   "cell_type": "code",
   "execution_count": 28,
   "id": "1a5f4880",
   "metadata": {},
   "outputs": [
    {
     "data": {
      "image/png": "[encoded data removed]",
      "text/plain": [
       "<Figure size 720x432 with 1 Axes>"
      ]
     },
     "metadata": {
      "needs_background": "light"
     },
     "output_type": "display_data"
    }
   ],
   "source": [
    "(data\n",
    " .groupby('platform')['sum_sales'].sum()\n",
    " .sort_values(ascending=False)\n",
    " .plot(x='platform', y='sum_sales', grid=True, marker='.', figsize=(10,6))\n",
    ")\n",
    "plt.title('Зависимость суммарных продаж от платформы')\n",
    "plt.xlabel('Название платформы')\n",
    "plt.ylabel('Суммарные продажи в млн. копий');"
   ]
  },
  {
   "cell_type": "markdown",
   "id": "da26f4c0",
   "metadata": {},
   "source": [
    "Из графика выше можно увидеть, что топовыми платформами являются те, у которых суммарные продажи превышают пороговое значение примерно в 700-750 миллионов проданных копий, поэтому ограничу топовые платформы значением 700."
   ]
  },
  {
   "cell_type": "code",
   "execution_count": 29,
   "id": "bb8fe556",
   "metadata": {},
   "outputs": [
    {
     "name": "stdout",
     "output_type": "stream",
     "text": [
      "platform\n",
      "PS2     1255.77\n",
      "X360     971.42\n",
      "PS3      939.65\n",
      "Wii      907.51\n",
      "DS       806.12\n",
      "PS       730.86\n",
      "GBA      317.85\n",
      "PS4      314.14\n",
      "PSP      294.05\n",
      "PC       259.52\n",
      "Name: sum_sales, dtype: float64\n"
     ]
    }
   ],
   "source": [
    "print(data.groupby('platform')['sum_sales'].sum().sort_values(ascending=False).head(10))"
   ]
  },
  {
   "cell_type": "markdown",
   "id": "05e300a8",
   "metadata": {},
   "source": [
    "Из таблицы явно видно, что это 6 платформ: PS2, X360, PS3, Wii, DS и PS. Выберу нужный мне датафрейм и построю распределение по годам (использую только те строки, в которых указан год релизов игр - это датафрейм `data_year`) для тех платформ, у которых продажи превысили 700 млн копий."
   ]
  },
  {
   "cell_type": "code",
   "execution_count": 30,
   "id": "774a23aa",
   "metadata": {},
   "outputs": [
    {
     "data": {
      "image/png": "[encoded data removed]",
      "text/plain": [
       "<Figure size 720x360 with 1 Axes>"
      ]
     },
     "metadata": {
      "needs_background": "light"
     },
     "output_type": "display_data"
    }
   ],
   "source": [
    "top_platforms = ['PS2', 'X360', 'PS3', 'Wii', 'DS', 'PS']\n",
    "data_platform = data_year.query('year_of_release > 1993 and platform in @top_platforms')\n",
    "platform_pivot = data_platform.pivot_table(index='year_of_release', columns='platform', values='sum_sales', aggfunc='sum')\n",
    "#print(platform_pivot)\n",
    "platform_pivot.plot(figsize=(10,5), grid=True, linewidth = 2, marker='.')\n",
    "plt.title('Жизненный цикл платформ')\n",
    "plt.xlabel('Год релиза игр')\n",
    "plt.ylabel('Суммарные продажи в млн. копий');"
   ]
  },
  {
   "cell_type": "markdown",
   "id": "7ee09414",
   "metadata": {},
   "source": [
    "По результатам построения видно, что жизненный цикл топовых платформ выглядит примерно одинаково, выход новой платформы -> рост количества новых игр -> пик -> снижение количества игр -> прекращение релизов. Попробую рассчитать за какой характерный срок появляются новые и исчезают старые платформы. Для этого необходимо разбить графики пиковым значением на 2 части и посчитать среднее время, которое\n",
    "* требуется платформе для достижения своего пикового значения;\n",
    "* проходит от пикового значения до года полного прекращения релизов этой платформы.\n",
    "\n",
    "Я думаю, что для упрощения расчетов можно принять пиковое значение за половину графика. Рассчитаю характерный срок появления новых и ухода старых платформ. Посчитаю количество уникальных записей методом `nunique()`, поделю пополам, чтобы рассматривать половину жизненного цикла платформы и возьму среднее значение. Это и будет ориентировочное время роста и падения платформы."
   ]
  },
  {
   "cell_type": "code",
   "execution_count": 31,
   "id": "a5048159",
   "metadata": {},
   "outputs": [
    {
     "name": "stdout",
     "output_type": "stream",
     "text": [
      "year_of_release    3.0\n",
      "dtype: float64\n"
     ]
    }
   ],
   "source": [
    "report = (data_year\n",
    "          .query('year_of_release > 1993')\n",
    "          .groupby(['platform', 'year_of_release'])\n",
    "          .agg({'sum_sales': 'sum'})\n",
    "         )\n",
    "time = report.reset_index().groupby('platform').agg({'year_of_release': 'nunique'}).mean() / 2\n",
    "print(round(time))"
   ]
  },
  {
   "cell_type": "markdown",
   "id": "11d5f54b",
   "metadata": {},
   "source": [
    "В результате расчета выявлено, что характерный срок появления новых и ухода старых платформ составляет около 3 лет. Т.е. в среднем в течение 3 лет платформа набирает обороты, достигает пика популярности, выпускает максимум продаваемых игр и далее в течение 3 лет теряет популярность и постепенно уходит с рынка.\n",
    "\n",
    "Для того, чтобы определить, на каких платформах имеет смысл выпускать новые игры, нужно определить актуальный период. Я буду считать актуальным периодом последние 3 года представленных данных, т.е. с 2014 по 2016 год. Эти данные помогут построить прогноз на 2017 год, данные за предыдущие годы учитывать не буду."
   ]
  },
  {
   "cell_type": "code",
   "execution_count": 32,
   "id": "bd177b87",
   "metadata": {},
   "outputs": [],
   "source": [
    "data_actual = data.query('year_of_release >= 2014')"
   ]
  },
  {
   "cell_type": "markdown",
   "id": "c01c426a",
   "metadata": {},
   "source": [
    "Выясню, какие платформы лидируют по продажам в обозначенном периоде времени, какие растут, какие падают. Выберу несколько потенциально прибыльных платформ."
   ]
  },
  {
   "cell_type": "code",
   "execution_count": 33,
   "id": "1a13e002",
   "metadata": {},
   "outputs": [
    {
     "name": "stdout",
     "output_type": "stream",
     "text": [
      "platform\n",
      "PS4     288.15\n",
      "XOne    140.36\n",
      "3DS      86.68\n",
      "PS3      68.18\n",
      "X360     48.22\n",
      "WiiU     42.98\n",
      "PC       27.05\n",
      "PSV      22.40\n",
      "Wii       5.07\n",
      "PSP       0.36\n",
      "Name: sum_sales, dtype: float64\n"
     ]
    },
    {
     "data": {
      "image/png": "[encoded data removed]",
      "text/plain": [
       "<Figure size 720x432 with 1 Axes>"
      ]
     },
     "metadata": {
      "needs_background": "light"
     },
     "output_type": "display_data"
    }
   ],
   "source": [
    "(data_actual\n",
    " .groupby('platform')['sum_sales'].sum()\n",
    " .sort_values(ascending=False)\n",
    " .plot(x='platform', y='sum_sales', grid=True, marker='s', figsize=(10,6))\n",
    ")\n",
    "plt.title('Зависимость суммарных продаж от платформы для актуального периода')\n",
    "plt.xlabel('Название платформы')\n",
    "plt.ylabel('Суммарные продажи в млн. копий');\n",
    "print(data_actual.groupby('platform')['sum_sales'].sum().sort_values(ascending=False).head(10))"
   ]
  },
  {
   "cell_type": "code",
   "execution_count": 34,
   "id": "f56144bc",
   "metadata": {},
   "outputs": [
    {
     "data": {
      "image/png": "[encoded data removed]",
      "text/plain": [
       "<Figure size 720x360 with 1 Axes>"
      ]
     },
     "metadata": {
      "needs_background": "light"
     },
     "output_type": "display_data"
    }
   ],
   "source": [
    "platform_top = ['PS4', 'XOne', '3DS', 'PS3', 'X360', 'WiiU', 'PC', 'PSV', 'Wii']\n",
    "runs = [2014,2015,2016]\n",
    "(data_actual.query('platform in @platform_top')\n",
    " .pivot_table(index='year_of_release', columns='platform', values='sum_sales', aggfunc='sum')\n",
    " .plot(figsize=(10,5), grid=True, linewidth = 1, marker='.', )\n",
    ")\n",
    "plt.xticks(runs)\n",
    "plt.grid(axis = 'y')\n",
    "plt.title('Платформы - лидеры продаж актуального периода')\n",
    "plt.xlabel('Год релиза игр')\n",
    "plt.ylabel('Суммарные продажи в млн. копий');"
   ]
  },
  {
   "cell_type": "markdown",
   "id": "d51eb14b",
   "metadata": {},
   "source": [
    "По всем исследуемым платформам за последний год актуального периода наблюдается спад продаж, однако можно предположить, что лидеры рынка на данный момент, а именно, платформы `PS4` и `XOne` потенциально перспективны на будущий год и могут принести хорошие продажи. До 2015 года наблюдался рост по этим двум платформам, а пик продаж пришелся как раз на 2015 год, а т.к. в предыдущем исследовании было выяснено, что от пика продаж до ухода с рынка платформе в среднем требуется около 3 лет, то еще пару лет игры, выпущенные на этих платформах могут показывать неплохие продажи.\n",
    "\n",
    "Построю диаграмму размаха значений глобальных продаж игр в разбивке по платформам."
   ]
  },
  {
   "cell_type": "code",
   "execution_count": 35,
   "id": "a680fa94",
   "metadata": {},
   "outputs": [
    {
     "data": {
      "image/png": "[encoded data removed]",
      "text/plain": [
       "<Figure size 720x360 with 1 Axes>"
      ]
     },
     "metadata": {
      "needs_background": "light"
     },
     "output_type": "display_data"
    }
   ],
   "source": [
    "(data_actual\n",
    " .query('platform in @platform_top')\n",
    " .boxplot(column='sum_sales', by='platform', figsize=(10,5))\n",
    ")\n",
    "plt.xlabel('Название платформы')\n",
    "plt.ylabel('Суммарные продажи в млн. копий')\n",
    "plt.title('Продажи игр популярных платформ в актуальном периоде')\n",
    "plt.ylim(0, 1.75);"
   ]
  },
  {
   "cell_type": "markdown",
   "id": "c60e0c19",
   "metadata": {},
   "source": [
    "Из полученных диаграмм размаха можно сделать следующие выводы:\n",
    "* по всем платформам медиана не превышает значения в 200тыс. проданных копий за период, т.е. хоть и ориентировочные границы нормального размаха по платформам разный, среднее значение суммарных продаж остается примерно на том же уровне;\n",
    "* видно, что медианы (зелёные линии) не стремятся к хвостам выбивающихся значений, это значит, что выбросы, находящиеся за пределами верхней границы нормального размаха - явление редкое, нечасто случается, что игра собрала суммарных продаж за период больше, чем обычно;\n",
    "* данные несимметричны и скошены вправо, что означает, что пользователи склонны покупать больше копий игр, чем рассчитанная медиана."
   ]
  },
  {
   "cell_type": "markdown",
   "id": "d1e9db26",
   "metadata": {},
   "source": [
    "### Анализ отзывов"
   ]
  },
  {
   "cell_type": "markdown",
   "id": "cc96e2f8",
   "metadata": {},
   "source": [
    "В данном разделе я буду анализировать, как влияют на продажи внутри одной популярной платформы отзывы пользователей и критиков. Для этого построю диаграммы рассеяния и посчитаю корреляцию между отзывами и продажами. \n",
    "\n",
    "Самой популярной платформой в актуальном периоде является `PS4`, для нее и буду рассчитывать коэффициенты:"
   ]
  },
  {
   "cell_type": "code",
   "execution_count": 36,
   "id": "ed759914",
   "metadata": {},
   "outputs": [
    {
     "name": "stdout",
     "output_type": "stream",
     "text": [
      "Коэффициенты корреляции между суммарными продажами игр платформы PS4 и:\n",
      "отзывами критиков - 0.4\n",
      "отзывами пользователей -  -0.04\n",
      "Коэффициенты корреляции между суммарными продажами игр платформы XOne и:\n",
      "отзывами критиков - 0.43\n",
      "отзывами пользователей -  -0.07\n"
     ]
    }
   ],
   "source": [
    "data_score = data_actual.query('critic_score != \"nan\" and user_score != \"nan\"')\n",
    "\n",
    "print('Коэффициенты корреляции между суммарными продажами игр платформы PS4 и:')\n",
    "print('отзывами критиков -', round(data_score.query('platform == \"PS4\"')['sum_sales'].corr(data_score.query('platform == \"PS4\"')['critic_score']), 2))\n",
    "print('отзывами пользователей - ', round(data_score.query('platform == \"PS4\"')['sum_sales'].corr(data_score.query('platform == \"PS4\"')['user_score']), 2))\n",
    "\n",
    "print('Коэффициенты корреляции между суммарными продажами игр платформы XOne и:')\n",
    "print('отзывами критиков -', round(data_score.query('platform == \"XOne\"')['sum_sales'].corr(data_score.query('platform == \"XOne\"')['critic_score']), 2))\n",
    "print('отзывами пользователей - ', round(data_score.query('platform == \"XOne\"')['sum_sales'].corr(data_score.query('platform == \"XOne\"')['user_score']), 2))"
   ]
  },
  {
   "cell_type": "code",
   "execution_count": 37,
   "id": "c86fbebd",
   "metadata": {},
   "outputs": [
    {
     "data": {
      "image/png": "[encoded data removed]",
      "text/plain": [
       "<Figure size 1080x432 with 2 Axes>"
      ]
     },
     "metadata": {
      "needs_background": "light"
     },
     "output_type": "display_data"
    }
   ],
   "source": [
    "fig, axes = plt.subplots(1,2,figsize=(15,6))\n",
    "data_score.query('platform == \"PS4\"').plot(x='critic_score', y='sum_sales', kind='scatter', grid=True, title='Влияние отзывов критиков на глобальные продажи PS4', alpha=0.7, ax=axes[0])\n",
    "data_score.query('platform == \"PS4\"').plot(x='user_score', y='sum_sales', kind='scatter', grid=True, title='Влияние отзывов пользователей на глобальные продажи PS4', alpha=0.7, ax=axes[1]);"
   ]
  },
  {
   "cell_type": "markdown",
   "id": "5089b551",
   "metadata": {},
   "source": [
    "Для остальных топовых платформ актуального периода `platform_top` также рассчитаю коэффициенты корреляции:"
   ]
  },
  {
   "cell_type": "code",
   "execution_count": 38,
   "id": "be17f1d4",
   "metadata": {},
   "outputs": [
    {
     "name": "stdout",
     "output_type": "stream",
     "text": [
      "Коэффициенты корреляции между суммарными продажами игр платформы PS4 и:\n",
      "отзывами критиков -  0.4\n",
      "отзывами пользователей -  -0.04\n",
      "\n",
      "Коэффициенты корреляции между суммарными продажами игр платформы XOne и:\n",
      "отзывами критиков -  0.43\n",
      "отзывами пользователей -  -0.07\n",
      "\n",
      "Коэффициенты корреляции между суммарными продажами игр платформы 3DS и:\n",
      "отзывами критиков -  0.31\n",
      "отзывами пользователей -  0.22\n",
      "\n",
      "Коэффициенты корреляции между суммарными продажами игр платформы PS3 и:\n",
      "отзывами критиков -  0.45\n",
      "отзывами пользователей -  -0.17\n",
      "\n",
      "Коэффициенты корреляции между суммарными продажами игр платформы X360 и:\n",
      "отзывами критиков -  0.53\n",
      "отзывами пользователей -  -0.14\n",
      "\n",
      "Коэффициенты корреляции между суммарными продажами игр платформы WiiU и:\n",
      "отзывами критиков -  0.37\n",
      "отзывами пользователей -  0.41\n",
      "\n",
      "Коэффициенты корреляции между суммарными продажами игр платформы PC и:\n",
      "отзывами критиков -  0.17\n",
      "отзывами пользователей -  -0.07\n",
      "\n",
      "Коэффициенты корреляции между суммарными продажами игр платформы PSV и:\n",
      "отзывами критиков -  0.04\n",
      "отзывами пользователей -  -0.17\n",
      "\n"
     ]
    }
   ],
   "source": [
    "def correlation(platform):\n",
    "    for element in platform:\n",
    "        print('Коэффициенты корреляции между суммарными продажами игр платформы', element, 'и:')\n",
    "        print('отзывами критиков - ', round(data_score[data_score['platform'] == element]['sum_sales'].corr(data_score[data_score['platform'] == element]['critic_score']), 2))\n",
    "        print('отзывами пользователей - ', round(data_score[data_score['platform'] == element]['sum_sales'].corr(data_score[data_score['platform'] == element]['user_score']), 2))\n",
    "        print()\n",
    "\n",
    "platform_top = ['PS4', 'XOne', '3DS', 'PS3', 'X360', 'WiiU', 'PC', 'PSV']\n",
    "\n",
    "correlation(platform_top)"
   ]
  },
  {
   "cell_type": "markdown",
   "id": "d62ec43c",
   "metadata": {},
   "source": [
    "Из полученных результатов можно сделать вывод о том, что отзывы пользователей практически не влияют на продажи компьютерных игр топовых платформ, разве что кроме платформы `WiiU`, для которой отзывы пользователей сильно повлияли на продажи в актуальном периоде.\n",
    "Также можно сказать, что мнение критиков достаточно сильно влияет на продажи компьютерных игр, особенно это заметно по платформе X360, коэффициент корреляции равен 0.53, однако для некоторых платформ, а именно, для `PC` и `PSV`, отзывы критиков никак не повлияли на глобальные продажи игр."
   ]
  },
  {
   "cell_type": "markdown",
   "id": "96d9ffbe",
   "metadata": {},
   "source": [
    "### Анализ жанров"
   ]
  },
  {
   "cell_type": "markdown",
   "id": "df382def",
   "metadata": {},
   "source": [
    "Построю распределение компьютерных игр по жанрам и завиимость суммарных продаж от жанров за весь исследуемый период."
   ]
  },
  {
   "cell_type": "code",
   "execution_count": 39,
   "id": "afe977ae",
   "metadata": {},
   "outputs": [
    {
     "data": {
      "image/png": "[encoded data removed]",
      "text/plain": [
       "<Figure size 1440x360 with 2 Axes>"
      ]
     },
     "metadata": {
      "needs_background": "light"
     },
     "output_type": "display_data"
    }
   ],
   "source": [
    "def grafics_genres(df):\n",
    "    fig, axes = plt.subplots(1,2,figsize=(15,6))\n",
    "    (df\n",
    "     .groupby('genre')['name'].count()\n",
    "     .sort_values(ascending=False)\n",
    "     .plot(kind=\"bar\", grid=True, figsize=(15,5), title='Распределение компьютерных игр по жанрам', ax=axes[0])\n",
    "    )\n",
    "    (df\n",
    "     .groupby('genre')['sum_sales'].sum()\n",
    "     .sort_values(ascending=True)\n",
    "     .plot(kind=\"barh\", fontsize=10, figsize=(20,5), title='Зависимость суммарных продаж от жанра игры', ax=axes[1])\n",
    "    );\n",
    "\n",
    "grafics_genres(data)"
   ]
  },
  {
   "cell_type": "markdown",
   "id": "9fef9c14",
   "metadata": {},
   "source": [
    "Теперь построю распределение компьютерных игр по жанрам и завиимость суммарных продаж от жанров за актуальный период."
   ]
  },
  {
   "cell_type": "code",
   "execution_count": 40,
   "id": "be0d1e80",
   "metadata": {},
   "outputs": [
    {
     "data": {
      "image/png": "[encoded data removed]",
      "text/plain": [
       "<Figure size 1440x360 with 2 Axes>"
      ]
     },
     "metadata": {
      "needs_background": "light"
     },
     "output_type": "display_data"
    }
   ],
   "source": [
    "grafics_genres(data_actual)"
   ]
  },
  {
   "cell_type": "markdown",
   "id": "aef52c5c",
   "metadata": {},
   "source": [
    "Самым популярным и прибыльным жанром как за весь исследуемый период, так и за актуальный период является `action`. В этом жанре выпускается больше всего компьютерных игр, а также этот жанр продается самым большим количеством копий во всем мире. На данный момент также популярны жанры `shooter` (в бо́льшей степени), а также жанры `sports` и `role-playing`, однако количество игр в этом жанре невысоко.\n",
    "Особенно непопулярными жанрами являются `puzzle` и `strategy`, игры в этих жанрах продаются меньше всего, но и игр в этих жанрах выпускается также меньше всего."
   ]
  },
  {
   "cell_type": "markdown",
   "id": "374eb3ad",
   "metadata": {},
   "source": [
    "### Анализ регионов"
   ]
  },
  {
   "cell_type": "markdown",
   "id": "b040671c",
   "metadata": {},
   "source": [
    "Определю для пользователей каждого региона cамые популярные платформы (топ-5) на текущий момент (для актуального периода):"
   ]
  },
  {
   "cell_type": "code",
   "execution_count": 41,
   "id": "3fd9a0b3",
   "metadata": {},
   "outputs": [
    {
     "name": "stdout",
     "output_type": "stream",
     "text": [
      "Топ 5 платформ для na_sales с указанием доли продаж в регионе:\n",
      "platform\n",
      "PS4     0.35\n",
      "XOne    0.29\n",
      "X360    0.10\n",
      "3DS     0.08\n",
      "PS3     0.08\n",
      "Name: na_sales, dtype: float64\n",
      "\n",
      "Топ 5 платформ для eu_sales с указанием доли продаж в регионе:\n",
      "platform\n",
      "PS4     0.48\n",
      "XOne    0.17\n",
      "PS3     0.09\n",
      "PC      0.07\n",
      "3DS     0.06\n",
      "Name: eu_sales, dtype: float64\n",
      "\n",
      "Топ 5 платформ для jp_sales с указанием доли продаж в регионе:\n",
      "platform\n",
      "3DS     0.48\n",
      "PS4     0.16\n",
      "PSV     0.16\n",
      "PS3     0.12\n",
      "WiiU    0.08\n",
      "Name: jp_sales, dtype: float64\n",
      "\n"
     ]
    }
   ],
   "source": [
    "regions = ['na_sales', 'eu_sales', 'jp_sales']\n",
    "for element in regions:\n",
    "    print('Топ 5 платформ для', element, 'с указанием доли продаж в регионе:')\n",
    "    print(round((data_actual.groupby('platform')[element].sum() / data_actual[element].sum()).sort_values(ascending=False).head(), 2))\n",
    "    print()"
   ]
  },
  {
   "cell_type": "markdown",
   "id": "3ced31ea",
   "metadata": {},
   "source": [
    "В Северной Америке и Европе две самые популярные платформы - это `PS4` (лидер продаж на данный момент) и `XOne`. В Европе на долю `PS4` приходится почти половина всех продаж компьютерных игр, в Северной Америке меньше - чуть более трети всех продаж. Что касается `XOne`, то на ее долю приходится 29% продаж, тогда как в Европе намного меньше - всего 17%. Остальные 3 платформы из топ-5 в Северной Америке - это `X360`, `3DS` и `PS3`, доля продаж примерно одинакова - около 10%. В Европе оставшиеся три платформы также примерно имеют равные доли продаж - это те же `3DS` и `PS3` и в отличие от Северной Америки, платформа `PC` с 7% продаж в Европе.\n",
    "\n",
    "Что касается Японии, то тут совершенно другая картина: почти половина продаж всех компьютерных игр в Японии приходится на платформу `3DS`, еще три платформы из топ-5 примерно поровну делят `PS4`, `PSV`, `PS3` (16 и 12%) и на долю закрывающего список `WiiU` приходится 8% от всех продаж компьютерных игр в Японии."
   ]
  },
  {
   "cell_type": "markdown",
   "id": "df4b563f",
   "metadata": {},
   "source": [
    "Определю для пользователей каждого региона cамые популярные жанры (топ-5):"
   ]
  },
  {
   "cell_type": "code",
   "execution_count": 42,
   "id": "1bceedd9",
   "metadata": {},
   "outputs": [
    {
     "name": "stdout",
     "output_type": "stream",
     "text": [
      "Топ 5 жанров для na_sales с указанием доли продаж в регионе:\n",
      "genre\n",
      "Shooter         0.28\n",
      "Action          0.26\n",
      "Sports          0.16\n",
      "Role-Playing    0.12\n",
      "Misc            0.05\n",
      "Name: na_sales, dtype: float64\n",
      "\n",
      "Топ 5 жанров для eu_sales с указанием доли продаж в регионе:\n",
      "genre\n",
      "Action          0.28\n",
      "Shooter         0.24\n",
      "Sports          0.17\n",
      "Role-Playing    0.10\n",
      "Racing          0.05\n",
      "Name: eu_sales, dtype: float64\n",
      "\n",
      "Топ 5 жанров для jp_sales с указанием доли продаж в регионе:\n",
      "genre\n",
      "Role-Playing    0.33\n",
      "Action          0.32\n",
      "Fighting        0.07\n",
      "Misc            0.06\n",
      "Shooter         0.05\n",
      "Name: jp_sales, dtype: float64\n",
      "\n"
     ]
    }
   ],
   "source": [
    "for element in regions:\n",
    "    print('Топ 5 жанров для', element, 'с указанием доли продаж в регионе:')\n",
    "    print(round((data_actual.groupby('genre')[element].sum() / data_actual[element].sum()).sort_values(ascending=False).head(), 2))\n",
    "    print()"
   ]
  },
  {
   "cell_type": "markdown",
   "id": "6648195b",
   "metadata": {},
   "source": [
    "Для всех трех рассматриваемых регионов популярным жанром является `Action`, в Европе он лидирует по продажам с 28% от всех продаж, а в Японии и Северной Америке - на втором месте с 32% и 26% соответственно. В Северной Америке жанр-лидер - `Shooter` с 28%, в Европе - на втором месте - с 24%, а в Японии жанр `Shooter` замыкает пятерку популярных жанров с 5% от всех продаж.\n",
    "\n",
    "В Северной Америке и Европе на 3 и 4 местах расположились жанры `Sports` и `Role-Playing` примерно с одинаковыми продажами от 17 до 10%, однако жанр `Role-Playing` - оказался самым популярным жанром в Японии, треть всех продаж приходится именно на этот жанр. Также японцы играют в игры `Fighting`, `Misc` и `Shooter` (7, 6 и 5% соответстсвенно).\n",
    "\n",
    "Последние места топ-5 в Северной Америке и Европе занимают жанры `Misc` и `Racing` соответственно с 5% от всех продаж в этих регионах."
   ]
  },
  {
   "cell_type": "markdown",
   "id": "441a982a",
   "metadata": {},
   "source": [
    "Теперь попробую выяснить, влияет ли рейтинг ESRB на продажи в отдельном регионе?"
   ]
  },
  {
   "cell_type": "code",
   "execution_count": 43,
   "id": "42a354af",
   "metadata": {},
   "outputs": [
    {
     "name": "stdout",
     "output_type": "stream",
     "text": [
      "Кол-во суммарных продаж в регионе игр определенного рейтинга для na_sales\n",
      "rating\n",
      "M             0.34\n",
      "rating_nan    0.23\n",
      "E             0.18\n",
      "T             0.14\n",
      "E10+          0.12\n",
      "Name: na_sales, dtype: float64\n",
      "\n",
      "Кол-во суммарных продаж в регионе игр определенного рейтинга для eu_sales\n",
      "rating\n",
      "M             0.35\n",
      "rating_nan    0.22\n",
      "E             0.21\n",
      "T             0.13\n",
      "E10+          0.10\n",
      "Name: eu_sales, dtype: float64\n",
      "\n",
      "Кол-во суммарных продаж в регионе игр определенного рейтинга для jp_sales\n",
      "rating\n",
      "rating_nan    0.61\n",
      "T             0.16\n",
      "E             0.10\n",
      "M             0.09\n",
      "E10+          0.05\n",
      "Name: jp_sales, dtype: float64\n",
      "\n"
     ]
    }
   ],
   "source": [
    "for element in regions:\n",
    "    print('Кол-во суммарных продаж в регионе игр определенного рейтинга для', element)\n",
    "    print(round((data_actual.groupby('rating')[element].sum() / data_actual[element].sum()).sort_values(ascending=False).head(), 2))\n",
    "    print()"
   ]
  },
  {
   "cell_type": "markdown",
   "id": "d176f607",
   "metadata": {},
   "source": [
    "Влияет ли рейтинг ESRB на продажи в отдельном регионе?\n",
    "Поясню, что значат аббревиатуры:\n",
    "* `E`     — («Everyone»)              — «Для всех»\n",
    "* `E10+`  — («Everyone 10 and older») — «Для всех старше 10 лет»\n",
    "* `T`     — («Teen»)                  — «Подросткам 13—19 лет»\n",
    "* `M`     — («Mature»)                — «От 17 лет»"
   ]
  },
  {
   "cell_type": "code",
   "execution_count": 44,
   "id": "1847ddd3",
   "metadata": {},
   "outputs": [
    {
     "data": {
      "image/png": "[encoded data removed]",
      "text/plain": [
       "<Figure size 1080x432 with 3 Axes>"
      ]
     },
     "metadata": {
      "needs_background": "light"
     },
     "output_type": "display_data"
    }
   ],
   "source": [
    "fig, axes = plt.subplots(1,3,figsize=(10,6))\n",
    "(data_actual.groupby('rating')['na_sales'].sum() / data_actual['na_sales'].sum()).sort_values(ascending=False).head().plot(kind='bar', figsize=(15,6), ax=axes[0])\n",
    "(data_actual.groupby('rating')['eu_sales'].sum() / data_actual['eu_sales'].sum()).sort_values(ascending=False).head().plot(kind='bar', figsize=(15,6), ax=axes[1])\n",
    "(data_actual.groupby('rating')['jp_sales'].sum() / data_actual['jp_sales'].sum()).sort_values(ascending=False).head().plot(kind='bar', figsize=(15,6), ax=axes[2]);"
   ]
  },
  {
   "cell_type": "markdown",
   "id": "76bee99a",
   "metadata": {},
   "source": [
    "На основании построенных диаграмм можно сказать следующее, в Северной Америке и Европе компьютерные игры с рейтингом ESRB `M`, т.е. для пользователей от 17 лет, продаются почти вдвое чаще остальных.\n",
    "\n",
    "А в Японии, по-видимому, своя система рейтингов, т.к. почти в 60% игр рейтинг ESRB не определен, а там, где рейтинг определен, распределение игр примерно равномерно, поэтому можно сделать вывод о том, что именно в Японии система рейтинга ESRB не влияет на продажи компьютерных игр."
   ]
  },
  {
   "cell_type": "markdown",
   "id": "be163199",
   "metadata": {},
   "source": [
    "### Выводы по разделу"
   ]
  },
  {
   "cell_type": "markdown",
   "id": "edb9e20f",
   "metadata": {},
   "source": [
    "В данном разделе проведен исследовательский анализ данных и сделаны следующие выводы:\n",
    "* в выборке присутствуют данные с датой релиза с 1980 по 2016 года,\n",
    "* с 1990 по 2010 года наблюдалась тенденция к росту выпускаемых игр, однако после 2010 кол-во релизов пошло на спад,\n",
    "* большинство компьютерных игр выпущено в период с 2003 по 2010 год,\n",
    "* пик приходится на 2008 и 2009 года, в которые было выпущено 1427 и 1426 игр соответственно,\n",
    "* ориентировочная нижняя граница нормального размаха - 1993 год, все данные, что раньше 1993 рисуются отдельными точками, их можно считать выбросами - их немного и они не важны для исследований.\n",
    "\n",
    "\n",
    "* характерный срок появления новых и ухода старых платформ составляет около 3 лет. Т.е. в среднем в течение 3 лет платформа набирает обороты, достигает пика популярности, выпускает максимум продаваемых игр и далее в течение 3 лет теряет популярность и постепенно уходит с рынка;\n",
    "* по всем исследуемым платформам за последний год актуального периода наблюдается спад продаж, однако можно предположить, что лидеры рынка на данный момент, а именно, платформы PS4 и XOne потенциально перспективны на будущий год и могут принести хорошие продажи. До 2015 года наблюдался рост по этим двум платформам, а пик продаж пришелся как раз на 2015 год, поэтому еще пару лет игры, выпущенные на этих платформах могут показывать неплохие продажи.\n",
    "\n",
    "\n",
    "* отзывы пользователей практически не влияют на продажи компьютерных игр топовых платформ, разве что кроме платформы WiiU, для которой отзывы пользователей сильно повлияли на продажи в актуальном периоде.\n",
    "* мнение критиков достаточно сильно влияет на продажи компьютерных игр, особенно отзывы критиков повлияли на игры платформе X360, однако для некоторых платформ, а именно, для PC и PSV, отзывы критиков никак не повлияли на глобальные продажи игр.\n",
    "\n",
    "\n",
    "* самым популярным и прибыльным жанром как за весь исследуемый период, так и за актуальный период является action. В этом жанре выпускается больше всего компьютерных игр, а также этот жанр продается самым большим количеством копий во всем мире.\n",
    "* на данный момент также популярны жанры shooter (в бо́льшей степени), а также жанры sports и role-playing, однако количество игр в этом жанре невысоко.\n",
    "* особенно непопулярными жанрами являются puzzle и strategy, игры в этих жанрах продаются меньше всего, но и игр в этих жанрах выпускается также меньше всего.\n",
    "\n",
    "* в Северной Америке и Европе две самые популярные платформы - это PS4 (лидер продаж на данный момент) и XOne. В Европе на долю PS4 приходится почти половина всех продаж компьютерных игр, в Северной Америке меньше - чуть более трети всех продаж. Что касается XOne, то на ее долю приходится 29% продаж, тогда как в Европе намного меньше - всего 17%. Остальные 3 платформы из топ-5 в Северной Америке - это X360, 3DS и PS3, доля продаж примерно одинакова - около 10%. В Европе оставшиеся три платформы также примерно имеют равные доли продаж - это те же 3DS и PS3 и в отличие от Северной Америки, платформа PC с 7% продаж в Европе.\n",
    "* в Японии почти половина продаж всех компьютерных игр в данном регионе приходится на платформу 3DS, еще три платформы из топ-5 примерно поровну делят PS4, PSV, PS3 (16 и 12%) и на долю закрывающего список WiiU приходится 8% от всех продаж компьютерных игр в Японии.\n",
    "\n",
    "* в Северной Америке, Европе и Японии - для всех трех рассматриваемых регионов популярным жанром является Action, в Европе он лидирует по продажам с 28% от всех продаж, а в Японии и Северной Америке - на втором месте с 32% и 26% соответственно. В Северной Америке жанр-лидер - Shooter с 28%, в Европе - на втором месте - с 24%, а в Японии жанр Shooter замыкает пятерку популярных жанров с 5% от всех продаж.\n",
    "* в северной Америке и Европе на 3 и 4 местах расположились жанры Sports и Role-Playing примерно с одинаковыми продажами от 17 до 10%, однако жанр Role-Playing - оказался самым популярным жанром в Японии, треть всех продаж приходится именно на этот жанр. Также японцы играют в игры Fighting, Misc и Shooter (7, 6 и 5% соответстсвенно).\n",
    "* последние места топ-5 в Северной Америке и Европе занимают жанры Misc и Racing соответственно с 5% от всех продаж в этих регионах.\n",
    "\n",
    "* в Северной Америке и Европе компьютерные игры с рейтингом ESRB M, т.е. для пользователей от 17 лет, продаются почти вдвое чаще остальных.\n",
    "* в Японии, по-видимому, существует своя система рейтингов, т.к. почти в 60% игр рейтинг ESRB не определен, а там, где рейтинг определен, распределение игр примерно равномерно, поэтому можно сделать вывод о том, что именно в Японии система рейтинга ESRB не влияет на продажи компьютерных игр."
   ]
  },
  {
   "cell_type": "markdown",
   "id": "f906fc3e",
   "metadata": {},
   "source": [
    "## Проверка гипотез"
   ]
  },
  {
   "cell_type": "markdown",
   "id": "a9e08061",
   "metadata": {},
   "source": [
    "В данном разделе буду проверять 2 гипотезы:\n",
    "    \n",
    "    Гипотеза 1 - Средние пользовательские рейтинги платформ Xbox One и PC одинаковые.\n",
    "    Гипотеза 2 - Средние пользовательские рейтинги жанров Action и Sports разные.\n",
    "    \n",
    "Для проверки обеих гипотез необходимо, чтобы отсутствовали пропуски в целевых столбцах, а именно, в `platform`, `genre` и `user_score`. Проверю, так ли:"
   ]
  },
  {
   "cell_type": "code",
   "execution_count": 66,
   "id": "80abf1a2",
   "metadata": {},
   "outputs": [
    {
     "name": "stdout",
     "output_type": "stream",
     "text": [
      "user_score    801\n",
      "platform        0\n",
      "genre           0\n",
      "dtype: int64\n"
     ]
    }
   ],
   "source": [
    "print(data_actual[['user_score', 'platform', 'genre']].isna().sum())"
   ]
  },
  {
   "cell_type": "markdown",
   "id": "372e485c",
   "metadata": {},
   "source": [
    "На этапе предобработки данных пропуски в столбце `user_score` заполнены не были, т.к. заполнение по любому принципу могло бы исказить результаты статистических тестов. Я исключу все строки с пропусками для проведения проверки гипотез:"
   ]
  },
  {
   "cell_type": "code",
   "execution_count": 65,
   "id": "c84a7137",
   "metadata": {},
   "outputs": [
    {
     "name": "stdout",
     "output_type": "stream",
     "text": [
      "user_score    0\n",
      "platform      0\n",
      "genre         0\n",
      "dtype: int64\n"
     ]
    }
   ],
   "source": [
    "data_scores = data_actual[~data_actual['user_score'].isna()]\n",
    "# Проверка\n",
    "print(data_scores[['user_score', 'platform', 'genre']].isna().sum())"
   ]
  },
  {
   "cell_type": "markdown",
   "id": "6b4ce6dd",
   "metadata": {},
   "source": [
    "Посчитаю размер выборкок, с которыми мне предстоит работать, чтобы корректно выбрать критический уровень статистической значимости для проведения теста."
   ]
  },
  {
   "cell_type": "code",
   "execution_count": 67,
   "id": "e026c20d",
   "metadata": {},
   "outputs": [
    {
     "name": "stdout",
     "output_type": "stream",
     "text": [
      "Размер рассматриваемой таблицы - 888 строк.\n",
      "Объем выборок:\n",
      "Платформа PC - 122\n",
      "Платформа Xbox One - 165\n",
      "Жанр Action - 297\n",
      "Жанр Sports - 127\n"
     ]
    }
   ],
   "source": [
    "print('Размер рассматриваемой таблицы -', len(data_scores), 'строк.')\n",
    "print('Объем выборок:')\n",
    "print('Платформа PC -', len(data_scores.query('platform == \"PC\"')))\n",
    "print('Платформа Xbox One -', len(data_scores.query('platform == \"XOne\"')))\n",
    "print('Жанр Action -', len(data_scores.query('genre == \"Action\"')))\n",
    "print('Жанр Sports -', len(data_scores.query('genre == \"Sports\"')))"
   ]
  },
  {
   "cell_type": "markdown",
   "id": "7ff5248a",
   "metadata": {},
   "source": [
    "### Проверка гипотезы №1"
   ]
  },
  {
   "cell_type": "markdown",
   "id": "c3c84d9b",
   "metadata": {},
   "source": [
    "Буду проверять, одинаковы ли средние пользовательские рейтинги платформ Xbox One и PC. Исходя из того, что нулевая гипотеза всегда строится для условия равенства, а альтернативная - это утверждение, которое принимается верным, если отбрасывается нулевая гипотеза,\n",
    "\n",
    "сформулирую \n",
    "\n",
    "    нулевую гипотезу H₀: Пользовательские рейтинги платформ Xbox One и PC одинаковы.\n",
    "    альтернативную гипотезу H₁: Пользовательские рейтинги платформ Xbox One и PC различаются.\n",
    "\n",
    "выберу критический уровень статистической значимости, исходя из следующей рекомендации: если объем выборки небольшой до 100 единиц, то можно вполне отвергнуть нулевую гипотезу при уровне значимости 0,05 или даже 0,1. При объеме выборки, измеряемой сотнями – от 100 до 1000, следует понизить уровень значимости хотя бы до 0,01. А при больших выборках, измеряемых тысячами наблюдений, уверенно отвергать нулевую гипотезу можно только при значимости меньшей 0,001. Выбираю критический уровень статистической значимости равным 0.01.\n",
    "\n",
    "Для проверки гипотезы я буду использовать t-тест, т.к. рассматриваемые генеральные совокупности не зависят друг от друга и размер выборки достаточно велик (770 и 182 записи) и выборочные средние, которые можно получить из одной и той же генеральной совокупности, будут распределены нормально вокруг истинного среднего этой совокупности даже если сама генеральная совокупность не распределена нормально."
   ]
  },
  {
   "cell_type": "code",
   "execution_count": 68,
   "id": "c217e79c",
   "metadata": {},
   "outputs": [
    {
     "name": "stdout",
     "output_type": "stream",
     "text": [
      "p-значение:  0.10450507919348415\n",
      "Не получилось отвергнуть нулевую гипотезу\n"
     ]
    }
   ],
   "source": [
    "sample_1 = data_scores.query('platform == \"PC\"')['user_score']\n",
    "sample_2 = data_scores.query('platform == \"XOne\"')['user_score']\n",
    "\n",
    "alpha = 0.01 # критический уровень статистической значимости\n",
    "# если p-value окажется меньше него - можно будет отвегнуть гипотезу\n",
    "\n",
    "results = st.ttest_ind(\n",
    "    sample_1, \n",
    "    sample_2)\n",
    "\n",
    "print('p-значение: ', results.pvalue)\n",
    "\n",
    "if results.pvalue < alpha:\n",
    "    print(\"Отвергаю нулевую гипотезу\")\n",
    "else:\n",
    "    print(\"Не получилось отвергнуть нулевую гипотезу\") "
   ]
  },
  {
   "cell_type": "markdown",
   "id": "c0842050",
   "metadata": {},
   "source": [
    "Я не использовала дополнительный параметр `equal_var = False`, потому что выборки достаточно большие, к тому же в обеих измерена одна и та же переменная — нет оснований полагать, что разброс будет сильно отличаться.\n",
    "\n",
    "Нулевая гипотеза не отвергается в пользу альтернативной - противоположной гипотезы. Делаю вывод, что средние пользовательские рейтинги платформ Xbox One и PC одинаковы."
   ]
  },
  {
   "cell_type": "markdown",
   "id": "19605e4c",
   "metadata": {},
   "source": [
    "### Проверка гипотезы №2"
   ]
  },
  {
   "cell_type": "markdown",
   "id": "8d6e0800",
   "metadata": {},
   "source": [
    "Буду проверять, различны ли средние пользовательские рейтинги жанров Action и Sports. \n",
    "\n",
    "Формулирую \n",
    "\n",
    "    нулевую гипотезу H₀: Пользовательские рейтинги жанров Action и Sports одинаковы.\n",
    "    альтернативную гипотезу H₁: Пользовательские рейтинги жанров Action и Sports различаются.\n",
    "\n",
    "Выбираю критический уровень статистической значимости равным 0.01.\n",
    "\n",
    "Как и в случае гипотезы №1, для проверки гипотезы №2 я буду использовать t-тест."
   ]
  },
  {
   "cell_type": "code",
   "execution_count": 69,
   "id": "483aba2f",
   "metadata": {},
   "outputs": [
    {
     "name": "stdout",
     "output_type": "stream",
     "text": [
      "p-значение:  2.8711147985105864e-19\n",
      "Отвергаю нулевую гипотезу\n"
     ]
    }
   ],
   "source": [
    "sample_3 = data_scores.query('genre == \"Action\"')['user_score']\n",
    "sample_4 = data_scores.query('genre == \"Sports\"')['user_score']\n",
    "\n",
    "alpha = 0.01 # критический уровень статистической значимости\n",
    "# если p-value окажется меньше него - можно будет отвегнуть гипотезу\n",
    "\n",
    "results = st.ttest_ind(\n",
    "    sample_3, \n",
    "    sample_4)\n",
    "\n",
    "print('p-значение: ', results.pvalue)\n",
    "\n",
    "if results.pvalue < alpha:\n",
    "    print(\"Отвергаю нулевую гипотезу\")\n",
    "else:\n",
    "    print(\"Не получилось отвергнуть нулевую гипотезу\") "
   ]
  },
  {
   "cell_type": "markdown",
   "id": "163817c4",
   "metadata": {},
   "source": [
    "Нулевая гипотеза отвергается в пользу альтернативной - противоположной гипотезы. Делаю вывод, что средние пользовательские рейтинги жанров Action и Sports различны."
   ]
  },
  {
   "cell_type": "markdown",
   "id": "64110fb5",
   "metadata": {},
   "source": [
    "### Вывод по разделу"
   ]
  },
  {
   "cell_type": "markdown",
   "id": "64760b89",
   "metadata": {},
   "source": [
    "По результатам статистических тестов сделаны следующие выводы:\n",
    "   * средние пользовательские рейтинги платформ Xbox One и PC одинаковы;\n",
    "   * средние пользовательские рейтинги жанров Action и Sports различаются."
   ]
  },
  {
   "cell_type": "markdown",
   "id": "b9584e72",
   "metadata": {},
   "source": [
    "## Общий вывод"
   ]
  },
  {
   "cell_type": "markdown",
   "id": "c77e880f",
   "metadata": {},
   "source": [
    "Получены данные о продажах компьютерных игр, оценки пользователей и экспертов, жанры и платформы с 1980 по 2016 год. В результате предварительного анализа обнаружены некоторые ошибки и недочеты в данных, а именно, нарушение стиля названий столбцов, пропуски в данных, нарушение логики в типах данных.\n",
    "\n",
    "Данные прошли полную предобработку, в результате чего все вышеуказанные ошибки были устранены, кроме заполнения пропусков в столбцах рейтингов, т.к. заполнение этих пропущенных значений по любому принципу исказит результаты статистических тестов.\n",
    "\n",
    "Проведен исследовательский анализ данных с целью выявления закономерностей, определяющих успешность компьютерной игры, для того, чтобы сделать ставку на потенциально популярный продукт и спланировать рекламные кампании. Сделаны следующие выводы:\n",
    "* лидеры рынка на данный момент, а именно, платформы PS4 и XOne потенциально перспективны на ближайшие 2 года и могут принести хорошие продажи;\n",
    "* отзывы пользователей практически не влияют на продажи компьютерных игр;\n",
    "* мнение критиков достаточно сильно влияет на продажи компьютерных игр;\n",
    "* самым популярным и прибыльным жанром для Северной Америки, Европы и Японии является жанр Action. В этом жанре выпускается больше всего компьютерных игр, а также этот жанр продается самым большим количеством копий во всем мире;\n",
    "* жанр Shooter также весьма популерен в Северной Америке и Европе, а в Японии продажи стрелялок составляют только 5% от всех продаж.\n",
    "* средние пользовательские рейтинги жанров Action и Sports различны;\n",
    "* жанр Role-Playing - самый популярный жанр компьтерной игры в Японии;\n",
    "* особенно непопулярными жанрами являются puzzle и strategy, игры в этих жанрах продаются меньше всего;\n",
    "* в Северной Америке и Европе две самые популярные платформы - это PS4 (лидер продаж на данный момент) и XOne. Что касается XOne, то на ее долю приходится 29% продаж, тогда как в Европе намного меньше - всего 17%. Остальные 3 платформы из топ-5 в Северной Америке - это X360, 3DS и PS3. В Европе оставшиеся три платформы также примерно имеют равные доли продаж - это те же 3DS и PS3 и в отличие от Северной Америки, платформа PC.\n",
    "* в Японии почти половина продаж всех компьютерных игр в данном регионе приходится на платформу 3DS, еще три платформы из топ-5 примерно поровну делят PS4, PSV, PS3 и замыкает список платформа WiiU.\n",
    "* в Северной Америке и Европе компьютерные игры с рейтингом ESRB M, т.е. для пользователей от 17 лет, продаются почти вдвое чаще остальных, для японских пользователей рейтинг ESRB не влияет на продажи;\n",
    "* средние пользовательские рейтинги платформ Xbox One и PC одинаковы."
   ]
  }
 ],
 "metadata": {
  "kernelspec": {
   "display_name": "Python 3 (ipykernel)",
   "language": "python",
   "name": "python3"
  },
  "language_info": {
   "codemirror_mode": {
    "name": "ipython",
    "version": 3
   },
   "file_extension": ".py",
   "mimetype": "text/x-python",
   "name": "python",
   "nbconvert_exporter": "python",
   "pygments_lexer": "ipython3",
   "version": "3.9.7"
  },
  "toc": {
   "base_numbering": 1,
   "nav_menu": {},
   "number_sections": true,
   "sideBar": true,
   "skip_h1_title": true,
   "title_cell": "Table of Contents",
   "title_sidebar": "Contents",
   "toc_cell": false,
   "toc_position": {},
   "toc_section_display": true,
   "toc_window_display": true
  }
 },
 "nbformat": 4,
 "nbformat_minor": 5
}
