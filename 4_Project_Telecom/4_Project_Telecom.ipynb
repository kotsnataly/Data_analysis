{
 "cells": [
  {
   "cell_type": "markdown",
   "metadata": {},
   "source": [
    "# Определение перспективного тарифа для телеком-компании"
   ]
  },
  {
   "cell_type": "markdown",
   "metadata": {},
   "source": [
    "## Описание работы"
   ]
  },
  {
   "cell_type": "markdown",
   "metadata": {},
   "source": [
    "Я - аналитик компании «Мегалайн» — федерального оператора сотовой связи. Клиентам предлагают два тарифных плана: «Смарт» и «Ультра». Чтобы скорректировать рекламный бюджет, коммерческий департамент хочет понять, какой тариф приносит больше денег.\n",
    "Мне предстоит сделать предварительный анализ тарифов на небольшой выборке клиентов. В моем распоряжении данные 500 пользователей «Мегалайна»: кто они, откуда, каким тарифом пользуются, сколько звонков и сообщений каждый отправил за 2018 год. Нужно проанализировать поведение клиентов и сделать вывод — какой тариф лучше."
   ]
  },
  {
   "cell_type": "markdown",
   "metadata": {},
   "source": [
    "### Исходные данные"
   ]
  },
  {
   "cell_type": "markdown",
   "metadata": {},
   "source": [
    "Описание тарифов\n",
    "Тариф «Смарт»\n",
    "\n",
    "    Ежемесячная плата: 550 рублей\n",
    "    Включено 500 минут разговора, 50 сообщений и 15 Гб интернет-трафика\n",
    "    Стоимость услуг сверх тарифного пакета: 1. минута разговора: 3 рубля («Мегалайн» всегда округляет вверх значения минут и мегабайтов. Если пользователь проговорил всего 1 секунду, в тарифе засчитывается целая минута); 2. сообщение: 3 рубля; 3. 1 Гб интернет-трафика: 200 рублей.\n",
    "\n",
    "Тариф «Ультра»\n",
    "\n",
    "    Ежемесячная плата: 1950 рублей\n",
    "    Включено 3000 минут разговора, 1000 сообщений и 30 Гб интернет-трафика\n",
    "    Стоимость услуг сверх тарифного пакета: 1. минута разговора: 1 рубль; 2. сообщение: 1 рубль; 3. 1 Гб интернет-трафика: 150 рублей.\n",
    "\n",
    "*Примечание*\n",
    "    \n",
    "    «Мегалайн» всегда округляет секунды до минут, а мегабайты — до гигабайт. Каждый звонок округляется отдельно: даже если он длился всего 1 секунду, будет засчитан как 1 минута.\n",
    "    Для веб-трафика отдельные сессии не считаются. Вместо этого общая сумма за месяц округляется в бо́льшую сторону. Если абонент использует 1025 мегабайт в этом месяце, с него возьмут плату за 2 гигабайта."
   ]
  },
  {
   "cell_type": "markdown",
   "metadata": {},
   "source": [
    "### План выполнения"
   ]
  },
  {
   "cell_type": "markdown",
   "metadata": {},
   "source": [
    "Шаг 1. Открытие и изучение файлов исходных данных\n",
    "\n",
    "Шаг 2. Подготовка данных\n",
    "\n",
    "Шаг 3. Анализ данных\n",
    "\n",
    "Шаг 4. Проверка гипотез\n",
    "\n",
    "Шаг 5. Формулирование вывода"
   ]
  },
  {
   "cell_type": "markdown",
   "metadata": {},
   "source": [
    "## Открытие и изучение файлов исходных данных"
   ]
  },
  {
   "cell_type": "markdown",
   "metadata": {},
   "source": [
    "Мой основной инструмент — `pandas`. Я подключаю эту библиотеку. Также подключаю библиотеки `re`, `numpy`, `matplotlib`, `stats` и `warnings` - они понадобятся для моих исследований.\n",
    "\n",
    "Дополнительно отключу предупреждения."
   ]
  },
  {
   "cell_type": "code",
   "execution_count": 1,
   "metadata": {},
   "outputs": [],
   "source": [
    "import pandas as pd                # импорт библиотеки pandas\n",
    "#pd.set_option('display.float_format', '{:,.1f}'.format) # округление данных из таблицы describe()\n",
    "\n",
    "import re                          # импорт библиотеки регулярных выражений re\n",
    "import numpy as np                 # импорт библиотеки numpy\n",
    "import matplotlib.pyplot as plt    # импорт библиотеки matplotlib\n",
    "import warnings as wg              # импорт библиотеки warnings\n",
    "wg.filterwarnings('ignore')\n",
    "from scipy import stats as st"
   ]
  },
  {
   "cell_type": "markdown",
   "metadata": {},
   "source": [
    "Далее осуществляю чтение файлов и сохраняю его в переменных. Вывожу на экран по первые пять строк таблиц."
   ]
  },
  {
   "cell_type": "code",
   "execution_count": 2,
   "metadata": {},
   "outputs": [],
   "source": [
    "# чтение файлов с данными в зависимости от их расположения\n",
    "try:\n",
    "    calls = pd.read_csv('C:/Users/datasets/calls.csv') # локальный путь\n",
    "    internet = pd.read_csv('C:/Users/datasets/internet.csv')\n",
    "    messages = pd.read_csv('C:/Users/datasets/messages.csv')\n",
    "    tariffs = pd.read_csv('C:/Users/datasets/tariffs.csv')\n",
    "    users = pd.read_csv('C:/Users/datasets/users.csv') \n",
    "except:\n",
    "    calls = pd.read_csv('/datasets/calls.csv')         # серверный путь\n",
    "    internet = pd.read_csv('/datasets/internet.csv')\n",
    "    messages = pd.read_csv('/datasets/messages.csv')\n",
    "    tariffs = pd.read_csv('/datasets/tariffs.csv')\n",
    "    users = pd.read_csv('/datasets/users.csv')\n",
    "\n",
    "calls.name = 'calls'  \n",
    "internet.name = 'internet' \n",
    "messages.name = 'messages' \n",
    "tariffs.name = 'tariffs' \n",
    "users.name = 'users' "
   ]
  },
  {
   "cell_type": "markdown",
   "metadata": {},
   "source": [
    "Получу общую информацию о таблицах, с которыми мне предстоит работать:\n",
    "- общую информацию по столбцам;\n",
    "- предварительную статистическую информации о количественных данных (использую метод `describe()` из библиотеки регулярных выражений `re` для переменных типа `float` и `int`. Он поможет сразу увидеть некоторые проблемы в данных).\n",
    "    Для числовых переменных я оценю среднее, минимальное и максимальное значения, чтобы установить, в каком диапазоне лежат данные. Процентиль на предварительном этапе оцениватьне не буду.\n",
    "- предварительную статистическую информации о категориальных переменных (`bool` и `object`) также методом `describe()`."
   ]
  },
  {
   "cell_type": "code",
   "execution_count": 3,
   "metadata": {},
   "outputs": [
    {
     "name": "stdout",
     "output_type": "stream",
     "text": [
      "ТАБЛИЦА calls\n"
     ]
    },
    {
     "data": {
      "text/html": [
       "<div>\n",
       "<style scoped>\n",
       "    .dataframe tbody tr th:only-of-type {\n",
       "        vertical-align: middle;\n",
       "    }\n",
       "\n",
       "    .dataframe tbody tr th {\n",
       "        vertical-align: top;\n",
       "    }\n",
       "\n",
       "    .dataframe thead th {\n",
       "        text-align: right;\n",
       "    }\n",
       "</style>\n",
       "<table border=\"1\" class=\"dataframe\">\n",
       "  <thead>\n",
       "    <tr style=\"text-align: right;\">\n",
       "      <th></th>\n",
       "      <th>id</th>\n",
       "      <th>call_date</th>\n",
       "      <th>duration</th>\n",
       "      <th>user_id</th>\n",
       "    </tr>\n",
       "  </thead>\n",
       "  <tbody>\n",
       "    <tr>\n",
       "      <td>0</td>\n",
       "      <td>1000_0</td>\n",
       "      <td>2018-07-25</td>\n",
       "      <td>0.00</td>\n",
       "      <td>1000</td>\n",
       "    </tr>\n",
       "    <tr>\n",
       "      <td>1</td>\n",
       "      <td>1000_1</td>\n",
       "      <td>2018-08-17</td>\n",
       "      <td>0.00</td>\n",
       "      <td>1000</td>\n",
       "    </tr>\n",
       "    <tr>\n",
       "      <td>2</td>\n",
       "      <td>1000_2</td>\n",
       "      <td>2018-06-11</td>\n",
       "      <td>2.85</td>\n",
       "      <td>1000</td>\n",
       "    </tr>\n",
       "    <tr>\n",
       "      <td>3</td>\n",
       "      <td>1000_3</td>\n",
       "      <td>2018-09-21</td>\n",
       "      <td>13.80</td>\n",
       "      <td>1000</td>\n",
       "    </tr>\n",
       "    <tr>\n",
       "      <td>4</td>\n",
       "      <td>1000_4</td>\n",
       "      <td>2018-12-15</td>\n",
       "      <td>5.18</td>\n",
       "      <td>1000</td>\n",
       "    </tr>\n",
       "  </tbody>\n",
       "</table>\n",
       "</div>"
      ],
      "text/plain": [
       "       id   call_date  duration  user_id\n",
       "0  1000_0  2018-07-25      0.00     1000\n",
       "1  1000_1  2018-08-17      0.00     1000\n",
       "2  1000_2  2018-06-11      2.85     1000\n",
       "3  1000_3  2018-09-21     13.80     1000\n",
       "4  1000_4  2018-12-15      5.18     1000"
      ]
     },
     "metadata": {},
     "output_type": "display_data"
    },
    {
     "name": "stdout",
     "output_type": "stream",
     "text": [
      "<class 'pandas.core.frame.DataFrame'>\n",
      "RangeIndex: 202607 entries, 0 to 202606\n",
      "Data columns (total 4 columns):\n",
      "id           202607 non-null object\n",
      "call_date    202607 non-null object\n",
      "duration     202607 non-null float64\n",
      "user_id      202607 non-null int64\n",
      "dtypes: float64(1), int64(1), object(2)\n",
      "memory usage: 6.2+ MB\n",
      "None\n"
     ]
    },
    {
     "data": {
      "text/html": [
       "<div>\n",
       "<style scoped>\n",
       "    .dataframe tbody tr th:only-of-type {\n",
       "        vertical-align: middle;\n",
       "    }\n",
       "\n",
       "    .dataframe tbody tr th {\n",
       "        vertical-align: top;\n",
       "    }\n",
       "\n",
       "    .dataframe thead th {\n",
       "        text-align: right;\n",
       "    }\n",
       "</style>\n",
       "<table border=\"1\" class=\"dataframe\">\n",
       "  <thead>\n",
       "    <tr style=\"text-align: right;\">\n",
       "      <th></th>\n",
       "      <th>duration</th>\n",
       "      <th>user_id</th>\n",
       "    </tr>\n",
       "  </thead>\n",
       "  <tbody>\n",
       "    <tr>\n",
       "      <td>count</td>\n",
       "      <td>202607.0</td>\n",
       "      <td>202607.0</td>\n",
       "    </tr>\n",
       "    <tr>\n",
       "      <td>mean</td>\n",
       "      <td>7.0</td>\n",
       "      <td>1254.0</td>\n",
       "    </tr>\n",
       "    <tr>\n",
       "      <td>std</td>\n",
       "      <td>6.0</td>\n",
       "      <td>145.0</td>\n",
       "    </tr>\n",
       "    <tr>\n",
       "      <td>min</td>\n",
       "      <td>0.0</td>\n",
       "      <td>1000.0</td>\n",
       "    </tr>\n",
       "    <tr>\n",
       "      <td>50%</td>\n",
       "      <td>6.0</td>\n",
       "      <td>1260.0</td>\n",
       "    </tr>\n",
       "    <tr>\n",
       "      <td>max</td>\n",
       "      <td>38.0</td>\n",
       "      <td>1499.0</td>\n",
       "    </tr>\n",
       "  </tbody>\n",
       "</table>\n",
       "</div>"
      ],
      "text/plain": [
       "       duration   user_id\n",
       "count  202607.0  202607.0\n",
       "mean        7.0    1254.0\n",
       "std         6.0     145.0\n",
       "min         0.0    1000.0\n",
       "50%         6.0    1260.0\n",
       "max        38.0    1499.0"
      ]
     },
     "metadata": {},
     "output_type": "display_data"
    },
    {
     "data": {
      "text/html": [
       "<div>\n",
       "<style scoped>\n",
       "    .dataframe tbody tr th:only-of-type {\n",
       "        vertical-align: middle;\n",
       "    }\n",
       "\n",
       "    .dataframe tbody tr th {\n",
       "        vertical-align: top;\n",
       "    }\n",
       "\n",
       "    .dataframe thead th {\n",
       "        text-align: right;\n",
       "    }\n",
       "</style>\n",
       "<table border=\"1\" class=\"dataframe\">\n",
       "  <thead>\n",
       "    <tr style=\"text-align: right;\">\n",
       "      <th></th>\n",
       "      <th>id</th>\n",
       "      <th>call_date</th>\n",
       "    </tr>\n",
       "  </thead>\n",
       "  <tbody>\n",
       "    <tr>\n",
       "      <td>count</td>\n",
       "      <td>202607</td>\n",
       "      <td>202607</td>\n",
       "    </tr>\n",
       "    <tr>\n",
       "      <td>unique</td>\n",
       "      <td>202607</td>\n",
       "      <td>365</td>\n",
       "    </tr>\n",
       "    <tr>\n",
       "      <td>top</td>\n",
       "      <td>1313_196</td>\n",
       "      <td>2018-12-31</td>\n",
       "    </tr>\n",
       "    <tr>\n",
       "      <td>freq</td>\n",
       "      <td>1</td>\n",
       "      <td>1435</td>\n",
       "    </tr>\n",
       "  </tbody>\n",
       "</table>\n",
       "</div>"
      ],
      "text/plain": [
       "              id   call_date\n",
       "count     202607      202607\n",
       "unique    202607         365\n",
       "top     1313_196  2018-12-31\n",
       "freq           1        1435"
      ]
     },
     "metadata": {},
     "output_type": "display_data"
    },
    {
     "name": "stdout",
     "output_type": "stream",
     "text": [
      "\n",
      "ТАБЛИЦА internet\n"
     ]
    },
    {
     "data": {
      "text/html": [
       "<div>\n",
       "<style scoped>\n",
       "    .dataframe tbody tr th:only-of-type {\n",
       "        vertical-align: middle;\n",
       "    }\n",
       "\n",
       "    .dataframe tbody tr th {\n",
       "        vertical-align: top;\n",
       "    }\n",
       "\n",
       "    .dataframe thead th {\n",
       "        text-align: right;\n",
       "    }\n",
       "</style>\n",
       "<table border=\"1\" class=\"dataframe\">\n",
       "  <thead>\n",
       "    <tr style=\"text-align: right;\">\n",
       "      <th></th>\n",
       "      <th>Unnamed: 0</th>\n",
       "      <th>id</th>\n",
       "      <th>mb_used</th>\n",
       "      <th>session_date</th>\n",
       "      <th>user_id</th>\n",
       "    </tr>\n",
       "  </thead>\n",
       "  <tbody>\n",
       "    <tr>\n",
       "      <td>0</td>\n",
       "      <td>0</td>\n",
       "      <td>1000_0</td>\n",
       "      <td>112.95</td>\n",
       "      <td>2018-11-25</td>\n",
       "      <td>1000</td>\n",
       "    </tr>\n",
       "    <tr>\n",
       "      <td>1</td>\n",
       "      <td>1</td>\n",
       "      <td>1000_1</td>\n",
       "      <td>1052.81</td>\n",
       "      <td>2018-09-07</td>\n",
       "      <td>1000</td>\n",
       "    </tr>\n",
       "    <tr>\n",
       "      <td>2</td>\n",
       "      <td>2</td>\n",
       "      <td>1000_2</td>\n",
       "      <td>1197.26</td>\n",
       "      <td>2018-06-25</td>\n",
       "      <td>1000</td>\n",
       "    </tr>\n",
       "    <tr>\n",
       "      <td>3</td>\n",
       "      <td>3</td>\n",
       "      <td>1000_3</td>\n",
       "      <td>550.27</td>\n",
       "      <td>2018-08-22</td>\n",
       "      <td>1000</td>\n",
       "    </tr>\n",
       "    <tr>\n",
       "      <td>4</td>\n",
       "      <td>4</td>\n",
       "      <td>1000_4</td>\n",
       "      <td>302.56</td>\n",
       "      <td>2018-09-24</td>\n",
       "      <td>1000</td>\n",
       "    </tr>\n",
       "  </tbody>\n",
       "</table>\n",
       "</div>"
      ],
      "text/plain": [
       "   Unnamed: 0      id  mb_used session_date  user_id\n",
       "0           0  1000_0   112.95   2018-11-25     1000\n",
       "1           1  1000_1  1052.81   2018-09-07     1000\n",
       "2           2  1000_2  1197.26   2018-06-25     1000\n",
       "3           3  1000_3   550.27   2018-08-22     1000\n",
       "4           4  1000_4   302.56   2018-09-24     1000"
      ]
     },
     "metadata": {},
     "output_type": "display_data"
    },
    {
     "name": "stdout",
     "output_type": "stream",
     "text": [
      "<class 'pandas.core.frame.DataFrame'>\n",
      "RangeIndex: 149396 entries, 0 to 149395\n",
      "Data columns (total 5 columns):\n",
      "Unnamed: 0      149396 non-null int64\n",
      "id              149396 non-null object\n",
      "mb_used         149396 non-null float64\n",
      "session_date    149396 non-null object\n",
      "user_id         149396 non-null int64\n",
      "dtypes: float64(1), int64(2), object(2)\n",
      "memory usage: 5.7+ MB\n",
      "None\n"
     ]
    },
    {
     "data": {
      "text/html": [
       "<div>\n",
       "<style scoped>\n",
       "    .dataframe tbody tr th:only-of-type {\n",
       "        vertical-align: middle;\n",
       "    }\n",
       "\n",
       "    .dataframe tbody tr th {\n",
       "        vertical-align: top;\n",
       "    }\n",
       "\n",
       "    .dataframe thead th {\n",
       "        text-align: right;\n",
       "    }\n",
       "</style>\n",
       "<table border=\"1\" class=\"dataframe\">\n",
       "  <thead>\n",
       "    <tr style=\"text-align: right;\">\n",
       "      <th></th>\n",
       "      <th>Unnamed: 0</th>\n",
       "      <th>mb_used</th>\n",
       "      <th>user_id</th>\n",
       "    </tr>\n",
       "  </thead>\n",
       "  <tbody>\n",
       "    <tr>\n",
       "      <td>count</td>\n",
       "      <td>149396.0</td>\n",
       "      <td>149396.0</td>\n",
       "      <td>149396.0</td>\n",
       "    </tr>\n",
       "    <tr>\n",
       "      <td>mean</td>\n",
       "      <td>74698.0</td>\n",
       "      <td>370.0</td>\n",
       "      <td>1252.0</td>\n",
       "    </tr>\n",
       "    <tr>\n",
       "      <td>std</td>\n",
       "      <td>43127.0</td>\n",
       "      <td>278.0</td>\n",
       "      <td>144.0</td>\n",
       "    </tr>\n",
       "    <tr>\n",
       "      <td>min</td>\n",
       "      <td>0.0</td>\n",
       "      <td>0.0</td>\n",
       "      <td>1000.0</td>\n",
       "    </tr>\n",
       "    <tr>\n",
       "      <td>50%</td>\n",
       "      <td>74698.0</td>\n",
       "      <td>348.0</td>\n",
       "      <td>1251.0</td>\n",
       "    </tr>\n",
       "    <tr>\n",
       "      <td>max</td>\n",
       "      <td>149395.0</td>\n",
       "      <td>1725.0</td>\n",
       "      <td>1499.0</td>\n",
       "    </tr>\n",
       "  </tbody>\n",
       "</table>\n",
       "</div>"
      ],
      "text/plain": [
       "       Unnamed: 0   mb_used   user_id\n",
       "count    149396.0  149396.0  149396.0\n",
       "mean      74698.0     370.0    1252.0\n",
       "std       43127.0     278.0     144.0\n",
       "min           0.0       0.0    1000.0\n",
       "50%       74698.0     348.0    1251.0\n",
       "max      149395.0    1725.0    1499.0"
      ]
     },
     "metadata": {},
     "output_type": "display_data"
    },
    {
     "data": {
      "text/html": [
       "<div>\n",
       "<style scoped>\n",
       "    .dataframe tbody tr th:only-of-type {\n",
       "        vertical-align: middle;\n",
       "    }\n",
       "\n",
       "    .dataframe tbody tr th {\n",
       "        vertical-align: top;\n",
       "    }\n",
       "\n",
       "    .dataframe thead th {\n",
       "        text-align: right;\n",
       "    }\n",
       "</style>\n",
       "<table border=\"1\" class=\"dataframe\">\n",
       "  <thead>\n",
       "    <tr style=\"text-align: right;\">\n",
       "      <th></th>\n",
       "      <th>id</th>\n",
       "      <th>session_date</th>\n",
       "    </tr>\n",
       "  </thead>\n",
       "  <tbody>\n",
       "    <tr>\n",
       "      <td>count</td>\n",
       "      <td>149396</td>\n",
       "      <td>149396</td>\n",
       "    </tr>\n",
       "    <tr>\n",
       "      <td>unique</td>\n",
       "      <td>149396</td>\n",
       "      <td>365</td>\n",
       "    </tr>\n",
       "    <tr>\n",
       "      <td>top</td>\n",
       "      <td>1102_112</td>\n",
       "      <td>2018-12-31</td>\n",
       "    </tr>\n",
       "    <tr>\n",
       "      <td>freq</td>\n",
       "      <td>1</td>\n",
       "      <td>1057</td>\n",
       "    </tr>\n",
       "  </tbody>\n",
       "</table>\n",
       "</div>"
      ],
      "text/plain": [
       "              id session_date\n",
       "count     149396       149396\n",
       "unique    149396          365\n",
       "top     1102_112   2018-12-31\n",
       "freq           1         1057"
      ]
     },
     "metadata": {},
     "output_type": "display_data"
    },
    {
     "name": "stdout",
     "output_type": "stream",
     "text": [
      "\n",
      "ТАБЛИЦА messages\n"
     ]
    },
    {
     "data": {
      "text/html": [
       "<div>\n",
       "<style scoped>\n",
       "    .dataframe tbody tr th:only-of-type {\n",
       "        vertical-align: middle;\n",
       "    }\n",
       "\n",
       "    .dataframe tbody tr th {\n",
       "        vertical-align: top;\n",
       "    }\n",
       "\n",
       "    .dataframe thead th {\n",
       "        text-align: right;\n",
       "    }\n",
       "</style>\n",
       "<table border=\"1\" class=\"dataframe\">\n",
       "  <thead>\n",
       "    <tr style=\"text-align: right;\">\n",
       "      <th></th>\n",
       "      <th>id</th>\n",
       "      <th>message_date</th>\n",
       "      <th>user_id</th>\n",
       "    </tr>\n",
       "  </thead>\n",
       "  <tbody>\n",
       "    <tr>\n",
       "      <td>0</td>\n",
       "      <td>1000_0</td>\n",
       "      <td>2018-06-27</td>\n",
       "      <td>1000</td>\n",
       "    </tr>\n",
       "    <tr>\n",
       "      <td>1</td>\n",
       "      <td>1000_1</td>\n",
       "      <td>2018-10-08</td>\n",
       "      <td>1000</td>\n",
       "    </tr>\n",
       "    <tr>\n",
       "      <td>2</td>\n",
       "      <td>1000_2</td>\n",
       "      <td>2018-08-04</td>\n",
       "      <td>1000</td>\n",
       "    </tr>\n",
       "    <tr>\n",
       "      <td>3</td>\n",
       "      <td>1000_3</td>\n",
       "      <td>2018-06-16</td>\n",
       "      <td>1000</td>\n",
       "    </tr>\n",
       "    <tr>\n",
       "      <td>4</td>\n",
       "      <td>1000_4</td>\n",
       "      <td>2018-12-05</td>\n",
       "      <td>1000</td>\n",
       "    </tr>\n",
       "  </tbody>\n",
       "</table>\n",
       "</div>"
      ],
      "text/plain": [
       "       id message_date  user_id\n",
       "0  1000_0   2018-06-27     1000\n",
       "1  1000_1   2018-10-08     1000\n",
       "2  1000_2   2018-08-04     1000\n",
       "3  1000_3   2018-06-16     1000\n",
       "4  1000_4   2018-12-05     1000"
      ]
     },
     "metadata": {},
     "output_type": "display_data"
    },
    {
     "name": "stdout",
     "output_type": "stream",
     "text": [
      "<class 'pandas.core.frame.DataFrame'>\n",
      "RangeIndex: 123036 entries, 0 to 123035\n",
      "Data columns (total 3 columns):\n",
      "id              123036 non-null object\n",
      "message_date    123036 non-null object\n",
      "user_id         123036 non-null int64\n",
      "dtypes: int64(1), object(2)\n",
      "memory usage: 2.8+ MB\n",
      "None\n"
     ]
    },
    {
     "data": {
      "text/html": [
       "<div>\n",
       "<style scoped>\n",
       "    .dataframe tbody tr th:only-of-type {\n",
       "        vertical-align: middle;\n",
       "    }\n",
       "\n",
       "    .dataframe tbody tr th {\n",
       "        vertical-align: top;\n",
       "    }\n",
       "\n",
       "    .dataframe thead th {\n",
       "        text-align: right;\n",
       "    }\n",
       "</style>\n",
       "<table border=\"1\" class=\"dataframe\">\n",
       "  <thead>\n",
       "    <tr style=\"text-align: right;\">\n",
       "      <th></th>\n",
       "      <th>user_id</th>\n",
       "    </tr>\n",
       "  </thead>\n",
       "  <tbody>\n",
       "    <tr>\n",
       "      <td>count</td>\n",
       "      <td>123036.0</td>\n",
       "    </tr>\n",
       "    <tr>\n",
       "      <td>mean</td>\n",
       "      <td>1257.0</td>\n",
       "    </tr>\n",
       "    <tr>\n",
       "      <td>std</td>\n",
       "      <td>144.0</td>\n",
       "    </tr>\n",
       "    <tr>\n",
       "      <td>min</td>\n",
       "      <td>1000.0</td>\n",
       "    </tr>\n",
       "    <tr>\n",
       "      <td>50%</td>\n",
       "      <td>1271.0</td>\n",
       "    </tr>\n",
       "    <tr>\n",
       "      <td>max</td>\n",
       "      <td>1499.0</td>\n",
       "    </tr>\n",
       "  </tbody>\n",
       "</table>\n",
       "</div>"
      ],
      "text/plain": [
       "        user_id\n",
       "count  123036.0\n",
       "mean     1257.0\n",
       "std       144.0\n",
       "min      1000.0\n",
       "50%      1271.0\n",
       "max      1499.0"
      ]
     },
     "metadata": {},
     "output_type": "display_data"
    },
    {
     "data": {
      "text/html": [
       "<div>\n",
       "<style scoped>\n",
       "    .dataframe tbody tr th:only-of-type {\n",
       "        vertical-align: middle;\n",
       "    }\n",
       "\n",
       "    .dataframe tbody tr th {\n",
       "        vertical-align: top;\n",
       "    }\n",
       "\n",
       "    .dataframe thead th {\n",
       "        text-align: right;\n",
       "    }\n",
       "</style>\n",
       "<table border=\"1\" class=\"dataframe\">\n",
       "  <thead>\n",
       "    <tr style=\"text-align: right;\">\n",
       "      <th></th>\n",
       "      <th>id</th>\n",
       "      <th>message_date</th>\n",
       "    </tr>\n",
       "  </thead>\n",
       "  <tbody>\n",
       "    <tr>\n",
       "      <td>count</td>\n",
       "      <td>123036</td>\n",
       "      <td>123036</td>\n",
       "    </tr>\n",
       "    <tr>\n",
       "      <td>unique</td>\n",
       "      <td>123036</td>\n",
       "      <td>364</td>\n",
       "    </tr>\n",
       "    <tr>\n",
       "      <td>top</td>\n",
       "      <td>1102_112</td>\n",
       "      <td>2018-12-31</td>\n",
       "    </tr>\n",
       "    <tr>\n",
       "      <td>freq</td>\n",
       "      <td>1</td>\n",
       "      <td>859</td>\n",
       "    </tr>\n",
       "  </tbody>\n",
       "</table>\n",
       "</div>"
      ],
      "text/plain": [
       "              id message_date\n",
       "count     123036       123036\n",
       "unique    123036          364\n",
       "top     1102_112   2018-12-31\n",
       "freq           1          859"
      ]
     },
     "metadata": {},
     "output_type": "display_data"
    },
    {
     "name": "stdout",
     "output_type": "stream",
     "text": [
      "\n",
      "ТАБЛИЦА tariffs\n"
     ]
    },
    {
     "data": {
      "text/html": [
       "<div>\n",
       "<style scoped>\n",
       "    .dataframe tbody tr th:only-of-type {\n",
       "        vertical-align: middle;\n",
       "    }\n",
       "\n",
       "    .dataframe tbody tr th {\n",
       "        vertical-align: top;\n",
       "    }\n",
       "\n",
       "    .dataframe thead th {\n",
       "        text-align: right;\n",
       "    }\n",
       "</style>\n",
       "<table border=\"1\" class=\"dataframe\">\n",
       "  <thead>\n",
       "    <tr style=\"text-align: right;\">\n",
       "      <th></th>\n",
       "      <th>messages_included</th>\n",
       "      <th>mb_per_month_included</th>\n",
       "      <th>minutes_included</th>\n",
       "      <th>rub_monthly_fee</th>\n",
       "      <th>rub_per_gb</th>\n",
       "      <th>rub_per_message</th>\n",
       "      <th>rub_per_minute</th>\n",
       "      <th>tariff_name</th>\n",
       "    </tr>\n",
       "  </thead>\n",
       "  <tbody>\n",
       "    <tr>\n",
       "      <td>0</td>\n",
       "      <td>50</td>\n",
       "      <td>15360</td>\n",
       "      <td>500</td>\n",
       "      <td>550</td>\n",
       "      <td>200</td>\n",
       "      <td>3</td>\n",
       "      <td>3</td>\n",
       "      <td>smart</td>\n",
       "    </tr>\n",
       "    <tr>\n",
       "      <td>1</td>\n",
       "      <td>1000</td>\n",
       "      <td>30720</td>\n",
       "      <td>3000</td>\n",
       "      <td>1950</td>\n",
       "      <td>150</td>\n",
       "      <td>1</td>\n",
       "      <td>1</td>\n",
       "      <td>ultra</td>\n",
       "    </tr>\n",
       "  </tbody>\n",
       "</table>\n",
       "</div>"
      ],
      "text/plain": [
       "   messages_included  mb_per_month_included  minutes_included  \\\n",
       "0                 50                  15360               500   \n",
       "1               1000                  30720              3000   \n",
       "\n",
       "   rub_monthly_fee  rub_per_gb  rub_per_message  rub_per_minute tariff_name  \n",
       "0              550         200                3               3       smart  \n",
       "1             1950         150                1               1       ultra  "
      ]
     },
     "metadata": {},
     "output_type": "display_data"
    },
    {
     "name": "stdout",
     "output_type": "stream",
     "text": [
      "<class 'pandas.core.frame.DataFrame'>\n",
      "RangeIndex: 2 entries, 0 to 1\n",
      "Data columns (total 8 columns):\n",
      "messages_included        2 non-null int64\n",
      "mb_per_month_included    2 non-null int64\n",
      "minutes_included         2 non-null int64\n",
      "rub_monthly_fee          2 non-null int64\n",
      "rub_per_gb               2 non-null int64\n",
      "rub_per_message          2 non-null int64\n",
      "rub_per_minute           2 non-null int64\n",
      "tariff_name              2 non-null object\n",
      "dtypes: int64(7), object(1)\n",
      "memory usage: 256.0+ bytes\n",
      "None\n"
     ]
    },
    {
     "data": {
      "text/html": [
       "<div>\n",
       "<style scoped>\n",
       "    .dataframe tbody tr th:only-of-type {\n",
       "        vertical-align: middle;\n",
       "    }\n",
       "\n",
       "    .dataframe tbody tr th {\n",
       "        vertical-align: top;\n",
       "    }\n",
       "\n",
       "    .dataframe thead th {\n",
       "        text-align: right;\n",
       "    }\n",
       "</style>\n",
       "<table border=\"1\" class=\"dataframe\">\n",
       "  <thead>\n",
       "    <tr style=\"text-align: right;\">\n",
       "      <th></th>\n",
       "      <th>messages_included</th>\n",
       "      <th>mb_per_month_included</th>\n",
       "      <th>minutes_included</th>\n",
       "      <th>rub_monthly_fee</th>\n",
       "      <th>rub_per_gb</th>\n",
       "      <th>rub_per_message</th>\n",
       "      <th>rub_per_minute</th>\n",
       "    </tr>\n",
       "  </thead>\n",
       "  <tbody>\n",
       "    <tr>\n",
       "      <td>count</td>\n",
       "      <td>2.0</td>\n",
       "      <td>2.0</td>\n",
       "      <td>2.0</td>\n",
       "      <td>2.0</td>\n",
       "      <td>2.0</td>\n",
       "      <td>2.0</td>\n",
       "      <td>2.0</td>\n",
       "    </tr>\n",
       "    <tr>\n",
       "      <td>mean</td>\n",
       "      <td>525.0</td>\n",
       "      <td>23040.0</td>\n",
       "      <td>1750.0</td>\n",
       "      <td>1250.0</td>\n",
       "      <td>175.0</td>\n",
       "      <td>2.0</td>\n",
       "      <td>2.0</td>\n",
       "    </tr>\n",
       "    <tr>\n",
       "      <td>std</td>\n",
       "      <td>672.0</td>\n",
       "      <td>10861.0</td>\n",
       "      <td>1768.0</td>\n",
       "      <td>990.0</td>\n",
       "      <td>35.0</td>\n",
       "      <td>1.0</td>\n",
       "      <td>1.0</td>\n",
       "    </tr>\n",
       "    <tr>\n",
       "      <td>min</td>\n",
       "      <td>50.0</td>\n",
       "      <td>15360.0</td>\n",
       "      <td>500.0</td>\n",
       "      <td>550.0</td>\n",
       "      <td>150.0</td>\n",
       "      <td>1.0</td>\n",
       "      <td>1.0</td>\n",
       "    </tr>\n",
       "    <tr>\n",
       "      <td>50%</td>\n",
       "      <td>525.0</td>\n",
       "      <td>23040.0</td>\n",
       "      <td>1750.0</td>\n",
       "      <td>1250.0</td>\n",
       "      <td>175.0</td>\n",
       "      <td>2.0</td>\n",
       "      <td>2.0</td>\n",
       "    </tr>\n",
       "    <tr>\n",
       "      <td>max</td>\n",
       "      <td>1000.0</td>\n",
       "      <td>30720.0</td>\n",
       "      <td>3000.0</td>\n",
       "      <td>1950.0</td>\n",
       "      <td>200.0</td>\n",
       "      <td>3.0</td>\n",
       "      <td>3.0</td>\n",
       "    </tr>\n",
       "  </tbody>\n",
       "</table>\n",
       "</div>"
      ],
      "text/plain": [
       "       messages_included  mb_per_month_included  minutes_included  \\\n",
       "count                2.0                    2.0               2.0   \n",
       "mean               525.0                23040.0            1750.0   \n",
       "std                672.0                10861.0            1768.0   \n",
       "min                 50.0                15360.0             500.0   \n",
       "50%                525.0                23040.0            1750.0   \n",
       "max               1000.0                30720.0            3000.0   \n",
       "\n",
       "       rub_monthly_fee  rub_per_gb  rub_per_message  rub_per_minute  \n",
       "count              2.0         2.0              2.0             2.0  \n",
       "mean            1250.0       175.0              2.0             2.0  \n",
       "std              990.0        35.0              1.0             1.0  \n",
       "min              550.0       150.0              1.0             1.0  \n",
       "50%             1250.0       175.0              2.0             2.0  \n",
       "max             1950.0       200.0              3.0             3.0  "
      ]
     },
     "metadata": {},
     "output_type": "display_data"
    },
    {
     "data": {
      "text/html": [
       "<div>\n",
       "<style scoped>\n",
       "    .dataframe tbody tr th:only-of-type {\n",
       "        vertical-align: middle;\n",
       "    }\n",
       "\n",
       "    .dataframe tbody tr th {\n",
       "        vertical-align: top;\n",
       "    }\n",
       "\n",
       "    .dataframe thead th {\n",
       "        text-align: right;\n",
       "    }\n",
       "</style>\n",
       "<table border=\"1\" class=\"dataframe\">\n",
       "  <thead>\n",
       "    <tr style=\"text-align: right;\">\n",
       "      <th></th>\n",
       "      <th>tariff_name</th>\n",
       "    </tr>\n",
       "  </thead>\n",
       "  <tbody>\n",
       "    <tr>\n",
       "      <td>count</td>\n",
       "      <td>2</td>\n",
       "    </tr>\n",
       "    <tr>\n",
       "      <td>unique</td>\n",
       "      <td>2</td>\n",
       "    </tr>\n",
       "    <tr>\n",
       "      <td>top</td>\n",
       "      <td>ultra</td>\n",
       "    </tr>\n",
       "    <tr>\n",
       "      <td>freq</td>\n",
       "      <td>1</td>\n",
       "    </tr>\n",
       "  </tbody>\n",
       "</table>\n",
       "</div>"
      ],
      "text/plain": [
       "       tariff_name\n",
       "count            2\n",
       "unique           2\n",
       "top          ultra\n",
       "freq             1"
      ]
     },
     "metadata": {},
     "output_type": "display_data"
    },
    {
     "name": "stdout",
     "output_type": "stream",
     "text": [
      "\n",
      "ТАБЛИЦА users\n"
     ]
    },
    {
     "data": {
      "text/html": [
       "<div>\n",
       "<style scoped>\n",
       "    .dataframe tbody tr th:only-of-type {\n",
       "        vertical-align: middle;\n",
       "    }\n",
       "\n",
       "    .dataframe tbody tr th {\n",
       "        vertical-align: top;\n",
       "    }\n",
       "\n",
       "    .dataframe thead th {\n",
       "        text-align: right;\n",
       "    }\n",
       "</style>\n",
       "<table border=\"1\" class=\"dataframe\">\n",
       "  <thead>\n",
       "    <tr style=\"text-align: right;\">\n",
       "      <th></th>\n",
       "      <th>user_id</th>\n",
       "      <th>age</th>\n",
       "      <th>churn_date</th>\n",
       "      <th>city</th>\n",
       "      <th>first_name</th>\n",
       "      <th>last_name</th>\n",
       "      <th>reg_date</th>\n",
       "      <th>tariff</th>\n",
       "    </tr>\n",
       "  </thead>\n",
       "  <tbody>\n",
       "    <tr>\n",
       "      <td>0</td>\n",
       "      <td>1000</td>\n",
       "      <td>52</td>\n",
       "      <td>NaN</td>\n",
       "      <td>Краснодар</td>\n",
       "      <td>Рафаил</td>\n",
       "      <td>Верещагин</td>\n",
       "      <td>2018-05-25</td>\n",
       "      <td>ultra</td>\n",
       "    </tr>\n",
       "    <tr>\n",
       "      <td>1</td>\n",
       "      <td>1001</td>\n",
       "      <td>41</td>\n",
       "      <td>NaN</td>\n",
       "      <td>Москва</td>\n",
       "      <td>Иван</td>\n",
       "      <td>Ежов</td>\n",
       "      <td>2018-11-01</td>\n",
       "      <td>smart</td>\n",
       "    </tr>\n",
       "    <tr>\n",
       "      <td>2</td>\n",
       "      <td>1002</td>\n",
       "      <td>59</td>\n",
       "      <td>NaN</td>\n",
       "      <td>Стерлитамак</td>\n",
       "      <td>Евгений</td>\n",
       "      <td>Абрамович</td>\n",
       "      <td>2018-06-17</td>\n",
       "      <td>smart</td>\n",
       "    </tr>\n",
       "    <tr>\n",
       "      <td>3</td>\n",
       "      <td>1003</td>\n",
       "      <td>23</td>\n",
       "      <td>NaN</td>\n",
       "      <td>Москва</td>\n",
       "      <td>Белла</td>\n",
       "      <td>Белякова</td>\n",
       "      <td>2018-08-17</td>\n",
       "      <td>ultra</td>\n",
       "    </tr>\n",
       "    <tr>\n",
       "      <td>4</td>\n",
       "      <td>1004</td>\n",
       "      <td>68</td>\n",
       "      <td>NaN</td>\n",
       "      <td>Новокузнецк</td>\n",
       "      <td>Татьяна</td>\n",
       "      <td>Авдеенко</td>\n",
       "      <td>2018-05-14</td>\n",
       "      <td>ultra</td>\n",
       "    </tr>\n",
       "  </tbody>\n",
       "</table>\n",
       "</div>"
      ],
      "text/plain": [
       "   user_id  age churn_date         city first_name  last_name    reg_date  \\\n",
       "0     1000   52        NaN    Краснодар     Рафаил  Верещагин  2018-05-25   \n",
       "1     1001   41        NaN       Москва       Иван       Ежов  2018-11-01   \n",
       "2     1002   59        NaN  Стерлитамак    Евгений  Абрамович  2018-06-17   \n",
       "3     1003   23        NaN       Москва      Белла   Белякова  2018-08-17   \n",
       "4     1004   68        NaN  Новокузнецк    Татьяна   Авдеенко  2018-05-14   \n",
       "\n",
       "  tariff  \n",
       "0  ultra  \n",
       "1  smart  \n",
       "2  smart  \n",
       "3  ultra  \n",
       "4  ultra  "
      ]
     },
     "metadata": {},
     "output_type": "display_data"
    },
    {
     "name": "stdout",
     "output_type": "stream",
     "text": [
      "<class 'pandas.core.frame.DataFrame'>\n",
      "RangeIndex: 500 entries, 0 to 499\n",
      "Data columns (total 8 columns):\n",
      "user_id       500 non-null int64\n",
      "age           500 non-null int64\n",
      "churn_date    38 non-null object\n",
      "city          500 non-null object\n",
      "first_name    500 non-null object\n",
      "last_name     500 non-null object\n",
      "reg_date      500 non-null object\n",
      "tariff        500 non-null object\n",
      "dtypes: int64(2), object(6)\n",
      "memory usage: 31.4+ KB\n",
      "None\n"
     ]
    },
    {
     "data": {
      "text/html": [
       "<div>\n",
       "<style scoped>\n",
       "    .dataframe tbody tr th:only-of-type {\n",
       "        vertical-align: middle;\n",
       "    }\n",
       "\n",
       "    .dataframe tbody tr th {\n",
       "        vertical-align: top;\n",
       "    }\n",
       "\n",
       "    .dataframe thead th {\n",
       "        text-align: right;\n",
       "    }\n",
       "</style>\n",
       "<table border=\"1\" class=\"dataframe\">\n",
       "  <thead>\n",
       "    <tr style=\"text-align: right;\">\n",
       "      <th></th>\n",
       "      <th>user_id</th>\n",
       "      <th>age</th>\n",
       "    </tr>\n",
       "  </thead>\n",
       "  <tbody>\n",
       "    <tr>\n",
       "      <td>count</td>\n",
       "      <td>500.0</td>\n",
       "      <td>500.0</td>\n",
       "    </tr>\n",
       "    <tr>\n",
       "      <td>mean</td>\n",
       "      <td>1250.0</td>\n",
       "      <td>47.0</td>\n",
       "    </tr>\n",
       "    <tr>\n",
       "      <td>std</td>\n",
       "      <td>144.0</td>\n",
       "      <td>17.0</td>\n",
       "    </tr>\n",
       "    <tr>\n",
       "      <td>min</td>\n",
       "      <td>1000.0</td>\n",
       "      <td>18.0</td>\n",
       "    </tr>\n",
       "    <tr>\n",
       "      <td>50%</td>\n",
       "      <td>1250.0</td>\n",
       "      <td>46.0</td>\n",
       "    </tr>\n",
       "    <tr>\n",
       "      <td>max</td>\n",
       "      <td>1499.0</td>\n",
       "      <td>75.0</td>\n",
       "    </tr>\n",
       "  </tbody>\n",
       "</table>\n",
       "</div>"
      ],
      "text/plain": [
       "       user_id    age\n",
       "count    500.0  500.0\n",
       "mean    1250.0   47.0\n",
       "std      144.0   17.0\n",
       "min     1000.0   18.0\n",
       "50%     1250.0   46.0\n",
       "max     1499.0   75.0"
      ]
     },
     "metadata": {},
     "output_type": "display_data"
    },
    {
     "data": {
      "text/html": [
       "<div>\n",
       "<style scoped>\n",
       "    .dataframe tbody tr th:only-of-type {\n",
       "        vertical-align: middle;\n",
       "    }\n",
       "\n",
       "    .dataframe tbody tr th {\n",
       "        vertical-align: top;\n",
       "    }\n",
       "\n",
       "    .dataframe thead th {\n",
       "        text-align: right;\n",
       "    }\n",
       "</style>\n",
       "<table border=\"1\" class=\"dataframe\">\n",
       "  <thead>\n",
       "    <tr style=\"text-align: right;\">\n",
       "      <th></th>\n",
       "      <th>churn_date</th>\n",
       "      <th>city</th>\n",
       "      <th>first_name</th>\n",
       "      <th>last_name</th>\n",
       "      <th>reg_date</th>\n",
       "      <th>tariff</th>\n",
       "    </tr>\n",
       "  </thead>\n",
       "  <tbody>\n",
       "    <tr>\n",
       "      <td>count</td>\n",
       "      <td>38</td>\n",
       "      <td>500</td>\n",
       "      <td>500</td>\n",
       "      <td>500</td>\n",
       "      <td>500</td>\n",
       "      <td>500</td>\n",
       "    </tr>\n",
       "    <tr>\n",
       "      <td>unique</td>\n",
       "      <td>33</td>\n",
       "      <td>76</td>\n",
       "      <td>246</td>\n",
       "      <td>419</td>\n",
       "      <td>270</td>\n",
       "      <td>2</td>\n",
       "    </tr>\n",
       "    <tr>\n",
       "      <td>top</td>\n",
       "      <td>2018-12-09</td>\n",
       "      <td>Москва</td>\n",
       "      <td>Радим</td>\n",
       "      <td>Андреенко</td>\n",
       "      <td>2018-05-28</td>\n",
       "      <td>smart</td>\n",
       "    </tr>\n",
       "    <tr>\n",
       "      <td>freq</td>\n",
       "      <td>2</td>\n",
       "      <td>99</td>\n",
       "      <td>6</td>\n",
       "      <td>5</td>\n",
       "      <td>8</td>\n",
       "      <td>351</td>\n",
       "    </tr>\n",
       "  </tbody>\n",
       "</table>\n",
       "</div>"
      ],
      "text/plain": [
       "        churn_date    city first_name  last_name    reg_date tariff\n",
       "count           38     500        500        500         500    500\n",
       "unique          33      76        246        419         270      2\n",
       "top     2018-12-09  Москва      Радим  Андреенко  2018-05-28  smart\n",
       "freq             2      99          6          5           8    351"
      ]
     },
     "metadata": {},
     "output_type": "display_data"
    },
    {
     "name": "stdout",
     "output_type": "stream",
     "text": [
      "\n"
     ]
    }
   ],
   "source": [
    "tables = [calls, internet, messages, tariffs, users]\n",
    "\n",
    "for table in tables:\n",
    "    print('ТАБЛИЦА', table.name)\n",
    "    display(table.head())\n",
    "    print(table.info())\n",
    "    display(round(table.describe(percentiles = [], include = ['float', 'int'])))\n",
    "    display(round(table.describe(percentiles = [], include = ['bool', 'object'])))\n",
    "    print() "
   ]
  },
  {
   "cell_type": "markdown",
   "metadata": {},
   "source": [
    "### Выводы по разделу"
   ]
  },
  {
   "cell_type": "markdown",
   "metadata": {},
   "source": [
    "Итак, данные получены, отображены и предварительно пранализированы.\n",
    "Всего имеем 5 таблиц:\n",
    "- Таблица `calls` - данные о совершенных звонках за период:\n",
    "    \n",
    "    Содежит 4 столбца:\n",
    "        * id — уникальный номер звонка\n",
    "        * call_date — дата звонка\n",
    "        * duration — длительность звонка в минутах\n",
    "        * user_id — идентификатор пользователя, сделавшего звонок.\n",
    "    Обнаружены следущие ошибки:\n",
    "        * тип данных в столбце `user_id` - `int64`, хотя столбец по логике должен содержать категориальные переменные;\n",
    "        * тип данных в столбце `call_date` - `object`, должен быть `datetime64`;\n",
    "        * название `id` однозначено не описывает содержимое столбца, поэтому его необходимо переименовать;\n",
    "        * в столбце `duration` очень настораживает значение стандартного отклонения - велико, значит, в наборе данных могут втречаться серьёзные аномалии или выбросы, необходимо проанализировать.\n",
    "\n",
    "По таблице `describe()` выявлены нулевые значения продолжительности звонков, но это не является ошибкой, т.к. звонки с нулевой продолжительностью - это пропущенные звонки. Статистическую информациию о столбце `user_id` в расчет принимать не буду, т.к. это должен быть строковый объект и данные по нему - некорректно оценивать, как по количественному значению.  \n",
    "\n",
    "- Таблица `internet` - данные об интернет-сессиях за период:\n",
    "\n",
    "    Содежит 5 столбцов:\n",
    "        * Unnamed\n",
    "        * id — уникальный номер сессии\n",
    "        * mb_used — объём потраченного за сессию интернет-трафика (в мегабайтах)\n",
    "        * session_date — дата интернет-сессии\n",
    "        * user_id — идентификатор пользователя\n",
    "        \n",
    "    Обнаружены следущие ошибки:\n",
    "        * неинформативный столбец `Unnamed: 0`, который, исходя из данных таблицы `describe()`, содержит порядковый номер строки;\n",
    "        * тип данных в столбце `user_id` - `int64`, хотя столбец по логике должен содержать категориальные переменные;\n",
    "        * тип данных в столбце `session_date` - `object`, должен быть `datetime64`;\n",
    "        * название `id` однозначено не описывает содержимое столбца, поэтому его необходимо переименовать;\n",
    "        * в столбце `mb_used` велико значение стандартного отклонения поэтому также необходимо проверить данные на наличие аномалий или выбросов;\n",
    "        * обнаружены нулевые продолжительности сессий в столбце `mb_used` - нужно проанализировать. \n",
    "\n",
    "- Таблица `messages` - данные о коротких сообщениях за период:\n",
    "\n",
    "    Содежит 3 столбца:\n",
    "        * id — уникальный номер сообщения\n",
    "        * message_date — дата сообщения\n",
    "        * user_id — идентификатор пользователя, отправившего сообщение\n",
    "        \n",
    "    Обнаружены следущие ошибки:\n",
    "        * тип данных в столбце `user_id` - `int64`, хотя столбец по логике должен содержать категориальные переменные;\n",
    "        * название `id` однозначено не описывает содержимое столбца, поэтому его необходимо переименовать;\n",
    "        * тип данных в столбце `message_date` - `object`, должен быть `datetime64`.\n",
    "\n",
    "- Таблица `tariffs` - данные о тарифах компании:\n",
    "\n",
    "    Содежит 8 столбцов:\n",
    "        * tariff_name — название тарифа\n",
    "        * rub_monthly_fee — ежемесячная абонентская плата в рублях\n",
    "        * minutes_included — количество минут разговора в месяц, включённых в абонентскую плату\n",
    "        * messages_included — количество сообщений в месяц, включённых в абонентскую плату\n",
    "        * mb_per_month_included — объём интернет-трафика, включённого в абонентскую плату (в мегабайтах)\n",
    "        * rub_per_minute — стоимость минуты разговора сверх тарифного пакета (например, если в тарифе 100 минут разговора в месяц, то со 101 минуты будет взиматься плата)\n",
    "        * rub_per_message — стоимость отправки сообщения сверх тарифного пакета\n",
    "        * rub_per_gb — стоимость дополнительного гигабайта интернет-трафика сверх тарифного пакета (1 гигабайт = 1024 мегабайта)\n",
    "        \n",
    "Ошибок в данных не обнаружено, значения таблицы `describe()` для данной таблицы являются неинформативными, т.к. строк в таблице всего 2, слишком маленькая выборка для оценки показателей, поэтому зашкаливают значения отклонений и пр.\n",
    "\n",
    "- Таблица `users` - данные о пользователях:\n",
    "\n",
    "    Содежит 8 столбцов:\n",
    "        * user_id — уникальный идентификатор пользователя\n",
    "        * first_name — имя пользователя\n",
    "        * last_name — фамилия пользователя\n",
    "        * age — возраст пользователя (годы)\n",
    "        * reg_date — дата подключения тарифа (день, месяц, год)\n",
    "        * churn_date — дата прекращения пользования тарифом\n",
    "        * city — город проживания пользователя\n",
    "        * tarif — название тарифного плана\n",
    "        \n",
    "    Обнаружены следущие ошибки:\n",
    "        * тип данных в столбце `user_id` - `int64`, хотя столбец по логике должен содержать категориальные переменные;\n",
    "        * тип данных в столбцах `reg_date` и `churn_date` - `object`, должен быть `datetime64`;\n",
    "        * несоответствие названия столбца `tarif` с таблицей `tariffs`, в которой столбец называется `tarif_name`.\n",
    "\n",
    "Обнаружены пропущенные значения в столбце `churn_date`, однако это не является ошибкой - если значение пропущено, то тариф ещё действовал на момент выгрузки данных. В столбцах всех остальных таблиц пропущенных значений не обнаружено, также не выявлено нарушений стилей названий столбцов."
   ]
  },
  {
   "cell_type": "markdown",
   "metadata": {},
   "source": [
    "## Подготовка данных"
   ]
  },
  {
   "cell_type": "markdown",
   "metadata": {},
   "source": [
    "### Приведение типов данных"
   ]
  },
  {
   "cell_type": "markdown",
   "metadata": {},
   "source": [
    "В данном разделе изменю во всех таблицах приведу тип столбца `user_id` к строковому, а типы столбцов `call_date`, `session_date`, `message_date`, `reg_date` и `churn_date` - к формату даты."
   ]
  },
  {
   "cell_type": "code",
   "execution_count": 4,
   "metadata": {},
   "outputs": [
    {
     "name": "stdout",
     "output_type": "stream",
     "text": [
      "Исходный тип данных в столбце user_id для таблиц:\n",
      "calls - int64\n",
      "internet - int64\n",
      "messages - int64\n",
      "users - int64\n",
      "\n",
      "После изменения типа данных в столбце user_id для таблиц:\n",
      "calls - object\n",
      "internet - object\n",
      "messages - object\n",
      "users - object\n",
      "\n",
      "Исходный тип данных в столбцах:\n",
      "call_date - object\n",
      "session_date - object\n",
      "message_date - object\n",
      "reg_date - object\n",
      "churn_date - object\n",
      "\n",
      "После изменения типов данных в столбцах:\n",
      "call_date - datetime64[ns]\n",
      "session_date - datetime64[ns]\n",
      "message_date - datetime64[ns]\n",
      "reg_date - datetime64[ns]\n",
      "churn_date - datetime64[ns]\n"
     ]
    }
   ],
   "source": [
    "print('Исходный тип данных в столбце user_id для таблиц:')\n",
    "print(calls.name, '-', calls['user_id'].dtypes)\n",
    "print(internet.name, '-', internet['user_id'].dtypes)\n",
    "print(messages.name, '-', messages['user_id'].dtypes)\n",
    "print(users.name, '-', users['user_id'].dtypes)\n",
    "\n",
    "# Изменение типов столбца user_id 2018-12-31\n",
    "calls['user_id'] = calls['user_id'].astype('object')\n",
    "internet['user_id'] = internet['user_id'].astype('object')\n",
    "messages['user_id'] = messages['user_id'].astype('object')\n",
    "users['user_id'] = users['user_id'].astype('object')\n",
    "\n",
    "print()\n",
    "\n",
    "# Проверка\n",
    "print('После изменения типа данных в столбце user_id для таблиц:')\n",
    "print(calls.name, '-', calls['user_id'].dtypes)\n",
    "print(internet.name, '-', internet['user_id'].dtypes)\n",
    "print(messages.name, '-', messages['user_id'].dtypes)\n",
    "print(users.name, '-', users['user_id'].dtypes)\n",
    "\n",
    "print()\n",
    "\n",
    "print('Исходный тип данных в столбцах:')\n",
    "print('call_date', '-', calls['call_date'].dtypes)\n",
    "print('session_date', '-', internet['session_date'].dtypes)\n",
    "print('message_date', '-', messages['message_date'].dtypes)\n",
    "print('reg_date', '-', users['reg_date'].dtypes)\n",
    "print('churn_date', '-', users['churn_date'].dtypes)\n",
    "\n",
    "# Приведение столбцов call_date, session_date, message_date, reg_date и churn_date в формат даты \n",
    "calls['call_date'] = pd.to_datetime(calls['call_date'], format='%Y-%m-%d')\n",
    "internet['session_date'] = pd.to_datetime(internet['session_date'], format='%Y-%m-%d')\n",
    "messages['message_date'] = pd.to_datetime(messages['message_date'], format='%Y-%m-%d')\n",
    "users['reg_date'] = pd.to_datetime(users['reg_date'], format='%Y-%m-%d')\n",
    "users['churn_date'] = pd.to_datetime(users['churn_date'], format='%Y-%m-%d')\n",
    "\n",
    "print()\n",
    "\n",
    "# Проверка\n",
    "print('После изменения типов данных в столбцах:')\n",
    "print('call_date', '-', calls['call_date'].dtypes)\n",
    "print('session_date', '-', internet['session_date'].dtypes)\n",
    "print('message_date', '-', messages['message_date'].dtypes)\n",
    "print('reg_date', '-', users['reg_date'].dtypes)\n",
    "print('churn_date', '-', users['churn_date'].dtypes)"
   ]
  },
  {
   "cell_type": "markdown",
   "metadata": {},
   "source": [
    "#### Выводы по разделу"
   ]
  },
  {
   "cell_type": "markdown",
   "metadata": {},
   "source": [
    "В данном разделе во всех таблицах тип столбца user_id приведен к строковому, а типы столбцов call_date, session_date, message_date, reg_date и churn_date - к формату даты."
   ]
  },
  {
   "cell_type": "markdown",
   "metadata": {},
   "source": [
    "### Исправление ошибок в данных"
   ]
  },
  {
   "cell_type": "markdown",
   "metadata": {},
   "source": [
    "#### Переименование столбцов"
   ]
  },
  {
   "cell_type": "markdown",
   "metadata": {},
   "source": [
    "Переименую столбцы `id` в таблицах `calls`, `internet` и `messages` в соответствии с их содержимым:"
   ]
  },
  {
   "cell_type": "code",
   "execution_count": 5,
   "metadata": {},
   "outputs": [],
   "source": [
    "calls = calls.rename(columns={'id': 'call_id'})\n",
    "internet = internet.rename(columns={'id': 'session_id'})\n",
    "messages = messages.rename(columns={'id': 'message_id'})\n",
    "users = users.rename(columns={'tariff': 'tariff_name'})"
   ]
  },
  {
   "cell_type": "markdown",
   "metadata": {},
   "source": [
    "#### Удаление столбцов"
   ]
  },
  {
   "cell_type": "markdown",
   "metadata": {},
   "source": [
    "Удалю неинформативный столбец `Unnamed: 0` из таблицы `internet`:"
   ]
  },
  {
   "cell_type": "code",
   "execution_count": 6,
   "metadata": {},
   "outputs": [],
   "source": [
    "internet.drop('Unnamed: 0', axis=1, inplace=True)"
   ]
  },
  {
   "cell_type": "markdown",
   "metadata": {},
   "source": [
    "#### Обработка данных в столбце mb_used"
   ]
  },
  {
   "cell_type": "markdown",
   "metadata": {},
   "source": [
    "Проанализирую значения объёма потраченного за сессию интернет-трафика (в мегабайтах) в таблице `internet` - выведу построю гистограмму распределения значений, а также диаграмму размаха:"
   ]
  },
  {
   "cell_type": "code",
   "execution_count": 7,
   "metadata": {},
   "outputs": [
    {
     "name": "stdout",
     "output_type": "stream",
     "text": [
      "count    149396.0\n",
      "mean        370.0\n",
      "std         278.0\n",
      "min           0.0\n",
      "25%         138.0\n",
      "50%         348.0\n",
      "75%         560.0\n",
      "max        1725.0\n",
      "Name: mb_used, dtype: float64\n"
     ]
    },
    {
     "data": {
      "image/png": "[encoded data removed]",
      "text/plain": [
       "<Figure size 1080x432 with 2 Axes>"
      ]
     },
     "metadata": {
      "needs_background": "light"
     },
     "output_type": "display_data"
    }
   ],
   "source": [
    "print(round(internet['mb_used'].describe()))\n",
    "\n",
    "fig, axes = plt.subplots(1,2,figsize=(15,6))\n",
    "internet['mb_used'].hist(bins=50, range=(0, 1800), ax=axes[0])\n",
    "internet.boxplot(('mb_used'), ax=axes[1])\n",
    "plt.ylim(0, 1800);"
   ]
  },
  {
   "cell_type": "code",
   "execution_count": 8,
   "metadata": {},
   "outputs": [
    {
     "name": "stdout",
     "output_type": "stream",
     "text": [
      "Кол-во записей с нулевыми интернет-сессиями - 19598\n",
      "Доля нулевых интернет-сессий составляет 13.1%\n"
     ]
    }
   ],
   "source": [
    "print('Кол-во записей с нулевыми интернет-сессиями -', len(internet.query('mb_used == 0')))\n",
    "print('Доля нулевых интернет-сессий составляет {:.1%}'.format(len(internet.query(\"mb_used == 0\")) / len(internet)))"
   ]
  },
  {
   "cell_type": "markdown",
   "metadata": {},
   "source": [
    "Можно сделать предположение, что нулевые сессии - это те сессии, в которых объем трафика за сессию меньше определенного порогового значения, и фиксируется системой как 0. Проверю, какое минимальное значение принимает значение (кроме 0):"
   ]
  },
  {
   "cell_type": "code",
   "execution_count": 9,
   "metadata": {},
   "outputs": [
    {
     "data": {
      "text/html": [
       "<div>\n",
       "<style scoped>\n",
       "    .dataframe tbody tr th:only-of-type {\n",
       "        vertical-align: middle;\n",
       "    }\n",
       "\n",
       "    .dataframe tbody tr th {\n",
       "        vertical-align: top;\n",
       "    }\n",
       "\n",
       "    .dataframe thead th {\n",
       "        text-align: right;\n",
       "    }\n",
       "</style>\n",
       "<table border=\"1\" class=\"dataframe\">\n",
       "  <thead>\n",
       "    <tr style=\"text-align: right;\">\n",
       "      <th></th>\n",
       "      <th>session_id</th>\n",
       "      <th>mb_used</th>\n",
       "      <th>session_date</th>\n",
       "      <th>user_id</th>\n",
       "    </tr>\n",
       "  </thead>\n",
       "  <tbody>\n",
       "    <tr>\n",
       "      <td>15944</td>\n",
       "      <td>1055_402</td>\n",
       "      <td>0.03</td>\n",
       "      <td>2018-06-15</td>\n",
       "      <td>1055</td>\n",
       "    </tr>\n",
       "    <tr>\n",
       "      <td>85722</td>\n",
       "      <td>1291_278</td>\n",
       "      <td>0.04</td>\n",
       "      <td>2018-08-10</td>\n",
       "      <td>1291</td>\n",
       "    </tr>\n",
       "    <tr>\n",
       "      <td>108198</td>\n",
       "      <td>1370_3</td>\n",
       "      <td>0.06</td>\n",
       "      <td>2018-07-18</td>\n",
       "      <td>1370</td>\n",
       "    </tr>\n",
       "    <tr>\n",
       "      <td>11027</td>\n",
       "      <td>1038_76</td>\n",
       "      <td>0.07</td>\n",
       "      <td>2018-12-30</td>\n",
       "      <td>1038</td>\n",
       "    </tr>\n",
       "    <tr>\n",
       "      <td>11399</td>\n",
       "      <td>1040_22</td>\n",
       "      <td>0.07</td>\n",
       "      <td>2018-11-23</td>\n",
       "      <td>1040</td>\n",
       "    </tr>\n",
       "  </tbody>\n",
       "</table>\n",
       "</div>"
      ],
      "text/plain": [
       "       session_id  mb_used session_date user_id\n",
       "15944    1055_402     0.03   2018-06-15    1055\n",
       "85722    1291_278     0.04   2018-08-10    1291\n",
       "108198     1370_3     0.06   2018-07-18    1370\n",
       "11027     1038_76     0.07   2018-12-30    1038\n",
       "11399     1040_22     0.07   2018-11-23    1040"
      ]
     },
     "execution_count": 9,
     "metadata": {},
     "output_type": "execute_result"
    }
   ],
   "source": [
    "internet.query('mb_used != 0').sort_values(by='mb_used').head()"
   ]
  },
  {
   "cell_type": "markdown",
   "metadata": {},
   "source": [
    "Из данных таблицы можно сделать предположение, что интернет-сессии размером меньше 0.03Мб фиксируются как нулевые, но это не совсем корректно. Проверю распределение объема трафика на меньшем промежутке:"
   ]
  },
  {
   "cell_type": "code",
   "execution_count": 10,
   "metadata": {},
   "outputs": [
    {
     "data": {
      "image/png": "[encoded data removed]",
      "text/plain": [
       "<Figure size 432x288 with 1 Axes>"
      ]
     },
     "metadata": {
      "needs_background": "light"
     },
     "output_type": "display_data"
    }
   ],
   "source": [
    "internet['mb_used'].hist(bins=5, range=(0, 50));"
   ]
  },
  {
   "cell_type": "markdown",
   "metadata": {},
   "source": [
    "Не принимаю предположение о пороговом значении в 0.03Мб, т.к. на промежутке от 0.01 до 0.02 не может быть сосредоточено 13% всех интернет-сессий, слишком большое значение. Проверю зависимость появления нулей от даты сессии, может, был какой-то сбой при обработке."
   ]
  },
  {
   "cell_type": "code",
   "execution_count": 11,
   "metadata": {},
   "outputs": [
    {
     "name": "stdout",
     "output_type": "stream",
     "text": [
      "364\n"
     ]
    }
   ],
   "source": [
    "print(internet.query('mb_used == 0').groupby('session_date')['session_date'].unique().count())"
   ]
  },
  {
   "cell_type": "markdown",
   "metadata": {},
   "source": [
    "Нули встречаются по всем датам года, поэтому предположение о техническом сбое можно отвергнуть."
   ]
  },
  {
   "cell_type": "markdown",
   "metadata": {},
   "source": [
    "Проверю уникальность нулевых сессий, может, нулевые сессии - это уже загруженные страницы в кэш или что-то подобное, в этом случае у нулевых сессий будет идентичный `session_id`. Проверю гипотезу. Посчитаю количество уникальных `session_id` и сравню с длиной всего списка. Если значения равны, то номера нулевых сессий уникальны и гипотеза подтверждена не будет. "
   ]
  },
  {
   "cell_type": "code",
   "execution_count": 12,
   "metadata": {},
   "outputs": [
    {
     "name": "stdout",
     "output_type": "stream",
     "text": [
      "Гипотеза о том, что нулевая сессия - это продолжение ранее запущенной сессии\n",
      "не подтверждена!\n"
     ]
    }
   ],
   "source": [
    "print('Гипотеза о том, что нулевая сессия - это продолжение ранее запущенной сессии')\n",
    "if len(internet) == len(internet['session_id'].unique()):\n",
    "    print('не подтверждена!')\n",
    "else:\n",
    "    print('нуждается в дополнительной проработке')"
   ]
  },
  {
   "cell_type": "markdown",
   "metadata": {},
   "source": [
    "Т.к. не подтвердилось ни одно предположение, скорее всего - это ошибочные сессии, заполнить нули в столбце длительность интернет-сессий не удается ни по какому принципу, а нулевые значения могут повлиять на результаты анализа при анализе трафика, принимаю решение исключить строки с нулевыми значениями из выборки."
   ]
  },
  {
   "cell_type": "code",
   "execution_count": 13,
   "metadata": {},
   "outputs": [
    {
     "name": "stdout",
     "output_type": "stream",
     "text": [
      "Исходное количество строк - 149396\n",
      "После удаления - 129798\n"
     ]
    }
   ],
   "source": [
    "print('Исходное количество строк -', len(internet))\n",
    "internet = internet.query('mb_used != 0')\n",
    "internet = internet.reset_index(drop=True)\n",
    "print('После удаления -', len(internet), )"
   ]
  },
  {
   "cell_type": "markdown",
   "metadata": {},
   "source": [
    "Перестрою гистограмму распределения:"
   ]
  },
  {
   "cell_type": "code",
   "execution_count": 14,
   "metadata": {},
   "outputs": [
    {
     "name": "stdout",
     "output_type": "stream",
     "text": [
      "count    129798.0\n",
      "mean        426.0\n",
      "std         256.0\n",
      "min           0.0\n",
      "25%         227.0\n",
      "50%         401.0\n",
      "75%         593.0\n",
      "max        1725.0\n",
      "Name: mb_used, dtype: float64\n"
     ]
    },
    {
     "data": {
      "image/png": "[encoded data removed]",
      "text/plain": [
       "<Figure size 432x288 with 1 Axes>"
      ]
     },
     "metadata": {
      "needs_background": "light"
     },
     "output_type": "display_data"
    }
   ],
   "source": [
    "print(round(internet['mb_used'].describe()))\n",
    "internet['mb_used'].hist(bins=50, range=(0, 1800));"
   ]
  },
  {
   "cell_type": "markdown",
   "metadata": {},
   "source": [
    "Рассмотрим полученные графики и описательную таблицу:\n",
    "\n",
    "* по гистограмме видно, что теперь значения объема трафика за сессию в данных соответствуют действительности, т.к. распределение близко к нормальному.\n",
    "\n",
    "* нижний «ус» диаграммы размаха упирается в 0, минимальное значение, верхний заканчивается около 1150 Мб это ориентировочная граница нормального размаха. Всё, что лежит за ней, считается выбросом. Более высокие значения рисуются отдельными точками, но сливаются в единую жирную линию: таких выбросов очень много. И всё же значения, которые отсёк верхний «ус» — редкие. Видно, насколько медиана (426 Мб) не стремится к длинному хвосту высоких значений.\n",
    "\n",
    "* в основном, пользователи используют от 227 до 593 Мб за одну интернет-сессию."
   ]
  },
  {
   "cell_type": "markdown",
   "metadata": {},
   "source": [
    "#### Обработка данных в столбце duration"
   ]
  },
  {
   "cell_type": "markdown",
   "metadata": {},
   "source": [
    "Проанализирую значения длительности звонков в таблице `calls`:"
   ]
  },
  {
   "cell_type": "code",
   "execution_count": 15,
   "metadata": {},
   "outputs": [
    {
     "name": "stdout",
     "output_type": "stream",
     "text": [
      "count    202607.0\n",
      "mean          7.0\n",
      "std           6.0\n",
      "min           0.0\n",
      "25%           1.0\n",
      "50%           6.0\n",
      "75%          11.0\n",
      "max          38.0\n",
      "Name: duration, dtype: float64\n"
     ]
    },
    {
     "data": {
      "image/png": "[encoded data removed]",
      "text/plain": [
       "<Figure size 1080x432 with 2 Axes>"
      ]
     },
     "metadata": {
      "needs_background": "light"
     },
     "output_type": "display_data"
    }
   ],
   "source": [
    "print(round(calls['duration'].describe()))\n",
    "\n",
    "fig, axes = plt.subplots(1,2,figsize=(15,6))\n",
    "calls['duration'].hist(bins=50, range=(0, 40), ax=axes[0])\n",
    "calls.boxplot(('duration'), ax=axes[1])\n",
    "plt.ylim(0, 40);"
   ]
  },
  {
   "cell_type": "markdown",
   "metadata": {},
   "source": [
    "Выброс в нуле - это не ошибка, а пропущенные звонки, их буду обрабатывать отдельно во избежание искажения статистики. Отсеку пропущенные звонки и построю гистограмму снова."
   ]
  },
  {
   "cell_type": "code",
   "execution_count": 16,
   "metadata": {},
   "outputs": [
    {
     "name": "stdout",
     "output_type": "stream",
     "text": [
      "count    162994.0\n",
      "mean          8.0\n",
      "std           5.0\n",
      "min           0.0\n",
      "25%           4.0\n",
      "50%           8.0\n",
      "75%          12.0\n",
      "max          38.0\n",
      "Name: duration, dtype: float64\n"
     ]
    },
    {
     "data": {
      "image/png": "[encoded data removed]",
      "text/plain": [
       "<Figure size 432x288 with 1 Axes>"
      ]
     },
     "metadata": {
      "needs_background": "light"
     },
     "output_type": "display_data"
    }
   ],
   "source": [
    "print(round(calls.query('duration != 0')['duration'].describe()))\n",
    "\n",
    "calls.query('duration != 0')['duration'].hist(bins=50, range=(0, 40));"
   ]
  },
  {
   "cell_type": "markdown",
   "metadata": {},
   "source": [
    "Проанализируем полученные графики и описательную таблицу:\n",
    "\n",
    "* по гистограмме видно, что длительность звонков в данных соответствуют действительности, т.к. распределение близко к нормальному.\n",
    "\n",
    "* нижний «ус» диаграммы размаха стремится к 0 - минимальному значению, верхний заканчивается около 25 минут - это ориентировочная граница нормального размаха. Всё, что лежит за ней - выбросы и их большое количество. И всё же значения, которые отсёк верхний «ус» — редкие. Видно, насколько медиана (7 минут) не стремится к длинному хвосту высоких значений.\n",
    "\n",
    "* в основном, продолжительность звонков составляет от 1 до 11 минут."
   ]
  },
  {
   "cell_type": "markdown",
   "metadata": {},
   "source": [
    "#### Выводы по разделу"
   ]
  },
  {
   "cell_type": "markdown",
   "metadata": {},
   "source": [
    "В результате проведенной работы выполнено переименование столбцов таблиц в соответствии с их содержимым и удаление ошибочных стобцов. Обнаруженные ошибочные записи в столбце `mb_used` таблицы `internet`, а именно, нулевые интернет-сессии были исключены из анализа."
   ]
  },
  {
   "cell_type": "markdown",
   "metadata": {},
   "source": [
    "### Расчеты"
   ]
  },
  {
   "cell_type": "markdown",
   "metadata": {},
   "source": [
    "Т.к. для моих расчетов понадобится группировка по месяцам, то добавлю в таблицы колонки `month`. Построю распределение значений по необходимым параметров по месяцам:"
   ]
  },
  {
   "cell_type": "code",
   "execution_count": 17,
   "metadata": {},
   "outputs": [
    {
     "data": {
      "image/png": "[encoded data removed]",
      "text/plain": [
       "<Figure size 432x288 with 1 Axes>"
      ]
     },
     "metadata": {
      "needs_background": "light"
     },
     "output_type": "display_data"
    }
   ],
   "source": [
    "calls['month'] = calls['call_date'].dt.month\n",
    "calls['month'].value_counts().sort_values().plot.bar(rot=0, title='Распределение израсходованных минут за 2018 год по месяцам');"
   ]
  },
  {
   "cell_type": "code",
   "execution_count": 18,
   "metadata": {},
   "outputs": [
    {
     "data": {
      "image/png": "[encoded data removed]",
      "text/plain": [
       "<Figure size 432x288 with 1 Axes>"
      ]
     },
     "metadata": {
      "needs_background": "light"
     },
     "output_type": "display_data"
    }
   ],
   "source": [
    "internet['month'] = internet['session_date'].dt.month\n",
    "internet['month'].value_counts().sort_values().plot.bar(rot=0, title='Распределение использованного трафика (в Мб) за 2018 год по месяцам');"
   ]
  },
  {
   "cell_type": "code",
   "execution_count": 19,
   "metadata": {},
   "outputs": [
    {
     "data": {
      "image/png": "[encoded data removed]",
      "text/plain": [
       "<Figure size 432x288 with 1 Axes>"
      ]
     },
     "metadata": {
      "needs_background": "light"
     },
     "output_type": "display_data"
    }
   ],
   "source": [
    "messages['month'] = messages['message_date'].dt.month\n",
    "messages['month'].value_counts().sort_values().plot.bar(rot=0, title='Распределение кол-ва коротких сообщений за 2018 год по месяцам');"
   ]
  },
  {
   "cell_type": "markdown",
   "metadata": {},
   "source": [
    "Из данных гистограмм можно сделать вывод о том, что от месяца к месяцу наблюдается явное увеличение по всем трем наблюдаемым параметрам: израсходованных минут, отправленных смс и использованному трафику. Значит. у компании все идет хорошо и выбрана правильная стратегрия развития."
   ]
  },
  {
   "cell_type": "markdown",
   "metadata": {},
   "source": [
    "#### Расчет данных для каждого пользователя по месяцам"
   ]
  },
  {
   "cell_type": "markdown",
   "metadata": {},
   "source": [
    "Учитывая условие, что компания всегда округляет секунды до минут, при чем каждый звонок округляется отдельно (даже если он длился всего 1 секунду, будет засчитан как 1 минута), прежде чем рассчитывать помесячную длительность, необходимо провести округление длительности звонков до минут. \n",
    "И уже далее, после занесения данных в таблицу, общий месячный интернет-трафик округлить в бо́льшую сторону — до гигабайт (разделю на 1024, чтобы получить гигабайты, округлю в бо́льшую сторону до целого и далее домножу снова на 1024, чтобы получить значение в мегабайтах), т.к. по условию - отдельные сессии веб-трафика не считаются."
   ]
  },
  {
   "cell_type": "code",
   "execution_count": 20,
   "metadata": {},
   "outputs": [
    {
     "name": "stdout",
     "output_type": "stream",
     "text": [
      "ДЛЯ КАЖДОГО ПОЛЬЗОВАТЕЛЯ\n",
      "количество выполненных звонков и израсходованных минут:\n",
      "   user_id  month  call_id  duration\n",
      "0     1000      5       22       159\n",
      "1     1000      6       43       172\n",
      "2     1000      7       47       340\n",
      "3     1000      8       52       408\n",
      "4     1000      9       58       466\n",
      "\n",
      "количество отправленных сообщений:\n",
      "   user_id  month  message_id\n",
      "0     1000      5          22\n",
      "1     1000      6          60\n",
      "2     1000      7          75\n",
      "3     1000      8          81\n",
      "4     1000      9          57\n",
      "\n",
      "израсходованного интернет-трафика:\n",
      "   user_id  month  mb_used\n",
      "0     1000      5     3072\n",
      "1     1000      6    23552\n",
      "2     1000      7    14336\n",
      "3     1000      8    14336\n",
      "4     1000      9    15360\n"
     ]
    }
   ],
   "source": [
    "print('ДЛЯ КАЖДОГО ПОЛЬЗОВАТЕЛЯ')\n",
    "\n",
    "# Расчет количества сделанных звонков и израсходованных минут разговора\n",
    "print('количество выполненных звонков и израсходованных минут:')\n",
    "calls['duration'] = np.ceil(calls['duration']).astype(int)\n",
    "calls = calls.groupby(['user_id', 'month']).agg({'call_id': 'count', 'duration': 'sum'}).reset_index()\n",
    "print(calls.head())\n",
    "print()\n",
    "\n",
    "# Расчет количества отправленных сообщений\n",
    "print('количество отправленных сообщений:')\n",
    "messages = messages.groupby(['user_id', 'month']).agg({'message_id': 'count'}).reset_index()\n",
    "print(messages.head())\n",
    "print()\n",
    "\n",
    "# Расчет израсходованного интернет-трафика\n",
    "print('израсходованного интернет-трафика:')\n",
    "internet = internet.groupby(['user_id', 'month']).agg({'mb_used': 'sum'}).reset_index()\n",
    "internet['mb_used'] = np.ceil(internet['mb_used'] / 1024).astype(int) * 1024\n",
    "print(internet.head())"
   ]
  },
  {
   "cell_type": "markdown",
   "metadata": {},
   "source": [
    "#### Формирование рабочей таблицы для проведения вычислений"
   ]
  },
  {
   "cell_type": "markdown",
   "metadata": {},
   "source": [
    "Для выполнения необходимых вычислений мне нужна таблица, объединяющая данные всех таблиц: `calls`, `messages`, `internet`, `tariffs` и `user_id`. Выполню объединение и исключу неинформативные столбцы:"
   ]
  },
  {
   "cell_type": "code",
   "execution_count": 21,
   "metadata": {},
   "outputs": [
    {
     "data": {
      "text/html": [
       "<div>\n",
       "<style scoped>\n",
       "    .dataframe tbody tr th:only-of-type {\n",
       "        vertical-align: middle;\n",
       "    }\n",
       "\n",
       "    .dataframe tbody tr th {\n",
       "        vertical-align: top;\n",
       "    }\n",
       "\n",
       "    .dataframe thead th {\n",
       "        text-align: right;\n",
       "    }\n",
       "</style>\n",
       "<table border=\"1\" class=\"dataframe\">\n",
       "  <thead>\n",
       "    <tr style=\"text-align: right;\">\n",
       "      <th></th>\n",
       "      <th>user_id</th>\n",
       "      <th>month</th>\n",
       "      <th>call_id</th>\n",
       "      <th>duration</th>\n",
       "      <th>mb_used</th>\n",
       "      <th>message_id</th>\n",
       "      <th>age</th>\n",
       "      <th>churn_date</th>\n",
       "      <th>city</th>\n",
       "      <th>reg_date</th>\n",
       "      <th>tariff_name</th>\n",
       "      <th>messages_included</th>\n",
       "      <th>mb_per_month_included</th>\n",
       "      <th>minutes_included</th>\n",
       "      <th>rub_monthly_fee</th>\n",
       "      <th>rub_per_gb</th>\n",
       "      <th>rub_per_message</th>\n",
       "      <th>rub_per_minute</th>\n",
       "    </tr>\n",
       "  </thead>\n",
       "  <tbody>\n",
       "    <tr>\n",
       "      <td>0</td>\n",
       "      <td>1000</td>\n",
       "      <td>5</td>\n",
       "      <td>22.0</td>\n",
       "      <td>159.0</td>\n",
       "      <td>3072.0</td>\n",
       "      <td>22.0</td>\n",
       "      <td>52</td>\n",
       "      <td>NaT</td>\n",
       "      <td>Краснодар</td>\n",
       "      <td>2018-05-25</td>\n",
       "      <td>ultra</td>\n",
       "      <td>1000</td>\n",
       "      <td>30720</td>\n",
       "      <td>3000</td>\n",
       "      <td>1950</td>\n",
       "      <td>150</td>\n",
       "      <td>1</td>\n",
       "      <td>1</td>\n",
       "    </tr>\n",
       "    <tr>\n",
       "      <td>1</td>\n",
       "      <td>1000</td>\n",
       "      <td>6</td>\n",
       "      <td>43.0</td>\n",
       "      <td>172.0</td>\n",
       "      <td>23552.0</td>\n",
       "      <td>60.0</td>\n",
       "      <td>52</td>\n",
       "      <td>NaT</td>\n",
       "      <td>Краснодар</td>\n",
       "      <td>2018-05-25</td>\n",
       "      <td>ultra</td>\n",
       "      <td>1000</td>\n",
       "      <td>30720</td>\n",
       "      <td>3000</td>\n",
       "      <td>1950</td>\n",
       "      <td>150</td>\n",
       "      <td>1</td>\n",
       "      <td>1</td>\n",
       "    </tr>\n",
       "    <tr>\n",
       "      <td>2</td>\n",
       "      <td>1000</td>\n",
       "      <td>7</td>\n",
       "      <td>47.0</td>\n",
       "      <td>340.0</td>\n",
       "      <td>14336.0</td>\n",
       "      <td>75.0</td>\n",
       "      <td>52</td>\n",
       "      <td>NaT</td>\n",
       "      <td>Краснодар</td>\n",
       "      <td>2018-05-25</td>\n",
       "      <td>ultra</td>\n",
       "      <td>1000</td>\n",
       "      <td>30720</td>\n",
       "      <td>3000</td>\n",
       "      <td>1950</td>\n",
       "      <td>150</td>\n",
       "      <td>1</td>\n",
       "      <td>1</td>\n",
       "    </tr>\n",
       "    <tr>\n",
       "      <td>3</td>\n",
       "      <td>1000</td>\n",
       "      <td>8</td>\n",
       "      <td>52.0</td>\n",
       "      <td>408.0</td>\n",
       "      <td>14336.0</td>\n",
       "      <td>81.0</td>\n",
       "      <td>52</td>\n",
       "      <td>NaT</td>\n",
       "      <td>Краснодар</td>\n",
       "      <td>2018-05-25</td>\n",
       "      <td>ultra</td>\n",
       "      <td>1000</td>\n",
       "      <td>30720</td>\n",
       "      <td>3000</td>\n",
       "      <td>1950</td>\n",
       "      <td>150</td>\n",
       "      <td>1</td>\n",
       "      <td>1</td>\n",
       "    </tr>\n",
       "    <tr>\n",
       "      <td>4</td>\n",
       "      <td>1000</td>\n",
       "      <td>9</td>\n",
       "      <td>58.0</td>\n",
       "      <td>466.0</td>\n",
       "      <td>15360.0</td>\n",
       "      <td>57.0</td>\n",
       "      <td>52</td>\n",
       "      <td>NaT</td>\n",
       "      <td>Краснодар</td>\n",
       "      <td>2018-05-25</td>\n",
       "      <td>ultra</td>\n",
       "      <td>1000</td>\n",
       "      <td>30720</td>\n",
       "      <td>3000</td>\n",
       "      <td>1950</td>\n",
       "      <td>150</td>\n",
       "      <td>1</td>\n",
       "      <td>1</td>\n",
       "    </tr>\n",
       "  </tbody>\n",
       "</table>\n",
       "</div>"
      ],
      "text/plain": [
       "  user_id  month  call_id  duration  mb_used  message_id  age churn_date  \\\n",
       "0    1000      5     22.0     159.0   3072.0        22.0   52        NaT   \n",
       "1    1000      6     43.0     172.0  23552.0        60.0   52        NaT   \n",
       "2    1000      7     47.0     340.0  14336.0        75.0   52        NaT   \n",
       "3    1000      8     52.0     408.0  14336.0        81.0   52        NaT   \n",
       "4    1000      9     58.0     466.0  15360.0        57.0   52        NaT   \n",
       "\n",
       "        city   reg_date tariff_name  messages_included  mb_per_month_included  \\\n",
       "0  Краснодар 2018-05-25       ultra               1000                  30720   \n",
       "1  Краснодар 2018-05-25       ultra               1000                  30720   \n",
       "2  Краснодар 2018-05-25       ultra               1000                  30720   \n",
       "3  Краснодар 2018-05-25       ultra               1000                  30720   \n",
       "4  Краснодар 2018-05-25       ultra               1000                  30720   \n",
       "\n",
       "   minutes_included  rub_monthly_fee  rub_per_gb  rub_per_message  \\\n",
       "0              3000             1950         150                1   \n",
       "1              3000             1950         150                1   \n",
       "2              3000             1950         150                1   \n",
       "3              3000             1950         150                1   \n",
       "4              3000             1950         150                1   \n",
       "\n",
       "   rub_per_minute  \n",
       "0               1  \n",
       "1               1  \n",
       "2               1  \n",
       "3               1  \n",
       "4               1  "
      ]
     },
     "metadata": {},
     "output_type": "display_data"
    },
    {
     "name": "stdout",
     "output_type": "stream",
     "text": [
      "\n",
      "<class 'pandas.core.frame.DataFrame'>\n",
      "Int64Index: 3214 entries, 0 to 3213\n",
      "Data columns (total 18 columns):\n",
      "user_id                  3214 non-null object\n",
      "month                    3214 non-null int64\n",
      "call_id                  3174 non-null float64\n",
      "duration                 3174 non-null float64\n",
      "mb_used                  3201 non-null float64\n",
      "message_id               2717 non-null float64\n",
      "age                      3214 non-null int64\n",
      "churn_date               187 non-null datetime64[ns]\n",
      "city                     3214 non-null object\n",
      "reg_date                 3214 non-null datetime64[ns]\n",
      "tariff_name              3214 non-null object\n",
      "messages_included        3214 non-null int64\n",
      "mb_per_month_included    3214 non-null int64\n",
      "minutes_included         3214 non-null int64\n",
      "rub_monthly_fee          3214 non-null int64\n",
      "rub_per_gb               3214 non-null int64\n",
      "rub_per_message          3214 non-null int64\n",
      "rub_per_minute           3214 non-null int64\n",
      "dtypes: datetime64[ns](2), float64(4), int64(9), object(3)\n",
      "memory usage: 477.1+ KB\n"
     ]
    }
   ],
   "source": [
    "final = calls.merge(internet, on=['user_id', 'month'], how='outer')\n",
    "final = final.merge(messages, on=['user_id', 'month'], how='outer')\n",
    "final = final.merge(users, on=['user_id'], how='left')\n",
    "final = final.merge(tariffs, on=['tariff_name'], how='left')\n",
    "final.drop(['first_name', 'last_name'], axis=1, inplace=True)\n",
    "display(final.head())\n",
    "print()\n",
    "final.info()"
   ]
  },
  {
   "cell_type": "markdown",
   "metadata": {},
   "source": [
    "В сформированной таблице вижу следующие ошибки:\n",
    "* пропущенные значения в столбцах `call_id`, `mb_used`, `duration`, `message_id`. Это значит, что в данном месяце данный пользователь не использовал интернет, не совершал звонки (или только принимал) или не отсылал короткие смс-сообщения соответственно. Все пропущенные данные буду заменять нулями, т.к. в противном случае они обработаны не будут. Пропуски в столбце `churn_date`, как уже было обозначено ранее - это значит, что тариф ещё действовал на момент выгрузки данных.\n",
    "* вещественный тип данных `float64` для столбцов `call_id`, `message_id`, `duration` и `mb_used` необходимо заменить на целочисленный - `int`, т.к. проводилось округление по условиям тарифов."
   ]
  },
  {
   "cell_type": "code",
   "execution_count": 22,
   "metadata": {},
   "outputs": [
    {
     "name": "stdout",
     "output_type": "stream",
     "text": [
      "<class 'pandas.core.frame.DataFrame'>\n",
      "Int64Index: 3214 entries, 0 to 3213\n",
      "Data columns (total 4 columns):\n",
      "call_id       3214 non-null float64\n",
      "mb_used       3214 non-null float64\n",
      "duration      3214 non-null float64\n",
      "message_id    3214 non-null float64\n",
      "dtypes: float64(4)\n",
      "memory usage: 125.5 KB\n"
     ]
    }
   ],
   "source": [
    "# Заполнение пропусков\n",
    "values = ['call_id', 'mb_used', 'duration', 'message_id']\n",
    "for element in values:\n",
    "    final.loc[final[element].isna(), element] = 0\n",
    "# Проверка    \n",
    "final[['call_id', 'mb_used', 'duration', 'message_id']].info()"
   ]
  },
  {
   "cell_type": "code",
   "execution_count": 23,
   "metadata": {},
   "outputs": [
    {
     "name": "stdout",
     "output_type": "stream",
     "text": [
      "Исходный тип данных:\n",
      "call_id - float64\n",
      "После изменения:\n",
      "call_id - int64\n",
      "\n",
      "Исходный тип данных:\n",
      "message_id - float64\n",
      "После изменения:\n",
      "message_id - int64\n",
      "\n",
      "Исходный тип данных:\n",
      "duration - float64\n",
      "После изменения:\n",
      "duration - int64\n",
      "\n",
      "Исходный тип данных:\n",
      "mb_used - float64\n",
      "После изменения:\n",
      "mb_used - int64\n",
      "\n"
     ]
    }
   ],
   "source": [
    "values = ['call_id', 'message_id', 'duration', 'mb_used']\n",
    "for element in values:\n",
    "    print('Исходный тип данных:')\n",
    "    print(element, '-', final[element].dtypes)\n",
    "\n",
    "# Приведение столбцов в строковый формат\n",
    "    final[element] = final[element].astype('int')\n",
    "\n",
    "# Проверка\n",
    "    print('После изменения:')\n",
    "    print(element, '-', final[element].dtypes)\n",
    "    print()"
   ]
  },
  {
   "cell_type": "markdown",
   "metadata": {},
   "source": [
    "#### Расчет помесячной выручки с пользователей"
   ]
  },
  {
   "cell_type": "markdown",
   "metadata": {},
   "source": [
    "mb_used\tmessage_id\tage\tchurn_date\tcity\ttariff_name\tmessages_included\tmb_per_month_included\tminutes_included\trub_monthly_fee\trub_per_gb\trub_per_message\trub_per_minute"
   ]
  },
  {
   "cell_type": "markdown",
   "metadata": {},
   "source": [
    "Для расчета помесячной выручки с каждого пользователя необходимо:\n",
    "* вычесть бесплатный лимит из суммарного количества звонков, сообщений и интернет-трафика;\n",
    "* остаток умножить на значение из тарифного плана;\n",
    "* прибавить абонентскую плату, соответствующую тарифному плану."
   ]
  },
  {
   "cell_type": "code",
   "execution_count": 24,
   "metadata": {},
   "outputs": [],
   "source": [
    "# Добавляю разницу между фактическими значениями параметров и включенными в тариф\n",
    "final['min'] = final['minutes_included'] - final['duration']\n",
    "final['int'] = final['mb_per_month_included'] - final['mb_used']\n",
    "final['sms'] = final['messages_included'] - final['message_id']\n",
    "#print(final)"
   ]
  },
  {
   "cell_type": "code",
   "execution_count": 25,
   "metadata": {},
   "outputs": [
    {
     "name": "stdout",
     "output_type": "stream",
     "text": [
      "Доля месяцев, в которые пользователи не уложились в тариф\n",
      "по количеству израсходованных минут - 23.5%\n",
      "по количеству отправленных sms - 17.5%\n",
      "по количеству израсходованного интернет-трафика - 44.7%\n"
     ]
    }
   ],
   "source": [
    "print('Доля месяцев, в которые пользователи не уложились в тариф')\n",
    "print('по количеству израсходованных минут - {:.1%}'.format(len(final.query('min < 0')) / len(final)))\n",
    "print('по количеству отправленных sms - {:.1%}'.format(len(final.query('sms < 0')) / len(final)))\n",
    "print('по количеству израсходованного интернет-трафика - {:.1%}'.format(len(final.query('int < 0')) / len(final)))"
   ]
  },
  {
   "cell_type": "markdown",
   "metadata": {},
   "source": [
    "Можно сделать вывод, что почти половина пользователей \"не влезает\" в тариф по количеству предоставляемого в пакете интернета, четверти пользователей не хватает количества предоставляемых минут разговора, а доля людей, которые отправляют sms-ки сверх пакета, достаточно мала и составляет всего 17.5%."
   ]
  },
  {
   "cell_type": "code",
   "execution_count": 26,
   "metadata": {},
   "outputs": [],
   "source": [
    "# Для всех отрицательных значений (превышение лимита) посчитаю добавления по тарифу:\n",
    "final.loc[final['min'] >= 0, 'min'] = 0\n",
    "final.loc[final['min'] < 0, 'min'] = (final['min'].abs()) * final['rub_per_minute']\n",
    "\n",
    "final.loc[final['int'] >= 0, 'int'] = 0\n",
    "final.loc[final['int'] < 0, 'int'] = (np.ceil(final['int'] / 1024).abs().astype(int)) * final['rub_per_gb']\n",
    "\n",
    "final.loc[final['sms'] >= 0, 'sms'] = 0\n",
    "final.loc[final['sms'] < 0, 'sms'] = (final['sms'].abs()) * final['rub_per_message']"
   ]
  },
  {
   "cell_type": "code",
   "execution_count": 27,
   "metadata": {},
   "outputs": [],
   "source": [
    "# Добавляю абонентскую плату\n",
    "final['revenue'] = final['min'] + final['int'] + final['sms'] + final['rub_monthly_fee']\n",
    "# Оставлю в таблице только те столбцы, которые будут использованы в исследовании\n",
    "final = final[['user_id', 'month', 'call_id', 'duration', 'mb_used', 'message_id', 'age', 'city', 'tariff_name', 'revenue']]\n",
    "final = final.rename(columns={'message_id': 'sms_count', 'call_id': 'calls_count'})"
   ]
  },
  {
   "cell_type": "markdown",
   "metadata": {},
   "source": [
    "#### Вывод по разделу"
   ]
  },
  {
   "cell_type": "markdown",
   "metadata": {},
   "source": [
    "Сформирована таблица, в которой содержатся все данные помесячно по каждому пользователю: сколько в месяц потрачено минут, сколько отправлено коротких сообщений и сделано звонков и сколько израсходовано интернет-трафика. Также в сводной таблице отражены данные возраста пользователя, из какого он города, наименование тарифа, который он использует, и сколько в месяц он заплатил за связь с учетом того, хватило ли ему услуг, включенных в абонентскую плату или нет. Таблица, с которой я буду работать, выглядит следующим образом:"
   ]
  },
  {
   "cell_type": "code",
   "execution_count": 28,
   "metadata": {},
   "outputs": [
    {
     "data": {
      "text/html": [
       "<div>\n",
       "<style scoped>\n",
       "    .dataframe tbody tr th:only-of-type {\n",
       "        vertical-align: middle;\n",
       "    }\n",
       "\n",
       "    .dataframe tbody tr th {\n",
       "        vertical-align: top;\n",
       "    }\n",
       "\n",
       "    .dataframe thead th {\n",
       "        text-align: right;\n",
       "    }\n",
       "</style>\n",
       "<table border=\"1\" class=\"dataframe\">\n",
       "  <thead>\n",
       "    <tr style=\"text-align: right;\">\n",
       "      <th></th>\n",
       "      <th>user_id</th>\n",
       "      <th>month</th>\n",
       "      <th>calls_count</th>\n",
       "      <th>duration</th>\n",
       "      <th>mb_used</th>\n",
       "      <th>sms_count</th>\n",
       "      <th>age</th>\n",
       "      <th>city</th>\n",
       "      <th>tariff_name</th>\n",
       "      <th>revenue</th>\n",
       "    </tr>\n",
       "  </thead>\n",
       "  <tbody>\n",
       "    <tr>\n",
       "      <td>0</td>\n",
       "      <td>1000</td>\n",
       "      <td>5</td>\n",
       "      <td>22</td>\n",
       "      <td>159</td>\n",
       "      <td>3072</td>\n",
       "      <td>22</td>\n",
       "      <td>52</td>\n",
       "      <td>Краснодар</td>\n",
       "      <td>ultra</td>\n",
       "      <td>1950</td>\n",
       "    </tr>\n",
       "    <tr>\n",
       "      <td>1</td>\n",
       "      <td>1000</td>\n",
       "      <td>6</td>\n",
       "      <td>43</td>\n",
       "      <td>172</td>\n",
       "      <td>23552</td>\n",
       "      <td>60</td>\n",
       "      <td>52</td>\n",
       "      <td>Краснодар</td>\n",
       "      <td>ultra</td>\n",
       "      <td>1950</td>\n",
       "    </tr>\n",
       "    <tr>\n",
       "      <td>2</td>\n",
       "      <td>1000</td>\n",
       "      <td>7</td>\n",
       "      <td>47</td>\n",
       "      <td>340</td>\n",
       "      <td>14336</td>\n",
       "      <td>75</td>\n",
       "      <td>52</td>\n",
       "      <td>Краснодар</td>\n",
       "      <td>ultra</td>\n",
       "      <td>1950</td>\n",
       "    </tr>\n",
       "    <tr>\n",
       "      <td>3</td>\n",
       "      <td>1000</td>\n",
       "      <td>8</td>\n",
       "      <td>52</td>\n",
       "      <td>408</td>\n",
       "      <td>14336</td>\n",
       "      <td>81</td>\n",
       "      <td>52</td>\n",
       "      <td>Краснодар</td>\n",
       "      <td>ultra</td>\n",
       "      <td>1950</td>\n",
       "    </tr>\n",
       "    <tr>\n",
       "      <td>4</td>\n",
       "      <td>1000</td>\n",
       "      <td>9</td>\n",
       "      <td>58</td>\n",
       "      <td>466</td>\n",
       "      <td>15360</td>\n",
       "      <td>57</td>\n",
       "      <td>52</td>\n",
       "      <td>Краснодар</td>\n",
       "      <td>ultra</td>\n",
       "      <td>1950</td>\n",
       "    </tr>\n",
       "  </tbody>\n",
       "</table>\n",
       "</div>"
      ],
      "text/plain": [
       "  user_id  month  calls_count  duration  mb_used  sms_count  age       city  \\\n",
       "0    1000      5           22       159     3072         22   52  Краснодар   \n",
       "1    1000      6           43       172    23552         60   52  Краснодар   \n",
       "2    1000      7           47       340    14336         75   52  Краснодар   \n",
       "3    1000      8           52       408    14336         81   52  Краснодар   \n",
       "4    1000      9           58       466    15360         57   52  Краснодар   \n",
       "\n",
       "  tariff_name  revenue  \n",
       "0       ultra     1950  \n",
       "1       ultra     1950  \n",
       "2       ultra     1950  \n",
       "3       ultra     1950  \n",
       "4       ultra     1950  "
      ]
     },
     "metadata": {},
     "output_type": "display_data"
    }
   ],
   "source": [
    "display(final.head())"
   ]
  },
  {
   "cell_type": "markdown",
   "metadata": {},
   "source": [
    "### Анализ данных"
   ]
  },
  {
   "cell_type": "markdown",
   "metadata": {},
   "source": [
    "Опишу поведение клиентов оператора, исходя из выборки. Подсчитаю, сколько минут разговора, сколько сообщений, какой объём интернет-трафика требуется пользователям каждого тарифа в месяц. А также помесячную выручку с каждого тарифа."
   ]
  },
  {
   "cell_type": "code",
   "execution_count": 29,
   "metadata": {},
   "outputs": [
    {
     "name": "stdout",
     "output_type": "stream",
     "text": [
      "Распределение кол-ва минут разговора для различных тарифов:\n"
     ]
    },
    {
     "data": {
      "text/html": [
       "<div>\n",
       "<style scoped>\n",
       "    .dataframe tbody tr th:only-of-type {\n",
       "        vertical-align: middle;\n",
       "    }\n",
       "\n",
       "    .dataframe tbody tr th {\n",
       "        vertical-align: top;\n",
       "    }\n",
       "\n",
       "    .dataframe thead th {\n",
       "        text-align: right;\n",
       "    }\n",
       "</style>\n",
       "<table border=\"1\" class=\"dataframe\">\n",
       "  <thead>\n",
       "    <tr style=\"text-align: right;\">\n",
       "      <th></th>\n",
       "      <th>Янв</th>\n",
       "      <th>Фев</th>\n",
       "      <th>Мар</th>\n",
       "      <th>Апр</th>\n",
       "      <th>Май</th>\n",
       "      <th>Июн</th>\n",
       "      <th>Июл</th>\n",
       "      <th>Авг</th>\n",
       "      <th>Сен</th>\n",
       "      <th>Окт</th>\n",
       "      <th>Ноя</th>\n",
       "      <th>Дек</th>\n",
       "    </tr>\n",
       "    <tr>\n",
       "      <th>tariff_name</th>\n",
       "      <th></th>\n",
       "      <th></th>\n",
       "      <th></th>\n",
       "      <th></th>\n",
       "      <th></th>\n",
       "      <th></th>\n",
       "      <th></th>\n",
       "      <th></th>\n",
       "      <th></th>\n",
       "      <th></th>\n",
       "      <th></th>\n",
       "      <th></th>\n",
       "    </tr>\n",
       "  </thead>\n",
       "  <tbody>\n",
       "    <tr>\n",
       "      <td>smart</td>\n",
       "      <td>6931</td>\n",
       "      <td>17324</td>\n",
       "      <td>30034</td>\n",
       "      <td>41119</td>\n",
       "      <td>54618</td>\n",
       "      <td>64885</td>\n",
       "      <td>82079</td>\n",
       "      <td>99045</td>\n",
       "      <td>111439</td>\n",
       "      <td>125284</td>\n",
       "      <td>137544</td>\n",
       "      <td>161275</td>\n",
       "    </tr>\n",
       "    <tr>\n",
       "      <td>ultra</td>\n",
       "      <td>3853</td>\n",
       "      <td>7131</td>\n",
       "      <td>18117</td>\n",
       "      <td>25191</td>\n",
       "      <td>34192</td>\n",
       "      <td>40295</td>\n",
       "      <td>49667</td>\n",
       "      <td>54653</td>\n",
       "      <td>62036</td>\n",
       "      <td>68644</td>\n",
       "      <td>72545</td>\n",
       "      <td>82400</td>\n",
       "    </tr>\n",
       "  </tbody>\n",
       "</table>\n",
       "</div>"
      ],
      "text/plain": [
       "              Янв    Фев    Мар    Апр    Май    Июн    Июл    Авг     Сен  \\\n",
       "tariff_name                                                                  \n",
       "smart        6931  17324  30034  41119  54618  64885  82079  99045  111439   \n",
       "ultra        3853   7131  18117  25191  34192  40295  49667  54653   62036   \n",
       "\n",
       "                Окт     Ноя     Дек  \n",
       "tariff_name                          \n",
       "smart        125284  137544  161275  \n",
       "ultra         68644   72545   82400  "
      ]
     },
     "metadata": {},
     "output_type": "display_data"
    },
    {
     "name": "stdout",
     "output_type": "stream",
     "text": [
      "\n",
      "Распределение кол-ва отправленных сообщений для различных тарифов:\n"
     ]
    },
    {
     "data": {
      "text/html": [
       "<div>\n",
       "<style scoped>\n",
       "    .dataframe tbody tr th:only-of-type {\n",
       "        vertical-align: middle;\n",
       "    }\n",
       "\n",
       "    .dataframe tbody tr th {\n",
       "        vertical-align: top;\n",
       "    }\n",
       "\n",
       "    .dataframe thead th {\n",
       "        text-align: right;\n",
       "    }\n",
       "</style>\n",
       "<table border=\"1\" class=\"dataframe\">\n",
       "  <thead>\n",
       "    <tr style=\"text-align: right;\">\n",
       "      <th></th>\n",
       "      <th>Янв</th>\n",
       "      <th>Фев</th>\n",
       "      <th>Мар</th>\n",
       "      <th>Апр</th>\n",
       "      <th>Май</th>\n",
       "      <th>Июн</th>\n",
       "      <th>Июл</th>\n",
       "      <th>Авг</th>\n",
       "      <th>Сен</th>\n",
       "      <th>Окт</th>\n",
       "      <th>Ноя</th>\n",
       "      <th>Дек</th>\n",
       "    </tr>\n",
       "    <tr>\n",
       "      <th>tariff_name</th>\n",
       "      <th></th>\n",
       "      <th></th>\n",
       "      <th></th>\n",
       "      <th></th>\n",
       "      <th></th>\n",
       "      <th></th>\n",
       "      <th></th>\n",
       "      <th></th>\n",
       "      <th></th>\n",
       "      <th></th>\n",
       "      <th></th>\n",
       "      <th></th>\n",
       "    </tr>\n",
       "  </thead>\n",
       "  <tbody>\n",
       "    <tr>\n",
       "      <td>smart</td>\n",
       "      <td>620</td>\n",
       "      <td>1397</td>\n",
       "      <td>2453</td>\n",
       "      <td>3443</td>\n",
       "      <td>4762</td>\n",
       "      <td>5478</td>\n",
       "      <td>6784</td>\n",
       "      <td>7905</td>\n",
       "      <td>8746</td>\n",
       "      <td>9927</td>\n",
       "      <td>10768</td>\n",
       "      <td>12130</td>\n",
       "    </tr>\n",
       "    <tr>\n",
       "      <td>ultra</td>\n",
       "      <td>304</td>\n",
       "      <td>527</td>\n",
       "      <td>1195</td>\n",
       "      <td>1736</td>\n",
       "      <td>2536</td>\n",
       "      <td>3505</td>\n",
       "      <td>4536</td>\n",
       "      <td>5183</td>\n",
       "      <td>6013</td>\n",
       "      <td>7187</td>\n",
       "      <td>7476</td>\n",
       "      <td>8425</td>\n",
       "    </tr>\n",
       "  </tbody>\n",
       "</table>\n",
       "</div>"
      ],
      "text/plain": [
       "             Янв   Фев   Мар   Апр   Май   Июн   Июл   Авг   Сен   Окт    Ноя  \\\n",
       "tariff_name                                                                     \n",
       "smart        620  1397  2453  3443  4762  5478  6784  7905  8746  9927  10768   \n",
       "ultra        304   527  1195  1736  2536  3505  4536  5183  6013  7187   7476   \n",
       "\n",
       "               Дек  \n",
       "tariff_name         \n",
       "smart        12130  \n",
       "ultra         8425  "
      ]
     },
     "metadata": {},
     "output_type": "display_data"
    },
    {
     "name": "stdout",
     "output_type": "stream",
     "text": [
      "\n",
      "Распределение объема израсходованного интернет-трафика для различных тарифов (в Гб):\n"
     ]
    },
    {
     "data": {
      "text/html": [
       "<div>\n",
       "<style scoped>\n",
       "    .dataframe tbody tr th:only-of-type {\n",
       "        vertical-align: middle;\n",
       "    }\n",
       "\n",
       "    .dataframe tbody tr th {\n",
       "        vertical-align: top;\n",
       "    }\n",
       "\n",
       "    .dataframe thead th {\n",
       "        text-align: right;\n",
       "    }\n",
       "</style>\n",
       "<table border=\"1\" class=\"dataframe\">\n",
       "  <thead>\n",
       "    <tr style=\"text-align: right;\">\n",
       "      <th></th>\n",
       "      <th>Янв</th>\n",
       "      <th>Фев</th>\n",
       "      <th>Мар</th>\n",
       "      <th>Апр</th>\n",
       "      <th>Май</th>\n",
       "      <th>Июн</th>\n",
       "      <th>Июл</th>\n",
       "      <th>Авг</th>\n",
       "      <th>Сен</th>\n",
       "      <th>Окт</th>\n",
       "      <th>Ноя</th>\n",
       "      <th>Дек</th>\n",
       "    </tr>\n",
       "    <tr>\n",
       "      <th>tariff_name</th>\n",
       "      <th></th>\n",
       "      <th></th>\n",
       "      <th></th>\n",
       "      <th></th>\n",
       "      <th></th>\n",
       "      <th></th>\n",
       "      <th></th>\n",
       "      <th></th>\n",
       "      <th></th>\n",
       "      <th></th>\n",
       "      <th></th>\n",
       "      <th></th>\n",
       "    </tr>\n",
       "  </thead>\n",
       "  <tbody>\n",
       "    <tr>\n",
       "      <td>smart</td>\n",
       "      <td>297</td>\n",
       "      <td>687</td>\n",
       "      <td>1173</td>\n",
       "      <td>1526</td>\n",
       "      <td>2243</td>\n",
       "      <td>2616</td>\n",
       "      <td>3191</td>\n",
       "      <td>3933</td>\n",
       "      <td>4262</td>\n",
       "      <td>4963</td>\n",
       "      <td>5372</td>\n",
       "      <td>6134</td>\n",
       "    </tr>\n",
       "    <tr>\n",
       "      <td>ultra</td>\n",
       "      <td>119</td>\n",
       "      <td>288</td>\n",
       "      <td>653</td>\n",
       "      <td>933</td>\n",
       "      <td>1298</td>\n",
       "      <td>1591</td>\n",
       "      <td>1866</td>\n",
       "      <td>2097</td>\n",
       "      <td>2213</td>\n",
       "      <td>2468</td>\n",
       "      <td>2654</td>\n",
       "      <td>3022</td>\n",
       "    </tr>\n",
       "  </tbody>\n",
       "</table>\n",
       "</div>"
      ],
      "text/plain": [
       "             Янв  Фев   Мар   Апр   Май   Июн   Июл   Авг   Сен   Окт   Ноя  \\\n",
       "tariff_name                                                                   \n",
       "smart        297  687  1173  1526  2243  2616  3191  3933  4262  4963  5372   \n",
       "ultra        119  288   653   933  1298  1591  1866  2097  2213  2468  2654   \n",
       "\n",
       "              Дек  \n",
       "tariff_name        \n",
       "smart        6134  \n",
       "ultra        3022  "
      ]
     },
     "metadata": {},
     "output_type": "display_data"
    },
    {
     "name": "stdout",
     "output_type": "stream",
     "text": [
      "Помесячная выручка пользователей тарифов (в рублях):\n"
     ]
    },
    {
     "data": {
      "text/html": [
       "<div>\n",
       "<style scoped>\n",
       "    .dataframe tbody tr th:only-of-type {\n",
       "        vertical-align: middle;\n",
       "    }\n",
       "\n",
       "    .dataframe tbody tr th {\n",
       "        vertical-align: top;\n",
       "    }\n",
       "\n",
       "    .dataframe thead th {\n",
       "        text-align: right;\n",
       "    }\n",
       "</style>\n",
       "<table border=\"1\" class=\"dataframe\">\n",
       "  <thead>\n",
       "    <tr style=\"text-align: right;\">\n",
       "      <th></th>\n",
       "      <th>Янв</th>\n",
       "      <th>Фев</th>\n",
       "      <th>Мар</th>\n",
       "      <th>Апр</th>\n",
       "      <th>Май</th>\n",
       "      <th>Июн</th>\n",
       "      <th>Июл</th>\n",
       "      <th>Авг</th>\n",
       "      <th>Сен</th>\n",
       "      <th>Окт</th>\n",
       "      <th>Ноя</th>\n",
       "      <th>Дек</th>\n",
       "    </tr>\n",
       "    <tr>\n",
       "      <th>tariff_name</th>\n",
       "      <th></th>\n",
       "      <th></th>\n",
       "      <th></th>\n",
       "      <th></th>\n",
       "      <th></th>\n",
       "      <th></th>\n",
       "      <th></th>\n",
       "      <th></th>\n",
       "      <th></th>\n",
       "      <th></th>\n",
       "      <th></th>\n",
       "      <th></th>\n",
       "    </tr>\n",
       "  </thead>\n",
       "  <tbody>\n",
       "    <tr>\n",
       "      <td>smart</td>\n",
       "      <td>24525</td>\n",
       "      <td>48001</td>\n",
       "      <td>89676</td>\n",
       "      <td>107866</td>\n",
       "      <td>168849</td>\n",
       "      <td>197459</td>\n",
       "      <td>246014</td>\n",
       "      <td>310340</td>\n",
       "      <td>324986</td>\n",
       "      <td>401267</td>\n",
       "      <td>424403</td>\n",
       "      <td>531965</td>\n",
       "    </tr>\n",
       "    <tr>\n",
       "      <td>ultra</td>\n",
       "      <td>17550</td>\n",
       "      <td>47400</td>\n",
       "      <td>74550</td>\n",
       "      <td>110100</td>\n",
       "      <td>138000</td>\n",
       "      <td>171300</td>\n",
       "      <td>192750</td>\n",
       "      <td>222900</td>\n",
       "      <td>232800</td>\n",
       "      <td>254100</td>\n",
       "      <td>280350</td>\n",
       "      <td>297300</td>\n",
       "    </tr>\n",
       "  </tbody>\n",
       "</table>\n",
       "</div>"
      ],
      "text/plain": [
       "               Янв    Фев    Мар     Апр     Май     Июн     Июл     Авг  \\\n",
       "tariff_name                                                                \n",
       "smart        24525  48001  89676  107866  168849  197459  246014  310340   \n",
       "ultra        17550  47400  74550  110100  138000  171300  192750  222900   \n",
       "\n",
       "                Сен     Окт     Ноя     Дек  \n",
       "tariff_name                                  \n",
       "smart        324986  401267  424403  531965  \n",
       "ultra        232800  254100  280350  297300  "
      ]
     },
     "metadata": {},
     "output_type": "display_data"
    }
   ],
   "source": [
    "months = ['Янв', 'Фев', 'Мар', 'Апр', 'Май', 'Июн', 'Июл', 'Авг', 'Сен', 'Окт', 'Ноя', 'Дек']\n",
    "\n",
    "print('Распределение кол-ва минут разговора для различных тарифов:')\n",
    "pivot_duration = final.pivot_table(index='tariff_name', columns='month', values='duration', aggfunc='sum')\n",
    "pivot_duration.columns = months\n",
    "for element in months:\n",
    "    pivot_duration[element] = pivot_duration[element].astype('object')\n",
    "display(pivot_duration)\n",
    "print()\n",
    "\n",
    "print('Распределение кол-ва отправленных сообщений для различных тарифов:')\n",
    "pivot_sms = final.pivot_table(index='tariff_name', columns='month', values='sms_count', aggfunc='sum')\n",
    "pivot_sms.columns = months\n",
    "for element in months:\n",
    "    pivot_sms[element] = pivot_sms[element].astype('object')\n",
    "display(pivot_sms)\n",
    "print()\n",
    "\n",
    "print('Распределение объема израсходованного интернет-трафика для различных тарифов (в Гб):')\n",
    "pivot_internet = final.pivot_table(index='tariff_name', columns='month', values='mb_used', aggfunc='sum')\n",
    "pivot_internet.columns = months\n",
    "for element in months:\n",
    "    pivot_internet[element] = pivot_internet[element].astype('object') / 1024\n",
    "display(pivot_internet)\n",
    "\n",
    "print('Помесячная выручка пользователей тарифов (в рублях):')\n",
    "pivot_revenue = final.pivot_table(index='tariff_name', columns='month', values='revenue', aggfunc='sum')\n",
    "pivot_revenue.columns = months\n",
    "for element in months:\n",
    "    pivot_revenue[element] = pivot_revenue[element].astype('object')\n",
    "display(pivot_revenue)"
   ]
  },
  {
   "cell_type": "markdown",
   "metadata": {},
   "source": [
    "Посчитаю среднее количество, дисперсию и среднеквадратическое отклонение по исследуемым параметрам. Для этого выберу пользователей определенного тарифа и посчитаю параметры:"
   ]
  },
  {
   "cell_type": "code",
   "execution_count": 30,
   "metadata": {},
   "outputs": [
    {
     "name": "stdout",
     "output_type": "stream",
     "text": [
      "ULTRA\n",
      "duration - mean / var / std\n",
      "527 / 100874 / 318\n",
      "mb_used - mean / var / std\n",
      "19962 / 101808012 / 10090\n",
      "sms_count - mean / var / std\n",
      "49 / 2285 / 48\n",
      "revenue - mean / var / std\n",
      "2070 / 141517 / 376\n",
      "\n",
      "SMART\n",
      "duration - mean / var / std\n",
      "418 / 36219 / 190\n",
      "mb_used - mean / var / std\n",
      "16721 / 34633108 / 5885\n",
      "sms_count - mean / var / std\n",
      "33 / 797 / 28\n",
      "revenue - mean / var / std\n",
      "1290 / 669786 / 818\n",
      "\n"
     ]
    }
   ],
   "source": [
    "final_ultra = final.query('tariff_name == \"ultra\"')\n",
    "final_smart = final.query('tariff_name == \"smart\"')\n",
    "final_ultra.name = 'ULTRA'\n",
    "final_smart.name = 'SMART'\n",
    "bases = [final_ultra, final_smart]\n",
    "values = ['duration', 'mb_used', 'sms_count', 'revenue']\n",
    "\n",
    "def parameters(db, value):\n",
    "    for element in db:\n",
    "        print(element.name)\n",
    "        for value in values:\n",
    "            print(value, '-', 'mean / var / std')\n",
    "            print(round(element[value].mean()), '/', round(element[value].var()), '/', round(element[value].std()))\n",
    "        print() \n",
    "\n",
    "parameters(bases, values)"
   ]
  },
  {
   "cell_type": "markdown",
   "metadata": {},
   "source": [
    "Выведу эти значения в таблицах для наглядности:"
   ]
  },
  {
   "cell_type": "code",
   "execution_count": 31,
   "metadata": {},
   "outputs": [
    {
     "name": "stdout",
     "output_type": "stream",
     "text": [
      "Данные тарифа SMART:\n"
     ]
    },
    {
     "data": {
      "text/html": [
       "<style  type=\"text/css\" >\n",
       "</style><table id=\"T_cbd5fe52_876a_11ec_9f04_02420a39c1d2\" ><thead>    <tr>        <th class=\"blank level0\" ></th>        <th class=\"col_heading level0 col0\" >count</th>        <th class=\"col_heading level0 col1\" >mean</th>        <th class=\"col_heading level0 col2\" >std</th>        <th class=\"col_heading level0 col3\" >min</th>        <th class=\"col_heading level0 col4\" >25%</th>        <th class=\"col_heading level0 col5\" >50%</th>        <th class=\"col_heading level0 col6\" >75%</th>        <th class=\"col_heading level0 col7\" >max</th>    </tr></thead><tbody>\n",
       "                <tr>\n",
       "                        <th id=\"T_cbd5fe52_876a_11ec_9f04_02420a39c1d2level0_row0\" class=\"row_heading level0 row0\" >duration</th>\n",
       "                        <td id=\"T_cbd5fe52_876a_11ec_9f04_02420a39c1d2row0_col0\" class=\"data row0 col0\" >2229.00</td>\n",
       "                        <td id=\"T_cbd5fe52_876a_11ec_9f04_02420a39c1d2row0_col1\" class=\"data row0 col1\" >417.93</td>\n",
       "                        <td id=\"T_cbd5fe52_876a_11ec_9f04_02420a39c1d2row0_col2\" class=\"data row0 col2\" >190.31</td>\n",
       "                        <td id=\"T_cbd5fe52_876a_11ec_9f04_02420a39c1d2row0_col3\" class=\"data row0 col3\" >0.00</td>\n",
       "                        <td id=\"T_cbd5fe52_876a_11ec_9f04_02420a39c1d2row0_col4\" class=\"data row0 col4\" >282.00</td>\n",
       "                        <td id=\"T_cbd5fe52_876a_11ec_9f04_02420a39c1d2row0_col5\" class=\"data row0 col5\" >422.00</td>\n",
       "                        <td id=\"T_cbd5fe52_876a_11ec_9f04_02420a39c1d2row0_col6\" class=\"data row0 col6\" >545.00</td>\n",
       "                        <td id=\"T_cbd5fe52_876a_11ec_9f04_02420a39c1d2row0_col7\" class=\"data row0 col7\" >1435.00</td>\n",
       "            </tr>\n",
       "            <tr>\n",
       "                        <th id=\"T_cbd5fe52_876a_11ec_9f04_02420a39c1d2level0_row1\" class=\"row_heading level0 row1\" >mb_used</th>\n",
       "                        <td id=\"T_cbd5fe52_876a_11ec_9f04_02420a39c1d2row1_col0\" class=\"data row1 col0\" >2229.00</td>\n",
       "                        <td id=\"T_cbd5fe52_876a_11ec_9f04_02420a39c1d2row1_col1\" class=\"data row1 col1\" >16720.74</td>\n",
       "                        <td id=\"T_cbd5fe52_876a_11ec_9f04_02420a39c1d2row1_col2\" class=\"data row1 col2\" >5884.99</td>\n",
       "                        <td id=\"T_cbd5fe52_876a_11ec_9f04_02420a39c1d2row1_col3\" class=\"data row1 col3\" >0.00</td>\n",
       "                        <td id=\"T_cbd5fe52_876a_11ec_9f04_02420a39c1d2row1_col4\" class=\"data row1 col4\" >13312.00</td>\n",
       "                        <td id=\"T_cbd5fe52_876a_11ec_9f04_02420a39c1d2row1_col5\" class=\"data row1 col5\" >17408.00</td>\n",
       "                        <td id=\"T_cbd5fe52_876a_11ec_9f04_02420a39c1d2row1_col6\" class=\"data row1 col6\" >20480.00</td>\n",
       "                        <td id=\"T_cbd5fe52_876a_11ec_9f04_02420a39c1d2row1_col7\" class=\"data row1 col7\" >38912.00</td>\n",
       "            </tr>\n",
       "            <tr>\n",
       "                        <th id=\"T_cbd5fe52_876a_11ec_9f04_02420a39c1d2level0_row2\" class=\"row_heading level0 row2\" >sms_count</th>\n",
       "                        <td id=\"T_cbd5fe52_876a_11ec_9f04_02420a39c1d2row2_col0\" class=\"data row2 col0\" >2229.00</td>\n",
       "                        <td id=\"T_cbd5fe52_876a_11ec_9f04_02420a39c1d2row2_col1\" class=\"data row2 col1\" >33.38</td>\n",
       "                        <td id=\"T_cbd5fe52_876a_11ec_9f04_02420a39c1d2row2_col2\" class=\"data row2 col2\" >28.23</td>\n",
       "                        <td id=\"T_cbd5fe52_876a_11ec_9f04_02420a39c1d2row2_col3\" class=\"data row2 col3\" >0.00</td>\n",
       "                        <td id=\"T_cbd5fe52_876a_11ec_9f04_02420a39c1d2row2_col4\" class=\"data row2 col4\" >10.00</td>\n",
       "                        <td id=\"T_cbd5fe52_876a_11ec_9f04_02420a39c1d2row2_col5\" class=\"data row2 col5\" >28.00</td>\n",
       "                        <td id=\"T_cbd5fe52_876a_11ec_9f04_02420a39c1d2row2_col6\" class=\"data row2 col6\" >51.00</td>\n",
       "                        <td id=\"T_cbd5fe52_876a_11ec_9f04_02420a39c1d2row2_col7\" class=\"data row2 col7\" >143.00</td>\n",
       "            </tr>\n",
       "            <tr>\n",
       "                        <th id=\"T_cbd5fe52_876a_11ec_9f04_02420a39c1d2level0_row3\" class=\"row_heading level0 row3\" >revenue</th>\n",
       "                        <td id=\"T_cbd5fe52_876a_11ec_9f04_02420a39c1d2row3_col0\" class=\"data row3 col0\" >2229.00</td>\n",
       "                        <td id=\"T_cbd5fe52_876a_11ec_9f04_02420a39c1d2row3_col1\" class=\"data row3 col1\" >1289.97</td>\n",
       "                        <td id=\"T_cbd5fe52_876a_11ec_9f04_02420a39c1d2row3_col2\" class=\"data row3 col2\" >818.40</td>\n",
       "                        <td id=\"T_cbd5fe52_876a_11ec_9f04_02420a39c1d2row3_col3\" class=\"data row3 col3\" >550.00</td>\n",
       "                        <td id=\"T_cbd5fe52_876a_11ec_9f04_02420a39c1d2row3_col4\" class=\"data row3 col4\" >550.00</td>\n",
       "                        <td id=\"T_cbd5fe52_876a_11ec_9f04_02420a39c1d2row3_col5\" class=\"data row3 col5\" >1023.00</td>\n",
       "                        <td id=\"T_cbd5fe52_876a_11ec_9f04_02420a39c1d2row3_col6\" class=\"data row3 col6\" >1750.00</td>\n",
       "                        <td id=\"T_cbd5fe52_876a_11ec_9f04_02420a39c1d2row3_col7\" class=\"data row3 col7\" >6770.00</td>\n",
       "            </tr>\n",
       "    </tbody></table>"
      ],
      "text/plain": [
       "<pandas.io.formats.style.Styler at 0x7fcbcd56d210>"
      ]
     },
     "metadata": {},
     "output_type": "display_data"
    },
    {
     "name": "stdout",
     "output_type": "stream",
     "text": [
      "Данные тарифа ULTRA:\n"
     ]
    },
    {
     "data": {
      "text/html": [
       "<style  type=\"text/css\" >\n",
       "</style><table id=\"T_cbdb096a_876a_11ec_9f04_02420a39c1d2\" ><thead>    <tr>        <th class=\"blank level0\" ></th>        <th class=\"col_heading level0 col0\" >count</th>        <th class=\"col_heading level0 col1\" >mean</th>        <th class=\"col_heading level0 col2\" >std</th>        <th class=\"col_heading level0 col3\" >min</th>        <th class=\"col_heading level0 col4\" >25%</th>        <th class=\"col_heading level0 col5\" >50%</th>        <th class=\"col_heading level0 col6\" >75%</th>        <th class=\"col_heading level0 col7\" >max</th>    </tr></thead><tbody>\n",
       "                <tr>\n",
       "                        <th id=\"T_cbdb096a_876a_11ec_9f04_02420a39c1d2level0_row0\" class=\"row_heading level0 row0\" >duration</th>\n",
       "                        <td id=\"T_cbdb096a_876a_11ec_9f04_02420a39c1d2row0_col0\" class=\"data row0 col0\" >985.00</td>\n",
       "                        <td id=\"T_cbdb096a_876a_11ec_9f04_02420a39c1d2row0_col1\" class=\"data row0 col1\" >526.62</td>\n",
       "                        <td id=\"T_cbdb096a_876a_11ec_9f04_02420a39c1d2row0_col2\" class=\"data row0 col2\" >317.61</td>\n",
       "                        <td id=\"T_cbdb096a_876a_11ec_9f04_02420a39c1d2row0_col3\" class=\"data row0 col3\" >0.00</td>\n",
       "                        <td id=\"T_cbdb096a_876a_11ec_9f04_02420a39c1d2row0_col4\" class=\"data row0 col4\" >284.00</td>\n",
       "                        <td id=\"T_cbdb096a_876a_11ec_9f04_02420a39c1d2row0_col5\" class=\"data row0 col5\" >518.00</td>\n",
       "                        <td id=\"T_cbdb096a_876a_11ec_9f04_02420a39c1d2row0_col6\" class=\"data row0 col6\" >752.00</td>\n",
       "                        <td id=\"T_cbdb096a_876a_11ec_9f04_02420a39c1d2row0_col7\" class=\"data row0 col7\" >1673.00</td>\n",
       "            </tr>\n",
       "            <tr>\n",
       "                        <th id=\"T_cbdb096a_876a_11ec_9f04_02420a39c1d2level0_row1\" class=\"row_heading level0 row1\" >mb_used</th>\n",
       "                        <td id=\"T_cbdb096a_876a_11ec_9f04_02420a39c1d2row1_col0\" class=\"data row1 col0\" >985.00</td>\n",
       "                        <td id=\"T_cbdb096a_876a_11ec_9f04_02420a39c1d2row1_col1\" class=\"data row1 col1\" >19962.28</td>\n",
       "                        <td id=\"T_cbdb096a_876a_11ec_9f04_02420a39c1d2row1_col2\" class=\"data row1 col2\" >10090.00</td>\n",
       "                        <td id=\"T_cbdb096a_876a_11ec_9f04_02420a39c1d2row1_col3\" class=\"data row1 col3\" >0.00</td>\n",
       "                        <td id=\"T_cbdb096a_876a_11ec_9f04_02420a39c1d2row1_col4\" class=\"data row1 col4\" >12288.00</td>\n",
       "                        <td id=\"T_cbdb096a_876a_11ec_9f04_02420a39c1d2row1_col5\" class=\"data row1 col5\" >19456.00</td>\n",
       "                        <td id=\"T_cbdb096a_876a_11ec_9f04_02420a39c1d2row1_col6\" class=\"data row1 col6\" >27648.00</td>\n",
       "                        <td id=\"T_cbdb096a_876a_11ec_9f04_02420a39c1d2row1_col7\" class=\"data row1 col7\" >50176.00</td>\n",
       "            </tr>\n",
       "            <tr>\n",
       "                        <th id=\"T_cbdb096a_876a_11ec_9f04_02420a39c1d2level0_row2\" class=\"row_heading level0 row2\" >sms_count</th>\n",
       "                        <td id=\"T_cbdb096a_876a_11ec_9f04_02420a39c1d2row2_col0\" class=\"data row2 col0\" >985.00</td>\n",
       "                        <td id=\"T_cbdb096a_876a_11ec_9f04_02420a39c1d2row2_col1\" class=\"data row2 col1\" >49.36</td>\n",
       "                        <td id=\"T_cbdb096a_876a_11ec_9f04_02420a39c1d2row2_col2\" class=\"data row2 col2\" >47.80</td>\n",
       "                        <td id=\"T_cbdb096a_876a_11ec_9f04_02420a39c1d2row2_col3\" class=\"data row2 col3\" >0.00</td>\n",
       "                        <td id=\"T_cbdb096a_876a_11ec_9f04_02420a39c1d2row2_col4\" class=\"data row2 col4\" >6.00</td>\n",
       "                        <td id=\"T_cbdb096a_876a_11ec_9f04_02420a39c1d2row2_col5\" class=\"data row2 col5\" >38.00</td>\n",
       "                        <td id=\"T_cbdb096a_876a_11ec_9f04_02420a39c1d2row2_col6\" class=\"data row2 col6\" >79.00</td>\n",
       "                        <td id=\"T_cbdb096a_876a_11ec_9f04_02420a39c1d2row2_col7\" class=\"data row2 col7\" >224.00</td>\n",
       "            </tr>\n",
       "            <tr>\n",
       "                        <th id=\"T_cbdb096a_876a_11ec_9f04_02420a39c1d2level0_row3\" class=\"row_heading level0 row3\" >revenue</th>\n",
       "                        <td id=\"T_cbdb096a_876a_11ec_9f04_02420a39c1d2row3_col0\" class=\"data row3 col0\" >985.00</td>\n",
       "                        <td id=\"T_cbdb096a_876a_11ec_9f04_02420a39c1d2row3_col1\" class=\"data row3 col1\" >2070.15</td>\n",
       "                        <td id=\"T_cbdb096a_876a_11ec_9f04_02420a39c1d2row3_col2\" class=\"data row3 col2\" >376.19</td>\n",
       "                        <td id=\"T_cbdb096a_876a_11ec_9f04_02420a39c1d2row3_col3\" class=\"data row3 col3\" >1950.00</td>\n",
       "                        <td id=\"T_cbdb096a_876a_11ec_9f04_02420a39c1d2row3_col4\" class=\"data row3 col4\" >1950.00</td>\n",
       "                        <td id=\"T_cbdb096a_876a_11ec_9f04_02420a39c1d2row3_col5\" class=\"data row3 col5\" >1950.00</td>\n",
       "                        <td id=\"T_cbdb096a_876a_11ec_9f04_02420a39c1d2row3_col6\" class=\"data row3 col6\" >1950.00</td>\n",
       "                        <td id=\"T_cbdb096a_876a_11ec_9f04_02420a39c1d2row3_col7\" class=\"data row3 col7\" >4800.00</td>\n",
       "            </tr>\n",
       "    </tbody></table>"
      ],
      "text/plain": [
       "<pandas.io.formats.style.Styler at 0x7fcbcd5d4fd0>"
      ]
     },
     "metadata": {},
     "output_type": "display_data"
    }
   ],
   "source": [
    "print('Данные тарифа SMART:')\n",
    "display(final.query('tariff_name == \"smart\"')[['duration', 'mb_used', 'sms_count', 'revenue']].describe().T.style.format('{:.2f}'))\n",
    "print('Данные тарифа ULTRA:')\n",
    "display(final.query('tariff_name == \"ultra\"')[['duration', 'mb_used', 'sms_count', 'revenue']].describe().T.style.format('{:.2f}'))"
   ]
  },
  {
   "cell_type": "markdown",
   "metadata": {},
   "source": [
    "Построю гистограммы распределения параметров:"
   ]
  },
  {
   "cell_type": "code",
   "execution_count": 32,
   "metadata": {},
   "outputs": [
    {
     "name": "stdout",
     "output_type": "stream",
     "text": [
      "Гистограммы распределения минут разговора на различных тарифах:\n"
     ]
    },
    {
     "data": {
      "image/png": "[encoded data removed]",
      "text/plain": [
       "<Figure size 1080x432 with 2 Axes>"
      ]
     },
     "metadata": {
      "needs_background": "light"
     },
     "output_type": "display_data"
    }
   ],
   "source": [
    "def hist(parametr, bins):\n",
    "    fig, axes = plt.subplots(1,2,figsize=(15,6))\n",
    "    final_smart[parametr].plot(kind='hist', bins=bins, title=final_smart.name, grid=True, ax=axes[0])\n",
    "    final_ultra[parametr].plot(kind='hist', bins=bins, title=final_ultra.name, grid=True, ax=axes[1]);\n",
    "\n",
    "print('Гистограммы распределения минут разговора на различных тарифах:')\n",
    "hist('duration', 100)    "
   ]
  },
  {
   "cell_type": "code",
   "execution_count": 33,
   "metadata": {
    "scrolled": true
   },
   "outputs": [
    {
     "name": "stdout",
     "output_type": "stream",
     "text": [
      "Гистограммы распределения минут разговора на различных тарифах:\n"
     ]
    },
    {
     "data": {
      "image/png": "[encoded data removed]",
      "text/plain": [
       "<Figure size 1080x432 with 2 Axes>"
      ]
     },
     "metadata": {
      "needs_background": "light"
     },
     "output_type": "display_data"
    }
   ],
   "source": [
    "print('Гистограммы распределения минут разговора на различных тарифах:')\n",
    "hist('mb_used', 30)"
   ]
  },
  {
   "cell_type": "code",
   "execution_count": 34,
   "metadata": {},
   "outputs": [
    {
     "name": "stdout",
     "output_type": "stream",
     "text": [
      "Гистограммы распределения отправленных sms на различных тарифах:\n"
     ]
    },
    {
     "data": {
      "image/png": "[encoded data removed]",
      "text/plain": [
       "<Figure size 1080x432 with 2 Axes>"
      ]
     },
     "metadata": {
      "needs_background": "light"
     },
     "output_type": "display_data"
    }
   ],
   "source": [
    "print('Гистограммы распределения отправленных sms на различных тарифах:')\n",
    "hist('sms_count', 70)"
   ]
  },
  {
   "cell_type": "code",
   "execution_count": 35,
   "metadata": {},
   "outputs": [
    {
     "name": "stdout",
     "output_type": "stream",
     "text": [
      "Гистограммы распределения месячной выручки на различных тарифах:\n"
     ]
    },
    {
     "data": {
      "image/png": "[encoded data removed]",
      "text/plain": [
       "<Figure size 1080x432 with 2 Axes>"
      ]
     },
     "metadata": {
      "needs_background": "light"
     },
     "output_type": "display_data"
    }
   ],
   "source": [
    "print('Гистограммы распределения месячной выручки на различных тарифах:')\n",
    "hist('revenue', 15)"
   ]
  },
  {
   "cell_type": "markdown",
   "metadata": {},
   "source": [
    "Построю дополнительные сравнительные графики, которые покажут различия тарифов по средним значениям параметров:"
   ]
  },
  {
   "cell_type": "code",
   "execution_count": 36,
   "metadata": {},
   "outputs": [
    {
     "name": "stdout",
     "output_type": "stream",
     "text": [
      "Средние значение по месяцам в зависимости от тарифа:\n"
     ]
    },
    {
     "data": {
      "image/png": "[encoded data removed]",
      "text/plain": [
       "<Figure size 432x288 with 1 Axes>"
      ]
     },
     "metadata": {
      "needs_background": "light"
     },
     "output_type": "display_data"
    },
    {
     "data": {
      "image/png": "[encoded data removed]",
      "text/plain": [
       "<Figure size 432x288 with 1 Axes>"
      ]
     },
     "metadata": {
      "needs_background": "light"
     },
     "output_type": "display_data"
    },
    {
     "data": {
      "image/png": "[encoded data removed]",
      "text/plain": [
       "<Figure size 432x288 with 1 Axes>"
      ]
     },
     "metadata": {
      "needs_background": "light"
     },
     "output_type": "display_data"
    },
    {
     "data": {
      "image/png": "[encoded data removed]",
      "text/plain": [
       "<Figure size 432x288 with 1 Axes>"
      ]
     },
     "metadata": {
      "needs_background": "light"
     },
     "output_type": "display_data"
    }
   ],
   "source": [
    "values = ['duration', 'mb_used', 'sms_count', 'revenue']\n",
    "print('Средние значение по месяцам в зависимости от тарифа:')\n",
    "for element in values:\n",
    "    final.pivot_table(index='month', columns='tariff_name', values=element, aggfunc='mean').plot(grid=True, title=element)"
   ]
  },
  {
   "cell_type": "markdown",
   "metadata": {},
   "source": [
    "#### Выводы по разделу"
   ]
  },
  {
   "cell_type": "markdown",
   "metadata": {},
   "source": [
    "Сформировав свобную таблицу и построив с ее помощью гистограммы распределения и сравнительные графики, можно сделать следующие выводы:\n",
    "* на данный момент пользователи тарифа ULTRA приносят компании бо́льшую прибыль, чем пользователи тарифа SMART (среднее значение по месячной выручке отличается почти вдвое), однако к концу года неметилась небольшая тенденция к повышению выручки у пользователей тарифа SMART);\n",
    "* пользователи обоих тарифов практически не используют короткие sms сообщения, это и понятно, технологии шагнули вперед, сейчас отдается предпочтение онлайн-мессенджерам, однако существуют различия поведения пользователей в зависимости от тарифа: на тарифе ULTRA смс-ками с апреля месяца начали пользоваться чаще, тагда у пользователей тарифа SMART среднее значение отправленных сообщений с апреля по декабрь осталось практически неизменным;\n",
    "* больше минут разговора и интернет-трафика также расходуют владельцы сим-карт с тарифом ULTRA;\n",
    "* пользователи тарифа ULTRA склонны тратить больше минут, смс и интернет-трафика по отношению к среднему значению, в отличие о пользователей тарифа SMART, которые делают это с меньшей охотой, что выявлено по значеню среднеквадратического отклонения, которое по этим параментра практически вдвое больше у тарифа ULTRA, чем у SMART.\n",
    "* однако ползователи тарифа SMART склонны тратить больше денег на дополнительные услуги, скорее всего это связано с тем, что пакета услуг, включенных в абонентскую плату, не хватает на месяц и приходится докупать;\n",
    "* по всем параметрам наблюдается тенденция к увеличению показателей компании, а именно, от месяца к месяцу на обоих тарифах увеличивается количество совершенных звонков, израсходованных мегабайт трафика, а также растут показатели среднемесячной выручки, что говорит о том, что компания выбрала правильный путь развития."
   ]
  },
  {
   "cell_type": "markdown",
   "metadata": {},
   "source": [
    "### Проверка гипотез"
   ]
  },
  {
   "cell_type": "markdown",
   "metadata": {},
   "source": [
    "В этом разделе я буду проверять следующие гипотезы:\n",
    "\n",
    "* Гипотеза №1 - средняя выручка пользователей тарифов ULTRA и SMART различаются;\n",
    "* Гипотеза №2 - средняя выручка пользователей из Москвы отличается от выручки пользователей из других регионов."
   ]
  },
  {
   "cell_type": "markdown",
   "metadata": {},
   "source": [
    "#### Проверка гипотезы №1"
   ]
  },
  {
   "cell_type": "markdown",
   "metadata": {},
   "source": [
    "Проверка гипотез начинается с формулировки нулевой гипотезы H₀.\n",
    "\n",
    "Для того, чтобы проверить, различается ли средняя выручка пользователей тарифов ULTRA и SMART, необходимо сформулировать нулевую гипотезу, которую нужно подтвердить или отвергнуть в пользу альтернативной гипотезы.\n",
    "\n",
    "H₀ всегда формулируется так, чтобы использовать знак равенства, чтобы все данные лежали в районе изначально предполагаемого значения.\n",
    "\n",
    "Поэтому нулевая гипотеза H₀ будет звучать так:\n",
    "* Средняя выручка пользователей тарифов ULTRA и SMART равна\n",
    "\n",
    "Альтернативную гипотезу H₁ сформулирую так:\n",
    "* Средняя выручка пользователей тарифов ULTRA и SMART различна"
   ]
  },
  {
   "cell_type": "code",
   "execution_count": 37,
   "metadata": {},
   "outputs": [
    {
     "name": "stdout",
     "output_type": "stream",
     "text": [
      "Размер выборки ULTRA - 985\n",
      "Размер выборки SMART - 2229\n",
      "\n",
      "Дисперсия выборки ULTRA - 141517\n",
      "Дисперсия выборки SMART - 669786\n"
     ]
    }
   ],
   "source": [
    "# Дополнительные данные для проверки использования t-теста\n",
    "print('Размер выборки ULTRA -', len(final_ultra))\n",
    "print('Размер выборки SMART -', len(final_smart))\n",
    "print()\n",
    "print('Дисперсия выборки ULTRA -', round(final_ultra['revenue'].var()))\n",
    "print('Дисперсия выборки SMART -', round(final_smart['revenue'].var()))"
   ]
  },
  {
   "cell_type": "markdown",
   "metadata": {},
   "source": [
    "Т.к. в данном случае речь идет о проверке гипотезы о равенстве средних двух генеральных совокупностей, то я применю t-тест (метод `scipy.stats.ttest_ind`).\n",
    "Для применения t-теста необходимо выполнение 3 условий:\n",
    "* генеральные совокупности не должны зависеть друг от друга - выполняется, т.к. мы рассматриваем 2 группы пользователей, использующих 2 разных тарифа - это независимые совокупности;\n",
    "* выборочные средние должны быть нормально распределены\n",
    "Это условие не препятствие. Размеры выборок достаточно велики (985 и 2229 значений), поэтому выборочные средние, которые можно получить из одной и той же генеральной совокупности, будут распределены нормально вокруг истинного среднего этой совокупности. Это утверждение верно, даже если сама генеральная совокупность не распределена нормально.\n",
    "* дисперсии рассматриваемых генеральных совокупностей должны быть равны. \n",
    "Я буду использовать параметр `equal_var = False`, потому что выборки разного размера, дисперсии у генеральных совокупностей разные. Однако выборки достаточно велики: симуляции, проведённые учёными, показывают, что даже если дисперсии на самом деле не равны, при большом объеме выборки выборочное среднее становится нормально распределенным и тест может быть применен."
   ]
  },
  {
   "cell_type": "markdown",
   "metadata": {},
   "source": [
    "Критический уровень статистической значимости я выберу 0.5%, т.к. мы имеем большие выборки, измеряемые тысячами наблюдений, поэтому уверенно отвергать нулевую гипотезу можно только при значимости меньшей 0,005."
   ]
  },
  {
   "cell_type": "code",
   "execution_count": 41,
   "metadata": {},
   "outputs": [
    {
     "name": "stdout",
     "output_type": "stream",
     "text": [
      "p-значение:  4.2606313931076085e-250\n",
      "Нулевая гипотеза отвергается\n"
     ]
    }
   ],
   "source": [
    "# Задаю критический уровень статистической значимости\n",
    "alpha = 0.005\n",
    "# если p-value окажется меньше alpha - отвегаю нулевую гипотезу\n",
    "\n",
    "results = st.ttest_ind(\n",
    "    final_ultra['revenue'], \n",
    "    final_smart['revenue'],\n",
    "    equal_var=False)\n",
    "\n",
    "print('p-значение: ', results.pvalue)\n",
    "\n",
    "if results.pvalue < alpha:\n",
    "    print('Нулевая гипотеза отвергается')\n",
    "else:\n",
    "    print('Нулевая гипотеза не может быть отвергнута') "
   ]
  },
  {
   "cell_type": "markdown",
   "metadata": {},
   "source": [
    "Т.к. p-значение оказалось настолько мало (стремится к 0), что ниже критического уровня статистической значимости, то отвергаю нулевую гипотезу в пользу альтернативной и делаю вывод, что между тарифами ULTRA и SMART есть разница в средней выручке."
   ]
  },
  {
   "cell_type": "markdown",
   "metadata": {},
   "source": [
    "#### Проверка гипотезы №2"
   ]
  },
  {
   "cell_type": "markdown",
   "metadata": {},
   "source": [
    "Нулевая гипотеза H₀ будет звучать так:\n",
    "* Средняя выручка пользователей из Москвы равна выручке пользователе из других регионов\n",
    "\n",
    "Альтернативную гипотезу H₁ сформулирую так:\n",
    "* Средняя выручка пользователей из Москвы отличается от выручки пользователей из других регионов"
   ]
  },
  {
   "cell_type": "code",
   "execution_count": 39,
   "metadata": {},
   "outputs": [
    {
     "name": "stdout",
     "output_type": "stream",
     "text": [
      "Размер выборки МОСКВА - 611\n",
      "Размер выборки РЕГИОНЫ - 2603\n",
      "\n",
      "Дисперсия выборки МОСКВА - 565636\n",
      "Дисперсия выборки РЕГИОНЫ - 654138\n"
     ]
    }
   ],
   "source": [
    "# Дополнительные данные для проверки использования t-теста\n",
    "final_msk = final.query('city == \"Москва\"')\n",
    "final_regions = final.query('city != \"Москва\"')\n",
    "print('Размер выборки МОСКВА -', len(final_msk))\n",
    "print('Размер выборки РЕГИОНЫ -', len(final_regions))\n",
    "print()\n",
    "print('Дисперсия выборки МОСКВА -', round(final_msk['revenue'].var()))\n",
    "print('Дисперсия выборки РЕГИОНЫ -', round(final_regions['revenue'].var()))"
   ]
  },
  {
   "cell_type": "code",
   "execution_count": 40,
   "metadata": {},
   "outputs": [
    {
     "name": "stdout",
     "output_type": "stream",
     "text": [
      "p-значение:  0.53\n",
      "Нулевая гипотеза не может быть отвергнута\n"
     ]
    }
   ],
   "source": [
    "# Задаю критический уровень статистической значимости\n",
    "alpha = 0.005\n",
    "# если p-value окажется меньше alpha - отвегаю нулевую гипотезу\n",
    "\n",
    "results = st.ttest_ind(\n",
    "    final_msk['revenue'], \n",
    "    final_regions['revenue'],\n",
    "    equal_var=False)\n",
    "\n",
    "print('p-значение: ', round(results.pvalue, 2))\n",
    "\n",
    "if results.pvalue < alpha:\n",
    "    print('Нулевая гипотеза отвергается')\n",
    "else:\n",
    "    print('Нулевая гипотеза не может быть отвергнута') "
   ]
  },
  {
   "cell_type": "markdown",
   "metadata": {},
   "source": [
    "Т.к. p-значение на порядки больше, чем заданный критический уровень статистической значимости, то нулевая гипотеза не может быть отвергнута в пользу альтернативной. Я делаю вывод, что средняя выручка пользователей из Москвы не отличается от выручки пользователей из других регионов."
   ]
  },
  {
   "cell_type": "markdown",
   "metadata": {},
   "source": [
    "#### Выводы по разделу"
   ]
  },
  {
   "cell_type": "markdown",
   "metadata": {},
   "source": [
    "В этом разделе проверены следующие гипотезы:\n",
    "\n",
    "* Гипотеза №1 - средняя выручка пользователей тарифов ULTRA и SMART различаются - *подтверждена*;\n",
    "* Гипотеза №2 - средняя выручка пользователей из Москвы отличается от выручки пользователей из других регионов - *опровергнута*."
   ]
  },
  {
   "cell_type": "markdown",
   "metadata": {},
   "source": [
    "### Общий вывод"
   ]
  },
  {
   "cell_type": "markdown",
   "metadata": {},
   "source": [
    "Получены файлы с информацией о данных 500 пользователей компании «Мегалайн»: ФИО, каким тарифом пользуются, сколько звонков и сообщений, а также сколько интернет-трафика каждый израсходовал за 2018 год. Также я располагаю данными о параметрах двух тарифных планах: «Смарт» и «Ультра».\n",
    "\n",
    "На предварительном этапе обработки данных были проведены следующие действия:\n",
    "* открытие и изучение исходных таличных данных;\n",
    "* приведение типов данных;\n",
    "* корректировка ошибок (переименование столбцов таблиц, удаление некорректных данных)\n",
    "\n",
    "Использование интернет-трафика:\n",
    "* 1150 Мб - это ориентировочная граница нормального размаха. Всё, что лежит за ней, считается выбросом. В основном, пользователи используют от 227 до 593 Мб за одну интернет-сессию.\n",
    "Расходование минут разговора:\n",
    "* 25 минут - это ориентировочная граница нормального размаха. Всё, что лежит за ней - выбросы и их большое количество. В основном, продолжительность звонков составляет от 1 до 11 минут.\n",
    "Отправка коротких sms-сообщений:\n",
    "* Короткие sms сообщения отправляют редко, это и понятно, технологии шагнули вперед, сейчас отдается предпочтение онлайн-мессенджерам.\n",
    "\n",
    "Выявлено, что почти половина пользователей \"не влезает\" в тариф по количеству предоставляемого в пакете интернета, четверти пользователей не хватает количества предоставляемых минут разговора, а доля людей, которые отправляют sms-ки сверх пакета, достаточно мала и составляет всего 17.5%.\n",
    "\n",
    "Было проанализировать поведение клиентов разных тарифов и сделаны следующие выводы:\n",
    "* на данный момент пользователи тарифа ULTRA приносят компании бо́льшую прибыль, чем пользователи тарифа SMART (среднее значение по месячной выручке отличается почти вдвое), однако к концу года неметилась небольшая тенденция к повышению выручки у пользователей тарифа SMART);\n",
    "* существуют различия в отправке sms у пользователей разных тарифов: на тарифе ULTRA смс-ками с апреля месяца начали пользоваться чаще, тагда у пользователей тарифа SMART среднее значение отправленных сообщений с апреля по декабрь осталось практически неизменным;\n",
    "* больше минут разговора и интернет-трафика также расходуют владельцы сим-карт с тарифом ULTRA;\n",
    "* пользователи тарифа ULTRA склонны тратить больше минут, смс и интернет-трафика по отношению к среднему значению, в отличие о пользователей тарифа SMART, которые делают это с меньшей охотой;\n",
    "* однако ползователи тарифа SMART склонны тратить больше денег на дополнительные услуги, скорее всего это связано с тем, что пакета услуг, включенных в абонентскую плату, не хватает на месяц и приходится докупать;\n",
    "* по всем параметрам наблюдается тенденция к увеличению показателей компании, а именно, от месяца к месяцу на обоих тарифах увеличивается количество совершенных звонков, израсходованных мегабайт трафика, а также растут показатели среднемесячной выручки, что говорит о том, что компания выбрала правильный путь развития.\n",
    "\n",
    "В результате статистических тестов\n",
    "* была подтверждена гипотеза о том, что средняя выручка пользователей тарифов ULTRA и SMART различаются;\n",
    "* была опровергнута гипотеза о том, что средняя выручка пользователей из Москвы отличается от выручки пользователей из других регионов, сделан вывод, что средняя выручка в Москве и регионах равна.\n",
    "\n",
    "В результате всех проведенных работ выявлено, что пользователи тарифа ULTRA приносят компании бо́льшую прибыль, тратят больше смс, минут и интренет-трафика, поэтому данный тариф является более перспективным для телеком-компании, чем тариф SMART, т.к. он приносит компании больше денег."
   ]
  }
 ],
 "metadata": {
  "ExecuteTimeLog": [
   {
    "duration": 253,
    "start_time": "2022-01-21T06:35:56.817Z"
   },
   {
    "duration": 939,
    "start_time": "2022-01-21T06:36:18.212Z"
   },
   {
    "duration": 690,
    "start_time": "2022-01-21T06:41:22.746Z"
   },
   {
    "duration": 731,
    "start_time": "2022-01-21T06:41:35.912Z"
   },
   {
    "duration": 64,
    "start_time": "2022-01-21T06:43:04.711Z"
   },
   {
    "duration": 433,
    "start_time": "2022-01-21T07:04:07.403Z"
   },
   {
    "duration": 157,
    "start_time": "2022-01-21T07:04:15.899Z"
   },
   {
    "duration": 5,
    "start_time": "2022-01-21T07:05:26.683Z"
   },
   {
    "duration": 116,
    "start_time": "2022-01-21T07:05:35.693Z"
   },
   {
    "duration": 126,
    "start_time": "2022-01-21T07:14:27.840Z"
   },
   {
    "duration": 234,
    "start_time": "2022-01-21T07:14:35.661Z"
   },
   {
    "duration": 1016,
    "start_time": "2022-01-21T07:14:57.405Z"
   },
   {
    "duration": 1015,
    "start_time": "2022-01-21T07:15:24.693Z"
   },
   {
    "duration": 962,
    "start_time": "2022-01-21T07:16:38.613Z"
   },
   {
    "duration": 741,
    "start_time": "2022-01-21T07:17:16.452Z"
   },
   {
    "duration": 828,
    "start_time": "2022-01-21T07:17:27.141Z"
   },
   {
    "duration": 5,
    "start_time": "2022-01-21T07:17:34.613Z"
   },
   {
    "duration": 716,
    "start_time": "2022-01-21T07:17:36.921Z"
   },
   {
    "duration": 699,
    "start_time": "2022-01-21T07:18:04.690Z"
   },
   {
    "duration": 342,
    "start_time": "2022-01-21T07:18:09.653Z"
   },
   {
    "duration": 1026,
    "start_time": "2022-01-21T07:18:20.550Z"
   },
   {
    "duration": 909,
    "start_time": "2022-01-21T07:19:46.147Z"
   },
   {
    "duration": 30,
    "start_time": "2022-01-21T07:20:07.963Z"
   },
   {
    "duration": 9,
    "start_time": "2022-01-21T07:21:44.918Z"
   },
   {
    "duration": 748,
    "start_time": "2022-01-21T07:21:53.210Z"
   },
   {
    "duration": 4,
    "start_time": "2022-01-21T07:21:55.135Z"
   },
   {
    "duration": 971,
    "start_time": "2022-01-21T07:22:27.855Z"
   },
   {
    "duration": 6,
    "start_time": "2022-01-21T07:23:01.199Z"
   },
   {
    "duration": 688,
    "start_time": "2022-01-21T07:23:02.255Z"
   },
   {
    "duration": 898,
    "start_time": "2022-01-21T07:27:33.678Z"
   },
   {
    "duration": 99,
    "start_time": "2022-01-21T08:47:15.655Z"
   },
   {
    "duration": 470,
    "start_time": "2022-01-21T08:47:30.359Z"
   },
   {
    "duration": 342,
    "start_time": "2022-01-21T08:47:58.478Z"
   },
   {
    "duration": 328,
    "start_time": "2022-01-21T08:48:08.656Z"
   },
   {
    "duration": 141,
    "start_time": "2022-01-21T08:48:53.488Z"
   },
   {
    "duration": 498,
    "start_time": "2022-01-21T08:49:01.648Z"
   },
   {
    "duration": 314,
    "start_time": "2022-01-21T08:49:35.368Z"
   },
   {
    "duration": 36,
    "start_time": "2022-01-21T08:49:58.056Z"
   },
   {
    "duration": 441,
    "start_time": "2022-01-21T08:50:30.321Z"
   },
   {
    "duration": 31,
    "start_time": "2022-01-21T08:55:35.546Z"
   },
   {
    "duration": 360,
    "start_time": "2022-01-21T09:03:25.271Z"
   },
   {
    "duration": 8855,
    "start_time": "2022-01-21T09:04:16.878Z"
   },
   {
    "duration": 152,
    "start_time": "2022-01-21T09:04:37.141Z"
   },
   {
    "duration": 39,
    "start_time": "2022-01-21T09:10:44.964Z"
   },
   {
    "duration": 67,
    "start_time": "2022-01-21T09:15:30.614Z"
   },
   {
    "duration": 5,
    "start_time": "2022-01-21T09:15:43.765Z"
   },
   {
    "duration": 708,
    "start_time": "2022-01-21T09:15:44.984Z"
   },
   {
    "duration": 1241,
    "start_time": "2022-01-21T09:15:48.414Z"
   },
   {
    "duration": 132,
    "start_time": "2022-01-21T09:15:53.966Z"
   },
   {
    "duration": 54,
    "start_time": "2022-01-21T09:16:45.582Z"
   },
   {
    "duration": 51,
    "start_time": "2022-01-21T09:17:07.247Z"
   },
   {
    "duration": 638,
    "start_time": "2022-01-21T14:29:20.175Z"
   },
   {
    "duration": 601,
    "start_time": "2022-01-21T14:29:20.815Z"
   },
   {
    "duration": 711,
    "start_time": "2022-01-21T14:29:21.418Z"
   },
   {
    "duration": 144,
    "start_time": "2022-01-21T14:29:22.131Z"
   },
   {
    "duration": 86,
    "start_time": "2022-01-21T14:42:49.802Z"
   },
   {
    "duration": 322,
    "start_time": "2022-01-21T14:49:11.235Z"
   },
   {
    "duration": 363,
    "start_time": "2022-01-21T14:49:51.422Z"
   },
   {
    "duration": 4,
    "start_time": "2022-01-21T14:52:55.140Z"
   },
   {
    "duration": 17,
    "start_time": "2022-01-21T14:53:40.692Z"
   },
   {
    "duration": 50,
    "start_time": "2022-01-21T15:03:47.965Z"
   },
   {
    "duration": 306,
    "start_time": "2022-01-21T15:04:21.701Z"
   },
   {
    "duration": 605,
    "start_time": "2022-01-21T15:04:46.896Z"
   },
   {
    "duration": 650,
    "start_time": "2022-01-21T15:04:47.503Z"
   },
   {
    "duration": 757,
    "start_time": "2022-01-21T15:04:48.156Z"
   },
   {
    "duration": 129,
    "start_time": "2022-01-21T15:04:48.915Z"
   },
   {
    "duration": 69,
    "start_time": "2022-01-21T15:04:49.046Z"
   },
   {
    "duration": 9,
    "start_time": "2022-01-21T15:04:49.116Z"
   },
   {
    "duration": 5,
    "start_time": "2022-01-21T15:05:58.284Z"
   },
   {
    "duration": 3,
    "start_time": "2022-01-21T15:06:17.706Z"
   },
   {
    "duration": 564,
    "start_time": "2022-01-21T15:06:20.182Z"
   },
   {
    "duration": 762,
    "start_time": "2022-01-21T15:06:22.686Z"
   },
   {
    "duration": 118,
    "start_time": "2022-01-21T15:06:30.688Z"
   },
   {
    "duration": 43,
    "start_time": "2022-01-21T15:06:34.987Z"
   },
   {
    "duration": 8,
    "start_time": "2022-01-21T15:06:36.119Z"
   },
   {
    "duration": 4,
    "start_time": "2022-01-21T15:06:38.285Z"
   },
   {
    "duration": 30,
    "start_time": "2022-01-21T15:06:53.438Z"
   },
   {
    "duration": 493,
    "start_time": "2022-01-21T15:07:03.344Z"
   },
   {
    "duration": 5,
    "start_time": "2022-01-21T15:07:10.678Z"
   },
   {
    "duration": 5,
    "start_time": "2022-01-21T15:08:15.405Z"
   },
   {
    "duration": 607,
    "start_time": "2022-01-21T15:09:16.124Z"
   },
   {
    "duration": 624,
    "start_time": "2022-01-21T15:09:16.733Z"
   },
   {
    "duration": 723,
    "start_time": "2022-01-21T15:09:17.359Z"
   },
   {
    "duration": 122,
    "start_time": "2022-01-21T15:09:18.084Z"
   },
   {
    "duration": 68,
    "start_time": "2022-01-21T15:09:18.208Z"
   },
   {
    "duration": 10,
    "start_time": "2022-01-21T15:09:18.277Z"
   },
   {
    "duration": 5,
    "start_time": "2022-01-21T15:09:18.288Z"
   },
   {
    "duration": 15,
    "start_time": "2022-01-21T15:15:19.684Z"
   },
   {
    "duration": 410,
    "start_time": "2022-01-21T15:16:59.364Z"
   },
   {
    "duration": 371,
    "start_time": "2022-01-21T15:17:14.057Z"
   },
   {
    "duration": 434,
    "start_time": "2022-01-21T15:17:26.571Z"
   },
   {
    "duration": 407,
    "start_time": "2022-01-21T15:17:45.405Z"
   },
   {
    "duration": 477,
    "start_time": "2022-01-21T15:21:37.063Z"
   },
   {
    "duration": 363,
    "start_time": "2022-01-21T15:21:47.642Z"
   },
   {
    "duration": 414,
    "start_time": "2022-01-21T15:21:52.806Z"
   },
   {
    "duration": 5,
    "start_time": "2022-01-21T15:22:26.673Z"
   },
   {
    "duration": 2,
    "start_time": "2022-01-21T15:26:34.487Z"
   },
   {
    "duration": 499,
    "start_time": "2022-01-21T15:32:31.054Z"
   },
   {
    "duration": 380,
    "start_time": "2022-01-21T15:33:49.160Z"
   },
   {
    "duration": 24,
    "start_time": "2022-01-21T15:38:32.472Z"
   },
   {
    "duration": 381,
    "start_time": "2022-01-21T15:38:42.025Z"
   },
   {
    "duration": 14,
    "start_time": "2022-01-21T15:38:48.856Z"
   },
   {
    "duration": 85,
    "start_time": "2022-01-21T15:39:35.032Z"
   },
   {
    "duration": 9,
    "start_time": "2022-01-21T15:39:44.081Z"
   },
   {
    "duration": 93,
    "start_time": "2022-01-21T15:41:13.197Z"
   },
   {
    "duration": 87,
    "start_time": "2022-01-21T15:41:31.646Z"
   },
   {
    "duration": 93,
    "start_time": "2022-01-21T15:41:51.008Z"
   },
   {
    "duration": 106,
    "start_time": "2022-01-21T15:42:05.664Z"
   },
   {
    "duration": 84,
    "start_time": "2022-01-21T15:44:43.782Z"
   },
   {
    "duration": 13,
    "start_time": "2022-01-21T15:44:51.402Z"
   },
   {
    "duration": 15,
    "start_time": "2022-01-21T15:53:27.826Z"
   },
   {
    "duration": 16,
    "start_time": "2022-01-21T15:58:06.445Z"
   },
   {
    "duration": 46,
    "start_time": "2022-01-21T15:58:54.141Z"
   },
   {
    "duration": 50,
    "start_time": "2022-01-21T15:59:05.679Z"
   },
   {
    "duration": 4,
    "start_time": "2022-01-21T15:59:48.240Z"
   },
   {
    "duration": 534,
    "start_time": "2022-01-21T15:59:49.260Z"
   },
   {
    "duration": 742,
    "start_time": "2022-01-21T15:59:53.473Z"
   },
   {
    "duration": 108,
    "start_time": "2022-01-21T16:00:01.241Z"
   },
   {
    "duration": 46,
    "start_time": "2022-01-21T16:00:04.992Z"
   },
   {
    "duration": 8,
    "start_time": "2022-01-21T16:00:06.824Z"
   },
   {
    "duration": 391,
    "start_time": "2022-01-21T16:00:09.452Z"
   },
   {
    "duration": 14,
    "start_time": "2022-01-21T16:00:14.145Z"
   },
   {
    "duration": 45,
    "start_time": "2022-01-21T16:00:18.381Z"
   },
   {
    "duration": 4,
    "start_time": "2022-01-21T16:00:42.096Z"
   },
   {
    "duration": 596,
    "start_time": "2022-01-21T16:00:46.690Z"
   },
   {
    "duration": 661,
    "start_time": "2022-01-21T16:00:48.876Z"
   },
   {
    "duration": 104,
    "start_time": "2022-01-21T16:01:05.999Z"
   },
   {
    "duration": 43,
    "start_time": "2022-01-21T16:01:09.037Z"
   },
   {
    "duration": 8,
    "start_time": "2022-01-21T16:01:12.503Z"
   },
   {
    "duration": 408,
    "start_time": "2022-01-21T16:01:15.624Z"
   },
   {
    "duration": 16,
    "start_time": "2022-01-21T16:01:16.988Z"
   },
   {
    "duration": 321,
    "start_time": "2022-01-21T16:01:31.144Z"
   },
   {
    "duration": 22,
    "start_time": "2022-01-21T16:01:47.616Z"
   },
   {
    "duration": 29,
    "start_time": "2022-01-21T16:02:12.102Z"
   },
   {
    "duration": 6,
    "start_time": "2022-01-21T16:03:09.363Z"
   },
   {
    "duration": 682,
    "start_time": "2022-01-21T16:26:05.046Z"
   },
   {
    "duration": 648,
    "start_time": "2022-01-21T16:26:05.730Z"
   },
   {
    "duration": 723,
    "start_time": "2022-01-21T16:26:06.380Z"
   },
   {
    "duration": 123,
    "start_time": "2022-01-21T16:26:07.105Z"
   },
   {
    "duration": 64,
    "start_time": "2022-01-21T16:26:07.230Z"
   },
   {
    "duration": 9,
    "start_time": "2022-01-21T16:26:07.296Z"
   },
   {
    "duration": 395,
    "start_time": "2022-01-21T16:26:07.307Z"
   },
   {
    "duration": 16,
    "start_time": "2022-01-21T16:26:07.704Z"
   },
   {
    "duration": 9,
    "start_time": "2022-01-21T16:26:07.722Z"
   },
   {
    "duration": 423,
    "start_time": "2022-01-21T16:26:07.733Z"
   },
   {
    "duration": 5,
    "start_time": "2022-01-21T16:26:08.157Z"
   },
   {
    "duration": 49,
    "start_time": "2022-01-21T16:26:37.732Z"
   },
   {
    "duration": 356,
    "start_time": "2022-01-21T16:28:50.218Z"
   },
   {
    "duration": 3,
    "start_time": "2022-01-21T16:29:29.983Z"
   },
   {
    "duration": 612,
    "start_time": "2022-01-21T16:29:31.466Z"
   },
   {
    "duration": 734,
    "start_time": "2022-01-21T16:29:34.550Z"
   },
   {
    "duration": 112,
    "start_time": "2022-01-21T16:30:00.281Z"
   },
   {
    "duration": 48,
    "start_time": "2022-01-21T16:30:04.108Z"
   },
   {
    "duration": 9,
    "start_time": "2022-01-21T16:30:06.164Z"
   },
   {
    "duration": 391,
    "start_time": "2022-01-21T16:30:08.552Z"
   },
   {
    "duration": 15,
    "start_time": "2022-01-21T16:30:15.310Z"
   },
   {
    "duration": 46,
    "start_time": "2022-01-21T16:30:30.091Z"
   },
   {
    "duration": 55,
    "start_time": "2022-01-21T16:31:32.612Z"
   },
   {
    "duration": 252,
    "start_time": "2022-01-21T16:35:52.847Z"
   },
   {
    "duration": 241,
    "start_time": "2022-01-21T16:36:14.348Z"
   },
   {
    "duration": 242,
    "start_time": "2022-01-21T16:37:35.982Z"
   },
   {
    "duration": 237,
    "start_time": "2022-01-21T16:37:42.945Z"
   },
   {
    "duration": 244,
    "start_time": "2022-01-21T16:38:38.702Z"
   },
   {
    "duration": 180,
    "start_time": "2022-01-21T16:38:44.939Z"
   },
   {
    "duration": 173,
    "start_time": "2022-01-21T16:39:05.225Z"
   },
   {
    "duration": 227,
    "start_time": "2022-01-21T16:40:26.972Z"
   },
   {
    "duration": 162,
    "start_time": "2022-01-21T16:40:32.901Z"
   },
   {
    "duration": 7066,
    "start_time": "2022-01-21T16:47:02.079Z"
   },
   {
    "duration": 7179,
    "start_time": "2022-01-21T16:47:29.004Z"
   },
   {
    "duration": 6681,
    "start_time": "2022-01-21T16:48:14.364Z"
   },
   {
    "duration": 1149,
    "start_time": "2022-01-21T16:50:54.301Z"
   },
   {
    "duration": 17,
    "start_time": "2022-01-21T16:51:24.255Z"
   },
   {
    "duration": 17,
    "start_time": "2022-01-21T16:51:57.876Z"
   },
   {
    "duration": 281,
    "start_time": "2022-01-21T16:52:10.968Z"
   },
   {
    "duration": 17,
    "start_time": "2022-01-21T16:52:28.758Z"
   },
   {
    "duration": 16,
    "start_time": "2022-01-21T16:53:34.821Z"
   },
   {
    "duration": 263,
    "start_time": "2022-01-21T16:54:18.990Z"
   },
   {
    "duration": 16,
    "start_time": "2022-01-21T16:54:45.026Z"
   },
   {
    "duration": 38,
    "start_time": "2022-01-21T16:55:08.304Z"
   },
   {
    "duration": 42,
    "start_time": "2022-01-21T16:55:37.532Z"
   },
   {
    "duration": 244,
    "start_time": "2022-01-21T21:08:43.154Z"
   },
   {
    "duration": 648,
    "start_time": "2022-01-21T21:08:50.058Z"
   },
   {
    "duration": 522,
    "start_time": "2022-01-21T21:08:50.708Z"
   },
   {
    "duration": 936,
    "start_time": "2022-01-21T21:08:51.234Z"
   },
   {
    "duration": 138,
    "start_time": "2022-01-21T21:08:52.173Z"
   },
   {
    "duration": 85,
    "start_time": "2022-01-21T21:08:52.313Z"
   },
   {
    "duration": 13,
    "start_time": "2022-01-21T21:08:52.400Z"
   },
   {
    "duration": 430,
    "start_time": "2022-01-21T21:08:52.415Z"
   },
   {
    "duration": 30,
    "start_time": "2022-01-21T21:08:52.847Z"
   },
   {
    "duration": 54,
    "start_time": "2022-01-21T21:08:52.879Z"
   },
   {
    "duration": 187,
    "start_time": "2022-01-21T21:08:52.934Z"
   },
   {
    "duration": 16,
    "start_time": "2022-01-21T21:08:53.123Z"
   },
   {
    "duration": 485,
    "start_time": "2022-01-21T21:08:53.141Z"
   },
   {
    "duration": 6,
    "start_time": "2022-01-21T21:08:53.627Z"
   },
   {
    "duration": 17,
    "start_time": "2022-01-21T21:09:35.268Z"
   },
   {
    "duration": 17,
    "start_time": "2022-01-21T21:09:51.089Z"
   },
   {
    "duration": 16,
    "start_time": "2022-01-21T21:10:10.743Z"
   },
   {
    "duration": 17,
    "start_time": "2022-01-21T21:10:53.186Z"
   },
   {
    "duration": 16,
    "start_time": "2022-01-21T21:11:10.057Z"
   },
   {
    "duration": 20,
    "start_time": "2022-01-21T21:14:15.799Z"
   },
   {
    "duration": 356,
    "start_time": "2022-01-21T21:15:21.941Z"
   },
   {
    "duration": 76,
    "start_time": "2022-01-21T21:15:38.695Z"
   },
   {
    "duration": 47,
    "start_time": "2022-01-21T21:22:45.269Z"
   },
   {
    "duration": 113,
    "start_time": "2022-01-21T21:22:50.504Z"
   },
   {
    "duration": 196,
    "start_time": "2022-01-21T21:22:57.146Z"
   },
   {
    "duration": 49,
    "start_time": "2022-01-21T21:23:12.809Z"
   },
   {
    "duration": 223,
    "start_time": "2022-01-21T21:25:57.437Z"
   },
   {
    "duration": 4243,
    "start_time": "2022-01-21T21:26:11.936Z"
   },
   {
    "duration": 24,
    "start_time": "2022-01-21T21:28:03.900Z"
   },
   {
    "duration": 22,
    "start_time": "2022-01-21T21:37:58.836Z"
   },
   {
    "duration": 24,
    "start_time": "2022-01-21T21:38:06.609Z"
   },
   {
    "duration": 685,
    "start_time": "2022-01-23T08:56:08.725Z"
   },
   {
    "duration": 623,
    "start_time": "2022-01-23T08:56:09.412Z"
   },
   {
    "duration": 850,
    "start_time": "2022-01-23T08:56:10.037Z"
   },
   {
    "duration": 124,
    "start_time": "2022-01-23T08:56:10.889Z"
   },
   {
    "duration": 61,
    "start_time": "2022-01-23T08:56:11.015Z"
   },
   {
    "duration": 9,
    "start_time": "2022-01-23T08:56:11.078Z"
   },
   {
    "duration": 449,
    "start_time": "2022-01-23T08:56:11.089Z"
   },
   {
    "duration": 17,
    "start_time": "2022-01-23T08:56:11.541Z"
   },
   {
    "duration": 45,
    "start_time": "2022-01-23T08:56:11.560Z"
   },
   {
    "duration": 157,
    "start_time": "2022-01-23T08:56:11.626Z"
   },
   {
    "duration": 70,
    "start_time": "2022-01-23T08:56:11.785Z"
   },
   {
    "duration": 24,
    "start_time": "2022-01-23T08:56:11.857Z"
   },
   {
    "duration": 14,
    "start_time": "2022-01-23T08:56:11.882Z"
   },
   {
    "duration": 441,
    "start_time": "2022-01-23T08:56:11.898Z"
   },
   {
    "duration": 4,
    "start_time": "2022-01-23T08:56:12.340Z"
   },
   {
    "duration": 21,
    "start_time": "2022-01-23T08:57:21.017Z"
   },
   {
    "duration": 143,
    "start_time": "2022-01-23T09:00:07.119Z"
   },
   {
    "duration": 506,
    "start_time": "2022-01-23T09:00:25.784Z"
   },
   {
    "duration": 381,
    "start_time": "2022-01-23T09:01:43.574Z"
   },
   {
    "duration": 376,
    "start_time": "2022-01-23T09:01:59.371Z"
   },
   {
    "duration": 2,
    "start_time": "2022-01-23T09:02:04.717Z"
   },
   {
    "duration": 11,
    "start_time": "2022-01-23T09:02:12.415Z"
   },
   {
    "duration": 395,
    "start_time": "2022-01-23T09:02:29.604Z"
   },
   {
    "duration": 460,
    "start_time": "2022-01-23T09:10:56.573Z"
   },
   {
    "duration": 396,
    "start_time": "2022-01-23T09:11:07.383Z"
   },
   {
    "duration": 9,
    "start_time": "2022-01-23T09:15:40.414Z"
   },
   {
    "duration": 401,
    "start_time": "2022-01-23T09:34:55.330Z"
   },
   {
    "duration": 380,
    "start_time": "2022-01-23T09:47:39.111Z"
   },
   {
    "duration": 425,
    "start_time": "2022-01-23T10:01:46.172Z"
   },
   {
    "duration": 242,
    "start_time": "2022-01-23T10:02:18.799Z"
   },
   {
    "duration": 363,
    "start_time": "2022-01-23T10:02:33.738Z"
   },
   {
    "duration": 295,
    "start_time": "2022-01-23T10:02:40.576Z"
   },
   {
    "duration": 661,
    "start_time": "2022-01-23T10:05:43.248Z"
   },
   {
    "duration": 619,
    "start_time": "2022-01-23T10:05:43.911Z"
   },
   {
    "duration": 760,
    "start_time": "2022-01-23T10:05:44.536Z"
   },
   {
    "duration": 163,
    "start_time": "2022-01-23T10:05:45.298Z"
   },
   {
    "duration": 72,
    "start_time": "2022-01-23T10:05:45.463Z"
   },
   {
    "duration": 12,
    "start_time": "2022-01-23T10:05:45.537Z"
   },
   {
    "duration": 616,
    "start_time": "2022-01-23T10:05:45.551Z"
   },
   {
    "duration": 21,
    "start_time": "2022-01-23T10:05:46.169Z"
   },
   {
    "duration": 74,
    "start_time": "2022-01-23T10:05:46.191Z"
   },
   {
    "duration": 241,
    "start_time": "2022-01-23T10:05:46.266Z"
   },
   {
    "duration": 113,
    "start_time": "2022-01-23T10:05:46.509Z"
   },
   {
    "duration": 28,
    "start_time": "2022-01-23T10:05:46.624Z"
   },
   {
    "duration": 19,
    "start_time": "2022-01-23T10:05:46.654Z"
   },
   {
    "duration": 382,
    "start_time": "2022-01-23T10:05:46.675Z"
   },
   {
    "duration": 504,
    "start_time": "2022-01-23T10:05:47.059Z"
   },
   {
    "duration": 252,
    "start_time": "2022-01-23T10:05:47.565Z"
   },
   {
    "duration": 5,
    "start_time": "2022-01-23T10:05:47.827Z"
   },
   {
    "duration": 372,
    "start_time": "2022-01-23T11:34:14.761Z"
   },
   {
    "duration": 314,
    "start_time": "2022-01-23T11:34:27.778Z"
   },
   {
    "duration": 7432,
    "start_time": "2022-01-23T11:34:35.651Z"
   },
   {
    "duration": 8435,
    "start_time": "2022-01-23T11:34:55.755Z"
   },
   {
    "duration": 49,
    "start_time": "2022-01-23T11:36:37.040Z"
   },
   {
    "duration": 51,
    "start_time": "2022-01-23T11:37:01.048Z"
   },
   {
    "duration": 412,
    "start_time": "2022-01-23T12:31:33.558Z"
   },
   {
    "duration": 336,
    "start_time": "2022-01-23T12:32:05.650Z"
   },
   {
    "duration": 202,
    "start_time": "2022-01-23T12:38:28.952Z"
   },
   {
    "duration": 496,
    "start_time": "2022-01-23T12:39:28.719Z"
   },
   {
    "duration": 763,
    "start_time": "2022-01-23T12:39:44.880Z"
   },
   {
    "duration": 724,
    "start_time": "2022-01-23T12:39:51.070Z"
   },
   {
    "duration": 786,
    "start_time": "2022-01-23T12:40:32.084Z"
   },
   {
    "duration": 421,
    "start_time": "2022-01-23T12:46:25.496Z"
   },
   {
    "duration": 314,
    "start_time": "2022-01-23T12:46:38.146Z"
   },
   {
    "duration": 633,
    "start_time": "2022-01-23T12:47:04.047Z"
   },
   {
    "duration": 523,
    "start_time": "2022-01-23T12:48:06.615Z"
   },
   {
    "duration": 488,
    "start_time": "2022-01-23T12:48:13.617Z"
   },
   {
    "duration": 215,
    "start_time": "2022-01-23T12:48:26.936Z"
   },
   {
    "duration": 463,
    "start_time": "2022-01-23T12:48:56.726Z"
   },
   {
    "duration": 205,
    "start_time": "2022-01-23T12:50:06.549Z"
   },
   {
    "duration": 194,
    "start_time": "2022-01-23T12:50:27.250Z"
   },
   {
    "duration": 209,
    "start_time": "2022-01-23T12:50:45.372Z"
   },
   {
    "duration": 179,
    "start_time": "2022-01-23T12:52:08.095Z"
   },
   {
    "duration": 241,
    "start_time": "2022-01-23T12:55:14.351Z"
   },
   {
    "duration": 265,
    "start_time": "2022-01-23T12:55:38.705Z"
   },
   {
    "duration": 7421,
    "start_time": "2022-01-23T13:02:37.853Z"
   },
   {
    "duration": 178,
    "start_time": "2022-01-23T13:11:32.976Z"
   },
   {
    "duration": 237,
    "start_time": "2022-01-23T13:11:45.597Z"
   },
   {
    "duration": 7103,
    "start_time": "2022-01-23T13:12:10.409Z"
   },
   {
    "duration": 397,
    "start_time": "2022-01-23T13:12:39.612Z"
   },
   {
    "duration": 177,
    "start_time": "2022-01-23T13:14:02.521Z"
   },
   {
    "duration": 163,
    "start_time": "2022-01-23T13:14:17.821Z"
   },
   {
    "duration": 228,
    "start_time": "2022-01-23T13:14:35.912Z"
   },
   {
    "duration": 166,
    "start_time": "2022-01-23T13:15:17.101Z"
   },
   {
    "duration": 165,
    "start_time": "2022-01-23T13:15:24.715Z"
   },
   {
    "duration": 176,
    "start_time": "2022-01-23T13:15:38.172Z"
   },
   {
    "duration": 183,
    "start_time": "2022-01-23T13:16:20.300Z"
   },
   {
    "duration": 176,
    "start_time": "2022-01-23T13:16:45.285Z"
   },
   {
    "duration": 252,
    "start_time": "2022-01-23T13:23:32.999Z"
   },
   {
    "duration": 272,
    "start_time": "2022-01-23T13:24:05.816Z"
   },
   {
    "duration": 252,
    "start_time": "2022-01-23T13:25:30.349Z"
   },
   {
    "duration": 162,
    "start_time": "2022-01-23T13:25:37.098Z"
   },
   {
    "duration": 163,
    "start_time": "2022-01-23T13:25:54.707Z"
   },
   {
    "duration": 174,
    "start_time": "2022-01-23T13:26:13.859Z"
   },
   {
    "duration": 178,
    "start_time": "2022-01-23T14:24:04.967Z"
   },
   {
    "duration": 291,
    "start_time": "2022-01-23T14:34:29.157Z"
   },
   {
    "duration": 9430,
    "start_time": "2022-01-23T14:35:06.068Z"
   },
   {
    "duration": 2887,
    "start_time": "2022-01-23T14:35:17.023Z"
   },
   {
    "duration": 2721,
    "start_time": "2022-01-23T14:35:36.641Z"
   },
   {
    "duration": 8,
    "start_time": "2022-01-23T14:35:49.683Z"
   },
   {
    "duration": 301,
    "start_time": "2022-01-23T14:36:08.128Z"
   },
   {
    "duration": 287,
    "start_time": "2022-01-23T14:37:05.058Z"
   },
   {
    "duration": 301,
    "start_time": "2022-01-23T14:37:27.005Z"
   },
   {
    "duration": 7,
    "start_time": "2022-01-23T14:37:43.243Z"
   },
   {
    "duration": 22,
    "start_time": "2022-01-23T14:37:56.911Z"
   },
   {
    "duration": 274,
    "start_time": "2022-01-23T14:40:38.652Z"
   },
   {
    "duration": 293,
    "start_time": "2022-01-23T14:42:29.595Z"
   },
   {
    "duration": 30,
    "start_time": "2022-01-23T14:43:04.073Z"
   },
   {
    "duration": 34,
    "start_time": "2022-01-23T14:43:12.906Z"
   },
   {
    "duration": 301,
    "start_time": "2022-01-23T14:55:27.527Z"
   },
   {
    "duration": 73,
    "start_time": "2022-01-23T14:55:54.124Z"
   },
   {
    "duration": 68,
    "start_time": "2022-01-23T14:57:59.220Z"
   },
   {
    "duration": 71,
    "start_time": "2022-01-23T14:59:10.876Z"
   },
   {
    "duration": 66,
    "start_time": "2022-01-23T14:59:42.755Z"
   },
   {
    "duration": 86,
    "start_time": "2022-01-23T15:01:54.621Z"
   },
   {
    "duration": 80,
    "start_time": "2022-01-23T15:02:11.815Z"
   },
   {
    "duration": 83,
    "start_time": "2022-01-23T15:02:33.820Z"
   },
   {
    "duration": 85,
    "start_time": "2022-01-23T15:03:02.477Z"
   },
   {
    "duration": 84,
    "start_time": "2022-01-23T15:19:30.064Z"
   },
   {
    "duration": 444,
    "start_time": "2022-01-23T15:21:13.294Z"
   },
   {
    "duration": 313,
    "start_time": "2022-01-23T15:23:48.384Z"
   },
   {
    "duration": 136,
    "start_time": "2022-01-23T15:24:01.719Z"
   },
   {
    "duration": 81,
    "start_time": "2022-01-23T15:24:55.623Z"
   },
   {
    "duration": 351,
    "start_time": "2022-01-23T15:29:41.920Z"
   },
   {
    "duration": 930,
    "start_time": "2022-01-23T15:29:58.485Z"
   },
   {
    "duration": 853,
    "start_time": "2022-01-23T15:29:59.417Z"
   },
   {
    "duration": 1016,
    "start_time": "2022-01-23T15:30:00.274Z"
   },
   {
    "duration": 138,
    "start_time": "2022-01-23T15:30:01.292Z"
   },
   {
    "duration": 69,
    "start_time": "2022-01-23T15:30:01.432Z"
   },
   {
    "duration": 24,
    "start_time": "2022-01-23T15:30:01.503Z"
   },
   {
    "duration": 615,
    "start_time": "2022-01-23T15:30:01.530Z"
   },
   {
    "duration": 21,
    "start_time": "2022-01-23T15:30:02.148Z"
   },
   {
    "duration": 81,
    "start_time": "2022-01-23T15:30:02.171Z"
   },
   {
    "duration": 194,
    "start_time": "2022-01-23T15:30:02.254Z"
   },
   {
    "duration": 121,
    "start_time": "2022-01-23T15:30:02.449Z"
   },
   {
    "duration": 28,
    "start_time": "2022-01-23T15:30:02.572Z"
   },
   {
    "duration": 42,
    "start_time": "2022-01-23T15:30:02.602Z"
   },
   {
    "duration": 381,
    "start_time": "2022-01-23T15:30:02.646Z"
   },
   {
    "duration": 664,
    "start_time": "2022-01-23T15:30:03.029Z"
   },
   {
    "duration": 274,
    "start_time": "2022-01-23T15:30:03.695Z"
   },
   {
    "duration": 200,
    "start_time": "2022-01-23T15:30:03.971Z"
   },
   {
    "duration": 334,
    "start_time": "2022-01-23T15:30:04.173Z"
   },
   {
    "duration": 191,
    "start_time": "2022-01-23T15:30:04.509Z"
   },
   {
    "duration": 107,
    "start_time": "2022-01-23T15:30:04.701Z"
   },
   {
    "duration": 99,
    "start_time": "2022-01-23T15:33:53.015Z"
   },
   {
    "duration": 595,
    "start_time": "2022-01-24T05:46:38.780Z"
   },
   {
    "duration": 548,
    "start_time": "2022-01-24T05:46:39.377Z"
   },
   {
    "duration": 713,
    "start_time": "2022-01-24T05:46:39.926Z"
   },
   {
    "duration": 121,
    "start_time": "2022-01-24T05:46:40.640Z"
   },
   {
    "duration": 73,
    "start_time": "2022-01-24T05:46:40.763Z"
   },
   {
    "duration": 10,
    "start_time": "2022-01-24T05:46:40.838Z"
   },
   {
    "duration": 407,
    "start_time": "2022-01-24T05:46:40.850Z"
   },
   {
    "duration": 17,
    "start_time": "2022-01-24T05:46:41.260Z"
   },
   {
    "duration": 65,
    "start_time": "2022-01-24T05:46:41.279Z"
   },
   {
    "duration": 170,
    "start_time": "2022-01-24T05:46:41.346Z"
   },
   {
    "duration": 68,
    "start_time": "2022-01-24T05:46:41.518Z"
   },
   {
    "duration": 19,
    "start_time": "2022-01-24T05:46:41.588Z"
   },
   {
    "duration": 32,
    "start_time": "2022-01-24T05:46:41.608Z"
   },
   {
    "duration": 276,
    "start_time": "2022-01-24T05:46:41.641Z"
   },
   {
    "duration": 390,
    "start_time": "2022-01-24T05:46:41.918Z"
   },
   {
    "duration": 245,
    "start_time": "2022-01-24T05:46:42.310Z"
   },
   {
    "duration": 186,
    "start_time": "2022-01-24T05:46:42.556Z"
   },
   {
    "duration": 166,
    "start_time": "2022-01-24T05:46:42.743Z"
   },
   {
    "duration": 174,
    "start_time": "2022-01-24T05:46:42.911Z"
   },
   {
    "duration": 111,
    "start_time": "2022-01-24T05:46:43.086Z"
   },
   {
    "duration": 665,
    "start_time": "2022-01-24T06:30:19.183Z"
   },
   {
    "duration": 605,
    "start_time": "2022-01-24T06:30:19.851Z"
   },
   {
    "duration": 730,
    "start_time": "2022-01-24T06:30:20.458Z"
   },
   {
    "duration": 108,
    "start_time": "2022-01-24T06:30:21.189Z"
   },
   {
    "duration": 62,
    "start_time": "2022-01-24T06:30:21.299Z"
   },
   {
    "duration": 11,
    "start_time": "2022-01-24T06:30:21.363Z"
   },
   {
    "duration": 387,
    "start_time": "2022-01-24T06:30:21.376Z"
   },
   {
    "duration": 17,
    "start_time": "2022-01-24T06:30:21.764Z"
   },
   {
    "duration": 47,
    "start_time": "2022-01-24T06:30:21.782Z"
   },
   {
    "duration": 162,
    "start_time": "2022-01-24T06:30:21.830Z"
   },
   {
    "duration": 68,
    "start_time": "2022-01-24T06:30:21.994Z"
   },
   {
    "duration": 20,
    "start_time": "2022-01-24T06:30:22.064Z"
   },
   {
    "duration": 15,
    "start_time": "2022-01-24T06:30:22.086Z"
   },
   {
    "duration": 326,
    "start_time": "2022-01-24T06:30:22.103Z"
   },
   {
    "duration": 484,
    "start_time": "2022-01-24T06:30:22.431Z"
   },
   {
    "duration": 261,
    "start_time": "2022-01-24T06:30:22.917Z"
   },
   {
    "duration": 191,
    "start_time": "2022-01-24T06:30:23.180Z"
   },
   {
    "duration": 180,
    "start_time": "2022-01-24T06:30:23.372Z"
   },
   {
    "duration": 185,
    "start_time": "2022-01-24T06:30:23.554Z"
   },
   {
    "duration": 114,
    "start_time": "2022-01-24T06:30:23.741Z"
   },
   {
    "duration": 661,
    "start_time": "2022-01-24T06:31:30.048Z"
   },
   {
    "duration": 616,
    "start_time": "2022-01-24T06:31:30.712Z"
   },
   {
    "duration": 853,
    "start_time": "2022-01-24T06:31:31.330Z"
   },
   {
    "duration": 156,
    "start_time": "2022-01-24T06:31:32.186Z"
   },
   {
    "duration": 61,
    "start_time": "2022-01-24T06:31:32.343Z"
   },
   {
    "duration": 26,
    "start_time": "2022-01-24T06:31:32.406Z"
   },
   {
    "duration": 405,
    "start_time": "2022-01-24T06:31:32.434Z"
   },
   {
    "duration": 27,
    "start_time": "2022-01-24T06:31:32.841Z"
   },
   {
    "duration": 70,
    "start_time": "2022-01-24T06:31:32.870Z"
   },
   {
    "duration": 186,
    "start_time": "2022-01-24T06:31:32.943Z"
   },
   {
    "duration": 63,
    "start_time": "2022-01-24T06:31:33.130Z"
   },
   {
    "duration": 36,
    "start_time": "2022-01-24T06:31:33.195Z"
   },
   {
    "duration": 17,
    "start_time": "2022-01-24T06:31:33.232Z"
   },
   {
    "duration": 289,
    "start_time": "2022-01-24T06:31:33.251Z"
   },
   {
    "duration": 474,
    "start_time": "2022-01-24T06:31:33.542Z"
   },
   {
    "duration": 259,
    "start_time": "2022-01-24T06:31:34.018Z"
   },
   {
    "duration": 190,
    "start_time": "2022-01-24T06:31:34.279Z"
   },
   {
    "duration": 177,
    "start_time": "2022-01-24T06:31:34.471Z"
   },
   {
    "duration": 206,
    "start_time": "2022-01-24T06:31:34.650Z"
   },
   {
    "duration": 111,
    "start_time": "2022-01-24T06:31:34.858Z"
   },
   {
    "duration": 657,
    "start_time": "2022-01-24T07:49:35.210Z"
   },
   {
    "duration": 533,
    "start_time": "2022-01-24T07:49:35.868Z"
   },
   {
    "duration": 675,
    "start_time": "2022-01-24T07:49:36.403Z"
   },
   {
    "duration": 127,
    "start_time": "2022-01-24T07:49:37.080Z"
   },
   {
    "duration": 64,
    "start_time": "2022-01-24T07:49:37.209Z"
   },
   {
    "duration": 9,
    "start_time": "2022-01-24T07:49:37.274Z"
   },
   {
    "duration": 404,
    "start_time": "2022-01-24T07:49:37.285Z"
   },
   {
    "duration": 17,
    "start_time": "2022-01-24T07:49:37.691Z"
   },
   {
    "duration": 57,
    "start_time": "2022-01-24T07:49:37.710Z"
   },
   {
    "duration": 168,
    "start_time": "2022-01-24T07:49:37.768Z"
   },
   {
    "duration": 64,
    "start_time": "2022-01-24T07:49:37.938Z"
   },
   {
    "duration": 33,
    "start_time": "2022-01-24T07:49:38.004Z"
   },
   {
    "duration": 16,
    "start_time": "2022-01-24T07:49:38.039Z"
   },
   {
    "duration": 297,
    "start_time": "2022-01-24T07:49:38.057Z"
   },
   {
    "duration": 390,
    "start_time": "2022-01-24T07:49:38.356Z"
   },
   {
    "duration": 251,
    "start_time": "2022-01-24T07:49:38.747Z"
   },
   {
    "duration": 255,
    "start_time": "2022-01-24T07:49:39.000Z"
   },
   {
    "duration": 172,
    "start_time": "2022-01-24T07:49:39.257Z"
   },
   {
    "duration": 177,
    "start_time": "2022-01-24T07:49:39.431Z"
   },
   {
    "duration": 100,
    "start_time": "2022-01-24T07:49:39.609Z"
   },
   {
    "duration": 319,
    "start_time": "2022-01-24T07:49:58.173Z"
   },
   {
    "duration": 633,
    "start_time": "2022-01-24T07:50:08.438Z"
   },
   {
    "duration": 545,
    "start_time": "2022-01-24T07:50:09.882Z"
   },
   {
    "duration": 750,
    "start_time": "2022-01-24T07:50:14.592Z"
   },
   {
    "duration": 107,
    "start_time": "2022-01-24T07:50:20.101Z"
   },
   {
    "duration": 383,
    "start_time": "2022-01-24T07:51:12.461Z"
   },
   {
    "duration": 335,
    "start_time": "2022-01-24T07:52:34.586Z"
   },
   {
    "duration": 106,
    "start_time": "2022-01-24T07:56:12.638Z"
   },
   {
    "duration": 386,
    "start_time": "2022-01-24T07:56:30.054Z"
   },
   {
    "duration": 403,
    "start_time": "2022-01-24T07:56:35.990Z"
   },
   {
    "duration": 344,
    "start_time": "2022-01-24T09:04:50.661Z"
   },
   {
    "duration": 343,
    "start_time": "2022-01-24T09:05:07.093Z"
   },
   {
    "duration": 598,
    "start_time": "2022-01-24T09:39:29.473Z"
   },
   {
    "duration": 574,
    "start_time": "2022-01-24T09:39:30.073Z"
   },
   {
    "duration": 729,
    "start_time": "2022-01-24T09:39:30.651Z"
   },
   {
    "duration": 126,
    "start_time": "2022-01-24T09:39:31.382Z"
   },
   {
    "duration": 69,
    "start_time": "2022-01-24T09:39:31.510Z"
   },
   {
    "duration": 8,
    "start_time": "2022-01-24T09:39:31.581Z"
   },
   {
    "duration": 408,
    "start_time": "2022-01-24T09:39:31.591Z"
   },
   {
    "duration": 26,
    "start_time": "2022-01-24T09:39:32.001Z"
   },
   {
    "duration": 48,
    "start_time": "2022-01-24T09:39:32.029Z"
   },
   {
    "duration": 169,
    "start_time": "2022-01-24T09:39:32.078Z"
   },
   {
    "duration": 60,
    "start_time": "2022-01-24T09:39:32.249Z"
   },
   {
    "duration": 18,
    "start_time": "2022-01-24T09:39:32.327Z"
   },
   {
    "duration": 15,
    "start_time": "2022-01-24T09:39:32.347Z"
   },
   {
    "duration": 260,
    "start_time": "2022-01-24T09:39:32.363Z"
   },
   {
    "duration": 440,
    "start_time": "2022-01-24T09:39:32.627Z"
   },
   {
    "duration": 266,
    "start_time": "2022-01-24T09:39:33.068Z"
   },
   {
    "duration": 185,
    "start_time": "2022-01-24T09:39:33.336Z"
   },
   {
    "duration": 174,
    "start_time": "2022-01-24T09:39:33.522Z"
   },
   {
    "duration": 187,
    "start_time": "2022-01-24T09:39:33.698Z"
   },
   {
    "duration": 103,
    "start_time": "2022-01-24T09:39:33.886Z"
   },
   {
    "duration": 592,
    "start_time": "2022-01-24T09:39:33.990Z"
   },
   {
    "duration": 358,
    "start_time": "2022-01-24T10:47:49.369Z"
   },
   {
    "duration": 624,
    "start_time": "2022-01-24T10:47:56.558Z"
   },
   {
    "duration": 564,
    "start_time": "2022-01-24T10:47:57.184Z"
   },
   {
    "duration": 694,
    "start_time": "2022-01-24T10:47:57.750Z"
   },
   {
    "duration": 116,
    "start_time": "2022-01-24T10:47:58.445Z"
   },
   {
    "duration": 72,
    "start_time": "2022-01-24T10:47:58.563Z"
   },
   {
    "duration": 9,
    "start_time": "2022-01-24T10:47:58.636Z"
   },
   {
    "duration": 390,
    "start_time": "2022-01-24T10:47:58.647Z"
   },
   {
    "duration": 19,
    "start_time": "2022-01-24T10:47:59.040Z"
   },
   {
    "duration": 45,
    "start_time": "2022-01-24T10:47:59.061Z"
   },
   {
    "duration": 166,
    "start_time": "2022-01-24T10:47:59.128Z"
   },
   {
    "duration": 69,
    "start_time": "2022-01-24T10:47:59.295Z"
   },
   {
    "duration": 19,
    "start_time": "2022-01-24T10:47:59.366Z"
   },
   {
    "duration": 14,
    "start_time": "2022-01-24T10:47:59.387Z"
   },
   {
    "duration": 254,
    "start_time": "2022-01-24T10:47:59.402Z"
   },
   {
    "duration": 439,
    "start_time": "2022-01-24T10:47:59.658Z"
   },
   {
    "duration": 251,
    "start_time": "2022-01-24T10:48:00.098Z"
   },
   {
    "duration": 187,
    "start_time": "2022-01-24T10:48:00.350Z"
   },
   {
    "duration": 172,
    "start_time": "2022-01-24T10:48:00.544Z"
   },
   {
    "duration": 189,
    "start_time": "2022-01-24T10:48:00.717Z"
   },
   {
    "duration": 101,
    "start_time": "2022-01-24T10:48:00.907Z"
   },
   {
    "duration": 318,
    "start_time": "2022-01-24T10:49:20.813Z"
   },
   {
    "duration": 590,
    "start_time": "2022-01-24T10:49:26.275Z"
   },
   {
    "duration": 549,
    "start_time": "2022-01-24T10:49:26.867Z"
   },
   {
    "duration": 659,
    "start_time": "2022-01-24T10:49:27.418Z"
   },
   {
    "duration": 124,
    "start_time": "2022-01-24T10:49:28.079Z"
   },
   {
    "duration": 66,
    "start_time": "2022-01-24T10:49:28.204Z"
   },
   {
    "duration": 9,
    "start_time": "2022-01-24T10:49:28.272Z"
   },
   {
    "duration": 396,
    "start_time": "2022-01-24T10:49:28.283Z"
   },
   {
    "duration": 17,
    "start_time": "2022-01-24T10:49:28.682Z"
   },
   {
    "duration": 66,
    "start_time": "2022-01-24T10:49:28.701Z"
   },
   {
    "duration": 204,
    "start_time": "2022-01-24T10:49:28.769Z"
   },
   {
    "duration": 67,
    "start_time": "2022-01-24T10:49:28.975Z"
   },
   {
    "duration": 22,
    "start_time": "2022-01-24T10:49:29.044Z"
   },
   {
    "duration": 16,
    "start_time": "2022-01-24T10:49:29.067Z"
   },
   {
    "duration": 309,
    "start_time": "2022-01-24T10:49:29.084Z"
   },
   {
    "duration": 385,
    "start_time": "2022-01-24T10:49:29.395Z"
   },
   {
    "duration": 260,
    "start_time": "2022-01-24T10:49:29.781Z"
   },
   {
    "duration": 191,
    "start_time": "2022-01-24T10:49:30.043Z"
   },
   {
    "duration": 172,
    "start_time": "2022-01-24T10:49:30.236Z"
   },
   {
    "duration": 183,
    "start_time": "2022-01-24T10:49:30.410Z"
   },
   {
    "duration": 109,
    "start_time": "2022-01-24T10:49:30.595Z"
   },
   {
    "duration": 2615,
    "start_time": "2022-01-24T10:49:30.706Z"
   },
   {
    "duration": 368,
    "start_time": "2022-01-24T10:58:14.812Z"
   },
   {
    "duration": 656,
    "start_time": "2022-01-24T10:58:20.132Z"
   },
   {
    "duration": 580,
    "start_time": "2022-01-24T10:58:20.792Z"
   },
   {
    "duration": 683,
    "start_time": "2022-01-24T10:58:21.374Z"
   },
   {
    "duration": 115,
    "start_time": "2022-01-24T10:58:22.059Z"
   },
   {
    "duration": 66,
    "start_time": "2022-01-24T10:58:22.175Z"
   },
   {
    "duration": 10,
    "start_time": "2022-01-24T10:58:22.243Z"
   },
   {
    "duration": 393,
    "start_time": "2022-01-24T10:58:22.255Z"
   },
   {
    "duration": 17,
    "start_time": "2022-01-24T10:58:22.651Z"
   },
   {
    "duration": 59,
    "start_time": "2022-01-24T10:58:22.669Z"
   },
   {
    "duration": 159,
    "start_time": "2022-01-24T10:58:22.729Z"
   },
   {
    "duration": 68,
    "start_time": "2022-01-24T10:58:22.889Z"
   },
   {
    "duration": 18,
    "start_time": "2022-01-24T10:58:22.959Z"
   },
   {
    "duration": 15,
    "start_time": "2022-01-24T10:58:22.978Z"
   },
   {
    "duration": 296,
    "start_time": "2022-01-24T10:58:22.994Z"
   },
   {
    "duration": 386,
    "start_time": "2022-01-24T10:58:23.292Z"
   },
   {
    "duration": 251,
    "start_time": "2022-01-24T10:58:23.679Z"
   },
   {
    "duration": 184,
    "start_time": "2022-01-24T10:58:23.931Z"
   },
   {
    "duration": 174,
    "start_time": "2022-01-24T10:58:24.117Z"
   },
   {
    "duration": 177,
    "start_time": "2022-01-24T10:58:24.292Z"
   },
   {
    "duration": 105,
    "start_time": "2022-01-24T10:58:24.471Z"
   },
   {
    "duration": 2699,
    "start_time": "2022-01-24T10:58:24.577Z"
   },
   {
    "duration": 651,
    "start_time": "2022-01-24T11:04:25.610Z"
   },
   {
    "duration": 551,
    "start_time": "2022-01-24T11:04:26.263Z"
   },
   {
    "duration": 736,
    "start_time": "2022-01-24T11:04:26.816Z"
   },
   {
    "duration": 121,
    "start_time": "2022-01-24T11:04:27.554Z"
   },
   {
    "duration": 74,
    "start_time": "2022-01-24T11:04:27.677Z"
   },
   {
    "duration": 10,
    "start_time": "2022-01-24T11:04:27.752Z"
   },
   {
    "duration": 396,
    "start_time": "2022-01-24T11:04:27.764Z"
   },
   {
    "duration": 17,
    "start_time": "2022-01-24T11:04:28.162Z"
   },
   {
    "duration": 62,
    "start_time": "2022-01-24T11:04:28.181Z"
   },
   {
    "duration": 159,
    "start_time": "2022-01-24T11:04:28.245Z"
   },
   {
    "duration": 75,
    "start_time": "2022-01-24T11:04:28.405Z"
   },
   {
    "duration": 19,
    "start_time": "2022-01-24T11:04:28.482Z"
   },
   {
    "duration": 36,
    "start_time": "2022-01-24T11:04:28.502Z"
   },
   {
    "duration": 282,
    "start_time": "2022-01-24T11:04:28.539Z"
   },
   {
    "duration": 397,
    "start_time": "2022-01-24T11:04:28.822Z"
   },
   {
    "duration": 256,
    "start_time": "2022-01-24T11:04:29.221Z"
   },
   {
    "duration": 184,
    "start_time": "2022-01-24T11:04:29.479Z"
   },
   {
    "duration": 172,
    "start_time": "2022-01-24T11:04:29.665Z"
   },
   {
    "duration": 192,
    "start_time": "2022-01-24T11:04:29.839Z"
   },
   {
    "duration": 109,
    "start_time": "2022-01-24T11:04:30.032Z"
   },
   {
    "duration": 2712,
    "start_time": "2022-01-24T11:04:30.142Z"
   },
   {
    "duration": 338,
    "start_time": "2022-01-24T11:09:12.568Z"
   },
   {
    "duration": 654,
    "start_time": "2022-01-24T11:09:20.121Z"
   },
   {
    "duration": 547,
    "start_time": "2022-01-24T11:09:20.777Z"
   },
   {
    "duration": 704,
    "start_time": "2022-01-24T11:09:21.325Z"
   },
   {
    "duration": 110,
    "start_time": "2022-01-24T11:09:22.031Z"
   },
   {
    "duration": 51,
    "start_time": "2022-01-24T11:09:22.143Z"
   },
   {
    "duration": 8,
    "start_time": "2022-01-24T11:09:22.196Z"
   },
   {
    "duration": 405,
    "start_time": "2022-01-24T11:09:22.206Z"
   },
   {
    "duration": 26,
    "start_time": "2022-01-24T11:09:22.614Z"
   },
   {
    "duration": 42,
    "start_time": "2022-01-24T11:09:22.643Z"
   },
   {
    "duration": 221,
    "start_time": "2022-01-24T11:09:22.686Z"
   },
   {
    "duration": 126,
    "start_time": "2022-01-24T11:09:22.909Z"
   },
   {
    "duration": 38,
    "start_time": "2022-01-24T11:09:23.037Z"
   },
   {
    "duration": 67,
    "start_time": "2022-01-24T11:09:23.084Z"
   },
   {
    "duration": 301,
    "start_time": "2022-01-24T11:09:23.154Z"
   },
   {
    "duration": 415,
    "start_time": "2022-01-24T11:09:23.456Z"
   },
   {
    "duration": 292,
    "start_time": "2022-01-24T11:09:23.873Z"
   },
   {
    "duration": 237,
    "start_time": "2022-01-24T11:09:24.167Z"
   },
   {
    "duration": 174,
    "start_time": "2022-01-24T11:09:24.405Z"
   },
   {
    "duration": 180,
    "start_time": "2022-01-24T11:09:24.581Z"
   },
   {
    "duration": 104,
    "start_time": "2022-01-24T11:09:24.763Z"
   },
   {
    "duration": 11,
    "start_time": "2022-01-24T11:09:24.869Z"
   },
   {
    "duration": 46,
    "start_time": "2022-01-24T11:09:24.881Z"
   },
   {
    "duration": 11,
    "start_time": "2022-01-24T11:13:28.177Z"
   },
   {
    "duration": 14,
    "start_time": "2022-01-24T11:14:19.671Z"
   },
   {
    "duration": 38,
    "start_time": "2022-01-24T11:38:52.324Z"
   },
   {
    "duration": 693,
    "start_time": "2022-01-24T11:39:00.117Z"
   },
   {
    "duration": 563,
    "start_time": "2022-01-24T11:39:00.812Z"
   },
   {
    "duration": 811,
    "start_time": "2022-01-24T11:39:01.378Z"
   },
   {
    "duration": 143,
    "start_time": "2022-01-24T11:39:02.191Z"
   },
   {
    "duration": 55,
    "start_time": "2022-01-24T11:39:02.336Z"
   },
   {
    "duration": 9,
    "start_time": "2022-01-24T11:39:02.392Z"
   },
   {
    "duration": 411,
    "start_time": "2022-01-24T11:39:02.403Z"
   },
   {
    "duration": 20,
    "start_time": "2022-01-24T11:39:02.816Z"
   },
   {
    "duration": 44,
    "start_time": "2022-01-24T11:39:02.838Z"
   },
   {
    "duration": 176,
    "start_time": "2022-01-24T11:39:02.884Z"
   },
   {
    "duration": 73,
    "start_time": "2022-01-24T11:39:03.062Z"
   },
   {
    "duration": 20,
    "start_time": "2022-01-24T11:39:03.137Z"
   },
   {
    "duration": 17,
    "start_time": "2022-01-24T11:39:03.159Z"
   },
   {
    "duration": 271,
    "start_time": "2022-01-24T11:39:03.178Z"
   },
   {
    "duration": 458,
    "start_time": "2022-01-24T11:39:03.451Z"
   },
   {
    "duration": 254,
    "start_time": "2022-01-24T11:39:03.911Z"
   },
   {
    "duration": 196,
    "start_time": "2022-01-24T11:39:04.167Z"
   },
   {
    "duration": 175,
    "start_time": "2022-01-24T11:39:04.365Z"
   },
   {
    "duration": 185,
    "start_time": "2022-01-24T11:39:04.542Z"
   },
   {
    "duration": 104,
    "start_time": "2022-01-24T11:39:04.729Z"
   },
   {
    "duration": 15,
    "start_time": "2022-01-24T11:39:04.835Z"
   },
   {
    "duration": 23,
    "start_time": "2022-01-24T11:41:42.797Z"
   },
   {
    "duration": 620,
    "start_time": "2022-01-24T11:42:57.282Z"
   },
   {
    "duration": 602,
    "start_time": "2022-01-24T11:42:57.904Z"
   },
   {
    "duration": 749,
    "start_time": "2022-01-24T11:42:58.507Z"
   },
   {
    "duration": 122,
    "start_time": "2022-01-24T11:42:59.259Z"
   },
   {
    "duration": 73,
    "start_time": "2022-01-24T11:42:59.383Z"
   },
   {
    "duration": 10,
    "start_time": "2022-01-24T11:42:59.457Z"
   },
   {
    "duration": 395,
    "start_time": "2022-01-24T11:42:59.469Z"
   },
   {
    "duration": 17,
    "start_time": "2022-01-24T11:42:59.867Z"
   },
   {
    "duration": 56,
    "start_time": "2022-01-24T11:42:59.886Z"
   },
   {
    "duration": 161,
    "start_time": "2022-01-24T11:42:59.944Z"
   },
   {
    "duration": 72,
    "start_time": "2022-01-24T11:43:00.107Z"
   },
   {
    "duration": 21,
    "start_time": "2022-01-24T11:43:00.181Z"
   },
   {
    "duration": 31,
    "start_time": "2022-01-24T11:43:00.204Z"
   },
   {
    "duration": 258,
    "start_time": "2022-01-24T11:43:00.237Z"
   },
   {
    "duration": 437,
    "start_time": "2022-01-24T11:43:00.497Z"
   },
   {
    "duration": 268,
    "start_time": "2022-01-24T11:43:00.936Z"
   },
   {
    "duration": 202,
    "start_time": "2022-01-24T11:43:01.206Z"
   },
   {
    "duration": 177,
    "start_time": "2022-01-24T11:43:01.410Z"
   },
   {
    "duration": 203,
    "start_time": "2022-01-24T11:43:01.589Z"
   },
   {
    "duration": 114,
    "start_time": "2022-01-24T11:43:01.794Z"
   },
   {
    "duration": 7800,
    "start_time": "2022-01-24T11:43:01.910Z"
   },
   {
    "duration": 649,
    "start_time": "2022-01-25T05:22:06.126Z"
   },
   {
    "duration": 556,
    "start_time": "2022-01-25T05:22:06.777Z"
   },
   {
    "duration": 737,
    "start_time": "2022-01-25T05:22:07.335Z"
   },
   {
    "duration": 126,
    "start_time": "2022-01-25T05:22:08.074Z"
   },
   {
    "duration": 76,
    "start_time": "2022-01-25T05:22:08.201Z"
   },
   {
    "duration": 10,
    "start_time": "2022-01-25T05:22:08.278Z"
   },
   {
    "duration": 390,
    "start_time": "2022-01-25T05:22:08.289Z"
   },
   {
    "duration": 17,
    "start_time": "2022-01-25T05:22:08.681Z"
   },
   {
    "duration": 57,
    "start_time": "2022-01-25T05:22:08.700Z"
   },
   {
    "duration": 157,
    "start_time": "2022-01-25T05:22:08.758Z"
   },
   {
    "duration": 65,
    "start_time": "2022-01-25T05:22:08.917Z"
   },
   {
    "duration": 21,
    "start_time": "2022-01-25T05:22:08.984Z"
   },
   {
    "duration": 46,
    "start_time": "2022-01-25T05:22:09.006Z"
   },
   {
    "duration": 255,
    "start_time": "2022-01-25T05:22:09.054Z"
   },
   {
    "duration": 442,
    "start_time": "2022-01-25T05:22:09.310Z"
   },
   {
    "duration": 257,
    "start_time": "2022-01-25T05:22:09.754Z"
   },
   {
    "duration": 190,
    "start_time": "2022-01-25T05:22:10.012Z"
   },
   {
    "duration": 172,
    "start_time": "2022-01-25T05:22:10.203Z"
   },
   {
    "duration": 183,
    "start_time": "2022-01-25T05:22:10.376Z"
   },
   {
    "duration": 110,
    "start_time": "2022-01-25T05:22:10.560Z"
   },
   {
    "duration": 7028,
    "start_time": "2022-01-25T05:22:10.671Z"
   },
   {
    "duration": 24,
    "start_time": "2022-01-25T05:22:55.439Z"
   },
   {
    "duration": 297,
    "start_time": "2022-01-25T05:23:09.490Z"
   },
   {
    "duration": 23,
    "start_time": "2022-01-25T05:23:27.943Z"
   },
   {
    "duration": 661,
    "start_time": "2022-01-25T05:24:06.599Z"
   },
   {
    "duration": 660,
    "start_time": "2022-01-25T05:24:07.262Z"
   },
   {
    "duration": 771,
    "start_time": "2022-01-25T05:24:07.924Z"
   },
   {
    "duration": 132,
    "start_time": "2022-01-25T05:24:08.697Z"
   },
   {
    "duration": 62,
    "start_time": "2022-01-25T05:24:08.830Z"
   },
   {
    "duration": 10,
    "start_time": "2022-01-25T05:24:08.894Z"
   },
   {
    "duration": 406,
    "start_time": "2022-01-25T05:24:08.906Z"
   },
   {
    "duration": 21,
    "start_time": "2022-01-25T05:24:09.314Z"
   },
   {
    "duration": 47,
    "start_time": "2022-01-25T05:24:09.337Z"
   },
   {
    "duration": 178,
    "start_time": "2022-01-25T05:24:09.386Z"
   },
   {
    "duration": 76,
    "start_time": "2022-01-25T05:24:09.566Z"
   },
   {
    "duration": 22,
    "start_time": "2022-01-25T05:24:09.644Z"
   },
   {
    "duration": 18,
    "start_time": "2022-01-25T05:24:09.668Z"
   },
   {
    "duration": 300,
    "start_time": "2022-01-25T05:24:09.688Z"
   },
   {
    "duration": 395,
    "start_time": "2022-01-25T05:24:09.990Z"
   },
   {
    "duration": 256,
    "start_time": "2022-01-25T05:24:10.386Z"
   },
   {
    "duration": 185,
    "start_time": "2022-01-25T05:24:10.644Z"
   },
   {
    "duration": 171,
    "start_time": "2022-01-25T05:24:10.830Z"
   },
   {
    "duration": 183,
    "start_time": "2022-01-25T05:24:11.003Z"
   },
   {
    "duration": 115,
    "start_time": "2022-01-25T05:24:11.188Z"
   },
   {
    "duration": 342,
    "start_time": "2022-01-25T05:24:11.305Z"
   },
   {
    "duration": 671,
    "start_time": "2022-01-25T05:25:55.726Z"
   },
   {
    "duration": 582,
    "start_time": "2022-01-25T05:25:56.398Z"
   },
   {
    "duration": 747,
    "start_time": "2022-01-25T05:25:56.982Z"
   },
   {
    "duration": 119,
    "start_time": "2022-01-25T05:25:57.731Z"
   },
   {
    "duration": 62,
    "start_time": "2022-01-25T05:25:57.852Z"
   },
   {
    "duration": 19,
    "start_time": "2022-01-25T05:25:57.916Z"
   },
   {
    "duration": 399,
    "start_time": "2022-01-25T05:25:57.937Z"
   },
   {
    "duration": 19,
    "start_time": "2022-01-25T05:25:58.339Z"
   },
   {
    "duration": 46,
    "start_time": "2022-01-25T05:25:58.360Z"
   },
   {
    "duration": 169,
    "start_time": "2022-01-25T05:25:58.427Z"
   },
   {
    "duration": 76,
    "start_time": "2022-01-25T05:25:58.598Z"
   },
   {
    "duration": 22,
    "start_time": "2022-01-25T05:25:58.675Z"
   },
   {
    "duration": 33,
    "start_time": "2022-01-25T05:25:58.699Z"
   },
   {
    "duration": 296,
    "start_time": "2022-01-25T05:25:58.734Z"
   },
   {
    "duration": 411,
    "start_time": "2022-01-25T05:25:59.032Z"
   },
   {
    "duration": 267,
    "start_time": "2022-01-25T05:25:59.445Z"
   },
   {
    "duration": 193,
    "start_time": "2022-01-25T05:25:59.714Z"
   },
   {
    "duration": 176,
    "start_time": "2022-01-25T05:25:59.909Z"
   },
   {
    "duration": 184,
    "start_time": "2022-01-25T05:26:00.087Z"
   },
   {
    "duration": 115,
    "start_time": "2022-01-25T05:26:00.273Z"
   },
   {
    "duration": 14,
    "start_time": "2022-01-25T05:26:00.390Z"
   },
   {
    "duration": 27,
    "start_time": "2022-01-25T05:27:01.351Z"
   },
   {
    "duration": 375,
    "start_time": "2022-01-25T05:30:01.832Z"
   },
   {
    "duration": 681,
    "start_time": "2022-01-25T05:31:13.827Z"
   },
   {
    "duration": 565,
    "start_time": "2022-01-25T05:31:14.509Z"
   },
   {
    "duration": 707,
    "start_time": "2022-01-25T05:31:15.076Z"
   },
   {
    "duration": 128,
    "start_time": "2022-01-25T05:31:15.784Z"
   },
   {
    "duration": 61,
    "start_time": "2022-01-25T05:31:15.927Z"
   },
   {
    "duration": 10,
    "start_time": "2022-01-25T05:31:15.989Z"
   },
   {
    "duration": 406,
    "start_time": "2022-01-25T05:31:16.000Z"
   },
   {
    "duration": 25,
    "start_time": "2022-01-25T05:31:16.408Z"
   },
   {
    "duration": 46,
    "start_time": "2022-01-25T05:31:16.434Z"
   },
   {
    "duration": 174,
    "start_time": "2022-01-25T05:31:16.481Z"
   },
   {
    "duration": 76,
    "start_time": "2022-01-25T05:31:16.656Z"
   },
   {
    "duration": 22,
    "start_time": "2022-01-25T05:31:16.733Z"
   },
   {
    "duration": 16,
    "start_time": "2022-01-25T05:31:16.756Z"
   },
   {
    "duration": 271,
    "start_time": "2022-01-25T05:31:16.774Z"
   },
   {
    "duration": 431,
    "start_time": "2022-01-25T05:31:17.047Z"
   },
   {
    "duration": 260,
    "start_time": "2022-01-25T05:31:17.479Z"
   },
   {
    "duration": 194,
    "start_time": "2022-01-25T05:31:17.740Z"
   },
   {
    "duration": 169,
    "start_time": "2022-01-25T05:31:17.935Z"
   },
   {
    "duration": 190,
    "start_time": "2022-01-25T05:31:18.106Z"
   },
   {
    "duration": 105,
    "start_time": "2022-01-25T05:31:18.298Z"
   },
   {
    "duration": 384,
    "start_time": "2022-01-25T05:31:18.405Z"
   },
   {
    "duration": 43,
    "start_time": "2022-01-25T05:31:31.685Z"
   },
   {
    "duration": 92,
    "start_time": "2022-01-25T05:32:26.573Z"
   },
   {
    "duration": 91,
    "start_time": "2022-01-25T05:32:47.733Z"
   },
   {
    "duration": 1282,
    "start_time": "2022-01-25T05:35:47.774Z"
   },
   {
    "duration": 119,
    "start_time": "2022-01-25T05:36:24.565Z"
   },
   {
    "duration": 29,
    "start_time": "2022-01-25T05:36:29.029Z"
   },
   {
    "duration": 302,
    "start_time": "2022-01-25T05:39:56.454Z"
   },
   {
    "duration": 30,
    "start_time": "2022-01-25T05:40:21.679Z"
   },
   {
    "duration": 7270,
    "start_time": "2022-01-25T05:42:41.027Z"
   },
   {
    "duration": 103,
    "start_time": "2022-01-25T05:43:01.088Z"
   },
   {
    "duration": 26,
    "start_time": "2022-01-25T05:43:31.343Z"
   },
   {
    "duration": 596,
    "start_time": "2022-01-25T21:03:53.372Z"
   },
   {
    "duration": 560,
    "start_time": "2022-01-25T21:03:53.969Z"
   },
   {
    "duration": 727,
    "start_time": "2022-01-25T21:03:54.533Z"
   },
   {
    "duration": 117,
    "start_time": "2022-01-25T21:03:55.262Z"
   },
   {
    "duration": 68,
    "start_time": "2022-01-25T21:03:55.381Z"
   },
   {
    "duration": 9,
    "start_time": "2022-01-25T21:03:55.451Z"
   },
   {
    "duration": 398,
    "start_time": "2022-01-25T21:03:55.462Z"
   },
   {
    "duration": 18,
    "start_time": "2022-01-25T21:03:55.862Z"
   },
   {
    "duration": 60,
    "start_time": "2022-01-25T21:03:55.881Z"
   },
   {
    "duration": 162,
    "start_time": "2022-01-25T21:03:55.943Z"
   },
   {
    "duration": 72,
    "start_time": "2022-01-25T21:03:56.107Z"
   },
   {
    "duration": 21,
    "start_time": "2022-01-25T21:03:56.181Z"
   },
   {
    "duration": 32,
    "start_time": "2022-01-25T21:03:56.204Z"
   },
   {
    "duration": 240,
    "start_time": "2022-01-25T21:03:56.238Z"
   },
   {
    "duration": 438,
    "start_time": "2022-01-25T21:03:56.480Z"
   },
   {
    "duration": 259,
    "start_time": "2022-01-25T21:03:56.919Z"
   },
   {
    "duration": 189,
    "start_time": "2022-01-25T21:03:57.179Z"
   },
   {
    "duration": 172,
    "start_time": "2022-01-25T21:03:57.369Z"
   },
   {
    "duration": 180,
    "start_time": "2022-01-25T21:03:57.543Z"
   },
   {
    "duration": 110,
    "start_time": "2022-01-25T21:03:57.726Z"
   },
   {
    "duration": 34,
    "start_time": "2022-01-25T21:03:57.838Z"
   },
   {
    "duration": 38,
    "start_time": "2022-01-25T21:04:40.098Z"
   },
   {
    "duration": 343,
    "start_time": "2022-01-25T21:23:10.050Z"
   },
   {
    "duration": 12,
    "start_time": "2022-01-25T21:23:20.424Z"
   },
   {
    "duration": 10,
    "start_time": "2022-01-25T21:23:39.531Z"
   },
   {
    "duration": 12,
    "start_time": "2022-01-25T21:23:50.902Z"
   },
   {
    "duration": 314,
    "start_time": "2022-01-25T21:24:38.231Z"
   },
   {
    "duration": 580,
    "start_time": "2022-01-25T21:25:02.485Z"
   },
   {
    "duration": 566,
    "start_time": "2022-01-25T21:25:03.067Z"
   },
   {
    "duration": 738,
    "start_time": "2022-01-25T21:25:03.635Z"
   },
   {
    "duration": 120,
    "start_time": "2022-01-25T21:25:04.375Z"
   },
   {
    "duration": 68,
    "start_time": "2022-01-25T21:25:04.497Z"
   },
   {
    "duration": 9,
    "start_time": "2022-01-25T21:25:04.567Z"
   },
   {
    "duration": 408,
    "start_time": "2022-01-25T21:25:04.578Z"
   },
   {
    "duration": 17,
    "start_time": "2022-01-25T21:25:04.988Z"
   },
   {
    "duration": 55,
    "start_time": "2022-01-25T21:25:05.007Z"
   },
   {
    "duration": 158,
    "start_time": "2022-01-25T21:25:05.064Z"
   },
   {
    "duration": 65,
    "start_time": "2022-01-25T21:25:05.223Z"
   },
   {
    "duration": 36,
    "start_time": "2022-01-25T21:25:05.290Z"
   },
   {
    "duration": 15,
    "start_time": "2022-01-25T21:25:05.328Z"
   },
   {
    "duration": 236,
    "start_time": "2022-01-25T21:25:05.345Z"
   },
   {
    "duration": 425,
    "start_time": "2022-01-25T21:25:05.583Z"
   },
   {
    "duration": 243,
    "start_time": "2022-01-25T21:25:06.009Z"
   },
   {
    "duration": 187,
    "start_time": "2022-01-25T21:25:06.254Z"
   },
   {
    "duration": 166,
    "start_time": "2022-01-25T21:25:06.442Z"
   },
   {
    "duration": 182,
    "start_time": "2022-01-25T21:25:06.609Z"
   },
   {
    "duration": 109,
    "start_time": "2022-01-25T21:25:06.793Z"
   },
   {
    "duration": 48,
    "start_time": "2022-01-25T21:25:06.904Z"
   },
   {
    "duration": 10,
    "start_time": "2022-01-25T21:25:06.954Z"
   },
   {
    "duration": 8,
    "start_time": "2022-01-25T21:32:58.861Z"
   },
   {
    "duration": 8,
    "start_time": "2022-01-25T21:33:46.148Z"
   },
   {
    "duration": 7,
    "start_time": "2022-01-25T21:33:53.956Z"
   },
   {
    "duration": 579,
    "start_time": "2022-01-25T21:34:12.581Z"
   },
   {
    "duration": 535,
    "start_time": "2022-01-25T21:34:13.162Z"
   },
   {
    "duration": 706,
    "start_time": "2022-01-25T21:34:13.701Z"
   },
   {
    "duration": 109,
    "start_time": "2022-01-25T21:34:14.427Z"
   },
   {
    "duration": 59,
    "start_time": "2022-01-25T21:34:14.537Z"
   },
   {
    "duration": 10,
    "start_time": "2022-01-25T21:34:14.597Z"
   },
   {
    "duration": 404,
    "start_time": "2022-01-25T21:34:14.609Z"
   },
   {
    "duration": 22,
    "start_time": "2022-01-25T21:34:15.014Z"
   },
   {
    "duration": 45,
    "start_time": "2022-01-25T21:34:15.037Z"
   },
   {
    "duration": 169,
    "start_time": "2022-01-25T21:34:15.084Z"
   },
   {
    "duration": 62,
    "start_time": "2022-01-25T21:34:15.255Z"
   },
   {
    "duration": 27,
    "start_time": "2022-01-25T21:34:15.318Z"
   },
   {
    "duration": 15,
    "start_time": "2022-01-25T21:34:15.347Z"
   },
   {
    "duration": 291,
    "start_time": "2022-01-25T21:34:15.363Z"
   },
   {
    "duration": 388,
    "start_time": "2022-01-25T21:34:15.656Z"
   },
   {
    "duration": 252,
    "start_time": "2022-01-25T21:34:16.046Z"
   },
   {
    "duration": 184,
    "start_time": "2022-01-25T21:34:16.299Z"
   },
   {
    "duration": 170,
    "start_time": "2022-01-25T21:34:16.484Z"
   },
   {
    "duration": 179,
    "start_time": "2022-01-25T21:34:16.655Z"
   },
   {
    "duration": 106,
    "start_time": "2022-01-25T21:34:16.836Z"
   },
   {
    "duration": 39,
    "start_time": "2022-01-25T21:34:16.944Z"
   },
   {
    "duration": 11,
    "start_time": "2022-01-25T21:34:16.985Z"
   },
   {
    "duration": 8,
    "start_time": "2022-01-25T21:34:16.997Z"
   },
   {
    "duration": 4,
    "start_time": "2022-01-25T21:51:08.460Z"
   },
   {
    "duration": 335,
    "start_time": "2022-01-25T21:54:46.580Z"
   },
   {
    "duration": 3,
    "start_time": "2022-01-25T21:54:58.427Z"
   },
   {
    "duration": 282,
    "start_time": "2022-01-25T21:55:04.622Z"
   },
   {
    "duration": 6,
    "start_time": "2022-01-25T21:56:40.616Z"
   },
   {
    "duration": 6,
    "start_time": "2022-01-25T21:58:11.051Z"
   },
   {
    "duration": 8,
    "start_time": "2022-01-25T21:59:42.191Z"
   },
   {
    "duration": 6,
    "start_time": "2022-01-25T22:00:01.412Z"
   },
   {
    "duration": 5,
    "start_time": "2022-01-25T22:00:37.480Z"
   },
   {
    "duration": 6,
    "start_time": "2022-01-25T22:01:02.973Z"
   },
   {
    "duration": 659,
    "start_time": "2022-01-25T22:01:30.960Z"
   },
   {
    "duration": 556,
    "start_time": "2022-01-25T22:01:31.621Z"
   },
   {
    "duration": 1085,
    "start_time": "2022-01-25T22:01:32.178Z"
   },
   {
    "duration": 124,
    "start_time": "2022-01-25T22:01:33.265Z"
   },
   {
    "duration": 75,
    "start_time": "2022-01-25T22:01:33.391Z"
   },
   {
    "duration": 10,
    "start_time": "2022-01-25T22:01:33.467Z"
   },
   {
    "duration": 395,
    "start_time": "2022-01-25T22:01:33.478Z"
   },
   {
    "duration": 22,
    "start_time": "2022-01-25T22:01:33.875Z"
   },
   {
    "duration": 57,
    "start_time": "2022-01-25T22:01:33.899Z"
   },
   {
    "duration": 193,
    "start_time": "2022-01-25T22:01:33.958Z"
   },
   {
    "duration": 81,
    "start_time": "2022-01-25T22:01:34.153Z"
   },
   {
    "duration": 21,
    "start_time": "2022-01-25T22:01:34.236Z"
   },
   {
    "duration": 17,
    "start_time": "2022-01-25T22:01:34.259Z"
   },
   {
    "duration": 303,
    "start_time": "2022-01-25T22:01:34.278Z"
   },
   {
    "duration": 466,
    "start_time": "2022-01-25T22:01:34.583Z"
   },
   {
    "duration": 403,
    "start_time": "2022-01-25T22:01:35.051Z"
   },
   {
    "duration": 286,
    "start_time": "2022-01-25T22:01:35.456Z"
   },
   {
    "duration": 268,
    "start_time": "2022-01-25T22:01:35.744Z"
   },
   {
    "duration": 280,
    "start_time": "2022-01-25T22:01:36.014Z"
   },
   {
    "duration": 7,
    "start_time": "2022-01-25T22:01:36.296Z"
   },
   {
    "duration": 165,
    "start_time": "2022-01-25T22:01:36.305Z"
   },
   {
    "duration": 63,
    "start_time": "2022-01-25T22:01:36.472Z"
   },
   {
    "duration": 15,
    "start_time": "2022-01-25T22:01:36.538Z"
   },
   {
    "duration": 8,
    "start_time": "2022-01-25T22:01:36.555Z"
   },
   {
    "duration": 114,
    "start_time": "2022-01-25T22:01:36.564Z"
   },
   {
    "duration": 5,
    "start_time": "2022-01-25T22:04:15.014Z"
   },
   {
    "duration": 7,
    "start_time": "2022-01-25T22:16:37.425Z"
   },
   {
    "duration": 4,
    "start_time": "2022-01-25T22:17:00.073Z"
   },
   {
    "duration": 1150,
    "start_time": "2022-01-25T22:20:14.902Z"
   },
   {
    "duration": 902,
    "start_time": "2022-01-25T22:20:16.054Z"
   },
   {
    "duration": 724,
    "start_time": "2022-01-25T22:20:16.957Z"
   },
   {
    "duration": 127,
    "start_time": "2022-01-25T22:20:17.682Z"
   },
   {
    "duration": 69,
    "start_time": "2022-01-25T22:20:17.811Z"
   },
   {
    "duration": 10,
    "start_time": "2022-01-25T22:20:17.881Z"
   },
   {
    "duration": 393,
    "start_time": "2022-01-25T22:20:17.892Z"
   },
   {
    "duration": 16,
    "start_time": "2022-01-25T22:20:18.288Z"
   },
   {
    "duration": 56,
    "start_time": "2022-01-25T22:20:18.306Z"
   },
   {
    "duration": 157,
    "start_time": "2022-01-25T22:20:18.364Z"
   },
   {
    "duration": 61,
    "start_time": "2022-01-25T22:20:18.523Z"
   },
   {
    "duration": 20,
    "start_time": "2022-01-25T22:20:18.585Z"
   },
   {
    "duration": 35,
    "start_time": "2022-01-25T22:20:18.606Z"
   },
   {
    "duration": 282,
    "start_time": "2022-01-25T22:20:18.642Z"
   },
   {
    "duration": 393,
    "start_time": "2022-01-25T22:20:18.927Z"
   },
   {
    "duration": 244,
    "start_time": "2022-01-25T22:20:19.322Z"
   },
   {
    "duration": 194,
    "start_time": "2022-01-25T22:20:19.568Z"
   },
   {
    "duration": 180,
    "start_time": "2022-01-25T22:20:19.764Z"
   },
   {
    "duration": 182,
    "start_time": "2022-01-25T22:20:19.945Z"
   },
   {
    "duration": 533,
    "start_time": "2022-01-25T22:20:20.128Z"
   },
   {
    "duration": -45,
    "start_time": "2022-01-25T22:20:20.709Z"
   },
   {
    "duration": -50,
    "start_time": "2022-01-25T22:20:20.715Z"
   },
   {
    "duration": -56,
    "start_time": "2022-01-25T22:20:20.722Z"
   },
   {
    "duration": -66,
    "start_time": "2022-01-25T22:20:20.733Z"
   },
   {
    "duration": 8210,
    "start_time": "2022-01-25T22:21:33.655Z"
   },
   {
    "duration": 6,
    "start_time": "2022-01-25T22:22:41.187Z"
   },
   {
    "duration": 639,
    "start_time": "2022-01-25T22:25:14.906Z"
   },
   {
    "duration": 547,
    "start_time": "2022-01-25T22:25:15.547Z"
   },
   {
    "duration": 684,
    "start_time": "2022-01-25T22:25:16.096Z"
   },
   {
    "duration": 119,
    "start_time": "2022-01-25T22:25:16.781Z"
   },
   {
    "duration": 74,
    "start_time": "2022-01-25T22:25:16.901Z"
   },
   {
    "duration": 10,
    "start_time": "2022-01-25T22:25:16.977Z"
   },
   {
    "duration": 383,
    "start_time": "2022-01-25T22:25:16.988Z"
   },
   {
    "duration": 17,
    "start_time": "2022-01-25T22:25:17.373Z"
   },
   {
    "duration": 56,
    "start_time": "2022-01-25T22:25:17.392Z"
   },
   {
    "duration": 157,
    "start_time": "2022-01-25T22:25:17.450Z"
   },
   {
    "duration": 70,
    "start_time": "2022-01-25T22:25:17.608Z"
   },
   {
    "duration": 21,
    "start_time": "2022-01-25T22:25:17.680Z"
   },
   {
    "duration": 28,
    "start_time": "2022-01-25T22:25:17.703Z"
   },
   {
    "duration": 280,
    "start_time": "2022-01-25T22:25:17.733Z"
   },
   {
    "duration": 377,
    "start_time": "2022-01-25T22:25:18.014Z"
   },
   {
    "duration": 247,
    "start_time": "2022-01-25T22:25:18.393Z"
   },
   {
    "duration": 182,
    "start_time": "2022-01-25T22:25:18.642Z"
   },
   {
    "duration": 165,
    "start_time": "2022-01-25T22:25:18.825Z"
   },
   {
    "duration": 181,
    "start_time": "2022-01-25T22:25:18.992Z"
   },
   {
    "duration": 7,
    "start_time": "2022-01-25T22:25:19.174Z"
   },
   {
    "duration": 93,
    "start_time": "2022-01-25T22:25:19.183Z"
   },
   {
    "duration": 377,
    "start_time": "2022-01-25T22:25:19.278Z"
   },
   {
    "duration": -35,
    "start_time": "2022-01-25T22:25:19.692Z"
   },
   {
    "duration": -42,
    "start_time": "2022-01-25T22:25:19.701Z"
   },
   {
    "duration": -47,
    "start_time": "2022-01-25T22:25:19.707Z"
   },
   {
    "duration": 647,
    "start_time": "2022-01-25T22:27:30.427Z"
   },
   {
    "duration": 553,
    "start_time": "2022-01-25T22:27:31.076Z"
   },
   {
    "duration": 723,
    "start_time": "2022-01-25T22:27:31.631Z"
   },
   {
    "duration": 116,
    "start_time": "2022-01-25T22:27:32.355Z"
   },
   {
    "duration": 62,
    "start_time": "2022-01-25T22:27:32.473Z"
   },
   {
    "duration": 10,
    "start_time": "2022-01-25T22:27:32.536Z"
   },
   {
    "duration": 391,
    "start_time": "2022-01-25T22:27:32.547Z"
   },
   {
    "duration": 16,
    "start_time": "2022-01-25T22:27:32.942Z"
   },
   {
    "duration": 43,
    "start_time": "2022-01-25T22:27:32.960Z"
   },
   {
    "duration": 164,
    "start_time": "2022-01-25T22:27:33.005Z"
   },
   {
    "duration": 69,
    "start_time": "2022-01-25T22:27:33.171Z"
   },
   {
    "duration": 19,
    "start_time": "2022-01-25T22:27:33.242Z"
   },
   {
    "duration": 14,
    "start_time": "2022-01-25T22:27:33.263Z"
   },
   {
    "duration": 253,
    "start_time": "2022-01-25T22:27:33.279Z"
   },
   {
    "duration": 426,
    "start_time": "2022-01-25T22:27:33.534Z"
   },
   {
    "duration": 251,
    "start_time": "2022-01-25T22:27:33.961Z"
   },
   {
    "duration": 181,
    "start_time": "2022-01-25T22:27:34.214Z"
   },
   {
    "duration": 183,
    "start_time": "2022-01-25T22:27:34.397Z"
   },
   {
    "duration": 263,
    "start_time": "2022-01-25T22:27:34.582Z"
   },
   {
    "duration": 11,
    "start_time": "2022-01-25T22:27:34.847Z"
   },
   {
    "duration": 97,
    "start_time": "2022-01-25T22:27:34.860Z"
   },
   {
    "duration": 333,
    "start_time": "2022-01-25T22:27:34.959Z"
   },
   {
    "duration": -48,
    "start_time": "2022-01-25T22:27:35.342Z"
   },
   {
    "duration": -53,
    "start_time": "2022-01-25T22:27:35.348Z"
   },
   {
    "duration": -58,
    "start_time": "2022-01-25T22:27:35.354Z"
   },
   {
    "duration": 25,
    "start_time": "2022-01-25T22:29:35.464Z"
   },
   {
    "duration": 588,
    "start_time": "2022-01-25T22:29:43.274Z"
   },
   {
    "duration": 538,
    "start_time": "2022-01-25T22:29:43.864Z"
   },
   {
    "duration": 694,
    "start_time": "2022-01-25T22:29:44.404Z"
   },
   {
    "duration": 129,
    "start_time": "2022-01-25T22:29:45.101Z"
   },
   {
    "duration": 58,
    "start_time": "2022-01-25T22:29:45.232Z"
   },
   {
    "duration": 10,
    "start_time": "2022-01-25T22:29:45.292Z"
   },
   {
    "duration": 397,
    "start_time": "2022-01-25T22:29:45.304Z"
   },
   {
    "duration": 23,
    "start_time": "2022-01-25T22:29:45.704Z"
   },
   {
    "duration": 45,
    "start_time": "2022-01-25T22:29:45.729Z"
   },
   {
    "duration": 166,
    "start_time": "2022-01-25T22:29:45.776Z"
   },
   {
    "duration": 62,
    "start_time": "2022-01-25T22:29:45.944Z"
   },
   {
    "duration": 33,
    "start_time": "2022-01-25T22:29:46.008Z"
   },
   {
    "duration": 16,
    "start_time": "2022-01-25T22:29:46.042Z"
   },
   {
    "duration": 244,
    "start_time": "2022-01-25T22:29:46.060Z"
   },
   {
    "duration": 423,
    "start_time": "2022-01-25T22:29:46.306Z"
   },
   {
    "duration": 245,
    "start_time": "2022-01-25T22:29:46.730Z"
   },
   {
    "duration": 188,
    "start_time": "2022-01-25T22:29:46.976Z"
   },
   {
    "duration": 168,
    "start_time": "2022-01-25T22:29:47.165Z"
   },
   {
    "duration": 177,
    "start_time": "2022-01-25T22:29:47.334Z"
   },
   {
    "duration": 87,
    "start_time": "2022-01-25T22:29:47.513Z"
   },
   {
    "duration": 339,
    "start_time": "2022-01-25T22:29:47.602Z"
   },
   {
    "duration": -58,
    "start_time": "2022-01-25T22:29:48.002Z"
   },
   {
    "duration": -64,
    "start_time": "2022-01-25T22:29:48.009Z"
   },
   {
    "duration": -69,
    "start_time": "2022-01-25T22:29:48.014Z"
   },
   {
    "duration": 37,
    "start_time": "2022-01-25T22:31:12.113Z"
   },
   {
    "duration": 3,
    "start_time": "2022-01-25T22:33:21.906Z"
   },
   {
    "duration": 546,
    "start_time": "2022-01-25T22:33:22.294Z"
   },
   {
    "duration": 655,
    "start_time": "2022-01-25T22:33:22.842Z"
   },
   {
    "duration": 94,
    "start_time": "2022-01-25T22:33:24.863Z"
   },
   {
    "duration": 51,
    "start_time": "2022-01-25T22:33:25.679Z"
   },
   {
    "duration": 10,
    "start_time": "2022-01-25T22:33:26.586Z"
   },
   {
    "duration": 369,
    "start_time": "2022-01-25T22:33:27.512Z"
   },
   {
    "duration": 13,
    "start_time": "2022-01-25T22:33:27.944Z"
   },
   {
    "duration": 44,
    "start_time": "2022-01-25T22:33:28.719Z"
   },
   {
    "duration": 150,
    "start_time": "2022-01-25T22:33:29.214Z"
   },
   {
    "duration": 62,
    "start_time": "2022-01-25T22:33:29.823Z"
   },
   {
    "duration": 21,
    "start_time": "2022-01-25T22:33:30.499Z"
   },
   {
    "duration": 18,
    "start_time": "2022-01-25T22:33:30.962Z"
   },
   {
    "duration": 220,
    "start_time": "2022-01-25T22:33:31.364Z"
   },
   {
    "duration": 455,
    "start_time": "2022-01-25T22:33:32.673Z"
   },
   {
    "duration": 237,
    "start_time": "2022-01-25T22:33:33.698Z"
   },
   {
    "duration": 174,
    "start_time": "2022-01-25T22:33:39.339Z"
   },
   {
    "duration": 160,
    "start_time": "2022-01-25T22:33:40.299Z"
   },
   {
    "duration": 174,
    "start_time": "2022-01-25T22:33:40.987Z"
   },
   {
    "duration": 8,
    "start_time": "2022-01-25T22:34:10.900Z"
   },
   {
    "duration": 78,
    "start_time": "2022-01-25T22:34:43.065Z"
   },
   {
    "duration": 25,
    "start_time": "2022-01-25T22:40:31.873Z"
   },
   {
    "duration": 25,
    "start_time": "2022-01-25T22:40:40.467Z"
   },
   {
    "duration": 42,
    "start_time": "2022-01-25T22:40:56.347Z"
   },
   {
    "duration": 12,
    "start_time": "2022-01-25T22:41:02.260Z"
   },
   {
    "duration": 8,
    "start_time": "2022-01-25T22:41:04.287Z"
   },
   {
    "duration": 3,
    "start_time": "2022-01-25T22:44:27.506Z"
   },
   {
    "duration": 532,
    "start_time": "2022-01-25T22:44:27.925Z"
   },
   {
    "duration": 735,
    "start_time": "2022-01-25T22:44:28.459Z"
   },
   {
    "duration": 96,
    "start_time": "2022-01-25T22:44:30.441Z"
   },
   {
    "duration": 51,
    "start_time": "2022-01-25T22:44:31.270Z"
   },
   {
    "duration": 8,
    "start_time": "2022-01-25T22:44:31.899Z"
   },
   {
    "duration": 375,
    "start_time": "2022-01-25T22:44:32.538Z"
   },
   {
    "duration": 22,
    "start_time": "2022-01-25T22:44:32.914Z"
   },
   {
    "duration": 45,
    "start_time": "2022-01-25T22:44:33.163Z"
   },
   {
    "duration": 190,
    "start_time": "2022-01-25T22:44:33.579Z"
   },
   {
    "duration": 64,
    "start_time": "2022-01-25T22:44:33.994Z"
   },
   {
    "duration": 20,
    "start_time": "2022-01-25T22:44:34.632Z"
   },
   {
    "duration": 18,
    "start_time": "2022-01-25T22:44:35.919Z"
   },
   {
    "duration": 257,
    "start_time": "2022-01-25T22:44:35.938Z"
   },
   {
    "duration": 388,
    "start_time": "2022-01-25T22:44:37.239Z"
   },
   {
    "duration": 312,
    "start_time": "2022-01-25T22:44:37.684Z"
   },
   {
    "duration": 197,
    "start_time": "2022-01-25T22:44:39.009Z"
   },
   {
    "duration": 170,
    "start_time": "2022-01-25T22:44:39.236Z"
   },
   {
    "duration": 171,
    "start_time": "2022-01-25T22:44:39.502Z"
   },
   {
    "duration": 78,
    "start_time": "2022-01-25T22:44:43.808Z"
   },
   {
    "duration": 10,
    "start_time": "2022-01-25T22:47:59.966Z"
   },
   {
    "duration": 702,
    "start_time": "2022-01-25T22:48:22.356Z"
   },
   {
    "duration": 674,
    "start_time": "2022-01-25T22:48:23.061Z"
   },
   {
    "duration": 995,
    "start_time": "2022-01-25T22:48:23.738Z"
   },
   {
    "duration": 115,
    "start_time": "2022-01-25T22:48:24.735Z"
   },
   {
    "duration": 60,
    "start_time": "2022-01-25T22:48:24.852Z"
   },
   {
    "duration": 9,
    "start_time": "2022-01-25T22:48:24.927Z"
   },
   {
    "duration": 394,
    "start_time": "2022-01-25T22:48:24.938Z"
   },
   {
    "duration": 19,
    "start_time": "2022-01-25T22:48:25.335Z"
   },
   {
    "duration": 43,
    "start_time": "2022-01-25T22:48:25.356Z"
   },
   {
    "duration": 168,
    "start_time": "2022-01-25T22:48:25.400Z"
   },
   {
    "duration": 70,
    "start_time": "2022-01-25T22:48:25.569Z"
   },
   {
    "duration": 19,
    "start_time": "2022-01-25T22:48:25.641Z"
   },
   {
    "duration": 16,
    "start_time": "2022-01-25T22:48:25.661Z"
   },
   {
    "duration": 288,
    "start_time": "2022-01-25T22:48:25.678Z"
   },
   {
    "duration": 382,
    "start_time": "2022-01-25T22:48:25.968Z"
   },
   {
    "duration": 248,
    "start_time": "2022-01-25T22:48:26.352Z"
   },
   {
    "duration": 183,
    "start_time": "2022-01-25T22:48:26.602Z"
   },
   {
    "duration": 245,
    "start_time": "2022-01-25T22:48:26.787Z"
   },
   {
    "duration": 262,
    "start_time": "2022-01-25T22:48:27.034Z"
   },
   {
    "duration": 135,
    "start_time": "2022-01-25T22:48:27.298Z"
   },
   {
    "duration": 37,
    "start_time": "2022-01-25T22:48:27.436Z"
   },
   {
    "duration": 10,
    "start_time": "2022-01-25T22:48:27.475Z"
   },
   {
    "duration": 7,
    "start_time": "2022-01-25T22:48:27.488Z"
   },
   {
    "duration": 34,
    "start_time": "2022-01-25T22:48:27.497Z"
   },
   {
    "duration": 11,
    "start_time": "2022-01-25T22:51:50.955Z"
   },
   {
    "duration": 8,
    "start_time": "2022-01-25T22:51:59.190Z"
   },
   {
    "duration": 334,
    "start_time": "2022-01-25T22:57:41.244Z"
   },
   {
    "duration": 13,
    "start_time": "2022-01-25T23:24:54.625Z"
   },
   {
    "duration": 17,
    "start_time": "2022-01-25T23:28:18.100Z"
   },
   {
    "duration": 15,
    "start_time": "2022-01-25T23:28:37.579Z"
   },
   {
    "duration": 13,
    "start_time": "2022-01-25T23:28:54.100Z"
   },
   {
    "duration": 24,
    "start_time": "2022-01-25T23:34:39.943Z"
   },
   {
    "duration": 10,
    "start_time": "2022-01-25T23:36:22.777Z"
   },
   {
    "duration": 306,
    "start_time": "2022-01-25T23:37:27.611Z"
   },
   {
    "duration": 322,
    "start_time": "2022-01-25T23:37:53.343Z"
   },
   {
    "duration": 95,
    "start_time": "2022-01-25T23:38:24.214Z"
   },
   {
    "duration": 14,
    "start_time": "2022-01-25T23:38:43.890Z"
   },
   {
    "duration": 11,
    "start_time": "2022-01-25T23:42:01.850Z"
   },
   {
    "duration": 19,
    "start_time": "2022-01-25T23:48:10.515Z"
   },
   {
    "duration": 18,
    "start_time": "2022-01-25T23:48:29.374Z"
   },
   {
    "duration": 19,
    "start_time": "2022-01-25T23:48:48.697Z"
   },
   {
    "duration": 19,
    "start_time": "2022-01-25T23:50:29.483Z"
   },
   {
    "duration": 6,
    "start_time": "2022-01-25T23:52:31.396Z"
   },
   {
    "duration": 10,
    "start_time": "2022-01-25T23:56:48.225Z"
   },
   {
    "duration": 265,
    "start_time": "2022-01-25T23:58:57.357Z"
   },
   {
    "duration": 10,
    "start_time": "2022-01-25T23:59:03.566Z"
   },
   {
    "duration": 11,
    "start_time": "2022-01-25T23:59:20.041Z"
   },
   {
    "duration": 14,
    "start_time": "2022-01-25T23:59:36.459Z"
   },
   {
    "duration": 12,
    "start_time": "2022-01-26T00:02:55.982Z"
   },
   {
    "duration": 650,
    "start_time": "2022-01-26T00:04:04.408Z"
   },
   {
    "duration": 543,
    "start_time": "2022-01-26T00:04:05.060Z"
   },
   {
    "duration": 691,
    "start_time": "2022-01-26T00:04:05.605Z"
   },
   {
    "duration": 129,
    "start_time": "2022-01-26T00:04:06.298Z"
   },
   {
    "duration": 57,
    "start_time": "2022-01-26T00:04:06.429Z"
   },
   {
    "duration": 9,
    "start_time": "2022-01-26T00:04:06.488Z"
   },
   {
    "duration": 394,
    "start_time": "2022-01-26T00:04:06.499Z"
   },
   {
    "duration": 17,
    "start_time": "2022-01-26T00:04:06.896Z"
   },
   {
    "duration": 56,
    "start_time": "2022-01-26T00:04:06.915Z"
   },
   {
    "duration": 157,
    "start_time": "2022-01-26T00:04:06.973Z"
   },
   {
    "duration": 61,
    "start_time": "2022-01-26T00:04:07.131Z"
   },
   {
    "duration": 37,
    "start_time": "2022-01-26T00:04:07.193Z"
   },
   {
    "duration": 16,
    "start_time": "2022-01-26T00:04:07.231Z"
   },
   {
    "duration": 281,
    "start_time": "2022-01-26T00:04:07.248Z"
   },
   {
    "duration": 381,
    "start_time": "2022-01-26T00:04:07.531Z"
   },
   {
    "duration": 244,
    "start_time": "2022-01-26T00:04:07.913Z"
   },
   {
    "duration": 179,
    "start_time": "2022-01-26T00:04:08.159Z"
   },
   {
    "duration": 170,
    "start_time": "2022-01-26T00:04:08.340Z"
   },
   {
    "duration": 178,
    "start_time": "2022-01-26T00:04:08.512Z"
   },
   {
    "duration": 95,
    "start_time": "2022-01-26T00:04:08.692Z"
   },
   {
    "duration": 44,
    "start_time": "2022-01-26T00:04:08.789Z"
   },
   {
    "duration": 11,
    "start_time": "2022-01-26T00:04:08.835Z"
   },
   {
    "duration": 9,
    "start_time": "2022-01-26T00:04:08.850Z"
   },
   {
    "duration": 12,
    "start_time": "2022-01-26T00:04:08.860Z"
   },
   {
    "duration": 2,
    "start_time": "2022-01-26T00:04:08.874Z"
   },
   {
    "duration": 10,
    "start_time": "2022-01-26T00:06:04.710Z"
   },
   {
    "duration": 5,
    "start_time": "2022-01-26T00:07:11.680Z"
   },
   {
    "duration": 9,
    "start_time": "2022-01-26T00:07:23.282Z"
   },
   {
    "duration": 8,
    "start_time": "2022-01-26T00:07:59.519Z"
   },
   {
    "duration": 100,
    "start_time": "2022-01-26T00:10:22.966Z"
   },
   {
    "duration": 12,
    "start_time": "2022-01-26T00:10:38.064Z"
   },
   {
    "duration": 14,
    "start_time": "2022-01-26T00:11:49.070Z"
   },
   {
    "duration": 21,
    "start_time": "2022-01-26T00:14:07.633Z"
   },
   {
    "duration": 601,
    "start_time": "2022-01-26T00:16:10.685Z"
   },
   {
    "duration": 566,
    "start_time": "2022-01-26T00:16:11.290Z"
   },
   {
    "duration": 740,
    "start_time": "2022-01-26T00:16:11.858Z"
   },
   {
    "duration": 130,
    "start_time": "2022-01-26T00:16:12.600Z"
   },
   {
    "duration": 58,
    "start_time": "2022-01-26T00:16:12.732Z"
   },
   {
    "duration": 10,
    "start_time": "2022-01-26T00:16:12.792Z"
   },
   {
    "duration": 394,
    "start_time": "2022-01-26T00:16:12.804Z"
   },
   {
    "duration": 18,
    "start_time": "2022-01-26T00:16:13.200Z"
   },
   {
    "duration": 42,
    "start_time": "2022-01-26T00:16:13.228Z"
   },
   {
    "duration": 158,
    "start_time": "2022-01-26T00:16:13.272Z"
   },
   {
    "duration": 62,
    "start_time": "2022-01-26T00:16:13.432Z"
   },
   {
    "duration": 35,
    "start_time": "2022-01-26T00:16:13.496Z"
   },
   {
    "duration": 15,
    "start_time": "2022-01-26T00:16:13.532Z"
   },
   {
    "duration": 273,
    "start_time": "2022-01-26T00:16:13.549Z"
   },
   {
    "duration": 561,
    "start_time": "2022-01-26T00:16:13.823Z"
   },
   {
    "duration": 244,
    "start_time": "2022-01-26T00:16:14.386Z"
   },
   {
    "duration": 178,
    "start_time": "2022-01-26T00:16:14.631Z"
   },
   {
    "duration": 173,
    "start_time": "2022-01-26T00:16:14.811Z"
   },
   {
    "duration": 182,
    "start_time": "2022-01-26T00:16:14.986Z"
   },
   {
    "duration": 87,
    "start_time": "2022-01-26T00:16:15.170Z"
   },
   {
    "duration": 33,
    "start_time": "2022-01-26T00:16:15.259Z"
   },
   {
    "duration": 10,
    "start_time": "2022-01-26T00:16:15.293Z"
   },
   {
    "duration": 27,
    "start_time": "2022-01-26T00:16:15.305Z"
   },
   {
    "duration": 16,
    "start_time": "2022-01-26T00:16:15.334Z"
   },
   {
    "duration": 2,
    "start_time": "2022-01-26T00:16:15.351Z"
   },
   {
    "duration": 11,
    "start_time": "2022-01-26T00:16:38.085Z"
   },
   {
    "duration": 9,
    "start_time": "2022-01-26T00:18:08.659Z"
   },
   {
    "duration": 12,
    "start_time": "2022-01-26T00:18:21.855Z"
   },
   {
    "duration": 621,
    "start_time": "2022-01-26T00:18:44.887Z"
   },
   {
    "duration": 549,
    "start_time": "2022-01-26T00:18:45.510Z"
   },
   {
    "duration": 676,
    "start_time": "2022-01-26T00:18:46.061Z"
   },
   {
    "duration": 109,
    "start_time": "2022-01-26T00:18:46.739Z"
   },
   {
    "duration": 57,
    "start_time": "2022-01-26T00:18:46.850Z"
   },
   {
    "duration": 22,
    "start_time": "2022-01-26T00:18:46.908Z"
   },
   {
    "duration": 382,
    "start_time": "2022-01-26T00:18:46.931Z"
   },
   {
    "duration": 20,
    "start_time": "2022-01-26T00:18:47.315Z"
   },
   {
    "duration": 44,
    "start_time": "2022-01-26T00:18:47.337Z"
   },
   {
    "duration": 171,
    "start_time": "2022-01-26T00:18:47.382Z"
   },
   {
    "duration": 62,
    "start_time": "2022-01-26T00:18:47.554Z"
   },
   {
    "duration": 19,
    "start_time": "2022-01-26T00:18:47.627Z"
   },
   {
    "duration": 15,
    "start_time": "2022-01-26T00:18:47.648Z"
   },
   {
    "duration": 281,
    "start_time": "2022-01-26T00:18:47.664Z"
   },
   {
    "duration": 384,
    "start_time": "2022-01-26T00:18:47.947Z"
   },
   {
    "duration": 238,
    "start_time": "2022-01-26T00:18:48.333Z"
   },
   {
    "duration": 180,
    "start_time": "2022-01-26T00:18:48.573Z"
   },
   {
    "duration": 164,
    "start_time": "2022-01-26T00:18:48.754Z"
   },
   {
    "duration": 198,
    "start_time": "2022-01-26T00:18:48.920Z"
   },
   {
    "duration": 131,
    "start_time": "2022-01-26T00:18:49.120Z"
   },
   {
    "duration": 48,
    "start_time": "2022-01-26T00:18:49.253Z"
   },
   {
    "duration": 27,
    "start_time": "2022-01-26T00:18:49.303Z"
   },
   {
    "duration": 11,
    "start_time": "2022-01-26T00:18:49.334Z"
   },
   {
    "duration": 15,
    "start_time": "2022-01-26T00:18:49.347Z"
   },
   {
    "duration": 11,
    "start_time": "2022-01-26T00:18:49.364Z"
   },
   {
    "duration": 9,
    "start_time": "2022-01-26T00:19:10.486Z"
   },
   {
    "duration": 6,
    "start_time": "2022-01-26T00:19:21.541Z"
   },
   {
    "duration": 8,
    "start_time": "2022-01-26T00:23:49.902Z"
   },
   {
    "duration": 22,
    "start_time": "2022-01-26T00:36:35.808Z"
   },
   {
    "duration": 21,
    "start_time": "2022-01-26T00:37:19.557Z"
   },
   {
    "duration": 665,
    "start_time": "2022-01-26T00:37:28.752Z"
   },
   {
    "duration": 553,
    "start_time": "2022-01-26T00:37:29.419Z"
   },
   {
    "duration": 713,
    "start_time": "2022-01-26T00:37:29.974Z"
   },
   {
    "duration": 121,
    "start_time": "2022-01-26T00:37:30.689Z"
   },
   {
    "duration": 65,
    "start_time": "2022-01-26T00:37:30.811Z"
   },
   {
    "duration": 10,
    "start_time": "2022-01-26T00:37:30.877Z"
   },
   {
    "duration": 396,
    "start_time": "2022-01-26T00:37:30.888Z"
   },
   {
    "duration": 17,
    "start_time": "2022-01-26T00:37:31.287Z"
   },
   {
    "duration": 54,
    "start_time": "2022-01-26T00:37:31.306Z"
   },
   {
    "duration": 158,
    "start_time": "2022-01-26T00:37:31.362Z"
   },
   {
    "duration": 61,
    "start_time": "2022-01-26T00:37:31.522Z"
   },
   {
    "duration": 21,
    "start_time": "2022-01-26T00:37:31.584Z"
   },
   {
    "duration": 33,
    "start_time": "2022-01-26T00:37:31.607Z"
   },
   {
    "duration": 286,
    "start_time": "2022-01-26T00:37:31.641Z"
   },
   {
    "duration": 390,
    "start_time": "2022-01-26T00:37:31.928Z"
   },
   {
    "duration": 246,
    "start_time": "2022-01-26T00:37:32.320Z"
   },
   {
    "duration": 183,
    "start_time": "2022-01-26T00:37:32.567Z"
   },
   {
    "duration": 168,
    "start_time": "2022-01-26T00:37:32.752Z"
   },
   {
    "duration": 176,
    "start_time": "2022-01-26T00:37:32.922Z"
   },
   {
    "duration": 91,
    "start_time": "2022-01-26T00:37:33.100Z"
   },
   {
    "duration": 41,
    "start_time": "2022-01-26T00:37:33.192Z"
   },
   {
    "duration": 10,
    "start_time": "2022-01-26T00:37:33.234Z"
   },
   {
    "duration": 10,
    "start_time": "2022-01-26T00:37:33.247Z"
   },
   {
    "duration": 17,
    "start_time": "2022-01-26T00:37:33.258Z"
   },
   {
    "duration": 23,
    "start_time": "2022-01-26T00:37:33.276Z"
   },
   {
    "duration": 24,
    "start_time": "2022-01-26T00:38:03.509Z"
   },
   {
    "duration": 581,
    "start_time": "2022-01-26T00:38:09.571Z"
   },
   {
    "duration": 533,
    "start_time": "2022-01-26T00:38:10.153Z"
   },
   {
    "duration": 670,
    "start_time": "2022-01-26T00:38:10.690Z"
   },
   {
    "duration": 116,
    "start_time": "2022-01-26T00:38:11.362Z"
   },
   {
    "duration": 68,
    "start_time": "2022-01-26T00:38:11.480Z"
   },
   {
    "duration": 10,
    "start_time": "2022-01-26T00:38:11.550Z"
   },
   {
    "duration": 386,
    "start_time": "2022-01-26T00:38:11.563Z"
   },
   {
    "duration": 19,
    "start_time": "2022-01-26T00:38:11.951Z"
   },
   {
    "duration": 65,
    "start_time": "2022-01-26T00:38:11.972Z"
   },
   {
    "duration": 159,
    "start_time": "2022-01-26T00:38:12.039Z"
   },
   {
    "duration": 71,
    "start_time": "2022-01-26T00:38:12.200Z"
   },
   {
    "duration": 23,
    "start_time": "2022-01-26T00:38:12.273Z"
   },
   {
    "duration": 33,
    "start_time": "2022-01-26T00:38:12.297Z"
   },
   {
    "duration": 272,
    "start_time": "2022-01-26T00:38:12.332Z"
   },
   {
    "duration": 380,
    "start_time": "2022-01-26T00:38:12.606Z"
   },
   {
    "duration": 248,
    "start_time": "2022-01-26T00:38:12.987Z"
   },
   {
    "duration": 179,
    "start_time": "2022-01-26T00:38:13.237Z"
   },
   {
    "duration": 163,
    "start_time": "2022-01-26T00:38:13.418Z"
   },
   {
    "duration": 175,
    "start_time": "2022-01-26T00:38:13.582Z"
   },
   {
    "duration": 86,
    "start_time": "2022-01-26T00:38:13.758Z"
   },
   {
    "duration": 34,
    "start_time": "2022-01-26T00:38:13.846Z"
   },
   {
    "duration": 9,
    "start_time": "2022-01-26T00:38:13.882Z"
   },
   {
    "duration": 10,
    "start_time": "2022-01-26T00:38:13.893Z"
   },
   {
    "duration": 27,
    "start_time": "2022-01-26T00:38:13.905Z"
   },
   {
    "duration": 23,
    "start_time": "2022-01-26T00:38:13.933Z"
   },
   {
    "duration": 336,
    "start_time": "2022-01-26T00:54:56.826Z"
   },
   {
    "duration": 24,
    "start_time": "2022-01-26T00:55:15.959Z"
   },
   {
    "duration": 581,
    "start_time": "2022-01-26T00:55:40.866Z"
   },
   {
    "duration": 536,
    "start_time": "2022-01-26T00:55:41.449Z"
   },
   {
    "duration": 670,
    "start_time": "2022-01-26T00:55:41.988Z"
   },
   {
    "duration": 111,
    "start_time": "2022-01-26T00:55:42.660Z"
   },
   {
    "duration": 67,
    "start_time": "2022-01-26T00:55:42.772Z"
   },
   {
    "duration": 9,
    "start_time": "2022-01-26T00:55:42.841Z"
   },
   {
    "duration": 377,
    "start_time": "2022-01-26T00:55:42.851Z"
   },
   {
    "duration": 17,
    "start_time": "2022-01-26T00:55:43.230Z"
   },
   {
    "duration": 41,
    "start_time": "2022-01-26T00:55:43.249Z"
   },
   {
    "duration": 163,
    "start_time": "2022-01-26T00:55:43.292Z"
   },
   {
    "duration": 61,
    "start_time": "2022-01-26T00:55:43.456Z"
   },
   {
    "duration": 18,
    "start_time": "2022-01-26T00:55:43.527Z"
   },
   {
    "duration": 14,
    "start_time": "2022-01-26T00:55:43.547Z"
   },
   {
    "duration": 279,
    "start_time": "2022-01-26T00:55:43.563Z"
   },
   {
    "duration": 389,
    "start_time": "2022-01-26T00:55:43.843Z"
   },
   {
    "duration": 245,
    "start_time": "2022-01-26T00:55:44.234Z"
   },
   {
    "duration": 186,
    "start_time": "2022-01-26T00:55:44.481Z"
   },
   {
    "duration": 168,
    "start_time": "2022-01-26T00:55:44.669Z"
   },
   {
    "duration": 181,
    "start_time": "2022-01-26T00:55:44.839Z"
   },
   {
    "duration": 84,
    "start_time": "2022-01-26T00:55:45.022Z"
   },
   {
    "duration": 51,
    "start_time": "2022-01-26T00:55:45.107Z"
   },
   {
    "duration": 9,
    "start_time": "2022-01-26T00:55:45.160Z"
   },
   {
    "duration": 10,
    "start_time": "2022-01-26T00:55:45.172Z"
   },
   {
    "duration": 9,
    "start_time": "2022-01-26T00:55:45.183Z"
   },
   {
    "duration": 41,
    "start_time": "2022-01-26T00:55:45.193Z"
   },
   {
    "duration": 16,
    "start_time": "2022-01-26T00:55:45.235Z"
   },
   {
    "duration": 634,
    "start_time": "2022-01-26T00:57:42.224Z"
   },
   {
    "duration": 546,
    "start_time": "2022-01-26T00:57:42.860Z"
   },
   {
    "duration": 685,
    "start_time": "2022-01-26T00:57:43.408Z"
   },
   {
    "duration": 115,
    "start_time": "2022-01-26T00:57:44.095Z"
   },
   {
    "duration": 73,
    "start_time": "2022-01-26T00:57:44.211Z"
   },
   {
    "duration": 9,
    "start_time": "2022-01-26T00:57:44.286Z"
   },
   {
    "duration": 381,
    "start_time": "2022-01-26T00:57:44.297Z"
   },
   {
    "duration": 17,
    "start_time": "2022-01-26T00:57:44.680Z"
   },
   {
    "duration": 57,
    "start_time": "2022-01-26T00:57:44.699Z"
   },
   {
    "duration": 158,
    "start_time": "2022-01-26T00:57:44.758Z"
   },
   {
    "duration": 62,
    "start_time": "2022-01-26T00:57:44.918Z"
   },
   {
    "duration": 22,
    "start_time": "2022-01-26T00:57:44.982Z"
   },
   {
    "duration": 36,
    "start_time": "2022-01-26T00:57:45.006Z"
   },
   {
    "duration": 276,
    "start_time": "2022-01-26T00:57:45.044Z"
   },
   {
    "duration": 382,
    "start_time": "2022-01-26T00:57:45.321Z"
   },
   {
    "duration": 245,
    "start_time": "2022-01-26T00:57:45.705Z"
   },
   {
    "duration": 189,
    "start_time": "2022-01-26T00:57:45.952Z"
   },
   {
    "duration": 160,
    "start_time": "2022-01-26T00:57:46.143Z"
   },
   {
    "duration": 175,
    "start_time": "2022-01-26T00:57:46.304Z"
   },
   {
    "duration": 88,
    "start_time": "2022-01-26T00:57:46.480Z"
   },
   {
    "duration": 34,
    "start_time": "2022-01-26T00:57:46.569Z"
   },
   {
    "duration": 10,
    "start_time": "2022-01-26T00:57:46.604Z"
   },
   {
    "duration": 9,
    "start_time": "2022-01-26T00:57:46.629Z"
   },
   {
    "duration": 7,
    "start_time": "2022-01-26T00:57:46.639Z"
   },
   {
    "duration": 18,
    "start_time": "2022-01-26T00:57:46.648Z"
   },
   {
    "duration": 14,
    "start_time": "2022-01-26T00:57:46.668Z"
   },
   {
    "duration": 608,
    "start_time": "2022-01-26T00:58:33.545Z"
   },
   {
    "duration": 529,
    "start_time": "2022-01-26T00:58:34.155Z"
   },
   {
    "duration": 709,
    "start_time": "2022-01-26T00:58:34.689Z"
   },
   {
    "duration": 132,
    "start_time": "2022-01-26T00:58:35.400Z"
   },
   {
    "duration": 59,
    "start_time": "2022-01-26T00:58:35.533Z"
   },
   {
    "duration": 10,
    "start_time": "2022-01-26T00:58:35.594Z"
   },
   {
    "duration": 388,
    "start_time": "2022-01-26T00:58:35.606Z"
   },
   {
    "duration": 16,
    "start_time": "2022-01-26T00:58:35.996Z"
   },
   {
    "duration": 49,
    "start_time": "2022-01-26T00:58:36.013Z"
   },
   {
    "duration": 156,
    "start_time": "2022-01-26T00:58:36.063Z"
   },
   {
    "duration": 61,
    "start_time": "2022-01-26T00:58:36.220Z"
   },
   {
    "duration": 20,
    "start_time": "2022-01-26T00:58:36.282Z"
   },
   {
    "duration": 15,
    "start_time": "2022-01-26T00:58:36.304Z"
   },
   {
    "duration": 240,
    "start_time": "2022-01-26T00:58:36.327Z"
   },
   {
    "duration": 509,
    "start_time": "2022-01-26T00:58:36.569Z"
   },
   {
    "duration": 251,
    "start_time": "2022-01-26T00:58:37.080Z"
   },
   {
    "duration": 176,
    "start_time": "2022-01-26T00:58:37.333Z"
   },
   {
    "duration": 167,
    "start_time": "2022-01-26T00:58:37.511Z"
   },
   {
    "duration": 178,
    "start_time": "2022-01-26T00:58:37.679Z"
   },
   {
    "duration": 87,
    "start_time": "2022-01-26T00:58:37.858Z"
   },
   {
    "duration": 34,
    "start_time": "2022-01-26T00:58:37.947Z"
   },
   {
    "duration": 10,
    "start_time": "2022-01-26T00:58:37.983Z"
   },
   {
    "duration": 32,
    "start_time": "2022-01-26T00:58:37.995Z"
   },
   {
    "duration": 7,
    "start_time": "2022-01-26T00:58:38.028Z"
   },
   {
    "duration": 18,
    "start_time": "2022-01-26T00:58:38.037Z"
   },
   {
    "duration": 13,
    "start_time": "2022-01-26T00:58:38.057Z"
   },
   {
    "duration": 8000,
    "start_time": "2022-01-26T01:01:38.112Z"
   },
   {
    "duration": 593,
    "start_time": "2022-01-26T01:02:30.968Z"
   },
   {
    "duration": 559,
    "start_time": "2022-01-26T01:02:31.563Z"
   },
   {
    "duration": 731,
    "start_time": "2022-01-26T01:02:32.124Z"
   },
   {
    "duration": 114,
    "start_time": "2022-01-26T01:02:32.856Z"
   },
   {
    "duration": 67,
    "start_time": "2022-01-26T01:02:32.972Z"
   },
   {
    "duration": 10,
    "start_time": "2022-01-26T01:02:33.040Z"
   },
   {
    "duration": 390,
    "start_time": "2022-01-26T01:02:33.051Z"
   },
   {
    "duration": 17,
    "start_time": "2022-01-26T01:02:33.444Z"
   },
   {
    "duration": 45,
    "start_time": "2022-01-26T01:02:33.463Z"
   },
   {
    "duration": 167,
    "start_time": "2022-01-26T01:02:33.510Z"
   },
   {
    "duration": 75,
    "start_time": "2022-01-26T01:02:33.679Z"
   },
   {
    "duration": 22,
    "start_time": "2022-01-26T01:02:33.756Z"
   },
   {
    "duration": 17,
    "start_time": "2022-01-26T01:02:33.780Z"
   },
   {
    "duration": 259,
    "start_time": "2022-01-26T01:02:33.799Z"
   },
   {
    "duration": 426,
    "start_time": "2022-01-26T01:02:34.060Z"
   },
   {
    "duration": 253,
    "start_time": "2022-01-26T01:02:34.488Z"
   },
   {
    "duration": 184,
    "start_time": "2022-01-26T01:02:34.747Z"
   },
   {
    "duration": 168,
    "start_time": "2022-01-26T01:02:34.933Z"
   },
   {
    "duration": 172,
    "start_time": "2022-01-26T01:02:35.103Z"
   },
   {
    "duration": 94,
    "start_time": "2022-01-26T01:02:35.277Z"
   },
   {
    "duration": 34,
    "start_time": "2022-01-26T01:02:35.373Z"
   },
   {
    "duration": 23,
    "start_time": "2022-01-26T01:02:35.409Z"
   },
   {
    "duration": 10,
    "start_time": "2022-01-26T01:02:35.435Z"
   },
   {
    "duration": 7,
    "start_time": "2022-01-26T01:02:35.447Z"
   },
   {
    "duration": 19,
    "start_time": "2022-01-26T01:02:35.456Z"
   },
   {
    "duration": 13,
    "start_time": "2022-01-26T01:02:35.477Z"
   },
   {
    "duration": 2,
    "start_time": "2022-01-26T01:03:51.193Z"
   },
   {
    "duration": 2,
    "start_time": "2022-01-26T01:04:36.812Z"
   },
   {
    "duration": 10,
    "start_time": "2022-01-26T01:05:02.037Z"
   },
   {
    "duration": 2,
    "start_time": "2022-01-26T01:06:54.828Z"
   },
   {
    "duration": 6,
    "start_time": "2022-01-26T01:08:45.270Z"
   },
   {
    "duration": 643,
    "start_time": "2022-01-26T01:11:04.012Z"
   },
   {
    "duration": 547,
    "start_time": "2022-01-26T01:11:04.656Z"
   },
   {
    "duration": 675,
    "start_time": "2022-01-26T01:11:05.207Z"
   },
   {
    "duration": 120,
    "start_time": "2022-01-26T01:11:05.884Z"
   },
   {
    "duration": 72,
    "start_time": "2022-01-26T01:11:06.006Z"
   },
   {
    "duration": 9,
    "start_time": "2022-01-26T01:11:06.080Z"
   },
   {
    "duration": 384,
    "start_time": "2022-01-26T01:11:06.091Z"
   },
   {
    "duration": 17,
    "start_time": "2022-01-26T01:11:06.477Z"
   },
   {
    "duration": 57,
    "start_time": "2022-01-26T01:11:06.495Z"
   },
   {
    "duration": 157,
    "start_time": "2022-01-26T01:11:06.553Z"
   },
   {
    "duration": 67,
    "start_time": "2022-01-26T01:11:06.712Z"
   },
   {
    "duration": 20,
    "start_time": "2022-01-26T01:11:06.780Z"
   },
   {
    "duration": 27,
    "start_time": "2022-01-26T01:11:06.802Z"
   },
   {
    "duration": 240,
    "start_time": "2022-01-26T01:11:06.830Z"
   },
   {
    "duration": 533,
    "start_time": "2022-01-26T01:11:07.072Z"
   },
   {
    "duration": 243,
    "start_time": "2022-01-26T01:11:07.607Z"
   },
   {
    "duration": 186,
    "start_time": "2022-01-26T01:11:07.852Z"
   },
   {
    "duration": 170,
    "start_time": "2022-01-26T01:11:08.039Z"
   },
   {
    "duration": 173,
    "start_time": "2022-01-26T01:11:08.210Z"
   },
   {
    "duration": 93,
    "start_time": "2022-01-26T01:11:08.385Z"
   },
   {
    "duration": 34,
    "start_time": "2022-01-26T01:11:08.479Z"
   },
   {
    "duration": 18,
    "start_time": "2022-01-26T01:11:08.516Z"
   },
   {
    "duration": 14,
    "start_time": "2022-01-26T01:11:08.536Z"
   },
   {
    "duration": 7,
    "start_time": "2022-01-26T01:11:08.552Z"
   },
   {
    "duration": 18,
    "start_time": "2022-01-26T01:11:08.560Z"
   },
   {
    "duration": 6,
    "start_time": "2022-01-26T01:11:08.580Z"
   },
   {
    "duration": 6,
    "start_time": "2022-01-26T01:11:08.587Z"
   },
   {
    "duration": 10,
    "start_time": "2022-01-26T01:12:10.625Z"
   },
   {
    "duration": 583,
    "start_time": "2022-01-26T01:14:06.776Z"
   },
   {
    "duration": 543,
    "start_time": "2022-01-26T01:14:07.360Z"
   },
   {
    "duration": 695,
    "start_time": "2022-01-26T01:14:07.905Z"
   },
   {
    "duration": 127,
    "start_time": "2022-01-26T01:14:08.601Z"
   },
   {
    "duration": 61,
    "start_time": "2022-01-26T01:14:08.729Z"
   },
   {
    "duration": 9,
    "start_time": "2022-01-26T01:14:08.791Z"
   },
   {
    "duration": 393,
    "start_time": "2022-01-26T01:14:08.802Z"
   },
   {
    "duration": 17,
    "start_time": "2022-01-26T01:14:09.197Z"
   },
   {
    "duration": 53,
    "start_time": "2022-01-26T01:14:09.216Z"
   },
   {
    "duration": 159,
    "start_time": "2022-01-26T01:14:09.271Z"
   },
   {
    "duration": 61,
    "start_time": "2022-01-26T01:14:09.431Z"
   },
   {
    "duration": 33,
    "start_time": "2022-01-26T01:14:09.494Z"
   },
   {
    "duration": 15,
    "start_time": "2022-01-26T01:14:09.529Z"
   },
   {
    "duration": 241,
    "start_time": "2022-01-26T01:14:09.546Z"
   },
   {
    "duration": 421,
    "start_time": "2022-01-26T01:14:09.789Z"
   },
   {
    "duration": 248,
    "start_time": "2022-01-26T01:14:10.212Z"
   },
   {
    "duration": 180,
    "start_time": "2022-01-26T01:14:10.461Z"
   },
   {
    "duration": 176,
    "start_time": "2022-01-26T01:14:10.643Z"
   },
   {
    "duration": 180,
    "start_time": "2022-01-26T01:14:10.821Z"
   },
   {
    "duration": 91,
    "start_time": "2022-01-26T01:14:11.003Z"
   },
   {
    "duration": 48,
    "start_time": "2022-01-26T01:14:11.096Z"
   },
   {
    "duration": 12,
    "start_time": "2022-01-26T01:14:11.145Z"
   },
   {
    "duration": 13,
    "start_time": "2022-01-26T01:14:11.160Z"
   },
   {
    "duration": 9,
    "start_time": "2022-01-26T01:14:11.175Z"
   },
   {
    "duration": 48,
    "start_time": "2022-01-26T01:14:11.185Z"
   },
   {
    "duration": 7,
    "start_time": "2022-01-26T01:14:11.234Z"
   },
   {
    "duration": 7,
    "start_time": "2022-01-26T01:14:11.242Z"
   },
   {
    "duration": 6,
    "start_time": "2022-01-26T01:15:08.911Z"
   },
   {
    "duration": 592,
    "start_time": "2022-01-26T01:15:25.063Z"
   },
   {
    "duration": 541,
    "start_time": "2022-01-26T01:15:25.657Z"
   },
   {
    "duration": 676,
    "start_time": "2022-01-26T01:15:26.200Z"
   },
   {
    "duration": 119,
    "start_time": "2022-01-26T01:15:26.878Z"
   },
   {
    "duration": 66,
    "start_time": "2022-01-26T01:15:26.999Z"
   },
   {
    "duration": 10,
    "start_time": "2022-01-26T01:15:27.067Z"
   },
   {
    "duration": 404,
    "start_time": "2022-01-26T01:15:27.079Z"
   },
   {
    "duration": 16,
    "start_time": "2022-01-26T01:15:27.486Z"
   },
   {
    "duration": 56,
    "start_time": "2022-01-26T01:15:27.505Z"
   },
   {
    "duration": 156,
    "start_time": "2022-01-26T01:15:27.563Z"
   },
   {
    "duration": 67,
    "start_time": "2022-01-26T01:15:27.721Z"
   },
   {
    "duration": 21,
    "start_time": "2022-01-26T01:15:27.789Z"
   },
   {
    "duration": 16,
    "start_time": "2022-01-26T01:15:27.828Z"
   },
   {
    "duration": 272,
    "start_time": "2022-01-26T01:15:27.846Z"
   },
   {
    "duration": 389,
    "start_time": "2022-01-26T01:15:28.120Z"
   },
   {
    "duration": 249,
    "start_time": "2022-01-26T01:15:28.511Z"
   },
   {
    "duration": 180,
    "start_time": "2022-01-26T01:15:28.762Z"
   },
   {
    "duration": 171,
    "start_time": "2022-01-26T01:15:28.944Z"
   },
   {
    "duration": 179,
    "start_time": "2022-01-26T01:15:29.116Z"
   },
   {
    "duration": 90,
    "start_time": "2022-01-26T01:15:29.296Z"
   },
   {
    "duration": 39,
    "start_time": "2022-01-26T01:15:29.388Z"
   },
   {
    "duration": 10,
    "start_time": "2022-01-26T01:15:29.429Z"
   },
   {
    "duration": 9,
    "start_time": "2022-01-26T01:15:29.442Z"
   },
   {
    "duration": 9,
    "start_time": "2022-01-26T01:15:29.452Z"
   },
   {
    "duration": 19,
    "start_time": "2022-01-26T01:15:29.462Z"
   },
   {
    "duration": 7,
    "start_time": "2022-01-26T01:15:29.482Z"
   },
   {
    "duration": 41,
    "start_time": "2022-01-26T01:15:29.490Z"
   },
   {
    "duration": 710,
    "start_time": "2022-01-26T15:59:02.816Z"
   },
   {
    "duration": 559,
    "start_time": "2022-01-26T15:59:03.528Z"
   },
   {
    "duration": 972,
    "start_time": "2022-01-26T15:59:04.089Z"
   },
   {
    "duration": 131,
    "start_time": "2022-01-26T15:59:05.063Z"
   },
   {
    "duration": 87,
    "start_time": "2022-01-26T15:59:05.196Z"
   },
   {
    "duration": 11,
    "start_time": "2022-01-26T15:59:05.285Z"
   },
   {
    "duration": 469,
    "start_time": "2022-01-26T15:59:05.298Z"
   },
   {
    "duration": 19,
    "start_time": "2022-01-26T15:59:05.770Z"
   },
   {
    "duration": 58,
    "start_time": "2022-01-26T15:59:05.791Z"
   },
   {
    "duration": 189,
    "start_time": "2022-01-26T15:59:05.851Z"
   },
   {
    "duration": 78,
    "start_time": "2022-01-26T15:59:06.042Z"
   },
   {
    "duration": 25,
    "start_time": "2022-01-26T15:59:06.121Z"
   },
   {
    "duration": 20,
    "start_time": "2022-01-26T15:59:06.160Z"
   },
   {
    "duration": 269,
    "start_time": "2022-01-26T15:59:06.182Z"
   },
   {
    "duration": 517,
    "start_time": "2022-01-26T15:59:06.453Z"
   },
   {
    "duration": 311,
    "start_time": "2022-01-26T15:59:06.972Z"
   },
   {
    "duration": 206,
    "start_time": "2022-01-26T15:59:07.284Z"
   },
   {
    "duration": 193,
    "start_time": "2022-01-26T15:59:07.491Z"
   },
   {
    "duration": 213,
    "start_time": "2022-01-26T15:59:07.686Z"
   },
   {
    "duration": 102,
    "start_time": "2022-01-26T15:59:07.900Z"
   },
   {
    "duration": 40,
    "start_time": "2022-01-26T15:59:08.004Z"
   },
   {
    "duration": 13,
    "start_time": "2022-01-26T15:59:08.060Z"
   },
   {
    "duration": 46,
    "start_time": "2022-01-26T15:59:08.076Z"
   },
   {
    "duration": 37,
    "start_time": "2022-01-26T15:59:08.124Z"
   },
   {
    "duration": 51,
    "start_time": "2022-01-26T15:59:08.163Z"
   },
   {
    "duration": 20,
    "start_time": "2022-01-26T15:59:08.216Z"
   },
   {
    "duration": 44,
    "start_time": "2022-01-26T15:59:08.238Z"
   },
   {
    "duration": 835,
    "start_time": "2022-01-26T16:09:25.291Z"
   },
   {
    "duration": 795,
    "start_time": "2022-01-26T16:09:26.128Z"
   },
   {
    "duration": 1085,
    "start_time": "2022-01-26T16:09:26.926Z"
   },
   {
    "duration": 161,
    "start_time": "2022-01-26T16:09:28.013Z"
   },
   {
    "duration": 68,
    "start_time": "2022-01-26T16:09:28.176Z"
   },
   {
    "duration": 24,
    "start_time": "2022-01-26T16:09:28.246Z"
   },
   {
    "duration": 470,
    "start_time": "2022-01-26T16:09:28.273Z"
   },
   {
    "duration": 31,
    "start_time": "2022-01-26T16:09:28.745Z"
   },
   {
    "duration": 58,
    "start_time": "2022-01-26T16:09:28.779Z"
   },
   {
    "duration": 214,
    "start_time": "2022-01-26T16:09:28.839Z"
   },
   {
    "duration": 86,
    "start_time": "2022-01-26T16:09:29.055Z"
   },
   {
    "duration": 44,
    "start_time": "2022-01-26T16:09:29.143Z"
   },
   {
    "duration": 16,
    "start_time": "2022-01-26T16:09:29.189Z"
   },
   {
    "duration": 319,
    "start_time": "2022-01-26T16:09:29.207Z"
   },
   {
    "duration": 571,
    "start_time": "2022-01-26T16:09:29.528Z"
   },
   {
    "duration": 330,
    "start_time": "2022-01-26T16:09:30.101Z"
   },
   {
    "duration": 223,
    "start_time": "2022-01-26T16:09:30.433Z"
   },
   {
    "duration": 223,
    "start_time": "2022-01-26T16:09:30.660Z"
   },
   {
    "duration": 228,
    "start_time": "2022-01-26T16:09:30.885Z"
   },
   {
    "duration": 106,
    "start_time": "2022-01-26T16:09:31.115Z"
   },
   {
    "duration": 63,
    "start_time": "2022-01-26T16:09:31.223Z"
   },
   {
    "duration": 14,
    "start_time": "2022-01-26T16:09:31.287Z"
   },
   {
    "duration": 37,
    "start_time": "2022-01-26T16:09:31.304Z"
   },
   {
    "duration": 40,
    "start_time": "2022-01-26T16:09:31.343Z"
   },
   {
    "duration": 46,
    "start_time": "2022-01-26T16:09:31.385Z"
   },
   {
    "duration": 11,
    "start_time": "2022-01-26T16:09:31.433Z"
   },
   {
    "duration": 42,
    "start_time": "2022-01-26T16:09:31.445Z"
   },
   {
    "duration": 11,
    "start_time": "2022-01-26T16:15:55.405Z"
   },
   {
    "duration": 291,
    "start_time": "2022-01-26T16:19:23.452Z"
   },
   {
    "duration": 21,
    "start_time": "2022-01-26T16:19:46.785Z"
   },
   {
    "duration": 39,
    "start_time": "2022-01-26T16:21:22.725Z"
   },
   {
    "duration": 25,
    "start_time": "2022-01-26T16:25:48.170Z"
   },
   {
    "duration": 31,
    "start_time": "2022-01-26T16:26:37.712Z"
   },
   {
    "duration": 24,
    "start_time": "2022-01-26T16:41:17.984Z"
   },
   {
    "duration": 44,
    "start_time": "2022-01-26T16:42:04.190Z"
   },
   {
    "duration": 41,
    "start_time": "2022-01-26T16:42:21.756Z"
   },
   {
    "duration": 44,
    "start_time": "2022-01-26T16:43:27.233Z"
   },
   {
    "duration": 5360,
    "start_time": "2022-01-26T16:44:07.375Z"
   },
   {
    "duration": 686,
    "start_time": "2022-01-26T16:44:17.078Z"
   },
   {
    "duration": 556,
    "start_time": "2022-01-26T16:44:17.766Z"
   },
   {
    "duration": 942,
    "start_time": "2022-01-26T16:44:18.325Z"
   },
   {
    "duration": 143,
    "start_time": "2022-01-26T16:44:19.271Z"
   },
   {
    "duration": 94,
    "start_time": "2022-01-26T16:44:19.416Z"
   },
   {
    "duration": 11,
    "start_time": "2022-01-26T16:44:19.512Z"
   },
   {
    "duration": 480,
    "start_time": "2022-01-26T16:44:19.525Z"
   },
   {
    "duration": 21,
    "start_time": "2022-01-26T16:44:20.006Z"
   },
   {
    "duration": 68,
    "start_time": "2022-01-26T16:44:20.029Z"
   },
   {
    "duration": 200,
    "start_time": "2022-01-26T16:44:20.099Z"
   },
   {
    "duration": 89,
    "start_time": "2022-01-26T16:44:20.301Z"
   },
   {
    "duration": 22,
    "start_time": "2022-01-26T16:44:20.392Z"
   },
   {
    "duration": 17,
    "start_time": "2022-01-26T16:44:20.416Z"
   },
   {
    "duration": 371,
    "start_time": "2022-01-26T16:44:20.435Z"
   },
   {
    "duration": 497,
    "start_time": "2022-01-26T16:44:20.808Z"
   },
   {
    "duration": 329,
    "start_time": "2022-01-26T16:44:21.307Z"
   },
   {
    "duration": 241,
    "start_time": "2022-01-26T16:44:21.637Z"
   },
   {
    "duration": 224,
    "start_time": "2022-01-26T16:44:21.880Z"
   },
   {
    "duration": 231,
    "start_time": "2022-01-26T16:44:22.106Z"
   },
   {
    "duration": 110,
    "start_time": "2022-01-26T16:44:22.339Z"
   },
   {
    "duration": 52,
    "start_time": "2022-01-26T16:44:22.451Z"
   },
   {
    "duration": 11,
    "start_time": "2022-01-26T16:44:22.504Z"
   },
   {
    "duration": 32,
    "start_time": "2022-01-26T16:44:22.517Z"
   },
   {
    "duration": 12,
    "start_time": "2022-01-26T16:44:22.551Z"
   },
   {
    "duration": 30,
    "start_time": "2022-01-26T16:44:22.565Z"
   },
   {
    "duration": 14,
    "start_time": "2022-01-26T16:44:22.597Z"
   },
   {
    "duration": 10,
    "start_time": "2022-01-26T16:44:22.614Z"
   },
   {
    "duration": 66,
    "start_time": "2022-01-26T16:44:22.626Z"
   },
   {
    "duration": 5819,
    "start_time": "2022-01-26T16:44:32.617Z"
   },
   {
    "duration": 706,
    "start_time": "2022-01-26T16:44:44.576Z"
   },
   {
    "duration": 612,
    "start_time": "2022-01-26T16:44:45.285Z"
   },
   {
    "duration": 1192,
    "start_time": "2022-01-26T16:44:45.900Z"
   },
   {
    "duration": 168,
    "start_time": "2022-01-26T16:44:47.096Z"
   },
   {
    "duration": 67,
    "start_time": "2022-01-26T16:44:47.267Z"
   },
   {
    "duration": 9,
    "start_time": "2022-01-26T16:44:47.336Z"
   },
   {
    "duration": 469,
    "start_time": "2022-01-26T16:44:47.347Z"
   },
   {
    "duration": 18,
    "start_time": "2022-01-26T16:44:47.819Z"
   },
   {
    "duration": 67,
    "start_time": "2022-01-26T16:44:47.839Z"
   },
   {
    "duration": 190,
    "start_time": "2022-01-26T16:44:47.908Z"
   },
   {
    "duration": 93,
    "start_time": "2022-01-26T16:44:48.100Z"
   },
   {
    "duration": 21,
    "start_time": "2022-01-26T16:44:48.195Z"
   },
   {
    "duration": 17,
    "start_time": "2022-01-26T16:44:48.217Z"
   },
   {
    "duration": 363,
    "start_time": "2022-01-26T16:44:48.236Z"
   },
   {
    "duration": 510,
    "start_time": "2022-01-26T16:44:48.601Z"
   },
   {
    "duration": 340,
    "start_time": "2022-01-26T16:44:49.114Z"
   },
   {
    "duration": 253,
    "start_time": "2022-01-26T16:44:49.457Z"
   },
   {
    "duration": 217,
    "start_time": "2022-01-26T16:44:49.712Z"
   },
   {
    "duration": 236,
    "start_time": "2022-01-26T16:44:49.931Z"
   },
   {
    "duration": 104,
    "start_time": "2022-01-26T16:44:50.170Z"
   },
   {
    "duration": 44,
    "start_time": "2022-01-26T16:44:50.277Z"
   },
   {
    "duration": 13,
    "start_time": "2022-01-26T16:44:50.323Z"
   },
   {
    "duration": 19,
    "start_time": "2022-01-26T16:44:50.367Z"
   },
   {
    "duration": 19,
    "start_time": "2022-01-26T16:44:50.388Z"
   },
   {
    "duration": 30,
    "start_time": "2022-01-26T16:44:50.409Z"
   },
   {
    "duration": 9,
    "start_time": "2022-01-26T16:44:50.441Z"
   },
   {
    "duration": 61,
    "start_time": "2022-01-26T16:44:50.452Z"
   },
   {
    "duration": 62,
    "start_time": "2022-01-26T16:44:50.515Z"
   },
   {
    "duration": 6097,
    "start_time": "2022-01-26T16:46:36.341Z"
   },
   {
    "duration": 32,
    "start_time": "2022-01-26T16:46:45.182Z"
   },
   {
    "duration": 43,
    "start_time": "2022-01-26T16:46:57.739Z"
   },
   {
    "duration": 91,
    "start_time": "2022-01-26T16:47:38.390Z"
   },
   {
    "duration": 91,
    "start_time": "2022-01-26T16:50:25.314Z"
   },
   {
    "duration": 117,
    "start_time": "2022-01-26T16:50:45.754Z"
   },
   {
    "duration": 120,
    "start_time": "2022-01-26T16:51:00.865Z"
   },
   {
    "duration": 105,
    "start_time": "2022-01-26T16:52:16.642Z"
   },
   {
    "duration": 94,
    "start_time": "2022-01-26T16:52:55.792Z"
   },
   {
    "duration": 148,
    "start_time": "2022-01-26T17:02:45.350Z"
   },
   {
    "duration": 8,
    "start_time": "2022-01-26T17:17:08.025Z"
   },
   {
    "duration": 188,
    "start_time": "2022-01-26T17:22:20.413Z"
   },
   {
    "duration": 119,
    "start_time": "2022-01-26T17:23:33.269Z"
   },
   {
    "duration": 224,
    "start_time": "2022-01-26T18:47:24.236Z"
   },
   {
    "duration": 717,
    "start_time": "2022-01-26T18:48:00.835Z"
   },
   {
    "duration": 596,
    "start_time": "2022-01-26T18:48:01.554Z"
   },
   {
    "duration": 938,
    "start_time": "2022-01-26T18:48:02.152Z"
   },
   {
    "duration": 129,
    "start_time": "2022-01-26T18:48:03.093Z"
   },
   {
    "duration": 79,
    "start_time": "2022-01-26T18:48:03.223Z"
   },
   {
    "duration": 10,
    "start_time": "2022-01-26T18:48:03.303Z"
   },
   {
    "duration": 454,
    "start_time": "2022-01-26T18:48:03.315Z"
   },
   {
    "duration": 21,
    "start_time": "2022-01-26T18:48:03.771Z"
   },
   {
    "duration": 67,
    "start_time": "2022-01-26T18:48:03.795Z"
   },
   {
    "duration": 182,
    "start_time": "2022-01-26T18:48:03.864Z"
   },
   {
    "duration": 87,
    "start_time": "2022-01-26T18:48:04.048Z"
   },
   {
    "duration": 37,
    "start_time": "2022-01-26T18:48:04.137Z"
   },
   {
    "duration": 18,
    "start_time": "2022-01-26T18:48:04.176Z"
   },
   {
    "duration": 285,
    "start_time": "2022-01-26T18:48:04.196Z"
   },
   {
    "duration": 546,
    "start_time": "2022-01-26T18:48:04.483Z"
   },
   {
    "duration": 373,
    "start_time": "2022-01-26T18:48:05.031Z"
   },
   {
    "duration": 211,
    "start_time": "2022-01-26T18:48:05.405Z"
   },
   {
    "duration": 221,
    "start_time": "2022-01-26T18:48:05.618Z"
   },
   {
    "duration": 228,
    "start_time": "2022-01-26T18:48:05.841Z"
   },
   {
    "duration": 113,
    "start_time": "2022-01-26T18:48:06.072Z"
   },
   {
    "duration": 42,
    "start_time": "2022-01-26T18:48:06.187Z"
   },
   {
    "duration": 33,
    "start_time": "2022-01-26T18:48:06.231Z"
   },
   {
    "duration": 12,
    "start_time": "2022-01-26T18:48:06.266Z"
   },
   {
    "duration": 42,
    "start_time": "2022-01-26T18:48:06.280Z"
   },
   {
    "duration": 31,
    "start_time": "2022-01-26T18:48:06.324Z"
   },
   {
    "duration": 12,
    "start_time": "2022-01-26T18:48:06.357Z"
   },
   {
    "duration": 27,
    "start_time": "2022-01-26T18:48:06.372Z"
   },
   {
    "duration": 123,
    "start_time": "2022-01-26T18:48:06.401Z"
   },
   {
    "duration": 331,
    "start_time": "2022-01-26T18:48:06.526Z"
   },
   {
    "duration": 11,
    "start_time": "2022-01-26T18:48:30.854Z"
   },
   {
    "duration": 229,
    "start_time": "2022-01-26T18:49:17.641Z"
   },
   {
    "duration": 14,
    "start_time": "2022-01-26T18:49:39.861Z"
   },
   {
    "duration": 16,
    "start_time": "2022-01-26T18:50:02.102Z"
   },
   {
    "duration": 8,
    "start_time": "2022-01-26T18:51:00.151Z"
   },
   {
    "duration": 12,
    "start_time": "2022-01-26T18:52:21.365Z"
   },
   {
    "duration": 11,
    "start_time": "2022-01-26T18:52:40.170Z"
   },
   {
    "duration": 17,
    "start_time": "2022-01-26T18:57:46.484Z"
   },
   {
    "duration": 26,
    "start_time": "2022-01-26T18:59:52.686Z"
   },
   {
    "duration": 26,
    "start_time": "2022-01-26T19:01:46.539Z"
   },
   {
    "duration": 27,
    "start_time": "2022-01-26T19:02:01.834Z"
   },
   {
    "duration": 20,
    "start_time": "2022-01-26T19:11:37.929Z"
   },
   {
    "duration": 23,
    "start_time": "2022-01-26T19:11:52.858Z"
   },
   {
    "duration": 76,
    "start_time": "2022-01-26T19:17:02.216Z"
   },
   {
    "duration": 256,
    "start_time": "2022-01-26T19:17:34.715Z"
   },
   {
    "duration": 219,
    "start_time": "2022-01-26T19:17:59.801Z"
   },
   {
    "duration": 223,
    "start_time": "2022-01-26T19:19:48.563Z"
   },
   {
    "duration": 24,
    "start_time": "2022-01-26T19:20:08.904Z"
   },
   {
    "duration": 26,
    "start_time": "2022-01-26T19:21:21.843Z"
   },
   {
    "duration": 25,
    "start_time": "2022-01-26T19:21:27.713Z"
   },
   {
    "duration": 655,
    "start_time": "2022-01-27T16:45:00.889Z"
   },
   {
    "duration": 514,
    "start_time": "2022-01-27T16:45:01.546Z"
   },
   {
    "duration": 709,
    "start_time": "2022-01-27T16:45:02.062Z"
   },
   {
    "duration": 123,
    "start_time": "2022-01-27T16:45:02.772Z"
   },
   {
    "duration": 69,
    "start_time": "2022-01-27T16:45:02.897Z"
   },
   {
    "duration": 9,
    "start_time": "2022-01-27T16:45:02.968Z"
   },
   {
    "duration": 441,
    "start_time": "2022-01-27T16:45:02.979Z"
   },
   {
    "duration": 14,
    "start_time": "2022-01-27T16:45:03.422Z"
   },
   {
    "duration": 43,
    "start_time": "2022-01-27T16:45:03.438Z"
   },
   {
    "duration": 198,
    "start_time": "2022-01-27T16:45:03.482Z"
   },
   {
    "duration": 74,
    "start_time": "2022-01-27T16:45:03.682Z"
   },
   {
    "duration": 19,
    "start_time": "2022-01-27T16:45:03.758Z"
   },
   {
    "duration": 15,
    "start_time": "2022-01-27T16:45:03.779Z"
   },
   {
    "duration": 272,
    "start_time": "2022-01-27T16:45:03.812Z"
   },
   {
    "duration": 479,
    "start_time": "2022-01-27T16:45:04.086Z"
   },
   {
    "duration": 288,
    "start_time": "2022-01-27T16:45:04.567Z"
   },
   {
    "duration": 210,
    "start_time": "2022-01-27T16:45:04.857Z"
   },
   {
    "duration": 193,
    "start_time": "2022-01-27T16:45:05.068Z"
   },
   {
    "duration": 195,
    "start_time": "2022-01-27T16:45:05.263Z"
   },
   {
    "duration": 88,
    "start_time": "2022-01-27T16:45:05.460Z"
   },
   {
    "duration": 38,
    "start_time": "2022-01-27T16:45:05.550Z"
   },
   {
    "duration": 29,
    "start_time": "2022-01-27T16:45:05.589Z"
   },
   {
    "duration": 11,
    "start_time": "2022-01-27T16:45:05.620Z"
   },
   {
    "duration": 14,
    "start_time": "2022-01-27T16:45:05.632Z"
   },
   {
    "duration": 23,
    "start_time": "2022-01-27T16:45:05.647Z"
   },
   {
    "duration": 8,
    "start_time": "2022-01-27T16:45:05.672Z"
   },
   {
    "duration": 34,
    "start_time": "2022-01-27T16:45:05.682Z"
   },
   {
    "duration": 122,
    "start_time": "2022-01-27T16:45:05.717Z"
   },
   {
    "duration": 20,
    "start_time": "2022-01-27T16:45:05.841Z"
   },
   {
    "duration": 52,
    "start_time": "2022-01-27T16:45:05.863Z"
   },
   {
    "duration": 22,
    "start_time": "2022-01-27T16:45:05.917Z"
   },
   {
    "duration": 24,
    "start_time": "2022-01-27T17:01:52.741Z"
   },
   {
    "duration": 23,
    "start_time": "2022-01-27T17:03:17.037Z"
   },
   {
    "duration": 29,
    "start_time": "2022-01-27T17:03:23.667Z"
   },
   {
    "duration": 295,
    "start_time": "2022-01-27T17:05:55.869Z"
   },
   {
    "duration": 233,
    "start_time": "2022-01-27T17:06:08.183Z"
   },
   {
    "duration": 9,
    "start_time": "2022-01-27T17:06:27.212Z"
   },
   {
    "duration": 2,
    "start_time": "2022-01-27T17:06:39.481Z"
   },
   {
    "duration": 12,
    "start_time": "2022-01-27T17:06:54.990Z"
   },
   {
    "duration": 22,
    "start_time": "2022-01-27T17:07:16.753Z"
   },
   {
    "duration": 8,
    "start_time": "2022-01-27T17:08:05.407Z"
   },
   {
    "duration": 610,
    "start_time": "2022-01-27T17:09:07.930Z"
   },
   {
    "duration": 510,
    "start_time": "2022-01-27T17:09:08.542Z"
   },
   {
    "duration": 736,
    "start_time": "2022-01-27T17:09:09.054Z"
   },
   {
    "duration": 111,
    "start_time": "2022-01-27T17:09:09.813Z"
   },
   {
    "duration": 60,
    "start_time": "2022-01-27T17:09:09.925Z"
   },
   {
    "duration": 26,
    "start_time": "2022-01-27T17:09:09.986Z"
   },
   {
    "duration": 425,
    "start_time": "2022-01-27T17:09:10.014Z"
   },
   {
    "duration": 14,
    "start_time": "2022-01-27T17:09:10.441Z"
   },
   {
    "duration": 57,
    "start_time": "2022-01-27T17:09:10.456Z"
   },
   {
    "duration": 177,
    "start_time": "2022-01-27T17:09:10.515Z"
   },
   {
    "duration": 76,
    "start_time": "2022-01-27T17:09:10.694Z"
   },
   {
    "duration": 20,
    "start_time": "2022-01-27T17:09:10.772Z"
   },
   {
    "duration": 31,
    "start_time": "2022-01-27T17:09:10.794Z"
   },
   {
    "duration": 275,
    "start_time": "2022-01-27T17:09:10.827Z"
   },
   {
    "duration": 485,
    "start_time": "2022-01-27T17:09:11.103Z"
   },
   {
    "duration": 281,
    "start_time": "2022-01-27T17:09:11.590Z"
   },
   {
    "duration": 204,
    "start_time": "2022-01-27T17:09:11.873Z"
   },
   {
    "duration": 194,
    "start_time": "2022-01-27T17:09:12.078Z"
   },
   {
    "duration": 205,
    "start_time": "2022-01-27T17:09:12.273Z"
   },
   {
    "duration": 89,
    "start_time": "2022-01-27T17:09:12.480Z"
   },
   {
    "duration": 48,
    "start_time": "2022-01-27T17:09:12.571Z"
   },
   {
    "duration": 10,
    "start_time": "2022-01-27T17:09:12.621Z"
   },
   {
    "duration": 10,
    "start_time": "2022-01-27T17:09:12.634Z"
   },
   {
    "duration": 9,
    "start_time": "2022-01-27T17:09:12.646Z"
   },
   {
    "duration": 57,
    "start_time": "2022-01-27T17:09:12.657Z"
   },
   {
    "duration": 10,
    "start_time": "2022-01-27T17:09:12.716Z"
   },
   {
    "duration": 10,
    "start_time": "2022-01-27T17:09:12.728Z"
   },
   {
    "duration": 147,
    "start_time": "2022-01-27T17:09:12.740Z"
   },
   {
    "duration": 53,
    "start_time": "2022-01-27T17:09:12.889Z"
   },
   {
    "duration": 28,
    "start_time": "2022-01-27T17:09:12.944Z"
   },
   {
    "duration": 2,
    "start_time": "2022-01-27T17:09:12.973Z"
   },
   {
    "duration": 8,
    "start_time": "2022-01-27T17:09:33.385Z"
   },
   {
    "duration": 8,
    "start_time": "2022-01-27T17:11:13.416Z"
   },
   {
    "duration": 657,
    "start_time": "2022-01-27T17:13:13.492Z"
   },
   {
    "duration": 493,
    "start_time": "2022-01-27T17:13:14.150Z"
   },
   {
    "duration": 998,
    "start_time": "2022-01-27T17:13:14.645Z"
   },
   {
    "duration": 124,
    "start_time": "2022-01-27T17:13:15.645Z"
   },
   {
    "duration": 68,
    "start_time": "2022-01-27T17:13:15.770Z"
   },
   {
    "duration": 10,
    "start_time": "2022-01-27T17:13:15.840Z"
   },
   {
    "duration": 428,
    "start_time": "2022-01-27T17:13:15.851Z"
   },
   {
    "duration": 14,
    "start_time": "2022-01-27T17:13:16.281Z"
   },
   {
    "duration": 57,
    "start_time": "2022-01-27T17:13:16.297Z"
   },
   {
    "duration": 180,
    "start_time": "2022-01-27T17:13:16.356Z"
   },
   {
    "duration": 64,
    "start_time": "2022-01-27T17:13:16.537Z"
   },
   {
    "duration": 29,
    "start_time": "2022-01-27T17:13:16.603Z"
   },
   {
    "duration": 16,
    "start_time": "2022-01-27T17:13:16.634Z"
   },
   {
    "duration": 287,
    "start_time": "2022-01-27T17:13:16.651Z"
   },
   {
    "duration": 474,
    "start_time": "2022-01-27T17:13:16.939Z"
   },
   {
    "duration": 282,
    "start_time": "2022-01-27T17:13:17.415Z"
   },
   {
    "duration": 205,
    "start_time": "2022-01-27T17:13:17.698Z"
   },
   {
    "duration": 213,
    "start_time": "2022-01-27T17:13:17.905Z"
   },
   {
    "duration": 202,
    "start_time": "2022-01-27T17:13:18.119Z"
   },
   {
    "duration": 114,
    "start_time": "2022-01-27T17:13:18.322Z"
   },
   {
    "duration": 39,
    "start_time": "2022-01-27T17:13:18.438Z"
   },
   {
    "duration": 33,
    "start_time": "2022-01-27T17:13:18.479Z"
   },
   {
    "duration": 305,
    "start_time": "2022-01-27T17:13:18.516Z"
   },
   {
    "duration": -111,
    "start_time": "2022-01-27T17:13:18.935Z"
   },
   {
    "duration": -119,
    "start_time": "2022-01-27T17:13:18.944Z"
   },
   {
    "duration": -125,
    "start_time": "2022-01-27T17:13:18.951Z"
   },
   {
    "duration": -130,
    "start_time": "2022-01-27T17:13:18.957Z"
   },
   {
    "duration": -137,
    "start_time": "2022-01-27T17:13:18.965Z"
   },
   {
    "duration": -142,
    "start_time": "2022-01-27T17:13:18.971Z"
   },
   {
    "duration": -149,
    "start_time": "2022-01-27T17:13:18.979Z"
   },
   {
    "duration": -154,
    "start_time": "2022-01-27T17:13:18.985Z"
   },
   {
    "duration": 254,
    "start_time": "2022-01-27T17:13:36.345Z"
   },
   {
    "duration": 12,
    "start_time": "2022-01-27T17:14:18.417Z"
   },
   {
    "duration": 14,
    "start_time": "2022-01-27T17:23:05.405Z"
   },
   {
    "duration": 13,
    "start_time": "2022-01-27T17:23:20.827Z"
   },
   {
    "duration": 10,
    "start_time": "2022-01-27T17:23:52.660Z"
   },
   {
    "duration": 664,
    "start_time": "2022-01-27T17:24:01.281Z"
   },
   {
    "duration": 516,
    "start_time": "2022-01-27T17:24:01.947Z"
   },
   {
    "duration": 809,
    "start_time": "2022-01-27T17:24:02.465Z"
   },
   {
    "duration": 139,
    "start_time": "2022-01-27T17:24:03.276Z"
   },
   {
    "duration": 64,
    "start_time": "2022-01-27T17:24:03.416Z"
   },
   {
    "duration": 9,
    "start_time": "2022-01-27T17:24:03.482Z"
   },
   {
    "duration": 477,
    "start_time": "2022-01-27T17:24:03.493Z"
   },
   {
    "duration": 17,
    "start_time": "2022-01-27T17:24:03.973Z"
   },
   {
    "duration": 60,
    "start_time": "2022-01-27T17:24:03.993Z"
   },
   {
    "duration": 193,
    "start_time": "2022-01-27T17:24:04.055Z"
   },
   {
    "duration": 71,
    "start_time": "2022-01-27T17:24:04.250Z"
   },
   {
    "duration": 20,
    "start_time": "2022-01-27T17:24:04.323Z"
   },
   {
    "duration": 15,
    "start_time": "2022-01-27T17:24:04.345Z"
   },
   {
    "duration": 339,
    "start_time": "2022-01-27T17:24:04.362Z"
   },
   {
    "duration": 447,
    "start_time": "2022-01-27T17:24:04.703Z"
   },
   {
    "duration": 300,
    "start_time": "2022-01-27T17:24:05.152Z"
   },
   {
    "duration": 197,
    "start_time": "2022-01-27T17:24:05.453Z"
   },
   {
    "duration": 196,
    "start_time": "2022-01-27T17:24:05.652Z"
   },
   {
    "duration": 201,
    "start_time": "2022-01-27T17:24:05.849Z"
   },
   {
    "duration": 105,
    "start_time": "2022-01-27T17:24:06.052Z"
   },
   {
    "duration": 53,
    "start_time": "2022-01-27T17:24:06.159Z"
   },
   {
    "duration": 13,
    "start_time": "2022-01-27T17:24:06.213Z"
   },
   {
    "duration": 10,
    "start_time": "2022-01-27T17:24:06.228Z"
   },
   {
    "duration": 7,
    "start_time": "2022-01-27T17:24:06.240Z"
   },
   {
    "duration": 18,
    "start_time": "2022-01-27T17:24:06.248Z"
   },
   {
    "duration": 7,
    "start_time": "2022-01-27T17:24:06.267Z"
   },
   {
    "duration": 43,
    "start_time": "2022-01-27T17:24:06.275Z"
   },
   {
    "duration": 115,
    "start_time": "2022-01-27T17:24:06.319Z"
   },
   {
    "duration": 23,
    "start_time": "2022-01-27T17:24:06.436Z"
   },
   {
    "duration": 56,
    "start_time": "2022-01-27T17:24:06.460Z"
   },
   {
    "duration": 23,
    "start_time": "2022-01-27T17:24:06.518Z"
   },
   {
    "duration": 304,
    "start_time": "2022-01-27T17:25:06.986Z"
   },
   {
    "duration": 293,
    "start_time": "2022-01-27T17:26:38.688Z"
   },
   {
    "duration": 43,
    "start_time": "2022-01-27T17:28:08.847Z"
   },
   {
    "duration": 36,
    "start_time": "2022-01-27T17:28:53.152Z"
   },
   {
    "duration": 36,
    "start_time": "2022-01-27T17:29:03.841Z"
   },
   {
    "duration": 1144,
    "start_time": "2022-01-28T08:01:31.741Z"
   },
   {
    "duration": 747,
    "start_time": "2022-01-28T08:01:32.889Z"
   },
   {
    "duration": 1124,
    "start_time": "2022-01-28T08:01:33.639Z"
   },
   {
    "duration": 193,
    "start_time": "2022-01-28T08:01:34.766Z"
   },
   {
    "duration": 102,
    "start_time": "2022-01-28T08:01:34.962Z"
   },
   {
    "duration": 15,
    "start_time": "2022-01-28T08:01:35.067Z"
   },
   {
    "duration": 716,
    "start_time": "2022-01-28T08:01:35.085Z"
   },
   {
    "duration": 36,
    "start_time": "2022-01-28T08:01:35.805Z"
   },
   {
    "duration": 80,
    "start_time": "2022-01-28T08:01:35.844Z"
   },
   {
    "duration": 291,
    "start_time": "2022-01-28T08:01:35.927Z"
   },
   {
    "duration": 131,
    "start_time": "2022-01-28T08:01:36.223Z"
   },
   {
    "duration": 29,
    "start_time": "2022-01-28T08:01:36.357Z"
   },
   {
    "duration": 48,
    "start_time": "2022-01-28T08:01:36.389Z"
   },
   {
    "duration": 484,
    "start_time": "2022-01-28T08:01:36.439Z"
   },
   {
    "duration": 724,
    "start_time": "2022-01-28T08:01:36.925Z"
   },
   {
    "duration": 457,
    "start_time": "2022-01-28T08:01:37.652Z"
   },
   {
    "duration": 326,
    "start_time": "2022-01-28T08:01:38.111Z"
   },
   {
    "duration": 319,
    "start_time": "2022-01-28T08:01:38.441Z"
   },
   {
    "duration": 325,
    "start_time": "2022-01-28T08:01:38.763Z"
   },
   {
    "duration": 142,
    "start_time": "2022-01-28T08:01:39.090Z"
   },
   {
    "duration": 64,
    "start_time": "2022-01-28T08:01:39.234Z"
   },
   {
    "duration": 44,
    "start_time": "2022-01-28T08:01:39.301Z"
   },
   {
    "duration": 19,
    "start_time": "2022-01-28T08:01:39.352Z"
   },
   {
    "duration": 16,
    "start_time": "2022-01-28T08:01:39.375Z"
   },
   {
    "duration": 57,
    "start_time": "2022-01-28T08:01:39.393Z"
   },
   {
    "duration": 12,
    "start_time": "2022-01-28T08:01:39.452Z"
   },
   {
    "duration": 15,
    "start_time": "2022-01-28T08:01:39.467Z"
   },
   {
    "duration": 252,
    "start_time": "2022-01-28T08:01:39.524Z"
   },
   {
    "duration": 59,
    "start_time": "2022-01-28T08:01:39.779Z"
   },
   {
    "duration": 128,
    "start_time": "2022-01-28T08:01:39.841Z"
   },
   {
    "duration": -50,
    "start_time": "2022-01-28T08:01:40.022Z"
   },
   {
    "duration": -57,
    "start_time": "2022-01-28T08:01:40.031Z"
   },
   {
    "duration": 869,
    "start_time": "2022-01-28T08:02:15.324Z"
   },
   {
    "duration": 731,
    "start_time": "2022-01-28T08:02:16.195Z"
   },
   {
    "duration": 1203,
    "start_time": "2022-01-28T08:02:16.929Z"
   },
   {
    "duration": 188,
    "start_time": "2022-01-28T08:02:18.135Z"
   },
   {
    "duration": 107,
    "start_time": "2022-01-28T08:02:18.326Z"
   },
   {
    "duration": 14,
    "start_time": "2022-01-28T08:02:18.435Z"
   },
   {
    "duration": 755,
    "start_time": "2022-01-28T08:02:18.452Z"
   },
   {
    "duration": 32,
    "start_time": "2022-01-28T08:02:19.211Z"
   },
   {
    "duration": 79,
    "start_time": "2022-01-28T08:02:19.246Z"
   },
   {
    "duration": 298,
    "start_time": "2022-01-28T08:02:19.328Z"
   },
   {
    "duration": 144,
    "start_time": "2022-01-28T08:02:19.628Z"
   },
   {
    "duration": 30,
    "start_time": "2022-01-28T08:02:19.774Z"
   },
   {
    "duration": 36,
    "start_time": "2022-01-28T08:02:19.807Z"
   },
   {
    "duration": 495,
    "start_time": "2022-01-28T08:02:19.846Z"
   },
   {
    "duration": 743,
    "start_time": "2022-01-28T08:02:20.343Z"
   },
   {
    "duration": 490,
    "start_time": "2022-01-28T08:02:21.089Z"
   },
   {
    "duration": 342,
    "start_time": "2022-01-28T08:02:21.581Z"
   },
   {
    "duration": 324,
    "start_time": "2022-01-28T08:02:21.926Z"
   },
   {
    "duration": 341,
    "start_time": "2022-01-28T08:02:22.252Z"
   },
   {
    "duration": 236,
    "start_time": "2022-01-28T08:02:22.596Z"
   },
   {
    "duration": 93,
    "start_time": "2022-01-28T08:02:22.835Z"
   },
   {
    "duration": 28,
    "start_time": "2022-01-28T08:02:22.931Z"
   },
   {
    "duration": 19,
    "start_time": "2022-01-28T08:02:22.966Z"
   },
   {
    "duration": 13,
    "start_time": "2022-01-28T08:02:22.989Z"
   },
   {
    "duration": 41,
    "start_time": "2022-01-28T08:02:23.024Z"
   },
   {
    "duration": 21,
    "start_time": "2022-01-28T08:02:23.068Z"
   },
   {
    "duration": 22,
    "start_time": "2022-01-28T08:02:23.092Z"
   },
   {
    "duration": 218,
    "start_time": "2022-01-28T08:02:23.116Z"
   },
   {
    "duration": 44,
    "start_time": "2022-01-28T08:02:23.336Z"
   },
   {
    "duration": 149,
    "start_time": "2022-01-28T08:02:23.382Z"
   },
   {
    "duration": -863,
    "start_time": "2022-01-28T08:02:24.397Z"
   },
   {
    "duration": -886,
    "start_time": "2022-01-28T08:02:24.421Z"
   },
   {
    "duration": 42,
    "start_time": "2022-01-28T08:02:44.235Z"
   },
   {
    "duration": 950,
    "start_time": "2022-01-28T08:02:49.388Z"
   },
   {
    "duration": 466,
    "start_time": "2022-01-28T08:02:54.301Z"
   },
   {
    "duration": 541,
    "start_time": "2022-01-28T08:05:18.434Z"
   },
   {
    "duration": 561,
    "start_time": "2022-01-28T08:05:25.354Z"
   },
   {
    "duration": 1210,
    "start_time": "2022-01-28T08:08:09.402Z"
   },
   {
    "duration": 1178,
    "start_time": "2022-01-28T08:08:24.179Z"
   },
   {
    "duration": 1358,
    "start_time": "2022-01-28T08:11:16.317Z"
   },
   {
    "duration": 1251,
    "start_time": "2022-01-28T08:11:25.000Z"
   },
   {
    "duration": 1242,
    "start_time": "2022-01-28T08:12:34.586Z"
   },
   {
    "duration": 188,
    "start_time": "2022-01-28T08:13:12.452Z"
   },
   {
    "duration": 1285,
    "start_time": "2022-01-28T08:13:22.304Z"
   },
   {
    "duration": 1932,
    "start_time": "2022-01-28T08:20:39.585Z"
   },
   {
    "duration": 834,
    "start_time": "2022-01-28T08:20:53.532Z"
   },
   {
    "duration": 1074,
    "start_time": "2022-01-28T08:21:02.800Z"
   },
   {
    "duration": 1022,
    "start_time": "2022-01-28T08:21:24.439Z"
   },
   {
    "duration": 891,
    "start_time": "2022-01-28T08:21:33.417Z"
   },
   {
    "duration": 1026,
    "start_time": "2022-01-28T08:23:56.864Z"
   },
   {
    "duration": 885,
    "start_time": "2022-01-28T08:24:17.177Z"
   },
   {
    "duration": 831,
    "start_time": "2022-01-28T08:25:03.585Z"
   },
   {
    "duration": 545,
    "start_time": "2022-01-28T08:27:56.970Z"
   },
   {
    "duration": 32,
    "start_time": "2022-01-28T08:30:24.349Z"
   },
   {
    "duration": 32,
    "start_time": "2022-01-28T08:30:39.097Z"
   },
   {
    "duration": 347,
    "start_time": "2022-01-28T08:34:43.382Z"
   },
   {
    "duration": 15,
    "start_time": "2022-01-28T08:37:37.017Z"
   },
   {
    "duration": 13,
    "start_time": "2022-01-28T08:47:49.356Z"
   },
   {
    "duration": 37,
    "start_time": "2022-01-28T08:48:29.553Z"
   },
   {
    "duration": 42,
    "start_time": "2022-01-28T08:49:32.407Z"
   },
   {
    "duration": 36,
    "start_time": "2022-01-28T08:49:37.776Z"
   },
   {
    "duration": 47,
    "start_time": "2022-01-28T08:49:40.250Z"
   },
   {
    "duration": 48,
    "start_time": "2022-01-28T08:49:43.003Z"
   },
   {
    "duration": 38,
    "start_time": "2022-01-28T08:51:18.157Z"
   },
   {
    "duration": 111,
    "start_time": "2022-01-28T08:53:42.043Z"
   },
   {
    "duration": 106,
    "start_time": "2022-01-28T08:54:12.398Z"
   },
   {
    "duration": 99,
    "start_time": "2022-01-28T08:54:24.358Z"
   },
   {
    "duration": 54,
    "start_time": "2022-01-28T08:54:55.259Z"
   },
   {
    "duration": 41,
    "start_time": "2022-01-28T08:55:52.351Z"
   },
   {
    "duration": 555,
    "start_time": "2022-01-28T08:59:17.225Z"
   },
   {
    "duration": 37,
    "start_time": "2022-01-28T08:59:26.468Z"
   },
   {
    "duration": 31,
    "start_time": "2022-01-28T08:59:46.328Z"
   },
   {
    "duration": 26,
    "start_time": "2022-01-28T08:59:54.190Z"
   },
   {
    "duration": 31,
    "start_time": "2022-01-28T09:00:07.431Z"
   },
   {
    "duration": 33,
    "start_time": "2022-01-28T09:02:35.813Z"
   },
   {
    "duration": 31,
    "start_time": "2022-01-28T09:03:01.021Z"
   },
   {
    "duration": 28,
    "start_time": "2022-01-28T09:03:27.242Z"
   },
   {
    "duration": 31,
    "start_time": "2022-01-28T09:04:28.616Z"
   },
   {
    "duration": 89,
    "start_time": "2022-01-28T09:04:42.686Z"
   },
   {
    "duration": 916,
    "start_time": "2022-01-28T09:07:53.182Z"
   },
   {
    "duration": 981,
    "start_time": "2022-01-28T09:08:15.779Z"
   },
   {
    "duration": 1726,
    "start_time": "2022-01-28T09:08:45.713Z"
   },
   {
    "duration": 1937,
    "start_time": "2022-01-28T09:09:39.842Z"
   },
   {
    "duration": 1280,
    "start_time": "2022-01-28T09:09:59.065Z"
   },
   {
    "duration": 1246,
    "start_time": "2022-01-28T09:10:40.787Z"
   },
   {
    "duration": 930,
    "start_time": "2022-01-28T09:11:01.633Z"
   },
   {
    "duration": 1384,
    "start_time": "2022-01-28T09:11:48.099Z"
   },
   {
    "duration": 1174,
    "start_time": "2022-01-28T09:12:14.020Z"
   },
   {
    "duration": 882,
    "start_time": "2022-01-28T14:10:44.335Z"
   },
   {
    "duration": 744,
    "start_time": "2022-01-28T14:10:45.220Z"
   },
   {
    "duration": 1086,
    "start_time": "2022-01-28T14:10:45.967Z"
   },
   {
    "duration": 186,
    "start_time": "2022-01-28T14:10:47.057Z"
   },
   {
    "duration": 109,
    "start_time": "2022-01-28T14:10:47.246Z"
   },
   {
    "duration": 16,
    "start_time": "2022-01-28T14:10:47.357Z"
   },
   {
    "duration": 712,
    "start_time": "2022-01-28T14:10:47.378Z"
   },
   {
    "duration": 40,
    "start_time": "2022-01-28T14:10:48.094Z"
   },
   {
    "duration": 87,
    "start_time": "2022-01-28T14:10:48.137Z"
   },
   {
    "duration": 375,
    "start_time": "2022-01-28T14:10:48.227Z"
   },
   {
    "duration": 168,
    "start_time": "2022-01-28T14:10:48.605Z"
   },
   {
    "duration": 48,
    "start_time": "2022-01-28T14:10:48.775Z"
   },
   {
    "duration": 22,
    "start_time": "2022-01-28T14:10:48.826Z"
   },
   {
    "duration": 454,
    "start_time": "2022-01-28T14:10:48.850Z"
   },
   {
    "duration": 987,
    "start_time": "2022-01-28T14:10:49.307Z"
   },
   {
    "duration": 669,
    "start_time": "2022-01-28T14:10:50.297Z"
   },
   {
    "duration": 470,
    "start_time": "2022-01-28T14:10:50.969Z"
   },
   {
    "duration": 317,
    "start_time": "2022-01-28T14:10:51.442Z"
   },
   {
    "duration": 325,
    "start_time": "2022-01-28T14:10:51.761Z"
   },
   {
    "duration": 142,
    "start_time": "2022-01-28T14:10:52.088Z"
   },
   {
    "duration": 62,
    "start_time": "2022-01-28T14:10:52.232Z"
   },
   {
    "duration": 21,
    "start_time": "2022-01-28T14:10:52.323Z"
   },
   {
    "duration": 27,
    "start_time": "2022-01-28T14:10:52.349Z"
   },
   {
    "duration": 15,
    "start_time": "2022-01-28T14:10:52.379Z"
   },
   {
    "duration": 52,
    "start_time": "2022-01-28T14:10:52.396Z"
   },
   {
    "duration": 11,
    "start_time": "2022-01-28T14:10:52.450Z"
   },
   {
    "duration": 17,
    "start_time": "2022-01-28T14:10:52.464Z"
   },
   {
    "duration": 224,
    "start_time": "2022-01-28T14:10:52.484Z"
   },
   {
    "duration": 38,
    "start_time": "2022-01-28T14:10:52.724Z"
   },
   {
    "duration": 793,
    "start_time": "2022-01-28T14:10:52.764Z"
   },
   {
    "duration": 1828,
    "start_time": "2022-01-28T14:10:53.560Z"
   },
   {
    "duration": 814,
    "start_time": "2022-01-28T14:10:55.392Z"
   },
   {
    "duration": 979,
    "start_time": "2022-01-28T14:10:56.209Z"
   },
   {
    "duration": 409,
    "start_time": "2022-01-28T14:14:36.549Z"
   },
   {
    "duration": 285,
    "start_time": "2022-01-28T14:15:07.640Z"
   },
   {
    "duration": 484,
    "start_time": "2022-01-28T14:15:24.153Z"
   },
   {
    "duration": 290,
    "start_time": "2022-01-28T14:15:42.790Z"
   },
   {
    "duration": 103,
    "start_time": "2022-01-28T14:18:32.822Z"
   },
   {
    "duration": 182,
    "start_time": "2022-01-28T14:19:05.591Z"
   },
   {
    "duration": 175,
    "start_time": "2022-01-28T14:19:33.102Z"
   },
   {
    "duration": 1174,
    "start_time": "2022-01-28T14:19:48.257Z"
   },
   {
    "duration": 934,
    "start_time": "2022-01-28T14:20:50.493Z"
   },
   {
    "duration": 1600,
    "start_time": "2022-01-28T14:21:43.097Z"
   },
   {
    "duration": 304,
    "start_time": "2022-01-28T14:22:57.705Z"
   },
   {
    "duration": 1373,
    "start_time": "2022-01-28T14:24:16.637Z"
   },
   {
    "duration": 1300,
    "start_time": "2022-01-28T14:27:50.101Z"
   },
   {
    "duration": 1388,
    "start_time": "2022-01-28T14:28:38.659Z"
   },
   {
    "duration": 1317,
    "start_time": "2022-01-28T14:30:25.284Z"
   },
   {
    "duration": 1149,
    "start_time": "2022-01-28T14:38:40.478Z"
   },
   {
    "duration": 650,
    "start_time": "2022-01-28T14:38:51.501Z"
   },
   {
    "duration": 373,
    "start_time": "2022-01-28T21:18:20.473Z"
   },
   {
    "duration": 4,
    "start_time": "2022-01-28T21:28:21.193Z"
   },
   {
    "duration": 728,
    "start_time": "2022-01-28T21:28:21.199Z"
   },
   {
    "duration": 1132,
    "start_time": "2022-01-28T21:28:21.930Z"
   },
   {
    "duration": 186,
    "start_time": "2022-01-28T21:28:23.065Z"
   },
   {
    "duration": 103,
    "start_time": "2022-01-28T21:28:23.254Z"
   },
   {
    "duration": 13,
    "start_time": "2022-01-28T21:28:23.360Z"
   },
   {
    "duration": 754,
    "start_time": "2022-01-28T21:28:23.376Z"
   },
   {
    "duration": 23,
    "start_time": "2022-01-28T21:28:24.133Z"
   },
   {
    "duration": 99,
    "start_time": "2022-01-28T21:28:24.159Z"
   },
   {
    "duration": 308,
    "start_time": "2022-01-28T21:28:24.261Z"
   },
   {
    "duration": 145,
    "start_time": "2022-01-28T21:28:24.577Z"
   },
   {
    "duration": 37,
    "start_time": "2022-01-28T21:28:24.725Z"
   },
   {
    "duration": 23,
    "start_time": "2022-01-28T21:28:24.764Z"
   },
   {
    "duration": 485,
    "start_time": "2022-01-28T21:28:24.789Z"
   },
   {
    "duration": 731,
    "start_time": "2022-01-28T21:28:25.276Z"
   },
   {
    "duration": 568,
    "start_time": "2022-01-28T21:28:26.010Z"
   },
   {
    "duration": 344,
    "start_time": "2022-01-28T21:28:26.581Z"
   },
   {
    "duration": 322,
    "start_time": "2022-01-28T21:28:26.927Z"
   },
   {
    "duration": 339,
    "start_time": "2022-01-28T21:28:27.252Z"
   },
   {
    "duration": 136,
    "start_time": "2022-01-28T21:28:27.593Z"
   },
   {
    "duration": 70,
    "start_time": "2022-01-28T21:28:27.732Z"
   },
   {
    "duration": 26,
    "start_time": "2022-01-28T21:28:27.824Z"
   },
   {
    "duration": 17,
    "start_time": "2022-01-28T21:28:27.853Z"
   },
   {
    "duration": 11,
    "start_time": "2022-01-28T21:28:27.872Z"
   },
   {
    "duration": 32,
    "start_time": "2022-01-28T21:28:27.924Z"
   },
   {
    "duration": 13,
    "start_time": "2022-01-28T21:28:27.959Z"
   },
   {
    "duration": 51,
    "start_time": "2022-01-28T21:28:27.975Z"
   },
   {
    "duration": 214,
    "start_time": "2022-01-28T21:28:28.029Z"
   },
   {
    "duration": 33,
    "start_time": "2022-01-28T21:28:28.247Z"
   },
   {
    "duration": 101,
    "start_time": "2022-01-28T21:28:28.283Z"
   },
   {
    "duration": 1279,
    "start_time": "2022-01-28T21:28:28.387Z"
   },
   {
    "duration": 851,
    "start_time": "2022-01-28T21:28:29.668Z"
   },
   {
    "duration": 1157,
    "start_time": "2022-01-28T21:28:30.525Z"
   },
   {
    "duration": 1353,
    "start_time": "2022-01-28T21:28:31.684Z"
   },
   {
    "duration": 1377,
    "start_time": "2022-01-28T21:28:33.039Z"
   },
   {
    "duration": 842,
    "start_time": "2022-01-28T21:28:54.189Z"
   },
   {
    "duration": 681,
    "start_time": "2022-01-28T21:29:05.019Z"
   },
   {
    "duration": 792,
    "start_time": "2022-01-28T21:29:58.879Z"
   },
   {
    "duration": 121,
    "start_time": "2022-01-28T21:44:11.371Z"
   },
   {
    "duration": 6,
    "start_time": "2022-01-28T21:44:26.007Z"
   },
   {
    "duration": 413,
    "start_time": "2022-01-28T21:49:20.312Z"
   },
   {
    "duration": 6,
    "start_time": "2022-01-28T21:52:34.935Z"
   },
   {
    "duration": 5,
    "start_time": "2022-01-28T21:53:11.504Z"
   },
   {
    "duration": 9,
    "start_time": "2022-01-28T21:56:12.638Z"
   },
   {
    "duration": 10,
    "start_time": "2022-01-28T21:57:04.835Z"
   },
   {
    "duration": 430,
    "start_time": "2022-01-28T22:05:03.898Z"
   },
   {
    "duration": 10,
    "start_time": "2022-01-28T22:06:25.002Z"
   },
   {
    "duration": 8,
    "start_time": "2022-01-28T22:06:39.349Z"
   },
   {
    "duration": 9,
    "start_time": "2022-01-28T22:06:57.800Z"
   },
   {
    "duration": 8,
    "start_time": "2022-01-28T22:07:49.386Z"
   },
   {
    "duration": 7,
    "start_time": "2022-01-28T22:09:45.939Z"
   },
   {
    "duration": 7,
    "start_time": "2022-01-28T22:09:50.935Z"
   },
   {
    "duration": 9,
    "start_time": "2022-01-28T22:09:56.520Z"
   },
   {
    "duration": 9,
    "start_time": "2022-01-28T22:43:24.532Z"
   },
   {
    "duration": 8,
    "start_time": "2022-01-28T22:43:34.221Z"
   },
   {
    "duration": 16,
    "start_time": "2022-01-28T22:47:01.129Z"
   },
   {
    "duration": 8,
    "start_time": "2022-01-28T22:48:24.971Z"
   },
   {
    "duration": 10,
    "start_time": "2022-01-28T22:49:33.021Z"
   },
   {
    "duration": 9,
    "start_time": "2022-01-28T22:49:37.544Z"
   },
   {
    "duration": 8,
    "start_time": "2022-01-28T22:49:46.622Z"
   },
   {
    "duration": 8,
    "start_time": "2022-01-28T22:52:17.488Z"
   },
   {
    "duration": 8,
    "start_time": "2022-01-28T22:52:27.203Z"
   },
   {
    "duration": 9,
    "start_time": "2022-01-28T23:08:18.296Z"
   },
   {
    "duration": 7,
    "start_time": "2022-01-28T23:08:25.529Z"
   },
   {
    "duration": 7,
    "start_time": "2022-01-28T23:09:38.904Z"
   },
   {
    "duration": 8,
    "start_time": "2022-01-28T23:09:46.765Z"
   },
   {
    "duration": 5,
    "start_time": "2022-01-28T23:54:17.832Z"
   },
   {
    "duration": 742,
    "start_time": "2022-01-28T23:54:18.068Z"
   },
   {
    "duration": 1050,
    "start_time": "2022-01-28T23:54:18.813Z"
   },
   {
    "duration": 170,
    "start_time": "2022-01-28T23:54:19.867Z"
   },
   {
    "duration": 70,
    "start_time": "2022-01-28T23:54:20.984Z"
   },
   {
    "duration": 12,
    "start_time": "2022-01-28T23:54:21.623Z"
   },
   {
    "duration": 678,
    "start_time": "2022-01-28T23:54:22.249Z"
   },
   {
    "duration": 18,
    "start_time": "2022-01-28T23:54:22.929Z"
   },
   {
    "duration": 80,
    "start_time": "2022-01-28T23:54:22.949Z"
   },
   {
    "duration": 268,
    "start_time": "2022-01-28T23:54:23.330Z"
   },
   {
    "duration": 123,
    "start_time": "2022-01-28T23:54:23.770Z"
   },
   {
    "duration": 30,
    "start_time": "2022-01-28T23:54:25.424Z"
   },
   {
    "duration": 23,
    "start_time": "2022-01-28T23:54:25.824Z"
   },
   {
    "duration": 420,
    "start_time": "2022-01-28T23:54:26.237Z"
   },
   {
    "duration": 759,
    "start_time": "2022-01-28T23:54:27.144Z"
   },
   {
    "duration": 455,
    "start_time": "2022-01-28T23:54:27.907Z"
   },
   {
    "duration": 302,
    "start_time": "2022-01-28T23:54:29.767Z"
   },
   {
    "duration": 296,
    "start_time": "2022-01-28T23:54:30.765Z"
   },
   {
    "duration": 311,
    "start_time": "2022-01-28T23:54:31.464Z"
   },
   {
    "duration": 120,
    "start_time": "2022-01-28T23:54:32.681Z"
   },
   {
    "duration": 63,
    "start_time": "2022-01-28T23:54:38.589Z"
   },
   {
    "duration": 21,
    "start_time": "2022-01-28T23:54:41.284Z"
   },
   {
    "duration": 16,
    "start_time": "2022-01-28T23:54:41.952Z"
   },
   {
    "duration": 11,
    "start_time": "2022-01-28T23:54:53.895Z"
   },
   {
    "duration": 26,
    "start_time": "2022-01-28T23:55:55.575Z"
   },
   {
    "duration": 101,
    "start_time": "2022-01-28T23:59:34.121Z"
   },
   {
    "duration": 387,
    "start_time": "2022-01-29T00:00:32.687Z"
   },
   {
    "duration": 103,
    "start_time": "2022-01-29T00:01:41.009Z"
   },
   {
    "duration": 9,
    "start_time": "2022-01-29T00:01:49.565Z"
   },
   {
    "duration": 9,
    "start_time": "2022-01-29T00:02:22.759Z"
   },
   {
    "duration": 407,
    "start_time": "2022-01-29T00:03:11.179Z"
   },
   {
    "duration": 9,
    "start_time": "2022-01-29T00:03:55.254Z"
   },
   {
    "duration": 322,
    "start_time": "2022-01-29T00:04:15.971Z"
   },
   {
    "duration": 9,
    "start_time": "2022-01-29T00:06:15.030Z"
   },
   {
    "duration": 9,
    "start_time": "2022-01-29T00:06:24.898Z"
   },
   {
    "duration": 9,
    "start_time": "2022-01-29T00:07:03.866Z"
   },
   {
    "duration": 16,
    "start_time": "2022-01-29T00:09:44.534Z"
   },
   {
    "duration": 7,
    "start_time": "2022-01-29T00:14:22.740Z"
   },
   {
    "duration": 1286,
    "start_time": "2022-01-29T00:26:23.400Z"
   },
   {
    "duration": 684,
    "start_time": "2022-01-29T00:26:24.688Z"
   },
   {
    "duration": 1017,
    "start_time": "2022-01-29T00:26:25.374Z"
   },
   {
    "duration": 190,
    "start_time": "2022-01-29T00:26:26.395Z"
   },
   {
    "duration": 100,
    "start_time": "2022-01-29T00:26:26.588Z"
   },
   {
    "duration": 14,
    "start_time": "2022-01-29T00:26:26.690Z"
   },
   {
    "duration": 670,
    "start_time": "2022-01-29T00:26:26.706Z"
   },
   {
    "duration": 23,
    "start_time": "2022-01-29T00:26:27.383Z"
   },
   {
    "duration": 68,
    "start_time": "2022-01-29T00:26:27.426Z"
   },
   {
    "duration": 296,
    "start_time": "2022-01-29T00:26:27.497Z"
   },
   {
    "duration": 137,
    "start_time": "2022-01-29T00:26:27.796Z"
   },
   {
    "duration": 28,
    "start_time": "2022-01-29T00:26:27.935Z"
   },
   {
    "duration": 22,
    "start_time": "2022-01-29T00:26:27.965Z"
   },
   {
    "duration": 447,
    "start_time": "2022-01-29T00:26:27.989Z"
   },
   {
    "duration": 686,
    "start_time": "2022-01-29T00:26:28.439Z"
   },
   {
    "duration": 427,
    "start_time": "2022-01-29T00:26:29.128Z"
   },
   {
    "duration": 313,
    "start_time": "2022-01-29T00:26:29.557Z"
   },
   {
    "duration": 362,
    "start_time": "2022-01-29T00:26:29.872Z"
   },
   {
    "duration": 328,
    "start_time": "2022-01-29T00:26:30.236Z"
   },
   {
    "duration": 125,
    "start_time": "2022-01-29T00:26:30.567Z"
   },
   {
    "duration": 74,
    "start_time": "2022-01-29T00:26:30.694Z"
   },
   {
    "duration": 19,
    "start_time": "2022-01-29T00:26:30.771Z"
   },
   {
    "duration": 39,
    "start_time": "2022-01-29T00:26:30.795Z"
   },
   {
    "duration": 28,
    "start_time": "2022-01-29T00:26:30.837Z"
   },
   {
    "duration": 32,
    "start_time": "2022-01-29T00:26:30.868Z"
   },
   {
    "duration": 27,
    "start_time": "2022-01-29T00:26:30.902Z"
   },
   {
    "duration": 11,
    "start_time": "2022-01-29T00:26:30.932Z"
   },
   {
    "duration": 28,
    "start_time": "2022-01-29T00:26:30.945Z"
   },
   {
    "duration": 202,
    "start_time": "2022-01-29T00:26:30.976Z"
   },
   {
    "duration": 57,
    "start_time": "2022-01-29T00:26:31.180Z"
   },
   {
    "duration": 709,
    "start_time": "2022-01-29T00:26:31.240Z"
   },
   {
    "duration": 1160,
    "start_time": "2022-01-29T00:26:31.952Z"
   },
   {
    "duration": 861,
    "start_time": "2022-01-29T00:26:33.114Z"
   },
   {
    "duration": 1070,
    "start_time": "2022-01-29T00:26:33.978Z"
   },
   {
    "duration": 681,
    "start_time": "2022-01-29T00:26:35.050Z"
   },
   {
    "duration": 1235,
    "start_time": "2022-01-29T00:26:35.734Z"
   },
   {
    "duration": 8,
    "start_time": "2022-01-29T00:26:36.972Z"
   },
   {
    "duration": 7,
    "start_time": "2022-01-29T00:26:36.983Z"
   },
   {
    "duration": 38,
    "start_time": "2022-01-29T00:26:36.993Z"
   },
   {
    "duration": 6,
    "start_time": "2022-01-29T00:26:37.034Z"
   },
   {
    "duration": 1098,
    "start_time": "2022-02-06T14:48:52.893Z"
   },
   {
    "duration": 544,
    "start_time": "2022-02-06T14:48:53.994Z"
   },
   {
    "duration": 965,
    "start_time": "2022-02-06T14:48:54.540Z"
   },
   {
    "duration": 126,
    "start_time": "2022-02-06T14:48:55.507Z"
   },
   {
    "duration": 78,
    "start_time": "2022-02-06T14:48:55.635Z"
   },
   {
    "duration": 9,
    "start_time": "2022-02-06T14:48:55.714Z"
   },
   {
    "duration": 526,
    "start_time": "2022-02-06T14:48:55.726Z"
   },
   {
    "duration": 16,
    "start_time": "2022-02-06T14:48:56.255Z"
   },
   {
    "duration": 66,
    "start_time": "2022-02-06T14:48:56.273Z"
   },
   {
    "duration": 219,
    "start_time": "2022-02-06T14:48:56.341Z"
   },
   {
    "duration": 83,
    "start_time": "2022-02-06T14:48:56.562Z"
   },
   {
    "duration": 22,
    "start_time": "2022-02-06T14:48:56.647Z"
   },
   {
    "duration": 35,
    "start_time": "2022-02-06T14:48:56.671Z"
   },
   {
    "duration": 321,
    "start_time": "2022-02-06T14:48:56.708Z"
   },
   {
    "duration": 527,
    "start_time": "2022-02-06T14:48:57.030Z"
   },
   {
    "duration": 344,
    "start_time": "2022-02-06T14:48:57.559Z"
   },
   {
    "duration": 250,
    "start_time": "2022-02-06T14:48:57.905Z"
   },
   {
    "duration": 297,
    "start_time": "2022-02-06T14:48:58.156Z"
   },
   {
    "duration": 244,
    "start_time": "2022-02-06T14:48:58.455Z"
   },
   {
    "duration": 99,
    "start_time": "2022-02-06T14:48:58.701Z"
   },
   {
    "duration": 43,
    "start_time": "2022-02-06T14:48:58.802Z"
   },
   {
    "duration": 14,
    "start_time": "2022-02-06T14:48:58.847Z"
   },
   {
    "duration": 39,
    "start_time": "2022-02-06T14:48:58.865Z"
   },
   {
    "duration": 6,
    "start_time": "2022-02-06T14:48:58.906Z"
   },
   {
    "duration": 15,
    "start_time": "2022-02-06T14:48:58.914Z"
   },
   {
    "duration": 19,
    "start_time": "2022-02-06T14:48:58.931Z"
   },
   {
    "duration": 9,
    "start_time": "2022-02-06T14:48:58.952Z"
   },
   {
    "duration": 41,
    "start_time": "2022-02-06T14:48:58.963Z"
   },
   {
    "duration": 135,
    "start_time": "2022-02-06T14:48:59.007Z"
   },
   {
    "duration": 23,
    "start_time": "2022-02-06T14:48:59.144Z"
   },
   {
    "duration": 350,
    "start_time": "2022-02-06T14:48:59.168Z"
   },
   {
    "duration": 853,
    "start_time": "2022-02-06T14:48:59.520Z"
   },
   {
    "duration": 584,
    "start_time": "2022-02-06T14:49:00.375Z"
   },
   {
    "duration": 812,
    "start_time": "2022-02-06T14:49:00.960Z"
   },
   {
    "duration": 503,
    "start_time": "2022-02-06T14:49:01.774Z"
   },
   {
    "duration": 957,
    "start_time": "2022-02-06T14:49:02.278Z"
   },
   {
    "duration": 5,
    "start_time": "2022-02-06T14:49:03.237Z"
   },
   {
    "duration": 10,
    "start_time": "2022-02-06T14:49:03.244Z"
   },
   {
    "duration": 25,
    "start_time": "2022-02-06T14:49:03.256Z"
   },
   {
    "duration": 26,
    "start_time": "2022-02-06T14:49:03.283Z"
   },
   {
    "duration": 1075,
    "start_time": "2022-02-06T15:05:22.525Z"
   },
   {
    "duration": 545,
    "start_time": "2022-02-06T15:05:23.602Z"
   },
   {
    "duration": 962,
    "start_time": "2022-02-06T15:05:24.149Z"
   },
   {
    "duration": 134,
    "start_time": "2022-02-06T15:05:25.113Z"
   },
   {
    "duration": 83,
    "start_time": "2022-02-06T15:05:25.249Z"
   },
   {
    "duration": 10,
    "start_time": "2022-02-06T15:05:25.334Z"
   },
   {
    "duration": 531,
    "start_time": "2022-02-06T15:05:25.346Z"
   },
   {
    "duration": 23,
    "start_time": "2022-02-06T15:05:25.879Z"
   },
   {
    "duration": 54,
    "start_time": "2022-02-06T15:05:25.904Z"
   },
   {
    "duration": 233,
    "start_time": "2022-02-06T15:05:25.960Z"
   },
   {
    "duration": 76,
    "start_time": "2022-02-06T15:05:26.198Z"
   },
   {
    "duration": 34,
    "start_time": "2022-02-06T15:05:26.276Z"
   },
   {
    "duration": 19,
    "start_time": "2022-02-06T15:05:26.311Z"
   },
   {
    "duration": 356,
    "start_time": "2022-02-06T15:05:26.332Z"
   },
   {
    "duration": 526,
    "start_time": "2022-02-06T15:05:26.690Z"
   },
   {
    "duration": 343,
    "start_time": "2022-02-06T15:05:27.218Z"
   },
   {
    "duration": 253,
    "start_time": "2022-02-06T15:05:27.563Z"
   },
   {
    "duration": 296,
    "start_time": "2022-02-06T15:05:27.818Z"
   },
   {
    "duration": 249,
    "start_time": "2022-02-06T15:05:28.116Z"
   },
   {
    "duration": 106,
    "start_time": "2022-02-06T15:05:28.367Z"
   },
   {
    "duration": 54,
    "start_time": "2022-02-06T15:05:28.475Z"
   },
   {
    "duration": 15,
    "start_time": "2022-02-06T15:05:28.530Z"
   },
   {
    "duration": 17,
    "start_time": "2022-02-06T15:05:28.549Z"
   },
   {
    "duration": 30,
    "start_time": "2022-02-06T15:05:28.569Z"
   },
   {
    "duration": 22,
    "start_time": "2022-02-06T15:05:28.601Z"
   },
   {
    "duration": 23,
    "start_time": "2022-02-06T15:05:28.625Z"
   },
   {
    "duration": 8,
    "start_time": "2022-02-06T15:05:28.649Z"
   },
   {
    "duration": 19,
    "start_time": "2022-02-06T15:05:28.659Z"
   },
   {
    "duration": 146,
    "start_time": "2022-02-06T15:05:28.680Z"
   },
   {
    "duration": 21,
    "start_time": "2022-02-06T15:05:28.828Z"
   },
   {
    "duration": 366,
    "start_time": "2022-02-06T15:05:28.851Z"
   },
   {
    "duration": 864,
    "start_time": "2022-02-06T15:05:29.219Z"
   },
   {
    "duration": 598,
    "start_time": "2022-02-06T15:05:30.085Z"
   },
   {
    "duration": 825,
    "start_time": "2022-02-06T15:05:30.685Z"
   },
   {
    "duration": 492,
    "start_time": "2022-02-06T15:05:31.512Z"
   },
   {
    "duration": 948,
    "start_time": "2022-02-06T15:05:32.006Z"
   },
   {
    "duration": 6,
    "start_time": "2022-02-06T15:05:32.956Z"
   },
   {
    "duration": 12,
    "start_time": "2022-02-06T15:05:32.963Z"
   },
   {
    "duration": 27,
    "start_time": "2022-02-06T15:05:32.977Z"
   },
   {
    "duration": 5,
    "start_time": "2022-02-06T15:05:33.006Z"
   },
   {
    "duration": 844,
    "start_time": "2022-02-06T16:08:50.185Z"
   },
   {
    "duration": 939,
    "start_time": "2022-02-06T16:08:57.106Z"
   },
   {
    "duration": 6,
    "start_time": "2022-02-06T16:11:53.098Z"
   },
   {
    "duration": 6,
    "start_time": "2022-02-06T16:11:56.236Z"
   },
   {
    "duration": 18,
    "start_time": "2022-02-06T16:13:44.219Z"
   },
   {
    "duration": 1391,
    "start_time": "2022-02-06T16:35:21.219Z"
   },
   {
    "duration": 646,
    "start_time": "2022-02-06T16:35:22.612Z"
   },
   {
    "duration": 965,
    "start_time": "2022-02-06T16:35:23.261Z"
   },
   {
    "duration": 162,
    "start_time": "2022-02-06T16:35:24.250Z"
   },
   {
    "duration": 85,
    "start_time": "2022-02-06T16:35:24.415Z"
   },
   {
    "duration": 12,
    "start_time": "2022-02-06T16:35:24.502Z"
   },
   {
    "duration": 693,
    "start_time": "2022-02-06T16:35:24.517Z"
   },
   {
    "duration": 21,
    "start_time": "2022-02-06T16:35:25.213Z"
   },
   {
    "duration": 62,
    "start_time": "2022-02-06T16:35:25.250Z"
   },
   {
    "duration": 287,
    "start_time": "2022-02-06T16:35:25.315Z"
   },
   {
    "duration": 138,
    "start_time": "2022-02-06T16:35:25.604Z"
   },
   {
    "duration": 28,
    "start_time": "2022-02-06T16:35:25.745Z"
   },
   {
    "duration": 21,
    "start_time": "2022-02-06T16:35:25.776Z"
   },
   {
    "duration": 451,
    "start_time": "2022-02-06T16:35:25.800Z"
   },
   {
    "duration": 744,
    "start_time": "2022-02-06T16:35:26.254Z"
   },
   {
    "duration": 457,
    "start_time": "2022-02-06T16:35:27.002Z"
   },
   {
    "duration": 325,
    "start_time": "2022-02-06T16:35:27.462Z"
   },
   {
    "duration": 382,
    "start_time": "2022-02-06T16:35:27.790Z"
   },
   {
    "duration": 315,
    "start_time": "2022-02-06T16:35:28.175Z"
   },
   {
    "duration": 125,
    "start_time": "2022-02-06T16:35:28.492Z"
   },
   {
    "duration": 65,
    "start_time": "2022-02-06T16:35:28.620Z"
   },
   {
    "duration": 21,
    "start_time": "2022-02-06T16:35:28.688Z"
   },
   {
    "duration": 44,
    "start_time": "2022-02-06T16:35:28.712Z"
   },
   {
    "duration": 8,
    "start_time": "2022-02-06T16:35:28.758Z"
   },
   {
    "duration": 21,
    "start_time": "2022-02-06T16:35:28.768Z"
   },
   {
    "duration": 28,
    "start_time": "2022-02-06T16:35:28.791Z"
   },
   {
    "duration": 10,
    "start_time": "2022-02-06T16:35:28.852Z"
   },
   {
    "duration": 17,
    "start_time": "2022-02-06T16:35:28.864Z"
   },
   {
    "duration": 199,
    "start_time": "2022-02-06T16:35:28.883Z"
   },
   {
    "duration": 35,
    "start_time": "2022-02-06T16:35:29.084Z"
   },
   {
    "duration": 663,
    "start_time": "2022-02-06T16:35:29.149Z"
   },
   {
    "duration": 1166,
    "start_time": "2022-02-06T16:35:29.816Z"
   },
   {
    "duration": 785,
    "start_time": "2022-02-06T16:35:30.985Z"
   },
   {
    "duration": 1087,
    "start_time": "2022-02-06T16:35:31.772Z"
   },
   {
    "duration": 658,
    "start_time": "2022-02-06T16:35:32.861Z"
   },
   {
    "duration": 1257,
    "start_time": "2022-02-06T16:35:33.522Z"
   },
   {
    "duration": 7,
    "start_time": "2022-02-06T16:35:34.782Z"
   },
   {
    "duration": 8,
    "start_time": "2022-02-06T16:35:34.791Z"
   },
   {
    "duration": 14,
    "start_time": "2022-02-06T16:35:34.802Z"
   },
   {
    "duration": 7,
    "start_time": "2022-02-06T16:35:34.849Z"
   },
   {
    "duration": 9,
    "start_time": "2022-02-06T16:36:12.036Z"
   }
  ],
  "kernelspec": {
   "display_name": "Python 3 (ipykernel)",
   "language": "python",
   "name": "python3"
  },
  "language_info": {
   "codemirror_mode": {
    "name": "ipython",
    "version": 3
   },
   "file_extension": ".py",
   "mimetype": "text/x-python",
   "name": "python",
   "nbconvert_exporter": "python",
   "pygments_lexer": "ipython3",
   "version": "3.9.7"
  },
  "toc": {
   "base_numbering": 1,
   "nav_menu": {},
   "number_sections": true,
   "sideBar": true,
   "skip_h1_title": true,
   "title_cell": "Содержание работы",
   "title_sidebar": "Содержание",
   "toc_cell": true,
   "toc_position": {
    "height": "calc(100% - 180px)",
    "left": "10px",
    "top": "150px",
    "width": "228px"
   },
   "toc_section_display": true,
   "toc_window_display": false
  }
 },
 "nbformat": 4,
 "nbformat_minor": 2
}
